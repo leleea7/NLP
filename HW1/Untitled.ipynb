{
 "cells": [
  {
   "cell_type": "code",
   "execution_count": 2,
   "metadata": {},
   "outputs": [],
   "source": [
    "import os\n",
    "import tqdm"
   ]
  },
  {
   "cell_type": "code",
   "execution_count": null,
   "metadata": {},
   "outputs": [
    {
     "name": "stderr",
     "output_type": "stream",
     "text": [
      "\n",
      "  0%|                                                | 0/24526 [00:00<?, ?it/s]"
     ]
    },
    {
     "name": "stdout",
     "output_type": "stream",
     "text": [
      "test_0.txt\n",
      "test_1.txt\n",
      "test_2.txt\n",
      "test_3.txt\n",
      "test_4.txt\n",
      "test_5.txt\n"
     ]
    },
    {
     "name": "stdout",
     "output_type": "stream",
     "text": [
      "['Urban Cowboy is a 1980 American western romantic drama film about the love-hate relationship between Buford Uan \"Bud\" Davis (John Travolta) and Sissy (Debra Winger). The movie captured the late 1970s/early 1980s popularity of country music. It was John Travolta\\'s third major acting role after Saturday Night Fever and Grease. Much of the action centers around activities at Gilley\\'s Club, a honky tonk in Pasadena, Texas.\\n', 'The film\\'s screenplay was adapted by Aaron Latham and James Bridges from an article by the same name in Esquire Magazine written by Latham. The original Esquire article centered on the romance between two Gilley\\'s regulars named Dew Westbrook and Betty Helmer. Westbrook and Helmer\\'s real life relationship became the inspiration for the on screen romance between John Travolta\\'s and Debra Winger\\'s characters \"Bud\" and \"Sissy\". The movie was directed by Bridges. Some film critics referred to the movie as a country music version of Saturday Night Fever. The film grossed almost $47 million in the United States alone, and temporarily recovered Travolta from the flop Moment by Moment (1978), but the film was nowhere near as successful as either Saturday Night Fever ($94 million) or Grease ($188 million).\\n', \"While filming Urban Cowboy, John Travolta had a private corner at the Westheimer Road location of the Ninfa's restaurant in Houston.\\n\", 'Urban Cowboy was the first motion picture to be choreographed by Patsy Swayze, which launched her career as a film choreographer.\\n', 'John Travolta, et al, rented a home in the Memorial area overlooking Buffalo Bayou on or about 110 Shasta Drive, Houston, Texas 77024. The entourage was frequently seen driving back and forth down Lindenwood Drive and Shasta Drive while filming in Houston.\\n', \"Bud Davis (John Travolta) moves to Houston for a job in the city's oil refinery industry. He hopes to save enough money to move back to his hometown of Spur, Texas and buy some land. Bud stays with his Uncle Bob (Barry Corbin) and his family, with whom Bud is close. Bob takes Bud to the local honky tonk, Gilley's (at the time, an actual bar in Pasadena, co-owned by singer Mickey Gilley and his record producer Sherwood Cryer). Bud quickly embraces the local nightlife there.\\n\", \"At the club, Bud meets Sissy (Debra Winger), who asks if he is a real cowboy. They fall in love, and soon after Bud asks Sissy to marry him. Their wedding reception is held at Gilley's, and they immediately move into a brand new mobile home. Although they are in love and passionate, Bud and Sissy have many quarrels. Sissy is a feisty, independent woman while Bud believes in traditional gender roles. However, their lives settle into a routine of work by day and Gilley's at night, where Bud takes a liking to riding the mechanical bull. When Sissy also wants to ride, he forbids her.\\n\", \"Wes Hightower (Scott Glenn), on parole from Huntsville Penitentiary, lands a job at Gilley's running the mechanical bull due to his rodeo skills. He flirts with Sissy, who is flattered, but a drunken Bud is enraged, and he and Wes end up in a fist fight. Sissy, against Bud's wishes, spends time at Gilley's during the day learning how to ride the mechanical bull. One night, Jessie, Sissy's friend, and Wes convince Sissy to ride the bull. She does it to impress Bud, but he becomes angry and resentful that Sissy defied him, and challenges her. When Bud falls off during his second ride in that challenge, Wes swings the bull around fast, breaking Bud's arm. At home, Sissy accuses Bud of being jealous because she rides the bull better than he can. Bud slaps her and throws her out of the trailer.\\n\", \"Shortly after, Sissy and Bud see each other at Gilley's, but Sissy, still angry, refuses to talk to Bud. To make Sissy jealous, Bud introduces himself to a beautiful girl named Pam (Madolyn Smith) and dances with her, while Sissy dances with Wes. Bud and Pam leave together but Sissy, upset, declines Wes' sexual advances. Soon after, however, Sissy moves in with Wes, who lives in a run-down trailer behind Gilley's.\\n\", \"Bud wants to enter the mechanical bull riding contest at Gilley's and starts training with his uncle Bob, a former rodeo champion. Bob advises Bud to swallow his pride and make up with Sissy. Meanwhile, Sissy returns to their mobile home to pick up her things, but she also cleans house and leaves Bud a note saying she hopes they can get back together. Pam arrives, and after Sissy leaves, Pam throws the note away. Meanwhile, Sissy catches Wes with Marshalene, who works at Gilley's. Wes is abusive when Sissy reacts angrily.\\n\", \"Uncle Bob is killed in an explosion at the refinery. At his funeral, Sissy tells Bud that Wes was fired from Gilley's and is unable to find another job. They are going to Mexico after Wes wins the $5000 prize at the bull riding contest. It is Bud who wins the contest, however, and Pam, realizing that he still loves Sissy, encourages him to reconcile with her.\\n\", \"Sissy refuses to go to Mexico with Wes, but relents after he hits her. He orders her to wait for him in her car behind Gilley's. Unknown to Sissy, Wes is inside stealing the prize money. Bud finds Sissy in the parking lot and tells her he still loves her. She reciprocates and they embrace. Seeing Sissy's bruised face, Bud goes after Wes and a fight ensues at the bar entrance. The fight causes Wes to drop his gun, and the stolen money falls from his jacket. Bud overpowers Wes and after punching him several times, pins him down on the floor. Gilley's staff, having discovered the robbery, apprehend Wes. Bud and Sissy, reconciled, go home together.\\n\", 'John Travolta as Bud Davis\\n', 'Debra Winger as Sissy Davis\\n', 'Scott Glenn as Wes Hightower\\n', 'Madolyn Smith as Pam\\n', 'Barry Corbin as Bob Davis\\n', 'Brooke Alderson as Corene Davis\\n', 'Cooper Huckabee as Marshall\\n', 'James Gammon as Steve Strange\\n', 'Steve Strange as Sam Strange\\n', 'Mickey Gilley as Himself\\n', 'Johnny Lee as Himself\\n', 'Bonnie Raitt as Herself\\n', 'Charlie Daniels as Himself\\n', 'Ellen March as Becky\\n', 'Jessie La Rive as Jessie\\n', 'Howard Henson as Himself\\n', 'Connie Hanson as Marshalene\\n', 'The film received generally positive reviews from critics. On Rotten Tomatoes, the movie received a 77% \"Fresh\" rating. \"Urban Cowboy is not only most entertaining but also first-rate social criticism,\" said Vincent Canby of The New York Times. Variety\\'s staff members wrote, \"Director James Bridges has ably captured the atmosphere of one of the most famous chip-kicker hangouts of all: Gilley\\'s Club on the outskirts of Houston.\"\\n', 'The film gave Pasadena and Houston a brief turn under the Hollywood spotlight. Andy Warhol, Jerry Hall, and many other celebrities attended the premiere in Houston.\\n', \"Mickey Gilley's career was re-lit after the film release, and the soundtrack started a music movement.\\n\", 'The movie featured a hit soundtrack album spawning numerous Top 10 Billboard Country Singles, such as #1 \"Lookin\\' for Love\" by Johnny Lee, #1 \"Stand by Me\" by Mickey Gilley, #3 (AC chart) \"Look What You\\'ve Done to Me\" by Boz Scaggs, #1 \"Could I Have This Dance\" by Anne Murray, and #4 \"Love the World Away\" by Kenny Rogers. It also included songs that were hits from earlier years such as #1 \"The Devil Went Down to Georgia\" by the Charlie Daniels Band and \"Lyin\\' Eyes\" by the Eagles. The film is said to have started the 1980s boom in pop-country music known as the \"Urban Cowboy Movement\" also known as Neo-Country or Hill Boogie.\\n', 'Released as a double LP, re-released on CD in 1995.\\n', 'Side A:\\n', 'Hello Texas – Jimmy Buffett (2:33)\\n', 'All Night Long – Joe Walsh (3:50)\\n', 'Times Like These – Dan Fogelberg (3:02)\\n', 'Nine Tonight – Bob Seger & The Silver Bullet Band (6:35)\\n', 'Side B:\\n', 'Stand By Me – Mickey Gilley (3:35)\\n', 'Cherokee Fiddle – Johnny Lee (4:06)\\n', 'Could I Have This Dance – Anne Murray (3:14)\\n', \"Lyin' Eyes – The Eagles (6:23)\\n\", 'Side C:\\n', \"Lookin' for Love – Johnny Lee (3:41)\\n\", \"Don't it Make You Want to Dance – Bonnie Raitt (3:29)\\n\", 'The Devil Went Down to Georgia – Charlie Daniels Band (3:35)\\n', 'Here Comes the Hurt Again – Mickey Gilley (2:41)\\n', 'Orange Blossom Special / Hoedown – Gilley\\'s \"Urban Cowboy\" Band (2:06)\\n', 'Side D:\\n', 'Love the World Away – Kenny Rogers (3:11)\\n', 'Falling in Love for the Night – Charlie Daniels Band (3:00)\\n', \"Darlin' – Bonnie Raitt (2:34)\\n\", \"Look What You've Done to Me – Boz Scaggs (5:39)\\n\", 'Hearts Against the Wind – Linda Ronstadt with J. D. Souther (2:58)\\n', 'On May 28, 2015, it was announced that 20th Century Fox Television had teamed-up with Paramount Television to adapt the 1980s film Urban Cowboy into a television series, and set Craig Brewer to write and direct the pilot, while to executive produce the whole series. Chris Levinson was set as the showrunner and would executive produce the series along with Robert Evans and Sue Naegle. In December, FOX passed on the pilot.\\n', 'Country music\\n']\n"
     ]
    },
    {
     "name": "stdout",
     "output_type": "stream",
     "text": [
      "test_6.txt\n",
      "test_7.txt\n",
      "test_8.txt\n",
      "test_9.txt\n",
      "test_10.txt\n",
      "test_11.txt\n",
      "test_12.txt\n",
      "test_13.txt\n",
      "test_14.txt\n",
      "test_15.txt\n",
      "test_16.txt\n",
      "test_17.txt\n",
      "test_18.txt\n"
     ]
    },
    {
     "name": "stderr",
     "output_type": "stream",
     "text": [
      "\n",
      "  0%|                                      | 19/24526 [00:00<02:10, 188.10it/s]"
     ]
    },
    {
     "name": "stdout",
     "output_type": "stream",
     "text": [
      "test_19.txt\n",
      "test_20.txt\n",
      "test_21.txt\n",
      "test_22.txt\n",
      "test_23.txt\n",
      "test_24.txt\n",
      "test_25.txt\n",
      "test_26.txt\n",
      "test_27.txt\n",
      "test_28.txt\n",
      "test_29.txt\n",
      "test_30.txt\n",
      "test_31.txt\n",
      "test_32.txt\n",
      "test_33.txt\n",
      "test_34.txt\n",
      "test_35.txt\n",
      "test_36.txt\n",
      "test_37.txt\n",
      "test_38.txt\n",
      "test_39.txt\n",
      "test_40.txt\n",
      "test_41.txt\n",
      "test_42.txt\n",
      "test_43.txt\n",
      "test_44.txt\n",
      "test_45.txt\n",
      "test_46.txt\n",
      "test_47.txt\n",
      "test_48.txt\n",
      "test_49.txt\n",
      "test_50.txt\n",
      "test_51.txt\n",
      "test_52.txt\n"
     ]
    },
    {
     "name": "stderr",
     "output_type": "stream",
     "text": [
      "\n",
      "  0%|                                      | 53/24526 [00:00<01:33, 261.06it/s]"
     ]
    },
    {
     "name": "stdout",
     "output_type": "stream",
     "text": [
      "test_53.txt\n",
      "test_54.txt\n",
      "test_55.txt\n",
      "test_56.txt\n",
      "test_57.txt\n",
      "test_58.txt\n",
      "test_59.txt\n",
      "test_60.txt\n",
      "test_61.txt\n",
      "test_62.txt\n",
      "test_63.txt\n",
      "test_64.txt\n",
      "test_65.txt\n",
      "test_66.txt\n",
      "test_67.txt\n",
      "test_68.txt\n",
      "test_69.txt\n",
      "test_70.txt\n",
      "test_71.txt\n",
      "test_72.txt\n",
      "test_73.txt\n",
      "test_74.txt\n",
      "test_75.txt\n",
      "test_76.txt\n",
      "test_77.txt\n",
      "test_78.txt\n",
      "test_79.txt\n",
      "test_80.txt\n",
      "test_81.txt\n",
      "test_82.txt\n",
      "test_83.txt\n",
      "test_84.txt\n"
     ]
    },
    {
     "name": "stderr",
     "output_type": "stream",
     "text": [
      "\n",
      "  0%|▏                                     | 85/24526 [00:00<01:27, 278.67it/s]"
     ]
    },
    {
     "name": "stdout",
     "output_type": "stream",
     "text": [
      "test_85.txt\n",
      "test_86.txt\n",
      "test_87.txt\n",
      "test_88.txt\n",
      "test_89.txt\n",
      "test_90.txt\n",
      "test_91.txt\n",
      "test_92.txt\n",
      "test_93.txt\n",
      "test_94.txt\n",
      "test_95.txt\n",
      "test_96.txt\n",
      "test_97.txt\n",
      "test_98.txt\n",
      "test_99.txt\n",
      "test_100.txt\n",
      "test_101.txt\n",
      "test_102.txt\n",
      "test_103.txt\n",
      "test_104.txt\n",
      "test_105.txt\n",
      "test_106.txt\n",
      "test_107.txt\n",
      "test_108.txt\n",
      "test_109.txt\n",
      "test_110.txt\n",
      "test_111.txt\n"
     ]
    },
    {
     "name": "stderr",
     "output_type": "stream",
     "text": [
      "\n",
      "  0%|▏                                    | 112/24526 [00:00<01:28, 276.52it/s]"
     ]
    },
    {
     "name": "stdout",
     "output_type": "stream",
     "text": [
      "test_112.txt\n",
      "test_113.txt\n",
      "test_114.txt\n",
      "test_115.txt\n",
      "test_116.txt\n",
      "test_117.txt\n",
      "test_118.txt\n",
      "test_119.txt\n",
      "test_120.txt\n",
      "test_121.txt\n",
      "test_122.txt\n",
      "test_123.txt\n",
      "test_124.txt\n",
      "test_125.txt\n",
      "test_126.txt\n",
      "test_127.txt\n",
      "test_128.txt\n",
      "test_129.txt\n",
      "test_130.txt\n",
      "test_131.txt\n",
      "test_132.txt\n",
      "test_133.txt\n",
      "test_134.txt\n",
      "test_135.txt\n",
      "test_136.txt\n",
      "test_137.txt\n",
      "test_138.txt\n",
      "test_139.txt\n",
      "test_140.txt\n"
     ]
    },
    {
     "name": "stderr",
     "output_type": "stream",
     "text": [
      "\n",
      "  1%|▏                                    | 141/24526 [00:00<01:27, 279.74it/s]"
     ]
    },
    {
     "name": "stdout",
     "output_type": "stream",
     "text": [
      "test_141.txt\n",
      "test_142.txt\n",
      "test_143.txt\n",
      "test_144.txt\n",
      "test_145.txt\n",
      "test_146.txt\n",
      "test_147.txt\n",
      "test_148.txt\n",
      "test_149.txt\n",
      "test_150.txt\n",
      "test_151.txt\n",
      "test_152.txt\n",
      "test_153.txt\n",
      "test_154.txt\n",
      "test_155.txt\n",
      "test_156.txt\n",
      "test_157.txt\n",
      "test_158.txt\n",
      "test_159.txt\n",
      "test_160.txt\n",
      "test_161.txt\n",
      "test_162.txt\n",
      "test_163.txt\n",
      "test_164.txt\n",
      "test_165.txt\n",
      "test_166.txt\n",
      "test_167.txt\n",
      "test_168.txt\n",
      "test_169.txt\n",
      "test_170.txt\n",
      "test_171.txt\n"
     ]
    },
    {
     "name": "stderr",
     "output_type": "stream",
     "text": [
      "\n",
      "  1%|▎                                    | 172/24526 [00:00<01:25, 284.28it/s]"
     ]
    },
    {
     "name": "stdout",
     "output_type": "stream",
     "text": [
      "test_172.txt\n",
      "test_173.txt\n",
      "test_174.txt\n",
      "test_175.txt\n",
      "test_176.txt\n",
      "test_177.txt\n",
      "test_178.txt\n",
      "test_179.txt\n",
      "test_180.txt\n",
      "test_181.txt\n",
      "test_182.txt\n",
      "test_183.txt\n",
      "test_184.txt\n",
      "test_185.txt\n",
      "test_186.txt\n",
      "test_187.txt\n",
      "test_188.txt\n",
      "test_189.txt\n",
      "test_190.txt\n",
      "test_191.txt\n",
      "test_192.txt\n",
      "test_193.txt\n",
      "test_194.txt\n",
      "test_195.txt\n",
      "test_196.txt\n",
      "test_197.txt\n",
      "test_198.txt\n",
      "test_199.txt\n",
      "test_200.txt\n"
     ]
    },
    {
     "name": "stderr",
     "output_type": "stream",
     "text": [
      "\n",
      "  1%|▎                                    | 201/24526 [00:00<01:25, 284.69it/s]"
     ]
    },
    {
     "name": "stdout",
     "output_type": "stream",
     "text": [
      "test_201.txt\n",
      "test_202.txt\n",
      "test_203.txt\n",
      "test_204.txt\n",
      "test_205.txt\n",
      "test_206.txt\n",
      "test_207.txt\n",
      "test_208.txt\n",
      "test_209.txt\n",
      "test_210.txt\n",
      "test_211.txt\n",
      "test_212.txt\n",
      "test_213.txt\n",
      "test_214.txt\n",
      "test_215.txt\n",
      "test_216.txt\n",
      "test_217.txt\n",
      "test_218.txt\n",
      "test_219.txt\n",
      "test_220.txt\n",
      "test_221.txt\n",
      "test_222.txt\n",
      "test_223.txt\n",
      "test_224.txt\n",
      "test_225.txt\n",
      "test_226.txt\n",
      "test_227.txt\n"
     ]
    },
    {
     "name": "stderr",
     "output_type": "stream",
     "text": [
      "\n",
      "  1%|▎                                    | 228/24526 [00:00<01:36, 250.81it/s]"
     ]
    },
    {
     "name": "stdout",
     "output_type": "stream",
     "text": [
      "test_228.txt\n",
      "test_229.txt\n",
      "test_230.txt\n",
      "test_231.txt\n",
      "test_232.txt\n",
      "test_233.txt\n",
      "test_234.txt\n",
      "test_235.txt\n",
      "test_236.txt\n",
      "test_237.txt\n",
      "test_238.txt\n",
      "test_239.txt\n",
      "test_240.txt\n",
      "test_241.txt\n",
      "test_242.txt\n",
      "test_243.txt\n",
      "test_244.txt\n",
      "test_245.txt\n",
      "test_246.txt\n",
      "test_247.txt\n",
      "test_248.txt\n",
      "test_249.txt\n",
      "test_250.txt\n"
     ]
    },
    {
     "name": "stderr",
     "output_type": "stream",
     "text": [
      "\n",
      "  1%|▍                                    | 251/24526 [00:01<02:03, 197.16it/s]"
     ]
    },
    {
     "name": "stdout",
     "output_type": "stream",
     "text": [
      "test_251.txt\n",
      "test_252.txt\n",
      "test_253.txt\n",
      "test_254.txt\n",
      "test_255.txt\n",
      "test_256.txt\n",
      "test_257.txt\n",
      "test_258.txt\n",
      "test_259.txt\n",
      "test_260.txt\n",
      "test_261.txt\n",
      "test_262.txt\n",
      "test_263.txt\n",
      "test_264.txt\n",
      "test_265.txt\n",
      "test_266.txt\n",
      "test_267.txt\n",
      "test_268.txt\n"
     ]
    },
    {
     "name": "stderr",
     "output_type": "stream",
     "text": [
      "\n",
      "  1%|▍                                    | 269/24526 [00:01<02:23, 169.38it/s]"
     ]
    },
    {
     "name": "stdout",
     "output_type": "stream",
     "text": [
      "test_269.txt\n",
      "test_270.txt\n",
      "test_271.txt\n",
      "test_272.txt\n",
      "test_273.txt\n"
     ]
    },
    {
     "name": "stderr",
     "output_type": "stream",
     "text": [
      "\n"
     ]
    },
    {
     "name": "stdout",
     "output_type": "stream",
     "text": [
      "test_274.txt\n",
      "test_275.txt\n",
      "test_276.txt\n",
      "test_277.txt\n",
      "test_278.txt\n",
      "test_279.txt\n",
      "test_280.txt\n",
      "test_281.txt\n",
      "test_282.txt\n",
      "test_283.txt\n"
     ]
    },
    {
     "name": "stderr",
     "output_type": "stream",
     "text": [
      "\r",
      "  1%|▍                                    | 284/24526 [00:01<02:40, 151.37it/s]"
     ]
    },
    {
     "name": "stdout",
     "output_type": "stream",
     "text": [
      "test_284.txt\n",
      "test_285.txt\n",
      "test_286.txt\n",
      "test_287.txt\n",
      "test_288.txt\n",
      "test_289.txt\n",
      "test_290.txt\n",
      "test_291.txt\n",
      "test_292.txt\n",
      "test_293.txt\n",
      "test_294.txt\n",
      "test_295.txt\n"
     ]
    },
    {
     "name": "stderr",
     "output_type": "stream",
     "text": [
      "\r",
      "  1%|▍                                    | 296/24526 [00:02<02:54, 138.63it/s]"
     ]
    },
    {
     "name": "stdout",
     "output_type": "stream",
     "text": [
      "test_296.txt\n",
      "test_297.txt\n",
      "test_298.txt\n",
      "test_299.txt\n",
      "test_300.txt\n",
      "test_301.txt\n",
      "test_302.txt\n",
      "test_303.txt\n",
      "test_304.txt\n",
      "test_305.txt\n"
     ]
    },
    {
     "name": "stderr",
     "output_type": "stream",
     "text": [
      "\r",
      "  1%|▍                                    | 306/24526 [00:02<03:02, 132.92it/s]"
     ]
    },
    {
     "name": "stdout",
     "output_type": "stream",
     "text": [
      "test_306.txt\n",
      "test_307.txt\n",
      "test_308.txt\n",
      "test_309.txt\n",
      "test_310.txt\n",
      "test_311.txt\n",
      "test_312.txt\n",
      "test_313.txt\n",
      "test_314.txt\n"
     ]
    },
    {
     "name": "stderr",
     "output_type": "stream",
     "text": [
      "\r",
      "  1%|▍                                    | 315/24526 [00:02<03:10, 126.85it/s]"
     ]
    },
    {
     "name": "stdout",
     "output_type": "stream",
     "text": [
      "test_315.txt\n",
      "test_316.txt\n",
      "test_317.txt\n",
      "test_318.txt\n",
      "test_319.txt\n",
      "test_320.txt\n",
      "test_321.txt\n",
      "test_322.txt\n"
     ]
    },
    {
     "name": "stderr",
     "output_type": "stream",
     "text": [
      "\r",
      "  1%|▍                                    | 323/24526 [00:02<03:17, 122.61it/s]"
     ]
    },
    {
     "name": "stdout",
     "output_type": "stream",
     "text": [
      "test_323.txt\n",
      "test_324.txt\n",
      "test_325.txt\n",
      "test_326.txt\n",
      "test_327.txt\n",
      "test_328.txt\n",
      "test_329.txt\n"
     ]
    },
    {
     "name": "stderr",
     "output_type": "stream",
     "text": [
      "\r",
      "  1%|▍                                    | 330/24526 [00:02<03:22, 119.38it/s]"
     ]
    },
    {
     "name": "stdout",
     "output_type": "stream",
     "text": [
      "test_330.txt\n",
      "test_331.txt\n",
      "test_332.txt\n",
      "test_333.txt\n",
      "test_334.txt\n",
      "test_335.txt\n",
      "test_336.txt\n"
     ]
    },
    {
     "name": "stderr",
     "output_type": "stream",
     "text": [
      "\r",
      "  1%|▌                                    | 337/24526 [00:02<03:28, 116.08it/s]"
     ]
    },
    {
     "name": "stdout",
     "output_type": "stream",
     "text": [
      "test_337.txt\n",
      "test_338.txt\n",
      "test_339.txt\n",
      "test_340.txt\n",
      "test_341.txt\n",
      "test_342.txt\n"
     ]
    },
    {
     "name": "stderr",
     "output_type": "stream",
     "text": [
      "\r",
      "  1%|▌                                    | 343/24526 [00:03<03:32, 113.79it/s]"
     ]
    },
    {
     "name": "stdout",
     "output_type": "stream",
     "text": [
      "test_343.txt\n",
      "test_344.txt\n",
      "test_345.txt\n",
      "test_346.txt\n",
      "test_347.txt\n",
      "test_348.txt\n"
     ]
    },
    {
     "name": "stderr",
     "output_type": "stream",
     "text": [
      "\r",
      "  1%|▌                                    | 349/24526 [00:03<03:35, 112.07it/s]"
     ]
    },
    {
     "name": "stdout",
     "output_type": "stream",
     "text": [
      "test_349.txt\n",
      "test_350.txt\n",
      "test_351.txt\n",
      "test_352.txt\n",
      "test_353.txt\n",
      "test_354.txt\n",
      "test_355.txt\n"
     ]
    },
    {
     "name": "stderr",
     "output_type": "stream",
     "text": [
      "\r",
      "  1%|▌                                    | 356/24526 [00:03<03:38, 110.55it/s]"
     ]
    },
    {
     "name": "stdout",
     "output_type": "stream",
     "text": [
      "test_356.txt\n",
      "test_357.txt\n",
      "test_358.txt\n",
      "test_359.txt\n",
      "test_360.txt\n",
      "test_361.txt\n",
      "test_362.txt\n"
     ]
    },
    {
     "name": "stderr",
     "output_type": "stream",
     "text": [
      "\r",
      "  1%|▌                                    | 363/24526 [00:03<03:42, 108.71it/s]"
     ]
    },
    {
     "name": "stdout",
     "output_type": "stream",
     "text": [
      "test_363.txt\n",
      "test_364.txt\n",
      "test_365.txt\n",
      "test_366.txt\n",
      "test_367.txt\n",
      "test_368.txt\n",
      "test_369.txt\n"
     ]
    },
    {
     "name": "stderr",
     "output_type": "stream",
     "text": [
      "\r",
      "  2%|▌                                    | 370/24526 [00:03<03:48, 105.80it/s]"
     ]
    },
    {
     "name": "stdout",
     "output_type": "stream",
     "text": [
      "test_370.txt\n",
      "test_371.txt\n",
      "test_372.txt\n",
      "test_373.txt\n",
      "test_374.txt\n",
      "test_375.txt\n",
      "test_376.txt\n"
     ]
    },
    {
     "name": "stderr",
     "output_type": "stream",
     "text": [
      "\r",
      "  2%|▌                                    | 377/24526 [00:03<03:50, 104.60it/s]"
     ]
    },
    {
     "name": "stdout",
     "output_type": "stream",
     "text": [
      "test_377.txt\n",
      "test_378.txt\n",
      "test_379.txt\n",
      "test_380.txt\n",
      "test_381.txt\n",
      "test_382.txt\n"
     ]
    },
    {
     "name": "stderr",
     "output_type": "stream",
     "text": [
      "\r",
      "  2%|▌                                    | 383/24526 [00:03<03:55, 102.32it/s]"
     ]
    },
    {
     "name": "stdout",
     "output_type": "stream",
     "text": [
      "test_383.txt\n",
      "test_384.txt\n",
      "test_385.txt\n",
      "test_386.txt\n",
      "test_387.txt\n",
      "test_388.txt\n"
     ]
    },
    {
     "name": "stderr",
     "output_type": "stream",
     "text": [
      "\r",
      "  2%|▌                                    | 389/24526 [00:03<04:00, 100.30it/s]"
     ]
    },
    {
     "name": "stdout",
     "output_type": "stream",
     "text": [
      "test_389.txt\n",
      "test_390.txt\n",
      "test_391.txt\n",
      "test_392.txt\n",
      "test_393.txt\n",
      "test_394.txt\n"
     ]
    },
    {
     "name": "stderr",
     "output_type": "stream",
     "text": [
      "\r",
      "  2%|▌                                     | 395/24526 [00:03<04:03, 99.21it/s]"
     ]
    },
    {
     "name": "stdout",
     "output_type": "stream",
     "text": [
      "test_395.txt\n",
      "test_396.txt\n",
      "test_397.txt\n",
      "test_398.txt\n",
      "test_399.txt\n",
      "test_400.txt\n"
     ]
    },
    {
     "name": "stderr",
     "output_type": "stream",
     "text": [
      "\r",
      "  2%|▌                                     | 401/24526 [00:04<04:06, 97.89it/s]"
     ]
    },
    {
     "name": "stdout",
     "output_type": "stream",
     "text": [
      "test_401.txt\n",
      "test_402.txt\n",
      "test_403.txt\n",
      "test_404.txt\n",
      "test_405.txt\n",
      "test_406.txt\n"
     ]
    },
    {
     "name": "stderr",
     "output_type": "stream",
     "text": [
      "\r",
      "  2%|▋                                     | 407/24526 [00:04<04:08, 96.87it/s]"
     ]
    },
    {
     "name": "stdout",
     "output_type": "stream",
     "text": [
      "test_407.txt\n",
      "test_408.txt\n",
      "test_409.txt\n",
      "test_410.txt\n",
      "test_411.txt\n",
      "test_412.txt\n"
     ]
    },
    {
     "name": "stderr",
     "output_type": "stream",
     "text": [
      "\r",
      "  2%|▋                                     | 413/24526 [00:04<04:12, 95.40it/s]"
     ]
    },
    {
     "name": "stdout",
     "output_type": "stream",
     "text": [
      "test_413.txt\n",
      "test_414.txt\n",
      "test_415.txt\n",
      "test_416.txt\n",
      "test_417.txt\n",
      "test_418.txt\n"
     ]
    },
    {
     "name": "stderr",
     "output_type": "stream",
     "text": [
      "\r",
      "  2%|▋                                     | 419/24526 [00:04<04:16, 94.07it/s]"
     ]
    },
    {
     "name": "stdout",
     "output_type": "stream",
     "text": [
      "test_419.txt\n",
      "test_420.txt\n",
      "test_421.txt\n",
      "test_422.txt\n",
      "test_423.txt\n",
      "test_424.txt\n"
     ]
    },
    {
     "name": "stderr",
     "output_type": "stream",
     "text": [
      "\r",
      "  2%|▋                                     | 425/24526 [00:04<04:18, 93.18it/s]"
     ]
    },
    {
     "name": "stdout",
     "output_type": "stream",
     "text": [
      "test_425.txt\n",
      "test_426.txt\n",
      "test_427.txt\n",
      "test_428.txt\n",
      "test_429.txt\n",
      "test_430.txt\n"
     ]
    },
    {
     "name": "stderr",
     "output_type": "stream",
     "text": [
      "\r",
      "  2%|▋                                     | 431/24526 [00:04<04:20, 92.33it/s]"
     ]
    },
    {
     "name": "stdout",
     "output_type": "stream",
     "text": [
      "test_431.txt\n",
      "test_432.txt\n",
      "test_433.txt\n",
      "test_434.txt\n",
      "test_435.txt\n",
      "test_436.txt\n"
     ]
    },
    {
     "name": "stderr",
     "output_type": "stream",
     "text": [
      "\r",
      "  2%|▋                                     | 437/24526 [00:04<04:24, 91.25it/s]"
     ]
    },
    {
     "name": "stdout",
     "output_type": "stream",
     "text": [
      "test_437.txt\n",
      "test_438.txt\n",
      "test_439.txt\n",
      "test_440.txt\n",
      "test_441.txt\n",
      "test_442.txt\n"
     ]
    },
    {
     "name": "stderr",
     "output_type": "stream",
     "text": [
      "\r",
      "  2%|▋                                     | 443/24526 [00:04<04:26, 90.53it/s]"
     ]
    },
    {
     "name": "stdout",
     "output_type": "stream",
     "text": [
      "test_443.txt\n",
      "test_444.txt\n",
      "test_445.txt\n",
      "test_446.txt\n",
      "test_447.txt\n",
      "test_448.txt\n",
      "test_449.txt\n"
     ]
    },
    {
     "name": "stderr",
     "output_type": "stream",
     "text": [
      "\r",
      "  2%|▋                                     | 450/24526 [00:05<04:28, 89.81it/s]"
     ]
    },
    {
     "name": "stdout",
     "output_type": "stream",
     "text": [
      "test_450.txt\n",
      "test_451.txt\n",
      "test_452.txt\n",
      "test_453.txt\n",
      "test_454.txt\n",
      "test_455.txt\n",
      "test_456.txt\n"
     ]
    },
    {
     "name": "stderr",
     "output_type": "stream",
     "text": [
      "\r",
      "  2%|▋                                     | 457/24526 [00:05<04:29, 89.23it/s]"
     ]
    },
    {
     "name": "stdout",
     "output_type": "stream",
     "text": [
      "test_457.txt\n",
      "test_458.txt\n",
      "test_459.txt\n",
      "test_460.txt\n",
      "test_461.txt\n",
      "test_462.txt\n",
      "test_463.txt\n"
     ]
    },
    {
     "name": "stderr",
     "output_type": "stream",
     "text": [
      "\r",
      "  2%|▋                                     | 464/24526 [00:05<04:31, 88.58it/s]"
     ]
    },
    {
     "name": "stdout",
     "output_type": "stream",
     "text": [
      "test_464.txt\n",
      "test_465.txt\n",
      "test_466.txt\n",
      "test_467.txt\n",
      "test_468.txt\n",
      "test_469.txt\n",
      "test_470.txt\n"
     ]
    },
    {
     "name": "stderr",
     "output_type": "stream",
     "text": [
      "\r",
      "  2%|▋                                     | 471/24526 [00:05<04:32, 88.16it/s]"
     ]
    },
    {
     "name": "stdout",
     "output_type": "stream",
     "text": [
      "test_471.txt\n",
      "test_472.txt\n",
      "test_473.txt\n",
      "test_474.txt\n",
      "test_475.txt\n",
      "test_476.txt\n",
      "test_477.txt\n"
     ]
    },
    {
     "name": "stderr",
     "output_type": "stream",
     "text": [
      "\r",
      "  2%|▋                                     | 478/24526 [00:05<04:35, 87.27it/s]"
     ]
    },
    {
     "name": "stdout",
     "output_type": "stream",
     "text": [
      "test_478.txt\n",
      "test_479.txt\n",
      "test_480.txt\n",
      "test_481.txt\n",
      "test_482.txt\n",
      "test_483.txt\n"
     ]
    },
    {
     "name": "stderr",
     "output_type": "stream",
     "text": [
      "\r",
      "  2%|▋                                     | 484/24526 [00:05<04:39, 86.16it/s]"
     ]
    },
    {
     "name": "stdout",
     "output_type": "stream",
     "text": [
      "test_484.txt\n",
      "test_485.txt\n",
      "test_486.txt\n",
      "test_487.txt\n",
      "test_488.txt\n",
      "test_489.txt\n"
     ]
    },
    {
     "name": "stderr",
     "output_type": "stream",
     "text": [
      "\r",
      "  2%|▊                                     | 490/24526 [00:05<04:40, 85.64it/s]"
     ]
    },
    {
     "name": "stdout",
     "output_type": "stream",
     "text": [
      "test_490.txt\n",
      "test_491.txt\n",
      "test_492.txt\n",
      "test_493.txt\n",
      "test_494.txt\n",
      "test_495.txt\n"
     ]
    },
    {
     "name": "stderr",
     "output_type": "stream",
     "text": [
      "\r",
      "  2%|▊                                     | 496/24526 [00:05<04:43, 84.88it/s]"
     ]
    },
    {
     "name": "stdout",
     "output_type": "stream",
     "text": [
      "test_496.txt\n",
      "test_497.txt\n",
      "test_498.txt\n",
      "test_499.txt\n",
      "test_500.txt\n",
      "test_501.txt\n"
     ]
    },
    {
     "name": "stderr",
     "output_type": "stream",
     "text": [
      "\r",
      "  2%|▊                                     | 502/24526 [00:05<04:45, 84.22it/s]"
     ]
    },
    {
     "name": "stdout",
     "output_type": "stream",
     "text": [
      "test_502.txt\n",
      "test_503.txt\n",
      "test_504.txt\n",
      "test_505.txt\n",
      "test_506.txt\n",
      "test_507.txt\n",
      "test_508.txt\n"
     ]
    },
    {
     "name": "stderr",
     "output_type": "stream",
     "text": [
      "\r",
      "  2%|▊                                     | 509/24526 [00:06<04:46, 83.91it/s]"
     ]
    },
    {
     "name": "stdout",
     "output_type": "stream",
     "text": [
      "test_509.txt\n",
      "test_510.txt\n",
      "test_511.txt\n",
      "test_512.txt\n",
      "test_513.txt\n",
      "test_514.txt\n",
      "test_515.txt\n"
     ]
    },
    {
     "name": "stderr",
     "output_type": "stream",
     "text": [
      "\r",
      "  2%|▊                                     | 516/24526 [00:06<04:47, 83.52it/s]"
     ]
    },
    {
     "name": "stdout",
     "output_type": "stream",
     "text": [
      "test_516.txt\n",
      "test_517.txt\n",
      "test_518.txt\n",
      "test_519.txt\n",
      "test_520.txt\n",
      "test_521.txt\n"
     ]
    },
    {
     "name": "stderr",
     "output_type": "stream",
     "text": [
      "\r",
      "  2%|▊                                     | 522/24526 [00:06<04:50, 82.69it/s]"
     ]
    },
    {
     "name": "stdout",
     "output_type": "stream",
     "text": [
      "test_522.txt\n",
      "test_523.txt\n",
      "test_524.txt\n",
      "test_525.txt\n",
      "test_526.txt\n",
      "test_527.txt\n"
     ]
    },
    {
     "name": "stderr",
     "output_type": "stream",
     "text": [
      "\r",
      "  2%|▊                                     | 528/24526 [00:06<04:54, 81.50it/s]"
     ]
    },
    {
     "name": "stdout",
     "output_type": "stream",
     "text": [
      "test_528.txt\n",
      "test_529.txt\n",
      "test_530.txt\n",
      "test_531.txt\n",
      "test_532.txt\n",
      "test_533.txt\n"
     ]
    },
    {
     "name": "stderr",
     "output_type": "stream",
     "text": [
      "\r",
      "  2%|▊                                     | 534/24526 [00:06<04:56, 81.04it/s]"
     ]
    },
    {
     "name": "stdout",
     "output_type": "stream",
     "text": [
      "test_534.txt\n",
      "test_535.txt\n",
      "test_536.txt\n",
      "test_537.txt\n",
      "test_538.txt\n",
      "test_539.txt\n",
      "test_540.txt\n"
     ]
    },
    {
     "name": "stderr",
     "output_type": "stream",
     "text": [
      "\r",
      "  2%|▊                                     | 541/24526 [00:06<04:56, 80.87it/s]"
     ]
    },
    {
     "name": "stdout",
     "output_type": "stream",
     "text": [
      "test_541.txt\n",
      "test_542.txt\n",
      "test_543.txt\n",
      "test_544.txt\n",
      "test_545.txt\n",
      "test_546.txt\n"
     ]
    },
    {
     "name": "stderr",
     "output_type": "stream",
     "text": [
      "\r",
      "  2%|▊                                     | 547/24526 [00:06<04:58, 80.39it/s]"
     ]
    },
    {
     "name": "stdout",
     "output_type": "stream",
     "text": [
      "test_547.txt\n",
      "test_548.txt\n",
      "test_549.txt\n",
      "test_550.txt\n",
      "test_551.txt\n",
      "test_552.txt\n"
     ]
    },
    {
     "name": "stderr",
     "output_type": "stream",
     "text": [
      "\r",
      "  2%|▊                                     | 553/24526 [00:06<04:59, 80.00it/s]"
     ]
    },
    {
     "name": "stdout",
     "output_type": "stream",
     "text": [
      "test_553.txt\n",
      "test_554.txt\n",
      "test_555.txt\n",
      "test_556.txt\n",
      "test_557.txt\n",
      "test_558.txt\n",
      "test_559.txt\n"
     ]
    },
    {
     "name": "stderr",
     "output_type": "stream",
     "text": [
      "\r",
      "  2%|▊                                     | 560/24526 [00:07<05:00, 79.71it/s]"
     ]
    },
    {
     "name": "stdout",
     "output_type": "stream",
     "text": [
      "test_560.txt\n",
      "test_561.txt\n",
      "test_562.txt\n",
      "test_563.txt\n",
      "test_564.txt\n",
      "test_565.txt\n"
     ]
    },
    {
     "name": "stderr",
     "output_type": "stream",
     "text": [
      "\r",
      "  2%|▉                                     | 566/24526 [00:07<05:03, 79.03it/s]"
     ]
    },
    {
     "name": "stdout",
     "output_type": "stream",
     "text": [
      "test_566.txt\n",
      "test_567.txt\n",
      "test_568.txt\n",
      "test_569.txt\n",
      "test_570.txt\n",
      "test_571.txt\n"
     ]
    },
    {
     "name": "stderr",
     "output_type": "stream",
     "text": [
      "\r",
      "  2%|▉                                     | 572/24526 [00:07<05:06, 78.11it/s]"
     ]
    },
    {
     "name": "stdout",
     "output_type": "stream",
     "text": [
      "test_572.txt\n",
      "test_573.txt\n",
      "test_574.txt\n",
      "test_575.txt\n",
      "test_576.txt\n",
      "test_577.txt\n"
     ]
    },
    {
     "name": "stderr",
     "output_type": "stream",
     "text": [
      "\r",
      "  2%|▉                                     | 578/24526 [00:07<05:08, 77.68it/s]"
     ]
    },
    {
     "name": "stdout",
     "output_type": "stream",
     "text": [
      "test_578.txt\n",
      "test_579.txt\n",
      "test_580.txt\n",
      "test_581.txt\n",
      "test_582.txt\n",
      "test_583.txt\n",
      "test_584.txt\n"
     ]
    },
    {
     "name": "stderr",
     "output_type": "stream",
     "text": [
      "\r",
      "  2%|▉                                     | 585/24526 [00:07<05:08, 77.50it/s]"
     ]
    },
    {
     "name": "stdout",
     "output_type": "stream",
     "text": [
      "test_585.txt\n",
      "test_586.txt\n",
      "test_587.txt\n",
      "test_588.txt\n",
      "test_589.txt\n",
      "test_590.txt\n",
      "test_591.txt\n",
      "test_592.txt\n"
     ]
    },
    {
     "name": "stderr",
     "output_type": "stream",
     "text": [
      "\r",
      "  2%|▉                                     | 593/24526 [00:07<05:09, 77.37it/s]"
     ]
    },
    {
     "name": "stdout",
     "output_type": "stream",
     "text": [
      "test_593.txt\n",
      "test_594.txt\n",
      "test_595.txt\n",
      "test_596.txt\n",
      "test_597.txt\n",
      "test_598.txt\n"
     ]
    },
    {
     "name": "stderr",
     "output_type": "stream",
     "text": [
      "\r",
      "  2%|▉                                     | 599/24526 [00:07<05:11, 76.88it/s]"
     ]
    },
    {
     "name": "stdout",
     "output_type": "stream",
     "text": [
      "test_599.txt\n",
      "test_600.txt\n",
      "test_601.txt\n",
      "test_602.txt\n",
      "test_603.txt\n",
      "test_604.txt\n"
     ]
    },
    {
     "name": "stderr",
     "output_type": "stream",
     "text": [
      "\r",
      "  2%|▉                                     | 605/24526 [00:07<05:12, 76.61it/s]"
     ]
    },
    {
     "name": "stdout",
     "output_type": "stream",
     "text": [
      "test_605.txt\n",
      "test_606.txt\n",
      "test_607.txt\n",
      "test_608.txt\n",
      "test_609.txt\n",
      "test_610.txt\n",
      "test_611.txt\n"
     ]
    },
    {
     "name": "stderr",
     "output_type": "stream",
     "text": [
      "\r",
      "  2%|▉                                     | 612/24526 [00:08<05:13, 76.38it/s]"
     ]
    },
    {
     "name": "stdout",
     "output_type": "stream",
     "text": [
      "test_612.txt\n",
      "test_613.txt\n",
      "test_614.txt\n",
      "test_615.txt\n",
      "test_616.txt\n",
      "test_617.txt\n"
     ]
    },
    {
     "name": "stderr",
     "output_type": "stream",
     "text": [
      "\r",
      "  3%|▉                                     | 618/24526 [00:08<05:14, 76.10it/s]"
     ]
    },
    {
     "name": "stdout",
     "output_type": "stream",
     "text": [
      "test_618.txt\n",
      "test_619.txt\n",
      "test_620.txt\n",
      "test_621.txt\n",
      "test_622.txt\n",
      "test_623.txt\n"
     ]
    },
    {
     "name": "stderr",
     "output_type": "stream",
     "text": [
      "\r",
      "  3%|▉                                     | 624/24526 [00:08<05:15, 75.85it/s]"
     ]
    },
    {
     "name": "stdout",
     "output_type": "stream",
     "text": [
      "test_624.txt\n",
      "test_625.txt\n",
      "test_626.txt\n",
      "test_627.txt\n",
      "test_628.txt\n",
      "test_629.txt\n"
     ]
    },
    {
     "name": "stderr",
     "output_type": "stream",
     "text": [
      "\r",
      "  3%|▉                                     | 630/24526 [00:08<05:16, 75.60it/s]"
     ]
    },
    {
     "name": "stdout",
     "output_type": "stream",
     "text": [
      "test_630.txt\n",
      "test_631.txt\n",
      "test_632.txt\n",
      "test_633.txt\n",
      "test_634.txt\n",
      "test_635.txt\n"
     ]
    },
    {
     "name": "stderr",
     "output_type": "stream",
     "text": [
      "\r",
      "  3%|▉                                     | 636/24526 [00:08<05:18, 75.01it/s]"
     ]
    },
    {
     "name": "stdout",
     "output_type": "stream",
     "text": [
      "test_636.txt\n",
      "test_637.txt\n",
      "test_638.txt\n",
      "test_639.txt\n",
      "test_640.txt\n",
      "test_641.txt\n"
     ]
    },
    {
     "name": "stderr",
     "output_type": "stream",
     "text": [
      "\r",
      "  3%|▉                                     | 642/24526 [00:08<05:20, 74.64it/s]"
     ]
    },
    {
     "name": "stdout",
     "output_type": "stream",
     "text": [
      "test_642.txt\n",
      "test_643.txt\n",
      "test_644.txt\n",
      "test_645.txt\n",
      "test_646.txt\n",
      "test_647.txt\n",
      "test_648.txt\n"
     ]
    },
    {
     "name": "stderr",
     "output_type": "stream",
     "text": [
      "\r",
      "  3%|█                                     | 649/24526 [00:08<05:20, 74.51it/s]"
     ]
    },
    {
     "name": "stdout",
     "output_type": "stream",
     "text": [
      "test_649.txt\n",
      "test_650.txt\n",
      "test_651.txt\n",
      "test_652.txt\n",
      "test_653.txt\n",
      "test_654.txt\n"
     ]
    },
    {
     "name": "stderr",
     "output_type": "stream",
     "text": [
      "\r",
      "  3%|█                                     | 655/24526 [00:08<05:21, 74.21it/s]"
     ]
    },
    {
     "name": "stdout",
     "output_type": "stream",
     "text": [
      "test_655.txt\n",
      "test_656.txt\n",
      "test_657.txt\n",
      "test_658.txt\n",
      "test_659.txt\n",
      "test_660.txt\n"
     ]
    },
    {
     "name": "stderr",
     "output_type": "stream",
     "text": [
      "\r",
      "  3%|█                                     | 661/24526 [00:08<05:22, 73.90it/s]"
     ]
    },
    {
     "name": "stdout",
     "output_type": "stream",
     "text": [
      "test_661.txt\n",
      "test_662.txt\n",
      "test_663.txt\n",
      "test_664.txt\n",
      "test_665.txt\n",
      "test_666.txt\n",
      "test_667.txt\n"
     ]
    },
    {
     "name": "stderr",
     "output_type": "stream",
     "text": [
      "\r",
      "  3%|█                                     | 668/24526 [00:09<05:23, 73.74it/s]"
     ]
    },
    {
     "name": "stdout",
     "output_type": "stream",
     "text": [
      "test_668.txt\n",
      "test_669.txt\n",
      "test_670.txt\n",
      "test_671.txt\n",
      "test_672.txt\n",
      "test_673.txt\n"
     ]
    },
    {
     "name": "stderr",
     "output_type": "stream",
     "text": [
      "\r",
      "  3%|█                                     | 674/24526 [00:09<05:24, 73.56it/s]"
     ]
    },
    {
     "name": "stdout",
     "output_type": "stream",
     "text": [
      "test_674.txt\n",
      "test_675.txt\n",
      "test_676.txt\n",
      "test_677.txt\n",
      "test_678.txt\n",
      "test_679.txt\n",
      "test_680.txt\n"
     ]
    },
    {
     "name": "stderr",
     "output_type": "stream",
     "text": [
      "\r",
      "  3%|█                                     | 681/24526 [00:09<05:24, 73.44it/s]"
     ]
    },
    {
     "name": "stdout",
     "output_type": "stream",
     "text": [
      "test_681.txt\n",
      "test_682.txt\n",
      "test_683.txt\n",
      "test_684.txt\n",
      "test_685.txt\n",
      "test_686.txt\n"
     ]
    },
    {
     "name": "stderr",
     "output_type": "stream",
     "text": [
      "\r",
      "  3%|█                                     | 687/24526 [00:09<05:25, 73.17it/s]"
     ]
    },
    {
     "name": "stdout",
     "output_type": "stream",
     "text": [
      "test_687.txt\n",
      "test_688.txt\n",
      "test_689.txt\n",
      "test_690.txt\n",
      "test_691.txt\n",
      "test_692.txt\n"
     ]
    },
    {
     "name": "stderr",
     "output_type": "stream",
     "text": [
      "\r",
      "  3%|█                                     | 693/24526 [00:09<05:27, 72.87it/s]"
     ]
    },
    {
     "name": "stdout",
     "output_type": "stream",
     "text": [
      "test_693.txt\n",
      "test_694.txt\n",
      "test_695.txt\n",
      "test_696.txt\n",
      "test_697.txt\n",
      "test_698.txt\n",
      "test_699.txt\n"
     ]
    },
    {
     "name": "stderr",
     "output_type": "stream",
     "text": [
      "\r",
      "  3%|█                                     | 700/24526 [00:09<05:27, 72.65it/s]"
     ]
    },
    {
     "name": "stdout",
     "output_type": "stream",
     "text": [
      "test_700.txt\n",
      "test_701.txt\n",
      "test_702.txt\n",
      "test_703.txt\n",
      "test_704.txt\n",
      "test_705.txt\n"
     ]
    },
    {
     "name": "stderr",
     "output_type": "stream",
     "text": [
      "\r",
      "  3%|█                                     | 706/24526 [00:09<05:28, 72.46it/s]"
     ]
    },
    {
     "name": "stdout",
     "output_type": "stream",
     "text": [
      "test_706.txt\n",
      "test_707.txt\n",
      "test_708.txt\n",
      "test_709.txt\n",
      "test_710.txt\n",
      "test_711.txt\n"
     ]
    },
    {
     "name": "stderr",
     "output_type": "stream",
     "text": [
      "\r",
      "  3%|█                                     | 712/24526 [00:09<05:30, 72.13it/s]"
     ]
    },
    {
     "name": "stdout",
     "output_type": "stream",
     "text": [
      "test_712.txt\n",
      "test_713.txt\n",
      "test_714.txt\n",
      "test_715.txt\n",
      "test_716.txt\n",
      "test_717.txt\n",
      "test_718.txt\n",
      "test_719.txt\n"
     ]
    },
    {
     "name": "stderr",
     "output_type": "stream",
     "text": [
      "\r",
      "  3%|█                                     | 720/24526 [00:09<05:30, 72.07it/s]"
     ]
    },
    {
     "name": "stdout",
     "output_type": "stream",
     "text": [
      "test_720.txt\n",
      "test_721.txt\n",
      "test_722.txt\n",
      "test_723.txt\n",
      "test_724.txt\n",
      "test_725.txt\n"
     ]
    },
    {
     "name": "stderr",
     "output_type": "stream",
     "text": [
      "\r",
      "  3%|█                                     | 726/24526 [00:10<05:31, 71.86it/s]"
     ]
    },
    {
     "name": "stdout",
     "output_type": "stream",
     "text": [
      "test_726.txt\n",
      "test_727.txt\n",
      "test_728.txt\n",
      "test_729.txt\n",
      "test_730.txt\n",
      "test_731.txt\n",
      "test_732.txt\n",
      "test_733.txt\n"
     ]
    },
    {
     "name": "stderr",
     "output_type": "stream",
     "text": [
      "\r",
      "  3%|█▏                                    | 734/24526 [00:10<05:32, 71.65it/s]"
     ]
    },
    {
     "name": "stdout",
     "output_type": "stream",
     "text": [
      "test_734.txt\n",
      "test_735.txt\n",
      "test_736.txt\n",
      "test_737.txt\n",
      "test_738.txt\n",
      "test_739.txt\n",
      "test_740.txt\n"
     ]
    },
    {
     "name": "stderr",
     "output_type": "stream",
     "text": [
      "\r",
      "  3%|█▏                                    | 741/24526 [00:10<05:32, 71.57it/s]"
     ]
    },
    {
     "name": "stdout",
     "output_type": "stream",
     "text": [
      "test_741.txt\n",
      "test_742.txt\n",
      "test_743.txt\n",
      "test_744.txt\n",
      "test_745.txt\n",
      "test_746.txt\n"
     ]
    },
    {
     "name": "stderr",
     "output_type": "stream",
     "text": [
      "\r",
      "  3%|█▏                                    | 747/24526 [00:10<05:32, 71.42it/s]"
     ]
    },
    {
     "name": "stdout",
     "output_type": "stream",
     "text": [
      "test_747.txt\n",
      "test_748.txt\n",
      "test_749.txt\n",
      "test_750.txt\n",
      "test_751.txt\n",
      "test_752.txt\n"
     ]
    },
    {
     "name": "stderr",
     "output_type": "stream",
     "text": [
      "\r",
      "  3%|█▏                                    | 753/24526 [00:10<05:33, 71.20it/s]"
     ]
    },
    {
     "name": "stdout",
     "output_type": "stream",
     "text": [
      "test_753.txt\n",
      "test_754.txt\n",
      "test_755.txt\n",
      "test_756.txt\n",
      "test_757.txt\n",
      "test_758.txt\n"
     ]
    },
    {
     "name": "stderr",
     "output_type": "stream",
     "text": [
      "\r",
      "  3%|█▏                                    | 759/24526 [00:10<05:35, 70.93it/s]"
     ]
    },
    {
     "name": "stdout",
     "output_type": "stream",
     "text": [
      "test_759.txt\n",
      "test_760.txt\n",
      "test_761.txt\n",
      "test_762.txt\n",
      "test_763.txt\n",
      "test_764.txt\n"
     ]
    },
    {
     "name": "stderr",
     "output_type": "stream",
     "text": [
      "\r",
      "  3%|█▏                                    | 765/24526 [00:10<05:35, 70.72it/s]"
     ]
    },
    {
     "name": "stdout",
     "output_type": "stream",
     "text": [
      "test_765.txt\n",
      "test_766.txt\n",
      "test_767.txt\n",
      "test_768.txt\n",
      "test_769.txt\n",
      "test_770.txt\n",
      "test_771.txt\n"
     ]
    },
    {
     "name": "stderr",
     "output_type": "stream",
     "text": [
      "\r",
      "  3%|█▏                                    | 772/24526 [00:10<05:36, 70.67it/s]"
     ]
    },
    {
     "name": "stdout",
     "output_type": "stream",
     "text": [
      "test_772.txt\n",
      "test_773.txt\n",
      "test_774.txt\n",
      "test_775.txt\n",
      "test_776.txt\n",
      "test_777.txt\n"
     ]
    },
    {
     "name": "stderr",
     "output_type": "stream",
     "text": [
      "\r",
      "  3%|█▏                                    | 778/24526 [00:11<05:37, 70.36it/s]"
     ]
    },
    {
     "name": "stdout",
     "output_type": "stream",
     "text": [
      "test_778.txt\n",
      "test_779.txt\n",
      "test_780.txt\n",
      "test_781.txt\n",
      "test_782.txt\n",
      "test_783.txt\n"
     ]
    },
    {
     "name": "stderr",
     "output_type": "stream",
     "text": [
      "\r",
      "  3%|█▏                                    | 784/24526 [00:11<05:38, 70.15it/s]"
     ]
    },
    {
     "name": "stdout",
     "output_type": "stream",
     "text": [
      "test_784.txt\n",
      "test_785.txt\n",
      "test_786.txt\n",
      "test_787.txt\n",
      "test_788.txt\n",
      "test_789.txt\n",
      "test_790.txt\n"
     ]
    },
    {
     "name": "stderr",
     "output_type": "stream",
     "text": [
      "\r",
      "  3%|█▏                                    | 791/24526 [00:11<05:38, 70.13it/s]"
     ]
    },
    {
     "name": "stdout",
     "output_type": "stream",
     "text": [
      "test_791.txt\n",
      "test_792.txt\n",
      "test_793.txt\n",
      "test_794.txt\n",
      "test_795.txt\n",
      "test_796.txt\n"
     ]
    },
    {
     "name": "stderr",
     "output_type": "stream",
     "text": [
      "\r",
      "  3%|█▏                                    | 797/24526 [00:11<05:39, 69.90it/s]"
     ]
    },
    {
     "name": "stdout",
     "output_type": "stream",
     "text": [
      "test_797.txt\n",
      "test_798.txt\n",
      "test_799.txt\n",
      "test_800.txt\n",
      "test_801.txt\n",
      "test_802.txt\n"
     ]
    },
    {
     "name": "stderr",
     "output_type": "stream",
     "text": [
      "\r",
      "  3%|█▏                                    | 803/24526 [00:11<05:40, 69.72it/s]"
     ]
    },
    {
     "name": "stdout",
     "output_type": "stream",
     "text": [
      "test_803.txt\n",
      "test_804.txt\n",
      "test_805.txt\n",
      "test_806.txt\n",
      "test_807.txt\n",
      "test_808.txt\n"
     ]
    },
    {
     "name": "stderr",
     "output_type": "stream",
     "text": [
      "\r",
      "  3%|█▎                                    | 809/24526 [00:11<05:41, 69.55it/s]"
     ]
    },
    {
     "name": "stdout",
     "output_type": "stream",
     "text": [
      "test_809.txt\n",
      "test_810.txt\n",
      "test_811.txt\n",
      "test_812.txt\n",
      "test_813.txt\n",
      "test_814.txt\n"
     ]
    },
    {
     "name": "stderr",
     "output_type": "stream",
     "text": [
      "\r",
      "  3%|█▎                                    | 815/24526 [00:11<05:42, 69.21it/s]"
     ]
    },
    {
     "name": "stdout",
     "output_type": "stream",
     "text": [
      "test_815.txt\n",
      "test_816.txt\n",
      "test_817.txt\n",
      "test_818.txt\n",
      "test_819.txt\n"
     ]
    },
    {
     "name": "stderr",
     "output_type": "stream",
     "text": [
      "\r",
      "  3%|█▎                                    | 820/24526 [00:11<05:43, 68.97it/s]"
     ]
    },
    {
     "name": "stdout",
     "output_type": "stream",
     "text": [
      "test_820.txt\n",
      "test_821.txt\n",
      "test_822.txt\n",
      "test_823.txt\n",
      "test_824.txt\n",
      "test_825.txt\n"
     ]
    },
    {
     "name": "stderr",
     "output_type": "stream",
     "text": [
      "\r",
      "  3%|█▎                                    | 826/24526 [00:12<05:44, 68.77it/s]"
     ]
    },
    {
     "name": "stdout",
     "output_type": "stream",
     "text": [
      "test_826.txt\n",
      "test_827.txt\n",
      "test_828.txt\n",
      "test_829.txt\n",
      "test_830.txt\n",
      "test_831.txt\n"
     ]
    },
    {
     "name": "stderr",
     "output_type": "stream",
     "text": [
      "\r",
      "  3%|█▎                                    | 832/24526 [00:12<05:44, 68.69it/s]"
     ]
    },
    {
     "name": "stdout",
     "output_type": "stream",
     "text": [
      "test_832.txt\n",
      "test_833.txt\n",
      "test_834.txt\n",
      "test_835.txt\n",
      "test_836.txt\n",
      "test_837.txt\n"
     ]
    },
    {
     "name": "stderr",
     "output_type": "stream",
     "text": [
      "\r",
      "  3%|█▎                                    | 838/24526 [00:12<05:45, 68.47it/s]"
     ]
    },
    {
     "name": "stdout",
     "output_type": "stream",
     "text": [
      "test_838.txt\n",
      "test_839.txt\n",
      "test_840.txt\n",
      "test_841.txt\n",
      "test_842.txt\n",
      "test_843.txt\n",
      "test_844.txt\n"
     ]
    },
    {
     "name": "stderr",
     "output_type": "stream",
     "text": [
      "\r",
      "  3%|█▎                                    | 845/24526 [00:12<05:46, 68.39it/s]"
     ]
    },
    {
     "name": "stdout",
     "output_type": "stream",
     "text": [
      "test_845.txt\n",
      "test_846.txt\n",
      "test_847.txt\n",
      "test_848.txt\n",
      "test_849.txt\n",
      "test_850.txt\n"
     ]
    },
    {
     "name": "stderr",
     "output_type": "stream",
     "text": [
      "\r",
      "  3%|█▎                                    | 851/24526 [00:12<05:46, 68.23it/s]"
     ]
    },
    {
     "name": "stdout",
     "output_type": "stream",
     "text": [
      "test_851.txt\n",
      "test_852.txt\n",
      "test_853.txt\n",
      "test_854.txt\n",
      "test_855.txt\n",
      "test_856.txt\n"
     ]
    },
    {
     "name": "stderr",
     "output_type": "stream",
     "text": [
      "\r",
      "  3%|█▎                                    | 857/24526 [00:12<05:48, 68.00it/s]"
     ]
    },
    {
     "name": "stdout",
     "output_type": "stream",
     "text": [
      "test_857.txt\n",
      "test_858.txt\n",
      "test_859.txt\n",
      "test_860.txt\n",
      "test_861.txt\n",
      "test_862.txt\n",
      "test_863.txt\n"
     ]
    },
    {
     "name": "stderr",
     "output_type": "stream",
     "text": [
      "\r",
      "  4%|█▎                                    | 864/24526 [00:12<05:48, 67.95it/s]"
     ]
    },
    {
     "name": "stdout",
     "output_type": "stream",
     "text": [
      "test_864.txt\n",
      "test_865.txt\n",
      "test_866.txt\n",
      "test_867.txt\n",
      "test_868.txt\n",
      "test_869.txt\n"
     ]
    },
    {
     "name": "stderr",
     "output_type": "stream",
     "text": [
      "\r",
      "  4%|█▎                                    | 870/24526 [00:12<05:49, 67.77it/s]"
     ]
    },
    {
     "name": "stdout",
     "output_type": "stream",
     "text": [
      "test_870.txt\n",
      "test_871.txt\n",
      "test_872.txt\n",
      "test_873.txt\n",
      "test_874.txt\n",
      "test_875.txt\n"
     ]
    },
    {
     "name": "stderr",
     "output_type": "stream",
     "text": [
      "\r",
      "  4%|█▎                                    | 876/24526 [00:12<05:50, 67.51it/s]"
     ]
    },
    {
     "name": "stdout",
     "output_type": "stream",
     "text": [
      "test_876.txt\n",
      "test_877.txt\n",
      "test_878.txt\n",
      "test_879.txt\n",
      "test_880.txt\n"
     ]
    },
    {
     "name": "stderr",
     "output_type": "stream",
     "text": [
      "\r",
      "  4%|█▎                                    | 881/24526 [00:13<05:51, 67.31it/s]"
     ]
    },
    {
     "name": "stdout",
     "output_type": "stream",
     "text": [
      "test_881.txt\n",
      "test_882.txt\n",
      "test_883.txt\n",
      "test_884.txt\n",
      "test_885.txt\n"
     ]
    },
    {
     "name": "stderr",
     "output_type": "stream",
     "text": [
      "\r",
      "  4%|█▎                                    | 886/24526 [00:13<05:52, 67.10it/s]"
     ]
    },
    {
     "name": "stdout",
     "output_type": "stream",
     "text": [
      "test_886.txt\n",
      "test_887.txt\n",
      "test_888.txt\n",
      "test_889.txt\n",
      "test_890.txt\n",
      "test_891.txt\n"
     ]
    },
    {
     "name": "stderr",
     "output_type": "stream",
     "text": [
      "\r",
      "  4%|█▍                                    | 892/24526 [00:13<05:52, 66.97it/s]"
     ]
    },
    {
     "name": "stdout",
     "output_type": "stream",
     "text": [
      "test_892.txt\n",
      "test_893.txt\n",
      "test_894.txt\n",
      "test_895.txt\n",
      "test_896.txt\n",
      "test_897.txt\n"
     ]
    },
    {
     "name": "stderr",
     "output_type": "stream",
     "text": [
      "\r",
      "  4%|█▍                                    | 898/24526 [00:13<05:53, 66.86it/s]"
     ]
    },
    {
     "name": "stdout",
     "output_type": "stream",
     "text": [
      "test_898.txt\n",
      "test_899.txt\n",
      "test_900.txt\n",
      "test_901.txt\n",
      "test_902.txt\n",
      "test_903.txt\n",
      "test_904.txt\n"
     ]
    },
    {
     "name": "stderr",
     "output_type": "stream",
     "text": [
      "\r",
      "  4%|█▍                                    | 905/24526 [00:13<05:53, 66.85it/s]"
     ]
    },
    {
     "name": "stdout",
     "output_type": "stream",
     "text": [
      "test_905.txt\n",
      "test_906.txt\n",
      "test_907.txt\n",
      "test_908.txt\n",
      "test_909.txt\n",
      "test_910.txt\n"
     ]
    },
    {
     "name": "stderr",
     "output_type": "stream",
     "text": [
      "\r",
      "  4%|█▍                                    | 911/24526 [00:13<05:54, 66.61it/s]"
     ]
    },
    {
     "name": "stdout",
     "output_type": "stream",
     "text": [
      "test_911.txt\n",
      "test_912.txt\n",
      "test_913.txt\n",
      "test_914.txt\n",
      "test_915.txt\n",
      "test_916.txt\n"
     ]
    },
    {
     "name": "stderr",
     "output_type": "stream",
     "text": [
      "\r",
      "  4%|█▍                                    | 917/24526 [00:13<05:55, 66.44it/s]"
     ]
    },
    {
     "name": "stdout",
     "output_type": "stream",
     "text": [
      "test_917.txt\n",
      "test_918.txt\n",
      "test_919.txt\n",
      "test_920.txt\n",
      "test_921.txt\n",
      "test_922.txt\n"
     ]
    },
    {
     "name": "stderr",
     "output_type": "stream",
     "text": [
      "\r",
      "  4%|█▍                                    | 923/24526 [00:13<05:55, 66.32it/s]"
     ]
    },
    {
     "name": "stdout",
     "output_type": "stream",
     "text": [
      "test_923.txt\n",
      "test_924.txt\n",
      "test_925.txt\n",
      "test_926.txt\n",
      "test_927.txt\n",
      "test_928.txt\n"
     ]
    },
    {
     "name": "stderr",
     "output_type": "stream",
     "text": [
      "\r",
      "  4%|█▍                                    | 929/24526 [00:14<05:56, 66.24it/s]"
     ]
    },
    {
     "name": "stdout",
     "output_type": "stream",
     "text": [
      "test_929.txt\n",
      "test_930.txt\n",
      "test_931.txt\n",
      "test_932.txt\n",
      "test_933.txt\n",
      "test_934.txt\n",
      "test_935.txt\n",
      "test_936.txt\n"
     ]
    },
    {
     "name": "stderr",
     "output_type": "stream",
     "text": [
      "\r",
      "  4%|█▍                                    | 937/24526 [00:14<05:55, 66.31it/s]"
     ]
    },
    {
     "name": "stdout",
     "output_type": "stream",
     "text": [
      "test_937.txt\n",
      "test_938.txt\n",
      "test_939.txt\n",
      "test_940.txt\n",
      "test_941.txt\n",
      "test_942.txt\n"
     ]
    },
    {
     "name": "stderr",
     "output_type": "stream",
     "text": [
      "\r",
      "  4%|█▍                                    | 943/24526 [00:14<05:56, 66.13it/s]"
     ]
    },
    {
     "name": "stdout",
     "output_type": "stream",
     "text": [
      "test_943.txt\n",
      "test_944.txt\n",
      "test_945.txt\n",
      "test_946.txt\n",
      "test_947.txt\n",
      "test_948.txt\n",
      "test_949.txt\n",
      "test_950.txt\n"
     ]
    },
    {
     "name": "stderr",
     "output_type": "stream",
     "text": [
      "\r",
      "  4%|█▍                                    | 951/24526 [00:14<05:56, 66.21it/s]"
     ]
    },
    {
     "name": "stdout",
     "output_type": "stream",
     "text": [
      "test_951.txt\n",
      "test_952.txt\n",
      "test_953.txt\n",
      "test_954.txt\n",
      "test_955.txt\n",
      "test_956.txt\n",
      "test_957.txt\n"
     ]
    },
    {
     "name": "stderr",
     "output_type": "stream",
     "text": [
      "\r",
      "  4%|█▍                                    | 958/24526 [00:14<05:56, 66.08it/s]"
     ]
    },
    {
     "name": "stdout",
     "output_type": "stream",
     "text": [
      "test_958.txt\n",
      "test_959.txt\n",
      "test_960.txt\n",
      "test_961.txt\n",
      "test_962.txt\n",
      "test_963.txt\n"
     ]
    },
    {
     "name": "stderr",
     "output_type": "stream",
     "text": [
      "\r",
      "  4%|█▍                                    | 964/24526 [00:14<05:57, 65.87it/s]"
     ]
    },
    {
     "name": "stdout",
     "output_type": "stream",
     "text": [
      "test_964.txt\n",
      "test_965.txt\n",
      "test_966.txt\n",
      "test_967.txt\n",
      "test_968.txt\n",
      "test_969.txt\n"
     ]
    },
    {
     "name": "stderr",
     "output_type": "stream",
     "text": [
      "\r",
      "  4%|█▌                                    | 970/24526 [00:14<05:58, 65.74it/s]"
     ]
    },
    {
     "name": "stdout",
     "output_type": "stream",
     "text": [
      "test_970.txt\n",
      "test_971.txt\n",
      "test_972.txt\n",
      "test_973.txt\n",
      "test_974.txt\n",
      "test_975.txt\n",
      "test_976.txt\n"
     ]
    },
    {
     "name": "stderr",
     "output_type": "stream",
     "text": [
      "\r",
      "  4%|█▌                                    | 977/24526 [00:14<05:58, 65.75it/s]"
     ]
    },
    {
     "name": "stdout",
     "output_type": "stream",
     "text": [
      "test_977.txt\n",
      "test_978.txt\n",
      "test_979.txt\n",
      "test_980.txt\n",
      "test_981.txt\n",
      "test_982.txt\n"
     ]
    },
    {
     "name": "stderr",
     "output_type": "stream",
     "text": [
      "\r",
      "  4%|█▌                                    | 983/24526 [00:14<05:58, 65.66it/s]"
     ]
    },
    {
     "name": "stdout",
     "output_type": "stream",
     "text": [
      "test_983.txt\n",
      "test_984.txt\n",
      "test_985.txt\n",
      "test_986.txt\n",
      "test_987.txt\n",
      "test_988.txt\n"
     ]
    },
    {
     "name": "stderr",
     "output_type": "stream",
     "text": [
      "\r",
      "  4%|█▌                                    | 989/24526 [00:15<05:59, 65.45it/s]"
     ]
    },
    {
     "name": "stdout",
     "output_type": "stream",
     "text": [
      "test_989.txt\n",
      "test_990.txt\n",
      "test_991.txt\n",
      "test_992.txt\n",
      "test_993.txt\n",
      "test_994.txt\n"
     ]
    },
    {
     "name": "stderr",
     "output_type": "stream",
     "text": [
      "\r",
      "  4%|█▌                                    | 995/24526 [00:15<06:00, 65.31it/s]"
     ]
    },
    {
     "name": "stdout",
     "output_type": "stream",
     "text": [
      "test_995.txt\n",
      "test_996.txt\n",
      "test_997.txt\n",
      "test_998.txt\n",
      "test_999.txt\n",
      "test_1000.txt\n"
     ]
    },
    {
     "name": "stderr",
     "output_type": "stream",
     "text": [
      "\r",
      "  4%|█▌                                   | 1001/24526 [00:15<06:00, 65.22it/s]"
     ]
    },
    {
     "name": "stdout",
     "output_type": "stream",
     "text": [
      "test_1001.txt\n",
      "test_1002.txt\n",
      "test_1003.txt\n",
      "test_1004.txt\n",
      "test_1005.txt\n",
      "test_1006.txt\n"
     ]
    },
    {
     "name": "stderr",
     "output_type": "stream",
     "text": [
      "\r",
      "  4%|█▌                                   | 1007/24526 [00:15<06:01, 65.14it/s]"
     ]
    },
    {
     "name": "stdout",
     "output_type": "stream",
     "text": [
      "test_1007.txt\n",
      "test_1008.txt\n",
      "test_1009.txt\n",
      "test_1010.txt\n",
      "test_1011.txt\n",
      "test_1012.txt\n"
     ]
    },
    {
     "name": "stderr",
     "output_type": "stream",
     "text": [
      "\r",
      "  4%|█▌                                   | 1013/24526 [00:15<06:01, 65.05it/s]"
     ]
    },
    {
     "name": "stdout",
     "output_type": "stream",
     "text": [
      "test_1013.txt\n",
      "test_1014.txt\n",
      "test_1015.txt\n",
      "test_1016.txt\n",
      "test_1017.txt\n",
      "test_1018.txt\n",
      "test_1019.txt\n"
     ]
    },
    {
     "name": "stderr",
     "output_type": "stream",
     "text": [
      "\r",
      "  4%|█▌                                   | 1020/24526 [00:15<06:01, 65.01it/s]"
     ]
    },
    {
     "name": "stdout",
     "output_type": "stream",
     "text": [
      "test_1020.txt\n",
      "test_1021.txt\n",
      "test_1022.txt\n",
      "test_1023.txt\n",
      "test_1024.txt\n",
      "test_1025.txt\n"
     ]
    },
    {
     "name": "stderr",
     "output_type": "stream",
     "text": [
      "\r",
      "  4%|█▌                                   | 1026/24526 [00:15<06:02, 64.91it/s]"
     ]
    },
    {
     "name": "stdout",
     "output_type": "stream",
     "text": [
      "test_1026.txt\n",
      "test_1027.txt\n",
      "test_1028.txt\n",
      "test_1029.txt\n",
      "test_1030.txt\n",
      "test_1031.txt\n"
     ]
    },
    {
     "name": "stderr",
     "output_type": "stream",
     "text": [
      "\r",
      "  4%|█▌                                   | 1032/24526 [00:15<06:02, 64.82it/s]"
     ]
    },
    {
     "name": "stdout",
     "output_type": "stream",
     "text": [
      "test_1032.txt\n",
      "test_1033.txt\n",
      "test_1034.txt\n",
      "test_1035.txt\n",
      "test_1036.txt\n",
      "test_1037.txt\n"
     ]
    },
    {
     "name": "stderr",
     "output_type": "stream",
     "text": [
      "\r",
      "  4%|█▌                                   | 1038/24526 [00:16<06:02, 64.77it/s]"
     ]
    },
    {
     "name": "stdout",
     "output_type": "stream",
     "text": [
      "test_1038.txt\n",
      "test_1039.txt\n",
      "test_1040.txt\n",
      "test_1041.txt\n",
      "test_1042.txt\n",
      "test_1043.txt\n"
     ]
    },
    {
     "name": "stderr",
     "output_type": "stream",
     "text": [
      "\r",
      "  4%|█▌                                   | 1044/24526 [00:16<06:02, 64.73it/s]"
     ]
    },
    {
     "name": "stdout",
     "output_type": "stream",
     "text": [
      "test_1044.txt\n",
      "test_1045.txt\n",
      "test_1046.txt\n",
      "test_1047.txt\n",
      "test_1048.txt\n",
      "test_1049.txt\n"
     ]
    },
    {
     "name": "stderr",
     "output_type": "stream",
     "text": [
      "\r",
      "  4%|█▌                                   | 1050/24526 [00:16<06:03, 64.65it/s]"
     ]
    },
    {
     "name": "stdout",
     "output_type": "stream",
     "text": [
      "test_1050.txt\n",
      "test_1051.txt\n",
      "test_1052.txt\n",
      "test_1053.txt\n",
      "test_1054.txt\n",
      "test_1055.txt\n"
     ]
    },
    {
     "name": "stderr",
     "output_type": "stream",
     "text": [
      "\r",
      "  4%|█▌                                   | 1056/24526 [00:16<06:03, 64.51it/s]"
     ]
    },
    {
     "name": "stdout",
     "output_type": "stream",
     "text": [
      "test_1056.txt\n",
      "test_1057.txt\n",
      "test_1058.txt\n",
      "test_1059.txt\n",
      "test_1060.txt\n",
      "test_1061.txt\n",
      "test_1062.txt\n"
     ]
    },
    {
     "name": "stderr",
     "output_type": "stream",
     "text": [
      "\r",
      "  4%|█▌                                   | 1063/24526 [00:16<06:03, 64.50it/s]"
     ]
    },
    {
     "name": "stdout",
     "output_type": "stream",
     "text": [
      "test_1063.txt\n",
      "test_1064.txt\n",
      "test_1065.txt\n",
      "test_1066.txt\n",
      "test_1067.txt\n",
      "test_1068.txt\n"
     ]
    },
    {
     "name": "stderr",
     "output_type": "stream",
     "text": [
      "\r",
      "  4%|█▌                                   | 1069/24526 [00:16<06:04, 64.40it/s]"
     ]
    },
    {
     "name": "stdout",
     "output_type": "stream",
     "text": [
      "test_1069.txt\n",
      "test_1070.txt\n",
      "test_1071.txt\n",
      "test_1072.txt\n",
      "test_1073.txt\n",
      "test_1074.txt\n"
     ]
    },
    {
     "name": "stderr",
     "output_type": "stream",
     "text": [
      "\r",
      "  4%|█▌                                   | 1075/24526 [00:16<06:04, 64.30it/s]"
     ]
    },
    {
     "name": "stdout",
     "output_type": "stream",
     "text": [
      "test_1075.txt\n",
      "test_1076.txt\n",
      "test_1077.txt\n",
      "test_1078.txt\n",
      "test_1079.txt\n",
      "test_1080.txt\n"
     ]
    },
    {
     "name": "stderr",
     "output_type": "stream",
     "text": [
      "\r",
      "  4%|█▋                                   | 1081/24526 [00:16<06:05, 64.20it/s]"
     ]
    },
    {
     "name": "stdout",
     "output_type": "stream",
     "text": [
      "test_1081.txt\n",
      "test_1082.txt\n",
      "test_1083.txt\n",
      "test_1084.txt\n",
      "test_1085.txt\n",
      "test_1086.txt\n"
     ]
    },
    {
     "name": "stderr",
     "output_type": "stream",
     "text": [
      "\r",
      "  4%|█▋                                   | 1087/24526 [00:16<06:05, 64.10it/s]"
     ]
    },
    {
     "name": "stdout",
     "output_type": "stream",
     "text": [
      "test_1087.txt\n",
      "test_1088.txt\n",
      "test_1089.txt\n",
      "test_1090.txt\n",
      "test_1091.txt\n",
      "test_1092.txt\n"
     ]
    },
    {
     "name": "stderr",
     "output_type": "stream",
     "text": [
      "\r",
      "  4%|█▋                                   | 1093/24526 [00:17<06:05, 64.03it/s]"
     ]
    },
    {
     "name": "stdout",
     "output_type": "stream",
     "text": [
      "test_1093.txt\n",
      "test_1094.txt\n",
      "test_1095.txt\n",
      "test_1096.txt\n",
      "test_1097.txt\n",
      "test_1098.txt\n",
      "test_1099.txt\n"
     ]
    },
    {
     "name": "stderr",
     "output_type": "stream",
     "text": [
      "\r",
      "  4%|█▋                                   | 1100/24526 [00:17<06:05, 64.03it/s]"
     ]
    },
    {
     "name": "stdout",
     "output_type": "stream",
     "text": [
      "test_1100.txt\n",
      "test_1101.txt\n",
      "test_1102.txt\n",
      "test_1103.txt\n",
      "test_1104.txt\n",
      "test_1105.txt\n",
      "test_1106.txt\n"
     ]
    },
    {
     "name": "stderr",
     "output_type": "stream",
     "text": [
      "\r",
      "  5%|█▋                                   | 1107/24526 [00:17<06:05, 64.00it/s]"
     ]
    },
    {
     "name": "stdout",
     "output_type": "stream",
     "text": [
      "test_1107.txt\n",
      "test_1108.txt\n",
      "test_1109.txt\n",
      "test_1110.txt\n",
      "test_1111.txt\n",
      "test_1112.txt\n",
      "test_1113.txt\n",
      "test_1114.txt\n"
     ]
    },
    {
     "name": "stderr",
     "output_type": "stream",
     "text": [
      "\r",
      "  5%|█▋                                   | 1115/24526 [00:17<06:05, 64.07it/s]"
     ]
    },
    {
     "name": "stdout",
     "output_type": "stream",
     "text": [
      "test_1115.txt\n",
      "test_1116.txt\n",
      "test_1117.txt\n",
      "test_1118.txt\n",
      "test_1119.txt\n",
      "test_1120.txt\n",
      "test_1121.txt\n"
     ]
    },
    {
     "name": "stderr",
     "output_type": "stream",
     "text": [
      "\r",
      "  5%|█▋                                   | 1122/24526 [00:17<06:05, 64.03it/s]"
     ]
    },
    {
     "name": "stdout",
     "output_type": "stream",
     "text": [
      "test_1122.txt\n",
      "test_1123.txt\n",
      "test_1124.txt\n",
      "test_1125.txt\n",
      "test_1126.txt\n",
      "test_1127.txt\n",
      "test_1128.txt\n",
      "test_1129.txt\n"
     ]
    },
    {
     "name": "stderr",
     "output_type": "stream",
     "text": [
      "\r",
      "  5%|█▋                                   | 1130/24526 [00:17<06:05, 64.09it/s]"
     ]
    },
    {
     "name": "stdout",
     "output_type": "stream",
     "text": [
      "test_1130.txt\n",
      "test_1131.txt\n",
      "test_1132.txt\n",
      "test_1133.txt\n",
      "test_1134.txt\n",
      "test_1135.txt\n",
      "test_1136.txt\n"
     ]
    },
    {
     "name": "stderr",
     "output_type": "stream",
     "text": [
      "\r",
      "  5%|█▋                                   | 1137/24526 [00:17<06:05, 64.01it/s]"
     ]
    },
    {
     "name": "stdout",
     "output_type": "stream",
     "text": [
      "test_1137.txt\n",
      "test_1138.txt\n",
      "test_1139.txt\n",
      "test_1140.txt\n",
      "test_1141.txt\n",
      "test_1142.txt\n",
      "test_1143.txt\n"
     ]
    },
    {
     "name": "stderr",
     "output_type": "stream",
     "text": [
      "\r",
      "  5%|█▋                                   | 1144/24526 [00:17<06:05, 64.00it/s]"
     ]
    },
    {
     "name": "stdout",
     "output_type": "stream",
     "text": [
      "test_1144.txt\n",
      "test_1145.txt\n",
      "test_1146.txt\n",
      "test_1147.txt\n",
      "test_1148.txt\n",
      "test_1149.txt\n",
      "test_1150.txt\n"
     ]
    },
    {
     "name": "stderr",
     "output_type": "stream",
     "text": [
      "\r",
      "  5%|█▋                                   | 1151/24526 [00:18<06:05, 63.94it/s]"
     ]
    },
    {
     "name": "stdout",
     "output_type": "stream",
     "text": [
      "test_1151.txt\n",
      "test_1152.txt\n",
      "test_1153.txt\n",
      "test_1154.txt\n",
      "test_1155.txt\n",
      "test_1156.txt\n",
      "test_1157.txt\n",
      "test_1158.txt\n"
     ]
    },
    {
     "name": "stderr",
     "output_type": "stream",
     "text": [
      "\r",
      "  5%|█▋                                   | 1159/24526 [00:18<06:05, 64.00it/s]"
     ]
    },
    {
     "name": "stdout",
     "output_type": "stream",
     "text": [
      "test_1159.txt\n",
      "test_1160.txt\n",
      "test_1161.txt\n",
      "test_1162.txt\n",
      "test_1163.txt\n",
      "test_1164.txt\n",
      "test_1165.txt\n"
     ]
    },
    {
     "name": "stderr",
     "output_type": "stream",
     "text": [
      "\r",
      "  5%|█▊                                   | 1166/24526 [00:18<06:05, 63.89it/s]"
     ]
    },
    {
     "name": "stdout",
     "output_type": "stream",
     "text": [
      "test_1166.txt\n",
      "test_1167.txt\n",
      "test_1168.txt\n",
      "test_1169.txt\n",
      "test_1170.txt\n",
      "test_1171.txt\n",
      "test_1172.txt\n"
     ]
    },
    {
     "name": "stderr",
     "output_type": "stream",
     "text": [
      "\r",
      "  5%|█▊                                   | 1173/24526 [00:18<06:05, 63.88it/s]"
     ]
    },
    {
     "name": "stdout",
     "output_type": "stream",
     "text": [
      "test_1173.txt\n",
      "test_1174.txt\n",
      "test_1175.txt\n",
      "test_1176.txt\n",
      "test_1177.txt\n",
      "test_1178.txt\n",
      "test_1179.txt\n"
     ]
    },
    {
     "name": "stderr",
     "output_type": "stream",
     "text": [
      "\r",
      "  5%|█▊                                   | 1180/24526 [00:18<06:05, 63.80it/s]"
     ]
    },
    {
     "name": "stdout",
     "output_type": "stream",
     "text": [
      "test_1180.txt\n",
      "test_1181.txt\n",
      "test_1182.txt\n",
      "test_1183.txt\n",
      "test_1184.txt\n",
      "test_1185.txt\n"
     ]
    },
    {
     "name": "stderr",
     "output_type": "stream",
     "text": [
      "\r",
      "  5%|█▊                                   | 1186/24526 [00:18<06:06, 63.75it/s]"
     ]
    },
    {
     "name": "stdout",
     "output_type": "stream",
     "text": [
      "test_1186.txt\n",
      "test_1187.txt\n",
      "test_1188.txt\n",
      "test_1189.txt\n",
      "test_1190.txt\n",
      "test_1191.txt\n",
      "test_1192.txt\n"
     ]
    },
    {
     "name": "stderr",
     "output_type": "stream",
     "text": [
      "\r",
      "  5%|█▊                                   | 1193/24526 [00:18<06:05, 63.76it/s]"
     ]
    },
    {
     "name": "stdout",
     "output_type": "stream",
     "text": [
      "test_1193.txt\n",
      "test_1194.txt\n",
      "test_1195.txt\n",
      "test_1196.txt\n",
      "test_1197.txt\n",
      "test_1198.txt\n",
      "test_1199.txt\n"
     ]
    },
    {
     "name": "stderr",
     "output_type": "stream",
     "text": [
      "\r",
      "  5%|█▊                                   | 1200/24526 [00:18<06:06, 63.72it/s]"
     ]
    },
    {
     "name": "stdout",
     "output_type": "stream",
     "text": [
      "test_1200.txt\n",
      "test_1201.txt\n",
      "test_1202.txt\n",
      "test_1203.txt\n",
      "test_1204.txt\n",
      "test_1205.txt\n"
     ]
    },
    {
     "name": "stderr",
     "output_type": "stream",
     "text": [
      "\r",
      "  5%|█▊                                   | 1206/24526 [00:18<06:06, 63.68it/s]"
     ]
    },
    {
     "name": "stdout",
     "output_type": "stream",
     "text": [
      "test_1206.txt\n",
      "test_1207.txt\n",
      "test_1208.txt\n",
      "test_1209.txt\n",
      "test_1210.txt\n",
      "test_1211.txt\n",
      "test_1212.txt\n"
     ]
    },
    {
     "name": "stderr",
     "output_type": "stream",
     "text": [
      "\r",
      "  5%|█▊                                   | 1213/24526 [00:19<06:05, 63.70it/s]"
     ]
    },
    {
     "name": "stdout",
     "output_type": "stream",
     "text": [
      "test_1213.txt\n",
      "test_1214.txt\n",
      "test_1215.txt\n",
      "test_1216.txt\n",
      "test_1217.txt\n",
      "test_1218.txt\n",
      "test_1219.txt\n"
     ]
    },
    {
     "name": "stderr",
     "output_type": "stream",
     "text": [
      "\r",
      "  5%|█▊                                   | 1220/24526 [00:19<06:06, 63.61it/s]"
     ]
    },
    {
     "name": "stdout",
     "output_type": "stream",
     "text": [
      "test_1220.txt\n",
      "test_1221.txt\n",
      "test_1222.txt\n",
      "test_1223.txt\n",
      "test_1224.txt\n",
      "test_1225.txt\n",
      "test_1226.txt\n"
     ]
    },
    {
     "name": "stderr",
     "output_type": "stream",
     "text": [
      "\r",
      "  5%|█▊                                   | 1227/24526 [00:19<06:06, 63.61it/s]"
     ]
    },
    {
     "name": "stdout",
     "output_type": "stream",
     "text": [
      "test_1227.txt\n",
      "test_1228.txt\n",
      "test_1229.txt\n",
      "test_1230.txt\n",
      "test_1231.txt\n",
      "test_1232.txt\n"
     ]
    },
    {
     "name": "stderr",
     "output_type": "stream",
     "text": [
      "\r",
      "  5%|█▊                                   | 1233/24526 [00:19<06:06, 63.57it/s]"
     ]
    },
    {
     "name": "stdout",
     "output_type": "stream",
     "text": [
      "test_1233.txt\n",
      "test_1234.txt\n",
      "test_1235.txt\n",
      "test_1236.txt\n",
      "test_1237.txt\n",
      "test_1238.txt\n",
      "test_1239.txt\n"
     ]
    },
    {
     "name": "stderr",
     "output_type": "stream",
     "text": [
      "\r",
      "  5%|█▊                                   | 1240/24526 [00:19<06:06, 63.57it/s]"
     ]
    },
    {
     "name": "stdout",
     "output_type": "stream",
     "text": [
      "test_1240.txt\n",
      "test_1241.txt\n",
      "test_1242.txt\n",
      "test_1243.txt\n",
      "test_1244.txt\n",
      "test_1245.txt\n",
      "test_1246.txt\n"
     ]
    },
    {
     "name": "stderr",
     "output_type": "stream",
     "text": [
      "\r",
      "  5%|█▉                                   | 1247/24526 [00:19<06:06, 63.51it/s]"
     ]
    },
    {
     "name": "stdout",
     "output_type": "stream",
     "text": [
      "test_1247.txt\n",
      "test_1248.txt\n",
      "test_1249.txt\n",
      "test_1250.txt\n",
      "test_1251.txt\n",
      "test_1252.txt\n"
     ]
    },
    {
     "name": "stderr",
     "output_type": "stream",
     "text": [
      "\r",
      "  5%|█▉                                   | 1253/24526 [00:19<06:06, 63.48it/s]"
     ]
    },
    {
     "name": "stdout",
     "output_type": "stream",
     "text": [
      "test_1253.txt\n",
      "test_1254.txt\n",
      "test_1255.txt\n",
      "test_1256.txt\n",
      "test_1257.txt\n",
      "test_1258.txt\n"
     ]
    },
    {
     "name": "stderr",
     "output_type": "stream",
     "text": [
      "\r",
      "  5%|█▉                                   | 1259/24526 [00:19<06:06, 63.45it/s]"
     ]
    },
    {
     "name": "stdout",
     "output_type": "stream",
     "text": [
      "test_1259.txt\n",
      "test_1260.txt\n",
      "test_1261.txt\n",
      "test_1262.txt\n",
      "test_1263.txt\n",
      "test_1264.txt\n"
     ]
    },
    {
     "name": "stderr",
     "output_type": "stream",
     "text": [
      "\r",
      "  5%|█▉                                   | 1265/24526 [00:19<06:06, 63.39it/s]"
     ]
    },
    {
     "name": "stdout",
     "output_type": "stream",
     "text": [
      "test_1265.txt\n",
      "test_1266.txt\n",
      "test_1267.txt\n",
      "test_1268.txt\n",
      "test_1269.txt\n",
      "test_1270.txt\n",
      "test_1271.txt\n",
      "test_1272.txt\n"
     ]
    },
    {
     "name": "stderr",
     "output_type": "stream",
     "text": [
      "\r",
      "  5%|█▉                                   | 1273/24526 [00:20<06:06, 63.42it/s]"
     ]
    },
    {
     "name": "stdout",
     "output_type": "stream",
     "text": [
      "test_1273.txt\n",
      "test_1274.txt\n",
      "test_1275.txt\n",
      "test_1276.txt\n",
      "test_1277.txt\n",
      "test_1278.txt\n",
      "test_1279.txt\n"
     ]
    },
    {
     "name": "stderr",
     "output_type": "stream",
     "text": [
      "\r",
      "  5%|█▉                                   | 1280/24526 [00:20<06:06, 63.40it/s]"
     ]
    },
    {
     "name": "stdout",
     "output_type": "stream",
     "text": [
      "test_1280.txt\n",
      "test_1281.txt\n",
      "test_1282.txt\n",
      "test_1283.txt\n",
      "test_1284.txt\n",
      "test_1285.txt\n",
      "test_1286.txt\n"
     ]
    },
    {
     "name": "stderr",
     "output_type": "stream",
     "text": [
      "\r",
      "  5%|█▉                                   | 1287/24526 [00:20<06:06, 63.40it/s]"
     ]
    },
    {
     "name": "stdout",
     "output_type": "stream",
     "text": [
      "test_1287.txt\n",
      "test_1288.txt\n",
      "test_1289.txt\n",
      "test_1290.txt\n",
      "test_1291.txt\n",
      "test_1292.txt\n",
      "test_1293.txt\n"
     ]
    },
    {
     "name": "stderr",
     "output_type": "stream",
     "text": [
      "\r",
      "  5%|█▉                                   | 1294/24526 [00:20<06:06, 63.39it/s]"
     ]
    },
    {
     "name": "stdout",
     "output_type": "stream",
     "text": [
      "test_1294.txt\n",
      "test_1295.txt\n",
      "test_1296.txt\n",
      "test_1297.txt\n",
      "test_1298.txt\n",
      "test_1299.txt\n",
      "test_1300.txt\n"
     ]
    },
    {
     "name": "stderr",
     "output_type": "stream",
     "text": [
      "\r",
      "  5%|█▉                                   | 1301/24526 [00:20<06:06, 63.38it/s]"
     ]
    },
    {
     "name": "stdout",
     "output_type": "stream",
     "text": [
      "test_1301.txt\n",
      "test_1302.txt\n",
      "test_1303.txt\n",
      "test_1304.txt\n",
      "test_1305.txt\n",
      "test_1306.txt\n",
      "test_1307.txt\n"
     ]
    },
    {
     "name": "stderr",
     "output_type": "stream",
     "text": [
      "\r",
      "  5%|█▉                                   | 1308/24526 [00:20<06:06, 63.40it/s]"
     ]
    },
    {
     "name": "stdout",
     "output_type": "stream",
     "text": [
      "test_1308.txt\n",
      "test_1309.txt\n",
      "test_1310.txt\n",
      "test_1311.txt\n",
      "test_1312.txt\n",
      "test_1313.txt\n",
      "test_1314.txt\n"
     ]
    },
    {
     "name": "stderr",
     "output_type": "stream",
     "text": [
      "\r",
      "  5%|█▉                                   | 1315/24526 [00:20<06:06, 63.37it/s]"
     ]
    },
    {
     "name": "stdout",
     "output_type": "stream",
     "text": [
      "test_1315.txt\n",
      "test_1316.txt\n",
      "test_1317.txt\n",
      "test_1318.txt\n",
      "test_1319.txt\n",
      "test_1320.txt\n",
      "test_1321.txt\n"
     ]
    },
    {
     "name": "stderr",
     "output_type": "stream",
     "text": [
      "\r",
      "  5%|█▉                                   | 1322/24526 [00:20<06:06, 63.35it/s]"
     ]
    },
    {
     "name": "stdout",
     "output_type": "stream",
     "text": [
      "test_1322.txt\n",
      "test_1323.txt\n",
      "test_1324.txt\n",
      "test_1325.txt\n",
      "test_1326.txt\n",
      "test_1327.txt\n",
      "test_1328.txt\n",
      "test_1329.txt\n"
     ]
    },
    {
     "name": "stderr",
     "output_type": "stream",
     "text": [
      "\r",
      "  5%|██                                   | 1330/24526 [00:20<06:06, 63.36it/s]"
     ]
    },
    {
     "name": "stdout",
     "output_type": "stream",
     "text": [
      "test_1330.txt\n",
      "test_1331.txt\n",
      "test_1332.txt\n",
      "test_1333.txt\n",
      "test_1334.txt\n",
      "test_1335.txt\n",
      "test_1336.txt\n"
     ]
    },
    {
     "name": "stderr",
     "output_type": "stream",
     "text": [
      "\r",
      "  5%|██                                   | 1337/24526 [00:21<06:05, 63.38it/s]"
     ]
    },
    {
     "name": "stdout",
     "output_type": "stream",
     "text": [
      "test_1337.txt\n",
      "test_1338.txt\n",
      "test_1339.txt\n",
      "test_1340.txt\n",
      "test_1341.txt\n",
      "test_1342.txt\n",
      "test_1343.txt\n",
      "test_1344.txt\n"
     ]
    },
    {
     "name": "stderr",
     "output_type": "stream",
     "text": [
      "\r",
      "  5%|██                                   | 1345/24526 [00:21<06:05, 63.45it/s]"
     ]
    },
    {
     "name": "stdout",
     "output_type": "stream",
     "text": [
      "test_1345.txt\n",
      "test_1346.txt\n",
      "test_1347.txt\n",
      "test_1348.txt\n",
      "test_1349.txt\n",
      "test_1350.txt\n",
      "test_1351.txt\n"
     ]
    },
    {
     "name": "stderr",
     "output_type": "stream",
     "text": [
      "\r",
      "  6%|██                                   | 1352/24526 [00:21<06:05, 63.32it/s]"
     ]
    },
    {
     "name": "stdout",
     "output_type": "stream",
     "text": [
      "test_1352.txt\n",
      "test_1353.txt\n",
      "test_1354.txt\n",
      "test_1355.txt\n",
      "test_1356.txt\n",
      "test_1357.txt\n",
      "test_1358.txt\n"
     ]
    },
    {
     "name": "stderr",
     "output_type": "stream",
     "text": [
      "\r",
      "  6%|██                                   | 1359/24526 [00:21<06:06, 63.17it/s]"
     ]
    },
    {
     "name": "stdout",
     "output_type": "stream",
     "text": [
      "test_1359.txt\n",
      "test_1360.txt\n",
      "test_1361.txt\n",
      "test_1362.txt\n",
      "test_1363.txt\n",
      "test_1364.txt\n"
     ]
    },
    {
     "name": "stderr",
     "output_type": "stream",
     "text": [
      "\r",
      "  6%|██                                   | 1365/24526 [00:21<06:06, 63.15it/s]"
     ]
    },
    {
     "name": "stdout",
     "output_type": "stream",
     "text": [
      "test_1365.txt\n",
      "test_1366.txt\n",
      "test_1367.txt\n",
      "test_1368.txt\n",
      "test_1369.txt\n",
      "test_1370.txt\n",
      "test_1371.txt\n"
     ]
    },
    {
     "name": "stderr",
     "output_type": "stream",
     "text": [
      "\r",
      "  6%|██                                   | 1372/24526 [00:21<06:06, 63.17it/s]"
     ]
    },
    {
     "name": "stdout",
     "output_type": "stream",
     "text": [
      "test_1372.txt\n",
      "test_1373.txt\n",
      "test_1374.txt\n",
      "test_1375.txt\n",
      "test_1376.txt\n",
      "test_1377.txt\n",
      "test_1378.txt\n"
     ]
    },
    {
     "name": "stderr",
     "output_type": "stream",
     "text": [
      "\r",
      "  6%|██                                   | 1379/24526 [00:21<06:06, 63.18it/s]"
     ]
    },
    {
     "name": "stdout",
     "output_type": "stream",
     "text": [
      "test_1379.txt\n",
      "test_1380.txt\n",
      "test_1381.txt\n",
      "test_1382.txt\n",
      "test_1383.txt\n",
      "test_1384.txt\n",
      "test_1385.txt\n"
     ]
    },
    {
     "name": "stderr",
     "output_type": "stream",
     "text": [
      "\r",
      "  6%|██                                   | 1386/24526 [00:21<06:06, 63.14it/s]"
     ]
    },
    {
     "name": "stdout",
     "output_type": "stream",
     "text": [
      "test_1386.txt\n",
      "test_1387.txt\n",
      "test_1388.txt\n",
      "test_1389.txt\n",
      "test_1390.txt\n",
      "test_1391.txt\n",
      "test_1392.txt\n"
     ]
    },
    {
     "name": "stderr",
     "output_type": "stream",
     "text": [
      "\r",
      "  6%|██                                   | 1393/24526 [00:22<06:06, 63.15it/s]"
     ]
    },
    {
     "name": "stdout",
     "output_type": "stream",
     "text": [
      "test_1393.txt\n",
      "test_1394.txt\n",
      "test_1395.txt\n",
      "test_1396.txt\n",
      "test_1397.txt\n",
      "test_1398.txt\n",
      "test_1399.txt\n"
     ]
    },
    {
     "name": "stderr",
     "output_type": "stream",
     "text": [
      "\r",
      "  6%|██                                   | 1400/24526 [00:22<06:06, 63.09it/s]"
     ]
    },
    {
     "name": "stdout",
     "output_type": "stream",
     "text": [
      "test_1400.txt\n",
      "test_1401.txt\n",
      "test_1402.txt\n",
      "test_1403.txt\n",
      "test_1404.txt\n",
      "test_1405.txt\n"
     ]
    },
    {
     "name": "stderr",
     "output_type": "stream",
     "text": [
      "\r",
      "  6%|██                                   | 1406/24526 [00:22<06:06, 63.04it/s]"
     ]
    },
    {
     "name": "stdout",
     "output_type": "stream",
     "text": [
      "test_1406.txt\n",
      "test_1407.txt\n",
      "test_1408.txt\n",
      "test_1409.txt\n",
      "test_1410.txt\n",
      "test_1411.txt\n"
     ]
    },
    {
     "name": "stderr",
     "output_type": "stream",
     "text": [
      "\r",
      "  6%|██▏                                  | 1412/24526 [00:22<06:06, 63.02it/s]"
     ]
    },
    {
     "name": "stdout",
     "output_type": "stream",
     "text": [
      "test_1412.txt\n",
      "test_1413.txt\n",
      "test_1414.txt\n",
      "test_1415.txt\n",
      "test_1416.txt\n",
      "test_1417.txt\n",
      "test_1418.txt\n"
     ]
    },
    {
     "name": "stderr",
     "output_type": "stream",
     "text": [
      "\r",
      "  6%|██▏                                  | 1419/24526 [00:22<06:06, 63.01it/s]"
     ]
    },
    {
     "name": "stdout",
     "output_type": "stream",
     "text": [
      "test_1419.txt\n",
      "test_1420.txt\n",
      "test_1421.txt\n",
      "test_1422.txt\n",
      "test_1423.txt\n",
      "test_1424.txt\n"
     ]
    },
    {
     "name": "stderr",
     "output_type": "stream",
     "text": [
      "\r",
      "  6%|██▏                                  | 1425/24526 [00:22<06:07, 62.93it/s]"
     ]
    },
    {
     "name": "stdout",
     "output_type": "stream",
     "text": [
      "test_1425.txt\n",
      "test_1426.txt\n",
      "test_1427.txt\n",
      "test_1428.txt\n",
      "test_1429.txt\n",
      "test_1430.txt\n",
      "test_1431.txt\n"
     ]
    },
    {
     "name": "stderr",
     "output_type": "stream",
     "text": [
      "\r",
      "  6%|██▏                                  | 1432/24526 [00:22<06:07, 62.91it/s]"
     ]
    },
    {
     "name": "stdout",
     "output_type": "stream",
     "text": [
      "test_1432.txt\n",
      "test_1433.txt\n",
      "test_1434.txt\n",
      "test_1435.txt\n",
      "test_1436.txt\n",
      "test_1437.txt\n"
     ]
    },
    {
     "name": "stderr",
     "output_type": "stream",
     "text": [
      "\r",
      "  6%|██▏                                  | 1438/24526 [00:22<06:07, 62.87it/s]"
     ]
    },
    {
     "name": "stdout",
     "output_type": "stream",
     "text": [
      "test_1438.txt\n",
      "test_1439.txt\n",
      "test_1440.txt\n",
      "test_1441.txt\n",
      "test_1442.txt\n",
      "test_1443.txt\n"
     ]
    },
    {
     "name": "stderr",
     "output_type": "stream",
     "text": [
      "\r",
      "  6%|██▏                                  | 1444/24526 [00:22<06:07, 62.85it/s]"
     ]
    },
    {
     "name": "stdout",
     "output_type": "stream",
     "text": [
      "test_1444.txt\n",
      "test_1445.txt\n",
      "test_1446.txt\n",
      "test_1447.txt\n",
      "test_1448.txt\n",
      "test_1449.txt\n"
     ]
    },
    {
     "name": "stderr",
     "output_type": "stream",
     "text": [
      "\r",
      "  6%|██▏                                  | 1450/24526 [00:23<06:07, 62.82it/s]"
     ]
    },
    {
     "name": "stdout",
     "output_type": "stream",
     "text": [
      "test_1450.txt\n",
      "test_1451.txt\n",
      "test_1452.txt\n",
      "test_1453.txt\n",
      "test_1454.txt\n",
      "test_1455.txt\n",
      "test_1456.txt\n"
     ]
    },
    {
     "name": "stderr",
     "output_type": "stream",
     "text": [
      "\r",
      "  6%|██▏                                  | 1457/24526 [00:23<06:07, 62.84it/s]"
     ]
    },
    {
     "name": "stdout",
     "output_type": "stream",
     "text": [
      "test_1457.txt\n",
      "test_1458.txt\n",
      "test_1459.txt\n",
      "test_1460.txt\n",
      "test_1461.txt\n",
      "test_1462.txt\n"
     ]
    },
    {
     "name": "stderr",
     "output_type": "stream",
     "text": [
      "\r",
      "  6%|██▏                                  | 1463/24526 [00:23<06:07, 62.81it/s]"
     ]
    },
    {
     "name": "stdout",
     "output_type": "stream",
     "text": [
      "test_1463.txt\n",
      "test_1464.txt\n",
      "test_1465.txt\n",
      "test_1466.txt\n",
      "test_1467.txt\n",
      "test_1468.txt\n"
     ]
    },
    {
     "name": "stderr",
     "output_type": "stream",
     "text": [
      "\r",
      "  6%|██▏                                  | 1469/24526 [00:23<06:07, 62.75it/s]"
     ]
    },
    {
     "name": "stdout",
     "output_type": "stream",
     "text": [
      "test_1469.txt\n",
      "test_1470.txt\n",
      "test_1471.txt\n",
      "test_1472.txt\n",
      "test_1473.txt\n",
      "test_1474.txt\n",
      "test_1475.txt\n"
     ]
    },
    {
     "name": "stderr",
     "output_type": "stream",
     "text": [
      "\r",
      "  6%|██▏                                  | 1476/24526 [00:23<06:07, 62.77it/s]"
     ]
    },
    {
     "name": "stdout",
     "output_type": "stream",
     "text": [
      "test_1476.txt\n",
      "test_1477.txt\n",
      "test_1478.txt\n",
      "test_1479.txt\n",
      "test_1480.txt\n",
      "test_1481.txt\n",
      "test_1482.txt\n"
     ]
    },
    {
     "name": "stderr",
     "output_type": "stream",
     "text": [
      "\r",
      "  6%|██▏                                  | 1483/24526 [00:23<06:07, 62.76it/s]"
     ]
    },
    {
     "name": "stdout",
     "output_type": "stream",
     "text": [
      "test_1483.txt\n",
      "test_1484.txt\n",
      "test_1485.txt\n",
      "test_1486.txt\n",
      "test_1487.txt\n",
      "test_1488.txt\n"
     ]
    },
    {
     "name": "stderr",
     "output_type": "stream",
     "text": [
      "\r",
      "  6%|██▏                                  | 1489/24526 [00:23<06:07, 62.63it/s]"
     ]
    },
    {
     "name": "stdout",
     "output_type": "stream",
     "text": [
      "test_1489.txt\n",
      "test_1490.txt\n",
      "test_1491.txt\n",
      "test_1492.txt\n",
      "test_1493.txt\n",
      "test_1494.txt\n",
      "test_1495.txt\n",
      "test_1496.txt\n",
      "test_1497.txt\n"
     ]
    },
    {
     "name": "stderr",
     "output_type": "stream",
     "text": [
      "\r",
      "  6%|██▎                                  | 1498/24526 [00:23<06:07, 62.70it/s]"
     ]
    },
    {
     "name": "stdout",
     "output_type": "stream",
     "text": [
      "test_1498.txt\n",
      "test_1499.txt\n",
      "test_1500.txt\n",
      "test_1501.txt\n",
      "test_1502.txt\n",
      "test_1503.txt\n",
      "test_1504.txt\n",
      "test_1505.txt\n"
     ]
    },
    {
     "name": "stderr",
     "output_type": "stream",
     "text": [
      "\r",
      "  6%|██▎                                  | 1506/24526 [00:24<06:06, 62.74it/s]"
     ]
    },
    {
     "name": "stdout",
     "output_type": "stream",
     "text": [
      "test_1506.txt\n",
      "test_1507.txt\n",
      "test_1508.txt\n",
      "test_1509.txt\n",
      "test_1510.txt\n",
      "test_1511.txt\n",
      "test_1512.txt\n"
     ]
    },
    {
     "name": "stderr",
     "output_type": "stream",
     "text": [
      "\r",
      "  6%|██▎                                  | 1513/24526 [00:24<06:07, 62.70it/s]"
     ]
    },
    {
     "name": "stdout",
     "output_type": "stream",
     "text": [
      "test_1513.txt\n",
      "test_1514.txt\n",
      "test_1515.txt\n",
      "test_1516.txt\n",
      "test_1517.txt\n",
      "test_1518.txt\n",
      "test_1519.txt\n",
      "test_1520.txt\n"
     ]
    },
    {
     "name": "stderr",
     "output_type": "stream",
     "text": [
      "\r",
      "  6%|██▎                                  | 1521/24526 [00:24<06:06, 62.75it/s]"
     ]
    },
    {
     "name": "stdout",
     "output_type": "stream",
     "text": [
      "test_1521.txt\n",
      "test_1522.txt\n",
      "test_1523.txt\n",
      "test_1524.txt\n",
      "test_1525.txt\n",
      "test_1526.txt\n",
      "test_1527.txt\n"
     ]
    },
    {
     "name": "stderr",
     "output_type": "stream",
     "text": [
      "\r",
      "  6%|██▎                                  | 1528/24526 [00:24<06:06, 62.73it/s]"
     ]
    },
    {
     "name": "stdout",
     "output_type": "stream",
     "text": [
      "test_1528.txt\n",
      "test_1529.txt\n",
      "test_1530.txt\n",
      "test_1531.txt\n",
      "test_1532.txt\n",
      "test_1533.txt\n",
      "test_1534.txt\n"
     ]
    },
    {
     "name": "stderr",
     "output_type": "stream",
     "text": [
      "\r",
      "  6%|██▎                                  | 1535/24526 [00:24<06:06, 62.68it/s]"
     ]
    },
    {
     "name": "stdout",
     "output_type": "stream",
     "text": [
      "test_1535.txt\n",
      "test_1536.txt\n",
      "test_1537.txt\n",
      "test_1538.txt\n",
      "test_1539.txt\n",
      "test_1540.txt\n",
      "test_1541.txt\n"
     ]
    },
    {
     "name": "stderr",
     "output_type": "stream",
     "text": [
      "\r",
      "  6%|██▎                                  | 1542/24526 [00:24<06:06, 62.70it/s]"
     ]
    },
    {
     "name": "stdout",
     "output_type": "stream",
     "text": [
      "test_1542.txt\n",
      "test_1543.txt\n",
      "test_1544.txt\n",
      "test_1545.txt\n",
      "test_1546.txt\n",
      "test_1547.txt\n",
      "test_1548.txt\n"
     ]
    },
    {
     "name": "stderr",
     "output_type": "stream",
     "text": [
      "\r",
      "  6%|██▎                                  | 1549/24526 [00:24<06:06, 62.64it/s]"
     ]
    },
    {
     "name": "stdout",
     "output_type": "stream",
     "text": [
      "test_1549.txt\n",
      "test_1550.txt\n",
      "test_1551.txt\n",
      "test_1552.txt\n",
      "test_1553.txt\n",
      "test_1554.txt\n",
      "test_1555.txt\n",
      "test_1556.txt\n"
     ]
    },
    {
     "name": "stderr",
     "output_type": "stream",
     "text": [
      "\r",
      "  6%|██▎                                  | 1557/24526 [00:24<06:06, 62.67it/s]"
     ]
    },
    {
     "name": "stdout",
     "output_type": "stream",
     "text": [
      "test_1557.txt\n",
      "test_1558.txt\n",
      "test_1559.txt\n",
      "test_1560.txt\n",
      "test_1561.txt\n",
      "test_1562.txt\n",
      "test_1563.txt\n"
     ]
    },
    {
     "name": "stderr",
     "output_type": "stream",
     "text": [
      "\r",
      "  6%|██▎                                  | 1564/24526 [00:24<06:06, 62.64it/s]"
     ]
    },
    {
     "name": "stdout",
     "output_type": "stream",
     "text": [
      "test_1564.txt\n",
      "test_1565.txt\n",
      "test_1566.txt\n",
      "test_1567.txt\n",
      "test_1568.txt\n",
      "test_1569.txt\n",
      "test_1570.txt\n"
     ]
    },
    {
     "name": "stderr",
     "output_type": "stream",
     "text": [
      "\r",
      "  6%|██▎                                  | 1571/24526 [00:25<06:06, 62.59it/s]"
     ]
    },
    {
     "name": "stdout",
     "output_type": "stream",
     "text": [
      "test_1571.txt\n",
      "test_1572.txt\n",
      "test_1573.txt\n",
      "test_1574.txt\n",
      "test_1575.txt\n",
      "test_1576.txt\n"
     ]
    },
    {
     "name": "stderr",
     "output_type": "stream",
     "text": [
      "\r",
      "  6%|██▍                                  | 1577/24526 [00:25<06:06, 62.58it/s]"
     ]
    },
    {
     "name": "stdout",
     "output_type": "stream",
     "text": [
      "test_1577.txt\n",
      "test_1578.txt\n",
      "test_1579.txt\n",
      "test_1580.txt\n",
      "test_1581.txt\n",
      "test_1582.txt\n"
     ]
    },
    {
     "name": "stderr",
     "output_type": "stream",
     "text": [
      "\r",
      "  6%|██▍                                  | 1583/24526 [00:25<06:06, 62.55it/s]"
     ]
    },
    {
     "name": "stdout",
     "output_type": "stream",
     "text": [
      "test_1583.txt\n",
      "test_1584.txt\n",
      "test_1585.txt\n",
      "test_1586.txt\n",
      "test_1587.txt\n",
      "test_1588.txt\n",
      "test_1589.txt\n"
     ]
    },
    {
     "name": "stderr",
     "output_type": "stream",
     "text": [
      "\r",
      "  6%|██▍                                  | 1590/24526 [00:25<06:06, 62.54it/s]"
     ]
    },
    {
     "name": "stdout",
     "output_type": "stream",
     "text": [
      "test_1590.txt\n",
      "test_1591.txt\n",
      "test_1592.txt\n",
      "test_1593.txt\n",
      "test_1594.txt\n",
      "test_1595.txt\n",
      "test_1596.txt\n",
      "test_1597.txt\n"
     ]
    },
    {
     "name": "stderr",
     "output_type": "stream",
     "text": [
      "\r",
      "  7%|██▍                                  | 1598/24526 [00:25<06:06, 62.59it/s]"
     ]
    },
    {
     "name": "stdout",
     "output_type": "stream",
     "text": [
      "test_1598.txt\n",
      "test_1599.txt\n",
      "test_1600.txt\n",
      "test_1601.txt\n",
      "test_1602.txt\n",
      "test_1603.txt\n",
      "test_1604.txt\n"
     ]
    },
    {
     "name": "stderr",
     "output_type": "stream",
     "text": [
      "\r",
      "  7%|██▍                                  | 1605/24526 [00:25<06:06, 62.58it/s]"
     ]
    },
    {
     "name": "stdout",
     "output_type": "stream",
     "text": [
      "test_1605.txt\n",
      "test_1606.txt\n",
      "test_1607.txt\n",
      "test_1608.txt\n",
      "test_1609.txt\n",
      "test_1610.txt\n",
      "test_1611.txt\n"
     ]
    },
    {
     "name": "stderr",
     "output_type": "stream",
     "text": [
      "\r",
      "  7%|██▍                                  | 1612/24526 [00:25<06:06, 62.53it/s]"
     ]
    },
    {
     "name": "stdout",
     "output_type": "stream",
     "text": [
      "test_1612.txt\n",
      "test_1613.txt\n",
      "test_1614.txt\n",
      "test_1615.txt\n",
      "test_1616.txt\n",
      "test_1617.txt\n"
     ]
    },
    {
     "name": "stderr",
     "output_type": "stream",
     "text": [
      "\r",
      "  7%|██▍                                  | 1618/24526 [00:25<06:06, 62.50it/s]"
     ]
    },
    {
     "name": "stdout",
     "output_type": "stream",
     "text": [
      "test_1618.txt\n",
      "test_1619.txt\n",
      "test_1620.txt\n",
      "test_1621.txt\n",
      "test_1622.txt\n",
      "test_1623.txt\n"
     ]
    },
    {
     "name": "stderr",
     "output_type": "stream",
     "text": [
      "\r",
      "  7%|██▍                                  | 1624/24526 [00:25<06:06, 62.47it/s]"
     ]
    },
    {
     "name": "stdout",
     "output_type": "stream",
     "text": [
      "test_1624.txt\n",
      "test_1625.txt\n",
      "test_1626.txt\n",
      "test_1627.txt\n",
      "test_1628.txt\n",
      "test_1629.txt\n",
      "test_1630.txt\n"
     ]
    },
    {
     "name": "stderr",
     "output_type": "stream",
     "text": [
      "\r",
      "  7%|██▍                                  | 1631/24526 [00:26<06:06, 62.49it/s]"
     ]
    },
    {
     "name": "stdout",
     "output_type": "stream",
     "text": [
      "test_1631.txt\n",
      "test_1632.txt\n",
      "test_1633.txt\n",
      "test_1634.txt\n",
      "test_1635.txt\n",
      "test_1636.txt\n",
      "test_1637.txt\n"
     ]
    },
    {
     "name": "stderr",
     "output_type": "stream",
     "text": [
      "\r",
      "  7%|██▍                                  | 1638/24526 [00:26<06:06, 62.48it/s]"
     ]
    },
    {
     "name": "stdout",
     "output_type": "stream",
     "text": [
      "test_1638.txt\n",
      "test_1639.txt\n",
      "test_1640.txt\n",
      "test_1641.txt\n",
      "test_1642.txt\n",
      "test_1643.txt\n",
      "test_1644.txt\n"
     ]
    },
    {
     "name": "stderr",
     "output_type": "stream",
     "text": [
      "\r",
      "  7%|██▍                                  | 1645/24526 [00:26<06:08, 62.10it/s]"
     ]
    },
    {
     "name": "stdout",
     "output_type": "stream",
     "text": [
      "test_1645.txt\n",
      "test_1646.txt\n",
      "test_1647.txt\n",
      "test_1648.txt\n",
      "test_1649.txt\n",
      "test_1650.txt\n"
     ]
    },
    {
     "name": "stderr",
     "output_type": "stream",
     "text": [
      "\r",
      "  7%|██▍                                  | 1651/24526 [00:26<06:08, 62.09it/s]"
     ]
    },
    {
     "name": "stdout",
     "output_type": "stream",
     "text": [
      "test_1651.txt\n",
      "test_1652.txt\n",
      "test_1653.txt\n",
      "test_1654.txt\n",
      "test_1655.txt\n",
      "test_1656.txt\n",
      "test_1657.txt\n",
      "test_1658.txt\n"
     ]
    },
    {
     "name": "stderr",
     "output_type": "stream",
     "text": [
      "\r",
      "  7%|██▌                                  | 1659/24526 [00:26<06:08, 62.13it/s]"
     ]
    },
    {
     "name": "stdout",
     "output_type": "stream",
     "text": [
      "test_1659.txt\n",
      "test_1660.txt\n",
      "test_1661.txt\n",
      "test_1662.txt\n",
      "test_1663.txt\n",
      "test_1664.txt\n",
      "test_1665.txt\n",
      "test_1666.txt\n"
     ]
    },
    {
     "name": "stderr",
     "output_type": "stream",
     "text": [
      "\r",
      "  7%|██▌                                  | 1667/24526 [00:26<06:07, 62.15it/s]"
     ]
    },
    {
     "name": "stdout",
     "output_type": "stream",
     "text": [
      "test_1667.txt\n",
      "test_1668.txt\n",
      "test_1669.txt\n",
      "test_1670.txt\n",
      "test_1671.txt\n",
      "test_1672.txt\n",
      "test_1673.txt\n"
     ]
    },
    {
     "name": "stderr",
     "output_type": "stream",
     "text": [
      "\r",
      "  7%|██▌                                  | 1674/24526 [00:26<06:07, 62.15it/s]"
     ]
    },
    {
     "name": "stdout",
     "output_type": "stream",
     "text": [
      "test_1674.txt\n",
      "test_1675.txt\n",
      "test_1676.txt\n",
      "test_1677.txt\n",
      "test_1678.txt\n",
      "test_1679.txt\n",
      "test_1680.txt\n"
     ]
    },
    {
     "name": "stderr",
     "output_type": "stream",
     "text": [
      "\r",
      "  7%|██▌                                  | 1681/24526 [00:27<06:07, 62.12it/s]"
     ]
    },
    {
     "name": "stdout",
     "output_type": "stream",
     "text": [
      "test_1681.txt\n",
      "test_1682.txt\n",
      "test_1683.txt\n",
      "test_1684.txt\n",
      "test_1685.txt\n",
      "test_1686.txt\n",
      "test_1687.txt\n"
     ]
    },
    {
     "name": "stderr",
     "output_type": "stream",
     "text": [
      "\r",
      "  7%|██▌                                  | 1688/24526 [00:27<06:07, 62.13it/s]"
     ]
    },
    {
     "name": "stdout",
     "output_type": "stream",
     "text": [
      "test_1688.txt\n",
      "test_1689.txt\n",
      "test_1690.txt\n",
      "test_1691.txt\n",
      "test_1692.txt\n",
      "test_1693.txt\n",
      "test_1694.txt\n"
     ]
    },
    {
     "name": "stderr",
     "output_type": "stream",
     "text": [
      "\r",
      "  7%|██▌                                  | 1695/24526 [00:27<06:07, 62.08it/s]"
     ]
    },
    {
     "name": "stdout",
     "output_type": "stream",
     "text": [
      "test_1695.txt\n",
      "test_1696.txt\n",
      "test_1697.txt\n",
      "test_1698.txt\n",
      "test_1699.txt\n",
      "test_1700.txt\n",
      "test_1701.txt\n"
     ]
    },
    {
     "name": "stderr",
     "output_type": "stream",
     "text": [
      "\r",
      "  7%|██▌                                  | 1702/24526 [00:27<06:07, 62.10it/s]"
     ]
    },
    {
     "name": "stdout",
     "output_type": "stream",
     "text": [
      "test_1702.txt\n",
      "test_1703.txt\n",
      "test_1704.txt\n",
      "test_1705.txt\n",
      "test_1706.txt\n",
      "test_1707.txt\n",
      "test_1708.txt\n"
     ]
    },
    {
     "name": "stderr",
     "output_type": "stream",
     "text": [
      "\r",
      "  7%|██▌                                  | 1709/24526 [00:27<06:07, 62.08it/s]"
     ]
    },
    {
     "name": "stdout",
     "output_type": "stream",
     "text": [
      "test_1709.txt\n",
      "test_1710.txt\n",
      "test_1711.txt\n",
      "test_1712.txt\n",
      "test_1713.txt\n",
      "test_1714.txt\n",
      "test_1715.txt\n"
     ]
    },
    {
     "name": "stderr",
     "output_type": "stream",
     "text": [
      "\r",
      "  7%|██▌                                  | 1716/24526 [00:27<06:07, 62.06it/s]"
     ]
    },
    {
     "name": "stdout",
     "output_type": "stream",
     "text": [
      "test_1716.txt\n",
      "test_1717.txt\n",
      "test_1718.txt\n",
      "test_1719.txt\n",
      "test_1720.txt\n",
      "test_1721.txt\n",
      "test_1722.txt\n"
     ]
    },
    {
     "name": "stderr",
     "output_type": "stream",
     "text": [
      "\r",
      "  7%|██▌                                  | 1723/24526 [00:27<06:07, 62.08it/s]"
     ]
    },
    {
     "name": "stdout",
     "output_type": "stream",
     "text": [
      "test_1723.txt\n",
      "test_1724.txt\n",
      "test_1725.txt\n",
      "test_1726.txt\n",
      "test_1727.txt\n",
      "test_1728.txt\n",
      "test_1729.txt\n"
     ]
    },
    {
     "name": "stderr",
     "output_type": "stream",
     "text": [
      "\r",
      "  7%|██▌                                  | 1730/24526 [00:27<06:07, 62.04it/s]"
     ]
    },
    {
     "name": "stdout",
     "output_type": "stream",
     "text": [
      "test_1730.txt\n",
      "test_1731.txt\n",
      "test_1732.txt\n",
      "test_1733.txt\n",
      "test_1734.txt\n",
      "test_1735.txt\n"
     ]
    },
    {
     "name": "stderr",
     "output_type": "stream",
     "text": [
      "\r",
      "  7%|██▌                                  | 1736/24526 [00:27<06:07, 62.03it/s]"
     ]
    },
    {
     "name": "stdout",
     "output_type": "stream",
     "text": [
      "test_1736.txt\n",
      "test_1737.txt\n",
      "test_1738.txt\n",
      "test_1739.txt\n",
      "test_1740.txt\n",
      "test_1741.txt\n"
     ]
    },
    {
     "name": "stderr",
     "output_type": "stream",
     "text": [
      "\r",
      "  7%|██▋                                  | 1742/24526 [00:28<06:07, 62.01it/s]"
     ]
    },
    {
     "name": "stdout",
     "output_type": "stream",
     "text": [
      "test_1742.txt\n",
      "test_1743.txt\n",
      "test_1744.txt\n",
      "test_1745.txt\n",
      "test_1746.txt\n",
      "test_1747.txt\n"
     ]
    },
    {
     "name": "stderr",
     "output_type": "stream",
     "text": [
      "\r",
      "  7%|██▋                                  | 1748/24526 [00:28<06:07, 62.00it/s]"
     ]
    },
    {
     "name": "stdout",
     "output_type": "stream",
     "text": [
      "test_1748.txt\n",
      "test_1749.txt\n",
      "test_1750.txt\n",
      "test_1751.txt\n",
      "test_1752.txt\n",
      "test_1753.txt\n",
      "test_1754.txt\n"
     ]
    },
    {
     "name": "stderr",
     "output_type": "stream",
     "text": [
      "\r",
      "  7%|██▋                                  | 1755/24526 [00:28<06:07, 62.00it/s]"
     ]
    },
    {
     "name": "stdout",
     "output_type": "stream",
     "text": [
      "test_1755.txt\n",
      "test_1756.txt\n",
      "test_1757.txt\n",
      "test_1758.txt\n",
      "test_1759.txt\n",
      "test_1760.txt\n"
     ]
    },
    {
     "name": "stderr",
     "output_type": "stream",
     "text": [
      "\r",
      "  7%|██▋                                  | 1761/24526 [00:28<06:07, 61.97it/s]"
     ]
    },
    {
     "name": "stdout",
     "output_type": "stream",
     "text": [
      "test_1761.txt\n",
      "test_1762.txt\n",
      "test_1763.txt\n",
      "test_1764.txt\n",
      "test_1765.txt\n",
      "test_1766.txt\n",
      "test_1767.txt\n"
     ]
    },
    {
     "name": "stderr",
     "output_type": "stream",
     "text": [
      "\r",
      "  7%|██▋                                  | 1768/24526 [00:28<06:07, 61.97it/s]"
     ]
    },
    {
     "name": "stdout",
     "output_type": "stream",
     "text": [
      "test_1768.txt\n",
      "test_1769.txt\n",
      "test_1770.txt\n",
      "test_1771.txt\n",
      "test_1772.txt\n",
      "test_1773.txt\n"
     ]
    },
    {
     "name": "stderr",
     "output_type": "stream",
     "text": [
      "\r",
      "  7%|██▋                                  | 1774/24526 [00:28<06:07, 61.93it/s]"
     ]
    },
    {
     "name": "stdout",
     "output_type": "stream",
     "text": [
      "test_1774.txt\n",
      "test_1775.txt\n",
      "test_1776.txt\n",
      "test_1777.txt\n",
      "test_1778.txt\n",
      "test_1779.txt\n"
     ]
    },
    {
     "name": "stderr",
     "output_type": "stream",
     "text": [
      "\r",
      "  7%|██▋                                  | 1780/24526 [00:28<06:07, 61.84it/s]"
     ]
    },
    {
     "name": "stdout",
     "output_type": "stream",
     "text": [
      "test_1780.txt\n",
      "test_1781.txt\n",
      "test_1782.txt\n",
      "test_1783.txt\n",
      "test_1784.txt\n",
      "test_1785.txt\n"
     ]
    },
    {
     "name": "stderr",
     "output_type": "stream",
     "text": [
      "\r",
      "  7%|██▋                                  | 1786/24526 [00:28<06:07, 61.79it/s]"
     ]
    },
    {
     "name": "stdout",
     "output_type": "stream",
     "text": [
      "test_1786.txt\n",
      "test_1787.txt\n",
      "test_1788.txt\n",
      "test_1789.txt\n",
      "test_1790.txt\n",
      "test_1791.txt\n"
     ]
    },
    {
     "name": "stderr",
     "output_type": "stream",
     "text": [
      "\r",
      "  7%|██▋                                  | 1792/24526 [00:29<06:08, 61.73it/s]"
     ]
    },
    {
     "name": "stdout",
     "output_type": "stream",
     "text": [
      "test_1792.txt\n",
      "test_1793.txt\n",
      "test_1794.txt\n",
      "test_1795.txt\n",
      "test_1796.txt\n",
      "test_1797.txt\n",
      "test_1798.txt\n"
     ]
    },
    {
     "name": "stderr",
     "output_type": "stream",
     "text": [
      "\r",
      "  7%|██▋                                  | 1799/24526 [00:29<06:08, 61.72it/s]"
     ]
    },
    {
     "name": "stdout",
     "output_type": "stream",
     "text": [
      "test_1799.txt\n",
      "test_1800.txt\n",
      "test_1801.txt\n",
      "test_1802.txt\n",
      "test_1803.txt\n",
      "test_1804.txt\n"
     ]
    },
    {
     "name": "stderr",
     "output_type": "stream",
     "text": [
      "\r",
      "  7%|██▋                                  | 1805/24526 [00:29<06:08, 61.69it/s]"
     ]
    },
    {
     "name": "stdout",
     "output_type": "stream",
     "text": [
      "test_1805.txt\n",
      "test_1806.txt\n",
      "test_1807.txt\n",
      "test_1808.txt\n",
      "test_1809.txt\n",
      "test_1810.txt\n",
      "test_1811.txt\n"
     ]
    },
    {
     "name": "stderr",
     "output_type": "stream",
     "text": [
      "\r",
      "  7%|██▋                                  | 1812/24526 [00:29<06:08, 61.68it/s]"
     ]
    },
    {
     "name": "stdout",
     "output_type": "stream",
     "text": [
      "test_1812.txt\n",
      "test_1813.txt\n",
      "test_1814.txt\n",
      "test_1815.txt\n",
      "test_1816.txt\n",
      "test_1817.txt\n",
      "test_1818.txt\n"
     ]
    },
    {
     "name": "stderr",
     "output_type": "stream",
     "text": [
      "\r",
      "  7%|██▋                                  | 1819/24526 [00:29<06:07, 61.70it/s]"
     ]
    },
    {
     "name": "stdout",
     "output_type": "stream",
     "text": [
      "test_1819.txt\n",
      "test_1820.txt\n",
      "test_1821.txt\n",
      "test_1822.txt\n",
      "test_1823.txt\n",
      "test_1824.txt\n"
     ]
    },
    {
     "name": "stderr",
     "output_type": "stream",
     "text": [
      "\r",
      "  7%|██▊                                  | 1825/24526 [00:29<06:07, 61.69it/s]"
     ]
    },
    {
     "name": "stdout",
     "output_type": "stream",
     "text": [
      "test_1825.txt\n",
      "test_1826.txt\n",
      "test_1827.txt\n",
      "test_1828.txt\n",
      "test_1829.txt\n",
      "test_1830.txt\n"
     ]
    },
    {
     "name": "stderr",
     "output_type": "stream",
     "text": [
      "\r",
      "  7%|██▊                                  | 1831/24526 [00:29<06:08, 61.66it/s]"
     ]
    },
    {
     "name": "stdout",
     "output_type": "stream",
     "text": [
      "test_1831.txt\n",
      "test_1832.txt\n",
      "test_1833.txt\n",
      "test_1834.txt\n",
      "test_1835.txt\n",
      "test_1836.txt\n",
      "test_1837.txt\n"
     ]
    },
    {
     "name": "stderr",
     "output_type": "stream",
     "text": [
      "\r",
      "  7%|██▊                                  | 1838/24526 [00:29<06:07, 61.68it/s]"
     ]
    },
    {
     "name": "stdout",
     "output_type": "stream",
     "text": [
      "test_1838.txt\n",
      "test_1839.txt\n",
      "test_1840.txt\n",
      "test_1841.txt\n",
      "test_1842.txt\n",
      "test_1843.txt\n"
     ]
    },
    {
     "name": "stderr",
     "output_type": "stream",
     "text": [
      "\r",
      "  8%|██▊                                  | 1844/24526 [00:29<06:07, 61.67it/s]"
     ]
    },
    {
     "name": "stdout",
     "output_type": "stream",
     "text": [
      "test_1844.txt\n",
      "test_1845.txt\n",
      "test_1846.txt\n",
      "test_1847.txt\n",
      "test_1848.txt\n",
      "test_1849.txt\n"
     ]
    },
    {
     "name": "stderr",
     "output_type": "stream",
     "text": [
      "\r",
      "  8%|██▊                                  | 1850/24526 [00:30<06:08, 61.62it/s]"
     ]
    },
    {
     "name": "stdout",
     "output_type": "stream",
     "text": [
      "test_1850.txt\n",
      "test_1851.txt\n",
      "test_1852.txt\n",
      "test_1853.txt\n",
      "test_1854.txt\n",
      "test_1855.txt\n",
      "test_1856.txt\n"
     ]
    },
    {
     "name": "stderr",
     "output_type": "stream",
     "text": [
      "\r",
      "  8%|██▊                                  | 1857/24526 [00:30<06:07, 61.61it/s]"
     ]
    },
    {
     "name": "stdout",
     "output_type": "stream",
     "text": [
      "test_1857.txt\n",
      "test_1858.txt\n",
      "test_1859.txt\n",
      "test_1860.txt\n",
      "test_1861.txt\n",
      "test_1862.txt\n"
     ]
    },
    {
     "name": "stderr",
     "output_type": "stream",
     "text": [
      "\r",
      "  8%|██▊                                  | 1863/24526 [00:30<06:08, 61.54it/s]"
     ]
    },
    {
     "name": "stdout",
     "output_type": "stream",
     "text": [
      "test_1863.txt\n",
      "test_1864.txt\n",
      "test_1865.txt\n",
      "test_1866.txt\n",
      "test_1867.txt\n",
      "test_1868.txt\n",
      "test_1869.txt\n"
     ]
    },
    {
     "name": "stderr",
     "output_type": "stream",
     "text": [
      "\r",
      "  8%|██▊                                  | 1870/24526 [00:30<06:07, 61.57it/s]"
     ]
    },
    {
     "name": "stdout",
     "output_type": "stream",
     "text": [
      "test_1870.txt\n",
      "test_1871.txt\n",
      "test_1872.txt\n",
      "test_1873.txt\n",
      "test_1874.txt\n",
      "test_1875.txt\n",
      "test_1876.txt\n"
     ]
    },
    {
     "name": "stderr",
     "output_type": "stream",
     "text": [
      "\r",
      "  8%|██▊                                  | 1877/24526 [00:30<06:07, 61.58it/s]"
     ]
    },
    {
     "name": "stdout",
     "output_type": "stream",
     "text": [
      "test_1877.txt\n",
      "test_1878.txt\n",
      "test_1879.txt\n",
      "test_1880.txt\n",
      "test_1881.txt\n",
      "test_1882.txt\n",
      "test_1883.txt\n"
     ]
    },
    {
     "name": "stderr",
     "output_type": "stream",
     "text": [
      "\r",
      "  8%|██▊                                  | 1884/24526 [00:30<06:07, 61.59it/s]"
     ]
    },
    {
     "name": "stdout",
     "output_type": "stream",
     "text": [
      "test_1884.txt\n",
      "test_1885.txt\n",
      "test_1886.txt\n",
      "test_1887.txt\n",
      "test_1888.txt\n",
      "test_1889.txt\n",
      "test_1890.txt\n"
     ]
    },
    {
     "name": "stderr",
     "output_type": "stream",
     "text": [
      "\r",
      "  8%|██▊                                  | 1891/24526 [00:30<06:07, 61.53it/s]"
     ]
    },
    {
     "name": "stdout",
     "output_type": "stream",
     "text": [
      "test_1891.txt\n",
      "test_1892.txt\n",
      "test_1893.txt\n",
      "test_1894.txt\n",
      "test_1895.txt\n",
      "test_1896.txt\n"
     ]
    },
    {
     "name": "stderr",
     "output_type": "stream",
     "text": [
      "\r",
      "  8%|██▊                                  | 1897/24526 [00:30<06:07, 61.51it/s]"
     ]
    },
    {
     "name": "stdout",
     "output_type": "stream",
     "text": [
      "test_1897.txt\n",
      "test_1898.txt\n",
      "test_1899.txt\n",
      "test_1900.txt\n",
      "test_1901.txt\n",
      "test_1902.txt\n"
     ]
    },
    {
     "name": "stderr",
     "output_type": "stream",
     "text": [
      "\r",
      "  8%|██▊                                  | 1903/24526 [00:30<06:07, 61.49it/s]"
     ]
    },
    {
     "name": "stdout",
     "output_type": "stream",
     "text": [
      "test_1903.txt\n",
      "test_1904.txt\n",
      "test_1905.txt\n",
      "test_1906.txt\n",
      "test_1907.txt\n",
      "test_1908.txt\n"
     ]
    },
    {
     "name": "stderr",
     "output_type": "stream",
     "text": [
      "\r",
      "  8%|██▉                                  | 1909/24526 [00:31<06:07, 61.46it/s]"
     ]
    },
    {
     "name": "stdout",
     "output_type": "stream",
     "text": [
      "test_1909.txt\n",
      "test_1910.txt\n",
      "test_1911.txt\n",
      "test_1912.txt\n",
      "test_1913.txt\n",
      "test_1914.txt\n"
     ]
    },
    {
     "name": "stderr",
     "output_type": "stream",
     "text": [
      "\r",
      "  8%|██▉                                  | 1915/24526 [00:31<06:08, 61.39it/s]"
     ]
    },
    {
     "name": "stdout",
     "output_type": "stream",
     "text": [
      "test_1915.txt\n",
      "test_1916.txt\n",
      "test_1917.txt\n",
      "test_1918.txt\n",
      "test_1919.txt\n",
      "test_1920.txt\n"
     ]
    },
    {
     "name": "stderr",
     "output_type": "stream",
     "text": [
      "\r",
      "  8%|██▉                                  | 1921/24526 [00:31<06:08, 61.31it/s]"
     ]
    },
    {
     "name": "stdout",
     "output_type": "stream",
     "text": [
      "test_1921.txt\n",
      "test_1922.txt\n",
      "test_1923.txt\n",
      "test_1924.txt\n",
      "test_1925.txt\n",
      "test_1926.txt\n"
     ]
    },
    {
     "name": "stderr",
     "output_type": "stream",
     "text": [
      "\r",
      "  8%|██▉                                  | 1927/24526 [00:31<06:08, 61.28it/s]"
     ]
    },
    {
     "name": "stdout",
     "output_type": "stream",
     "text": [
      "test_1927.txt\n",
      "test_1928.txt\n",
      "test_1929.txt\n",
      "test_1930.txt\n",
      "test_1931.txt\n",
      "test_1932.txt\n"
     ]
    },
    {
     "name": "stderr",
     "output_type": "stream",
     "text": [
      "\r",
      "  8%|██▉                                  | 1933/24526 [00:31<06:08, 61.27it/s]"
     ]
    },
    {
     "name": "stdout",
     "output_type": "stream",
     "text": [
      "test_1933.txt\n",
      "test_1934.txt\n",
      "test_1935.txt\n",
      "test_1936.txt\n",
      "test_1937.txt\n",
      "test_1938.txt\n"
     ]
    },
    {
     "name": "stderr",
     "output_type": "stream",
     "text": [
      "\r",
      "  8%|██▉                                  | 1939/24526 [00:31<06:08, 61.24it/s]"
     ]
    },
    {
     "name": "stdout",
     "output_type": "stream",
     "text": [
      "test_1939.txt\n",
      "test_1940.txt\n",
      "test_1941.txt\n",
      "test_1942.txt\n",
      "test_1943.txt\n",
      "test_1944.txt\n"
     ]
    },
    {
     "name": "stderr",
     "output_type": "stream",
     "text": [
      "\r",
      "  8%|██▉                                  | 1945/24526 [00:31<06:08, 61.20it/s]"
     ]
    },
    {
     "name": "stdout",
     "output_type": "stream",
     "text": [
      "test_1945.txt\n",
      "test_1946.txt\n",
      "test_1947.txt\n",
      "test_1948.txt\n",
      "test_1949.txt\n",
      "test_1950.txt\n",
      "test_1951.txt\n"
     ]
    },
    {
     "name": "stderr",
     "output_type": "stream",
     "text": [
      "\r",
      "  8%|██▉                                  | 1952/24526 [00:31<06:08, 61.22it/s]"
     ]
    },
    {
     "name": "stdout",
     "output_type": "stream",
     "text": [
      "test_1952.txt\n",
      "test_1953.txt\n",
      "test_1954.txt\n",
      "test_1955.txt\n",
      "test_1956.txt\n",
      "test_1957.txt\n"
     ]
    },
    {
     "name": "stderr",
     "output_type": "stream",
     "text": [
      "\r",
      "  8%|██▉                                  | 1958/24526 [00:32<06:08, 61.17it/s]"
     ]
    },
    {
     "name": "stdout",
     "output_type": "stream",
     "text": [
      "test_1958.txt\n",
      "test_1959.txt\n",
      "test_1960.txt\n",
      "test_1961.txt\n",
      "test_1962.txt\n",
      "test_1963.txt\n"
     ]
    },
    {
     "name": "stderr",
     "output_type": "stream",
     "text": [
      "\r",
      "  8%|██▉                                  | 1964/24526 [00:32<06:08, 61.17it/s]"
     ]
    },
    {
     "name": "stdout",
     "output_type": "stream",
     "text": [
      "test_1964.txt\n",
      "test_1965.txt\n",
      "test_1966.txt\n",
      "test_1967.txt\n",
      "test_1968.txt\n",
      "test_1969.txt\n"
     ]
    },
    {
     "name": "stderr",
     "output_type": "stream",
     "text": [
      "\r",
      "  8%|██▉                                  | 1970/24526 [00:32<06:08, 61.13it/s]"
     ]
    },
    {
     "name": "stdout",
     "output_type": "stream",
     "text": [
      "test_1970.txt\n",
      "test_1971.txt\n",
      "test_1972.txt\n",
      "test_1973.txt\n",
      "test_1974.txt\n",
      "test_1975.txt\n",
      "test_1976.txt\n"
     ]
    },
    {
     "name": "stderr",
     "output_type": "stream",
     "text": [
      "\r",
      "  8%|██▉                                  | 1977/24526 [00:32<06:08, 61.15it/s]"
     ]
    },
    {
     "name": "stdout",
     "output_type": "stream",
     "text": [
      "test_1977.txt\n",
      "test_1978.txt\n",
      "test_1979.txt\n",
      "test_1980.txt\n",
      "test_1981.txt\n",
      "test_1982.txt\n"
     ]
    },
    {
     "name": "stderr",
     "output_type": "stream",
     "text": [
      "\r",
      "  8%|██▉                                  | 1983/24526 [00:32<06:08, 61.15it/s]"
     ]
    },
    {
     "name": "stdout",
     "output_type": "stream",
     "text": [
      "test_1983.txt\n",
      "test_1984.txt\n",
      "test_1985.txt\n",
      "test_1986.txt\n",
      "test_1987.txt\n",
      "test_1988.txt\n"
     ]
    },
    {
     "name": "stderr",
     "output_type": "stream",
     "text": [
      "\r",
      "  8%|███                                  | 1989/24526 [00:32<06:08, 61.13it/s]"
     ]
    },
    {
     "name": "stdout",
     "output_type": "stream",
     "text": [
      "test_1989.txt\n",
      "test_1990.txt\n",
      "test_1991.txt\n",
      "test_1992.txt\n",
      "test_1993.txt\n",
      "test_1994.txt\n",
      "test_1995.txt\n"
     ]
    },
    {
     "name": "stderr",
     "output_type": "stream",
     "text": [
      "\r",
      "  8%|███                                  | 1996/24526 [00:32<06:08, 61.11it/s]"
     ]
    },
    {
     "name": "stdout",
     "output_type": "stream",
     "text": [
      "test_1996.txt\n",
      "test_1997.txt\n",
      "test_1998.txt\n",
      "test_1999.txt\n",
      "test_2000.txt\n",
      "test_2001.txt\n"
     ]
    },
    {
     "name": "stderr",
     "output_type": "stream",
     "text": [
      "\r",
      "  8%|███                                  | 2002/24526 [00:32<06:08, 61.05it/s]"
     ]
    },
    {
     "name": "stdout",
     "output_type": "stream",
     "text": [
      "test_2002.txt\n",
      "test_2003.txt\n",
      "test_2004.txt\n",
      "test_2005.txt\n",
      "test_2006.txt\n",
      "test_2007.txt\n",
      "test_2008.txt\n",
      "test_2009.txt\n"
     ]
    },
    {
     "name": "stderr",
     "output_type": "stream",
     "text": [
      "\r",
      "  8%|███                                  | 2010/24526 [00:32<06:08, 61.07it/s]"
     ]
    },
    {
     "name": "stdout",
     "output_type": "stream",
     "text": [
      "test_2010.txt\n",
      "test_2011.txt\n",
      "test_2012.txt\n",
      "test_2013.txt\n",
      "test_2014.txt\n",
      "test_2015.txt\n",
      "test_2016.txt\n"
     ]
    },
    {
     "name": "stderr",
     "output_type": "stream",
     "text": [
      "\r",
      "  8%|███                                  | 2017/24526 [00:33<06:08, 61.10it/s]"
     ]
    },
    {
     "name": "stdout",
     "output_type": "stream",
     "text": [
      "test_2017.txt\n",
      "test_2018.txt\n",
      "test_2019.txt\n",
      "test_2020.txt\n",
      "test_2021.txt\n",
      "test_2022.txt\n",
      "test_2023.txt\n"
     ]
    },
    {
     "name": "stderr",
     "output_type": "stream",
     "text": [
      "\r",
      "  8%|███                                  | 2024/24526 [00:33<06:08, 61.07it/s]"
     ]
    },
    {
     "name": "stdout",
     "output_type": "stream",
     "text": [
      "test_2024.txt\n",
      "test_2025.txt\n",
      "test_2026.txt\n",
      "test_2027.txt\n",
      "test_2028.txt\n",
      "test_2029.txt\n"
     ]
    },
    {
     "name": "stderr",
     "output_type": "stream",
     "text": [
      "\r",
      "  8%|███                                  | 2030/24526 [00:33<06:08, 61.04it/s]"
     ]
    },
    {
     "name": "stdout",
     "output_type": "stream",
     "text": [
      "test_2030.txt\n",
      "test_2031.txt\n",
      "test_2032.txt\n",
      "test_2033.txt\n",
      "test_2034.txt\n",
      "test_2035.txt\n"
     ]
    },
    {
     "name": "stderr",
     "output_type": "stream",
     "text": [
      "\r",
      "  8%|███                                  | 2036/24526 [00:33<06:08, 61.03it/s]"
     ]
    },
    {
     "name": "stdout",
     "output_type": "stream",
     "text": [
      "test_2036.txt\n",
      "test_2037.txt\n",
      "test_2038.txt\n",
      "test_2039.txt\n",
      "test_2040.txt\n",
      "test_2041.txt\n"
     ]
    },
    {
     "name": "stderr",
     "output_type": "stream",
     "text": [
      "\r",
      "  8%|███                                  | 2042/24526 [00:33<06:08, 61.00it/s]"
     ]
    },
    {
     "name": "stdout",
     "output_type": "stream",
     "text": [
      "test_2042.txt\n",
      "test_2043.txt\n",
      "test_2044.txt\n",
      "test_2045.txt\n",
      "test_2046.txt\n",
      "test_2047.txt\n",
      "test_2048.txt\n",
      "test_2049.txt\n",
      "test_2050.txt\n"
     ]
    },
    {
     "name": "stderr",
     "output_type": "stream",
     "text": [
      "\r",
      "  8%|███                                  | 2051/24526 [00:33<06:07, 61.08it/s]"
     ]
    },
    {
     "name": "stdout",
     "output_type": "stream",
     "text": [
      "test_2051.txt\n",
      "test_2052.txt\n",
      "test_2053.txt\n",
      "test_2054.txt\n",
      "test_2055.txt\n",
      "test_2056.txt\n",
      "test_2057.txt\n"
     ]
    },
    {
     "name": "stderr",
     "output_type": "stream",
     "text": [
      "\r",
      "  8%|███                                  | 2058/24526 [00:33<06:08, 61.04it/s]"
     ]
    },
    {
     "name": "stdout",
     "output_type": "stream",
     "text": [
      "test_2058.txt\n",
      "test_2059.txt\n",
      "test_2060.txt\n",
      "test_2061.txt\n",
      "test_2062.txt\n",
      "test_2063.txt\n",
      "test_2064.txt\n"
     ]
    },
    {
     "name": "stderr",
     "output_type": "stream",
     "text": [
      "\r",
      "  8%|███                                  | 2065/24526 [00:33<06:07, 61.05it/s]"
     ]
    },
    {
     "name": "stdout",
     "output_type": "stream",
     "text": [
      "test_2065.txt\n",
      "test_2066.txt\n",
      "test_2067.txt\n",
      "test_2068.txt\n",
      "test_2069.txt\n",
      "test_2070.txt\n",
      "test_2071.txt\n"
     ]
    },
    {
     "name": "stderr",
     "output_type": "stream",
     "text": [
      "\r",
      "  8%|███▏                                 | 2072/24526 [00:33<06:07, 61.04it/s]"
     ]
    },
    {
     "name": "stdout",
     "output_type": "stream",
     "text": [
      "test_2072.txt\n",
      "test_2073.txt\n",
      "test_2074.txt\n",
      "test_2075.txt\n",
      "test_2076.txt\n",
      "test_2077.txt\n",
      "test_2078.txt\n"
     ]
    },
    {
     "name": "stderr",
     "output_type": "stream",
     "text": [
      "\r",
      "  8%|███▏                                 | 2079/24526 [00:34<06:07, 61.01it/s]"
     ]
    },
    {
     "name": "stdout",
     "output_type": "stream",
     "text": [
      "test_2079.txt\n",
      "test_2080.txt\n",
      "test_2081.txt\n",
      "test_2082.txt\n",
      "test_2083.txt\n",
      "test_2084.txt\n"
     ]
    },
    {
     "name": "stderr",
     "output_type": "stream",
     "text": [
      "\r",
      "  9%|███▏                                 | 2085/24526 [00:34<06:08, 60.95it/s]"
     ]
    },
    {
     "name": "stdout",
     "output_type": "stream",
     "text": [
      "test_2085.txt\n",
      "test_2086.txt\n",
      "test_2087.txt\n",
      "test_2088.txt\n",
      "test_2089.txt\n",
      "test_2090.txt\n",
      "test_2091.txt\n"
     ]
    },
    {
     "name": "stderr",
     "output_type": "stream",
     "text": [
      "\r",
      "  9%|███▏                                 | 2092/24526 [00:34<06:07, 60.97it/s]"
     ]
    },
    {
     "name": "stdout",
     "output_type": "stream",
     "text": [
      "test_2092.txt\n",
      "test_2093.txt\n",
      "test_2094.txt\n",
      "test_2095.txt\n",
      "test_2096.txt\n",
      "test_2097.txt\n"
     ]
    },
    {
     "name": "stderr",
     "output_type": "stream",
     "text": [
      "\r",
      "  9%|███▏                                 | 2098/24526 [00:34<06:08, 60.93it/s]"
     ]
    },
    {
     "name": "stdout",
     "output_type": "stream",
     "text": [
      "test_2098.txt\n",
      "test_2099.txt\n",
      "test_2100.txt\n",
      "test_2101.txt\n",
      "test_2102.txt\n",
      "test_2103.txt\n"
     ]
    },
    {
     "name": "stderr",
     "output_type": "stream",
     "text": [
      "\r",
      "  9%|███▏                                 | 2104/24526 [00:34<06:08, 60.92it/s]"
     ]
    },
    {
     "name": "stdout",
     "output_type": "stream",
     "text": [
      "test_2104.txt\n",
      "test_2105.txt\n",
      "test_2106.txt\n",
      "test_2107.txt\n",
      "test_2108.txt\n",
      "test_2109.txt\n",
      "test_2110.txt\n",
      "test_2111.txt\n"
     ]
    },
    {
     "name": "stderr",
     "output_type": "stream",
     "text": [
      "\r",
      "  9%|███▏                                 | 2112/24526 [00:34<06:07, 60.97it/s]"
     ]
    },
    {
     "name": "stdout",
     "output_type": "stream",
     "text": [
      "test_2112.txt\n",
      "test_2113.txt\n",
      "test_2114.txt\n",
      "test_2115.txt\n",
      "test_2116.txt\n",
      "test_2117.txt\n",
      "test_2118.txt\n"
     ]
    },
    {
     "name": "stderr",
     "output_type": "stream",
     "text": [
      "\r",
      "  9%|███▏                                 | 2119/24526 [00:34<06:07, 60.93it/s]"
     ]
    },
    {
     "name": "stdout",
     "output_type": "stream",
     "text": [
      "test_2119.txt\n",
      "test_2120.txt\n",
      "test_2121.txt\n",
      "test_2122.txt\n",
      "test_2123.txt\n",
      "test_2124.txt\n"
     ]
    },
    {
     "name": "stderr",
     "output_type": "stream",
     "text": [
      "\r",
      "  9%|███▏                                 | 2125/24526 [00:34<06:07, 60.91it/s]"
     ]
    },
    {
     "name": "stdout",
     "output_type": "stream",
     "text": [
      "test_2125.txt\n",
      "test_2126.txt\n",
      "test_2127.txt\n",
      "test_2128.txt\n",
      "test_2129.txt\n",
      "test_2130.txt\n"
     ]
    },
    {
     "name": "stderr",
     "output_type": "stream",
     "text": [
      "\r",
      "  9%|███▏                                 | 2131/24526 [00:35<06:07, 60.87it/s]"
     ]
    },
    {
     "name": "stdout",
     "output_type": "stream",
     "text": [
      "test_2131.txt\n",
      "test_2132.txt\n",
      "test_2133.txt\n",
      "test_2134.txt\n",
      "test_2135.txt\n",
      "test_2136.txt\n"
     ]
    },
    {
     "name": "stderr",
     "output_type": "stream",
     "text": [
      "\r",
      "  9%|███▏                                 | 2137/24526 [00:35<06:07, 60.86it/s]"
     ]
    },
    {
     "name": "stdout",
     "output_type": "stream",
     "text": [
      "test_2137.txt\n",
      "test_2138.txt\n",
      "test_2139.txt\n",
      "test_2140.txt\n",
      "test_2141.txt\n",
      "test_2142.txt\n",
      "test_2143.txt\n"
     ]
    },
    {
     "name": "stderr",
     "output_type": "stream",
     "text": [
      "\r",
      "  9%|███▏                                 | 2144/24526 [00:35<06:07, 60.87it/s]"
     ]
    },
    {
     "name": "stdout",
     "output_type": "stream",
     "text": [
      "test_2144.txt\n",
      "test_2145.txt\n",
      "test_2146.txt\n",
      "test_2147.txt\n",
      "test_2148.txt\n",
      "test_2149.txt\n"
     ]
    },
    {
     "name": "stderr",
     "output_type": "stream",
     "text": [
      "\r",
      "  9%|███▏                                 | 2150/24526 [00:35<06:07, 60.82it/s]"
     ]
    },
    {
     "name": "stdout",
     "output_type": "stream",
     "text": [
      "test_2150.txt\n",
      "test_2151.txt\n",
      "test_2152.txt\n",
      "test_2153.txt\n",
      "test_2154.txt\n",
      "test_2155.txt\n"
     ]
    },
    {
     "name": "stderr",
     "output_type": "stream",
     "text": [
      "\r",
      "  9%|███▎                                 | 2156/24526 [00:35<06:08, 60.79it/s]"
     ]
    },
    {
     "name": "stdout",
     "output_type": "stream",
     "text": [
      "test_2156.txt\n",
      "test_2157.txt\n",
      "test_2158.txt\n",
      "test_2159.txt\n",
      "test_2160.txt\n",
      "test_2161.txt\n"
     ]
    },
    {
     "name": "stderr",
     "output_type": "stream",
     "text": [
      "\r",
      "  9%|███▎                                 | 2162/24526 [00:35<06:07, 60.78it/s]"
     ]
    },
    {
     "name": "stdout",
     "output_type": "stream",
     "text": [
      "test_2162.txt\n",
      "test_2163.txt\n",
      "test_2164.txt\n",
      "test_2165.txt\n",
      "test_2166.txt\n",
      "test_2167.txt\n",
      "test_2168.txt\n"
     ]
    },
    {
     "name": "stderr",
     "output_type": "stream",
     "text": [
      "\r",
      "  9%|███▎                                 | 2169/24526 [00:35<06:07, 60.79it/s]"
     ]
    },
    {
     "name": "stdout",
     "output_type": "stream",
     "text": [
      "test_2169.txt\n",
      "test_2170.txt\n",
      "test_2171.txt\n",
      "test_2172.txt\n",
      "test_2173.txt\n",
      "test_2174.txt\n"
     ]
    },
    {
     "name": "stderr",
     "output_type": "stream",
     "text": [
      "\r",
      "  9%|███▎                                 | 2175/24526 [00:35<06:07, 60.74it/s]"
     ]
    },
    {
     "name": "stdout",
     "output_type": "stream",
     "text": [
      "test_2175.txt\n",
      "test_2176.txt\n",
      "test_2177.txt\n",
      "test_2178.txt\n",
      "test_2179.txt\n",
      "test_2180.txt\n"
     ]
    },
    {
     "name": "stderr",
     "output_type": "stream",
     "text": [
      "\r",
      "  9%|███▎                                 | 2181/24526 [00:35<06:08, 60.72it/s]"
     ]
    },
    {
     "name": "stdout",
     "output_type": "stream",
     "text": [
      "test_2181.txt\n",
      "test_2182.txt\n",
      "test_2183.txt\n",
      "test_2184.txt\n",
      "test_2185.txt\n",
      "test_2186.txt\n"
     ]
    },
    {
     "name": "stderr",
     "output_type": "stream",
     "text": [
      "\r",
      "  9%|███▎                                 | 2187/24526 [00:36<06:08, 60.66it/s]"
     ]
    },
    {
     "name": "stdout",
     "output_type": "stream",
     "text": [
      "test_2187.txt\n",
      "test_2188.txt\n",
      "test_2189.txt\n",
      "test_2190.txt\n",
      "test_2191.txt\n",
      "test_2192.txt\n"
     ]
    },
    {
     "name": "stderr",
     "output_type": "stream",
     "text": [
      "\r",
      "  9%|███▎                                 | 2193/24526 [00:36<06:08, 60.65it/s]"
     ]
    },
    {
     "name": "stdout",
     "output_type": "stream",
     "text": [
      "test_2193.txt\n",
      "test_2194.txt\n",
      "test_2195.txt\n",
      "test_2196.txt\n",
      "test_2197.txt\n",
      "test_2198.txt\n"
     ]
    },
    {
     "name": "stderr",
     "output_type": "stream",
     "text": [
      "\r",
      "  9%|███▎                                 | 2199/24526 [00:36<06:08, 60.62it/s]"
     ]
    },
    {
     "name": "stdout",
     "output_type": "stream",
     "text": [
      "test_2199.txt\n",
      "test_2200.txt\n",
      "test_2201.txt\n",
      "test_2202.txt\n",
      "test_2203.txt\n",
      "test_2204.txt\n",
      "test_2205.txt\n",
      "test_2206.txt\n"
     ]
    },
    {
     "name": "stderr",
     "output_type": "stream",
     "text": [
      "\r",
      "  9%|███▎                                 | 2207/24526 [00:36<06:08, 60.65it/s]"
     ]
    },
    {
     "name": "stdout",
     "output_type": "stream",
     "text": [
      "test_2207.txt\n",
      "test_2208.txt\n",
      "test_2209.txt\n",
      "test_2210.txt\n",
      "test_2211.txt\n",
      "test_2212.txt\n",
      "test_2213.txt\n"
     ]
    },
    {
     "name": "stderr",
     "output_type": "stream",
     "text": [
      "\r",
      "  9%|███▎                                 | 2214/24526 [00:36<06:07, 60.66it/s]"
     ]
    },
    {
     "name": "stdout",
     "output_type": "stream",
     "text": [
      "test_2214.txt\n",
      "test_2215.txt\n",
      "test_2216.txt\n",
      "test_2217.txt\n",
      "test_2218.txt\n",
      "test_2219.txt\n",
      "test_2220.txt\n"
     ]
    },
    {
     "name": "stderr",
     "output_type": "stream",
     "text": [
      "\r",
      "  9%|███▎                                 | 2221/24526 [00:36<06:07, 60.65it/s]"
     ]
    },
    {
     "name": "stdout",
     "output_type": "stream",
     "text": [
      "test_2221.txt\n",
      "test_2222.txt\n",
      "test_2223.txt\n",
      "test_2224.txt\n",
      "test_2225.txt\n",
      "test_2226.txt\n",
      "test_2227.txt\n"
     ]
    },
    {
     "name": "stderr",
     "output_type": "stream",
     "text": [
      "\r",
      "  9%|███▎                                 | 2228/24526 [00:36<06:07, 60.66it/s]"
     ]
    },
    {
     "name": "stdout",
     "output_type": "stream",
     "text": [
      "test_2228.txt\n",
      "test_2229.txt\n",
      "test_2230.txt\n",
      "test_2231.txt\n",
      "test_2232.txt\n",
      "test_2233.txt\n",
      "test_2234.txt\n"
     ]
    },
    {
     "name": "stderr",
     "output_type": "stream",
     "text": [
      "\r",
      "  9%|███▎                                 | 2235/24526 [00:36<06:07, 60.64it/s]"
     ]
    },
    {
     "name": "stdout",
     "output_type": "stream",
     "text": [
      "test_2235.txt\n",
      "test_2236.txt\n",
      "test_2237.txt\n",
      "test_2238.txt\n",
      "test_2239.txt\n",
      "test_2240.txt\n"
     ]
    },
    {
     "name": "stderr",
     "output_type": "stream",
     "text": [
      "\r",
      "  9%|███▍                                 | 2241/24526 [00:36<06:07, 60.62it/s]"
     ]
    },
    {
     "name": "stdout",
     "output_type": "stream",
     "text": [
      "test_2241.txt\n",
      "test_2242.txt\n",
      "test_2243.txt\n",
      "test_2244.txt\n",
      "test_2245.txt\n",
      "test_2246.txt\n",
      "test_2247.txt\n"
     ]
    },
    {
     "name": "stderr",
     "output_type": "stream",
     "text": [
      "\r",
      "  9%|███▍                                 | 2248/24526 [00:37<06:07, 60.62it/s]"
     ]
    },
    {
     "name": "stdout",
     "output_type": "stream",
     "text": [
      "test_2248.txt\n",
      "test_2249.txt\n",
      "test_2250.txt\n",
      "test_2251.txt\n",
      "test_2252.txt\n",
      "test_2253.txt\n"
     ]
    },
    {
     "name": "stderr",
     "output_type": "stream",
     "text": [
      "\r",
      "  9%|███▍                                 | 2254/24526 [00:37<06:07, 60.59it/s]"
     ]
    },
    {
     "name": "stdout",
     "output_type": "stream",
     "text": [
      "test_2254.txt\n",
      "test_2255.txt\n",
      "test_2256.txt\n",
      "test_2257.txt\n",
      "test_2258.txt\n",
      "test_2259.txt\n"
     ]
    },
    {
     "name": "stderr",
     "output_type": "stream",
     "text": [
      "\r",
      "  9%|███▍                                 | 2260/24526 [00:37<06:07, 60.55it/s]"
     ]
    },
    {
     "name": "stdout",
     "output_type": "stream",
     "text": [
      "test_2260.txt\n",
      "test_2261.txt\n",
      "test_2262.txt\n",
      "test_2263.txt\n",
      "test_2264.txt\n",
      "test_2265.txt\n",
      "test_2266.txt\n"
     ]
    },
    {
     "name": "stderr",
     "output_type": "stream",
     "text": [
      "\r",
      "  9%|███▍                                 | 2267/24526 [00:37<06:07, 60.58it/s]"
     ]
    },
    {
     "name": "stdout",
     "output_type": "stream",
     "text": [
      "test_2267.txt\n",
      "test_2268.txt\n",
      "test_2269.txt\n",
      "test_2270.txt\n",
      "test_2271.txt\n",
      "test_2272.txt\n",
      "test_2273.txt\n",
      "test_2274.txt\n"
     ]
    },
    {
     "name": "stderr",
     "output_type": "stream",
     "text": [
      "\r",
      "  9%|███▍                                 | 2275/24526 [00:37<06:07, 60.58it/s]"
     ]
    },
    {
     "name": "stdout",
     "output_type": "stream",
     "text": [
      "test_2275.txt\n",
      "test_2276.txt\n",
      "test_2277.txt\n",
      "test_2278.txt\n",
      "test_2279.txt\n",
      "test_2280.txt\n"
     ]
    },
    {
     "name": "stderr",
     "output_type": "stream",
     "text": [
      "\r",
      "  9%|███▍                                 | 2281/24526 [00:37<06:07, 60.55it/s]"
     ]
    },
    {
     "name": "stdout",
     "output_type": "stream",
     "text": [
      "test_2281.txt\n",
      "test_2282.txt\n",
      "test_2283.txt\n",
      "test_2284.txt\n",
      "test_2285.txt\n",
      "test_2286.txt\n"
     ]
    },
    {
     "name": "stderr",
     "output_type": "stream",
     "text": [
      "\r",
      "  9%|███▍                                 | 2287/24526 [00:37<06:07, 60.52it/s]"
     ]
    },
    {
     "name": "stdout",
     "output_type": "stream",
     "text": [
      "test_2287.txt\n",
      "test_2288.txt\n",
      "test_2289.txt\n",
      "test_2290.txt\n",
      "test_2291.txt\n",
      "test_2292.txt\n"
     ]
    },
    {
     "name": "stderr",
     "output_type": "stream",
     "text": [
      "\r",
      "  9%|███▍                                 | 2293/24526 [00:37<06:07, 60.51it/s]"
     ]
    },
    {
     "name": "stdout",
     "output_type": "stream",
     "text": [
      "test_2293.txt\n",
      "test_2294.txt\n",
      "test_2295.txt\n",
      "test_2296.txt\n",
      "test_2297.txt\n",
      "test_2298.txt\n",
      "test_2299.txt\n",
      "test_2300.txt\n"
     ]
    },
    {
     "name": "stderr",
     "output_type": "stream",
     "text": [
      "\r",
      "  9%|███▍                                 | 2301/24526 [00:38<06:07, 60.53it/s]"
     ]
    },
    {
     "name": "stdout",
     "output_type": "stream",
     "text": [
      "test_2301.txt\n",
      "test_2302.txt\n",
      "test_2303.txt\n",
      "test_2304.txt\n",
      "test_2305.txt\n",
      "test_2306.txt\n"
     ]
    },
    {
     "name": "stderr",
     "output_type": "stream",
     "text": [
      "\r",
      "  9%|███▍                                 | 2307/24526 [00:38<06:07, 60.48it/s]"
     ]
    },
    {
     "name": "stdout",
     "output_type": "stream",
     "text": [
      "test_2307.txt\n",
      "test_2308.txt\n",
      "test_2309.txt\n",
      "test_2310.txt\n",
      "test_2311.txt\n",
      "test_2312.txt\n"
     ]
    },
    {
     "name": "stderr",
     "output_type": "stream",
     "text": [
      "\r",
      "  9%|███▍                                 | 2313/24526 [00:38<06:07, 60.46it/s]"
     ]
    },
    {
     "name": "stdout",
     "output_type": "stream",
     "text": [
      "test_2313.txt\n",
      "test_2314.txt\n",
      "test_2315.txt\n",
      "test_2316.txt\n",
      "test_2317.txt\n",
      "test_2318.txt\n",
      "test_2319.txt\n"
     ]
    },
    {
     "name": "stderr",
     "output_type": "stream",
     "text": [
      "\r",
      "  9%|███▍                                 | 2320/24526 [00:38<06:07, 60.44it/s]"
     ]
    },
    {
     "name": "stdout",
     "output_type": "stream",
     "text": [
      "test_2320.txt\n",
      "test_2321.txt\n",
      "test_2322.txt\n",
      "test_2323.txt\n",
      "test_2324.txt\n",
      "test_2325.txt\n",
      "test_2326.txt\n"
     ]
    },
    {
     "name": "stderr",
     "output_type": "stream",
     "text": [
      "\r",
      "  9%|███▌                                 | 2327/24526 [00:38<06:07, 60.45it/s]"
     ]
    },
    {
     "name": "stdout",
     "output_type": "stream",
     "text": [
      "test_2327.txt\n",
      "test_2328.txt\n",
      "test_2329.txt\n",
      "test_2330.txt\n",
      "test_2331.txt\n",
      "test_2332.txt\n"
     ]
    },
    {
     "name": "stderr",
     "output_type": "stream",
     "text": [
      "\r",
      " 10%|███▌                                 | 2333/24526 [00:38<06:08, 60.27it/s]"
     ]
    },
    {
     "name": "stdout",
     "output_type": "stream",
     "text": [
      "test_2333.txt\n",
      "test_2334.txt\n",
      "test_2335.txt\n",
      "test_2336.txt\n",
      "test_2337.txt\n"
     ]
    },
    {
     "name": "stderr",
     "output_type": "stream",
     "text": [
      "\r",
      " 10%|███▌                                 | 2338/24526 [00:38<06:08, 60.24it/s]"
     ]
    },
    {
     "name": "stdout",
     "output_type": "stream",
     "text": [
      "test_2338.txt\n",
      "test_2339.txt\n",
      "test_2340.txt\n",
      "test_2341.txt\n",
      "test_2342.txt\n",
      "test_2343.txt\n",
      "test_2344.txt\n",
      "test_2345.txt\n"
     ]
    },
    {
     "name": "stderr",
     "output_type": "stream",
     "text": [
      "\r",
      " 10%|███▌                                 | 2346/24526 [00:38<06:07, 60.28it/s]"
     ]
    },
    {
     "name": "stdout",
     "output_type": "stream",
     "text": [
      "test_2346.txt\n",
      "test_2347.txt\n",
      "test_2348.txt\n",
      "test_2349.txt\n",
      "test_2350.txt\n",
      "test_2351.txt\n"
     ]
    },
    {
     "name": "stderr",
     "output_type": "stream",
     "text": [
      "\r",
      " 10%|███▌                                 | 2352/24526 [00:39<06:07, 60.27it/s]"
     ]
    },
    {
     "name": "stdout",
     "output_type": "stream",
     "text": [
      "test_2352.txt\n",
      "test_2353.txt\n",
      "test_2354.txt\n",
      "test_2355.txt\n",
      "test_2356.txt\n",
      "test_2357.txt\n",
      "test_2358.txt\n",
      "test_2359.txt\n"
     ]
    },
    {
     "name": "stderr",
     "output_type": "stream",
     "text": [
      "\r",
      " 10%|███▌                                 | 2360/24526 [00:39<06:07, 60.31it/s]"
     ]
    },
    {
     "name": "stdout",
     "output_type": "stream",
     "text": [
      "test_2360.txt\n",
      "test_2361.txt\n",
      "test_2362.txt\n",
      "test_2363.txt\n",
      "test_2364.txt\n",
      "test_2365.txt\n",
      "test_2366.txt\n"
     ]
    },
    {
     "name": "stderr",
     "output_type": "stream",
     "text": [
      "\r",
      " 10%|███▌                                 | 2367/24526 [00:39<06:07, 60.30it/s]"
     ]
    },
    {
     "name": "stdout",
     "output_type": "stream",
     "text": [
      "test_2367.txt\n",
      "test_2368.txt\n",
      "test_2369.txt\n",
      "test_2370.txt\n",
      "test_2371.txt\n",
      "test_2372.txt\n",
      "test_2373.txt\n",
      "test_2374.txt\n"
     ]
    },
    {
     "name": "stderr",
     "output_type": "stream",
     "text": [
      "\r",
      " 10%|███▌                                 | 2375/24526 [00:39<06:07, 60.33it/s]"
     ]
    },
    {
     "name": "stdout",
     "output_type": "stream",
     "text": [
      "test_2375.txt\n",
      "test_2376.txt\n",
      "test_2377.txt\n",
      "test_2378.txt\n",
      "test_2379.txt\n",
      "test_2380.txt\n",
      "test_2381.txt\n"
     ]
    },
    {
     "name": "stderr",
     "output_type": "stream",
     "text": [
      "\r",
      " 10%|███▌                                 | 2382/24526 [00:39<06:07, 60.32it/s]"
     ]
    },
    {
     "name": "stdout",
     "output_type": "stream",
     "text": [
      "test_2382.txt\n",
      "test_2383.txt\n",
      "test_2384.txt\n",
      "test_2385.txt\n",
      "test_2386.txt\n",
      "test_2387.txt\n",
      "test_2388.txt\n"
     ]
    },
    {
     "name": "stderr",
     "output_type": "stream",
     "text": [
      "\r",
      " 10%|███▌                                 | 2389/24526 [00:39<06:06, 60.32it/s]"
     ]
    },
    {
     "name": "stdout",
     "output_type": "stream",
     "text": [
      "test_2389.txt\n",
      "test_2390.txt\n",
      "test_2391.txt\n",
      "test_2392.txt\n",
      "test_2393.txt\n",
      "test_2394.txt\n",
      "test_2395.txt\n"
     ]
    },
    {
     "name": "stderr",
     "output_type": "stream",
     "text": [
      "\r",
      " 10%|███▌                                 | 2396/24526 [00:39<06:06, 60.31it/s]"
     ]
    },
    {
     "name": "stdout",
     "output_type": "stream",
     "text": [
      "test_2396.txt\n",
      "test_2397.txt\n",
      "test_2398.txt\n",
      "test_2399.txt\n",
      "test_2400.txt\n",
      "test_2401.txt\n",
      "test_2402.txt\n"
     ]
    },
    {
     "name": "stderr",
     "output_type": "stream",
     "text": [
      "\r",
      " 10%|███▋                                 | 2403/24526 [00:39<06:06, 60.30it/s]"
     ]
    },
    {
     "name": "stdout",
     "output_type": "stream",
     "text": [
      "test_2403.txt\n",
      "test_2404.txt\n",
      "test_2405.txt\n",
      "test_2406.txt\n",
      "test_2407.txt\n",
      "test_2408.txt\n"
     ]
    },
    {
     "name": "stderr",
     "output_type": "stream",
     "text": [
      "\r",
      " 10%|███▋                                 | 2409/24526 [00:39<06:06, 60.29it/s]"
     ]
    },
    {
     "name": "stdout",
     "output_type": "stream",
     "text": [
      "test_2409.txt\n",
      "test_2410.txt\n",
      "test_2411.txt\n",
      "test_2412.txt\n",
      "test_2413.txt\n",
      "test_2414.txt\n"
     ]
    },
    {
     "name": "stderr",
     "output_type": "stream",
     "text": [
      "\r",
      " 10%|███▋                                 | 2415/24526 [00:40<06:06, 60.28it/s]"
     ]
    },
    {
     "name": "stdout",
     "output_type": "stream",
     "text": [
      "test_2415.txt\n",
      "test_2416.txt\n",
      "test_2417.txt\n",
      "test_2418.txt\n",
      "test_2419.txt\n",
      "test_2420.txt\n",
      "test_2421.txt\n",
      "test_2422.txt\n"
     ]
    },
    {
     "name": "stderr",
     "output_type": "stream",
     "text": [
      "\r",
      " 10%|███▋                                 | 2423/24526 [00:40<06:06, 60.32it/s]"
     ]
    },
    {
     "name": "stdout",
     "output_type": "stream",
     "text": [
      "test_2423.txt\n",
      "test_2424.txt\n",
      "test_2425.txt\n",
      "test_2426.txt\n",
      "test_2427.txt\n",
      "test_2428.txt\n",
      "test_2429.txt\n",
      "test_2430.txt\n"
     ]
    },
    {
     "name": "stderr",
     "output_type": "stream",
     "text": [
      "\r",
      " 10%|███▋                                 | 2431/24526 [00:40<06:06, 60.33it/s]"
     ]
    },
    {
     "name": "stdout",
     "output_type": "stream",
     "text": [
      "test_2431.txt\n",
      "test_2432.txt\n",
      "test_2433.txt\n",
      "test_2434.txt\n",
      "test_2435.txt\n",
      "test_2436.txt\n",
      "test_2437.txt\n"
     ]
    },
    {
     "name": "stderr",
     "output_type": "stream",
     "text": [
      "\r",
      " 10%|███▋                                 | 2438/24526 [00:40<06:06, 60.28it/s]"
     ]
    },
    {
     "name": "stdout",
     "output_type": "stream",
     "text": [
      "test_2438.txt\n",
      "test_2439.txt\n",
      "test_2440.txt\n",
      "test_2441.txt\n",
      "test_2442.txt\n",
      "test_2443.txt\n",
      "test_2444.txt\n",
      "test_2445.txt\n"
     ]
    },
    {
     "name": "stderr",
     "output_type": "stream",
     "text": [
      "\r",
      " 10%|███▋                                 | 2446/24526 [00:40<06:06, 60.31it/s]"
     ]
    },
    {
     "name": "stdout",
     "output_type": "stream",
     "text": [
      "test_2446.txt\n",
      "test_2447.txt\n",
      "test_2448.txt\n",
      "test_2449.txt\n",
      "test_2450.txt\n",
      "test_2451.txt\n",
      "test_2452.txt\n"
     ]
    },
    {
     "name": "stderr",
     "output_type": "stream",
     "text": [
      "\r",
      " 10%|███▋                                 | 2453/24526 [00:40<06:06, 60.30it/s]"
     ]
    },
    {
     "name": "stdout",
     "output_type": "stream",
     "text": [
      "test_2453.txt\n",
      "test_2454.txt\n",
      "test_2455.txt\n",
      "test_2456.txt\n",
      "test_2457.txt\n",
      "test_2458.txt\n",
      "test_2459.txt\n"
     ]
    },
    {
     "name": "stderr",
     "output_type": "stream",
     "text": [
      "\r",
      " 10%|███▋                                 | 2460/24526 [00:40<06:06, 60.28it/s]"
     ]
    },
    {
     "name": "stdout",
     "output_type": "stream",
     "text": [
      "test_2460.txt\n",
      "test_2461.txt\n",
      "test_2462.txt\n",
      "test_2463.txt\n",
      "test_2464.txt\n",
      "test_2465.txt\n"
     ]
    },
    {
     "name": "stderr",
     "output_type": "stream",
     "text": [
      "\r",
      " 10%|███▋                                 | 2466/24526 [00:40<06:06, 60.26it/s]"
     ]
    },
    {
     "name": "stdout",
     "output_type": "stream",
     "text": [
      "test_2466.txt\n",
      "test_2467.txt\n",
      "test_2468.txt\n",
      "test_2469.txt\n",
      "test_2470.txt\n",
      "test_2471.txt\n",
      "test_2472.txt\n",
      "test_2473.txt\n"
     ]
    },
    {
     "name": "stderr",
     "output_type": "stream",
     "text": [
      "\r",
      " 10%|███▋                                 | 2474/24526 [00:41<06:05, 60.29it/s]"
     ]
    },
    {
     "name": "stdout",
     "output_type": "stream",
     "text": [
      "test_2474.txt\n",
      "test_2475.txt\n",
      "test_2476.txt\n",
      "test_2477.txt\n",
      "test_2478.txt\n",
      "test_2479.txt\n",
      "test_2480.txt\n"
     ]
    },
    {
     "name": "stderr",
     "output_type": "stream",
     "text": [
      "\r",
      " 10%|███▋                                 | 2481/24526 [00:41<06:05, 60.31it/s]"
     ]
    },
    {
     "name": "stdout",
     "output_type": "stream",
     "text": [
      "test_2481.txt\n",
      "test_2482.txt\n",
      "test_2483.txt\n",
      "test_2484.txt\n",
      "test_2485.txt\n",
      "test_2486.txt\n",
      "test_2487.txt\n"
     ]
    },
    {
     "name": "stderr",
     "output_type": "stream",
     "text": [
      "\r",
      " 10%|███▊                                 | 2488/24526 [00:41<06:05, 60.30it/s]"
     ]
    },
    {
     "name": "stdout",
     "output_type": "stream",
     "text": [
      "test_2488.txt\n",
      "test_2489.txt\n",
      "test_2490.txt\n",
      "test_2491.txt\n",
      "test_2492.txt\n",
      "test_2493.txt\n",
      "test_2494.txt\n"
     ]
    },
    {
     "name": "stderr",
     "output_type": "stream",
     "text": [
      "\r",
      " 10%|███▊                                 | 2495/24526 [00:41<06:05, 60.29it/s]"
     ]
    },
    {
     "name": "stdout",
     "output_type": "stream",
     "text": [
      "test_2495.txt\n",
      "test_2496.txt\n",
      "test_2497.txt\n",
      "test_2498.txt\n",
      "test_2499.txt\n",
      "test_2500.txt\n",
      "test_2501.txt\n"
     ]
    },
    {
     "name": "stderr",
     "output_type": "stream",
     "text": [
      "\r",
      " 10%|███▊                                 | 2502/24526 [00:41<06:05, 60.28it/s]"
     ]
    },
    {
     "name": "stdout",
     "output_type": "stream",
     "text": [
      "test_2502.txt\n",
      "test_2503.txt\n",
      "test_2504.txt\n",
      "test_2505.txt\n",
      "test_2506.txt\n",
      "test_2507.txt\n"
     ]
    },
    {
     "name": "stderr",
     "output_type": "stream",
     "text": [
      "\r",
      " 10%|███▊                                 | 2508/24526 [00:41<06:05, 60.25it/s]"
     ]
    },
    {
     "name": "stdout",
     "output_type": "stream",
     "text": [
      "test_2508.txt\n",
      "test_2509.txt\n",
      "test_2510.txt\n",
      "test_2511.txt\n",
      "test_2512.txt\n",
      "test_2513.txt\n",
      "test_2514.txt\n",
      "test_2515.txt\n"
     ]
    },
    {
     "name": "stderr",
     "output_type": "stream",
     "text": [
      "\r",
      " 10%|███▊                                 | 2516/24526 [00:41<06:05, 60.29it/s]"
     ]
    },
    {
     "name": "stdout",
     "output_type": "stream",
     "text": [
      "test_2516.txt\n",
      "test_2517.txt\n",
      "test_2518.txt\n",
      "test_2519.txt\n",
      "test_2520.txt\n",
      "test_2521.txt\n",
      "test_2522.txt\n"
     ]
    },
    {
     "name": "stderr",
     "output_type": "stream",
     "text": [
      "\r",
      " 10%|███▊                                 | 2523/24526 [00:41<06:05, 60.28it/s]"
     ]
    },
    {
     "name": "stdout",
     "output_type": "stream",
     "text": [
      "test_2523.txt\n",
      "test_2524.txt\n",
      "test_2525.txt\n",
      "test_2526.txt\n",
      "test_2527.txt\n",
      "test_2528.txt\n",
      "test_2529.txt\n"
     ]
    },
    {
     "name": "stderr",
     "output_type": "stream",
     "text": [
      "\r",
      " 10%|███▊                                 | 2530/24526 [00:41<06:04, 60.30it/s]"
     ]
    },
    {
     "name": "stdout",
     "output_type": "stream",
     "text": [
      "test_2530.txt\n",
      "test_2531.txt\n",
      "test_2532.txt\n",
      "test_2533.txt\n",
      "test_2534.txt\n",
      "test_2535.txt\n",
      "test_2536.txt\n"
     ]
    },
    {
     "name": "stderr",
     "output_type": "stream",
     "text": [
      "\r",
      " 10%|███▊                                 | 2537/24526 [00:42<06:04, 60.30it/s]"
     ]
    },
    {
     "name": "stdout",
     "output_type": "stream",
     "text": [
      "test_2537.txt\n",
      "test_2538.txt\n",
      "test_2539.txt\n",
      "test_2540.txt\n",
      "test_2541.txt\n",
      "test_2542.txt\n",
      "test_2543.txt\n"
     ]
    },
    {
     "name": "stderr",
     "output_type": "stream",
     "text": [
      "\r",
      " 10%|███▊                                 | 2544/24526 [00:42<06:04, 60.31it/s]"
     ]
    },
    {
     "name": "stdout",
     "output_type": "stream",
     "text": [
      "test_2544.txt\n",
      "test_2545.txt\n",
      "test_2546.txt\n",
      "test_2547.txt\n",
      "test_2548.txt\n",
      "test_2549.txt\n",
      "test_2550.txt\n"
     ]
    },
    {
     "name": "stderr",
     "output_type": "stream",
     "text": [
      "\r",
      " 10%|███▊                                 | 2551/24526 [00:42<06:04, 60.29it/s]"
     ]
    },
    {
     "name": "stdout",
     "output_type": "stream",
     "text": [
      "test_2551.txt\n",
      "test_2552.txt\n",
      "test_2553.txt\n",
      "test_2554.txt\n",
      "test_2555.txt\n",
      "test_2556.txt\n",
      "test_2557.txt\n"
     ]
    },
    {
     "name": "stderr",
     "output_type": "stream",
     "text": [
      "\r",
      " 10%|███▊                                 | 2558/24526 [00:42<06:04, 60.29it/s]"
     ]
    },
    {
     "name": "stdout",
     "output_type": "stream",
     "text": [
      "test_2558.txt\n",
      "test_2559.txt\n",
      "test_2560.txt\n",
      "test_2561.txt\n",
      "test_2562.txt\n",
      "test_2563.txt\n",
      "test_2564.txt\n"
     ]
    },
    {
     "name": "stderr",
     "output_type": "stream",
     "text": [
      "\r",
      " 10%|███▊                                 | 2565/24526 [00:42<06:04, 60.29it/s]"
     ]
    },
    {
     "name": "stdout",
     "output_type": "stream",
     "text": [
      "test_2565.txt\n",
      "test_2566.txt\n",
      "test_2567.txt\n",
      "test_2568.txt\n",
      "test_2569.txt\n",
      "test_2570.txt\n",
      "test_2571.txt\n"
     ]
    },
    {
     "name": "stderr",
     "output_type": "stream",
     "text": [
      "\r",
      " 10%|███▉                                 | 2572/24526 [00:42<06:04, 60.31it/s]"
     ]
    },
    {
     "name": "stdout",
     "output_type": "stream",
     "text": [
      "test_2572.txt\n",
      "test_2573.txt\n",
      "test_2574.txt\n",
      "test_2575.txt\n",
      "test_2576.txt\n",
      "test_2577.txt\n",
      "test_2578.txt\n"
     ]
    },
    {
     "name": "stderr",
     "output_type": "stream",
     "text": [
      "\r",
      " 11%|███▉                                 | 2579/24526 [00:42<06:03, 60.32it/s]"
     ]
    },
    {
     "name": "stdout",
     "output_type": "stream",
     "text": [
      "test_2579.txt\n",
      "test_2580.txt\n",
      "test_2581.txt\n",
      "test_2582.txt\n",
      "test_2583.txt\n",
      "test_2584.txt\n",
      "test_2585.txt\n",
      "test_2586.txt\n"
     ]
    },
    {
     "name": "stderr",
     "output_type": "stream",
     "text": [
      "\r",
      " 11%|███▉                                 | 2587/24526 [00:42<06:03, 60.33it/s]"
     ]
    },
    {
     "name": "stdout",
     "output_type": "stream",
     "text": [
      "test_2587.txt\n",
      "test_2588.txt\n",
      "test_2589.txt\n",
      "test_2590.txt\n",
      "test_2591.txt\n",
      "test_2592.txt\n",
      "test_2593.txt\n",
      "test_2594.txt\n"
     ]
    },
    {
     "name": "stderr",
     "output_type": "stream",
     "text": [
      "\r",
      " 11%|███▉                                 | 2595/24526 [00:43<06:03, 60.34it/s]"
     ]
    },
    {
     "name": "stdout",
     "output_type": "stream",
     "text": [
      "test_2595.txt\n",
      "test_2596.txt\n",
      "test_2597.txt\n",
      "test_2598.txt\n",
      "test_2599.txt\n",
      "test_2600.txt\n",
      "test_2601.txt\n"
     ]
    },
    {
     "name": "stderr",
     "output_type": "stream",
     "text": [
      "\r",
      " 11%|███▉                                 | 2602/24526 [00:43<06:03, 60.36it/s]"
     ]
    },
    {
     "name": "stdout",
     "output_type": "stream",
     "text": [
      "test_2602.txt\n",
      "test_2603.txt\n",
      "test_2604.txt\n",
      "test_2605.txt\n",
      "test_2606.txt\n",
      "test_2607.txt\n",
      "test_2608.txt\n"
     ]
    },
    {
     "name": "stderr",
     "output_type": "stream",
     "text": [
      "\r",
      " 11%|███▉                                 | 2609/24526 [00:43<06:03, 60.36it/s]"
     ]
    },
    {
     "name": "stdout",
     "output_type": "stream",
     "text": [
      "test_2609.txt\n",
      "test_2610.txt\n",
      "test_2611.txt\n",
      "test_2612.txt\n",
      "test_2613.txt\n",
      "test_2614.txt\n",
      "test_2615.txt\n"
     ]
    },
    {
     "name": "stderr",
     "output_type": "stream",
     "text": [
      "\r",
      " 11%|███▉                                 | 2616/24526 [00:43<06:03, 60.30it/s]"
     ]
    },
    {
     "name": "stdout",
     "output_type": "stream",
     "text": [
      "test_2616.txt\n",
      "test_2617.txt\n",
      "test_2618.txt\n",
      "test_2619.txt\n",
      "test_2620.txt\n",
      "test_2621.txt\n",
      "test_2622.txt\n"
     ]
    },
    {
     "name": "stderr",
     "output_type": "stream",
     "text": [
      "\r",
      " 11%|███▉                                 | 2623/24526 [00:43<06:03, 60.31it/s]"
     ]
    },
    {
     "name": "stdout",
     "output_type": "stream",
     "text": [
      "test_2623.txt\n",
      "test_2624.txt\n",
      "test_2625.txt\n",
      "test_2626.txt\n",
      "test_2627.txt\n",
      "test_2628.txt\n"
     ]
    },
    {
     "name": "stderr",
     "output_type": "stream",
     "text": [
      "\r",
      " 11%|███▉                                 | 2629/24526 [00:43<06:03, 60.30it/s]"
     ]
    },
    {
     "name": "stdout",
     "output_type": "stream",
     "text": [
      "test_2629.txt\n",
      "test_2630.txt\n",
      "test_2631.txt\n",
      "test_2632.txt\n",
      "test_2633.txt\n",
      "test_2634.txt\n"
     ]
    },
    {
     "name": "stderr",
     "output_type": "stream",
     "text": [
      "\r",
      " 11%|███▉                                 | 2635/24526 [00:43<06:03, 60.28it/s]"
     ]
    },
    {
     "name": "stdout",
     "output_type": "stream",
     "text": [
      "test_2635.txt\n",
      "test_2636.txt\n",
      "test_2637.txt\n",
      "test_2638.txt\n",
      "test_2639.txt\n",
      "test_2640.txt\n"
     ]
    },
    {
     "name": "stderr",
     "output_type": "stream",
     "text": [
      "\r",
      " 11%|███▉                                 | 2641/24526 [00:43<06:03, 60.25it/s]"
     ]
    },
    {
     "name": "stdout",
     "output_type": "stream",
     "text": [
      "test_2641.txt\n",
      "test_2642.txt\n",
      "test_2643.txt\n",
      "test_2644.txt\n",
      "test_2645.txt\n",
      "test_2646.txt\n"
     ]
    },
    {
     "name": "stderr",
     "output_type": "stream",
     "text": [
      "\r",
      " 11%|███▉                                 | 2647/24526 [00:43<06:03, 60.24it/s]"
     ]
    },
    {
     "name": "stdout",
     "output_type": "stream",
     "text": [
      "test_2647.txt\n",
      "test_2648.txt\n",
      "test_2649.txt\n",
      "test_2650.txt\n",
      "test_2651.txt\n",
      "test_2652.txt\n",
      "test_2653.txt\n",
      "test_2654.txt\n"
     ]
    },
    {
     "name": "stderr",
     "output_type": "stream",
     "text": [
      "\r",
      " 11%|████                                 | 2655/24526 [00:44<06:02, 60.27it/s]"
     ]
    },
    {
     "name": "stdout",
     "output_type": "stream",
     "text": [
      "test_2655.txt\n",
      "test_2656.txt\n",
      "test_2657.txt\n",
      "test_2658.txt\n",
      "test_2659.txt\n",
      "test_2660.txt\n"
     ]
    },
    {
     "name": "stderr",
     "output_type": "stream",
     "text": [
      "\r",
      " 11%|████                                 | 2661/24526 [00:44<06:02, 60.26it/s]"
     ]
    },
    {
     "name": "stdout",
     "output_type": "stream",
     "text": [
      "test_2661.txt\n",
      "test_2662.txt\n",
      "test_2663.txt\n",
      "test_2664.txt\n",
      "test_2665.txt\n",
      "test_2666.txt\n",
      "test_2667.txt\n"
     ]
    },
    {
     "name": "stderr",
     "output_type": "stream",
     "text": [
      "\r",
      " 11%|████                                 | 2668/24526 [00:44<06:02, 60.26it/s]"
     ]
    },
    {
     "name": "stdout",
     "output_type": "stream",
     "text": [
      "test_2668.txt\n",
      "test_2669.txt\n",
      "test_2670.txt\n",
      "test_2671.txt\n",
      "test_2672.txt\n",
      "test_2673.txt\n",
      "test_2674.txt\n"
     ]
    },
    {
     "name": "stderr",
     "output_type": "stream",
     "text": [
      "\r",
      " 11%|████                                 | 2675/24526 [00:44<06:02, 60.26it/s]"
     ]
    },
    {
     "name": "stdout",
     "output_type": "stream",
     "text": [
      "test_2675.txt\n",
      "test_2676.txt\n",
      "test_2677.txt\n",
      "test_2678.txt\n",
      "test_2679.txt\n",
      "test_2680.txt\n",
      "test_2681.txt\n"
     ]
    },
    {
     "name": "stderr",
     "output_type": "stream",
     "text": [
      "\r",
      " 11%|████                                 | 2682/24526 [00:44<06:02, 60.24it/s]"
     ]
    },
    {
     "name": "stdout",
     "output_type": "stream",
     "text": [
      "test_2682.txt\n",
      "test_2683.txt\n",
      "test_2684.txt\n",
      "test_2685.txt\n",
      "test_2686.txt\n",
      "test_2687.txt\n"
     ]
    },
    {
     "name": "stderr",
     "output_type": "stream",
     "text": [
      "\r",
      " 11%|████                                 | 2688/24526 [00:44<06:02, 60.24it/s]"
     ]
    },
    {
     "name": "stdout",
     "output_type": "stream",
     "text": [
      "test_2688.txt\n",
      "test_2689.txt\n",
      "test_2690.txt\n",
      "test_2691.txt\n",
      "test_2692.txt\n",
      "test_2693.txt\n",
      "test_2694.txt\n"
     ]
    },
    {
     "name": "stderr",
     "output_type": "stream",
     "text": [
      "\r",
      " 11%|████                                 | 2695/24526 [00:44<06:02, 60.22it/s]"
     ]
    },
    {
     "name": "stdout",
     "output_type": "stream",
     "text": [
      "test_2695.txt\n",
      "test_2696.txt\n",
      "test_2697.txt\n",
      "test_2698.txt\n",
      "test_2699.txt\n",
      "test_2700.txt\n",
      "test_2701.txt\n",
      "test_2702.txt\n"
     ]
    },
    {
     "name": "stderr",
     "output_type": "stream",
     "text": [
      "\r",
      " 11%|████                                 | 2703/24526 [00:44<06:02, 60.26it/s]"
     ]
    },
    {
     "name": "stdout",
     "output_type": "stream",
     "text": [
      "test_2703.txt\n",
      "test_2704.txt\n",
      "test_2705.txt\n",
      "test_2706.txt\n",
      "test_2707.txt\n",
      "test_2708.txt\n",
      "test_2709.txt\n"
     ]
    },
    {
     "name": "stderr",
     "output_type": "stream",
     "text": [
      "\r",
      " 11%|████                                 | 2710/24526 [00:44<06:02, 60.24it/s]"
     ]
    },
    {
     "name": "stdout",
     "output_type": "stream",
     "text": [
      "test_2710.txt\n",
      "test_2711.txt\n",
      "test_2712.txt\n",
      "test_2713.txt\n",
      "test_2714.txt\n",
      "test_2715.txt\n",
      "test_2716.txt\n"
     ]
    },
    {
     "name": "stderr",
     "output_type": "stream",
     "text": [
      "\r",
      " 11%|████                                 | 2717/24526 [00:45<06:02, 60.24it/s]"
     ]
    },
    {
     "name": "stdout",
     "output_type": "stream",
     "text": [
      "test_2717.txt\n",
      "test_2718.txt\n",
      "test_2719.txt\n",
      "test_2720.txt\n",
      "test_2721.txt\n",
      "test_2722.txt\n",
      "test_2723.txt\n",
      "test_2724.txt\n",
      "test_2725.txt\n"
     ]
    },
    {
     "name": "stderr",
     "output_type": "stream",
     "text": [
      "\r",
      " 11%|████                                 | 2726/24526 [00:45<06:01, 60.30it/s]"
     ]
    },
    {
     "name": "stdout",
     "output_type": "stream",
     "text": [
      "test_2726.txt\n",
      "test_2727.txt\n",
      "test_2728.txt\n",
      "test_2729.txt\n",
      "test_2730.txt\n",
      "test_2731.txt\n",
      "test_2732.txt\n"
     ]
    },
    {
     "name": "stderr",
     "output_type": "stream",
     "text": [
      "\r",
      " 11%|████                                 | 2733/24526 [00:45<06:01, 60.30it/s]"
     ]
    },
    {
     "name": "stdout",
     "output_type": "stream",
     "text": [
      "test_2733.txt\n",
      "test_2734.txt\n",
      "test_2735.txt\n",
      "test_2736.txt\n",
      "test_2737.txt\n",
      "test_2738.txt\n",
      "test_2739.txt\n"
     ]
    },
    {
     "name": "stderr",
     "output_type": "stream",
     "text": [
      "\r",
      " 11%|████▏                                | 2740/24526 [00:45<06:01, 60.27it/s]"
     ]
    },
    {
     "name": "stdout",
     "output_type": "stream",
     "text": [
      "test_2740.txt\n",
      "test_2741.txt\n",
      "test_2742.txt\n",
      "test_2743.txt\n",
      "test_2744.txt\n",
      "test_2745.txt\n",
      "test_2746.txt\n"
     ]
    },
    {
     "name": "stderr",
     "output_type": "stream",
     "text": [
      "\r",
      " 11%|████▏                                | 2747/24526 [00:45<06:01, 60.25it/s]"
     ]
    },
    {
     "name": "stdout",
     "output_type": "stream",
     "text": [
      "test_2747.txt\n",
      "test_2748.txt\n",
      "test_2749.txt\n",
      "test_2750.txt\n",
      "test_2751.txt\n",
      "test_2752.txt\n"
     ]
    },
    {
     "name": "stderr",
     "output_type": "stream",
     "text": [
      "\r",
      " 11%|████▏                                | 2753/24526 [00:45<06:01, 60.25it/s]"
     ]
    },
    {
     "name": "stdout",
     "output_type": "stream",
     "text": [
      "test_2753.txt\n",
      "test_2754.txt\n",
      "test_2755.txt\n",
      "test_2756.txt\n",
      "test_2757.txt\n",
      "test_2758.txt\n"
     ]
    },
    {
     "name": "stderr",
     "output_type": "stream",
     "text": [
      "\r",
      " 11%|████▏                                | 2759/24526 [00:45<06:01, 60.24it/s]"
     ]
    },
    {
     "name": "stdout",
     "output_type": "stream",
     "text": [
      "test_2759.txt\n",
      "test_2760.txt\n",
      "test_2761.txt\n",
      "test_2762.txt\n",
      "test_2763.txt\n",
      "test_2764.txt\n",
      "test_2765.txt\n"
     ]
    },
    {
     "name": "stderr",
     "output_type": "stream",
     "text": [
      "\r",
      " 11%|████▏                                | 2766/24526 [00:45<06:01, 60.23it/s]"
     ]
    },
    {
     "name": "stdout",
     "output_type": "stream",
     "text": [
      "test_2766.txt\n",
      "test_2767.txt\n",
      "test_2768.txt\n",
      "test_2769.txt\n",
      "test_2770.txt\n",
      "test_2771.txt\n",
      "test_2772.txt\n"
     ]
    },
    {
     "name": "stderr",
     "output_type": "stream",
     "text": [
      "\r",
      " 11%|████▏                                | 2773/24526 [00:46<06:01, 60.24it/s]"
     ]
    },
    {
     "name": "stdout",
     "output_type": "stream",
     "text": [
      "test_2773.txt\n",
      "test_2774.txt\n",
      "test_2775.txt\n",
      "test_2776.txt\n",
      "test_2777.txt\n",
      "test_2778.txt\n",
      "test_2779.txt\n",
      "test_2780.txt\n"
     ]
    },
    {
     "name": "stderr",
     "output_type": "stream",
     "text": [
      "\r",
      " 11%|████▏                                | 2781/24526 [00:46<06:00, 60.26it/s]"
     ]
    },
    {
     "name": "stdout",
     "output_type": "stream",
     "text": [
      "test_2781.txt\n",
      "test_2782.txt\n",
      "test_2783.txt\n",
      "test_2784.txt\n",
      "test_2785.txt\n",
      "test_2786.txt\n",
      "test_2787.txt\n"
     ]
    },
    {
     "name": "stderr",
     "output_type": "stream",
     "text": [
      "\r",
      " 11%|████▏                                | 2788/24526 [00:46<06:00, 60.24it/s]"
     ]
    },
    {
     "name": "stdout",
     "output_type": "stream",
     "text": [
      "test_2788.txt\n",
      "test_2789.txt\n",
      "test_2790.txt\n",
      "test_2791.txt\n",
      "test_2792.txt\n",
      "test_2793.txt\n",
      "test_2794.txt\n"
     ]
    },
    {
     "name": "stderr",
     "output_type": "stream",
     "text": [
      "\r",
      " 11%|████▏                                | 2795/24526 [00:46<06:00, 60.25it/s]"
     ]
    },
    {
     "name": "stdout",
     "output_type": "stream",
     "text": [
      "test_2795.txt\n",
      "test_2796.txt\n",
      "test_2797.txt\n",
      "test_2798.txt\n",
      "test_2799.txt\n",
      "test_2800.txt\n",
      "test_2801.txt\n"
     ]
    },
    {
     "name": "stderr",
     "output_type": "stream",
     "text": [
      "\r",
      " 11%|████▏                                | 2802/24526 [00:46<06:00, 60.25it/s]"
     ]
    },
    {
     "name": "stdout",
     "output_type": "stream",
     "text": [
      "test_2802.txt\n",
      "test_2803.txt\n",
      "test_2804.txt\n",
      "test_2805.txt\n",
      "test_2806.txt\n",
      "test_2807.txt\n",
      "test_2808.txt\n"
     ]
    },
    {
     "name": "stderr",
     "output_type": "stream",
     "text": [
      "\r",
      " 11%|████▏                                | 2809/24526 [00:46<06:00, 60.26it/s]"
     ]
    },
    {
     "name": "stdout",
     "output_type": "stream",
     "text": [
      "test_2809.txt\n",
      "test_2810.txt\n",
      "test_2811.txt\n",
      "test_2812.txt\n",
      "test_2813.txt\n",
      "test_2814.txt\n",
      "test_2815.txt\n"
     ]
    },
    {
     "name": "stderr",
     "output_type": "stream",
     "text": [
      "\r",
      " 11%|████▏                                | 2816/24526 [00:46<06:00, 60.24it/s]"
     ]
    },
    {
     "name": "stdout",
     "output_type": "stream",
     "text": [
      "test_2816.txt\n",
      "test_2817.txt\n",
      "test_2818.txt\n",
      "test_2819.txt\n",
      "test_2820.txt\n",
      "test_2821.txt\n"
     ]
    },
    {
     "name": "stderr",
     "output_type": "stream",
     "text": [
      "\r",
      " 12%|████▎                                | 2822/24526 [00:46<06:00, 60.21it/s]"
     ]
    },
    {
     "name": "stdout",
     "output_type": "stream",
     "text": [
      "test_2822.txt\n",
      "test_2823.txt\n",
      "test_2824.txt\n",
      "test_2825.txt\n",
      "test_2826.txt\n",
      "test_2827.txt\n"
     ]
    },
    {
     "name": "stderr",
     "output_type": "stream",
     "text": [
      "\r",
      " 12%|████▎                                | 2828/24526 [00:46<06:00, 60.20it/s]"
     ]
    },
    {
     "name": "stdout",
     "output_type": "stream",
     "text": [
      "test_2828.txt\n",
      "test_2829.txt\n",
      "test_2830.txt\n",
      "test_2831.txt\n",
      "test_2832.txt\n",
      "test_2833.txt\n",
      "test_2834.txt\n"
     ]
    },
    {
     "name": "stderr",
     "output_type": "stream",
     "text": [
      "\r",
      " 12%|████▎                                | 2835/24526 [00:47<06:00, 60.21it/s]"
     ]
    },
    {
     "name": "stdout",
     "output_type": "stream",
     "text": [
      "test_2835.txt\n",
      "test_2836.txt\n",
      "test_2837.txt\n",
      "test_2838.txt\n",
      "test_2839.txt\n",
      "test_2840.txt\n"
     ]
    },
    {
     "name": "stderr",
     "output_type": "stream",
     "text": [
      "\r",
      " 12%|████▎                                | 2841/24526 [00:47<06:00, 60.10it/s]"
     ]
    },
    {
     "name": "stdout",
     "output_type": "stream",
     "text": [
      "test_2841.txt\n",
      "test_2842.txt\n",
      "test_2843.txt\n",
      "test_2844.txt\n",
      "test_2845.txt\n",
      "test_2846.txt\n"
     ]
    },
    {
     "name": "stderr",
     "output_type": "stream",
     "text": [
      "\r",
      " 12%|████▎                                | 2847/24526 [00:47<06:00, 60.10it/s]"
     ]
    },
    {
     "name": "stdout",
     "output_type": "stream",
     "text": [
      "test_2847.txt\n",
      "test_2848.txt\n",
      "test_2849.txt\n",
      "test_2850.txt\n",
      "test_2851.txt\n",
      "test_2852.txt\n",
      "test_2853.txt\n",
      "test_2854.txt\n"
     ]
    },
    {
     "name": "stderr",
     "output_type": "stream",
     "text": [
      "\r",
      " 12%|████▎                                | 2855/24526 [00:47<06:00, 60.14it/s]"
     ]
    },
    {
     "name": "stdout",
     "output_type": "stream",
     "text": [
      "test_2855.txt\n",
      "test_2856.txt\n",
      "test_2857.txt\n",
      "test_2858.txt\n",
      "test_2859.txt\n",
      "test_2860.txt\n",
      "test_2861.txt\n"
     ]
    },
    {
     "name": "stderr",
     "output_type": "stream",
     "text": [
      "\r",
      " 12%|████▎                                | 2862/24526 [00:47<06:00, 60.14it/s]"
     ]
    },
    {
     "name": "stdout",
     "output_type": "stream",
     "text": [
      "test_2862.txt\n",
      "test_2863.txt\n",
      "test_2864.txt\n",
      "test_2865.txt\n",
      "test_2866.txt\n",
      "test_2867.txt\n",
      "test_2868.txt\n"
     ]
    },
    {
     "name": "stderr",
     "output_type": "stream",
     "text": [
      "\r",
      " 12%|████▎                                | 2869/24526 [00:47<06:00, 60.09it/s]"
     ]
    },
    {
     "name": "stdout",
     "output_type": "stream",
     "text": [
      "test_2869.txt\n",
      "test_2870.txt\n",
      "test_2871.txt\n",
      "test_2872.txt\n",
      "test_2873.txt\n",
      "test_2874.txt\n",
      "test_2875.txt\n",
      "test_2876.txt\n",
      "test_2877.txt\n"
     ]
    },
    {
     "name": "stderr",
     "output_type": "stream",
     "text": [
      "\r",
      " 12%|████▎                                | 2878/24526 [00:47<06:00, 60.11it/s]"
     ]
    },
    {
     "name": "stdout",
     "output_type": "stream",
     "text": [
      "test_2878.txt\n",
      "test_2879.txt\n",
      "test_2880.txt\n",
      "test_2881.txt\n",
      "test_2882.txt\n",
      "test_2883.txt\n"
     ]
    },
    {
     "name": "stderr",
     "output_type": "stream",
     "text": [
      "\r",
      " 12%|████▎                                | 2884/24526 [00:47<06:00, 60.09it/s]"
     ]
    },
    {
     "name": "stdout",
     "output_type": "stream",
     "text": [
      "test_2884.txt\n",
      "test_2885.txt\n",
      "test_2886.txt\n",
      "test_2887.txt\n",
      "test_2888.txt\n",
      "test_2889.txt\n"
     ]
    },
    {
     "name": "stderr",
     "output_type": "stream",
     "text": [
      "\r",
      " 12%|████▎                                | 2890/24526 [00:48<06:00, 60.03it/s]"
     ]
    },
    {
     "name": "stdout",
     "output_type": "stream",
     "text": [
      "test_2890.txt\n",
      "test_2891.txt\n",
      "test_2892.txt\n",
      "test_2893.txt\n",
      "test_2894.txt\n",
      "test_2895.txt\n",
      "test_2896.txt\n"
     ]
    },
    {
     "name": "stderr",
     "output_type": "stream",
     "text": [
      "\r",
      " 12%|████▎                                | 2897/24526 [00:48<06:00, 60.04it/s]"
     ]
    },
    {
     "name": "stdout",
     "output_type": "stream",
     "text": [
      "test_2897.txt\n",
      "test_2898.txt\n",
      "test_2899.txt\n",
      "test_2900.txt\n",
      "test_2901.txt\n",
      "test_2902.txt\n",
      "test_2903.txt\n"
     ]
    },
    {
     "name": "stderr",
     "output_type": "stream",
     "text": [
      "\r",
      " 12%|████▍                                | 2904/24526 [00:48<06:00, 60.03it/s]"
     ]
    },
    {
     "name": "stdout",
     "output_type": "stream",
     "text": [
      "test_2904.txt\n",
      "test_2905.txt\n",
      "test_2906.txt\n",
      "test_2907.txt\n",
      "test_2908.txt\n",
      "test_2909.txt\n"
     ]
    },
    {
     "name": "stderr",
     "output_type": "stream",
     "text": [
      "\r",
      " 12%|████▍                                | 2910/24526 [00:48<06:00, 60.01it/s]"
     ]
    },
    {
     "name": "stdout",
     "output_type": "stream",
     "text": [
      "test_2910.txt\n",
      "test_2911.txt\n",
      "test_2912.txt\n",
      "test_2913.txt\n",
      "test_2914.txt\n",
      "test_2915.txt\n",
      "test_2916.txt\n",
      "test_2917.txt\n"
     ]
    },
    {
     "name": "stderr",
     "output_type": "stream",
     "text": [
      "\r",
      " 12%|████▍                                | 2918/24526 [00:48<05:59, 60.04it/s]"
     ]
    },
    {
     "name": "stdout",
     "output_type": "stream",
     "text": [
      "test_2918.txt\n",
      "test_2919.txt\n",
      "test_2920.txt\n",
      "test_2921.txt\n",
      "test_2922.txt\n",
      "test_2923.txt\n",
      "test_2924.txt\n"
     ]
    },
    {
     "name": "stderr",
     "output_type": "stream",
     "text": [
      "\r",
      " 12%|████▍                                | 2925/24526 [00:48<05:59, 60.05it/s]"
     ]
    },
    {
     "name": "stdout",
     "output_type": "stream",
     "text": [
      "test_2925.txt\n",
      "test_2926.txt\n",
      "test_2927.txt\n",
      "test_2928.txt\n",
      "test_2929.txt\n",
      "test_2930.txt\n",
      "test_2931.txt\n"
     ]
    },
    {
     "name": "stderr",
     "output_type": "stream",
     "text": [
      "\r",
      " 12%|████▍                                | 2932/24526 [00:48<05:59, 60.06it/s]"
     ]
    },
    {
     "name": "stdout",
     "output_type": "stream",
     "text": [
      "test_2932.txt\n",
      "test_2933.txt\n",
      "test_2934.txt\n",
      "test_2935.txt\n",
      "test_2936.txt\n",
      "test_2937.txt\n",
      "test_2938.txt\n"
     ]
    },
    {
     "name": "stderr",
     "output_type": "stream",
     "text": [
      "\r",
      " 12%|████▍                                | 2939/24526 [00:48<05:59, 60.05it/s]"
     ]
    },
    {
     "name": "stdout",
     "output_type": "stream",
     "text": [
      "test_2939.txt\n",
      "test_2940.txt\n",
      "test_2941.txt\n",
      "test_2942.txt\n",
      "test_2943.txt\n",
      "test_2944.txt\n",
      "test_2945.txt\n"
     ]
    },
    {
     "name": "stderr",
     "output_type": "stream",
     "text": [
      "\r",
      " 12%|████▍                                | 2946/24526 [00:49<05:59, 60.07it/s]"
     ]
    },
    {
     "name": "stdout",
     "output_type": "stream",
     "text": [
      "test_2946.txt\n",
      "test_2947.txt\n",
      "test_2948.txt\n",
      "test_2949.txt\n",
      "test_2950.txt\n",
      "test_2951.txt\n",
      "test_2952.txt\n",
      "test_2953.txt\n",
      "test_2954.txt\n"
     ]
    },
    {
     "name": "stderr",
     "output_type": "stream",
     "text": [
      "\r",
      " 12%|████▍                                | 2955/24526 [00:49<05:58, 60.12it/s]"
     ]
    },
    {
     "name": "stdout",
     "output_type": "stream",
     "text": [
      "test_2955.txt\n",
      "test_2956.txt\n",
      "test_2957.txt\n",
      "test_2958.txt\n",
      "test_2959.txt\n",
      "test_2960.txt\n",
      "test_2961.txt\n",
      "test_2962.txt\n"
     ]
    },
    {
     "name": "stderr",
     "output_type": "stream",
     "text": [
      "\r",
      " 12%|████▍                                | 2963/24526 [00:49<05:58, 60.13it/s]"
     ]
    },
    {
     "name": "stdout",
     "output_type": "stream",
     "text": [
      "test_2963.txt\n",
      "test_2964.txt\n",
      "test_2965.txt\n",
      "test_2966.txt\n",
      "test_2967.txt\n",
      "test_2968.txt\n",
      "test_2969.txt\n"
     ]
    },
    {
     "name": "stderr",
     "output_type": "stream",
     "text": [
      "\r",
      " 12%|████▍                                | 2970/24526 [00:49<05:58, 60.12it/s]"
     ]
    },
    {
     "name": "stdout",
     "output_type": "stream",
     "text": [
      "test_2970.txt\n",
      "test_2971.txt\n",
      "test_2972.txt\n",
      "test_2973.txt\n",
      "test_2974.txt\n",
      "test_2975.txt\n",
      "test_2976.txt\n"
     ]
    },
    {
     "name": "stderr",
     "output_type": "stream",
     "text": [
      "\r",
      " 12%|████▍                                | 2977/24526 [00:49<05:59, 60.01it/s]"
     ]
    },
    {
     "name": "stdout",
     "output_type": "stream",
     "text": [
      "test_2977.txt\n",
      "test_2978.txt\n",
      "test_2979.txt\n",
      "test_2980.txt\n",
      "test_2981.txt\n",
      "test_2982.txt\n"
     ]
    },
    {
     "name": "stderr",
     "output_type": "stream",
     "text": [
      "\r",
      " 12%|████▌                                | 2983/24526 [00:49<05:59, 59.98it/s]"
     ]
    },
    {
     "name": "stdout",
     "output_type": "stream",
     "text": [
      "test_2983.txt\n",
      "test_2984.txt\n",
      "test_2985.txt\n",
      "test_2986.txt\n",
      "test_2987.txt\n",
      "test_2988.txt\n"
     ]
    },
    {
     "name": "stderr",
     "output_type": "stream",
     "text": [
      "\r",
      " 12%|████▌                                | 2989/24526 [00:49<05:59, 59.95it/s]"
     ]
    },
    {
     "name": "stdout",
     "output_type": "stream",
     "text": [
      "test_2989.txt\n",
      "test_2990.txt\n",
      "test_2991.txt\n",
      "test_2992.txt\n",
      "test_2993.txt\n",
      "test_2994.txt\n"
     ]
    },
    {
     "name": "stderr",
     "output_type": "stream",
     "text": [
      "\r",
      " 12%|████▌                                | 2995/24526 [00:49<05:59, 59.92it/s]"
     ]
    },
    {
     "name": "stdout",
     "output_type": "stream",
     "text": [
      "test_2995.txt\n",
      "test_2996.txt\n",
      "test_2997.txt\n",
      "test_2998.txt\n",
      "test_2999.txt\n",
      "test_3000.txt\n"
     ]
    },
    {
     "name": "stderr",
     "output_type": "stream",
     "text": [
      "\r",
      " 12%|████▌                                | 3001/24526 [00:50<05:59, 59.91it/s]"
     ]
    },
    {
     "name": "stdout",
     "output_type": "stream",
     "text": [
      "test_3001.txt\n",
      "test_3002.txt\n",
      "test_3003.txt\n",
      "test_3004.txt\n",
      "test_3005.txt\n",
      "test_3006.txt\n"
     ]
    },
    {
     "name": "stderr",
     "output_type": "stream",
     "text": [
      "\r",
      " 12%|████▌                                | 3007/24526 [00:50<05:59, 59.88it/s]"
     ]
    },
    {
     "name": "stdout",
     "output_type": "stream",
     "text": [
      "test_3007.txt\n",
      "test_3008.txt\n",
      "test_3009.txt\n",
      "test_3010.txt\n",
      "test_3011.txt\n",
      "test_3012.txt\n"
     ]
    },
    {
     "name": "stderr",
     "output_type": "stream",
     "text": [
      "\r",
      " 12%|████▌                                | 3013/24526 [00:50<05:59, 59.87it/s]"
     ]
    },
    {
     "name": "stdout",
     "output_type": "stream",
     "text": [
      "test_3013.txt\n",
      "test_3014.txt\n",
      "test_3015.txt\n",
      "test_3016.txt\n",
      "test_3017.txt\n",
      "test_3018.txt\n"
     ]
    },
    {
     "name": "stderr",
     "output_type": "stream",
     "text": [
      "\r",
      " 12%|████▌                                | 3019/24526 [00:50<05:59, 59.85it/s]"
     ]
    },
    {
     "name": "stdout",
     "output_type": "stream",
     "text": [
      "test_3019.txt\n",
      "test_3020.txt\n",
      "test_3021.txt\n",
      "test_3022.txt\n",
      "test_3023.txt\n",
      "test_3024.txt\n"
     ]
    },
    {
     "name": "stderr",
     "output_type": "stream",
     "text": [
      "\r",
      " 12%|████▌                                | 3025/24526 [00:50<05:59, 59.85it/s]"
     ]
    },
    {
     "name": "stdout",
     "output_type": "stream",
     "text": [
      "test_3025.txt\n",
      "test_3026.txt\n",
      "test_3027.txt\n",
      "test_3028.txt\n",
      "test_3029.txt\n",
      "test_3030.txt\n"
     ]
    },
    {
     "name": "stderr",
     "output_type": "stream",
     "text": [
      "\r",
      " 12%|████▌                                | 3031/24526 [00:50<05:59, 59.82it/s]"
     ]
    },
    {
     "name": "stdout",
     "output_type": "stream",
     "text": [
      "test_3031.txt\n",
      "test_3032.txt\n",
      "test_3033.txt\n",
      "test_3034.txt\n",
      "test_3035.txt\n",
      "test_3036.txt\n",
      "test_3037.txt\n"
     ]
    },
    {
     "name": "stderr",
     "output_type": "stream",
     "text": [
      "\r",
      " 12%|████▌                                | 3038/24526 [00:50<05:59, 59.83it/s]"
     ]
    },
    {
     "name": "stdout",
     "output_type": "stream",
     "text": [
      "test_3038.txt\n",
      "test_3039.txt\n",
      "test_3040.txt\n",
      "test_3041.txt\n",
      "test_3042.txt\n",
      "test_3043.txt\n"
     ]
    },
    {
     "name": "stderr",
     "output_type": "stream",
     "text": [
      "\r",
      " 12%|████▌                                | 3044/24526 [00:50<05:59, 59.80it/s]"
     ]
    },
    {
     "name": "stdout",
     "output_type": "stream",
     "text": [
      "test_3044.txt\n",
      "test_3045.txt\n",
      "test_3046.txt\n",
      "test_3047.txt\n",
      "test_3048.txt\n",
      "test_3049.txt\n"
     ]
    },
    {
     "name": "stderr",
     "output_type": "stream",
     "text": [
      "\r",
      " 12%|████▌                                | 3050/24526 [00:51<05:59, 59.79it/s]"
     ]
    },
    {
     "name": "stdout",
     "output_type": "stream",
     "text": [
      "test_3050.txt\n",
      "test_3051.txt\n",
      "test_3052.txt\n",
      "test_3053.txt\n",
      "test_3054.txt\n",
      "test_3055.txt\n"
     ]
    },
    {
     "name": "stderr",
     "output_type": "stream",
     "text": [
      "\r",
      " 12%|████▌                                | 3056/24526 [00:51<05:59, 59.77it/s]"
     ]
    },
    {
     "name": "stdout",
     "output_type": "stream",
     "text": [
      "test_3056.txt\n",
      "test_3057.txt\n",
      "test_3058.txt\n",
      "test_3059.txt\n",
      "test_3060.txt\n",
      "test_3061.txt\n"
     ]
    },
    {
     "name": "stderr",
     "output_type": "stream",
     "text": [
      "\r",
      " 12%|████▌                                | 3062/24526 [00:51<05:59, 59.74it/s]"
     ]
    },
    {
     "name": "stdout",
     "output_type": "stream",
     "text": [
      "test_3062.txt\n",
      "test_3063.txt\n",
      "test_3064.txt\n",
      "test_3065.txt\n",
      "test_3066.txt\n",
      "test_3067.txt\n",
      "test_3068.txt\n"
     ]
    },
    {
     "name": "stderr",
     "output_type": "stream",
     "text": [
      "\r",
      " 13%|████▋                                | 3069/24526 [00:51<05:59, 59.73it/s]"
     ]
    },
    {
     "name": "stdout",
     "output_type": "stream",
     "text": [
      "test_3069.txt\n",
      "test_3070.txt\n",
      "test_3071.txt\n",
      "test_3072.txt\n",
      "test_3073.txt\n",
      "test_3074.txt\n",
      "test_3075.txt\n"
     ]
    },
    {
     "name": "stderr",
     "output_type": "stream",
     "text": [
      "\r",
      " 13%|████▋                                | 3076/24526 [00:51<05:59, 59.73it/s]"
     ]
    },
    {
     "name": "stdout",
     "output_type": "stream",
     "text": [
      "test_3076.txt\n",
      "test_3077.txt\n",
      "test_3078.txt\n",
      "test_3079.txt\n",
      "test_3080.txt\n",
      "test_3081.txt\n",
      "test_3082.txt\n"
     ]
    },
    {
     "name": "stderr",
     "output_type": "stream",
     "text": [
      "\r",
      " 13%|████▋                                | 3083/24526 [00:51<05:59, 59.73it/s]"
     ]
    },
    {
     "name": "stdout",
     "output_type": "stream",
     "text": [
      "test_3083.txt\n",
      "test_3084.txt\n",
      "test_3085.txt\n",
      "test_3086.txt\n",
      "test_3087.txt\n",
      "test_3088.txt\n"
     ]
    },
    {
     "name": "stderr",
     "output_type": "stream",
     "text": [
      "\r",
      " 13%|████▋                                | 3089/24526 [00:51<05:58, 59.71it/s]"
     ]
    },
    {
     "name": "stdout",
     "output_type": "stream",
     "text": [
      "test_3089.txt\n",
      "test_3090.txt\n",
      "test_3091.txt\n",
      "test_3092.txt\n",
      "test_3093.txt\n",
      "test_3094.txt\n"
     ]
    },
    {
     "name": "stderr",
     "output_type": "stream",
     "text": [
      "\r",
      " 13%|████▋                                | 3095/24526 [00:51<05:58, 59.70it/s]"
     ]
    },
    {
     "name": "stdout",
     "output_type": "stream",
     "text": [
      "test_3095.txt\n",
      "test_3096.txt\n",
      "test_3097.txt\n",
      "test_3098.txt\n",
      "test_3099.txt\n",
      "test_3100.txt\n"
     ]
    },
    {
     "name": "stderr",
     "output_type": "stream",
     "text": [
      "\r",
      " 13%|████▋                                | 3101/24526 [00:51<05:58, 59.69it/s]"
     ]
    },
    {
     "name": "stdout",
     "output_type": "stream",
     "text": [
      "test_3101.txt\n",
      "test_3102.txt\n",
      "test_3103.txt\n",
      "test_3104.txt\n",
      "test_3105.txt\n",
      "test_3106.txt\n",
      "test_3107.txt\n"
     ]
    },
    {
     "name": "stderr",
     "output_type": "stream",
     "text": [
      "\r",
      " 13%|████▋                                | 3108/24526 [00:52<05:58, 59.70it/s]"
     ]
    },
    {
     "name": "stdout",
     "output_type": "stream",
     "text": [
      "test_3108.txt\n",
      "test_3109.txt\n",
      "test_3110.txt\n",
      "test_3111.txt\n",
      "test_3112.txt\n",
      "test_3113.txt\n",
      "test_3114.txt\n"
     ]
    },
    {
     "name": "stderr",
     "output_type": "stream",
     "text": [
      "\r",
      " 13%|████▋                                | 3115/24526 [00:52<05:58, 59.71it/s]"
     ]
    },
    {
     "name": "stdout",
     "output_type": "stream",
     "text": [
      "test_3115.txt\n",
      "test_3116.txt\n",
      "test_3117.txt\n",
      "test_3118.txt\n",
      "test_3119.txt\n",
      "test_3120.txt\n"
     ]
    },
    {
     "name": "stderr",
     "output_type": "stream",
     "text": [
      "\r",
      " 13%|████▋                                | 3121/24526 [00:52<05:58, 59.68it/s]"
     ]
    },
    {
     "name": "stdout",
     "output_type": "stream",
     "text": [
      "test_3121.txt\n",
      "test_3122.txt\n",
      "test_3123.txt\n",
      "test_3124.txt\n",
      "test_3125.txt\n",
      "test_3126.txt\n"
     ]
    },
    {
     "name": "stderr",
     "output_type": "stream",
     "text": [
      "\r",
      " 13%|████▋                                | 3127/24526 [00:52<05:58, 59.66it/s]"
     ]
    },
    {
     "name": "stdout",
     "output_type": "stream",
     "text": [
      "test_3127.txt\n",
      "test_3128.txt\n",
      "test_3129.txt\n",
      "test_3130.txt\n",
      "test_3131.txt\n",
      "test_3132.txt\n",
      "test_3133.txt\n",
      "test_3134.txt\n"
     ]
    },
    {
     "name": "stderr",
     "output_type": "stream",
     "text": [
      "\r",
      " 13%|████▋                                | 3135/24526 [00:52<05:58, 59.69it/s]"
     ]
    },
    {
     "name": "stdout",
     "output_type": "stream",
     "text": [
      "test_3135.txt\n",
      "test_3136.txt\n",
      "test_3137.txt\n",
      "test_3138.txt\n",
      "test_3139.txt\n",
      "test_3140.txt\n",
      "test_3141.txt\n"
     ]
    },
    {
     "name": "stderr",
     "output_type": "stream",
     "text": [
      "\r",
      " 13%|████▋                                | 3142/24526 [00:52<05:58, 59.70it/s]"
     ]
    },
    {
     "name": "stdout",
     "output_type": "stream",
     "text": [
      "test_3142.txt\n",
      "test_3143.txt\n",
      "test_3144.txt\n",
      "test_3145.txt\n",
      "test_3146.txt\n",
      "test_3147.txt\n",
      "test_3148.txt\n"
     ]
    },
    {
     "name": "stderr",
     "output_type": "stream",
     "text": [
      "\r",
      " 13%|████▊                                | 3149/24526 [00:52<05:58, 59.69it/s]"
     ]
    },
    {
     "name": "stdout",
     "output_type": "stream",
     "text": [
      "test_3149.txt\n",
      "test_3150.txt\n",
      "test_3151.txt\n",
      "test_3152.txt\n",
      "test_3153.txt\n",
      "test_3154.txt\n",
      "test_3155.txt\n"
     ]
    },
    {
     "name": "stderr",
     "output_type": "stream",
     "text": [
      "\r",
      " 13%|████▊                                | 3156/24526 [00:52<05:58, 59.69it/s]"
     ]
    },
    {
     "name": "stdout",
     "output_type": "stream",
     "text": [
      "test_3156.txt\n",
      "test_3157.txt\n",
      "test_3158.txt\n",
      "test_3159.txt\n",
      "test_3160.txt\n",
      "test_3161.txt\n",
      "test_3162.txt\n"
     ]
    },
    {
     "name": "stderr",
     "output_type": "stream",
     "text": [
      "\r",
      " 13%|████▊                                | 3163/24526 [00:52<05:57, 59.69it/s]"
     ]
    },
    {
     "name": "stdout",
     "output_type": "stream",
     "text": [
      "test_3163.txt\n",
      "test_3164.txt\n",
      "test_3165.txt\n",
      "test_3166.txt\n",
      "test_3167.txt\n",
      "test_3168.txt\n",
      "test_3169.txt\n"
     ]
    },
    {
     "name": "stderr",
     "output_type": "stream",
     "text": [
      "\r",
      " 13%|████▊                                | 3170/24526 [00:53<05:57, 59.67it/s]"
     ]
    },
    {
     "name": "stdout",
     "output_type": "stream",
     "text": [
      "test_3170.txt\n",
      "test_3171.txt\n",
      "test_3172.txt\n",
      "test_3173.txt\n",
      "test_3174.txt\n",
      "test_3175.txt\n"
     ]
    },
    {
     "name": "stderr",
     "output_type": "stream",
     "text": [
      "\r",
      " 13%|████▊                                | 3176/24526 [00:53<05:57, 59.67it/s]"
     ]
    },
    {
     "name": "stdout",
     "output_type": "stream",
     "text": [
      "test_3176.txt\n",
      "test_3177.txt\n",
      "test_3178.txt\n",
      "test_3179.txt\n",
      "test_3180.txt\n",
      "test_3181.txt\n"
     ]
    },
    {
     "name": "stderr",
     "output_type": "stream",
     "text": [
      "\r",
      " 13%|████▊                                | 3182/24526 [00:53<05:57, 59.66it/s]"
     ]
    },
    {
     "name": "stdout",
     "output_type": "stream",
     "text": [
      "test_3182.txt\n",
      "test_3183.txt\n",
      "test_3184.txt\n",
      "test_3185.txt\n",
      "test_3186.txt\n",
      "test_3187.txt\n"
     ]
    },
    {
     "name": "stderr",
     "output_type": "stream",
     "text": [
      "\r",
      " 13%|████▊                                | 3188/24526 [00:53<05:57, 59.65it/s]"
     ]
    },
    {
     "name": "stdout",
     "output_type": "stream",
     "text": [
      "test_3188.txt\n",
      "test_3189.txt\n",
      "test_3190.txt\n",
      "test_3191.txt\n",
      "test_3192.txt\n",
      "test_3193.txt\n"
     ]
    },
    {
     "name": "stderr",
     "output_type": "stream",
     "text": [
      "\r",
      " 13%|████▊                                | 3194/24526 [00:53<05:57, 59.63it/s]"
     ]
    },
    {
     "name": "stdout",
     "output_type": "stream",
     "text": [
      "test_3194.txt\n",
      "test_3195.txt\n",
      "test_3196.txt\n",
      "test_3197.txt\n",
      "test_3198.txt\n",
      "test_3199.txt\n",
      "test_3200.txt\n",
      "test_3201.txt\n"
     ]
    },
    {
     "name": "stderr",
     "output_type": "stream",
     "text": [
      "\r",
      " 13%|████▊                                | 3202/24526 [00:53<05:57, 59.66it/s]"
     ]
    },
    {
     "name": "stdout",
     "output_type": "stream",
     "text": [
      "test_3202.txt\n",
      "test_3203.txt\n",
      "test_3204.txt\n",
      "test_3205.txt\n",
      "test_3206.txt\n",
      "test_3207.txt\n",
      "test_3208.txt\n"
     ]
    },
    {
     "name": "stderr",
     "output_type": "stream",
     "text": [
      "\r",
      " 13%|████▊                                | 3209/24526 [00:53<05:57, 59.67it/s]"
     ]
    },
    {
     "name": "stdout",
     "output_type": "stream",
     "text": [
      "test_3209.txt\n",
      "test_3210.txt\n",
      "test_3211.txt\n",
      "test_3212.txt\n",
      "test_3213.txt\n",
      "test_3214.txt\n",
      "test_3215.txt\n"
     ]
    },
    {
     "name": "stderr",
     "output_type": "stream",
     "text": [
      "\r",
      " 13%|████▊                                | 3216/24526 [00:53<05:57, 59.56it/s]"
     ]
    },
    {
     "name": "stdout",
     "output_type": "stream",
     "text": [
      "test_3216.txt\n",
      "test_3217.txt\n",
      "test_3218.txt\n",
      "test_3219.txt\n",
      "test_3220.txt\n",
      "test_3221.txt\n"
     ]
    },
    {
     "name": "stderr",
     "output_type": "stream",
     "text": [
      "\r",
      " 13%|████▊                                | 3222/24526 [00:54<05:58, 59.51it/s]"
     ]
    },
    {
     "name": "stdout",
     "output_type": "stream",
     "text": [
      "test_3222.txt\n",
      "test_3223.txt\n",
      "test_3224.txt\n",
      "test_3225.txt\n",
      "test_3226.txt\n",
      "test_3227.txt\n",
      "test_3228.txt\n",
      "test_3229.txt\n"
     ]
    },
    {
     "name": "stderr",
     "output_type": "stream",
     "text": [
      "\r",
      " 13%|████▊                                | 3230/24526 [00:54<05:57, 59.52it/s]"
     ]
    },
    {
     "name": "stdout",
     "output_type": "stream",
     "text": [
      "test_3230.txt\n",
      "test_3231.txt\n",
      "test_3232.txt\n",
      "test_3233.txt\n",
      "test_3234.txt\n",
      "test_3235.txt\n"
     ]
    },
    {
     "name": "stderr",
     "output_type": "stream",
     "text": [
      "\r",
      " 13%|████▉                                | 3236/24526 [00:54<05:57, 59.51it/s]"
     ]
    },
    {
     "name": "stdout",
     "output_type": "stream",
     "text": [
      "test_3236.txt\n",
      "test_3237.txt\n",
      "test_3238.txt\n",
      "test_3239.txt\n",
      "test_3240.txt\n",
      "test_3241.txt\n"
     ]
    },
    {
     "name": "stderr",
     "output_type": "stream",
     "text": [
      "\r",
      " 13%|████▉                                | 3242/24526 [00:54<05:57, 59.48it/s]"
     ]
    },
    {
     "name": "stdout",
     "output_type": "stream",
     "text": [
      "test_3242.txt\n",
      "test_3243.txt\n",
      "test_3244.txt\n",
      "test_3245.txt\n",
      "test_3246.txt\n",
      "test_3247.txt\n"
     ]
    },
    {
     "name": "stderr",
     "output_type": "stream",
     "text": [
      "\r",
      " 13%|████▉                                | 3248/24526 [00:54<05:57, 59.48it/s]"
     ]
    },
    {
     "name": "stdout",
     "output_type": "stream",
     "text": [
      "test_3248.txt\n",
      "test_3249.txt\n",
      "test_3250.txt\n",
      "test_3251.txt\n",
      "test_3252.txt\n",
      "test_3253.txt\n",
      "test_3254.txt\n"
     ]
    },
    {
     "name": "stderr",
     "output_type": "stream",
     "text": [
      "\r",
      " 13%|████▉                                | 3255/24526 [00:54<05:57, 59.48it/s]"
     ]
    },
    {
     "name": "stdout",
     "output_type": "stream",
     "text": [
      "test_3255.txt\n",
      "test_3256.txt\n",
      "test_3257.txt\n",
      "test_3258.txt\n",
      "test_3259.txt\n",
      "test_3260.txt\n"
     ]
    },
    {
     "name": "stderr",
     "output_type": "stream",
     "text": [
      "\r",
      " 13%|████▉                                | 3261/24526 [00:54<05:57, 59.47it/s]"
     ]
    },
    {
     "name": "stdout",
     "output_type": "stream",
     "text": [
      "test_3261.txt\n",
      "test_3262.txt\n",
      "test_3263.txt\n",
      "test_3264.txt\n",
      "test_3265.txt\n",
      "test_3266.txt\n"
     ]
    },
    {
     "name": "stderr",
     "output_type": "stream",
     "text": [
      "\r",
      " 13%|████▉                                | 3267/24526 [00:54<05:57, 59.46it/s]"
     ]
    },
    {
     "name": "stdout",
     "output_type": "stream",
     "text": [
      "test_3267.txt\n",
      "test_3268.txt\n",
      "test_3269.txt\n",
      "test_3270.txt\n",
      "test_3271.txt\n",
      "test_3272.txt\n",
      "test_3273.txt\n"
     ]
    },
    {
     "name": "stderr",
     "output_type": "stream",
     "text": [
      "\r",
      " 13%|████▉                                | 3274/24526 [00:55<05:57, 59.48it/s]"
     ]
    },
    {
     "name": "stdout",
     "output_type": "stream",
     "text": [
      "test_3274.txt\n",
      "test_3275.txt\n",
      "test_3276.txt\n",
      "test_3277.txt\n",
      "test_3278.txt\n",
      "test_3279.txt\n"
     ]
    },
    {
     "name": "stderr",
     "output_type": "stream",
     "text": [
      "\r",
      " 13%|████▉                                | 3280/24526 [00:55<05:57, 59.48it/s]"
     ]
    },
    {
     "name": "stdout",
     "output_type": "stream",
     "text": [
      "test_3280.txt\n",
      "test_3281.txt\n",
      "test_3282.txt\n",
      "test_3283.txt\n",
      "test_3284.txt\n",
      "test_3285.txt\n"
     ]
    },
    {
     "name": "stderr",
     "output_type": "stream",
     "text": [
      "\r",
      " 13%|████▉                                | 3286/24526 [00:55<05:57, 59.41it/s]"
     ]
    },
    {
     "name": "stdout",
     "output_type": "stream",
     "text": [
      "test_3286.txt\n",
      "test_3287.txt\n",
      "test_3288.txt\n",
      "test_3289.txt\n",
      "test_3290.txt\n",
      "test_3291.txt\n"
     ]
    },
    {
     "name": "stderr",
     "output_type": "stream",
     "text": [
      "\r",
      " 13%|████▉                                | 3292/24526 [00:55<05:57, 59.40it/s]"
     ]
    },
    {
     "name": "stdout",
     "output_type": "stream",
     "text": [
      "test_3292.txt\n",
      "test_3293.txt\n",
      "test_3294.txt\n",
      "test_3295.txt\n",
      "test_3296.txt\n",
      "test_3297.txt\n"
     ]
    },
    {
     "name": "stderr",
     "output_type": "stream",
     "text": [
      "\r",
      " 13%|████▉                                | 3298/24526 [00:55<05:57, 59.34it/s]"
     ]
    },
    {
     "name": "stdout",
     "output_type": "stream",
     "text": [
      "test_3298.txt\n",
      "test_3299.txt\n",
      "test_3300.txt\n",
      "test_3301.txt\n",
      "test_3302.txt\n",
      "test_3303.txt\n",
      "test_3304.txt\n"
     ]
    },
    {
     "name": "stderr",
     "output_type": "stream",
     "text": [
      "\r",
      " 13%|████▉                                | 3305/24526 [00:55<05:57, 59.34it/s]"
     ]
    },
    {
     "name": "stdout",
     "output_type": "stream",
     "text": [
      "test_3305.txt\n",
      "test_3306.txt\n",
      "test_3307.txt\n",
      "test_3308.txt\n",
      "test_3309.txt\n",
      "test_3310.txt\n"
     ]
    },
    {
     "name": "stderr",
     "output_type": "stream",
     "text": [
      "\r",
      " 13%|████▉                                | 3311/24526 [00:55<05:57, 59.34it/s]"
     ]
    },
    {
     "name": "stdout",
     "output_type": "stream",
     "text": [
      "test_3311.txt\n",
      "test_3312.txt\n",
      "test_3313.txt\n",
      "test_3314.txt\n",
      "test_3315.txt\n",
      "test_3316.txt\n",
      "test_3317.txt\n"
     ]
    },
    {
     "name": "stderr",
     "output_type": "stream",
     "text": [
      "\r",
      " 14%|█████                                | 3318/24526 [00:55<05:57, 59.35it/s]"
     ]
    },
    {
     "name": "stdout",
     "output_type": "stream",
     "text": [
      "test_3318.txt\n",
      "test_3319.txt\n",
      "test_3320.txt\n",
      "test_3321.txt\n",
      "test_3322.txt\n",
      "test_3323.txt\n"
     ]
    },
    {
     "name": "stderr",
     "output_type": "stream",
     "text": [
      "\r",
      " 14%|█████                                | 3324/24526 [00:56<05:57, 59.35it/s]"
     ]
    },
    {
     "name": "stdout",
     "output_type": "stream",
     "text": [
      "test_3324.txt\n",
      "test_3325.txt\n",
      "test_3326.txt\n",
      "test_3327.txt\n",
      "test_3328.txt\n",
      "test_3329.txt\n",
      "test_3330.txt\n"
     ]
    },
    {
     "name": "stderr",
     "output_type": "stream",
     "text": [
      "\r",
      " 14%|█████                                | 3331/24526 [00:56<05:57, 59.36it/s]"
     ]
    },
    {
     "name": "stdout",
     "output_type": "stream",
     "text": [
      "test_3331.txt\n",
      "test_3332.txt\n",
      "test_3333.txt\n",
      "test_3334.txt\n",
      "test_3335.txt\n",
      "test_3336.txt\n",
      "test_3337.txt\n"
     ]
    },
    {
     "name": "stderr",
     "output_type": "stream",
     "text": [
      "\r",
      " 14%|█████                                | 3338/24526 [00:56<05:56, 59.37it/s]"
     ]
    },
    {
     "name": "stdout",
     "output_type": "stream",
     "text": [
      "test_3338.txt\n",
      "test_3339.txt\n",
      "test_3340.txt\n",
      "test_3341.txt\n",
      "test_3342.txt\n",
      "test_3343.txt\n",
      "test_3344.txt\n"
     ]
    },
    {
     "name": "stderr",
     "output_type": "stream",
     "text": [
      "\r",
      " 14%|█████                                | 3345/24526 [00:56<05:57, 59.32it/s]"
     ]
    },
    {
     "name": "stdout",
     "output_type": "stream",
     "text": [
      "test_3345.txt\n",
      "test_3346.txt\n",
      "test_3347.txt\n",
      "test_3348.txt\n",
      "test_3349.txt\n",
      "test_3350.txt\n"
     ]
    },
    {
     "name": "stderr",
     "output_type": "stream",
     "text": [
      "\r",
      " 14%|█████                                | 3351/24526 [00:56<05:57, 59.30it/s]"
     ]
    },
    {
     "name": "stdout",
     "output_type": "stream",
     "text": [
      "test_3351.txt\n",
      "test_3352.txt\n",
      "test_3353.txt\n",
      "test_3354.txt\n",
      "test_3355.txt\n",
      "test_3356.txt\n"
     ]
    },
    {
     "name": "stderr",
     "output_type": "stream",
     "text": [
      "\r",
      " 14%|█████                                | 3357/24526 [00:56<05:57, 59.18it/s]"
     ]
    },
    {
     "name": "stdout",
     "output_type": "stream",
     "text": [
      "test_3357.txt\n",
      "test_3358.txt\n",
      "test_3359.txt\n",
      "test_3360.txt\n",
      "test_3361.txt\n",
      "test_3362.txt\n"
     ]
    },
    {
     "name": "stderr",
     "output_type": "stream",
     "text": [
      "\r",
      " 14%|█████                                | 3363/24526 [00:56<05:57, 59.18it/s]"
     ]
    },
    {
     "name": "stdout",
     "output_type": "stream",
     "text": [
      "test_3363.txt\n",
      "test_3364.txt\n",
      "test_3365.txt\n",
      "test_3366.txt\n",
      "test_3367.txt\n",
      "test_3368.txt\n"
     ]
    },
    {
     "name": "stderr",
     "output_type": "stream",
     "text": [
      "\r",
      " 14%|█████                                | 3369/24526 [00:56<05:57, 59.18it/s]"
     ]
    },
    {
     "name": "stdout",
     "output_type": "stream",
     "text": [
      "test_3369.txt\n",
      "test_3370.txt\n",
      "test_3371.txt\n",
      "test_3372.txt\n",
      "test_3373.txt\n",
      "test_3374.txt\n",
      "test_3375.txt\n"
     ]
    },
    {
     "name": "stderr",
     "output_type": "stream",
     "text": [
      "\r",
      " 14%|█████                                | 3376/24526 [00:57<05:57, 59.19it/s]"
     ]
    },
    {
     "name": "stdout",
     "output_type": "stream",
     "text": [
      "test_3376.txt\n",
      "test_3377.txt\n",
      "test_3378.txt\n",
      "test_3379.txt\n",
      "test_3380.txt\n",
      "test_3381.txt\n",
      "test_3382.txt\n"
     ]
    },
    {
     "name": "stderr",
     "output_type": "stream",
     "text": [
      "\r",
      " 14%|█████                                | 3383/24526 [00:57<05:57, 59.19it/s]"
     ]
    },
    {
     "name": "stdout",
     "output_type": "stream",
     "text": [
      "test_3383.txt\n",
      "test_3384.txt\n",
      "test_3385.txt\n",
      "test_3386.txt\n",
      "test_3387.txt\n",
      "test_3388.txt\n",
      "test_3389.txt\n",
      "test_3390.txt\n"
     ]
    },
    {
     "name": "stderr",
     "output_type": "stream",
     "text": [
      "\r",
      " 14%|█████                                | 3391/24526 [00:57<05:56, 59.21it/s]"
     ]
    },
    {
     "name": "stdout",
     "output_type": "stream",
     "text": [
      "test_3391.txt\n",
      "test_3392.txt\n",
      "test_3393.txt\n",
      "test_3394.txt\n",
      "test_3395.txt\n",
      "test_3396.txt\n",
      "test_3397.txt\n"
     ]
    },
    {
     "name": "stderr",
     "output_type": "stream",
     "text": [
      "\r",
      " 14%|█████▏                               | 3398/24526 [00:57<05:56, 59.21it/s]"
     ]
    },
    {
     "name": "stdout",
     "output_type": "stream",
     "text": [
      "test_3398.txt\n",
      "test_3399.txt\n",
      "test_3400.txt\n",
      "test_3401.txt\n",
      "test_3402.txt\n",
      "test_3403.txt\n",
      "test_3404.txt\n"
     ]
    },
    {
     "name": "stderr",
     "output_type": "stream",
     "text": [
      "\r",
      " 14%|█████▏                               | 3405/24526 [00:57<05:56, 59.22it/s]"
     ]
    },
    {
     "name": "stdout",
     "output_type": "stream",
     "text": [
      "test_3405.txt\n",
      "test_3406.txt\n",
      "test_3407.txt\n",
      "test_3408.txt\n",
      "test_3409.txt\n",
      "test_3410.txt\n",
      "test_3411.txt\n"
     ]
    },
    {
     "name": "stderr",
     "output_type": "stream",
     "text": [
      "\r",
      " 14%|█████▏                               | 3412/24526 [00:57<05:56, 59.21it/s]"
     ]
    },
    {
     "name": "stdout",
     "output_type": "stream",
     "text": [
      "test_3412.txt\n",
      "test_3413.txt\n",
      "test_3414.txt\n",
      "test_3415.txt\n",
      "test_3416.txt\n",
      "test_3417.txt\n",
      "test_3418.txt\n"
     ]
    },
    {
     "name": "stderr",
     "output_type": "stream",
     "text": [
      "\r",
      " 14%|█████▏                               | 3419/24526 [00:57<05:56, 59.21it/s]"
     ]
    },
    {
     "name": "stdout",
     "output_type": "stream",
     "text": [
      "test_3419.txt\n",
      "test_3420.txt\n",
      "test_3421.txt\n",
      "test_3422.txt\n",
      "test_3423.txt\n",
      "test_3424.txt\n",
      "test_3425.txt\n"
     ]
    },
    {
     "name": "stderr",
     "output_type": "stream",
     "text": [
      "\r",
      " 14%|█████▏                               | 3426/24526 [00:57<05:56, 59.22it/s]"
     ]
    },
    {
     "name": "stdout",
     "output_type": "stream",
     "text": [
      "test_3426.txt\n",
      "test_3427.txt\n",
      "test_3428.txt\n",
      "test_3429.txt\n",
      "test_3430.txt\n",
      "test_3431.txt\n",
      "test_3432.txt\n"
     ]
    },
    {
     "name": "stderr",
     "output_type": "stream",
     "text": [
      "\r",
      " 14%|█████▏                               | 3433/24526 [00:58<05:56, 59.19it/s]"
     ]
    },
    {
     "name": "stdout",
     "output_type": "stream",
     "text": [
      "test_3433.txt\n",
      "test_3434.txt\n",
      "test_3435.txt\n",
      "test_3436.txt\n",
      "test_3437.txt\n",
      "test_3438.txt\n",
      "test_3439.txt\n",
      "test_3440.txt\n"
     ]
    },
    {
     "name": "stderr",
     "output_type": "stream",
     "text": [
      "\r",
      " 14%|█████▏                               | 3441/24526 [00:58<05:56, 59.19it/s]"
     ]
    },
    {
     "name": "stdout",
     "output_type": "stream",
     "text": [
      "test_3441.txt\n",
      "test_3442.txt\n",
      "test_3443.txt\n",
      "test_3444.txt\n",
      "test_3445.txt\n",
      "test_3446.txt\n"
     ]
    },
    {
     "name": "stderr",
     "output_type": "stream",
     "text": [
      "\r",
      " 14%|█████▏                               | 3447/24526 [00:58<05:56, 59.15it/s]"
     ]
    },
    {
     "name": "stdout",
     "output_type": "stream",
     "text": [
      "test_3447.txt\n",
      "test_3448.txt\n",
      "test_3449.txt\n",
      "test_3450.txt\n",
      "test_3451.txt\n",
      "test_3452.txt\n"
     ]
    },
    {
     "name": "stderr",
     "output_type": "stream",
     "text": [
      "\r",
      " 14%|█████▏                               | 3453/24526 [00:58<05:56, 59.12it/s]"
     ]
    },
    {
     "name": "stdout",
     "output_type": "stream",
     "text": [
      "test_3453.txt\n",
      "test_3454.txt\n",
      "test_3455.txt\n",
      "test_3456.txt\n",
      "test_3457.txt\n",
      "test_3458.txt\n",
      "test_3459.txt\n",
      "test_3460.txt\n"
     ]
    },
    {
     "name": "stderr",
     "output_type": "stream",
     "text": [
      "\r",
      " 14%|█████▏                               | 3461/24526 [00:58<05:56, 59.14it/s]"
     ]
    },
    {
     "name": "stdout",
     "output_type": "stream",
     "text": [
      "test_3461.txt\n",
      "test_3462.txt\n",
      "test_3463.txt\n",
      "test_3464.txt\n",
      "test_3465.txt\n",
      "test_3466.txt\n"
     ]
    },
    {
     "name": "stderr",
     "output_type": "stream",
     "text": [
      "\r",
      " 14%|█████▏                               | 3467/24526 [00:58<05:56, 59.13it/s]"
     ]
    },
    {
     "name": "stdout",
     "output_type": "stream",
     "text": [
      "test_3467.txt\n",
      "test_3468.txt\n",
      "test_3469.txt\n",
      "test_3470.txt\n",
      "test_3471.txt\n",
      "test_3472.txt\n",
      "test_3473.txt\n",
      "test_3474.txt\n"
     ]
    },
    {
     "name": "stderr",
     "output_type": "stream",
     "text": [
      "\r",
      " 14%|█████▏                               | 3475/24526 [00:58<05:55, 59.15it/s]"
     ]
    },
    {
     "name": "stdout",
     "output_type": "stream",
     "text": [
      "test_3475.txt\n",
      "test_3476.txt\n",
      "test_3477.txt\n",
      "test_3478.txt\n",
      "test_3479.txt\n",
      "test_3480.txt\n",
      "test_3481.txt\n"
     ]
    },
    {
     "name": "stderr",
     "output_type": "stream",
     "text": [
      "\r",
      " 14%|█████▎                               | 3482/24526 [00:58<05:55, 59.16it/s]"
     ]
    },
    {
     "name": "stdout",
     "output_type": "stream",
     "text": [
      "test_3482.txt\n",
      "test_3483.txt\n",
      "test_3484.txt\n",
      "test_3485.txt\n",
      "test_3486.txt\n",
      "test_3487.txt\n",
      "test_3488.txt\n"
     ]
    },
    {
     "name": "stderr",
     "output_type": "stream",
     "text": [
      "\r",
      " 14%|█████▎                               | 3489/24526 [00:59<05:55, 59.11it/s]"
     ]
    },
    {
     "name": "stdout",
     "output_type": "stream",
     "text": [
      "test_3489.txt\n",
      "test_3490.txt\n",
      "test_3491.txt\n",
      "test_3492.txt\n",
      "test_3493.txt\n",
      "test_3494.txt\n"
     ]
    },
    {
     "name": "stderr",
     "output_type": "stream",
     "text": [
      "\r",
      " 14%|█████▎                               | 3495/24526 [00:59<05:55, 59.11it/s]"
     ]
    },
    {
     "name": "stdout",
     "output_type": "stream",
     "text": [
      "test_3495.txt\n",
      "test_3496.txt\n",
      "test_3497.txt\n",
      "test_3498.txt\n",
      "test_3499.txt\n",
      "test_3500.txt\n",
      "test_3501.txt\n"
     ]
    },
    {
     "name": "stderr",
     "output_type": "stream",
     "text": [
      "\r",
      " 14%|█████▎                               | 3502/24526 [00:59<05:55, 59.12it/s]"
     ]
    },
    {
     "name": "stdout",
     "output_type": "stream",
     "text": [
      "test_3502.txt\n",
      "test_3503.txt\n",
      "test_3504.txt\n",
      "test_3505.txt\n",
      "test_3506.txt\n",
      "test_3507.txt\n",
      "test_3508.txt\n"
     ]
    },
    {
     "name": "stderr",
     "output_type": "stream",
     "text": [
      "\r",
      " 14%|█████▎                               | 3509/24526 [00:59<05:55, 59.12it/s]"
     ]
    },
    {
     "name": "stdout",
     "output_type": "stream",
     "text": [
      "test_3509.txt\n",
      "test_3510.txt\n",
      "test_3511.txt\n",
      "test_3512.txt\n",
      "test_3513.txt\n",
      "test_3514.txt\n"
     ]
    },
    {
     "name": "stderr",
     "output_type": "stream",
     "text": [
      "\r",
      " 14%|█████▎                               | 3515/24526 [00:59<05:55, 59.12it/s]"
     ]
    },
    {
     "name": "stdout",
     "output_type": "stream",
     "text": [
      "test_3515.txt\n",
      "test_3516.txt\n",
      "test_3517.txt\n",
      "test_3518.txt\n",
      "test_3519.txt\n",
      "test_3520.txt\n"
     ]
    },
    {
     "name": "stderr",
     "output_type": "stream",
     "text": [
      "\r",
      " 14%|█████▎                               | 3521/24526 [00:59<05:55, 59.11it/s]"
     ]
    },
    {
     "name": "stdout",
     "output_type": "stream",
     "text": [
      "test_3521.txt\n",
      "test_3522.txt\n",
      "test_3523.txt\n",
      "test_3524.txt\n",
      "test_3525.txt\n",
      "test_3526.txt\n"
     ]
    },
    {
     "name": "stderr",
     "output_type": "stream",
     "text": [
      "\r",
      " 14%|█████▎                               | 3527/24526 [00:59<05:55, 59.10it/s]"
     ]
    },
    {
     "name": "stdout",
     "output_type": "stream",
     "text": [
      "test_3527.txt\n",
      "test_3528.txt\n",
      "test_3529.txt\n",
      "test_3530.txt\n",
      "test_3531.txt\n",
      "test_3532.txt\n",
      "test_3533.txt\n"
     ]
    },
    {
     "name": "stderr",
     "output_type": "stream",
     "text": [
      "\r",
      " 14%|█████▎                               | 3534/24526 [00:59<05:55, 59.10it/s]"
     ]
    },
    {
     "name": "stdout",
     "output_type": "stream",
     "text": [
      "test_3534.txt\n",
      "test_3535.txt\n",
      "test_3536.txt\n",
      "test_3537.txt\n",
      "test_3538.txt\n",
      "test_3539.txt\n",
      "test_3540.txt\n"
     ]
    },
    {
     "name": "stderr",
     "output_type": "stream",
     "text": [
      "\r",
      " 14%|█████▎                               | 3541/24526 [00:59<05:54, 59.11it/s]"
     ]
    },
    {
     "name": "stdout",
     "output_type": "stream",
     "text": [
      "test_3541.txt\n",
      "test_3542.txt\n",
      "test_3543.txt\n",
      "test_3544.txt\n",
      "test_3545.txt\n",
      "test_3546.txt\n",
      "test_3547.txt\n"
     ]
    },
    {
     "name": "stderr",
     "output_type": "stream",
     "text": [
      "\r",
      " 14%|█████▎                               | 3548/24526 [01:00<05:54, 59.11it/s]"
     ]
    },
    {
     "name": "stdout",
     "output_type": "stream",
     "text": [
      "test_3548.txt\n",
      "test_3549.txt\n",
      "test_3550.txt\n",
      "test_3551.txt\n",
      "test_3552.txt\n",
      "test_3553.txt\n",
      "test_3554.txt\n"
     ]
    },
    {
     "name": "stderr",
     "output_type": "stream",
     "text": [
      "\r",
      " 14%|█████▎                               | 3555/24526 [01:00<05:54, 59.10it/s]"
     ]
    },
    {
     "name": "stdout",
     "output_type": "stream",
     "text": [
      "test_3555.txt\n",
      "test_3556.txt\n",
      "test_3557.txt\n",
      "test_3558.txt\n",
      "test_3559.txt\n",
      "test_3560.txt\n",
      "test_3561.txt\n"
     ]
    },
    {
     "name": "stderr",
     "output_type": "stream",
     "text": [
      "\r",
      " 15%|█████▎                               | 3562/24526 [01:00<05:54, 59.10it/s]"
     ]
    },
    {
     "name": "stdout",
     "output_type": "stream",
     "text": [
      "test_3562.txt\n",
      "test_3563.txt\n",
      "test_3564.txt\n",
      "test_3565.txt\n",
      "test_3566.txt\n",
      "test_3567.txt\n"
     ]
    },
    {
     "name": "stderr",
     "output_type": "stream",
     "text": [
      "\r",
      " 15%|█████▍                               | 3568/24526 [01:00<05:54, 59.07it/s]"
     ]
    },
    {
     "name": "stdout",
     "output_type": "stream",
     "text": [
      "test_3568.txt\n",
      "test_3569.txt\n",
      "test_3570.txt\n",
      "test_3571.txt\n",
      "test_3572.txt\n",
      "test_3573.txt\n"
     ]
    },
    {
     "name": "stderr",
     "output_type": "stream",
     "text": [
      "\r",
      " 15%|█████▍                               | 3574/24526 [01:00<05:54, 59.07it/s]"
     ]
    },
    {
     "name": "stdout",
     "output_type": "stream",
     "text": [
      "test_3574.txt\n",
      "test_3575.txt\n",
      "test_3576.txt\n",
      "test_3577.txt\n",
      "test_3578.txt\n",
      "test_3579.txt\n"
     ]
    },
    {
     "name": "stderr",
     "output_type": "stream",
     "text": [
      "\r",
      " 15%|█████▍                               | 3580/24526 [01:00<05:54, 59.06it/s]"
     ]
    },
    {
     "name": "stdout",
     "output_type": "stream",
     "text": [
      "test_3580.txt\n",
      "test_3581.txt\n",
      "test_3582.txt\n",
      "test_3583.txt\n",
      "test_3584.txt\n",
      "test_3585.txt\n"
     ]
    },
    {
     "name": "stderr",
     "output_type": "stream",
     "text": [
      "\r",
      " 15%|█████▍                               | 3586/24526 [01:00<05:54, 59.04it/s]"
     ]
    },
    {
     "name": "stdout",
     "output_type": "stream",
     "text": [
      "test_3586.txt\n",
      "test_3587.txt\n",
      "test_3588.txt\n",
      "test_3589.txt\n",
      "test_3590.txt\n",
      "test_3591.txt\n",
      "test_3592.txt\n",
      "test_3593.txt\n",
      "test_3594.txt\n"
     ]
    },
    {
     "name": "stderr",
     "output_type": "stream",
     "text": [
      "\r",
      " 15%|█████▍                               | 3595/24526 [01:00<05:54, 59.08it/s]"
     ]
    },
    {
     "name": "stdout",
     "output_type": "stream",
     "text": [
      "test_3595.txt\n",
      "test_3596.txt\n",
      "test_3597.txt\n",
      "test_3598.txt\n",
      "test_3599.txt\n",
      "test_3600.txt\n",
      "test_3601.txt\n"
     ]
    },
    {
     "name": "stderr",
     "output_type": "stream",
     "text": [
      "\r",
      " 15%|█████▍                               | 3602/24526 [01:00<05:54, 59.09it/s]"
     ]
    },
    {
     "name": "stdout",
     "output_type": "stream",
     "text": [
      "test_3602.txt\n",
      "test_3603.txt\n",
      "test_3604.txt\n",
      "test_3605.txt\n",
      "test_3606.txt\n",
      "test_3607.txt\n",
      "test_3608.txt\n"
     ]
    },
    {
     "name": "stderr",
     "output_type": "stream",
     "text": [
      "\r",
      " 15%|█████▍                               | 3609/24526 [01:01<05:53, 59.10it/s]"
     ]
    },
    {
     "name": "stdout",
     "output_type": "stream",
     "text": [
      "test_3609.txt\n",
      "test_3610.txt\n",
      "test_3611.txt\n",
      "test_3612.txt\n",
      "test_3613.txt\n",
      "test_3614.txt\n",
      "test_3615.txt\n"
     ]
    },
    {
     "name": "stderr",
     "output_type": "stream",
     "text": [
      "\r",
      " 15%|█████▍                               | 3616/24526 [01:01<05:54, 59.07it/s]"
     ]
    },
    {
     "name": "stdout",
     "output_type": "stream",
     "text": [
      "test_3616.txt\n",
      "test_3617.txt\n",
      "test_3618.txt\n",
      "test_3619.txt\n",
      "test_3620.txt\n",
      "test_3621.txt\n",
      "test_3622.txt\n"
     ]
    },
    {
     "name": "stderr",
     "output_type": "stream",
     "text": [
      "\r",
      " 15%|█████▍                               | 3623/24526 [01:01<05:53, 59.06it/s]"
     ]
    },
    {
     "name": "stdout",
     "output_type": "stream",
     "text": [
      "test_3623.txt\n",
      "test_3624.txt\n",
      "test_3625.txt\n",
      "test_3626.txt\n",
      "test_3627.txt\n",
      "test_3628.txt\n",
      "test_3629.txt\n"
     ]
    },
    {
     "name": "stderr",
     "output_type": "stream",
     "text": [
      "\r",
      " 15%|█████▍                               | 3630/24526 [01:01<05:53, 59.08it/s]"
     ]
    },
    {
     "name": "stdout",
     "output_type": "stream",
     "text": [
      "test_3630.txt\n",
      "test_3631.txt\n",
      "test_3632.txt\n",
      "test_3633.txt\n",
      "test_3634.txt\n",
      "test_3635.txt\n",
      "test_3636.txt\n",
      "test_3637.txt\n"
     ]
    },
    {
     "name": "stderr",
     "output_type": "stream",
     "text": [
      "\r",
      " 15%|█████▍                               | 3638/24526 [01:01<05:53, 59.08it/s]"
     ]
    },
    {
     "name": "stdout",
     "output_type": "stream",
     "text": [
      "test_3638.txt\n",
      "test_3639.txt\n",
      "test_3640.txt\n",
      "test_3641.txt\n",
      "test_3642.txt\n",
      "test_3643.txt\n",
      "test_3644.txt\n"
     ]
    },
    {
     "name": "stderr",
     "output_type": "stream",
     "text": [
      "\r",
      " 15%|█████▍                               | 3645/24526 [01:01<05:53, 59.10it/s]"
     ]
    },
    {
     "name": "stdout",
     "output_type": "stream",
     "text": [
      "test_3645.txt\n",
      "test_3646.txt\n",
      "test_3647.txt\n",
      "test_3648.txt\n",
      "test_3649.txt\n",
      "test_3650.txt\n",
      "test_3651.txt\n"
     ]
    },
    {
     "name": "stderr",
     "output_type": "stream",
     "text": [
      "\r",
      " 15%|█████▌                               | 3652/24526 [01:01<05:53, 59.08it/s]"
     ]
    },
    {
     "name": "stdout",
     "output_type": "stream",
     "text": [
      "test_3652.txt\n",
      "test_3653.txt\n",
      "test_3654.txt\n",
      "test_3655.txt\n",
      "test_3656.txt\n",
      "test_3657.txt\n",
      "test_3658.txt\n",
      "test_3659.txt\n",
      "test_3660.txt\n"
     ]
    },
    {
     "name": "stderr",
     "output_type": "stream",
     "text": [
      "\r",
      " 15%|█████▌                               | 3661/24526 [01:01<05:52, 59.12it/s]"
     ]
    },
    {
     "name": "stdout",
     "output_type": "stream",
     "text": [
      "test_3661.txt\n",
      "test_3662.txt\n",
      "test_3663.txt\n",
      "test_3664.txt\n",
      "test_3665.txt\n",
      "test_3666.txt\n",
      "test_3667.txt\n",
      "test_3668.txt\n"
     ]
    },
    {
     "name": "stderr",
     "output_type": "stream",
     "text": [
      "\r",
      " 15%|█████▌                               | 3669/24526 [01:02<05:52, 59.14it/s]"
     ]
    },
    {
     "name": "stdout",
     "output_type": "stream",
     "text": [
      "test_3669.txt\n",
      "test_3670.txt\n",
      "test_3671.txt\n",
      "test_3672.txt\n",
      "test_3673.txt\n",
      "test_3674.txt\n",
      "test_3675.txt\n"
     ]
    },
    {
     "name": "stderr",
     "output_type": "stream",
     "text": [
      "\r",
      " 15%|█████▌                               | 3676/24526 [01:02<05:52, 59.13it/s]"
     ]
    },
    {
     "name": "stdout",
     "output_type": "stream",
     "text": [
      "test_3676.txt\n",
      "test_3677.txt\n",
      "test_3678.txt\n",
      "test_3679.txt\n",
      "test_3680.txt\n",
      "test_3681.txt\n",
      "test_3682.txt\n"
     ]
    },
    {
     "name": "stderr",
     "output_type": "stream",
     "text": [
      "\r",
      " 15%|█████▌                               | 3683/24526 [01:02<05:52, 59.13it/s]"
     ]
    },
    {
     "name": "stdout",
     "output_type": "stream",
     "text": [
      "test_3683.txt\n",
      "test_3684.txt\n",
      "test_3685.txt\n",
      "test_3686.txt\n",
      "test_3687.txt\n",
      "test_3688.txt\n",
      "test_3689.txt\n"
     ]
    },
    {
     "name": "stderr",
     "output_type": "stream",
     "text": [
      "\r",
      " 15%|█████▌                               | 3690/24526 [01:02<05:52, 59.13it/s]"
     ]
    },
    {
     "name": "stdout",
     "output_type": "stream",
     "text": [
      "test_3690.txt\n",
      "test_3691.txt\n",
      "test_3692.txt\n",
      "test_3693.txt\n",
      "test_3694.txt\n",
      "test_3695.txt\n",
      "test_3696.txt\n"
     ]
    },
    {
     "name": "stderr",
     "output_type": "stream",
     "text": [
      "\r",
      " 15%|█████▌                               | 3697/24526 [01:02<05:52, 59.10it/s]"
     ]
    },
    {
     "name": "stdout",
     "output_type": "stream",
     "text": [
      "test_3697.txt\n",
      "test_3698.txt\n",
      "test_3699.txt\n",
      "test_3700.txt\n",
      "test_3701.txt\n",
      "test_3702.txt\n",
      "test_3703.txt\n"
     ]
    },
    {
     "name": "stderr",
     "output_type": "stream",
     "text": [
      "\r",
      " 15%|█████▌                               | 3704/24526 [01:02<05:52, 59.11it/s]"
     ]
    },
    {
     "name": "stdout",
     "output_type": "stream",
     "text": [
      "test_3704.txt\n",
      "test_3705.txt\n",
      "test_3706.txt\n",
      "test_3707.txt\n",
      "test_3708.txt\n",
      "test_3709.txt\n"
     ]
    },
    {
     "name": "stderr",
     "output_type": "stream",
     "text": [
      "\r",
      " 15%|█████▌                               | 3710/24526 [01:02<05:52, 59.08it/s]"
     ]
    },
    {
     "name": "stdout",
     "output_type": "stream",
     "text": [
      "test_3710.txt\n",
      "test_3711.txt\n",
      "test_3712.txt\n",
      "test_3713.txt\n",
      "test_3714.txt\n",
      "test_3715.txt\n"
     ]
    },
    {
     "name": "stderr",
     "output_type": "stream",
     "text": [
      "\r",
      " 15%|█████▌                               | 3716/24526 [01:02<05:52, 59.07it/s]"
     ]
    },
    {
     "name": "stdout",
     "output_type": "stream",
     "text": [
      "test_3716.txt\n",
      "test_3717.txt\n",
      "test_3718.txt\n",
      "test_3719.txt\n",
      "test_3720.txt\n",
      "test_3721.txt\n"
     ]
    },
    {
     "name": "stderr",
     "output_type": "stream",
     "text": [
      "\r",
      " 15%|█████▌                               | 3722/24526 [01:03<05:52, 59.05it/s]"
     ]
    },
    {
     "name": "stdout",
     "output_type": "stream",
     "text": [
      "test_3722.txt\n",
      "test_3723.txt\n",
      "test_3724.txt\n",
      "test_3725.txt\n",
      "test_3726.txt\n",
      "test_3727.txt\n"
     ]
    },
    {
     "name": "stderr",
     "output_type": "stream",
     "text": [
      "\r",
      " 15%|█████▌                               | 3728/24526 [01:03<05:52, 59.03it/s]"
     ]
    },
    {
     "name": "stdout",
     "output_type": "stream",
     "text": [
      "test_3728.txt\n",
      "test_3729.txt\n",
      "test_3730.txt\n",
      "test_3731.txt\n",
      "test_3732.txt\n",
      "test_3733.txt\n"
     ]
    },
    {
     "name": "stderr",
     "output_type": "stream",
     "text": [
      "\r",
      " 15%|█████▋                               | 3734/24526 [01:03<05:52, 59.02it/s]"
     ]
    },
    {
     "name": "stdout",
     "output_type": "stream",
     "text": [
      "test_3734.txt\n",
      "test_3735.txt\n",
      "test_3736.txt\n",
      "test_3737.txt\n",
      "test_3738.txt\n",
      "test_3739.txt\n"
     ]
    },
    {
     "name": "stderr",
     "output_type": "stream",
     "text": [
      "\r",
      " 15%|█████▋                               | 3740/24526 [01:03<05:52, 59.02it/s]"
     ]
    },
    {
     "name": "stdout",
     "output_type": "stream",
     "text": [
      "test_3740.txt\n",
      "test_3741.txt\n",
      "test_3742.txt\n",
      "test_3743.txt\n",
      "test_3744.txt\n",
      "test_3745.txt\n",
      "test_3746.txt\n"
     ]
    },
    {
     "name": "stderr",
     "output_type": "stream",
     "text": [
      "\r",
      " 15%|█████▋                               | 3747/24526 [01:03<05:52, 59.03it/s]"
     ]
    },
    {
     "name": "stdout",
     "output_type": "stream",
     "text": [
      "test_3747.txt\n",
      "test_3748.txt\n",
      "test_3749.txt\n",
      "test_3750.txt\n",
      "test_3751.txt\n",
      "test_3752.txt\n"
     ]
    },
    {
     "name": "stderr",
     "output_type": "stream",
     "text": [
      "\r",
      " 15%|█████▋                               | 3753/24526 [01:03<05:51, 59.02it/s]"
     ]
    },
    {
     "name": "stdout",
     "output_type": "stream",
     "text": [
      "test_3753.txt\n",
      "test_3754.txt\n",
      "test_3755.txt\n",
      "test_3756.txt\n",
      "test_3757.txt\n",
      "test_3758.txt\n"
     ]
    },
    {
     "name": "stderr",
     "output_type": "stream",
     "text": [
      "\r",
      " 15%|█████▋                               | 3759/24526 [01:03<05:51, 59.01it/s]"
     ]
    },
    {
     "name": "stdout",
     "output_type": "stream",
     "text": [
      "test_3759.txt\n",
      "test_3760.txt\n",
      "test_3761.txt\n",
      "test_3762.txt\n",
      "test_3763.txt\n",
      "test_3764.txt\n"
     ]
    },
    {
     "name": "stderr",
     "output_type": "stream",
     "text": [
      "\r",
      " 15%|█████▋                               | 3765/24526 [01:03<05:51, 58.99it/s]"
     ]
    },
    {
     "name": "stdout",
     "output_type": "stream",
     "text": [
      "test_3765.txt\n",
      "test_3766.txt\n",
      "test_3767.txt\n",
      "test_3768.txt\n",
      "test_3769.txt\n",
      "test_3770.txt\n"
     ]
    },
    {
     "name": "stderr",
     "output_type": "stream",
     "text": [
      "\r",
      " 15%|█████▋                               | 3771/24526 [01:03<05:51, 58.98it/s]"
     ]
    },
    {
     "name": "stdout",
     "output_type": "stream",
     "text": [
      "test_3771.txt\n",
      "test_3772.txt\n",
      "test_3773.txt\n",
      "test_3774.txt\n",
      "test_3775.txt\n",
      "test_3776.txt\n",
      "test_3777.txt\n",
      "test_3778.txt\n"
     ]
    },
    {
     "name": "stderr",
     "output_type": "stream",
     "text": [
      "\r",
      " 15%|█████▋                               | 3779/24526 [01:04<05:51, 59.00it/s]"
     ]
    },
    {
     "name": "stdout",
     "output_type": "stream",
     "text": [
      "test_3779.txt\n",
      "test_3780.txt\n",
      "test_3781.txt\n",
      "test_3782.txt\n",
      "test_3783.txt\n",
      "test_3784.txt\n"
     ]
    },
    {
     "name": "stderr",
     "output_type": "stream",
     "text": [
      "\r",
      " 15%|█████▋                               | 3785/24526 [01:04<05:51, 59.00it/s]"
     ]
    },
    {
     "name": "stdout",
     "output_type": "stream",
     "text": [
      "test_3785.txt\n",
      "test_3786.txt\n",
      "test_3787.txt\n",
      "test_3788.txt\n",
      "test_3789.txt\n",
      "test_3790.txt\n"
     ]
    },
    {
     "name": "stderr",
     "output_type": "stream",
     "text": [
      "\r",
      " 15%|█████▋                               | 3791/24526 [01:04<05:51, 58.97it/s]"
     ]
    },
    {
     "name": "stdout",
     "output_type": "stream",
     "text": [
      "test_3791.txt\n",
      "test_3792.txt\n",
      "test_3793.txt\n",
      "test_3794.txt\n",
      "test_3795.txt\n",
      "test_3796.txt\n"
     ]
    },
    {
     "name": "stderr",
     "output_type": "stream",
     "text": [
      "\r",
      " 15%|█████▋                               | 3797/24526 [01:04<05:51, 58.96it/s]"
     ]
    },
    {
     "name": "stdout",
     "output_type": "stream",
     "text": [
      "test_3797.txt\n",
      "test_3798.txt\n",
      "test_3799.txt\n",
      "test_3800.txt\n",
      "test_3801.txt\n",
      "test_3802.txt\n",
      "test_3803.txt\n",
      "test_3804.txt\n"
     ]
    },
    {
     "name": "stderr",
     "output_type": "stream",
     "text": [
      "\r",
      " 16%|█████▋                               | 3805/24526 [01:04<05:51, 58.98it/s]"
     ]
    },
    {
     "name": "stdout",
     "output_type": "stream",
     "text": [
      "test_3805.txt\n",
      "test_3806.txt\n",
      "test_3807.txt\n",
      "test_3808.txt\n",
      "test_3809.txt\n",
      "test_3810.txt\n"
     ]
    },
    {
     "name": "stderr",
     "output_type": "stream",
     "text": [
      "\r",
      " 16%|█████▋                               | 3811/24526 [01:04<05:51, 58.97it/s]"
     ]
    },
    {
     "name": "stdout",
     "output_type": "stream",
     "text": [
      "test_3811.txt\n",
      "test_3812.txt\n",
      "test_3813.txt\n",
      "test_3814.txt\n",
      "test_3815.txt\n",
      "test_3816.txt\n"
     ]
    },
    {
     "name": "stderr",
     "output_type": "stream",
     "text": [
      "\r",
      " 16%|█████▊                               | 3817/24526 [01:04<05:51, 58.97it/s]"
     ]
    },
    {
     "name": "stdout",
     "output_type": "stream",
     "text": [
      "test_3817.txt\n",
      "test_3818.txt\n",
      "test_3819.txt\n",
      "test_3820.txt\n",
      "test_3821.txt\n",
      "test_3822.txt\n"
     ]
    },
    {
     "name": "stderr",
     "output_type": "stream",
     "text": [
      "\r",
      " 16%|█████▊                               | 3823/24526 [01:04<05:51, 58.95it/s]"
     ]
    },
    {
     "name": "stdout",
     "output_type": "stream",
     "text": [
      "test_3823.txt\n",
      "test_3824.txt\n",
      "test_3825.txt\n",
      "test_3826.txt\n",
      "test_3827.txt\n",
      "test_3828.txt\n",
      "test_3829.txt\n"
     ]
    },
    {
     "name": "stderr",
     "output_type": "stream",
     "text": [
      "\r",
      " 16%|█████▊                               | 3830/24526 [01:04<05:51, 58.96it/s]"
     ]
    },
    {
     "name": "stdout",
     "output_type": "stream",
     "text": [
      "test_3830.txt\n",
      "test_3831.txt\n",
      "test_3832.txt\n",
      "test_3833.txt\n",
      "test_3834.txt\n",
      "test_3835.txt\n",
      "test_3836.txt\n",
      "test_3837.txt\n"
     ]
    },
    {
     "name": "stderr",
     "output_type": "stream",
     "text": [
      "\r",
      " 16%|█████▊                               | 3838/24526 [01:05<05:50, 58.97it/s]"
     ]
    },
    {
     "name": "stdout",
     "output_type": "stream",
     "text": [
      "test_3838.txt\n",
      "test_3839.txt\n",
      "test_3840.txt\n",
      "test_3841.txt\n",
      "test_3842.txt\n",
      "test_3843.txt\n"
     ]
    },
    {
     "name": "stderr",
     "output_type": "stream",
     "text": [
      "\r",
      " 16%|█████▊                               | 3844/24526 [01:05<05:50, 58.95it/s]"
     ]
    },
    {
     "name": "stdout",
     "output_type": "stream",
     "text": [
      "test_3844.txt\n",
      "test_3845.txt\n",
      "test_3846.txt\n",
      "test_3847.txt\n",
      "test_3848.txt\n",
      "test_3849.txt\n"
     ]
    },
    {
     "name": "stderr",
     "output_type": "stream",
     "text": [
      "\r",
      " 16%|█████▊                               | 3850/24526 [01:05<05:50, 58.95it/s]"
     ]
    },
    {
     "name": "stdout",
     "output_type": "stream",
     "text": [
      "test_3850.txt\n",
      "test_3851.txt\n",
      "test_3852.txt\n",
      "test_3853.txt\n",
      "test_3854.txt\n",
      "test_3855.txt\n",
      "test_3856.txt\n"
     ]
    },
    {
     "name": "stderr",
     "output_type": "stream",
     "text": [
      "\r",
      " 16%|█████▊                               | 3857/24526 [01:05<05:50, 58.96it/s]"
     ]
    },
    {
     "name": "stdout",
     "output_type": "stream",
     "text": [
      "test_3857.txt\n",
      "test_3858.txt\n",
      "test_3859.txt\n",
      "test_3860.txt\n",
      "test_3861.txt\n",
      "test_3862.txt\n"
     ]
    },
    {
     "name": "stderr",
     "output_type": "stream",
     "text": [
      "\r",
      " 16%|█████▊                               | 3863/24526 [01:05<05:50, 58.96it/s]"
     ]
    },
    {
     "name": "stdout",
     "output_type": "stream",
     "text": [
      "test_3863.txt\n",
      "test_3864.txt\n",
      "test_3865.txt\n",
      "test_3866.txt\n",
      "test_3867.txt\n",
      "test_3868.txt\n"
     ]
    },
    {
     "name": "stderr",
     "output_type": "stream",
     "text": [
      "\r",
      " 16%|█████▊                               | 3869/24526 [01:05<05:50, 58.92it/s]"
     ]
    },
    {
     "name": "stdout",
     "output_type": "stream",
     "text": [
      "test_3869.txt\n",
      "test_3870.txt\n",
      "test_3871.txt\n",
      "test_3872.txt\n",
      "test_3873.txt\n",
      "test_3874.txt\n",
      "test_3875.txt\n"
     ]
    },
    {
     "name": "stderr",
     "output_type": "stream",
     "text": [
      "\r",
      " 16%|█████▊                               | 3876/24526 [01:05<05:50, 58.93it/s]"
     ]
    },
    {
     "name": "stdout",
     "output_type": "stream",
     "text": [
      "test_3876.txt\n",
      "test_3877.txt\n",
      "test_3878.txt\n",
      "test_3879.txt\n",
      "test_3880.txt\n",
      "test_3881.txt\n",
      "test_3882.txt\n"
     ]
    },
    {
     "name": "stderr",
     "output_type": "stream",
     "text": [
      "\r",
      " 16%|█████▊                               | 3883/24526 [01:05<05:50, 58.94it/s]"
     ]
    },
    {
     "name": "stdout",
     "output_type": "stream",
     "text": [
      "test_3883.txt\n",
      "test_3884.txt\n",
      "test_3885.txt\n",
      "test_3886.txt\n",
      "test_3887.txt\n",
      "test_3888.txt\n"
     ]
    },
    {
     "name": "stderr",
     "output_type": "stream",
     "text": [
      "\r",
      " 16%|█████▊                               | 3889/24526 [01:05<05:50, 58.93it/s]"
     ]
    },
    {
     "name": "stdout",
     "output_type": "stream",
     "text": [
      "test_3889.txt\n",
      "test_3890.txt\n",
      "test_3891.txt\n",
      "test_3892.txt\n",
      "test_3893.txt\n",
      "test_3894.txt\n"
     ]
    },
    {
     "name": "stderr",
     "output_type": "stream",
     "text": [
      "\r",
      " 16%|█████▉                               | 3895/24526 [01:06<05:50, 58.91it/s]"
     ]
    },
    {
     "name": "stdout",
     "output_type": "stream",
     "text": [
      "test_3895.txt\n",
      "test_3896.txt\n",
      "test_3897.txt\n",
      "test_3898.txt\n",
      "test_3899.txt\n",
      "test_3900.txt\n",
      "test_3901.txt\n"
     ]
    },
    {
     "name": "stderr",
     "output_type": "stream",
     "text": [
      "\r",
      " 16%|█████▉                               | 3902/24526 [01:06<05:50, 58.92it/s]"
     ]
    },
    {
     "name": "stdout",
     "output_type": "stream",
     "text": [
      "test_3902.txt\n",
      "test_3903.txt\n",
      "test_3904.txt\n",
      "test_3905.txt\n",
      "test_3906.txt\n",
      "test_3907.txt\n"
     ]
    },
    {
     "name": "stderr",
     "output_type": "stream",
     "text": [
      "\r",
      " 16%|█████▉                               | 3908/24526 [01:06<05:49, 58.91it/s]"
     ]
    },
    {
     "name": "stdout",
     "output_type": "stream",
     "text": [
      "test_3908.txt\n",
      "test_3909.txt\n",
      "test_3910.txt\n",
      "test_3911.txt\n",
      "test_3912.txt\n",
      "test_3913.txt\n"
     ]
    },
    {
     "name": "stderr",
     "output_type": "stream",
     "text": [
      "\r",
      " 16%|█████▉                               | 3914/24526 [01:06<05:49, 58.89it/s]"
     ]
    },
    {
     "name": "stdout",
     "output_type": "stream",
     "text": [
      "test_3914.txt\n",
      "test_3915.txt\n",
      "test_3916.txt\n",
      "test_3917.txt\n",
      "test_3918.txt\n",
      "test_3919.txt\n"
     ]
    },
    {
     "name": "stderr",
     "output_type": "stream",
     "text": [
      "\r",
      " 16%|█████▉                               | 3920/24526 [01:06<05:50, 58.87it/s]"
     ]
    },
    {
     "name": "stdout",
     "output_type": "stream",
     "text": [
      "test_3920.txt\n",
      "test_3921.txt\n",
      "test_3922.txt\n",
      "test_3923.txt\n",
      "test_3924.txt\n",
      "test_3925.txt\n",
      "test_3926.txt\n"
     ]
    },
    {
     "name": "stderr",
     "output_type": "stream",
     "text": [
      "\r",
      " 16%|█████▉                               | 3927/24526 [01:06<05:49, 58.88it/s]"
     ]
    },
    {
     "name": "stdout",
     "output_type": "stream",
     "text": [
      "test_3927.txt\n",
      "test_3928.txt\n",
      "test_3929.txt\n",
      "test_3930.txt\n",
      "test_3931.txt\n",
      "test_3932.txt\n"
     ]
    },
    {
     "name": "stderr",
     "output_type": "stream",
     "text": [
      "\r",
      " 16%|█████▉                               | 3933/24526 [01:06<05:49, 58.87it/s]"
     ]
    },
    {
     "name": "stdout",
     "output_type": "stream",
     "text": [
      "test_3933.txt\n",
      "test_3934.txt\n",
      "test_3935.txt\n",
      "test_3936.txt\n",
      "test_3937.txt\n",
      "test_3938.txt\n"
     ]
    },
    {
     "name": "stderr",
     "output_type": "stream",
     "text": [
      "\r",
      " 16%|█████▉                               | 3939/24526 [01:06<05:49, 58.86it/s]"
     ]
    },
    {
     "name": "stdout",
     "output_type": "stream",
     "text": [
      "test_3939.txt\n",
      "test_3940.txt\n",
      "test_3941.txt\n",
      "test_3942.txt\n",
      "test_3943.txt\n",
      "test_3944.txt\n",
      "test_3945.txt\n"
     ]
    },
    {
     "name": "stderr",
     "output_type": "stream",
     "text": [
      "\r",
      " 16%|█████▉                               | 3946/24526 [01:07<05:49, 58.85it/s]"
     ]
    },
    {
     "name": "stdout",
     "output_type": "stream",
     "text": [
      "test_3946.txt\n",
      "test_3947.txt\n",
      "test_3948.txt\n",
      "test_3949.txt\n",
      "test_3950.txt\n",
      "test_3951.txt\n"
     ]
    },
    {
     "name": "stderr",
     "output_type": "stream",
     "text": [
      "\r",
      " 16%|█████▉                               | 3952/24526 [01:07<05:49, 58.83it/s]"
     ]
    },
    {
     "name": "stdout",
     "output_type": "stream",
     "text": [
      "test_3952.txt\n",
      "test_3953.txt\n",
      "test_3954.txt\n",
      "test_3955.txt\n",
      "test_3956.txt\n",
      "test_3957.txt\n",
      "test_3958.txt\n",
      "test_3959.txt\n"
     ]
    },
    {
     "name": "stderr",
     "output_type": "stream",
     "text": [
      "\r",
      " 16%|█████▉                               | 3960/24526 [01:07<05:49, 58.85it/s]"
     ]
    },
    {
     "name": "stdout",
     "output_type": "stream",
     "text": [
      "test_3960.txt\n",
      "test_3961.txt\n",
      "test_3962.txt\n",
      "test_3963.txt\n",
      "test_3964.txt\n",
      "test_3965.txt\n",
      "test_3966.txt\n",
      "test_3967.txt\n"
     ]
    },
    {
     "name": "stderr",
     "output_type": "stream",
     "text": [
      "\r",
      " 16%|█████▉                               | 3968/24526 [01:07<05:49, 58.88it/s]"
     ]
    },
    {
     "name": "stdout",
     "output_type": "stream",
     "text": [
      "test_3968.txt\n",
      "test_3969.txt\n",
      "test_3970.txt\n",
      "test_3971.txt\n",
      "test_3972.txt\n",
      "test_3973.txt\n",
      "test_3974.txt\n"
     ]
    },
    {
     "name": "stderr",
     "output_type": "stream",
     "text": [
      "\r",
      " 16%|█████▉                               | 3975/24526 [01:07<05:49, 58.86it/s]"
     ]
    },
    {
     "name": "stdout",
     "output_type": "stream",
     "text": [
      "test_3975.txt\n",
      "test_3976.txt\n",
      "test_3977.txt\n",
      "test_3978.txt\n",
      "test_3979.txt\n",
      "test_3980.txt\n",
      "test_3981.txt\n"
     ]
    },
    {
     "name": "stderr",
     "output_type": "stream",
     "text": [
      "\r",
      " 16%|██████                               | 3982/24526 [01:07<05:49, 58.86it/s]"
     ]
    },
    {
     "name": "stdout",
     "output_type": "stream",
     "text": [
      "test_3982.txt\n",
      "test_3983.txt\n",
      "test_3984.txt\n",
      "test_3985.txt\n",
      "test_3986.txt\n",
      "test_3987.txt\n"
     ]
    },
    {
     "name": "stderr",
     "output_type": "stream",
     "text": [
      "\r",
      " 16%|██████                               | 3988/24526 [01:07<05:49, 58.84it/s]"
     ]
    },
    {
     "name": "stdout",
     "output_type": "stream",
     "text": [
      "test_3988.txt\n",
      "test_3989.txt\n",
      "test_3990.txt\n",
      "test_3991.txt\n",
      "test_3992.txt\n",
      "test_3993.txt\n",
      "test_3994.txt\n"
     ]
    },
    {
     "name": "stderr",
     "output_type": "stream",
     "text": [
      "\r",
      " 16%|██████                               | 3995/24526 [01:07<05:48, 58.84it/s]"
     ]
    },
    {
     "name": "stdout",
     "output_type": "stream",
     "text": [
      "test_3995.txt\n",
      "test_3996.txt\n",
      "test_3997.txt\n",
      "test_3998.txt\n",
      "test_3999.txt\n",
      "test_4000.txt\n"
     ]
    },
    {
     "name": "stderr",
     "output_type": "stream",
     "text": [
      "\r",
      " 16%|██████                               | 4001/24526 [01:08<05:48, 58.83it/s]"
     ]
    },
    {
     "name": "stdout",
     "output_type": "stream",
     "text": [
      "test_4001.txt\n",
      "test_4002.txt\n",
      "test_4003.txt\n",
      "test_4004.txt\n",
      "test_4005.txt\n",
      "test_4006.txt\n",
      "test_4007.txt\n"
     ]
    },
    {
     "name": "stderr",
     "output_type": "stream",
     "text": [
      "\r",
      " 16%|██████                               | 4008/24526 [01:08<05:48, 58.84it/s]"
     ]
    },
    {
     "name": "stdout",
     "output_type": "stream",
     "text": [
      "test_4008.txt\n",
      "test_4009.txt\n",
      "test_4010.txt\n",
      "test_4011.txt\n",
      "test_4012.txt\n",
      "test_4013.txt\n"
     ]
    },
    {
     "name": "stderr",
     "output_type": "stream",
     "text": [
      "\r",
      " 16%|██████                               | 4014/24526 [01:08<05:48, 58.84it/s]"
     ]
    },
    {
     "name": "stdout",
     "output_type": "stream",
     "text": [
      "test_4014.txt\n",
      "test_4015.txt\n",
      "test_4016.txt\n",
      "test_4017.txt\n",
      "test_4018.txt\n",
      "test_4019.txt\n",
      "test_4020.txt\n",
      "test_4021.txt\n"
     ]
    },
    {
     "name": "stderr",
     "output_type": "stream",
     "text": [
      "\r",
      " 16%|██████                               | 4022/24526 [01:08<05:48, 58.85it/s]"
     ]
    },
    {
     "name": "stdout",
     "output_type": "stream",
     "text": [
      "test_4022.txt\n",
      "test_4023.txt\n",
      "test_4024.txt\n",
      "test_4025.txt\n",
      "test_4026.txt\n",
      "test_4027.txt\n",
      "test_4028.txt\n"
     ]
    },
    {
     "name": "stderr",
     "output_type": "stream",
     "text": [
      "\r",
      " 16%|██████                               | 4029/24526 [01:08<05:48, 58.84it/s]"
     ]
    },
    {
     "name": "stdout",
     "output_type": "stream",
     "text": [
      "test_4029.txt\n",
      "test_4030.txt\n",
      "test_4031.txt\n",
      "test_4032.txt\n",
      "test_4033.txt\n",
      "test_4034.txt\n"
     ]
    },
    {
     "name": "stderr",
     "output_type": "stream",
     "text": [
      "\r",
      " 16%|██████                               | 4035/24526 [01:08<05:48, 58.83it/s]"
     ]
    },
    {
     "name": "stdout",
     "output_type": "stream",
     "text": [
      "test_4035.txt\n",
      "test_4036.txt\n",
      "test_4037.txt\n",
      "test_4038.txt\n",
      "test_4039.txt\n",
      "test_4040.txt\n",
      "test_4041.txt\n",
      "test_4042.txt\n"
     ]
    },
    {
     "name": "stderr",
     "output_type": "stream",
     "text": [
      "\r",
      " 16%|██████                               | 4043/24526 [01:08<05:48, 58.85it/s]"
     ]
    },
    {
     "name": "stdout",
     "output_type": "stream",
     "text": [
      "test_4043.txt\n",
      "test_4044.txt\n",
      "test_4045.txt\n",
      "test_4046.txt\n",
      "test_4047.txt\n",
      "test_4048.txt\n",
      "test_4049.txt\n"
     ]
    },
    {
     "name": "stderr",
     "output_type": "stream",
     "text": [
      "\r",
      " 17%|██████                               | 4050/24526 [01:08<05:47, 58.85it/s]"
     ]
    },
    {
     "name": "stdout",
     "output_type": "stream",
     "text": [
      "test_4050.txt\n",
      "test_4051.txt\n",
      "test_4052.txt\n",
      "test_4053.txt\n",
      "test_4054.txt\n",
      "test_4055.txt\n",
      "test_4056.txt\n"
     ]
    },
    {
     "name": "stderr",
     "output_type": "stream",
     "text": [
      "\r",
      " 17%|██████                               | 4057/24526 [01:08<05:47, 58.86it/s]"
     ]
    },
    {
     "name": "stdout",
     "output_type": "stream",
     "text": [
      "test_4057.txt\n",
      "test_4058.txt\n",
      "test_4059.txt\n",
      "test_4060.txt\n",
      "test_4061.txt\n",
      "test_4062.txt\n",
      "test_4063.txt\n"
     ]
    },
    {
     "name": "stderr",
     "output_type": "stream",
     "text": [
      "\r",
      " 17%|██████▏                              | 4064/24526 [01:09<05:47, 58.87it/s]"
     ]
    },
    {
     "name": "stdout",
     "output_type": "stream",
     "text": [
      "test_4064.txt\n",
      "test_4065.txt\n",
      "test_4066.txt\n",
      "test_4067.txt\n",
      "test_4068.txt\n",
      "test_4069.txt\n",
      "test_4070.txt\n"
     ]
    },
    {
     "name": "stderr",
     "output_type": "stream",
     "text": [
      "\r",
      " 17%|██████▏                              | 4071/24526 [01:09<05:47, 58.88it/s]"
     ]
    },
    {
     "name": "stdout",
     "output_type": "stream",
     "text": [
      "test_4071.txt\n",
      "test_4072.txt\n",
      "test_4073.txt\n",
      "test_4074.txt\n",
      "test_4075.txt\n",
      "test_4076.txt\n",
      "test_4077.txt\n"
     ]
    },
    {
     "name": "stderr",
     "output_type": "stream",
     "text": [
      "\r",
      " 17%|██████▏                              | 4078/24526 [01:09<05:47, 58.87it/s]"
     ]
    },
    {
     "name": "stdout",
     "output_type": "stream",
     "text": [
      "test_4078.txt\n",
      "test_4079.txt\n",
      "test_4080.txt\n",
      "test_4081.txt\n",
      "test_4082.txt\n",
      "test_4083.txt\n"
     ]
    },
    {
     "name": "stderr",
     "output_type": "stream",
     "text": [
      "\r",
      " 17%|██████▏                              | 4084/24526 [01:09<05:47, 58.83it/s]"
     ]
    },
    {
     "name": "stdout",
     "output_type": "stream",
     "text": [
      "test_4084.txt\n",
      "test_4085.txt\n",
      "test_4086.txt\n",
      "test_4087.txt\n",
      "test_4088.txt\n",
      "test_4089.txt\n"
     ]
    },
    {
     "name": "stderr",
     "output_type": "stream",
     "text": [
      "\r",
      " 17%|██████▏                              | 4090/24526 [01:09<05:47, 58.82it/s]"
     ]
    },
    {
     "name": "stdout",
     "output_type": "stream",
     "text": [
      "test_4090.txt\n",
      "test_4091.txt\n",
      "test_4092.txt\n",
      "test_4093.txt\n",
      "test_4094.txt\n",
      "test_4095.txt\n"
     ]
    },
    {
     "name": "stderr",
     "output_type": "stream",
     "text": [
      "\r",
      " 17%|██████▏                              | 4096/24526 [01:09<05:47, 58.77it/s]"
     ]
    },
    {
     "name": "stdout",
     "output_type": "stream",
     "text": [
      "test_4096.txt\n",
      "test_4097.txt\n",
      "test_4098.txt\n",
      "test_4099.txt\n",
      "test_4100.txt\n",
      "test_4101.txt\n",
      "test_4102.txt\n"
     ]
    },
    {
     "name": "stderr",
     "output_type": "stream",
     "text": [
      "\r",
      " 17%|██████▏                              | 4103/24526 [01:09<05:47, 58.77it/s]"
     ]
    },
    {
     "name": "stdout",
     "output_type": "stream",
     "text": [
      "test_4103.txt\n",
      "test_4104.txt\n",
      "test_4105.txt\n",
      "test_4106.txt\n",
      "test_4107.txt\n",
      "test_4108.txt\n",
      "test_4109.txt\n"
     ]
    },
    {
     "name": "stderr",
     "output_type": "stream",
     "text": [
      "\r",
      " 17%|██████▏                              | 4110/24526 [01:09<05:47, 58.78it/s]"
     ]
    },
    {
     "name": "stdout",
     "output_type": "stream",
     "text": [
      "test_4110.txt\n",
      "test_4111.txt\n",
      "test_4112.txt\n",
      "test_4113.txt\n",
      "test_4114.txt\n",
      "test_4115.txt\n",
      "test_4116.txt\n"
     ]
    },
    {
     "name": "stderr",
     "output_type": "stream",
     "text": [
      "\r",
      " 17%|██████▏                              | 4117/24526 [01:10<05:47, 58.79it/s]"
     ]
    },
    {
     "name": "stdout",
     "output_type": "stream",
     "text": [
      "test_4117.txt\n",
      "test_4118.txt\n",
      "test_4119.txt\n",
      "test_4120.txt\n",
      "test_4121.txt\n",
      "test_4122.txt\n",
      "test_4123.txt\n",
      "test_4124.txt\n"
     ]
    },
    {
     "name": "stderr",
     "output_type": "stream",
     "text": [
      "\r",
      " 17%|██████▏                              | 4125/24526 [01:10<05:46, 58.81it/s]"
     ]
    },
    {
     "name": "stdout",
     "output_type": "stream",
     "text": [
      "test_4125.txt\n",
      "test_4126.txt\n",
      "test_4127.txt\n",
      "test_4128.txt\n",
      "test_4129.txt\n",
      "test_4130.txt\n",
      "test_4131.txt\n"
     ]
    },
    {
     "name": "stderr",
     "output_type": "stream",
     "text": [
      "\r",
      " 17%|██████▏                              | 4132/24526 [01:10<05:46, 58.82it/s]"
     ]
    },
    {
     "name": "stdout",
     "output_type": "stream",
     "text": [
      "test_4132.txt\n",
      "test_4133.txt\n",
      "test_4134.txt\n",
      "test_4135.txt\n",
      "test_4136.txt\n",
      "test_4137.txt\n",
      "test_4138.txt\n",
      "test_4139.txt\n"
     ]
    },
    {
     "name": "stderr",
     "output_type": "stream",
     "text": [
      "\r",
      " 17%|██████▏                              | 4140/24526 [01:10<05:46, 58.83it/s]"
     ]
    },
    {
     "name": "stdout",
     "output_type": "stream",
     "text": [
      "test_4140.txt\n",
      "test_4141.txt\n",
      "test_4142.txt\n",
      "test_4143.txt\n",
      "test_4144.txt\n",
      "test_4145.txt\n",
      "test_4146.txt\n"
     ]
    },
    {
     "name": "stderr",
     "output_type": "stream",
     "text": [
      "\r",
      " 17%|██████▎                              | 4147/24526 [01:10<05:46, 58.83it/s]"
     ]
    },
    {
     "name": "stdout",
     "output_type": "stream",
     "text": [
      "test_4147.txt\n",
      "test_4148.txt\n",
      "test_4149.txt\n",
      "test_4150.txt\n",
      "test_4151.txt\n",
      "test_4152.txt\n",
      "test_4153.txt\n",
      "test_4154.txt\n"
     ]
    },
    {
     "name": "stderr",
     "output_type": "stream",
     "text": [
      "\r",
      " 17%|██████▎                              | 4155/24526 [01:10<05:46, 58.86it/s]"
     ]
    },
    {
     "name": "stdout",
     "output_type": "stream",
     "text": [
      "test_4155.txt\n",
      "test_4156.txt\n",
      "test_4157.txt\n",
      "test_4158.txt\n",
      "test_4159.txt\n",
      "test_4160.txt\n",
      "test_4161.txt\n"
     ]
    },
    {
     "name": "stderr",
     "output_type": "stream",
     "text": [
      "\r",
      " 17%|██████▎                              | 4162/24526 [01:10<05:46, 58.84it/s]"
     ]
    },
    {
     "name": "stdout",
     "output_type": "stream",
     "text": [
      "test_4162.txt\n",
      "test_4163.txt\n",
      "test_4164.txt\n",
      "test_4165.txt\n",
      "test_4166.txt\n",
      "test_4167.txt\n",
      "test_4168.txt\n"
     ]
    },
    {
     "name": "stderr",
     "output_type": "stream",
     "text": [
      "\r",
      " 17%|██████▎                              | 4169/24526 [01:10<05:46, 58.83it/s]"
     ]
    },
    {
     "name": "stdout",
     "output_type": "stream",
     "text": [
      "test_4169.txt\n",
      "test_4170.txt\n",
      "test_4171.txt\n",
      "test_4172.txt\n",
      "test_4173.txt\n",
      "test_4174.txt\n"
     ]
    },
    {
     "name": "stderr",
     "output_type": "stream",
     "text": [
      "\r",
      " 17%|██████▎                              | 4175/24526 [01:10<05:45, 58.83it/s]"
     ]
    },
    {
     "name": "stdout",
     "output_type": "stream",
     "text": [
      "test_4175.txt\n",
      "test_4176.txt\n",
      "test_4177.txt\n",
      "test_4178.txt\n",
      "test_4179.txt\n",
      "test_4180.txt\n"
     ]
    },
    {
     "name": "stderr",
     "output_type": "stream",
     "text": [
      "\r",
      " 17%|██████▎                              | 4181/24526 [01:11<05:45, 58.81it/s]"
     ]
    },
    {
     "name": "stdout",
     "output_type": "stream",
     "text": [
      "test_4181.txt\n",
      "test_4182.txt\n",
      "test_4183.txt\n",
      "test_4184.txt\n",
      "test_4185.txt\n",
      "test_4186.txt\n",
      "test_4187.txt\n"
     ]
    },
    {
     "name": "stderr",
     "output_type": "stream",
     "text": [
      "\r",
      " 17%|██████▎                              | 4188/24526 [01:11<05:45, 58.82it/s]"
     ]
    },
    {
     "name": "stdout",
     "output_type": "stream",
     "text": [
      "test_4188.txt\n",
      "test_4189.txt\n",
      "test_4190.txt\n",
      "test_4191.txt\n",
      "test_4192.txt\n",
      "test_4193.txt\n"
     ]
    },
    {
     "name": "stderr",
     "output_type": "stream",
     "text": [
      "\r",
      " 17%|██████▎                              | 4194/24526 [01:11<05:45, 58.81it/s]"
     ]
    },
    {
     "name": "stdout",
     "output_type": "stream",
     "text": [
      "test_4194.txt\n",
      "test_4195.txt\n",
      "test_4196.txt\n",
      "test_4197.txt\n",
      "test_4198.txt\n",
      "test_4199.txt\n"
     ]
    },
    {
     "name": "stderr",
     "output_type": "stream",
     "text": [
      "\r",
      " 17%|██████▎                              | 4200/24526 [01:11<05:45, 58.80it/s]"
     ]
    },
    {
     "name": "stdout",
     "output_type": "stream",
     "text": [
      "test_4200.txt\n",
      "test_4201.txt\n",
      "test_4202.txt\n",
      "test_4203.txt\n",
      "test_4204.txt\n",
      "test_4205.txt\n"
     ]
    },
    {
     "name": "stderr",
     "output_type": "stream",
     "text": [
      "\r",
      " 17%|██████▎                              | 4206/24526 [01:11<05:45, 58.80it/s]"
     ]
    },
    {
     "name": "stdout",
     "output_type": "stream",
     "text": [
      "test_4206.txt\n",
      "test_4207.txt\n",
      "test_4208.txt\n",
      "test_4209.txt\n",
      "test_4210.txt\n",
      "test_4211.txt\n"
     ]
    },
    {
     "name": "stderr",
     "output_type": "stream",
     "text": [
      "\r",
      " 17%|██████▎                              | 4212/24526 [01:11<05:45, 58.80it/s]"
     ]
    },
    {
     "name": "stdout",
     "output_type": "stream",
     "text": [
      "test_4212.txt\n",
      "test_4213.txt\n",
      "test_4214.txt\n",
      "test_4215.txt\n",
      "test_4216.txt\n",
      "test_4217.txt\n"
     ]
    },
    {
     "name": "stderr",
     "output_type": "stream",
     "text": [
      "\r",
      " 17%|██████▎                              | 4218/24526 [01:11<05:45, 58.80it/s]"
     ]
    },
    {
     "name": "stdout",
     "output_type": "stream",
     "text": [
      "test_4218.txt\n",
      "test_4219.txt\n",
      "test_4220.txt\n",
      "test_4221.txt\n",
      "test_4222.txt\n",
      "test_4223.txt\n",
      "test_4224.txt\n",
      "test_4225.txt\n"
     ]
    },
    {
     "name": "stderr",
     "output_type": "stream",
     "text": [
      "\r",
      " 17%|██████▍                              | 4226/24526 [01:11<05:45, 58.79it/s]"
     ]
    },
    {
     "name": "stdout",
     "output_type": "stream",
     "text": [
      "test_4226.txt\n",
      "test_4227.txt\n",
      "test_4228.txt\n",
      "test_4229.txt\n",
      "test_4230.txt\n",
      "test_4231.txt\n"
     ]
    },
    {
     "name": "stderr",
     "output_type": "stream",
     "text": [
      "\r",
      " 17%|██████▍                              | 4232/24526 [01:11<05:45, 58.79it/s]"
     ]
    },
    {
     "name": "stdout",
     "output_type": "stream",
     "text": [
      "test_4232.txt\n",
      "test_4233.txt\n",
      "test_4234.txt\n",
      "test_4235.txt\n",
      "test_4236.txt\n",
      "test_4237.txt\n",
      "test_4238.txt\n",
      "test_4239.txt\n"
     ]
    },
    {
     "name": "stderr",
     "output_type": "stream",
     "text": [
      "\r",
      " 17%|██████▍                              | 4240/24526 [01:12<05:44, 58.81it/s]"
     ]
    },
    {
     "name": "stdout",
     "output_type": "stream",
     "text": [
      "test_4240.txt\n",
      "test_4241.txt\n",
      "test_4242.txt\n",
      "test_4243.txt\n",
      "test_4244.txt\n",
      "test_4245.txt\n",
      "test_4246.txt\n"
     ]
    },
    {
     "name": "stderr",
     "output_type": "stream",
     "text": [
      "\r",
      " 17%|██████▍                              | 4247/24526 [01:12<05:44, 58.82it/s]"
     ]
    },
    {
     "name": "stdout",
     "output_type": "stream",
     "text": [
      "test_4247.txt\n",
      "test_4248.txt\n",
      "test_4249.txt\n",
      "test_4250.txt\n",
      "test_4251.txt\n",
      "test_4252.txt\n",
      "test_4253.txt\n"
     ]
    },
    {
     "name": "stderr",
     "output_type": "stream",
     "text": [
      "\r",
      " 17%|██████▍                              | 4254/24526 [01:12<05:44, 58.82it/s]"
     ]
    },
    {
     "name": "stdout",
     "output_type": "stream",
     "text": [
      "test_4254.txt\n",
      "test_4255.txt\n",
      "test_4256.txt\n",
      "test_4257.txt\n",
      "test_4258.txt\n",
      "test_4259.txt\n",
      "test_4260.txt\n"
     ]
    },
    {
     "name": "stderr",
     "output_type": "stream",
     "text": [
      "\r",
      " 17%|██████▍                              | 4261/24526 [01:12<05:44, 58.80it/s]"
     ]
    },
    {
     "name": "stdout",
     "output_type": "stream",
     "text": [
      "test_4261.txt\n",
      "test_4262.txt\n",
      "test_4263.txt\n",
      "test_4264.txt\n",
      "test_4265.txt\n",
      "test_4266.txt\n"
     ]
    },
    {
     "name": "stderr",
     "output_type": "stream",
     "text": [
      "\r",
      " 17%|██████▍                              | 4267/24526 [01:12<05:44, 58.79it/s]"
     ]
    },
    {
     "name": "stdout",
     "output_type": "stream",
     "text": [
      "test_4267.txt\n",
      "test_4268.txt\n",
      "test_4269.txt\n",
      "test_4270.txt\n",
      "test_4271.txt\n",
      "test_4272.txt\n"
     ]
    },
    {
     "name": "stderr",
     "output_type": "stream",
     "text": [
      "\r",
      " 17%|██████▍                              | 4273/24526 [01:12<05:44, 58.78it/s]"
     ]
    },
    {
     "name": "stdout",
     "output_type": "stream",
     "text": [
      "test_4273.txt\n",
      "test_4274.txt\n",
      "test_4275.txt\n",
      "test_4276.txt\n",
      "test_4277.txt\n",
      "test_4278.txt\n"
     ]
    },
    {
     "name": "stderr",
     "output_type": "stream",
     "text": [
      "\r",
      " 17%|██████▍                              | 4279/24526 [01:12<05:44, 58.77it/s]"
     ]
    },
    {
     "name": "stdout",
     "output_type": "stream",
     "text": [
      "test_4279.txt\n",
      "test_4280.txt\n",
      "test_4281.txt\n",
      "test_4282.txt\n",
      "test_4283.txt\n",
      "test_4284.txt\n",
      "test_4285.txt\n"
     ]
    },
    {
     "name": "stderr",
     "output_type": "stream",
     "text": [
      "\r",
      " 17%|██████▍                              | 4286/24526 [01:12<05:44, 58.78it/s]"
     ]
    },
    {
     "name": "stdout",
     "output_type": "stream",
     "text": [
      "test_4286.txt\n",
      "test_4287.txt\n",
      "test_4288.txt\n",
      "test_4289.txt\n",
      "test_4290.txt\n",
      "test_4291.txt\n"
     ]
    },
    {
     "name": "stderr",
     "output_type": "stream",
     "text": [
      "\r",
      " 17%|██████▍                              | 4292/24526 [01:13<05:44, 58.76it/s]"
     ]
    },
    {
     "name": "stdout",
     "output_type": "stream",
     "text": [
      "test_4292.txt\n",
      "test_4293.txt\n",
      "test_4294.txt\n",
      "test_4295.txt\n",
      "test_4296.txt\n",
      "test_4297.txt\n"
     ]
    },
    {
     "name": "stderr",
     "output_type": "stream",
     "text": [
      "\r",
      " 18%|██████▍                              | 4298/24526 [01:13<05:44, 58.75it/s]"
     ]
    },
    {
     "name": "stdout",
     "output_type": "stream",
     "text": [
      "test_4298.txt\n",
      "test_4299.txt\n",
      "test_4300.txt\n",
      "test_4301.txt\n",
      "test_4302.txt\n",
      "test_4303.txt\n"
     ]
    },
    {
     "name": "stderr",
     "output_type": "stream",
     "text": [
      "\r",
      " 18%|██████▍                              | 4304/24526 [01:13<05:44, 58.75it/s]"
     ]
    },
    {
     "name": "stdout",
     "output_type": "stream",
     "text": [
      "test_4304.txt\n",
      "test_4305.txt\n",
      "test_4306.txt\n",
      "test_4307.txt\n",
      "test_4308.txt\n",
      "test_4309.txt\n"
     ]
    },
    {
     "name": "stderr",
     "output_type": "stream",
     "text": [
      "\r",
      " 18%|██████▌                              | 4310/24526 [01:13<05:44, 58.71it/s]"
     ]
    },
    {
     "name": "stdout",
     "output_type": "stream",
     "text": [
      "test_4310.txt\n",
      "test_4311.txt\n",
      "test_4312.txt\n",
      "test_4313.txt\n",
      "test_4314.txt\n",
      "test_4315.txt\n"
     ]
    },
    {
     "name": "stderr",
     "output_type": "stream",
     "text": [
      "\r",
      " 18%|██████▌                              | 4316/24526 [01:13<05:44, 58.61it/s]"
     ]
    },
    {
     "name": "stdout",
     "output_type": "stream",
     "text": [
      "test_4316.txt\n",
      "test_4317.txt\n",
      "test_4318.txt\n",
      "test_4319.txt\n",
      "test_4320.txt\n",
      "test_4321.txt\n"
     ]
    },
    {
     "name": "stderr",
     "output_type": "stream",
     "text": [
      "\r",
      " 18%|██████▌                              | 4322/24526 [01:13<05:44, 58.60it/s]"
     ]
    },
    {
     "name": "stdout",
     "output_type": "stream",
     "text": [
      "test_4322.txt\n",
      "test_4323.txt\n",
      "test_4324.txt\n",
      "test_4325.txt\n",
      "test_4326.txt\n",
      "test_4327.txt\n"
     ]
    },
    {
     "name": "stderr",
     "output_type": "stream",
     "text": [
      "\r",
      " 18%|██████▌                              | 4328/24526 [01:13<05:44, 58.60it/s]"
     ]
    },
    {
     "name": "stdout",
     "output_type": "stream",
     "text": [
      "test_4328.txt\n",
      "test_4329.txt\n",
      "test_4330.txt\n",
      "test_4331.txt\n",
      "test_4332.txt\n",
      "test_4333.txt\n",
      "test_4334.txt\n",
      "test_4335.txt\n"
     ]
    },
    {
     "name": "stderr",
     "output_type": "stream",
     "text": [
      "\r",
      " 18%|██████▌                              | 4336/24526 [01:13<05:44, 58.62it/s]"
     ]
    },
    {
     "name": "stdout",
     "output_type": "stream",
     "text": [
      "test_4336.txt\n",
      "test_4337.txt\n",
      "test_4338.txt\n",
      "test_4339.txt\n",
      "test_4340.txt\n",
      "test_4341.txt\n",
      "test_4342.txt\n"
     ]
    },
    {
     "name": "stderr",
     "output_type": "stream",
     "text": [
      "\r",
      " 18%|██████▌                              | 4343/24526 [01:14<05:44, 58.63it/s]"
     ]
    },
    {
     "name": "stdout",
     "output_type": "stream",
     "text": [
      "test_4343.txt\n",
      "test_4344.txt\n",
      "test_4345.txt\n",
      "test_4346.txt\n",
      "test_4347.txt\n",
      "test_4348.txt\n",
      "test_4349.txt\n"
     ]
    },
    {
     "name": "stderr",
     "output_type": "stream",
     "text": [
      "\r",
      " 18%|██████▌                              | 4350/24526 [01:14<05:44, 58.64it/s]"
     ]
    },
    {
     "name": "stdout",
     "output_type": "stream",
     "text": [
      "test_4350.txt\n",
      "test_4351.txt\n",
      "test_4352.txt\n",
      "test_4353.txt\n",
      "test_4354.txt\n",
      "test_4355.txt\n",
      "test_4356.txt\n"
     ]
    },
    {
     "name": "stderr",
     "output_type": "stream",
     "text": [
      "\r",
      " 18%|██████▌                              | 4357/24526 [01:14<05:44, 58.63it/s]"
     ]
    },
    {
     "name": "stdout",
     "output_type": "stream",
     "text": [
      "test_4357.txt\n",
      "test_4358.txt\n",
      "test_4359.txt\n",
      "test_4360.txt\n",
      "test_4361.txt\n",
      "test_4362.txt\n"
     ]
    },
    {
     "name": "stderr",
     "output_type": "stream",
     "text": [
      "\r",
      " 18%|██████▌                              | 4363/24526 [01:14<05:43, 58.63it/s]"
     ]
    },
    {
     "name": "stdout",
     "output_type": "stream",
     "text": [
      "test_4363.txt\n",
      "test_4364.txt\n",
      "test_4365.txt\n",
      "test_4366.txt\n",
      "test_4367.txt\n",
      "test_4368.txt\n",
      "test_4369.txt\n"
     ]
    },
    {
     "name": "stderr",
     "output_type": "stream",
     "text": [
      "\r",
      " 18%|██████▌                              | 4370/24526 [01:14<05:43, 58.63it/s]"
     ]
    },
    {
     "name": "stdout",
     "output_type": "stream",
     "text": [
      "test_4370.txt\n",
      "test_4371.txt\n",
      "test_4372.txt\n",
      "test_4373.txt\n",
      "test_4374.txt\n",
      "test_4375.txt\n"
     ]
    },
    {
     "name": "stderr",
     "output_type": "stream",
     "text": [
      "\r",
      " 18%|██████▌                              | 4376/24526 [01:14<05:43, 58.63it/s]"
     ]
    },
    {
     "name": "stdout",
     "output_type": "stream",
     "text": [
      "test_4376.txt\n",
      "test_4377.txt\n",
      "test_4378.txt\n",
      "test_4379.txt\n",
      "test_4380.txt\n",
      "test_4381.txt\n"
     ]
    },
    {
     "name": "stderr",
     "output_type": "stream",
     "text": [
      "\r",
      " 18%|██████▌                              | 4382/24526 [01:14<05:43, 58.62it/s]"
     ]
    },
    {
     "name": "stdout",
     "output_type": "stream",
     "text": [
      "test_4382.txt\n",
      "test_4383.txt\n",
      "test_4384.txt\n",
      "test_4385.txt\n",
      "test_4386.txt\n",
      "test_4387.txt\n",
      "test_4388.txt\n",
      "test_4389.txt\n"
     ]
    },
    {
     "name": "stderr",
     "output_type": "stream",
     "text": [
      "\r",
      " 18%|██████▌                              | 4390/24526 [01:14<05:43, 58.64it/s]"
     ]
    },
    {
     "name": "stdout",
     "output_type": "stream",
     "text": [
      "test_4390.txt\n",
      "test_4391.txt\n",
      "test_4392.txt\n",
      "test_4393.txt\n",
      "test_4394.txt\n",
      "test_4395.txt\n",
      "test_4396.txt\n",
      "test_4397.txt\n"
     ]
    },
    {
     "name": "stderr",
     "output_type": "stream",
     "text": [
      "\r",
      " 18%|██████▋                              | 4398/24526 [01:14<05:43, 58.66it/s]"
     ]
    },
    {
     "name": "stdout",
     "output_type": "stream",
     "text": [
      "test_4398.txt\n",
      "test_4399.txt\n",
      "test_4400.txt\n",
      "test_4401.txt\n",
      "test_4402.txt\n",
      "test_4403.txt\n",
      "test_4404.txt\n"
     ]
    },
    {
     "name": "stderr",
     "output_type": "stream",
     "text": [
      "\r",
      " 18%|██████▋                              | 4405/24526 [01:15<05:43, 58.63it/s]"
     ]
    },
    {
     "name": "stdout",
     "output_type": "stream",
     "text": [
      "test_4405.txt\n",
      "test_4406.txt\n",
      "test_4407.txt\n",
      "test_4408.txt\n",
      "test_4409.txt\n",
      "test_4410.txt\n",
      "test_4411.txt\n"
     ]
    },
    {
     "name": "stderr",
     "output_type": "stream",
     "text": [
      "\r",
      " 18%|██████▋                              | 4412/24526 [01:15<05:42, 58.65it/s]"
     ]
    },
    {
     "name": "stdout",
     "output_type": "stream",
     "text": [
      "test_4412.txt\n",
      "test_4413.txt\n",
      "test_4414.txt\n",
      "test_4415.txt\n",
      "test_4416.txt\n",
      "test_4417.txt\n",
      "test_4418.txt\n",
      "test_4419.txt\n",
      "test_4420.txt\n"
     ]
    },
    {
     "name": "stderr",
     "output_type": "stream",
     "text": [
      "\r",
      " 18%|██████▋                              | 4421/24526 [01:15<05:42, 58.68it/s]"
     ]
    },
    {
     "name": "stdout",
     "output_type": "stream",
     "text": [
      "test_4421.txt\n",
      "test_4422.txt\n",
      "test_4423.txt\n",
      "test_4424.txt\n",
      "test_4425.txt\n",
      "test_4426.txt\n",
      "test_4427.txt\n"
     ]
    },
    {
     "name": "stderr",
     "output_type": "stream",
     "text": [
      "\r",
      " 18%|██████▋                              | 4428/24526 [01:15<05:42, 58.67it/s]"
     ]
    },
    {
     "name": "stdout",
     "output_type": "stream",
     "text": [
      "test_4428.txt\n",
      "test_4429.txt\n",
      "test_4430.txt\n",
      "test_4431.txt\n",
      "test_4432.txt\n",
      "test_4433.txt\n",
      "test_4434.txt\n"
     ]
    },
    {
     "name": "stderr",
     "output_type": "stream",
     "text": [
      "\r",
      " 18%|██████▋                              | 4435/24526 [01:15<05:42, 58.67it/s]"
     ]
    },
    {
     "name": "stdout",
     "output_type": "stream",
     "text": [
      "test_4435.txt\n",
      "test_4436.txt\n",
      "test_4437.txt\n",
      "test_4438.txt\n",
      "test_4439.txt\n",
      "test_4440.txt\n",
      "test_4441.txt\n"
     ]
    },
    {
     "name": "stderr",
     "output_type": "stream",
     "text": [
      "\r",
      " 18%|██████▋                              | 4442/24526 [01:15<05:42, 58.64it/s]"
     ]
    },
    {
     "name": "stdout",
     "output_type": "stream",
     "text": [
      "test_4442.txt\n",
      "test_4443.txt\n",
      "test_4444.txt\n",
      "test_4445.txt\n",
      "test_4446.txt\n",
      "test_4447.txt\n"
     ]
    },
    {
     "name": "stderr",
     "output_type": "stream",
     "text": [
      "\r",
      " 18%|██████▋                              | 4448/24526 [01:15<05:42, 58.64it/s]"
     ]
    },
    {
     "name": "stdout",
     "output_type": "stream",
     "text": [
      "test_4448.txt\n",
      "test_4449.txt\n",
      "test_4450.txt\n",
      "test_4451.txt\n",
      "test_4452.txt\n",
      "test_4453.txt\n",
      "test_4454.txt\n"
     ]
    },
    {
     "name": "stderr",
     "output_type": "stream",
     "text": [
      "\r",
      " 18%|██████▋                              | 4455/24526 [01:15<05:42, 58.64it/s]"
     ]
    },
    {
     "name": "stdout",
     "output_type": "stream",
     "text": [
      "test_4455.txt\n",
      "test_4456.txt\n",
      "test_4457.txt\n",
      "test_4458.txt\n",
      "test_4459.txt\n",
      "test_4460.txt\n",
      "test_4461.txt\n"
     ]
    },
    {
     "name": "stderr",
     "output_type": "stream",
     "text": [
      "\r",
      " 18%|██████▋                              | 4462/24526 [01:16<05:42, 58.63it/s]"
     ]
    },
    {
     "name": "stdout",
     "output_type": "stream",
     "text": [
      "test_4462.txt\n",
      "test_4463.txt\n",
      "test_4464.txt\n",
      "test_4465.txt\n",
      "test_4466.txt\n",
      "test_4467.txt\n"
     ]
    },
    {
     "name": "stderr",
     "output_type": "stream",
     "text": [
      "\r",
      " 18%|██████▋                              | 4468/24526 [01:16<05:42, 58.62it/s]"
     ]
    },
    {
     "name": "stdout",
     "output_type": "stream",
     "text": [
      "test_4468.txt\n",
      "test_4469.txt\n",
      "test_4470.txt\n",
      "test_4471.txt\n",
      "test_4472.txt\n",
      "test_4473.txt\n",
      "test_4474.txt\n"
     ]
    },
    {
     "name": "stderr",
     "output_type": "stream",
     "text": [
      "\r",
      " 18%|██████▊                              | 4475/24526 [01:16<05:42, 58.62it/s]"
     ]
    },
    {
     "name": "stdout",
     "output_type": "stream",
     "text": [
      "test_4475.txt\n",
      "test_4476.txt\n",
      "test_4477.txt\n",
      "test_4478.txt\n",
      "test_4479.txt\n",
      "test_4480.txt\n"
     ]
    },
    {
     "name": "stderr",
     "output_type": "stream",
     "text": [
      "\r",
      " 18%|██████▊                              | 4481/24526 [01:16<05:42, 58.58it/s]"
     ]
    },
    {
     "name": "stdout",
     "output_type": "stream",
     "text": [
      "test_4481.txt\n",
      "test_4482.txt\n",
      "test_4483.txt\n",
      "test_4484.txt\n",
      "test_4485.txt\n",
      "test_4486.txt\n"
     ]
    },
    {
     "name": "stderr",
     "output_type": "stream",
     "text": [
      "\r",
      " 18%|██████▊                              | 4487/24526 [01:16<05:42, 58.57it/s]"
     ]
    },
    {
     "name": "stdout",
     "output_type": "stream",
     "text": [
      "test_4487.txt\n",
      "test_4488.txt\n",
      "test_4489.txt\n",
      "test_4490.txt\n",
      "test_4491.txt\n",
      "test_4492.txt\n",
      "test_4493.txt\n"
     ]
    },
    {
     "name": "stderr",
     "output_type": "stream",
     "text": [
      "\r",
      " 18%|██████▊                              | 4494/24526 [01:16<05:41, 58.58it/s]"
     ]
    },
    {
     "name": "stdout",
     "output_type": "stream",
     "text": [
      "test_4494.txt\n",
      "test_4495.txt\n",
      "test_4496.txt\n",
      "test_4497.txt\n",
      "test_4498.txt\n",
      "test_4499.txt\n",
      "test_4500.txt\n"
     ]
    },
    {
     "name": "stderr",
     "output_type": "stream",
     "text": [
      "\r",
      " 18%|██████▊                              | 4501/24526 [01:16<05:41, 58.59it/s]"
     ]
    },
    {
     "name": "stdout",
     "output_type": "stream",
     "text": [
      "test_4501.txt\n",
      "test_4502.txt\n",
      "test_4503.txt\n",
      "test_4504.txt\n",
      "test_4505.txt\n",
      "test_4506.txt\n",
      "test_4507.txt\n"
     ]
    },
    {
     "name": "stderr",
     "output_type": "stream",
     "text": [
      "\r",
      " 18%|██████▊                              | 4508/24526 [01:16<05:41, 58.60it/s]"
     ]
    },
    {
     "name": "stdout",
     "output_type": "stream",
     "text": [
      "test_4508.txt\n",
      "test_4509.txt\n",
      "test_4510.txt\n",
      "test_4511.txt\n",
      "test_4512.txt\n",
      "test_4513.txt\n",
      "test_4514.txt\n"
     ]
    },
    {
     "name": "stderr",
     "output_type": "stream",
     "text": [
      "\r",
      " 18%|██████▊                              | 4515/24526 [01:17<05:41, 58.59it/s]"
     ]
    },
    {
     "name": "stdout",
     "output_type": "stream",
     "text": [
      "test_4515.txt\n",
      "test_4516.txt\n",
      "test_4517.txt\n",
      "test_4518.txt\n",
      "test_4519.txt\n",
      "test_4520.txt\n"
     ]
    },
    {
     "name": "stderr",
     "output_type": "stream",
     "text": [
      "\r",
      " 18%|██████▊                              | 4521/24526 [01:17<05:41, 58.58it/s]"
     ]
    },
    {
     "name": "stdout",
     "output_type": "stream",
     "text": [
      "test_4521.txt\n",
      "test_4522.txt\n",
      "test_4523.txt\n",
      "test_4524.txt\n",
      "test_4525.txt\n",
      "test_4526.txt\n",
      "test_4527.txt\n"
     ]
    },
    {
     "name": "stderr",
     "output_type": "stream",
     "text": [
      "\r",
      " 18%|██████▊                              | 4528/24526 [01:17<05:41, 58.57it/s]"
     ]
    },
    {
     "name": "stdout",
     "output_type": "stream",
     "text": [
      "test_4528.txt\n",
      "test_4529.txt\n",
      "test_4530.txt\n",
      "test_4531.txt\n",
      "test_4532.txt\n",
      "test_4533.txt\n",
      "test_4534.txt\n"
     ]
    },
    {
     "name": "stderr",
     "output_type": "stream",
     "text": [
      "\r",
      " 18%|██████▊                              | 4535/24526 [01:17<05:41, 58.57it/s]"
     ]
    },
    {
     "name": "stdout",
     "output_type": "stream",
     "text": [
      "test_4535.txt\n",
      "test_4536.txt\n",
      "test_4537.txt\n",
      "test_4538.txt\n",
      "test_4539.txt\n",
      "test_4540.txt\n"
     ]
    },
    {
     "name": "stderr",
     "output_type": "stream",
     "text": [
      "\r",
      " 19%|██████▊                              | 4541/24526 [01:17<05:41, 58.57it/s]"
     ]
    },
    {
     "name": "stdout",
     "output_type": "stream",
     "text": [
      "test_4541.txt\n",
      "test_4542.txt\n",
      "test_4543.txt\n",
      "test_4544.txt\n",
      "test_4545.txt\n",
      "test_4546.txt\n"
     ]
    },
    {
     "name": "stderr",
     "output_type": "stream",
     "text": [
      "\r",
      " 19%|██████▊                              | 4547/24526 [01:17<05:41, 58.56it/s]"
     ]
    },
    {
     "name": "stdout",
     "output_type": "stream",
     "text": [
      "test_4547.txt\n",
      "test_4548.txt\n",
      "test_4549.txt\n",
      "test_4550.txt\n",
      "test_4551.txt\n",
      "test_4552.txt\n"
     ]
    },
    {
     "name": "stderr",
     "output_type": "stream",
     "text": [
      "\r",
      " 19%|██████▊                              | 4553/24526 [01:17<05:41, 58.54it/s]"
     ]
    },
    {
     "name": "stdout",
     "output_type": "stream",
     "text": [
      "test_4553.txt\n",
      "test_4554.txt\n",
      "test_4555.txt\n",
      "test_4556.txt\n",
      "test_4557.txt\n",
      "test_4558.txt\n"
     ]
    },
    {
     "name": "stderr",
     "output_type": "stream",
     "text": [
      "\r",
      " 19%|██████▉                              | 4559/24526 [01:17<05:41, 58.53it/s]"
     ]
    },
    {
     "name": "stdout",
     "output_type": "stream",
     "text": [
      "test_4559.txt\n",
      "test_4560.txt\n",
      "test_4561.txt\n",
      "test_4562.txt\n",
      "test_4563.txt\n",
      "test_4564.txt\n"
     ]
    },
    {
     "name": "stderr",
     "output_type": "stream",
     "text": [
      "\r",
      " 19%|██████▉                              | 4565/24526 [01:18<05:41, 58.49it/s]"
     ]
    },
    {
     "name": "stdout",
     "output_type": "stream",
     "text": [
      "test_4565.txt\n",
      "test_4566.txt\n",
      "test_4567.txt\n",
      "test_4568.txt\n",
      "test_4569.txt\n"
     ]
    },
    {
     "name": "stderr",
     "output_type": "stream",
     "text": [
      "\r",
      " 19%|██████▉                              | 4570/24526 [01:18<05:41, 58.48it/s]"
     ]
    },
    {
     "name": "stdout",
     "output_type": "stream",
     "text": [
      "test_4570.txt\n",
      "test_4571.txt\n",
      "test_4572.txt\n",
      "test_4573.txt\n",
      "test_4574.txt\n"
     ]
    },
    {
     "name": "stderr",
     "output_type": "stream",
     "text": [
      "\r",
      " 19%|██████▉                              | 4575/24526 [01:18<05:41, 58.46it/s]"
     ]
    },
    {
     "name": "stdout",
     "output_type": "stream",
     "text": [
      "test_4575.txt\n",
      "test_4576.txt\n",
      "test_4577.txt\n",
      "test_4578.txt\n",
      "test_4579.txt\n",
      "test_4580.txt\n"
     ]
    },
    {
     "name": "stderr",
     "output_type": "stream",
     "text": [
      "\r",
      " 19%|██████▉                              | 4581/24526 [01:18<05:41, 58.45it/s]"
     ]
    },
    {
     "name": "stdout",
     "output_type": "stream",
     "text": [
      "test_4581.txt\n",
      "test_4582.txt\n",
      "test_4583.txt\n",
      "test_4584.txt\n",
      "test_4585.txt\n",
      "test_4586.txt\n",
      "test_4587.txt\n"
     ]
    },
    {
     "name": "stderr",
     "output_type": "stream",
     "text": [
      "\r",
      " 19%|██████▉                              | 4588/24526 [01:18<05:41, 58.46it/s]"
     ]
    },
    {
     "name": "stdout",
     "output_type": "stream",
     "text": [
      "test_4588.txt\n",
      "test_4589.txt\n",
      "test_4590.txt\n",
      "test_4591.txt\n",
      "test_4592.txt\n",
      "test_4593.txt\n",
      "test_4594.txt\n"
     ]
    },
    {
     "name": "stderr",
     "output_type": "stream",
     "text": [
      "\r",
      " 19%|██████▉                              | 4595/24526 [01:18<05:40, 58.47it/s]"
     ]
    },
    {
     "name": "stdout",
     "output_type": "stream",
     "text": [
      "test_4595.txt\n",
      "test_4596.txt\n",
      "test_4597.txt\n",
      "test_4598.txt\n",
      "test_4599.txt\n",
      "test_4600.txt\n"
     ]
    },
    {
     "name": "stderr",
     "output_type": "stream",
     "text": [
      "\r",
      " 19%|██████▉                              | 4601/24526 [01:18<05:40, 58.47it/s]"
     ]
    },
    {
     "name": "stdout",
     "output_type": "stream",
     "text": [
      "test_4601.txt\n",
      "test_4602.txt\n",
      "test_4603.txt\n",
      "test_4604.txt\n",
      "test_4605.txt\n",
      "test_4606.txt\n",
      "test_4607.txt\n"
     ]
    },
    {
     "name": "stderr",
     "output_type": "stream",
     "text": [
      "\r",
      " 19%|██████▉                              | 4608/24526 [01:18<05:40, 58.48it/s]"
     ]
    },
    {
     "name": "stdout",
     "output_type": "stream",
     "text": [
      "test_4608.txt\n",
      "test_4609.txt\n",
      "test_4610.txt\n",
      "test_4611.txt\n",
      "test_4612.txt\n",
      "test_4613.txt\n"
     ]
    },
    {
     "name": "stderr",
     "output_type": "stream",
     "text": [
      "\r",
      " 19%|██████▉                              | 4614/24526 [01:18<05:40, 58.47it/s]"
     ]
    },
    {
     "name": "stdout",
     "output_type": "stream",
     "text": [
      "test_4614.txt\n",
      "test_4615.txt\n",
      "test_4616.txt\n",
      "test_4617.txt\n",
      "test_4618.txt\n",
      "test_4619.txt\n"
     ]
    },
    {
     "name": "stderr",
     "output_type": "stream",
     "text": [
      "\r",
      " 19%|██████▉                              | 4620/24526 [01:19<05:40, 58.47it/s]"
     ]
    },
    {
     "name": "stdout",
     "output_type": "stream",
     "text": [
      "test_4620.txt\n",
      "test_4621.txt\n",
      "test_4622.txt\n",
      "test_4623.txt\n",
      "test_4624.txt\n",
      "test_4625.txt\n"
     ]
    },
    {
     "name": "stderr",
     "output_type": "stream",
     "text": [
      "\r",
      " 19%|██████▉                              | 4626/24526 [01:19<05:40, 58.47it/s]"
     ]
    },
    {
     "name": "stdout",
     "output_type": "stream",
     "text": [
      "test_4626.txt\n",
      "test_4627.txt\n",
      "test_4628.txt\n",
      "test_4629.txt\n",
      "test_4630.txt\n",
      "test_4631.txt\n"
     ]
    },
    {
     "name": "stderr",
     "output_type": "stream",
     "text": [
      "\r",
      " 19%|██████▉                              | 4632/24526 [01:19<05:40, 58.45it/s]"
     ]
    },
    {
     "name": "stdout",
     "output_type": "stream",
     "text": [
      "test_4632.txt\n",
      "test_4633.txt\n",
      "test_4634.txt\n",
      "test_4635.txt\n",
      "test_4636.txt\n",
      "test_4637.txt\n",
      "test_4638.txt\n"
     ]
    },
    {
     "name": "stderr",
     "output_type": "stream",
     "text": [
      "\r",
      " 19%|██████▉                              | 4639/24526 [01:19<05:40, 58.45it/s]"
     ]
    },
    {
     "name": "stdout",
     "output_type": "stream",
     "text": [
      "test_4639.txt\n",
      "test_4640.txt\n",
      "test_4641.txt\n",
      "test_4642.txt\n",
      "test_4643.txt\n",
      "test_4644.txt\n",
      "test_4645.txt\n"
     ]
    },
    {
     "name": "stderr",
     "output_type": "stream",
     "text": [
      "\r",
      " 19%|███████                              | 4646/24526 [01:19<05:40, 58.45it/s]"
     ]
    },
    {
     "name": "stdout",
     "output_type": "stream",
     "text": [
      "test_4646.txt\n",
      "test_4647.txt\n",
      "test_4648.txt\n",
      "test_4649.txt\n",
      "test_4650.txt\n",
      "test_4651.txt\n",
      "test_4652.txt\n",
      "test_4653.txt\n"
     ]
    },
    {
     "name": "stderr",
     "output_type": "stream",
     "text": [
      "\r",
      " 19%|███████                              | 4654/24526 [01:19<05:39, 58.47it/s]"
     ]
    },
    {
     "name": "stdout",
     "output_type": "stream",
     "text": [
      "test_4654.txt\n",
      "test_4655.txt\n",
      "test_4656.txt\n",
      "test_4657.txt\n",
      "test_4658.txt\n",
      "test_4659.txt\n",
      "test_4660.txt\n"
     ]
    },
    {
     "name": "stderr",
     "output_type": "stream",
     "text": [
      "\r",
      " 19%|███████                              | 4661/24526 [01:19<05:39, 58.46it/s]"
     ]
    },
    {
     "name": "stdout",
     "output_type": "stream",
     "text": [
      "test_4661.txt\n",
      "test_4662.txt\n",
      "test_4663.txt\n",
      "test_4664.txt\n",
      "test_4665.txt\n",
      "test_4666.txt\n"
     ]
    },
    {
     "name": "stderr",
     "output_type": "stream",
     "text": [
      "\r",
      " 19%|███████                              | 4667/24526 [01:19<05:39, 58.44it/s]"
     ]
    },
    {
     "name": "stdout",
     "output_type": "stream",
     "text": [
      "test_4667.txt\n",
      "test_4668.txt\n",
      "test_4669.txt\n",
      "test_4670.txt\n",
      "test_4671.txt\n",
      "test_4672.txt\n"
     ]
    },
    {
     "name": "stderr",
     "output_type": "stream",
     "text": [
      "\r",
      " 19%|███████                              | 4673/24526 [01:19<05:39, 58.43it/s]"
     ]
    },
    {
     "name": "stdout",
     "output_type": "stream",
     "text": [
      "test_4673.txt\n",
      "test_4674.txt\n",
      "test_4675.txt\n",
      "test_4676.txt\n",
      "test_4677.txt\n",
      "test_4678.txt\n",
      "test_4679.txt\n"
     ]
    },
    {
     "name": "stderr",
     "output_type": "stream",
     "text": [
      "\r",
      " 19%|███████                              | 4680/24526 [01:20<05:39, 58.44it/s]"
     ]
    },
    {
     "name": "stdout",
     "output_type": "stream",
     "text": [
      "test_4680.txt\n",
      "test_4681.txt\n",
      "test_4682.txt\n",
      "test_4683.txt\n",
      "test_4684.txt\n",
      "test_4685.txt\n"
     ]
    },
    {
     "name": "stderr",
     "output_type": "stream",
     "text": [
      "\r",
      " 19%|███████                              | 4686/24526 [01:20<05:39, 58.43it/s]"
     ]
    },
    {
     "name": "stdout",
     "output_type": "stream",
     "text": [
      "test_4686.txt\n",
      "test_4687.txt\n",
      "test_4688.txt\n",
      "test_4689.txt\n",
      "test_4690.txt\n",
      "test_4691.txt\n",
      "test_4692.txt\n"
     ]
    },
    {
     "name": "stderr",
     "output_type": "stream",
     "text": [
      "\r",
      " 19%|███████                              | 4693/24526 [01:20<05:39, 58.43it/s]"
     ]
    },
    {
     "name": "stdout",
     "output_type": "stream",
     "text": [
      "test_4693.txt\n",
      "test_4694.txt\n",
      "test_4695.txt\n",
      "test_4696.txt\n",
      "test_4697.txt\n",
      "test_4698.txt\n"
     ]
    },
    {
     "name": "stderr",
     "output_type": "stream",
     "text": [
      "\r",
      " 19%|███████                              | 4699/24526 [01:20<05:39, 58.39it/s]"
     ]
    },
    {
     "name": "stdout",
     "output_type": "stream",
     "text": [
      "test_4699.txt\n",
      "test_4700.txt\n",
      "test_4701.txt\n",
      "test_4702.txt\n",
      "test_4703.txt\n",
      "test_4704.txt\n"
     ]
    },
    {
     "name": "stderr",
     "output_type": "stream",
     "text": [
      "\r",
      " 19%|███████                              | 4705/24526 [01:20<05:39, 58.38it/s]"
     ]
    },
    {
     "name": "stdout",
     "output_type": "stream",
     "text": [
      "test_4705.txt\n",
      "test_4706.txt\n",
      "test_4707.txt\n",
      "test_4708.txt\n",
      "test_4709.txt\n",
      "test_4710.txt\n"
     ]
    },
    {
     "name": "stderr",
     "output_type": "stream",
     "text": [
      "\r",
      " 19%|███████                              | 4711/24526 [01:20<05:39, 58.37it/s]"
     ]
    },
    {
     "name": "stdout",
     "output_type": "stream",
     "text": [
      "test_4711.txt\n",
      "test_4712.txt\n",
      "test_4713.txt\n",
      "test_4714.txt\n",
      "test_4715.txt\n",
      "test_4716.txt\n"
     ]
    },
    {
     "name": "stderr",
     "output_type": "stream",
     "text": [
      "\r",
      " 19%|███████                              | 4717/24526 [01:20<05:39, 58.37it/s]"
     ]
    },
    {
     "name": "stdout",
     "output_type": "stream",
     "text": [
      "test_4717.txt\n",
      "test_4718.txt\n",
      "test_4719.txt\n",
      "test_4720.txt\n",
      "test_4721.txt\n",
      "test_4722.txt\n"
     ]
    },
    {
     "name": "stderr",
     "output_type": "stream",
     "text": [
      "\r",
      " 19%|███████▏                             | 4723/24526 [01:20<05:39, 58.36it/s]"
     ]
    },
    {
     "name": "stdout",
     "output_type": "stream",
     "text": [
      "test_4723.txt\n",
      "test_4724.txt\n",
      "test_4725.txt\n",
      "test_4726.txt\n",
      "test_4727.txt\n",
      "test_4728.txt\n"
     ]
    },
    {
     "name": "stderr",
     "output_type": "stream",
     "text": [
      "\r",
      " 19%|███████▏                             | 4729/24526 [01:21<05:39, 58.36it/s]"
     ]
    },
    {
     "name": "stdout",
     "output_type": "stream",
     "text": [
      "test_4729.txt\n",
      "test_4730.txt\n",
      "test_4731.txt\n",
      "test_4732.txt\n",
      "test_4733.txt\n",
      "test_4734.txt\n"
     ]
    },
    {
     "name": "stderr",
     "output_type": "stream",
     "text": [
      "\r",
      " 19%|███████▏                             | 4735/24526 [01:21<05:39, 58.35it/s]"
     ]
    },
    {
     "name": "stdout",
     "output_type": "stream",
     "text": [
      "test_4735.txt\n",
      "test_4736.txt\n",
      "test_4737.txt\n",
      "test_4738.txt\n",
      "test_4739.txt\n",
      "test_4740.txt\n"
     ]
    },
    {
     "name": "stderr",
     "output_type": "stream",
     "text": [
      "\r",
      " 19%|███████▏                             | 4741/24526 [01:21<05:39, 58.35it/s]"
     ]
    },
    {
     "name": "stdout",
     "output_type": "stream",
     "text": [
      "test_4741.txt\n",
      "test_4742.txt\n",
      "test_4743.txt\n",
      "test_4744.txt\n",
      "test_4745.txt\n",
      "test_4746.txt\n",
      "test_4747.txt\n"
     ]
    },
    {
     "name": "stderr",
     "output_type": "stream",
     "text": [
      "\r",
      " 19%|███████▏                             | 4748/24526 [01:21<05:38, 58.36it/s]"
     ]
    },
    {
     "name": "stdout",
     "output_type": "stream",
     "text": [
      "test_4748.txt\n",
      "test_4749.txt\n",
      "test_4750.txt\n",
      "test_4751.txt\n",
      "test_4752.txt\n",
      "test_4753.txt\n"
     ]
    },
    {
     "name": "stderr",
     "output_type": "stream",
     "text": [
      "\r",
      " 19%|███████▏                             | 4754/24526 [01:21<05:38, 58.34it/s]"
     ]
    },
    {
     "name": "stdout",
     "output_type": "stream",
     "text": [
      "test_4754.txt\n",
      "test_4755.txt\n",
      "test_4756.txt\n",
      "test_4757.txt\n",
      "test_4758.txt\n",
      "test_4759.txt\n"
     ]
    },
    {
     "name": "stderr",
     "output_type": "stream",
     "text": [
      "\r",
      " 19%|███████▏                             | 4760/24526 [01:21<05:38, 58.34it/s]"
     ]
    },
    {
     "name": "stdout",
     "output_type": "stream",
     "text": [
      "test_4760.txt\n",
      "test_4761.txt\n",
      "test_4762.txt\n",
      "test_4763.txt\n",
      "test_4764.txt\n",
      "test_4765.txt\n"
     ]
    },
    {
     "name": "stderr",
     "output_type": "stream",
     "text": [
      "\r",
      " 19%|███████▏                             | 4766/24526 [01:21<05:38, 58.34it/s]"
     ]
    },
    {
     "name": "stdout",
     "output_type": "stream",
     "text": [
      "test_4766.txt\n",
      "test_4767.txt\n",
      "test_4768.txt\n",
      "test_4769.txt\n",
      "test_4770.txt\n",
      "test_4771.txt\n",
      "test_4772.txt\n",
      "test_4773.txt\n"
     ]
    },
    {
     "name": "stderr",
     "output_type": "stream",
     "text": [
      "\r",
      " 19%|███████▏                             | 4774/24526 [01:21<05:38, 58.36it/s]"
     ]
    },
    {
     "name": "stdout",
     "output_type": "stream",
     "text": [
      "test_4774.txt\n",
      "test_4775.txt\n",
      "test_4776.txt\n",
      "test_4777.txt\n",
      "test_4778.txt\n",
      "test_4779.txt\n",
      "test_4780.txt\n"
     ]
    },
    {
     "name": "stderr",
     "output_type": "stream",
     "text": [
      "\r",
      " 19%|███████▏                             | 4781/24526 [01:21<05:38, 58.37it/s]"
     ]
    },
    {
     "name": "stdout",
     "output_type": "stream",
     "text": [
      "test_4781.txt\n",
      "test_4782.txt\n",
      "test_4783.txt\n",
      "test_4784.txt\n",
      "test_4785.txt\n",
      "test_4786.txt\n",
      "test_4787.txt\n"
     ]
    },
    {
     "name": "stderr",
     "output_type": "stream",
     "text": [
      "\r",
      " 20%|███████▏                             | 4788/24526 [01:22<05:38, 58.38it/s]"
     ]
    },
    {
     "name": "stdout",
     "output_type": "stream",
     "text": [
      "test_4788.txt\n",
      "test_4789.txt\n",
      "test_4790.txt\n",
      "test_4791.txt\n",
      "test_4792.txt\n",
      "test_4793.txt\n",
      "test_4794.txt\n",
      "test_4795.txt\n",
      "test_4796.txt\n"
     ]
    },
    {
     "name": "stderr",
     "output_type": "stream",
     "text": [
      "\r",
      " 20%|███████▏                             | 4797/24526 [01:22<05:37, 58.41it/s]"
     ]
    },
    {
     "name": "stdout",
     "output_type": "stream",
     "text": [
      "test_4797.txt\n",
      "test_4798.txt\n",
      "test_4799.txt\n",
      "test_4800.txt\n",
      "test_4801.txt\n",
      "test_4802.txt\n",
      "test_4803.txt\n"
     ]
    },
    {
     "name": "stderr",
     "output_type": "stream",
     "text": [
      "\r",
      " 20%|███████▏                             | 4804/24526 [01:22<05:37, 58.40it/s]"
     ]
    },
    {
     "name": "stdout",
     "output_type": "stream",
     "text": [
      "test_4804.txt\n",
      "test_4805.txt\n",
      "test_4806.txt\n",
      "test_4807.txt\n",
      "test_4808.txt\n",
      "test_4809.txt\n",
      "test_4810.txt\n",
      "test_4811.txt\n"
     ]
    },
    {
     "name": "stderr",
     "output_type": "stream",
     "text": [
      "\r",
      " 20%|███████▎                             | 4812/24526 [01:22<05:37, 58.42it/s]"
     ]
    },
    {
     "name": "stdout",
     "output_type": "stream",
     "text": [
      "test_4812.txt\n",
      "test_4813.txt\n",
      "test_4814.txt\n",
      "test_4815.txt\n",
      "test_4816.txt\n",
      "test_4817.txt\n",
      "test_4818.txt\n"
     ]
    },
    {
     "name": "stderr",
     "output_type": "stream",
     "text": [
      "\r",
      " 20%|███████▎                             | 4819/24526 [01:22<05:37, 58.43it/s]"
     ]
    },
    {
     "name": "stdout",
     "output_type": "stream",
     "text": [
      "test_4819.txt\n",
      "test_4820.txt\n",
      "test_4821.txt\n",
      "test_4822.txt\n",
      "test_4823.txt\n",
      "test_4824.txt\n",
      "test_4825.txt\n"
     ]
    },
    {
     "name": "stderr",
     "output_type": "stream",
     "text": [
      "\r",
      " 20%|███████▎                             | 4826/24526 [01:22<05:37, 58.43it/s]"
     ]
    },
    {
     "name": "stdout",
     "output_type": "stream",
     "text": [
      "test_4826.txt\n",
      "test_4827.txt\n",
      "test_4828.txt\n",
      "test_4829.txt\n",
      "test_4830.txt\n",
      "test_4831.txt\n",
      "test_4832.txt\n"
     ]
    },
    {
     "name": "stderr",
     "output_type": "stream",
     "text": [
      "\r",
      " 20%|███████▎                             | 4833/24526 [01:22<05:37, 58.43it/s]"
     ]
    },
    {
     "name": "stdout",
     "output_type": "stream",
     "text": [
      "test_4833.txt\n",
      "test_4834.txt\n",
      "test_4835.txt\n",
      "test_4836.txt\n",
      "test_4837.txt\n",
      "test_4838.txt\n",
      "test_4839.txt\n"
     ]
    },
    {
     "name": "stderr",
     "output_type": "stream",
     "text": [
      "\r",
      " 20%|███████▎                             | 4840/24526 [01:22<05:36, 58.43it/s]"
     ]
    },
    {
     "name": "stdout",
     "output_type": "stream",
     "text": [
      "test_4840.txt\n",
      "test_4841.txt\n",
      "test_4842.txt\n",
      "test_4843.txt\n",
      "test_4844.txt\n",
      "test_4845.txt\n",
      "test_4846.txt\n"
     ]
    },
    {
     "name": "stderr",
     "output_type": "stream",
     "text": [
      "\r",
      " 20%|███████▎                             | 4847/24526 [01:22<05:36, 58.44it/s]"
     ]
    },
    {
     "name": "stdout",
     "output_type": "stream",
     "text": [
      "test_4847.txt\n",
      "test_4848.txt\n",
      "test_4849.txt\n",
      "test_4850.txt\n",
      "test_4851.txt\n",
      "test_4852.txt\n",
      "test_4853.txt\n"
     ]
    },
    {
     "name": "stderr",
     "output_type": "stream",
     "text": [
      "\r",
      " 20%|███████▎                             | 4854/24526 [01:23<05:36, 58.43it/s]"
     ]
    },
    {
     "name": "stdout",
     "output_type": "stream",
     "text": [
      "test_4854.txt\n",
      "test_4855.txt\n",
      "test_4856.txt\n",
      "test_4857.txt\n",
      "test_4858.txt\n",
      "test_4859.txt\n",
      "test_4860.txt\n"
     ]
    },
    {
     "name": "stderr",
     "output_type": "stream",
     "text": [
      "\r",
      " 20%|███████▎                             | 4861/24526 [01:23<05:36, 58.43it/s]"
     ]
    },
    {
     "name": "stdout",
     "output_type": "stream",
     "text": [
      "test_4861.txt\n",
      "test_4862.txt\n",
      "test_4863.txt\n",
      "test_4864.txt\n",
      "test_4865.txt\n",
      "test_4866.txt\n",
      "test_4867.txt\n",
      "test_4868.txt\n",
      "test_4869.txt\n"
     ]
    },
    {
     "name": "stderr",
     "output_type": "stream",
     "text": [
      "\r",
      " 20%|███████▎                             | 4870/24526 [01:23<05:36, 58.46it/s]"
     ]
    },
    {
     "name": "stdout",
     "output_type": "stream",
     "text": [
      "test_4870.txt\n",
      "test_4871.txt\n",
      "test_4872.txt\n",
      "test_4873.txt\n",
      "test_4874.txt\n",
      "test_4875.txt\n",
      "test_4876.txt\n"
     ]
    },
    {
     "name": "stderr",
     "output_type": "stream",
     "text": [
      "\r",
      " 20%|███████▎                             | 4877/24526 [01:23<05:36, 58.47it/s]"
     ]
    },
    {
     "name": "stdout",
     "output_type": "stream",
     "text": [
      "test_4877.txt\n",
      "test_4878.txt\n",
      "test_4879.txt\n",
      "test_4880.txt\n",
      "test_4881.txt\n",
      "test_4882.txt\n",
      "test_4883.txt\n",
      "test_4884.txt\n",
      "test_4885.txt\n"
     ]
    },
    {
     "name": "stderr",
     "output_type": "stream",
     "text": [
      "\r",
      " 20%|███████▎                             | 4886/24526 [01:23<05:35, 58.50it/s]"
     ]
    },
    {
     "name": "stdout",
     "output_type": "stream",
     "text": [
      "test_4886.txt\n",
      "test_4887.txt\n",
      "test_4888.txt\n",
      "test_4889.txt\n",
      "test_4890.txt\n",
      "test_4891.txt\n",
      "test_4892.txt\n"
     ]
    },
    {
     "name": "stderr",
     "output_type": "stream",
     "text": [
      "\r",
      " 20%|███████▍                             | 4893/24526 [01:23<05:35, 58.47it/s]"
     ]
    },
    {
     "name": "stdout",
     "output_type": "stream",
     "text": [
      "test_4893.txt\n",
      "test_4894.txt\n",
      "test_4895.txt\n",
      "test_4896.txt\n",
      "test_4897.txt\n",
      "test_4898.txt\n",
      "test_4899.txt\n"
     ]
    },
    {
     "name": "stderr",
     "output_type": "stream",
     "text": [
      "\r",
      " 20%|███████▍                             | 4900/24526 [01:23<05:35, 58.48it/s]"
     ]
    },
    {
     "name": "stdout",
     "output_type": "stream",
     "text": [
      "test_4900.txt\n",
      "test_4901.txt\n",
      "test_4902.txt\n",
      "test_4903.txt\n",
      "test_4904.txt\n",
      "test_4905.txt\n",
      "test_4906.txt\n",
      "test_4907.txt\n"
     ]
    },
    {
     "name": "stderr",
     "output_type": "stream",
     "text": [
      "\r",
      " 20%|███████▍                             | 4908/24526 [01:23<05:35, 58.49it/s]"
     ]
    },
    {
     "name": "stdout",
     "output_type": "stream",
     "text": [
      "test_4908.txt\n",
      "test_4909.txt\n",
      "test_4910.txt\n",
      "test_4911.txt\n",
      "test_4912.txt\n",
      "test_4913.txt\n",
      "test_4914.txt\n"
     ]
    },
    {
     "name": "stderr",
     "output_type": "stream",
     "text": [
      "\r",
      " 20%|███████▍                             | 4915/24526 [01:24<05:35, 58.48it/s]"
     ]
    },
    {
     "name": "stdout",
     "output_type": "stream",
     "text": [
      "test_4915.txt\n",
      "test_4916.txt\n",
      "test_4917.txt\n",
      "test_4918.txt\n",
      "test_4919.txt\n",
      "test_4920.txt\n",
      "test_4921.txt\n",
      "test_4922.txt\n"
     ]
    },
    {
     "name": "stderr",
     "output_type": "stream",
     "text": [
      "\r",
      " 20%|███████▍                             | 4923/24526 [01:24<05:35, 58.50it/s]"
     ]
    },
    {
     "name": "stdout",
     "output_type": "stream",
     "text": [
      "test_4923.txt\n",
      "test_4924.txt\n",
      "test_4925.txt\n",
      "test_4926.txt\n",
      "test_4927.txt\n",
      "test_4928.txt\n",
      "test_4929.txt\n"
     ]
    },
    {
     "name": "stderr",
     "output_type": "stream",
     "text": [
      "\r",
      " 20%|███████▍                             | 4930/24526 [01:24<05:35, 58.46it/s]"
     ]
    },
    {
     "name": "stdout",
     "output_type": "stream",
     "text": [
      "test_4930.txt\n",
      "test_4931.txt\n",
      "test_4932.txt\n",
      "test_4933.txt\n",
      "test_4934.txt\n",
      "test_4935.txt\n"
     ]
    },
    {
     "name": "stderr",
     "output_type": "stream",
     "text": [
      "\r",
      " 20%|███████▍                             | 4936/24526 [01:24<05:35, 58.44it/s]"
     ]
    },
    {
     "name": "stdout",
     "output_type": "stream",
     "text": [
      "test_4936.txt\n",
      "test_4937.txt\n",
      "test_4938.txt\n",
      "test_4939.txt\n",
      "test_4940.txt\n",
      "test_4941.txt\n",
      "test_4942.txt\n",
      "test_4943.txt\n"
     ]
    },
    {
     "name": "stderr",
     "output_type": "stream",
     "text": [
      "\r",
      " 20%|███████▍                             | 4944/24526 [01:24<05:34, 58.47it/s]"
     ]
    },
    {
     "name": "stdout",
     "output_type": "stream",
     "text": [
      "test_4944.txt\n",
      "test_4945.txt\n",
      "test_4946.txt\n",
      "test_4947.txt\n",
      "test_4948.txt\n",
      "test_4949.txt\n",
      "test_4950.txt\n",
      "test_4951.txt\n",
      "test_4952.txt\n"
     ]
    },
    {
     "name": "stderr",
     "output_type": "stream",
     "text": [
      "\r",
      " 20%|███████▍                             | 4953/24526 [01:24<05:34, 58.50it/s]"
     ]
    },
    {
     "name": "stdout",
     "output_type": "stream",
     "text": [
      "test_4953.txt\n",
      "test_4954.txt\n",
      "test_4955.txt\n",
      "test_4956.txt\n",
      "test_4957.txt\n",
      "test_4958.txt\n",
      "test_4959.txt\n"
     ]
    },
    {
     "name": "stderr",
     "output_type": "stream",
     "text": [
      "\r",
      " 20%|███████▍                             | 4960/24526 [01:24<05:34, 58.51it/s]"
     ]
    },
    {
     "name": "stdout",
     "output_type": "stream",
     "text": [
      "test_4960.txt\n",
      "test_4961.txt\n",
      "test_4962.txt\n",
      "test_4963.txt\n",
      "test_4964.txt\n",
      "test_4965.txt\n",
      "test_4966.txt\n"
     ]
    },
    {
     "name": "stderr",
     "output_type": "stream",
     "text": [
      "\r",
      " 20%|███████▍                             | 4967/24526 [01:24<05:34, 58.51it/s]"
     ]
    },
    {
     "name": "stdout",
     "output_type": "stream",
     "text": [
      "test_4967.txt\n",
      "test_4968.txt\n",
      "test_4969.txt\n",
      "test_4970.txt\n",
      "test_4971.txt\n",
      "test_4972.txt\n",
      "test_4973.txt\n"
     ]
    },
    {
     "name": "stderr",
     "output_type": "stream",
     "text": [
      "\r",
      " 20%|███████▌                             | 4974/24526 [01:24<05:34, 58.52it/s]"
     ]
    },
    {
     "name": "stdout",
     "output_type": "stream",
     "text": [
      "test_4974.txt\n",
      "test_4975.txt\n",
      "test_4976.txt\n",
      "test_4977.txt\n",
      "test_4978.txt\n",
      "test_4979.txt\n",
      "test_4980.txt\n",
      "test_4981.txt\n"
     ]
    },
    {
     "name": "stderr",
     "output_type": "stream",
     "text": [
      "\r",
      " 20%|███████▌                             | 4982/24526 [01:25<05:33, 58.53it/s]"
     ]
    },
    {
     "name": "stdout",
     "output_type": "stream",
     "text": [
      "test_4982.txt\n",
      "test_4983.txt\n",
      "test_4984.txt\n",
      "test_4985.txt\n",
      "test_4986.txt\n",
      "test_4987.txt\n",
      "test_4988.txt\n"
     ]
    },
    {
     "name": "stderr",
     "output_type": "stream",
     "text": [
      "\r",
      " 20%|███████▌                             | 4989/24526 [01:25<05:33, 58.54it/s]"
     ]
    },
    {
     "name": "stdout",
     "output_type": "stream",
     "text": [
      "test_4989.txt\n",
      "test_4990.txt\n",
      "test_4991.txt\n",
      "test_4992.txt\n",
      "test_4993.txt\n",
      "test_4994.txt\n",
      "test_4995.txt\n"
     ]
    },
    {
     "name": "stderr",
     "output_type": "stream",
     "text": [
      "\r",
      " 20%|███████▌                             | 4996/24526 [01:25<05:33, 58.53it/s]"
     ]
    },
    {
     "name": "stdout",
     "output_type": "stream",
     "text": [
      "test_4996.txt\n",
      "test_4997.txt\n",
      "test_4998.txt\n",
      "test_4999.txt\n",
      "test_5000.txt\n",
      "test_5001.txt\n",
      "test_5002.txt\n"
     ]
    },
    {
     "name": "stderr",
     "output_type": "stream",
     "text": [
      "\r",
      " 20%|███████▌                             | 5003/24526 [01:25<05:33, 58.53it/s]"
     ]
    },
    {
     "name": "stdout",
     "output_type": "stream",
     "text": [
      "test_5003.txt\n",
      "test_5004.txt\n",
      "test_5005.txt\n",
      "test_5006.txt\n",
      "test_5007.txt\n",
      "test_5008.txt\n",
      "test_5009.txt\n"
     ]
    },
    {
     "name": "stderr",
     "output_type": "stream",
     "text": [
      "\r",
      " 20%|███████▌                             | 5010/24526 [01:25<05:33, 58.54it/s]"
     ]
    },
    {
     "name": "stdout",
     "output_type": "stream",
     "text": [
      "test_5010.txt\n",
      "test_5011.txt\n",
      "test_5012.txt\n",
      "test_5013.txt\n",
      "test_5014.txt\n",
      "test_5015.txt\n",
      "test_5016.txt\n"
     ]
    },
    {
     "name": "stderr",
     "output_type": "stream",
     "text": [
      "\r",
      " 20%|███████▌                             | 5017/24526 [01:25<05:33, 58.54it/s]"
     ]
    },
    {
     "name": "stdout",
     "output_type": "stream",
     "text": [
      "test_5017.txt\n",
      "test_5018.txt\n",
      "test_5019.txt\n",
      "test_5020.txt\n",
      "test_5021.txt\n",
      "test_5022.txt\n",
      "test_5023.txt\n"
     ]
    },
    {
     "name": "stderr",
     "output_type": "stream",
     "text": [
      "\r",
      " 20%|███████▌                             | 5024/24526 [01:25<05:33, 58.54it/s]"
     ]
    },
    {
     "name": "stdout",
     "output_type": "stream",
     "text": [
      "test_5024.txt\n",
      "test_5025.txt\n",
      "test_5026.txt\n",
      "test_5027.txt\n",
      "test_5028.txt\n",
      "test_5029.txt\n",
      "test_5030.txt\n"
     ]
    },
    {
     "name": "stderr",
     "output_type": "stream",
     "text": [
      "\r",
      " 21%|███████▌                             | 5031/24526 [01:25<05:33, 58.53it/s]"
     ]
    },
    {
     "name": "stdout",
     "output_type": "stream",
     "text": [
      "test_5031.txt\n",
      "test_5032.txt\n",
      "test_5033.txt\n",
      "test_5034.txt\n",
      "test_5035.txt\n",
      "test_5036.txt\n"
     ]
    },
    {
     "name": "stderr",
     "output_type": "stream",
     "text": [
      "\r",
      " 21%|███████▌                             | 5037/24526 [01:26<05:33, 58.52it/s]"
     ]
    },
    {
     "name": "stdout",
     "output_type": "stream",
     "text": [
      "test_5037.txt\n",
      "test_5038.txt\n",
      "test_5039.txt\n",
      "test_5040.txt\n",
      "test_5041.txt\n",
      "test_5042.txt\n"
     ]
    },
    {
     "name": "stderr",
     "output_type": "stream",
     "text": [
      "\r",
      " 21%|███████▌                             | 5043/24526 [01:26<05:32, 58.51it/s]"
     ]
    },
    {
     "name": "stdout",
     "output_type": "stream",
     "text": [
      "test_5043.txt\n",
      "test_5044.txt\n",
      "test_5045.txt\n",
      "test_5046.txt\n",
      "test_5047.txt\n",
      "test_5048.txt\n",
      "test_5049.txt\n"
     ]
    },
    {
     "name": "stderr",
     "output_type": "stream",
     "text": [
      "\r",
      " 21%|███████▌                             | 5050/24526 [01:26<05:32, 58.52it/s]"
     ]
    },
    {
     "name": "stdout",
     "output_type": "stream",
     "text": [
      "test_5050.txt\n",
      "test_5051.txt\n",
      "test_5052.txt\n",
      "test_5053.txt\n",
      "test_5054.txt\n",
      "test_5055.txt\n"
     ]
    },
    {
     "name": "stderr",
     "output_type": "stream",
     "text": [
      "\r",
      " 21%|███████▋                             | 5056/24526 [01:26<05:32, 58.51it/s]"
     ]
    },
    {
     "name": "stdout",
     "output_type": "stream",
     "text": [
      "test_5056.txt\n",
      "test_5057.txt\n",
      "test_5058.txt\n",
      "test_5059.txt\n",
      "test_5060.txt\n",
      "test_5061.txt\n",
      "test_5062.txt\n",
      "test_5063.txt\n",
      "test_5064.txt\n"
     ]
    },
    {
     "name": "stderr",
     "output_type": "stream",
     "text": [
      "\r",
      " 21%|███████▋                             | 5065/24526 [01:26<05:32, 58.53it/s]"
     ]
    },
    {
     "name": "stdout",
     "output_type": "stream",
     "text": [
      "test_5065.txt\n",
      "test_5066.txt\n",
      "test_5067.txt\n",
      "test_5068.txt\n",
      "test_5069.txt\n",
      "test_5070.txt\n",
      "test_5071.txt\n"
     ]
    },
    {
     "name": "stderr",
     "output_type": "stream",
     "text": [
      "\r",
      " 21%|███████▋                             | 5072/24526 [01:26<05:32, 58.53it/s]"
     ]
    },
    {
     "name": "stdout",
     "output_type": "stream",
     "text": [
      "test_5072.txt\n",
      "test_5073.txt\n",
      "test_5074.txt\n",
      "test_5075.txt\n",
      "test_5076.txt\n",
      "test_5077.txt\n"
     ]
    },
    {
     "name": "stderr",
     "output_type": "stream",
     "text": [
      "\r",
      " 21%|███████▋                             | 5078/24526 [01:26<05:32, 58.52it/s]"
     ]
    },
    {
     "name": "stdout",
     "output_type": "stream",
     "text": [
      "test_5078.txt\n",
      "test_5079.txt\n",
      "test_5080.txt\n",
      "test_5081.txt\n",
      "test_5082.txt\n",
      "test_5083.txt\n",
      "test_5084.txt\n"
     ]
    },
    {
     "name": "stderr",
     "output_type": "stream",
     "text": [
      "\r",
      " 21%|███████▋                             | 5085/24526 [01:26<05:32, 58.54it/s]"
     ]
    },
    {
     "name": "stdout",
     "output_type": "stream",
     "text": [
      "test_5085.txt\n",
      "test_5086.txt\n",
      "test_5087.txt\n",
      "test_5088.txt\n",
      "test_5089.txt\n",
      "test_5090.txt\n",
      "test_5091.txt\n"
     ]
    },
    {
     "name": "stderr",
     "output_type": "stream",
     "text": [
      "\r",
      " 21%|███████▋                             | 5092/24526 [01:26<05:32, 58.53it/s]"
     ]
    },
    {
     "name": "stdout",
     "output_type": "stream",
     "text": [
      "test_5092.txt\n",
      "test_5093.txt\n",
      "test_5094.txt\n",
      "test_5095.txt\n",
      "test_5096.txt\n",
      "test_5097.txt\n"
     ]
    },
    {
     "name": "stderr",
     "output_type": "stream",
     "text": [
      "\r",
      " 21%|███████▋                             | 5098/24526 [01:27<05:31, 58.52it/s]"
     ]
    },
    {
     "name": "stdout",
     "output_type": "stream",
     "text": [
      "test_5098.txt\n",
      "test_5099.txt\n",
      "test_5100.txt\n",
      "test_5101.txt\n",
      "test_5102.txt\n",
      "test_5103.txt\n",
      "test_5104.txt\n"
     ]
    },
    {
     "name": "stderr",
     "output_type": "stream",
     "text": [
      "\r",
      " 21%|███████▋                             | 5105/24526 [01:27<05:31, 58.53it/s]"
     ]
    },
    {
     "name": "stdout",
     "output_type": "stream",
     "text": [
      "test_5105.txt\n",
      "test_5106.txt\n",
      "test_5107.txt\n",
      "test_5108.txt\n",
      "test_5109.txt\n",
      "test_5110.txt\n"
     ]
    },
    {
     "name": "stderr",
     "output_type": "stream",
     "text": [
      "\r",
      " 21%|███████▋                             | 5111/24526 [01:27<05:31, 58.53it/s]"
     ]
    },
    {
     "name": "stdout",
     "output_type": "stream",
     "text": [
      "test_5111.txt\n",
      "test_5112.txt\n",
      "test_5113.txt\n",
      "test_5114.txt\n",
      "test_5115.txt\n",
      "test_5116.txt\n"
     ]
    },
    {
     "name": "stderr",
     "output_type": "stream",
     "text": [
      "\r",
      " 21%|███████▋                             | 5117/24526 [01:27<05:31, 58.51it/s]"
     ]
    },
    {
     "name": "stdout",
     "output_type": "stream",
     "text": [
      "test_5117.txt\n",
      "test_5118.txt\n",
      "test_5119.txt\n",
      "test_5120.txt\n",
      "test_5121.txt\n",
      "test_5122.txt\n"
     ]
    },
    {
     "name": "stderr",
     "output_type": "stream",
     "text": [
      "\r",
      " 21%|███████▋                             | 5123/24526 [01:27<05:31, 58.51it/s]"
     ]
    },
    {
     "name": "stdout",
     "output_type": "stream",
     "text": [
      "test_5123.txt\n",
      "test_5124.txt\n",
      "test_5125.txt\n",
      "test_5126.txt\n",
      "test_5127.txt\n",
      "test_5128.txt\n",
      "test_5129.txt\n"
     ]
    },
    {
     "name": "stderr",
     "output_type": "stream",
     "text": [
      "\r",
      " 21%|███████▋                             | 5130/24526 [01:27<05:31, 58.52it/s]"
     ]
    },
    {
     "name": "stdout",
     "output_type": "stream",
     "text": [
      "test_5130.txt\n",
      "test_5131.txt\n",
      "test_5132.txt\n",
      "test_5133.txt\n",
      "test_5134.txt\n",
      "test_5135.txt\n"
     ]
    },
    {
     "name": "stderr",
     "output_type": "stream",
     "text": [
      "\r",
      " 21%|███████▋                             | 5136/24526 [01:27<05:31, 58.51it/s]"
     ]
    },
    {
     "name": "stdout",
     "output_type": "stream",
     "text": [
      "test_5136.txt\n",
      "test_5137.txt\n",
      "test_5138.txt\n",
      "test_5139.txt\n",
      "test_5140.txt\n",
      "test_5141.txt\n",
      "test_5142.txt\n"
     ]
    },
    {
     "name": "stderr",
     "output_type": "stream",
     "text": [
      "\r",
      " 21%|███████▊                             | 5143/24526 [01:27<05:31, 58.52it/s]"
     ]
    },
    {
     "name": "stdout",
     "output_type": "stream",
     "text": [
      "test_5143.txt\n",
      "test_5144.txt\n",
      "test_5145.txt\n",
      "test_5146.txt\n",
      "test_5147.txt\n",
      "test_5148.txt\n"
     ]
    },
    {
     "name": "stderr",
     "output_type": "stream",
     "text": [
      "\r",
      " 21%|███████▊                             | 5149/24526 [01:28<05:31, 58.50it/s]"
     ]
    },
    {
     "name": "stdout",
     "output_type": "stream",
     "text": [
      "test_5149.txt\n",
      "test_5150.txt\n",
      "test_5151.txt\n",
      "test_5152.txt\n",
      "test_5153.txt\n",
      "test_5154.txt\n",
      "test_5155.txt\n",
      "test_5156.txt\n"
     ]
    },
    {
     "name": "stderr",
     "output_type": "stream",
     "text": [
      "\r",
      " 21%|███████▊                             | 5157/24526 [01:28<05:30, 58.52it/s]"
     ]
    },
    {
     "name": "stdout",
     "output_type": "stream",
     "text": [
      "test_5157.txt\n",
      "test_5158.txt\n",
      "test_5159.txt\n",
      "test_5160.txt\n",
      "test_5161.txt\n",
      "test_5162.txt\n",
      "test_5163.txt\n"
     ]
    },
    {
     "name": "stderr",
     "output_type": "stream",
     "text": [
      "\r",
      " 21%|███████▊                             | 5164/24526 [01:28<05:31, 58.49it/s]"
     ]
    },
    {
     "name": "stdout",
     "output_type": "stream",
     "text": [
      "test_5164.txt\n",
      "test_5165.txt\n",
      "test_5166.txt\n",
      "test_5167.txt\n",
      "test_5168.txt\n",
      "test_5169.txt\n"
     ]
    },
    {
     "name": "stderr",
     "output_type": "stream",
     "text": [
      "\r",
      " 21%|███████▊                             | 5170/24526 [01:28<05:30, 58.48it/s]"
     ]
    },
    {
     "name": "stdout",
     "output_type": "stream",
     "text": [
      "test_5170.txt\n",
      "test_5171.txt\n",
      "test_5172.txt\n",
      "test_5173.txt\n",
      "test_5174.txt\n",
      "test_5175.txt\n"
     ]
    },
    {
     "name": "stderr",
     "output_type": "stream",
     "text": [
      "\r",
      " 21%|███████▊                             | 5176/24526 [01:28<05:30, 58.46it/s]"
     ]
    },
    {
     "name": "stdout",
     "output_type": "stream",
     "text": [
      "test_5176.txt\n",
      "test_5177.txt\n",
      "test_5178.txt\n",
      "test_5179.txt\n",
      "test_5180.txt\n",
      "test_5181.txt\n",
      "test_5182.txt\n",
      "test_5183.txt\n",
      "test_5184.txt\n"
     ]
    },
    {
     "name": "stderr",
     "output_type": "stream",
     "text": [
      "\r",
      " 21%|███████▊                             | 5185/24526 [01:28<05:30, 58.49it/s]"
     ]
    },
    {
     "name": "stdout",
     "output_type": "stream",
     "text": [
      "test_5185.txt\n",
      "test_5186.txt\n",
      "test_5187.txt\n",
      "test_5188.txt\n",
      "test_5189.txt\n",
      "test_5190.txt\n"
     ]
    },
    {
     "name": "stderr",
     "output_type": "stream",
     "text": [
      "\r",
      " 21%|███████▊                             | 5191/24526 [01:28<05:30, 58.48it/s]"
     ]
    },
    {
     "name": "stdout",
     "output_type": "stream",
     "text": [
      "test_5191.txt\n",
      "test_5192.txt\n",
      "test_5193.txt\n",
      "test_5194.txt\n",
      "test_5195.txt\n",
      "test_5196.txt\n"
     ]
    },
    {
     "name": "stderr",
     "output_type": "stream",
     "text": [
      "\r",
      " 21%|███████▊                             | 5197/24526 [01:28<05:30, 58.48it/s]"
     ]
    },
    {
     "name": "stdout",
     "output_type": "stream",
     "text": [
      "test_5197.txt\n",
      "test_5198.txt\n",
      "test_5199.txt\n",
      "test_5200.txt\n",
      "test_5201.txt\n",
      "test_5202.txt\n",
      "test_5203.txt\n",
      "test_5204.txt\n",
      "test_5205.txt\n"
     ]
    },
    {
     "name": "stderr",
     "output_type": "stream",
     "text": [
      "\r",
      " 21%|███████▊                             | 5206/24526 [01:28<05:30, 58.51it/s]"
     ]
    },
    {
     "name": "stdout",
     "output_type": "stream",
     "text": [
      "test_5206.txt\n",
      "test_5207.txt\n",
      "test_5208.txt\n",
      "test_5209.txt\n",
      "test_5210.txt\n",
      "test_5211.txt\n",
      "test_5212.txt\n"
     ]
    },
    {
     "name": "stderr",
     "output_type": "stream",
     "text": [
      "\r",
      " 21%|███████▊                             | 5213/24526 [01:29<05:30, 58.50it/s]"
     ]
    },
    {
     "name": "stdout",
     "output_type": "stream",
     "text": [
      "test_5213.txt\n",
      "test_5214.txt\n",
      "test_5215.txt\n",
      "test_5216.txt\n",
      "test_5217.txt\n",
      "test_5218.txt\n",
      "test_5219.txt\n"
     ]
    },
    {
     "name": "stderr",
     "output_type": "stream",
     "text": [
      "\r",
      " 21%|███████▊                             | 5220/24526 [01:29<05:29, 58.51it/s]"
     ]
    },
    {
     "name": "stdout",
     "output_type": "stream",
     "text": [
      "test_5220.txt\n",
      "test_5221.txt\n",
      "test_5222.txt\n",
      "test_5223.txt\n",
      "test_5224.txt\n",
      "test_5225.txt\n",
      "test_5226.txt\n"
     ]
    },
    {
     "name": "stderr",
     "output_type": "stream",
     "text": [
      "\r",
      " 21%|███████▉                             | 5227/24526 [01:29<05:29, 58.52it/s]"
     ]
    },
    {
     "name": "stdout",
     "output_type": "stream",
     "text": [
      "test_5227.txt\n",
      "test_5228.txt\n",
      "test_5229.txt\n",
      "test_5230.txt\n",
      "test_5231.txt\n",
      "test_5232.txt\n",
      "test_5233.txt\n"
     ]
    },
    {
     "name": "stderr",
     "output_type": "stream",
     "text": [
      "\r",
      " 21%|███████▉                             | 5234/24526 [01:29<05:29, 58.50it/s]"
     ]
    },
    {
     "name": "stdout",
     "output_type": "stream",
     "text": [
      "test_5234.txt\n",
      "test_5235.txt\n",
      "test_5236.txt\n",
      "test_5237.txt\n",
      "test_5238.txt\n",
      "test_5239.txt\n",
      "test_5240.txt\n"
     ]
    },
    {
     "name": "stderr",
     "output_type": "stream",
     "text": [
      "\r",
      " 21%|███████▉                             | 5241/24526 [01:29<05:29, 58.51it/s]"
     ]
    },
    {
     "name": "stdout",
     "output_type": "stream",
     "text": [
      "test_5241.txt\n",
      "test_5242.txt\n",
      "test_5243.txt\n",
      "test_5244.txt\n",
      "test_5245.txt\n",
      "test_5246.txt\n",
      "test_5247.txt\n"
     ]
    },
    {
     "name": "stderr",
     "output_type": "stream",
     "text": [
      "\r",
      " 21%|███████▉                             | 5248/24526 [01:29<05:29, 58.52it/s]"
     ]
    },
    {
     "name": "stdout",
     "output_type": "stream",
     "text": [
      "test_5248.txt\n",
      "test_5249.txt\n",
      "test_5250.txt\n",
      "test_5251.txt\n",
      "test_5252.txt\n",
      "test_5253.txt\n",
      "test_5254.txt\n"
     ]
    },
    {
     "name": "stderr",
     "output_type": "stream",
     "text": [
      "\r",
      " 21%|███████▉                             | 5255/24526 [01:29<05:29, 58.53it/s]"
     ]
    },
    {
     "name": "stdout",
     "output_type": "stream",
     "text": [
      "test_5255.txt\n",
      "test_5256.txt\n",
      "test_5257.txt\n",
      "test_5258.txt\n",
      "test_5259.txt\n",
      "test_5260.txt\n",
      "test_5261.txt\n"
     ]
    },
    {
     "name": "stderr",
     "output_type": "stream",
     "text": [
      "\r",
      " 21%|███████▉                             | 5262/24526 [01:29<05:29, 58.52it/s]"
     ]
    },
    {
     "name": "stdout",
     "output_type": "stream",
     "text": [
      "test_5262.txt\n",
      "test_5263.txt\n",
      "test_5264.txt\n",
      "test_5265.txt\n",
      "test_5266.txt\n",
      "test_5267.txt\n",
      "test_5268.txt\n"
     ]
    },
    {
     "name": "stderr",
     "output_type": "stream",
     "text": [
      "\r",
      " 21%|███████▉                             | 5269/24526 [01:30<05:29, 58.53it/s]"
     ]
    },
    {
     "name": "stdout",
     "output_type": "stream",
     "text": [
      "test_5269.txt\n",
      "test_5270.txt\n",
      "test_5271.txt\n",
      "test_5272.txt\n",
      "test_5273.txt\n",
      "test_5274.txt\n",
      "test_5275.txt\n"
     ]
    },
    {
     "name": "stderr",
     "output_type": "stream",
     "text": [
      "\r",
      " 22%|███████▉                             | 5276/24526 [01:30<05:28, 58.52it/s]"
     ]
    },
    {
     "name": "stdout",
     "output_type": "stream",
     "text": [
      "test_5276.txt\n",
      "test_5277.txt\n",
      "test_5278.txt\n",
      "test_5279.txt\n",
      "test_5280.txt\n",
      "test_5281.txt\n"
     ]
    },
    {
     "name": "stderr",
     "output_type": "stream",
     "text": [
      "\r",
      " 22%|███████▉                             | 5282/24526 [01:30<05:28, 58.52it/s]"
     ]
    },
    {
     "name": "stdout",
     "output_type": "stream",
     "text": [
      "test_5282.txt\n",
      "test_5283.txt\n",
      "test_5284.txt\n",
      "test_5285.txt\n",
      "test_5286.txt\n",
      "test_5287.txt\n",
      "test_5288.txt\n",
      "test_5289.txt\n"
     ]
    },
    {
     "name": "stderr",
     "output_type": "stream",
     "text": [
      "\r",
      " 22%|███████▉                             | 5290/24526 [01:30<05:28, 58.54it/s]"
     ]
    },
    {
     "name": "stdout",
     "output_type": "stream",
     "text": [
      "test_5290.txt\n",
      "test_5291.txt\n",
      "test_5292.txt\n",
      "test_5293.txt\n",
      "test_5294.txt\n",
      "test_5295.txt\n",
      "test_5296.txt\n"
     ]
    },
    {
     "name": "stderr",
     "output_type": "stream",
     "text": [
      "\r",
      " 22%|███████▉                             | 5297/24526 [01:30<05:28, 58.53it/s]"
     ]
    },
    {
     "name": "stdout",
     "output_type": "stream",
     "text": [
      "test_5297.txt\n",
      "test_5298.txt\n",
      "test_5299.txt\n",
      "test_5300.txt\n",
      "test_5301.txt\n",
      "test_5302.txt\n",
      "test_5303.txt\n",
      "test_5304.txt\n"
     ]
    },
    {
     "name": "stderr",
     "output_type": "stream",
     "text": [
      "\r",
      " 22%|████████                             | 5305/24526 [01:30<05:28, 58.55it/s]"
     ]
    },
    {
     "name": "stdout",
     "output_type": "stream",
     "text": [
      "test_5305.txt\n",
      "test_5306.txt\n",
      "test_5307.txt\n",
      "test_5308.txt\n",
      "test_5309.txt\n",
      "test_5310.txt\n",
      "test_5311.txt\n"
     ]
    },
    {
     "name": "stderr",
     "output_type": "stream",
     "text": [
      "\r",
      " 22%|████████                             | 5312/24526 [01:30<05:28, 58.55it/s]"
     ]
    },
    {
     "name": "stdout",
     "output_type": "stream",
     "text": [
      "test_5312.txt\n",
      "test_5313.txt\n",
      "test_5314.txt\n",
      "test_5315.txt\n",
      "test_5316.txt\n",
      "test_5317.txt\n",
      "test_5318.txt\n"
     ]
    },
    {
     "name": "stderr",
     "output_type": "stream",
     "text": [
      "\r",
      " 22%|████████                             | 5319/24526 [01:30<05:27, 58.57it/s]"
     ]
    },
    {
     "name": "stdout",
     "output_type": "stream",
     "text": [
      "test_5319.txt\n",
      "test_5320.txt\n",
      "test_5321.txt\n",
      "test_5322.txt\n",
      "test_5323.txt\n",
      "test_5324.txt\n",
      "test_5325.txt\n",
      "test_5326.txt\n",
      "test_5327.txt\n",
      "test_5328.txt\n"
     ]
    },
    {
     "name": "stderr",
     "output_type": "stream",
     "text": [
      "\r",
      " 22%|████████                             | 5329/24526 [01:30<05:27, 58.60it/s]"
     ]
    },
    {
     "name": "stdout",
     "output_type": "stream",
     "text": [
      "test_5329.txt\n",
      "test_5330.txt\n",
      "test_5331.txt\n",
      "test_5332.txt\n",
      "test_5333.txt\n",
      "test_5334.txt\n",
      "test_5335.txt\n",
      "test_5336.txt\n"
     ]
    },
    {
     "name": "stderr",
     "output_type": "stream",
     "text": [
      "\r",
      " 22%|████████                             | 5337/24526 [01:31<05:27, 58.59it/s]"
     ]
    },
    {
     "name": "stdout",
     "output_type": "stream",
     "text": [
      "test_5337.txt\n",
      "test_5338.txt\n",
      "test_5339.txt\n",
      "test_5340.txt\n",
      "test_5341.txt\n",
      "test_5342.txt\n",
      "test_5343.txt\n",
      "test_5344.txt\n"
     ]
    },
    {
     "name": "stderr",
     "output_type": "stream",
     "text": [
      "\r",
      " 22%|████████                             | 5345/24526 [01:31<05:27, 58.60it/s]"
     ]
    },
    {
     "name": "stdout",
     "output_type": "stream",
     "text": [
      "test_5345.txt\n",
      "test_5346.txt\n",
      "test_5347.txt\n",
      "test_5348.txt\n",
      "test_5349.txt\n",
      "test_5350.txt\n",
      "test_5351.txt\n"
     ]
    },
    {
     "name": "stderr",
     "output_type": "stream",
     "text": [
      "\r",
      " 22%|████████                             | 5352/24526 [01:31<05:27, 58.58it/s]"
     ]
    },
    {
     "name": "stdout",
     "output_type": "stream",
     "text": [
      "test_5352.txt\n",
      "test_5353.txt\n",
      "test_5354.txt\n",
      "test_5355.txt\n",
      "test_5356.txt\n",
      "test_5357.txt\n",
      "test_5358.txt\n"
     ]
    },
    {
     "name": "stderr",
     "output_type": "stream",
     "text": [
      "\r",
      " 22%|████████                             | 5359/24526 [01:31<05:27, 58.58it/s]"
     ]
    },
    {
     "name": "stdout",
     "output_type": "stream",
     "text": [
      "test_5359.txt\n",
      "test_5360.txt\n",
      "test_5361.txt\n",
      "test_5362.txt\n",
      "test_5363.txt\n",
      "test_5364.txt\n"
     ]
    },
    {
     "name": "stderr",
     "output_type": "stream",
     "text": [
      "\r",
      " 22%|████████                             | 5365/24526 [01:31<05:27, 58.55it/s]"
     ]
    },
    {
     "name": "stdout",
     "output_type": "stream",
     "text": [
      "test_5365.txt\n",
      "test_5366.txt\n",
      "test_5367.txt\n",
      "test_5368.txt\n",
      "test_5369.txt\n",
      "test_5370.txt\n",
      "test_5371.txt\n",
      "test_5372.txt\n"
     ]
    },
    {
     "name": "stderr",
     "output_type": "stream",
     "text": [
      "\r",
      " 22%|████████                             | 5373/24526 [01:31<05:27, 58.57it/s]"
     ]
    },
    {
     "name": "stdout",
     "output_type": "stream",
     "text": [
      "test_5373.txt\n",
      "test_5374.txt\n",
      "test_5375.txt\n",
      "test_5376.txt\n",
      "test_5377.txt\n",
      "test_5378.txt\n",
      "test_5379.txt\n",
      "test_5380.txt\n",
      "test_5381.txt\n"
     ]
    },
    {
     "name": "stderr",
     "output_type": "stream",
     "text": [
      "\r",
      " 22%|████████                             | 5382/24526 [01:31<05:26, 58.58it/s]"
     ]
    },
    {
     "name": "stdout",
     "output_type": "stream",
     "text": [
      "test_5382.txt\n",
      "test_5383.txt\n",
      "test_5384.txt\n",
      "test_5385.txt\n",
      "test_5386.txt\n",
      "test_5387.txt\n",
      "test_5388.txt\n"
     ]
    },
    {
     "name": "stderr",
     "output_type": "stream",
     "text": [
      "\r",
      " 22%|████████▏                            | 5389/24526 [01:31<05:26, 58.59it/s]"
     ]
    },
    {
     "name": "stdout",
     "output_type": "stream",
     "text": [
      "test_5389.txt\n",
      "test_5390.txt\n",
      "test_5391.txt\n",
      "test_5392.txt\n",
      "test_5393.txt\n",
      "test_5394.txt\n",
      "test_5395.txt\n"
     ]
    },
    {
     "name": "stderr",
     "output_type": "stream",
     "text": [
      "\r",
      " 22%|████████▏                            | 5396/24526 [01:32<05:26, 58.59it/s]"
     ]
    },
    {
     "name": "stdout",
     "output_type": "stream",
     "text": [
      "test_5396.txt\n",
      "test_5397.txt\n",
      "test_5398.txt\n",
      "test_5399.txt\n",
      "test_5400.txt\n",
      "test_5401.txt\n",
      "test_5402.txt\n"
     ]
    },
    {
     "name": "stderr",
     "output_type": "stream",
     "text": [
      "\r",
      " 22%|████████▏                            | 5403/24526 [01:32<05:26, 58.57it/s]"
     ]
    },
    {
     "name": "stdout",
     "output_type": "stream",
     "text": [
      "test_5403.txt\n",
      "test_5404.txt\n",
      "test_5405.txt\n",
      "test_5406.txt\n",
      "test_5407.txt\n",
      "test_5408.txt\n",
      "test_5409.txt\n",
      "test_5410.txt\n",
      "test_5411.txt\n"
     ]
    },
    {
     "name": "stderr",
     "output_type": "stream",
     "text": [
      "\r",
      " 22%|████████▏                            | 5412/24526 [01:32<05:26, 58.59it/s]"
     ]
    },
    {
     "name": "stdout",
     "output_type": "stream",
     "text": [
      "test_5412.txt\n",
      "test_5413.txt\n",
      "test_5414.txt\n",
      "test_5415.txt\n",
      "test_5416.txt\n",
      "test_5417.txt\n",
      "test_5418.txt\n"
     ]
    },
    {
     "name": "stderr",
     "output_type": "stream",
     "text": [
      "\r",
      " 22%|████████▏                            | 5419/24526 [01:32<05:26, 58.56it/s]"
     ]
    },
    {
     "name": "stdout",
     "output_type": "stream",
     "text": [
      "test_5419.txt\n",
      "test_5420.txt\n",
      "test_5421.txt\n",
      "test_5422.txt\n",
      "test_5423.txt\n",
      "test_5424.txt\n",
      "test_5425.txt\n",
      "test_5426.txt\n"
     ]
    },
    {
     "name": "stderr",
     "output_type": "stream",
     "text": [
      "\r",
      " 22%|████████▏                            | 5427/24526 [01:32<05:26, 58.57it/s]"
     ]
    },
    {
     "name": "stdout",
     "output_type": "stream",
     "text": [
      "test_5427.txt\n",
      "test_5428.txt\n",
      "test_5429.txt\n",
      "test_5430.txt\n",
      "test_5431.txt\n",
      "test_5432.txt\n",
      "test_5433.txt\n"
     ]
    },
    {
     "name": "stderr",
     "output_type": "stream",
     "text": [
      "\r",
      " 22%|████████▏                            | 5434/24526 [01:32<05:25, 58.57it/s]"
     ]
    },
    {
     "name": "stdout",
     "output_type": "stream",
     "text": [
      "test_5434.txt\n",
      "test_5435.txt\n",
      "test_5436.txt\n",
      "test_5437.txt\n",
      "test_5438.txt\n",
      "test_5439.txt\n"
     ]
    },
    {
     "name": "stderr",
     "output_type": "stream",
     "text": [
      "\r",
      " 22%|████████▏                            | 5440/24526 [01:32<05:25, 58.56it/s]"
     ]
    },
    {
     "name": "stdout",
     "output_type": "stream",
     "text": [
      "test_5440.txt\n",
      "test_5441.txt\n",
      "test_5442.txt\n",
      "test_5443.txt\n",
      "test_5444.txt\n",
      "test_5445.txt\n"
     ]
    },
    {
     "name": "stderr",
     "output_type": "stream",
     "text": [
      "\r",
      " 22%|████████▏                            | 5446/24526 [01:33<05:25, 58.55it/s]"
     ]
    },
    {
     "name": "stdout",
     "output_type": "stream",
     "text": [
      "test_5446.txt\n",
      "test_5447.txt\n",
      "test_5448.txt\n",
      "test_5449.txt\n",
      "test_5450.txt\n",
      "test_5451.txt\n",
      "test_5452.txt\n",
      "test_5453.txt\n"
     ]
    },
    {
     "name": "stderr",
     "output_type": "stream",
     "text": [
      "\r",
      " 22%|████████▏                            | 5454/24526 [01:33<05:25, 58.57it/s]"
     ]
    },
    {
     "name": "stdout",
     "output_type": "stream",
     "text": [
      "test_5454.txt\n",
      "test_5455.txt\n",
      "test_5456.txt\n",
      "test_5457.txt\n",
      "test_5458.txt\n",
      "test_5459.txt\n",
      "test_5460.txt\n",
      "test_5461.txt\n"
     ]
    },
    {
     "name": "stderr",
     "output_type": "stream",
     "text": [
      "\r",
      " 22%|████████▏                            | 5462/24526 [01:33<05:25, 58.58it/s]"
     ]
    },
    {
     "name": "stdout",
     "output_type": "stream",
     "text": [
      "test_5462.txt\n",
      "test_5463.txt\n",
      "test_5464.txt\n",
      "test_5465.txt\n",
      "test_5466.txt\n",
      "test_5467.txt\n",
      "test_5468.txt\n"
     ]
    },
    {
     "name": "stderr",
     "output_type": "stream",
     "text": [
      "\r",
      " 22%|████████▎                            | 5469/24526 [01:33<05:25, 58.57it/s]"
     ]
    },
    {
     "name": "stdout",
     "output_type": "stream",
     "text": [
      "test_5469.txt\n",
      "test_5470.txt\n",
      "test_5471.txt\n",
      "test_5472.txt\n",
      "test_5473.txt\n",
      "test_5474.txt\n"
     ]
    },
    {
     "name": "stderr",
     "output_type": "stream",
     "text": [
      "\r",
      " 22%|████████▎                            | 5475/24526 [01:33<05:25, 58.57it/s]"
     ]
    },
    {
     "name": "stdout",
     "output_type": "stream",
     "text": [
      "test_5475.txt\n",
      "test_5476.txt\n",
      "test_5477.txt\n",
      "test_5478.txt\n",
      "test_5479.txt\n",
      "test_5480.txt\n",
      "test_5481.txt\n"
     ]
    },
    {
     "name": "stderr",
     "output_type": "stream",
     "text": [
      "\r",
      " 22%|████████▎                            | 5482/24526 [01:33<05:25, 58.57it/s]"
     ]
    },
    {
     "name": "stdout",
     "output_type": "stream",
     "text": [
      "test_5482.txt\n",
      "test_5483.txt\n",
      "test_5484.txt\n",
      "test_5485.txt\n",
      "test_5486.txt\n",
      "test_5487.txt\n"
     ]
    },
    {
     "name": "stderr",
     "output_type": "stream",
     "text": [
      "\r",
      " 22%|████████▎                            | 5488/24526 [01:33<05:25, 58.57it/s]"
     ]
    },
    {
     "name": "stdout",
     "output_type": "stream",
     "text": [
      "test_5488.txt\n",
      "test_5489.txt\n",
      "test_5490.txt\n",
      "test_5491.txt\n",
      "test_5492.txt\n",
      "test_5493.txt\n"
     ]
    },
    {
     "name": "stderr",
     "output_type": "stream",
     "text": [
      "\r",
      " 22%|████████▎                            | 5494/24526 [01:33<05:25, 58.56it/s]"
     ]
    },
    {
     "name": "stdout",
     "output_type": "stream",
     "text": [
      "test_5494.txt\n",
      "test_5495.txt\n",
      "test_5496.txt\n",
      "test_5497.txt\n",
      "test_5498.txt\n",
      "test_5499.txt\n",
      "test_5500.txt\n"
     ]
    },
    {
     "name": "stderr",
     "output_type": "stream",
     "text": [
      "\r",
      " 22%|████████▎                            | 5501/24526 [01:33<05:24, 58.57it/s]"
     ]
    },
    {
     "name": "stdout",
     "output_type": "stream",
     "text": [
      "test_5501.txt\n",
      "test_5502.txt\n",
      "test_5503.txt\n",
      "test_5504.txt\n",
      "test_5505.txt\n",
      "test_5506.txt\n"
     ]
    },
    {
     "name": "stderr",
     "output_type": "stream",
     "text": [
      "\r",
      " 22%|████████▎                            | 5507/24526 [01:34<05:24, 58.56it/s]"
     ]
    },
    {
     "name": "stdout",
     "output_type": "stream",
     "text": [
      "test_5507.txt\n",
      "test_5508.txt\n",
      "test_5509.txt\n",
      "test_5510.txt\n",
      "test_5511.txt\n",
      "test_5512.txt\n",
      "test_5513.txt\n"
     ]
    },
    {
     "name": "stderr",
     "output_type": "stream",
     "text": [
      "\r",
      " 22%|████████▎                            | 5514/24526 [01:34<05:24, 58.55it/s]"
     ]
    },
    {
     "name": "stdout",
     "output_type": "stream",
     "text": [
      "test_5514.txt\n",
      "test_5515.txt\n",
      "test_5516.txt\n",
      "test_5517.txt\n",
      "test_5518.txt\n",
      "test_5519.txt\n"
     ]
    },
    {
     "name": "stderr",
     "output_type": "stream",
     "text": [
      "\r",
      " 23%|████████▎                            | 5520/24526 [01:34<05:24, 58.54it/s]"
     ]
    },
    {
     "name": "stdout",
     "output_type": "stream",
     "text": [
      "test_5520.txt\n",
      "test_5521.txt\n",
      "test_5522.txt\n",
      "test_5523.txt\n",
      "test_5524.txt\n",
      "test_5525.txt\n",
      "test_5526.txt\n",
      "test_5527.txt\n",
      "test_5528.txt\n"
     ]
    },
    {
     "name": "stderr",
     "output_type": "stream",
     "text": [
      "\r",
      " 23%|████████▎                            | 5529/24526 [01:34<05:24, 58.57it/s]"
     ]
    },
    {
     "name": "stdout",
     "output_type": "stream",
     "text": [
      "test_5529.txt\n",
      "test_5530.txt\n",
      "test_5531.txt\n",
      "test_5532.txt\n",
      "test_5533.txt\n",
      "test_5534.txt\n",
      "test_5535.txt\n"
     ]
    },
    {
     "name": "stderr",
     "output_type": "stream",
     "text": [
      "\r",
      " 23%|████████▎                            | 5536/24526 [01:34<05:24, 58.57it/s]"
     ]
    },
    {
     "name": "stdout",
     "output_type": "stream",
     "text": [
      "test_5536.txt\n",
      "test_5537.txt\n",
      "test_5538.txt\n",
      "test_5539.txt\n",
      "test_5540.txt\n",
      "test_5541.txt\n",
      "test_5542.txt\n"
     ]
    },
    {
     "name": "stderr",
     "output_type": "stream",
     "text": [
      "\r",
      " 23%|████████▎                            | 5543/24526 [01:34<05:24, 58.55it/s]"
     ]
    },
    {
     "name": "stdout",
     "output_type": "stream",
     "text": [
      "test_5543.txt\n",
      "test_5544.txt\n",
      "test_5545.txt\n",
      "test_5546.txt\n",
      "test_5547.txt\n",
      "test_5548.txt\n"
     ]
    },
    {
     "name": "stderr",
     "output_type": "stream",
     "text": [
      "\r",
      " 23%|████████▎                            | 5549/24526 [01:34<05:24, 58.54it/s]"
     ]
    },
    {
     "name": "stdout",
     "output_type": "stream",
     "text": [
      "test_5549.txt\n",
      "test_5550.txt\n",
      "test_5551.txt\n",
      "test_5552.txt\n",
      "test_5553.txt\n",
      "test_5554.txt\n"
     ]
    },
    {
     "name": "stderr",
     "output_type": "stream",
     "text": [
      "\r",
      " 23%|████████▍                            | 5555/24526 [01:34<05:24, 58.54it/s]"
     ]
    },
    {
     "name": "stdout",
     "output_type": "stream",
     "text": [
      "test_5555.txt\n",
      "test_5556.txt\n",
      "test_5557.txt\n",
      "test_5558.txt\n",
      "test_5559.txt\n",
      "test_5560.txt\n",
      "test_5561.txt\n",
      "test_5562.txt\n"
     ]
    },
    {
     "name": "stderr",
     "output_type": "stream",
     "text": [
      "\r",
      " 23%|████████▍                            | 5563/24526 [01:35<05:23, 58.56it/s]"
     ]
    },
    {
     "name": "stdout",
     "output_type": "stream",
     "text": [
      "test_5563.txt\n",
      "test_5564.txt\n",
      "test_5565.txt\n",
      "test_5566.txt\n",
      "test_5567.txt\n",
      "test_5568.txt\n",
      "test_5569.txt\n"
     ]
    },
    {
     "name": "stderr",
     "output_type": "stream",
     "text": [
      "\r",
      " 23%|████████▍                            | 5570/24526 [01:35<05:23, 58.54it/s]"
     ]
    },
    {
     "name": "stdout",
     "output_type": "stream",
     "text": [
      "test_5570.txt\n",
      "test_5571.txt\n",
      "test_5572.txt\n",
      "test_5573.txt\n",
      "test_5574.txt\n",
      "test_5575.txt\n"
     ]
    },
    {
     "name": "stderr",
     "output_type": "stream",
     "text": [
      "\r",
      " 23%|████████▍                            | 5576/24526 [01:35<05:23, 58.54it/s]"
     ]
    },
    {
     "name": "stdout",
     "output_type": "stream",
     "text": [
      "test_5576.txt\n",
      "test_5577.txt\n",
      "test_5578.txt\n",
      "test_5579.txt\n",
      "test_5580.txt\n",
      "test_5581.txt\n"
     ]
    },
    {
     "name": "stderr",
     "output_type": "stream",
     "text": [
      "\r",
      " 23%|████████▍                            | 5582/24526 [01:35<05:23, 58.52it/s]"
     ]
    },
    {
     "name": "stdout",
     "output_type": "stream",
     "text": [
      "test_5582.txt\n",
      "test_5583.txt\n",
      "test_5584.txt\n",
      "test_5585.txt\n",
      "test_5586.txt\n",
      "test_5587.txt\n"
     ]
    },
    {
     "name": "stderr",
     "output_type": "stream",
     "text": [
      "\r",
      " 23%|████████▍                            | 5588/24526 [01:35<05:23, 58.52it/s]"
     ]
    },
    {
     "name": "stdout",
     "output_type": "stream",
     "text": [
      "test_5588.txt\n",
      "test_5589.txt\n",
      "test_5590.txt\n",
      "test_5591.txt\n",
      "test_5592.txt\n",
      "test_5593.txt\n"
     ]
    },
    {
     "name": "stderr",
     "output_type": "stream",
     "text": [
      "\r",
      " 23%|████████▍                            | 5594/24526 [01:35<05:23, 58.52it/s]"
     ]
    },
    {
     "name": "stdout",
     "output_type": "stream",
     "text": [
      "test_5594.txt\n",
      "test_5595.txt\n",
      "test_5596.txt\n",
      "test_5597.txt\n",
      "test_5598.txt\n",
      "test_5599.txt\n"
     ]
    },
    {
     "name": "stderr",
     "output_type": "stream",
     "text": [
      "\r",
      " 23%|████████▍                            | 5600/24526 [01:35<05:23, 58.51it/s]"
     ]
    },
    {
     "name": "stdout",
     "output_type": "stream",
     "text": [
      "test_5600.txt\n",
      "test_5601.txt\n",
      "test_5602.txt\n",
      "test_5603.txt\n",
      "test_5604.txt\n",
      "test_5605.txt\n"
     ]
    },
    {
     "name": "stderr",
     "output_type": "stream",
     "text": [
      "\r",
      " 23%|████████▍                            | 5606/24526 [01:35<05:23, 58.47it/s]"
     ]
    },
    {
     "name": "stdout",
     "output_type": "stream",
     "text": [
      "test_5606.txt\n",
      "test_5607.txt\n",
      "test_5608.txt\n",
      "test_5609.txt\n",
      "test_5610.txt\n",
      "test_5611.txt\n"
     ]
    },
    {
     "name": "stderr",
     "output_type": "stream",
     "text": [
      "\r",
      " 23%|████████▍                            | 5612/24526 [01:35<05:23, 58.47it/s]"
     ]
    },
    {
     "name": "stdout",
     "output_type": "stream",
     "text": [
      "test_5612.txt\n",
      "test_5613.txt\n",
      "test_5614.txt\n",
      "test_5615.txt\n",
      "test_5616.txt\n",
      "test_5617.txt\n"
     ]
    },
    {
     "name": "stderr",
     "output_type": "stream",
     "text": [
      "\r",
      " 23%|████████▍                            | 5618/24526 [01:36<05:23, 58.46it/s]"
     ]
    },
    {
     "name": "stdout",
     "output_type": "stream",
     "text": [
      "test_5618.txt\n",
      "test_5619.txt\n",
      "test_5620.txt\n",
      "test_5621.txt\n",
      "test_5622.txt\n",
      "test_5623.txt\n",
      "test_5624.txt\n",
      "test_5625.txt\n"
     ]
    },
    {
     "name": "stderr",
     "output_type": "stream",
     "text": [
      "\r",
      " 23%|████████▍                            | 5626/24526 [01:36<05:23, 58.47it/s]"
     ]
    },
    {
     "name": "stdout",
     "output_type": "stream",
     "text": [
      "test_5626.txt\n",
      "test_5627.txt\n",
      "test_5628.txt\n",
      "test_5629.txt\n",
      "test_5630.txt\n",
      "test_5631.txt\n"
     ]
    },
    {
     "name": "stderr",
     "output_type": "stream",
     "text": [
      "\r",
      " 23%|████████▍                            | 5632/24526 [01:36<05:23, 58.47it/s]"
     ]
    },
    {
     "name": "stdout",
     "output_type": "stream",
     "text": [
      "test_5632.txt\n",
      "test_5633.txt\n",
      "test_5634.txt\n",
      "test_5635.txt\n",
      "test_5636.txt\n",
      "test_5637.txt\n"
     ]
    },
    {
     "name": "stderr",
     "output_type": "stream",
     "text": [
      "\r",
      " 23%|████████▌                            | 5638/24526 [01:36<05:23, 58.46it/s]"
     ]
    },
    {
     "name": "stdout",
     "output_type": "stream",
     "text": [
      "test_5638.txt\n",
      "test_5639.txt\n",
      "test_5640.txt\n",
      "test_5641.txt\n",
      "test_5642.txt\n",
      "test_5643.txt\n",
      "test_5644.txt\n",
      "test_5645.txt\n"
     ]
    },
    {
     "name": "stderr",
     "output_type": "stream",
     "text": [
      "\r",
      " 23%|████████▌                            | 5646/24526 [01:36<05:22, 58.48it/s]"
     ]
    },
    {
     "name": "stdout",
     "output_type": "stream",
     "text": [
      "test_5646.txt\n",
      "test_5647.txt\n",
      "test_5648.txt\n",
      "test_5649.txt\n",
      "test_5650.txt\n",
      "test_5651.txt\n",
      "test_5652.txt\n"
     ]
    },
    {
     "name": "stderr",
     "output_type": "stream",
     "text": [
      "\r",
      " 23%|████████▌                            | 5653/24526 [01:36<05:22, 58.47it/s]"
     ]
    },
    {
     "name": "stdout",
     "output_type": "stream",
     "text": [
      "test_5653.txt\n",
      "test_5654.txt\n",
      "test_5655.txt\n",
      "test_5656.txt\n",
      "test_5657.txt\n",
      "test_5658.txt\n",
      "test_5659.txt\n"
     ]
    },
    {
     "name": "stderr",
     "output_type": "stream",
     "text": [
      "\r",
      " 23%|████████▌                            | 5660/24526 [01:36<05:22, 58.47it/s]"
     ]
    },
    {
     "name": "stdout",
     "output_type": "stream",
     "text": [
      "test_5660.txt\n",
      "test_5661.txt\n",
      "test_5662.txt\n",
      "test_5663.txt\n",
      "test_5664.txt\n",
      "test_5665.txt\n"
     ]
    },
    {
     "name": "stderr",
     "output_type": "stream",
     "text": [
      "\r",
      " 23%|████████▌                            | 5666/24526 [01:36<05:22, 58.47it/s]"
     ]
    },
    {
     "name": "stdout",
     "output_type": "stream",
     "text": [
      "test_5666.txt\n",
      "test_5667.txt\n",
      "test_5668.txt\n",
      "test_5669.txt\n",
      "test_5670.txt\n",
      "test_5671.txt\n",
      "test_5672.txt\n"
     ]
    },
    {
     "name": "stderr",
     "output_type": "stream",
     "text": [
      "\r",
      " 23%|████████▌                            | 5673/24526 [01:37<05:22, 58.48it/s]"
     ]
    },
    {
     "name": "stdout",
     "output_type": "stream",
     "text": [
      "test_5673.txt\n",
      "test_5674.txt\n",
      "test_5675.txt\n",
      "test_5676.txt\n",
      "test_5677.txt\n",
      "test_5678.txt\n",
      "test_5679.txt\n"
     ]
    },
    {
     "name": "stderr",
     "output_type": "stream",
     "text": [
      "\r",
      " 23%|████████▌                            | 5680/24526 [01:37<05:22, 58.47it/s]"
     ]
    },
    {
     "name": "stdout",
     "output_type": "stream",
     "text": [
      "test_5680.txt\n",
      "test_5681.txt\n",
      "test_5682.txt\n",
      "test_5683.txt\n",
      "test_5684.txt\n",
      "test_5685.txt\n",
      "test_5686.txt\n",
      "test_5687.txt\n"
     ]
    },
    {
     "name": "stderr",
     "output_type": "stream",
     "text": [
      "\r",
      " 23%|████████▌                            | 5688/24526 [01:37<05:22, 58.48it/s]"
     ]
    },
    {
     "name": "stdout",
     "output_type": "stream",
     "text": [
      "test_5688.txt\n",
      "test_5689.txt\n",
      "test_5690.txt\n",
      "test_5691.txt\n",
      "test_5692.txt\n",
      "test_5693.txt\n",
      "test_5694.txt\n"
     ]
    },
    {
     "name": "stderr",
     "output_type": "stream",
     "text": [
      "\r",
      " 23%|████████▌                            | 5695/24526 [01:37<05:22, 58.47it/s]"
     ]
    },
    {
     "name": "stdout",
     "output_type": "stream",
     "text": [
      "test_5695.txt\n",
      "test_5696.txt\n",
      "test_5697.txt\n",
      "test_5698.txt\n",
      "test_5699.txt\n",
      "test_5700.txt\n"
     ]
    },
    {
     "name": "stderr",
     "output_type": "stream",
     "text": [
      "\r",
      " 23%|████████▌                            | 5701/24526 [01:37<05:22, 58.46it/s]"
     ]
    },
    {
     "name": "stdout",
     "output_type": "stream",
     "text": [
      "test_5701.txt\n",
      "test_5702.txt\n",
      "test_5703.txt\n",
      "test_5704.txt\n",
      "test_5705.txt\n",
      "test_5706.txt\n"
     ]
    },
    {
     "name": "stderr",
     "output_type": "stream",
     "text": [
      "\r",
      " 23%|████████▌                            | 5707/24526 [01:37<05:21, 58.46it/s]"
     ]
    },
    {
     "name": "stdout",
     "output_type": "stream",
     "text": [
      "test_5707.txt\n",
      "test_5708.txt\n",
      "test_5709.txt\n",
      "test_5710.txt\n",
      "test_5711.txt\n",
      "test_5712.txt\n",
      "test_5713.txt\n"
     ]
    },
    {
     "name": "stderr",
     "output_type": "stream",
     "text": [
      "\r",
      " 23%|████████▌                            | 5714/24526 [01:37<05:21, 58.47it/s]"
     ]
    },
    {
     "name": "stdout",
     "output_type": "stream",
     "text": [
      "test_5714.txt\n",
      "test_5715.txt\n",
      "test_5716.txt\n",
      "test_5717.txt\n",
      "test_5718.txt\n",
      "test_5719.txt\n"
     ]
    },
    {
     "name": "stderr",
     "output_type": "stream",
     "text": [
      "\r",
      " 23%|████████▋                            | 5720/24526 [01:37<05:21, 58.47it/s]"
     ]
    },
    {
     "name": "stdout",
     "output_type": "stream",
     "text": [
      "test_5720.txt\n",
      "test_5721.txt\n",
      "test_5722.txt\n",
      "test_5723.txt\n",
      "test_5724.txt\n",
      "test_5725.txt\n",
      "test_5726.txt\n"
     ]
    },
    {
     "name": "stderr",
     "output_type": "stream",
     "text": [
      "\r",
      " 23%|████████▋                            | 5727/24526 [01:37<05:21, 58.47it/s]"
     ]
    },
    {
     "name": "stdout",
     "output_type": "stream",
     "text": [
      "test_5727.txt\n",
      "test_5728.txt\n",
      "test_5729.txt\n",
      "test_5730.txt\n",
      "test_5731.txt\n",
      "test_5732.txt\n",
      "test_5733.txt\n"
     ]
    },
    {
     "name": "stderr",
     "output_type": "stream",
     "text": [
      "\r",
      " 23%|████████▋                            | 5734/24526 [01:38<05:21, 58.46it/s]"
     ]
    },
    {
     "name": "stdout",
     "output_type": "stream",
     "text": [
      "test_5734.txt\n",
      "test_5735.txt\n",
      "test_5736.txt\n",
      "test_5737.txt\n",
      "test_5738.txt\n",
      "test_5739.txt\n"
     ]
    },
    {
     "name": "stderr",
     "output_type": "stream",
     "text": [
      "\r",
      " 23%|████████▋                            | 5740/24526 [01:38<05:21, 58.46it/s]"
     ]
    },
    {
     "name": "stdout",
     "output_type": "stream",
     "text": [
      "test_5740.txt\n",
      "test_5741.txt\n",
      "test_5742.txt\n",
      "test_5743.txt\n",
      "test_5744.txt\n",
      "test_5745.txt\n"
     ]
    },
    {
     "name": "stderr",
     "output_type": "stream",
     "text": [
      "\r",
      " 23%|████████▋                            | 5746/24526 [01:38<05:21, 58.46it/s]"
     ]
    },
    {
     "name": "stdout",
     "output_type": "stream",
     "text": [
      "test_5746.txt\n",
      "test_5747.txt\n",
      "test_5748.txt\n",
      "test_5749.txt\n",
      "test_5750.txt\n",
      "test_5751.txt\n",
      "test_5752.txt\n",
      "test_5753.txt\n"
     ]
    },
    {
     "name": "stderr",
     "output_type": "stream",
     "text": [
      "\r",
      " 23%|████████▋                            | 5754/24526 [01:38<05:21, 58.47it/s]"
     ]
    },
    {
     "name": "stdout",
     "output_type": "stream",
     "text": [
      "test_5754.txt\n",
      "test_5755.txt\n",
      "test_5756.txt\n",
      "test_5757.txt\n",
      "test_5758.txt\n",
      "test_5759.txt\n",
      "test_5760.txt\n"
     ]
    },
    {
     "name": "stderr",
     "output_type": "stream",
     "text": [
      "\r",
      " 23%|████████▋                            | 5761/24526 [01:38<05:20, 58.47it/s]"
     ]
    },
    {
     "name": "stdout",
     "output_type": "stream",
     "text": [
      "test_5761.txt\n",
      "test_5762.txt\n",
      "test_5763.txt\n",
      "test_5764.txt\n",
      "test_5765.txt\n",
      "test_5766.txt\n"
     ]
    },
    {
     "name": "stderr",
     "output_type": "stream",
     "text": [
      "\r",
      " 24%|████████▋                            | 5767/24526 [01:38<05:20, 58.46it/s]"
     ]
    },
    {
     "name": "stdout",
     "output_type": "stream",
     "text": [
      "test_5767.txt\n",
      "test_5768.txt\n",
      "test_5769.txt\n",
      "test_5770.txt\n",
      "test_5771.txt\n",
      "test_5772.txt\n",
      "test_5773.txt\n"
     ]
    },
    {
     "name": "stderr",
     "output_type": "stream",
     "text": [
      "\r",
      " 24%|████████▋                            | 5774/24526 [01:38<05:20, 58.47it/s]"
     ]
    },
    {
     "name": "stdout",
     "output_type": "stream",
     "text": [
      "test_5774.txt\n",
      "test_5775.txt\n",
      "test_5776.txt\n",
      "test_5777.txt\n",
      "test_5778.txt\n",
      "test_5779.txt\n",
      "test_5780.txt\n"
     ]
    },
    {
     "name": "stderr",
     "output_type": "stream",
     "text": [
      "\r",
      " 24%|████████▋                            | 5781/24526 [01:38<05:20, 58.47it/s]"
     ]
    },
    {
     "name": "stdout",
     "output_type": "stream",
     "text": [
      "test_5781.txt\n",
      "test_5782.txt\n",
      "test_5783.txt\n",
      "test_5784.txt\n",
      "test_5785.txt\n",
      "test_5786.txt\n",
      "test_5787.txt\n"
     ]
    },
    {
     "name": "stderr",
     "output_type": "stream",
     "text": [
      "\r",
      " 24%|████████▋                            | 5788/24526 [01:38<05:20, 58.48it/s]"
     ]
    },
    {
     "name": "stdout",
     "output_type": "stream",
     "text": [
      "test_5788.txt\n",
      "test_5789.txt\n",
      "test_5790.txt\n",
      "test_5791.txt\n",
      "test_5792.txt\n",
      "test_5793.txt\n",
      "test_5794.txt\n"
     ]
    },
    {
     "name": "stderr",
     "output_type": "stream",
     "text": [
      "\r",
      " 24%|████████▋                            | 5795/24526 [01:39<05:20, 58.47it/s]"
     ]
    },
    {
     "name": "stdout",
     "output_type": "stream",
     "text": [
      "test_5795.txt\n",
      "test_5796.txt\n",
      "test_5797.txt\n",
      "test_5798.txt\n",
      "test_5799.txt\n",
      "test_5800.txt\n"
     ]
    },
    {
     "name": "stderr",
     "output_type": "stream",
     "text": [
      "\r",
      " 24%|████████▊                            | 5801/24526 [01:39<05:20, 58.47it/s]"
     ]
    },
    {
     "name": "stdout",
     "output_type": "stream",
     "text": [
      "test_5801.txt\n",
      "test_5802.txt\n",
      "test_5803.txt\n",
      "test_5804.txt\n",
      "test_5805.txt\n",
      "test_5806.txt\n",
      "test_5807.txt\n"
     ]
    },
    {
     "name": "stderr",
     "output_type": "stream",
     "text": [
      "\r",
      " 24%|████████▊                            | 5808/24526 [01:39<05:20, 58.48it/s]"
     ]
    },
    {
     "name": "stdout",
     "output_type": "stream",
     "text": [
      "test_5808.txt\n",
      "test_5809.txt\n",
      "test_5810.txt\n",
      "test_5811.txt\n",
      "test_5812.txt\n",
      "test_5813.txt\n",
      "test_5814.txt\n"
     ]
    },
    {
     "name": "stderr",
     "output_type": "stream",
     "text": [
      "\r",
      " 24%|████████▊                            | 5815/24526 [01:39<05:20, 58.47it/s]"
     ]
    },
    {
     "name": "stdout",
     "output_type": "stream",
     "text": [
      "test_5815.txt\n",
      "test_5816.txt\n",
      "test_5817.txt\n",
      "test_5818.txt\n",
      "test_5819.txt\n",
      "test_5820.txt\n",
      "test_5821.txt\n"
     ]
    },
    {
     "name": "stderr",
     "output_type": "stream",
     "text": [
      "\r",
      " 24%|████████▊                            | 5822/24526 [01:39<05:19, 58.48it/s]"
     ]
    },
    {
     "name": "stdout",
     "output_type": "stream",
     "text": [
      "test_5822.txt\n",
      "test_5823.txt\n",
      "test_5824.txt\n",
      "test_5825.txt\n",
      "test_5826.txt\n",
      "test_5827.txt\n",
      "test_5828.txt\n"
     ]
    },
    {
     "name": "stderr",
     "output_type": "stream",
     "text": [
      "\r",
      " 24%|████████▊                            | 5829/24526 [01:39<05:19, 58.48it/s]"
     ]
    },
    {
     "name": "stdout",
     "output_type": "stream",
     "text": [
      "test_5829.txt\n",
      "test_5830.txt\n",
      "test_5831.txt\n",
      "test_5832.txt\n",
      "test_5833.txt\n",
      "test_5834.txt\n",
      "test_5835.txt\n"
     ]
    },
    {
     "name": "stderr",
     "output_type": "stream",
     "text": [
      "\r",
      " 24%|████████▊                            | 5836/24526 [01:39<05:19, 58.48it/s]"
     ]
    },
    {
     "name": "stdout",
     "output_type": "stream",
     "text": [
      "test_5836.txt\n",
      "test_5837.txt\n",
      "test_5838.txt\n",
      "test_5839.txt\n",
      "test_5840.txt\n",
      "test_5841.txt\n",
      "test_5842.txt\n"
     ]
    },
    {
     "name": "stderr",
     "output_type": "stream",
     "text": [
      "\r",
      " 24%|████████▊                            | 5843/24526 [01:39<05:19, 58.48it/s]"
     ]
    },
    {
     "name": "stdout",
     "output_type": "stream",
     "text": [
      "test_5843.txt\n",
      "test_5844.txt\n",
      "test_5845.txt\n",
      "test_5846.txt\n",
      "test_5847.txt\n",
      "test_5848.txt\n",
      "test_5849.txt\n"
     ]
    },
    {
     "name": "stderr",
     "output_type": "stream",
     "text": [
      "\r",
      " 24%|████████▊                            | 5850/24526 [01:40<05:19, 58.49it/s]"
     ]
    },
    {
     "name": "stdout",
     "output_type": "stream",
     "text": [
      "test_5850.txt\n",
      "test_5851.txt\n",
      "test_5852.txt\n",
      "test_5853.txt\n",
      "test_5854.txt\n",
      "test_5855.txt\n",
      "test_5856.txt\n"
     ]
    },
    {
     "name": "stderr",
     "output_type": "stream",
     "text": [
      "\r",
      " 24%|████████▊                            | 5857/24526 [01:40<05:19, 58.47it/s]"
     ]
    },
    {
     "name": "stdout",
     "output_type": "stream",
     "text": [
      "test_5857.txt\n",
      "test_5858.txt\n",
      "test_5859.txt\n",
      "test_5860.txt\n",
      "test_5861.txt\n",
      "test_5862.txt\n"
     ]
    },
    {
     "name": "stderr",
     "output_type": "stream",
     "text": [
      "\r",
      " 24%|████████▊                            | 5863/24526 [01:40<05:19, 58.47it/s]"
     ]
    },
    {
     "name": "stdout",
     "output_type": "stream",
     "text": [
      "test_5863.txt\n",
      "test_5864.txt\n",
      "test_5865.txt\n",
      "test_5866.txt\n",
      "test_5867.txt\n",
      "test_5868.txt\n"
     ]
    },
    {
     "name": "stderr",
     "output_type": "stream",
     "text": [
      "\r",
      " 24%|████████▊                            | 5869/24526 [01:40<05:19, 58.46it/s]"
     ]
    },
    {
     "name": "stdout",
     "output_type": "stream",
     "text": [
      "test_5869.txt\n",
      "test_5870.txt\n",
      "test_5871.txt\n",
      "test_5872.txt\n",
      "test_5873.txt\n",
      "test_5874.txt\n"
     ]
    },
    {
     "name": "stderr",
     "output_type": "stream",
     "text": [
      "\r",
      " 24%|████████▊                            | 5875/24526 [01:40<05:19, 58.45it/s]"
     ]
    },
    {
     "name": "stdout",
     "output_type": "stream",
     "text": [
      "test_5875.txt\n",
      "test_5876.txt\n",
      "test_5877.txt\n",
      "test_5878.txt\n",
      "test_5879.txt\n",
      "test_5880.txt\n"
     ]
    },
    {
     "name": "stderr",
     "output_type": "stream",
     "text": [
      "\r",
      " 24%|████████▊                            | 5881/24526 [01:40<05:19, 58.43it/s]"
     ]
    },
    {
     "name": "stdout",
     "output_type": "stream",
     "text": [
      "test_5881.txt\n",
      "test_5882.txt\n",
      "test_5883.txt\n",
      "test_5884.txt\n",
      "test_5885.txt\n",
      "test_5886.txt\n"
     ]
    },
    {
     "name": "stderr",
     "output_type": "stream",
     "text": [
      "\r",
      " 24%|████████▉                            | 5887/24526 [01:40<05:19, 58.43it/s]"
     ]
    },
    {
     "name": "stdout",
     "output_type": "stream",
     "text": [
      "test_5887.txt\n",
      "test_5888.txt\n",
      "test_5889.txt\n",
      "test_5890.txt\n",
      "test_5891.txt\n",
      "test_5892.txt\n"
     ]
    },
    {
     "name": "stderr",
     "output_type": "stream",
     "text": [
      "\r",
      " 24%|████████▉                            | 5893/24526 [01:40<05:18, 58.42it/s]"
     ]
    },
    {
     "name": "stdout",
     "output_type": "stream",
     "text": [
      "test_5893.txt\n",
      "test_5894.txt\n",
      "test_5895.txt\n",
      "test_5896.txt\n",
      "test_5897.txt\n",
      "test_5898.txt\n"
     ]
    },
    {
     "name": "stderr",
     "output_type": "stream",
     "text": [
      "\r",
      " 24%|████████▉                            | 5899/24526 [01:40<05:18, 58.41it/s]"
     ]
    },
    {
     "name": "stdout",
     "output_type": "stream",
     "text": [
      "test_5899.txt\n",
      "test_5900.txt\n",
      "test_5901.txt\n",
      "test_5902.txt\n",
      "test_5903.txt\n",
      "test_5904.txt\n",
      "test_5905.txt\n"
     ]
    },
    {
     "name": "stderr",
     "output_type": "stream",
     "text": [
      "\r",
      " 24%|████████▉                            | 5906/24526 [01:41<05:18, 58.42it/s]"
     ]
    },
    {
     "name": "stdout",
     "output_type": "stream",
     "text": [
      "test_5906.txt\n",
      "test_5907.txt\n",
      "test_5908.txt\n",
      "test_5909.txt\n",
      "test_5910.txt\n",
      "test_5911.txt\n",
      "test_5912.txt\n",
      "test_5913.txt\n"
     ]
    },
    {
     "name": "stderr",
     "output_type": "stream",
     "text": [
      "\r",
      " 24%|████████▉                            | 5914/24526 [01:41<05:18, 58.44it/s]"
     ]
    },
    {
     "name": "stdout",
     "output_type": "stream",
     "text": [
      "test_5914.txt\n",
      "test_5915.txt\n",
      "test_5916.txt\n",
      "test_5917.txt\n",
      "test_5918.txt\n",
      "test_5919.txt\n",
      "test_5920.txt\n"
     ]
    },
    {
     "name": "stderr",
     "output_type": "stream",
     "text": [
      "\r",
      " 24%|████████▉                            | 5921/24526 [01:41<05:18, 58.44it/s]"
     ]
    },
    {
     "name": "stdout",
     "output_type": "stream",
     "text": [
      "test_5921.txt\n",
      "test_5922.txt\n",
      "test_5923.txt\n",
      "test_5924.txt\n",
      "test_5925.txt\n",
      "test_5926.txt\n",
      "test_5927.txt\n"
     ]
    },
    {
     "name": "stderr",
     "output_type": "stream",
     "text": [
      "\r",
      " 24%|████████▉                            | 5928/24526 [01:41<05:18, 58.43it/s]"
     ]
    },
    {
     "name": "stdout",
     "output_type": "stream",
     "text": [
      "test_5928.txt\n",
      "test_5929.txt\n",
      "test_5930.txt\n",
      "test_5931.txt\n",
      "test_5932.txt\n",
      "test_5933.txt\n"
     ]
    },
    {
     "name": "stderr",
     "output_type": "stream",
     "text": [
      "\r",
      " 24%|████████▉                            | 5934/24526 [01:41<05:18, 58.43it/s]"
     ]
    },
    {
     "name": "stdout",
     "output_type": "stream",
     "text": [
      "test_5934.txt\n",
      "test_5935.txt\n",
      "test_5936.txt\n",
      "test_5937.txt\n",
      "test_5938.txt\n",
      "test_5939.txt\n",
      "test_5940.txt\n"
     ]
    },
    {
     "name": "stderr",
     "output_type": "stream",
     "text": [
      "\r",
      " 24%|████████▉                            | 5941/24526 [01:41<05:18, 58.43it/s]"
     ]
    },
    {
     "name": "stdout",
     "output_type": "stream",
     "text": [
      "test_5941.txt\n",
      "test_5942.txt\n",
      "test_5943.txt\n",
      "test_5944.txt\n",
      "test_5945.txt\n",
      "test_5946.txt\n"
     ]
    },
    {
     "name": "stderr",
     "output_type": "stream",
     "text": [
      "\r",
      " 24%|████████▉                            | 5947/24526 [01:41<05:17, 58.43it/s]"
     ]
    },
    {
     "name": "stdout",
     "output_type": "stream",
     "text": [
      "test_5947.txt\n",
      "test_5948.txt\n",
      "test_5949.txt\n",
      "test_5950.txt\n",
      "test_5951.txt\n",
      "test_5952.txt\n",
      "test_5953.txt\n"
     ]
    },
    {
     "name": "stderr",
     "output_type": "stream",
     "text": [
      "\r",
      " 24%|████████▉                            | 5954/24526 [01:41<05:17, 58.44it/s]"
     ]
    },
    {
     "name": "stdout",
     "output_type": "stream",
     "text": [
      "test_5954.txt\n",
      "test_5955.txt\n",
      "test_5956.txt\n",
      "test_5957.txt\n",
      "test_5958.txt\n",
      "test_5959.txt\n",
      "test_5960.txt\n"
     ]
    },
    {
     "name": "stderr",
     "output_type": "stream",
     "text": [
      "\r",
      " 24%|████████▉                            | 5961/24526 [01:41<05:17, 58.45it/s]"
     ]
    },
    {
     "name": "stdout",
     "output_type": "stream",
     "text": [
      "test_5961.txt\n",
      "test_5962.txt\n",
      "test_5963.txt\n",
      "test_5964.txt\n",
      "test_5965.txt\n",
      "test_5966.txt\n",
      "test_5967.txt\n"
     ]
    },
    {
     "name": "stderr",
     "output_type": "stream",
     "text": [
      "\r",
      " 24%|█████████                            | 5968/24526 [01:42<05:17, 58.44it/s]"
     ]
    },
    {
     "name": "stdout",
     "output_type": "stream",
     "text": [
      "test_5968.txt\n",
      "test_5969.txt\n",
      "test_5970.txt\n",
      "test_5971.txt\n",
      "test_5972.txt\n",
      "test_5973.txt\n",
      "test_5974.txt\n"
     ]
    },
    {
     "name": "stderr",
     "output_type": "stream",
     "text": [
      "\r",
      " 24%|█████████                            | 5975/24526 [01:42<05:17, 58.45it/s]"
     ]
    },
    {
     "name": "stdout",
     "output_type": "stream",
     "text": [
      "test_5975.txt\n",
      "test_5976.txt\n",
      "test_5977.txt\n",
      "test_5978.txt\n",
      "test_5979.txt\n",
      "test_5980.txt\n",
      "test_5981.txt\n"
     ]
    },
    {
     "name": "stderr",
     "output_type": "stream",
     "text": [
      "\r",
      " 24%|█████████                            | 5982/24526 [01:42<05:17, 58.46it/s]"
     ]
    },
    {
     "name": "stdout",
     "output_type": "stream",
     "text": [
      "test_5982.txt\n",
      "test_5983.txt\n",
      "test_5984.txt\n",
      "test_5985.txt\n",
      "test_5986.txt\n",
      "test_5987.txt\n",
      "test_5988.txt\n"
     ]
    },
    {
     "name": "stderr",
     "output_type": "stream",
     "text": [
      "\r",
      " 24%|█████████                            | 5989/24526 [01:42<05:17, 58.45it/s]"
     ]
    },
    {
     "name": "stdout",
     "output_type": "stream",
     "text": [
      "test_5989.txt\n",
      "test_5990.txt\n",
      "test_5991.txt\n",
      "test_5992.txt\n",
      "test_5993.txt\n",
      "test_5994.txt\n",
      "test_5995.txt\n",
      "test_5996.txt\n"
     ]
    },
    {
     "name": "stderr",
     "output_type": "stream",
     "text": [
      "\r",
      " 24%|█████████                            | 5997/24526 [01:42<05:16, 58.46it/s]"
     ]
    },
    {
     "name": "stdout",
     "output_type": "stream",
     "text": [
      "test_5997.txt\n",
      "test_5998.txt\n",
      "test_5999.txt\n",
      "test_6000.txt\n",
      "test_6001.txt\n",
      "test_6002.txt\n",
      "test_6003.txt\n"
     ]
    },
    {
     "name": "stderr",
     "output_type": "stream",
     "text": [
      "\r",
      " 24%|█████████                            | 6004/24526 [01:42<05:16, 58.46it/s]"
     ]
    },
    {
     "name": "stdout",
     "output_type": "stream",
     "text": [
      "test_6004.txt\n",
      "test_6005.txt\n",
      "test_6006.txt\n",
      "test_6007.txt\n",
      "test_6008.txt\n",
      "test_6009.txt\n",
      "test_6010.txt\n"
     ]
    },
    {
     "name": "stderr",
     "output_type": "stream",
     "text": [
      "\r",
      " 25%|█████████                            | 6011/24526 [01:42<05:16, 58.46it/s]"
     ]
    },
    {
     "name": "stdout",
     "output_type": "stream",
     "text": [
      "test_6011.txt\n",
      "test_6012.txt\n",
      "test_6013.txt\n",
      "test_6014.txt\n",
      "test_6015.txt\n",
      "test_6016.txt\n"
     ]
    },
    {
     "name": "stderr",
     "output_type": "stream",
     "text": [
      "\r",
      " 25%|█████████                            | 6017/24526 [01:42<05:16, 58.46it/s]"
     ]
    },
    {
     "name": "stdout",
     "output_type": "stream",
     "text": [
      "test_6017.txt\n",
      "test_6018.txt\n",
      "test_6019.txt\n",
      "test_6020.txt\n",
      "test_6021.txt\n",
      "test_6022.txt\n",
      "test_6023.txt\n"
     ]
    },
    {
     "name": "stderr",
     "output_type": "stream",
     "text": [
      "\r",
      " 25%|█████████                            | 6024/24526 [01:43<05:16, 58.45it/s]"
     ]
    },
    {
     "name": "stdout",
     "output_type": "stream",
     "text": [
      "test_6024.txt\n",
      "test_6025.txt\n",
      "test_6026.txt\n",
      "test_6027.txt\n",
      "test_6028.txt\n",
      "test_6029.txt\n"
     ]
    },
    {
     "name": "stderr",
     "output_type": "stream",
     "text": [
      "\r",
      " 25%|█████████                            | 6030/24526 [01:43<05:16, 58.45it/s]"
     ]
    },
    {
     "name": "stdout",
     "output_type": "stream",
     "text": [
      "test_6030.txt\n",
      "test_6031.txt\n",
      "test_6032.txt\n",
      "test_6033.txt\n",
      "test_6034.txt\n",
      "test_6035.txt\n"
     ]
    },
    {
     "name": "stderr",
     "output_type": "stream",
     "text": [
      "\r",
      " 25%|█████████                            | 6036/24526 [01:43<05:16, 58.45it/s]"
     ]
    },
    {
     "name": "stdout",
     "output_type": "stream",
     "text": [
      "test_6036.txt\n",
      "test_6037.txt\n",
      "test_6038.txt\n",
      "test_6039.txt\n",
      "test_6040.txt\n",
      "test_6041.txt\n"
     ]
    },
    {
     "name": "stderr",
     "output_type": "stream",
     "text": [
      "\r",
      " 25%|█████████                            | 6042/24526 [01:43<05:16, 58.45it/s]"
     ]
    },
    {
     "name": "stdout",
     "output_type": "stream",
     "text": [
      "test_6042.txt\n",
      "test_6043.txt\n",
      "test_6044.txt\n",
      "test_6045.txt\n",
      "test_6046.txt\n",
      "test_6047.txt\n",
      "test_6048.txt\n"
     ]
    },
    {
     "name": "stderr",
     "output_type": "stream",
     "text": [
      "\r",
      " 25%|█████████▏                           | 6049/24526 [01:43<05:16, 58.45it/s]"
     ]
    },
    {
     "name": "stdout",
     "output_type": "stream",
     "text": [
      "test_6049.txt\n",
      "test_6050.txt\n",
      "test_6051.txt\n",
      "test_6052.txt\n",
      "test_6053.txt\n",
      "test_6054.txt\n"
     ]
    },
    {
     "name": "stderr",
     "output_type": "stream",
     "text": [
      "\r",
      " 25%|█████████▏                           | 6055/24526 [01:43<05:16, 58.45it/s]"
     ]
    },
    {
     "name": "stdout",
     "output_type": "stream",
     "text": [
      "test_6055.txt\n",
      "test_6056.txt\n",
      "test_6057.txt\n",
      "test_6058.txt\n",
      "test_6059.txt\n",
      "test_6060.txt\n",
      "test_6061.txt\n",
      "test_6062.txt\n"
     ]
    },
    {
     "name": "stderr",
     "output_type": "stream",
     "text": [
      "\r",
      " 25%|█████████▏                           | 6063/24526 [01:43<05:15, 58.45it/s]"
     ]
    },
    {
     "name": "stdout",
     "output_type": "stream",
     "text": [
      "test_6063.txt\n",
      "test_6064.txt\n",
      "test_6065.txt\n",
      "test_6066.txt\n",
      "test_6067.txt\n",
      "test_6068.txt\n"
     ]
    },
    {
     "name": "stderr",
     "output_type": "stream",
     "text": [
      "\r",
      " 25%|█████████▏                           | 6069/24526 [01:43<05:15, 58.43it/s]"
     ]
    },
    {
     "name": "stdout",
     "output_type": "stream",
     "text": [
      "test_6069.txt\n",
      "test_6070.txt\n",
      "test_6071.txt\n",
      "test_6072.txt\n",
      "test_6073.txt\n",
      "test_6074.txt\n"
     ]
    },
    {
     "name": "stderr",
     "output_type": "stream",
     "text": [
      "\r",
      " 25%|█████████▏                           | 6075/24526 [01:43<05:15, 58.42it/s]"
     ]
    },
    {
     "name": "stdout",
     "output_type": "stream",
     "text": [
      "test_6075.txt\n",
      "test_6076.txt\n",
      "test_6077.txt\n",
      "test_6078.txt\n",
      "test_6079.txt\n",
      "test_6080.txt\n"
     ]
    },
    {
     "name": "stderr",
     "output_type": "stream",
     "text": [
      "\r",
      " 25%|█████████▏                           | 6081/24526 [01:44<05:15, 58.42it/s]"
     ]
    },
    {
     "name": "stdout",
     "output_type": "stream",
     "text": [
      "test_6081.txt\n",
      "test_6082.txt\n",
      "test_6083.txt\n",
      "test_6084.txt\n",
      "test_6085.txt\n",
      "test_6086.txt\n",
      "test_6087.txt\n"
     ]
    },
    {
     "name": "stderr",
     "output_type": "stream",
     "text": [
      "\r",
      " 25%|█████████▏                           | 6088/24526 [01:44<05:15, 58.43it/s]"
     ]
    },
    {
     "name": "stdout",
     "output_type": "stream",
     "text": [
      "test_6088.txt\n",
      "test_6089.txt\n",
      "test_6090.txt\n",
      "test_6091.txt\n",
      "test_6092.txt\n",
      "test_6093.txt\n"
     ]
    },
    {
     "name": "stderr",
     "output_type": "stream",
     "text": [
      "\r",
      " 25%|█████████▏                           | 6094/24526 [01:44<05:15, 58.43it/s]"
     ]
    },
    {
     "name": "stdout",
     "output_type": "stream",
     "text": [
      "test_6094.txt\n",
      "test_6095.txt\n",
      "test_6096.txt\n",
      "test_6097.txt\n",
      "test_6098.txt\n",
      "test_6099.txt\n",
      "test_6100.txt\n"
     ]
    },
    {
     "name": "stderr",
     "output_type": "stream",
     "text": [
      "\r",
      " 25%|█████████▏                           | 6101/24526 [01:44<05:15, 58.43it/s]"
     ]
    },
    {
     "name": "stdout",
     "output_type": "stream",
     "text": [
      "test_6101.txt\n",
      "test_6102.txt\n",
      "test_6103.txt\n",
      "test_6104.txt\n",
      "test_6105.txt\n",
      "test_6106.txt\n"
     ]
    },
    {
     "name": "stderr",
     "output_type": "stream",
     "text": [
      "\r",
      " 25%|█████████▏                           | 6107/24526 [01:44<05:15, 58.43it/s]"
     ]
    },
    {
     "name": "stdout",
     "output_type": "stream",
     "text": [
      "test_6107.txt\n",
      "test_6108.txt\n",
      "test_6109.txt\n",
      "test_6110.txt\n",
      "test_6111.txt\n",
      "test_6112.txt\n",
      "test_6113.txt\n",
      "test_6114.txt\n"
     ]
    },
    {
     "name": "stderr",
     "output_type": "stream",
     "text": [
      "\r",
      " 25%|█████████▏                           | 6115/24526 [01:44<05:15, 58.44it/s]"
     ]
    },
    {
     "name": "stdout",
     "output_type": "stream",
     "text": [
      "test_6115.txt\n",
      "test_6116.txt\n",
      "test_6117.txt\n",
      "test_6118.txt\n",
      "test_6119.txt\n",
      "test_6120.txt\n",
      "test_6121.txt\n"
     ]
    },
    {
     "name": "stderr",
     "output_type": "stream",
     "text": [
      "\r",
      " 25%|█████████▏                           | 6122/24526 [01:44<05:14, 58.44it/s]"
     ]
    },
    {
     "name": "stdout",
     "output_type": "stream",
     "text": [
      "test_6122.txt\n",
      "test_6123.txt\n",
      "test_6124.txt\n",
      "test_6125.txt\n",
      "test_6126.txt\n",
      "test_6127.txt\n",
      "test_6128.txt\n",
      "test_6129.txt\n"
     ]
    },
    {
     "name": "stderr",
     "output_type": "stream",
     "text": [
      "\r",
      " 25%|█████████▏                           | 6130/24526 [01:44<05:14, 58.45it/s]"
     ]
    },
    {
     "name": "stdout",
     "output_type": "stream",
     "text": [
      "test_6130.txt\n",
      "test_6131.txt\n",
      "test_6132.txt\n",
      "test_6133.txt\n",
      "test_6134.txt\n",
      "test_6135.txt\n",
      "test_6136.txt\n"
     ]
    },
    {
     "name": "stderr",
     "output_type": "stream",
     "text": [
      "\r",
      " 25%|█████████▎                           | 6137/24526 [01:44<05:14, 58.46it/s]"
     ]
    },
    {
     "name": "stdout",
     "output_type": "stream",
     "text": [
      "test_6137.txt\n",
      "test_6138.txt\n",
      "test_6139.txt\n",
      "test_6140.txt\n",
      "test_6141.txt\n",
      "test_6142.txt\n",
      "test_6143.txt\n"
     ]
    },
    {
     "name": "stderr",
     "output_type": "stream",
     "text": [
      "\r",
      " 25%|█████████▎                           | 6144/24526 [01:45<05:14, 58.46it/s]"
     ]
    },
    {
     "name": "stdout",
     "output_type": "stream",
     "text": [
      "test_6144.txt\n",
      "test_6145.txt\n",
      "test_6146.txt\n",
      "test_6147.txt\n",
      "test_6148.txt\n",
      "test_6149.txt\n",
      "test_6150.txt\n"
     ]
    },
    {
     "name": "stderr",
     "output_type": "stream",
     "text": [
      "\r",
      " 25%|█████████▎                           | 6151/24526 [01:45<05:14, 58.45it/s]"
     ]
    },
    {
     "name": "stdout",
     "output_type": "stream",
     "text": [
      "test_6151.txt\n",
      "test_6152.txt\n",
      "test_6153.txt\n",
      "test_6154.txt\n",
      "test_6155.txt\n",
      "test_6156.txt\n"
     ]
    },
    {
     "name": "stderr",
     "output_type": "stream",
     "text": [
      "\r",
      " 25%|█████████▎                           | 6157/24526 [01:45<05:14, 58.45it/s]"
     ]
    },
    {
     "name": "stdout",
     "output_type": "stream",
     "text": [
      "test_6157.txt\n",
      "test_6158.txt\n",
      "test_6159.txt\n",
      "test_6160.txt\n",
      "test_6161.txt\n",
      "test_6162.txt\n",
      "test_6163.txt\n"
     ]
    },
    {
     "name": "stderr",
     "output_type": "stream",
     "text": [
      "\r",
      " 25%|█████████▎                           | 6164/24526 [01:45<05:14, 58.46it/s]"
     ]
    },
    {
     "name": "stdout",
     "output_type": "stream",
     "text": [
      "test_6164.txt\n",
      "test_6165.txt\n",
      "test_6166.txt\n",
      "test_6167.txt\n",
      "test_6168.txt\n",
      "test_6169.txt\n",
      "test_6170.txt\n"
     ]
    },
    {
     "name": "stderr",
     "output_type": "stream",
     "text": [
      "\r",
      " 25%|█████████▎                           | 6171/24526 [01:45<05:14, 58.45it/s]"
     ]
    },
    {
     "name": "stdout",
     "output_type": "stream",
     "text": [
      "test_6171.txt\n",
      "test_6172.txt\n",
      "test_6173.txt\n",
      "test_6174.txt\n",
      "test_6175.txt\n",
      "test_6176.txt\n",
      "test_6177.txt\n"
     ]
    },
    {
     "name": "stderr",
     "output_type": "stream",
     "text": [
      "\r",
      " 25%|█████████▎                           | 6178/24526 [01:45<05:13, 58.46it/s]"
     ]
    },
    {
     "name": "stdout",
     "output_type": "stream",
     "text": [
      "test_6178.txt\n",
      "test_6179.txt\n",
      "test_6180.txt\n",
      "test_6181.txt\n",
      "test_6182.txt\n",
      "test_6183.txt\n",
      "test_6184.txt\n"
     ]
    },
    {
     "name": "stderr",
     "output_type": "stream",
     "text": [
      "\r",
      " 25%|█████████▎                           | 6185/24526 [01:45<05:13, 58.45it/s]"
     ]
    },
    {
     "name": "stdout",
     "output_type": "stream",
     "text": [
      "test_6185.txt\n",
      "test_6186.txt\n",
      "test_6187.txt\n",
      "test_6188.txt\n",
      "test_6189.txt\n",
      "test_6190.txt\n",
      "test_6191.txt\n"
     ]
    },
    {
     "name": "stderr",
     "output_type": "stream",
     "text": [
      "\r",
      " 25%|█████████▎                           | 6192/24526 [01:45<05:13, 58.45it/s]"
     ]
    },
    {
     "name": "stdout",
     "output_type": "stream",
     "text": [
      "test_6192.txt\n",
      "test_6193.txt\n",
      "test_6194.txt\n",
      "test_6195.txt\n",
      "test_6196.txt\n",
      "test_6197.txt\n",
      "test_6198.txt\n"
     ]
    },
    {
     "name": "stderr",
     "output_type": "stream",
     "text": [
      "\r",
      " 25%|█████████▎                           | 6199/24526 [01:46<05:13, 58.46it/s]"
     ]
    },
    {
     "name": "stdout",
     "output_type": "stream",
     "text": [
      "test_6199.txt\n",
      "test_6200.txt\n",
      "test_6201.txt\n",
      "test_6202.txt\n",
      "test_6203.txt\n",
      "test_6204.txt\n",
      "test_6205.txt\n",
      "test_6206.txt\n"
     ]
    },
    {
     "name": "stderr",
     "output_type": "stream",
     "text": [
      "\r",
      " 25%|█████████▎                           | 6207/24526 [01:46<05:13, 58.47it/s]"
     ]
    },
    {
     "name": "stdout",
     "output_type": "stream",
     "text": [
      "test_6207.txt\n",
      "test_6208.txt\n",
      "test_6209.txt\n",
      "test_6210.txt\n",
      "test_6211.txt\n",
      "test_6212.txt\n",
      "test_6213.txt\n"
     ]
    },
    {
     "name": "stderr",
     "output_type": "stream",
     "text": [
      "\r",
      " 25%|█████████▎                           | 6214/24526 [01:46<05:13, 58.48it/s]"
     ]
    },
    {
     "name": "stdout",
     "output_type": "stream",
     "text": [
      "test_6214.txt\n",
      "test_6215.txt\n",
      "test_6216.txt\n",
      "test_6217.txt\n",
      "test_6218.txt\n",
      "test_6219.txt\n",
      "test_6220.txt\n",
      "test_6221.txt\n"
     ]
    },
    {
     "name": "stderr",
     "output_type": "stream",
     "text": [
      "\r",
      " 25%|█████████▍                           | 6222/24526 [01:46<05:12, 58.49it/s]"
     ]
    },
    {
     "name": "stdout",
     "output_type": "stream",
     "text": [
      "test_6222.txt\n",
      "test_6223.txt\n",
      "test_6224.txt\n",
      "test_6225.txt\n",
      "test_6226.txt\n",
      "test_6227.txt\n",
      "test_6228.txt\n"
     ]
    },
    {
     "name": "stderr",
     "output_type": "stream",
     "text": [
      "\r",
      " 25%|█████████▍                           | 6229/24526 [01:46<05:12, 58.50it/s]"
     ]
    },
    {
     "name": "stdout",
     "output_type": "stream",
     "text": [
      "test_6229.txt\n",
      "test_6230.txt\n",
      "test_6231.txt\n",
      "test_6232.txt\n",
      "test_6233.txt\n",
      "test_6234.txt\n",
      "test_6235.txt\n"
     ]
    },
    {
     "name": "stderr",
     "output_type": "stream",
     "text": [
      "\r",
      " 25%|█████████▍                           | 6236/24526 [01:46<05:12, 58.50it/s]"
     ]
    },
    {
     "name": "stdout",
     "output_type": "stream",
     "text": [
      "test_6236.txt\n",
      "test_6237.txt\n",
      "test_6238.txt\n",
      "test_6239.txt\n",
      "test_6240.txt\n",
      "test_6241.txt\n",
      "test_6242.txt\n"
     ]
    },
    {
     "name": "stderr",
     "output_type": "stream",
     "text": [
      "\r",
      " 25%|█████████▍                           | 6243/24526 [01:46<05:12, 58.50it/s]"
     ]
    },
    {
     "name": "stdout",
     "output_type": "stream",
     "text": [
      "test_6243.txt\n",
      "test_6244.txt\n",
      "test_6245.txt\n",
      "test_6246.txt\n",
      "test_6247.txt\n",
      "test_6248.txt\n",
      "test_6249.txt\n"
     ]
    },
    {
     "name": "stderr",
     "output_type": "stream",
     "text": [
      "\r",
      " 25%|█████████▍                           | 6250/24526 [01:46<05:12, 58.50it/s]"
     ]
    },
    {
     "name": "stdout",
     "output_type": "stream",
     "text": [
      "test_6250.txt\n",
      "test_6251.txt\n",
      "test_6252.txt\n",
      "test_6253.txt\n",
      "test_6254.txt\n",
      "test_6255.txt\n",
      "test_6256.txt\n"
     ]
    },
    {
     "name": "stderr",
     "output_type": "stream",
     "text": [
      "\r",
      " 26%|█████████▍                           | 6257/24526 [01:46<05:12, 58.48it/s]"
     ]
    },
    {
     "name": "stdout",
     "output_type": "stream",
     "text": [
      "test_6257.txt\n",
      "test_6258.txt\n",
      "test_6259.txt\n",
      "test_6260.txt\n",
      "test_6261.txt\n",
      "test_6262.txt\n",
      "test_6263.txt\n",
      "test_6264.txt\n"
     ]
    },
    {
     "name": "stderr",
     "output_type": "stream",
     "text": [
      "\r",
      " 26%|█████████▍                           | 6265/24526 [01:47<05:12, 58.50it/s]"
     ]
    },
    {
     "name": "stdout",
     "output_type": "stream",
     "text": [
      "test_6265.txt\n",
      "test_6266.txt\n",
      "test_6267.txt\n",
      "test_6268.txt\n",
      "test_6269.txt\n",
      "test_6270.txt\n",
      "test_6271.txt\n"
     ]
    },
    {
     "name": "stderr",
     "output_type": "stream",
     "text": [
      "\r",
      " 26%|█████████▍                           | 6272/24526 [01:47<05:12, 58.50it/s]"
     ]
    },
    {
     "name": "stdout",
     "output_type": "stream",
     "text": [
      "test_6272.txt\n",
      "test_6273.txt\n",
      "test_6274.txt\n",
      "test_6275.txt\n",
      "test_6276.txt\n",
      "test_6277.txt\n",
      "test_6278.txt\n"
     ]
    },
    {
     "name": "stderr",
     "output_type": "stream",
     "text": [
      "\r",
      " 26%|█████████▍                           | 6279/24526 [01:47<05:11, 58.50it/s]"
     ]
    },
    {
     "name": "stdout",
     "output_type": "stream",
     "text": [
      "test_6279.txt\n",
      "test_6280.txt\n",
      "test_6281.txt\n",
      "test_6282.txt\n",
      "test_6283.txt\n",
      "test_6284.txt\n",
      "test_6285.txt\n"
     ]
    },
    {
     "name": "stderr",
     "output_type": "stream",
     "text": [
      "\r",
      " 26%|█████████▍                           | 6286/24526 [01:47<05:11, 58.49it/s]"
     ]
    },
    {
     "name": "stdout",
     "output_type": "stream",
     "text": [
      "test_6286.txt\n",
      "test_6287.txt\n",
      "test_6288.txt\n",
      "test_6289.txt\n",
      "test_6290.txt\n",
      "test_6291.txt\n",
      "test_6292.txt\n"
     ]
    },
    {
     "name": "stderr",
     "output_type": "stream",
     "text": [
      "\r",
      " 26%|█████████▍                           | 6293/24526 [01:47<05:11, 58.49it/s]"
     ]
    },
    {
     "name": "stdout",
     "output_type": "stream",
     "text": [
      "test_6293.txt\n",
      "test_6294.txt\n",
      "test_6295.txt\n",
      "test_6296.txt\n",
      "test_6297.txt\n",
      "test_6298.txt\n"
     ]
    },
    {
     "name": "stderr",
     "output_type": "stream",
     "text": [
      "\r",
      " 26%|█████████▌                           | 6299/24526 [01:47<05:11, 58.49it/s]"
     ]
    },
    {
     "name": "stdout",
     "output_type": "stream",
     "text": [
      "test_6299.txt\n",
      "test_6300.txt\n",
      "test_6301.txt\n",
      "test_6302.txt\n",
      "test_6303.txt\n",
      "test_6304.txt\n"
     ]
    },
    {
     "name": "stderr",
     "output_type": "stream",
     "text": [
      "\r",
      " 26%|█████████▌                           | 6305/24526 [01:47<05:11, 58.48it/s]"
     ]
    },
    {
     "name": "stdout",
     "output_type": "stream",
     "text": [
      "test_6305.txt\n",
      "test_6306.txt\n",
      "test_6307.txt\n",
      "test_6308.txt\n",
      "test_6309.txt\n",
      "test_6310.txt\n",
      "test_6311.txt\n",
      "test_6312.txt\n"
     ]
    },
    {
     "name": "stderr",
     "output_type": "stream",
     "text": [
      "\r",
      " 26%|█████████▌                           | 6313/24526 [01:47<05:11, 58.50it/s]"
     ]
    },
    {
     "name": "stdout",
     "output_type": "stream",
     "text": [
      "test_6313.txt\n",
      "test_6314.txt\n",
      "test_6315.txt\n",
      "test_6316.txt\n",
      "test_6317.txt\n",
      "test_6318.txt\n",
      "test_6319.txt\n"
     ]
    },
    {
     "name": "stderr",
     "output_type": "stream",
     "text": [
      "\r",
      " 26%|█████████▌                           | 6320/24526 [01:48<05:11, 58.48it/s]"
     ]
    },
    {
     "name": "stdout",
     "output_type": "stream",
     "text": [
      "test_6320.txt\n",
      "test_6321.txt\n",
      "test_6322.txt\n",
      "test_6323.txt\n",
      "test_6324.txt\n",
      "test_6325.txt\n",
      "test_6326.txt\n",
      "test_6327.txt\n"
     ]
    },
    {
     "name": "stderr",
     "output_type": "stream",
     "text": [
      "\r",
      " 26%|█████████▌                           | 6328/24526 [01:48<05:11, 58.50it/s]"
     ]
    },
    {
     "name": "stdout",
     "output_type": "stream",
     "text": [
      "test_6328.txt\n",
      "test_6329.txt\n",
      "test_6330.txt\n",
      "test_6331.txt\n",
      "test_6332.txt\n",
      "test_6333.txt\n",
      "test_6334.txt\n"
     ]
    },
    {
     "name": "stderr",
     "output_type": "stream",
     "text": [
      "\r",
      " 26%|█████████▌                           | 6335/24526 [01:48<05:11, 58.48it/s]"
     ]
    },
    {
     "name": "stdout",
     "output_type": "stream",
     "text": [
      "test_6335.txt\n",
      "test_6336.txt\n",
      "test_6337.txt\n",
      "test_6338.txt\n",
      "test_6339.txt\n",
      "test_6340.txt\n",
      "test_6341.txt\n",
      "test_6342.txt\n"
     ]
    },
    {
     "name": "stderr",
     "output_type": "stream",
     "text": [
      "\r",
      " 26%|█████████▌                           | 6343/24526 [01:48<05:10, 58.49it/s]"
     ]
    },
    {
     "name": "stdout",
     "output_type": "stream",
     "text": [
      "test_6343.txt\n",
      "test_6344.txt\n",
      "test_6345.txt\n",
      "test_6346.txt\n",
      "test_6347.txt\n",
      "test_6348.txt\n",
      "test_6349.txt\n"
     ]
    },
    {
     "name": "stderr",
     "output_type": "stream",
     "text": [
      "\r",
      " 26%|█████████▌                           | 6350/24526 [01:48<05:10, 58.49it/s]"
     ]
    },
    {
     "name": "stdout",
     "output_type": "stream",
     "text": [
      "test_6350.txt\n",
      "test_6351.txt\n",
      "test_6352.txt\n",
      "test_6353.txt\n",
      "test_6354.txt\n",
      "test_6355.txt\n"
     ]
    },
    {
     "name": "stderr",
     "output_type": "stream",
     "text": [
      "\r",
      " 26%|█████████▌                           | 6356/24526 [01:48<05:10, 58.48it/s]"
     ]
    },
    {
     "name": "stdout",
     "output_type": "stream",
     "text": [
      "test_6356.txt\n",
      "test_6357.txt\n",
      "test_6358.txt\n",
      "test_6359.txt\n",
      "test_6360.txt\n",
      "test_6361.txt\n"
     ]
    },
    {
     "name": "stderr",
     "output_type": "stream",
     "text": [
      "\r",
      " 26%|█████████▌                           | 6362/24526 [01:48<05:10, 58.45it/s]"
     ]
    },
    {
     "name": "stdout",
     "output_type": "stream",
     "text": [
      "test_6362.txt\n",
      "test_6363.txt\n",
      "test_6364.txt\n",
      "test_6365.txt\n",
      "test_6366.txt\n",
      "test_6367.txt\n"
     ]
    },
    {
     "name": "stderr",
     "output_type": "stream",
     "text": [
      "\r",
      " 26%|█████████▌                           | 6368/24526 [01:48<05:10, 58.43it/s]"
     ]
    },
    {
     "name": "stdout",
     "output_type": "stream",
     "text": [
      "test_6368.txt\n",
      "test_6369.txt\n",
      "test_6370.txt\n",
      "test_6371.txt\n",
      "test_6372.txt\n"
     ]
    },
    {
     "name": "stderr",
     "output_type": "stream",
     "text": [
      "\r",
      " 26%|█████████▌                           | 6373/24526 [01:49<05:10, 58.42it/s]"
     ]
    },
    {
     "name": "stdout",
     "output_type": "stream",
     "text": [
      "test_6373.txt\n",
      "test_6374.txt\n",
      "test_6375.txt\n",
      "test_6376.txt\n",
      "test_6377.txt\n"
     ]
    },
    {
     "name": "stderr",
     "output_type": "stream",
     "text": [
      "\r",
      " 26%|█████████▌                           | 6378/24526 [01:49<05:10, 58.40it/s]"
     ]
    },
    {
     "name": "stdout",
     "output_type": "stream",
     "text": [
      "test_6378.txt\n",
      "test_6379.txt\n",
      "test_6380.txt\n",
      "test_6381.txt\n",
      "test_6382.txt\n",
      "test_6383.txt\n"
     ]
    },
    {
     "name": "stderr",
     "output_type": "stream",
     "text": [
      "\r",
      " 26%|█████████▋                           | 6384/24526 [01:49<05:10, 58.40it/s]"
     ]
    },
    {
     "name": "stdout",
     "output_type": "stream",
     "text": [
      "test_6384.txt\n",
      "test_6385.txt\n",
      "test_6386.txt\n",
      "test_6387.txt\n",
      "test_6388.txt\n",
      "test_6389.txt\n",
      "test_6390.txt\n"
     ]
    },
    {
     "name": "stderr",
     "output_type": "stream",
     "text": [
      "\r",
      " 26%|█████████▋                           | 6391/24526 [01:49<05:10, 58.41it/s]"
     ]
    },
    {
     "name": "stdout",
     "output_type": "stream",
     "text": [
      "test_6391.txt\n",
      "test_6392.txt\n",
      "test_6393.txt\n",
      "test_6394.txt\n",
      "test_6395.txt\n",
      "test_6396.txt\n"
     ]
    },
    {
     "name": "stderr",
     "output_type": "stream",
     "text": [
      "\r",
      " 26%|█████████▋                           | 6397/24526 [01:49<05:10, 58.40it/s]"
     ]
    },
    {
     "name": "stdout",
     "output_type": "stream",
     "text": [
      "test_6397.txt\n",
      "test_6398.txt\n",
      "test_6399.txt\n",
      "test_6400.txt\n",
      "test_6401.txt\n",
      "test_6402.txt\n",
      "test_6403.txt\n"
     ]
    },
    {
     "name": "stderr",
     "output_type": "stream",
     "text": [
      "\r",
      " 26%|█████████▋                           | 6404/24526 [01:49<05:10, 58.40it/s]"
     ]
    },
    {
     "name": "stdout",
     "output_type": "stream",
     "text": [
      "test_6404.txt\n",
      "test_6405.txt\n",
      "test_6406.txt\n",
      "test_6407.txt\n",
      "test_6408.txt\n",
      "test_6409.txt\n"
     ]
    },
    {
     "name": "stderr",
     "output_type": "stream",
     "text": [
      "\r",
      " 26%|█████████▋                           | 6410/24526 [01:49<05:10, 58.40it/s]"
     ]
    },
    {
     "name": "stdout",
     "output_type": "stream",
     "text": [
      "test_6410.txt\n",
      "test_6411.txt\n",
      "test_6412.txt\n",
      "test_6413.txt\n",
      "test_6414.txt\n",
      "test_6415.txt\n",
      "test_6416.txt\n"
     ]
    },
    {
     "name": "stderr",
     "output_type": "stream",
     "text": [
      "\r",
      " 26%|█████████▋                           | 6417/24526 [01:49<05:10, 58.41it/s]"
     ]
    },
    {
     "name": "stdout",
     "output_type": "stream",
     "text": [
      "test_6417.txt\n",
      "test_6418.txt\n",
      "test_6419.txt\n",
      "test_6420.txt\n",
      "test_6421.txt\n",
      "test_6422.txt\n"
     ]
    },
    {
     "name": "stderr",
     "output_type": "stream",
     "text": [
      "\r",
      " 26%|█████████▋                           | 6423/24526 [01:49<05:09, 58.40it/s]"
     ]
    },
    {
     "name": "stdout",
     "output_type": "stream",
     "text": [
      "test_6423.txt\n",
      "test_6424.txt\n",
      "test_6425.txt\n",
      "test_6426.txt\n",
      "test_6427.txt\n",
      "test_6428.txt\n",
      "test_6429.txt\n",
      "test_6430.txt\n"
     ]
    },
    {
     "name": "stderr",
     "output_type": "stream",
     "text": [
      "\r",
      " 26%|█████████▋                           | 6431/24526 [01:50<05:09, 58.42it/s]"
     ]
    },
    {
     "name": "stdout",
     "output_type": "stream",
     "text": [
      "test_6431.txt\n",
      "test_6432.txt\n",
      "test_6433.txt\n",
      "test_6434.txt\n",
      "test_6435.txt\n",
      "test_6436.txt\n",
      "test_6437.txt\n"
     ]
    },
    {
     "name": "stderr",
     "output_type": "stream",
     "text": [
      "\r",
      " 26%|█████████▋                           | 6438/24526 [01:50<05:09, 58.41it/s]"
     ]
    },
    {
     "name": "stdout",
     "output_type": "stream",
     "text": [
      "test_6438.txt\n",
      "test_6439.txt\n",
      "test_6440.txt\n",
      "test_6441.txt\n",
      "test_6442.txt\n",
      "test_6443.txt\n"
     ]
    },
    {
     "name": "stderr",
     "output_type": "stream",
     "text": [
      "\r",
      " 26%|█████████▋                           | 6444/24526 [01:50<05:09, 58.40it/s]"
     ]
    },
    {
     "name": "stdout",
     "output_type": "stream",
     "text": [
      "test_6444.txt\n",
      "test_6445.txt\n",
      "test_6446.txt\n",
      "test_6447.txt\n",
      "test_6448.txt\n",
      "test_6449.txt\n"
     ]
    },
    {
     "name": "stderr",
     "output_type": "stream",
     "text": [
      "\r",
      " 26%|█████████▋                           | 6450/24526 [01:50<05:09, 58.39it/s]"
     ]
    },
    {
     "name": "stdout",
     "output_type": "stream",
     "text": [
      "test_6450.txt\n",
      "test_6451.txt\n",
      "test_6452.txt\n",
      "test_6453.txt\n",
      "test_6454.txt\n",
      "test_6455.txt\n"
     ]
    },
    {
     "name": "stderr",
     "output_type": "stream",
     "text": [
      "\r",
      " 26%|█████████▋                           | 6456/24526 [01:50<05:09, 58.35it/s]"
     ]
    },
    {
     "name": "stdout",
     "output_type": "stream",
     "text": [
      "test_6456.txt\n",
      "test_6457.txt\n",
      "test_6458.txt\n",
      "test_6459.txt\n",
      "test_6460.txt\n"
     ]
    },
    {
     "name": "stderr",
     "output_type": "stream",
     "text": [
      "\r",
      " 26%|█████████▋                           | 6461/24526 [01:50<05:09, 58.34it/s]"
     ]
    },
    {
     "name": "stdout",
     "output_type": "stream",
     "text": [
      "test_6461.txt\n",
      "test_6462.txt\n",
      "test_6463.txt\n",
      "test_6464.txt\n",
      "test_6465.txt\n",
      "test_6466.txt\n"
     ]
    },
    {
     "name": "stderr",
     "output_type": "stream",
     "text": [
      "\r",
      " 26%|█████████▊                           | 6467/24526 [01:50<05:09, 58.34it/s]"
     ]
    },
    {
     "name": "stdout",
     "output_type": "stream",
     "text": [
      "test_6467.txt\n",
      "test_6468.txt\n",
      "test_6469.txt\n",
      "test_6470.txt\n",
      "test_6471.txt\n",
      "test_6472.txt\n",
      "test_6473.txt\n",
      "test_6474.txt\n",
      "test_6475.txt\n"
     ]
    },
    {
     "name": "stderr",
     "output_type": "stream",
     "text": [
      "\r",
      " 26%|█████████▊                           | 6476/24526 [01:50<05:09, 58.36it/s]"
     ]
    },
    {
     "name": "stdout",
     "output_type": "stream",
     "text": [
      "test_6476.txt\n",
      "test_6477.txt\n",
      "test_6478.txt\n",
      "test_6479.txt\n",
      "test_6480.txt\n",
      "test_6481.txt\n"
     ]
    },
    {
     "name": "stderr",
     "output_type": "stream",
     "text": [
      "\r",
      " 26%|█████████▊                           | 6482/24526 [01:51<05:09, 58.35it/s]"
     ]
    },
    {
     "name": "stdout",
     "output_type": "stream",
     "text": [
      "test_6482.txt\n",
      "test_6483.txt\n",
      "test_6484.txt\n",
      "test_6485.txt\n",
      "test_6486.txt\n",
      "test_6487.txt\n"
     ]
    },
    {
     "name": "stderr",
     "output_type": "stream",
     "text": [
      "\r",
      " 26%|█████████▊                           | 6488/24526 [01:51<05:09, 58.35it/s]"
     ]
    },
    {
     "name": "stdout",
     "output_type": "stream",
     "text": [
      "test_6488.txt\n",
      "test_6489.txt\n",
      "test_6490.txt\n",
      "test_6491.txt\n",
      "test_6492.txt\n",
      "test_6493.txt\n"
     ]
    },
    {
     "name": "stderr",
     "output_type": "stream",
     "text": [
      "\r",
      " 26%|█████████▊                           | 6494/24526 [01:51<05:09, 58.33it/s]"
     ]
    },
    {
     "name": "stdout",
     "output_type": "stream",
     "text": [
      "test_6494.txt\n",
      "test_6495.txt\n",
      "test_6496.txt\n",
      "test_6497.txt\n",
      "test_6498.txt\n",
      "test_6499.txt\n",
      "test_6500.txt\n",
      "test_6501.txt\n"
     ]
    },
    {
     "name": "stderr",
     "output_type": "stream",
     "text": [
      "\r",
      " 27%|█████████▊                           | 6502/24526 [01:51<05:08, 58.35it/s]"
     ]
    },
    {
     "name": "stdout",
     "output_type": "stream",
     "text": [
      "test_6502.txt\n",
      "test_6503.txt\n",
      "test_6504.txt\n",
      "test_6505.txt\n",
      "test_6506.txt\n",
      "test_6507.txt\n",
      "test_6508.txt\n",
      "test_6509.txt\n"
     ]
    },
    {
     "name": "stderr",
     "output_type": "stream",
     "text": [
      "\r",
      " 27%|█████████▊                           | 6510/24526 [01:51<05:08, 58.35it/s]"
     ]
    },
    {
     "name": "stdout",
     "output_type": "stream",
     "text": [
      "test_6510.txt\n",
      "test_6511.txt\n",
      "test_6512.txt\n",
      "test_6513.txt\n",
      "test_6514.txt\n",
      "test_6515.txt\n"
     ]
    },
    {
     "name": "stderr",
     "output_type": "stream",
     "text": [
      "\r",
      " 27%|█████████▊                           | 6516/24526 [01:51<05:08, 58.35it/s]"
     ]
    },
    {
     "name": "stdout",
     "output_type": "stream",
     "text": [
      "test_6516.txt\n",
      "test_6517.txt\n",
      "test_6518.txt\n",
      "test_6519.txt\n",
      "test_6520.txt\n",
      "test_6521.txt\n"
     ]
    },
    {
     "name": "stderr",
     "output_type": "stream",
     "text": [
      "\r",
      " 27%|█████████▊                           | 6522/24526 [01:51<05:08, 58.34it/s]"
     ]
    },
    {
     "name": "stdout",
     "output_type": "stream",
     "text": [
      "test_6522.txt\n",
      "test_6523.txt\n",
      "test_6524.txt\n",
      "test_6525.txt\n",
      "test_6526.txt\n",
      "test_6527.txt\n",
      "test_6528.txt\n"
     ]
    },
    {
     "name": "stderr",
     "output_type": "stream",
     "text": [
      "\r",
      " 27%|█████████▊                           | 6529/24526 [01:51<05:08, 58.35it/s]"
     ]
    },
    {
     "name": "stdout",
     "output_type": "stream",
     "text": [
      "test_6529.txt\n",
      "test_6530.txt\n",
      "test_6531.txt\n",
      "test_6532.txt\n",
      "test_6533.txt\n",
      "test_6534.txt\n",
      "test_6535.txt\n"
     ]
    },
    {
     "name": "stderr",
     "output_type": "stream",
     "text": [
      "\r",
      " 27%|█████████▊                           | 6536/24526 [01:52<05:08, 58.35it/s]"
     ]
    },
    {
     "name": "stdout",
     "output_type": "stream",
     "text": [
      "test_6536.txt\n",
      "test_6537.txt\n",
      "test_6538.txt\n",
      "test_6539.txt\n",
      "test_6540.txt\n",
      "test_6541.txt\n"
     ]
    },
    {
     "name": "stderr",
     "output_type": "stream",
     "text": [
      "\r",
      " 27%|█████████▊                           | 6542/24526 [01:52<05:08, 58.35it/s]"
     ]
    },
    {
     "name": "stdout",
     "output_type": "stream",
     "text": [
      "test_6542.txt\n",
      "test_6543.txt\n",
      "test_6544.txt\n",
      "test_6545.txt\n",
      "test_6546.txt\n",
      "test_6547.txt\n"
     ]
    },
    {
     "name": "stderr",
     "output_type": "stream",
     "text": [
      "\r",
      " 27%|█████████▉                           | 6548/24526 [01:52<05:08, 58.34it/s]"
     ]
    },
    {
     "name": "stdout",
     "output_type": "stream",
     "text": [
      "test_6548.txt\n",
      "test_6549.txt\n",
      "test_6550.txt\n",
      "test_6551.txt\n",
      "test_6552.txt\n",
      "test_6553.txt\n"
     ]
    },
    {
     "name": "stderr",
     "output_type": "stream",
     "text": [
      "\r",
      " 27%|█████████▉                           | 6554/24526 [01:52<05:08, 58.33it/s]"
     ]
    },
    {
     "name": "stdout",
     "output_type": "stream",
     "text": [
      "test_6554.txt\n",
      "test_6555.txt\n",
      "test_6556.txt\n",
      "test_6557.txt\n",
      "test_6558.txt\n",
      "test_6559.txt\n",
      "test_6560.txt\n"
     ]
    },
    {
     "name": "stderr",
     "output_type": "stream",
     "text": [
      "\r",
      " 27%|█████████▉                           | 6561/24526 [01:52<05:07, 58.34it/s]"
     ]
    },
    {
     "name": "stdout",
     "output_type": "stream",
     "text": [
      "test_6561.txt\n",
      "test_6562.txt\n",
      "test_6563.txt\n",
      "test_6564.txt\n",
      "test_6565.txt\n",
      "test_6566.txt\n",
      "test_6567.txt\n",
      "test_6568.txt\n",
      "test_6569.txt\n"
     ]
    },
    {
     "name": "stderr",
     "output_type": "stream",
     "text": [
      "\r",
      " 27%|█████████▉                           | 6570/24526 [01:52<05:07, 58.36it/s]"
     ]
    },
    {
     "name": "stdout",
     "output_type": "stream",
     "text": [
      "test_6570.txt\n",
      "test_6571.txt\n",
      "test_6572.txt\n",
      "test_6573.txt\n",
      "test_6574.txt\n",
      "test_6575.txt\n",
      "test_6576.txt\n"
     ]
    },
    {
     "name": "stderr",
     "output_type": "stream",
     "text": [
      "\r",
      " 27%|█████████▉                           | 6577/24526 [01:52<05:07, 58.35it/s]"
     ]
    },
    {
     "name": "stdout",
     "output_type": "stream",
     "text": [
      "test_6577.txt\n",
      "test_6578.txt\n",
      "test_6579.txt\n",
      "test_6580.txt\n",
      "test_6581.txt\n",
      "test_6582.txt\n",
      "test_6583.txt\n"
     ]
    },
    {
     "name": "stderr",
     "output_type": "stream",
     "text": [
      "\r",
      " 27%|█████████▉                           | 6584/24526 [01:52<05:07, 58.35it/s]"
     ]
    },
    {
     "name": "stdout",
     "output_type": "stream",
     "text": [
      "test_6584.txt\n",
      "test_6585.txt\n",
      "test_6586.txt\n",
      "test_6587.txt\n",
      "test_6588.txt\n",
      "test_6589.txt\n",
      "test_6590.txt\n"
     ]
    },
    {
     "name": "stderr",
     "output_type": "stream",
     "text": [
      "\r",
      " 27%|█████████▉                           | 6591/24526 [01:53<05:07, 58.33it/s]"
     ]
    },
    {
     "name": "stdout",
     "output_type": "stream",
     "text": [
      "test_6591.txt\n",
      "test_6592.txt\n",
      "test_6593.txt\n",
      "test_6594.txt\n",
      "test_6595.txt\n",
      "test_6596.txt\n"
     ]
    },
    {
     "name": "stderr",
     "output_type": "stream",
     "text": [
      "\r",
      " 27%|█████████▉                           | 6597/24526 [01:53<05:07, 58.33it/s]"
     ]
    },
    {
     "name": "stdout",
     "output_type": "stream",
     "text": [
      "test_6597.txt\n",
      "test_6598.txt\n",
      "test_6599.txt\n",
      "test_6600.txt\n",
      "test_6601.txt\n",
      "test_6602.txt\n"
     ]
    },
    {
     "name": "stderr",
     "output_type": "stream",
     "text": [
      "\r",
      " 27%|█████████▉                           | 6603/24526 [01:53<05:07, 58.33it/s]"
     ]
    },
    {
     "name": "stdout",
     "output_type": "stream",
     "text": [
      "test_6603.txt\n",
      "test_6604.txt\n",
      "test_6605.txt\n",
      "test_6606.txt\n",
      "test_6607.txt\n",
      "test_6608.txt\n"
     ]
    },
    {
     "name": "stderr",
     "output_type": "stream",
     "text": [
      "\r",
      " 27%|█████████▉                           | 6609/24526 [01:53<05:07, 58.33it/s]"
     ]
    },
    {
     "name": "stdout",
     "output_type": "stream",
     "text": [
      "test_6609.txt\n",
      "test_6610.txt\n",
      "test_6611.txt\n",
      "test_6612.txt\n",
      "test_6613.txt\n",
      "test_6614.txt\n",
      "test_6615.txt\n",
      "test_6616.txt\n"
     ]
    },
    {
     "name": "stderr",
     "output_type": "stream",
     "text": [
      "\r",
      " 27%|█████████▉                           | 6617/24526 [01:53<05:06, 58.34it/s]"
     ]
    },
    {
     "name": "stdout",
     "output_type": "stream",
     "text": [
      "test_6617.txt\n",
      "test_6618.txt\n",
      "test_6619.txt\n",
      "test_6620.txt\n",
      "test_6621.txt\n",
      "test_6622.txt\n",
      "test_6623.txt\n"
     ]
    },
    {
     "name": "stderr",
     "output_type": "stream",
     "text": [
      "\r",
      " 27%|█████████▉                           | 6624/24526 [01:53<05:06, 58.34it/s]"
     ]
    },
    {
     "name": "stdout",
     "output_type": "stream",
     "text": [
      "test_6624.txt\n",
      "test_6625.txt\n",
      "test_6626.txt\n",
      "test_6627.txt\n",
      "test_6628.txt\n",
      "test_6629.txt\n"
     ]
    },
    {
     "name": "stderr",
     "output_type": "stream",
     "text": [
      "\r",
      " 27%|██████████                           | 6630/24526 [01:53<05:06, 58.33it/s]"
     ]
    },
    {
     "name": "stdout",
     "output_type": "stream",
     "text": [
      "test_6630.txt\n",
      "test_6631.txt\n",
      "test_6632.txt\n",
      "test_6633.txt\n",
      "test_6634.txt\n",
      "test_6635.txt\n",
      "test_6636.txt\n"
     ]
    },
    {
     "name": "stderr",
     "output_type": "stream",
     "text": [
      "\r",
      " 27%|██████████                           | 6637/24526 [01:53<05:06, 58.32it/s]"
     ]
    },
    {
     "name": "stdout",
     "output_type": "stream",
     "text": [
      "test_6637.txt\n",
      "test_6638.txt\n",
      "test_6639.txt\n",
      "test_6640.txt\n",
      "test_6641.txt\n",
      "test_6642.txt\n"
     ]
    },
    {
     "name": "stderr",
     "output_type": "stream",
     "text": [
      "\r",
      " 27%|██████████                           | 6643/24526 [01:53<05:06, 58.31it/s]"
     ]
    },
    {
     "name": "stdout",
     "output_type": "stream",
     "text": [
      "test_6643.txt\n",
      "test_6644.txt\n",
      "test_6645.txt\n",
      "test_6646.txt\n",
      "test_6647.txt\n",
      "test_6648.txt\n"
     ]
    },
    {
     "name": "stderr",
     "output_type": "stream",
     "text": [
      "\r",
      " 27%|██████████                           | 6649/24526 [01:54<05:06, 58.32it/s]"
     ]
    },
    {
     "name": "stdout",
     "output_type": "stream",
     "text": [
      "test_6649.txt\n",
      "test_6650.txt\n",
      "test_6651.txt\n",
      "test_6652.txt\n",
      "test_6653.txt\n",
      "test_6654.txt\n"
     ]
    },
    {
     "name": "stderr",
     "output_type": "stream",
     "text": [
      "\r",
      " 27%|██████████                           | 6655/24526 [01:54<05:06, 58.31it/s]"
     ]
    },
    {
     "name": "stdout",
     "output_type": "stream",
     "text": [
      "test_6655.txt\n",
      "test_6656.txt\n",
      "test_6657.txt\n",
      "test_6658.txt\n",
      "test_6659.txt\n",
      "test_6660.txt\n"
     ]
    },
    {
     "name": "stderr",
     "output_type": "stream",
     "text": [
      "\r",
      " 27%|██████████                           | 6661/24526 [01:54<05:06, 58.31it/s]"
     ]
    },
    {
     "name": "stdout",
     "output_type": "stream",
     "text": [
      "test_6661.txt\n",
      "test_6662.txt\n",
      "test_6663.txt\n",
      "test_6664.txt\n",
      "test_6665.txt\n",
      "test_6666.txt\n"
     ]
    },
    {
     "name": "stderr",
     "output_type": "stream",
     "text": [
      "\r",
      " 27%|██████████                           | 6667/24526 [01:54<05:06, 58.30it/s]"
     ]
    },
    {
     "name": "stdout",
     "output_type": "stream",
     "text": [
      "test_6667.txt\n",
      "test_6668.txt\n",
      "test_6669.txt\n",
      "test_6670.txt\n",
      "test_6671.txt\n",
      "test_6672.txt\n"
     ]
    },
    {
     "name": "stderr",
     "output_type": "stream",
     "text": [
      "\r",
      " 27%|██████████                           | 6673/24526 [01:54<05:06, 58.29it/s]"
     ]
    },
    {
     "name": "stdout",
     "output_type": "stream",
     "text": [
      "test_6673.txt\n",
      "test_6674.txt\n",
      "test_6675.txt\n",
      "test_6676.txt\n",
      "test_6677.txt\n",
      "test_6678.txt\n",
      "test_6679.txt\n"
     ]
    },
    {
     "name": "stderr",
     "output_type": "stream",
     "text": [
      "\r",
      " 27%|██████████                           | 6680/24526 [01:54<05:06, 58.29it/s]"
     ]
    },
    {
     "name": "stdout",
     "output_type": "stream",
     "text": [
      "test_6680.txt\n",
      "test_6681.txt\n",
      "test_6682.txt\n",
      "test_6683.txt\n",
      "test_6684.txt\n",
      "test_6685.txt\n",
      "test_6686.txt\n"
     ]
    },
    {
     "name": "stderr",
     "output_type": "stream",
     "text": [
      "\r",
      " 27%|██████████                           | 6687/24526 [01:54<05:05, 58.30it/s]"
     ]
    },
    {
     "name": "stdout",
     "output_type": "stream",
     "text": [
      "test_6687.txt\n",
      "test_6688.txt\n",
      "test_6689.txt\n",
      "test_6690.txt\n",
      "test_6691.txt\n",
      "test_6692.txt\n"
     ]
    },
    {
     "name": "stderr",
     "output_type": "stream",
     "text": [
      "\r",
      " 27%|██████████                           | 6693/24526 [01:54<05:05, 58.30it/s]"
     ]
    },
    {
     "name": "stdout",
     "output_type": "stream",
     "text": [
      "test_6693.txt\n",
      "test_6694.txt\n",
      "test_6695.txt\n",
      "test_6696.txt\n",
      "test_6697.txt\n",
      "test_6698.txt\n"
     ]
    },
    {
     "name": "stderr",
     "output_type": "stream",
     "text": [
      "\r",
      " 27%|██████████                           | 6699/24526 [01:54<05:05, 58.30it/s]"
     ]
    },
    {
     "name": "stdout",
     "output_type": "stream",
     "text": [
      "test_6699.txt\n",
      "test_6700.txt\n",
      "test_6701.txt\n",
      "test_6702.txt\n",
      "test_6703.txt\n",
      "test_6704.txt\n"
     ]
    },
    {
     "name": "stderr",
     "output_type": "stream",
     "text": [
      "\r",
      " 27%|██████████                           | 6705/24526 [01:55<05:05, 58.29it/s]"
     ]
    },
    {
     "name": "stdout",
     "output_type": "stream",
     "text": [
      "test_6705.txt\n",
      "test_6706.txt\n",
      "test_6707.txt\n",
      "test_6708.txt\n",
      "test_6709.txt\n",
      "test_6710.txt\n"
     ]
    },
    {
     "name": "stderr",
     "output_type": "stream",
     "text": [
      "\r",
      " 27%|██████████                           | 6711/24526 [01:55<05:05, 58.29it/s]"
     ]
    },
    {
     "name": "stdout",
     "output_type": "stream",
     "text": [
      "test_6711.txt\n",
      "test_6712.txt\n",
      "test_6713.txt\n",
      "test_6714.txt\n",
      "test_6715.txt\n",
      "test_6716.txt\n",
      "test_6717.txt\n",
      "test_6718.txt\n"
     ]
    },
    {
     "name": "stderr",
     "output_type": "stream",
     "text": [
      "\r",
      " 27%|██████████▏                          | 6719/24526 [01:55<05:05, 58.30it/s]"
     ]
    },
    {
     "name": "stdout",
     "output_type": "stream",
     "text": [
      "test_6719.txt\n",
      "test_6720.txt\n",
      "test_6721.txt\n",
      "test_6722.txt\n",
      "test_6723.txt\n",
      "test_6724.txt\n",
      "test_6725.txt\n"
     ]
    },
    {
     "name": "stderr",
     "output_type": "stream",
     "text": [
      "\r",
      " 27%|██████████▏                          | 6726/24526 [01:55<05:05, 58.30it/s]"
     ]
    },
    {
     "name": "stdout",
     "output_type": "stream",
     "text": [
      "test_6726.txt\n",
      "test_6727.txt\n",
      "test_6728.txt\n",
      "test_6729.txt\n",
      "test_6730.txt\n",
      "test_6731.txt\n",
      "test_6732.txt\n"
     ]
    },
    {
     "name": "stderr",
     "output_type": "stream",
     "text": [
      "\r",
      " 27%|██████████▏                          | 6733/24526 [01:55<05:05, 58.31it/s]"
     ]
    },
    {
     "name": "stdout",
     "output_type": "stream",
     "text": [
      "test_6733.txt\n",
      "test_6734.txt\n",
      "test_6735.txt\n",
      "test_6736.txt\n",
      "test_6737.txt\n",
      "test_6738.txt\n",
      "test_6739.txt\n"
     ]
    },
    {
     "name": "stderr",
     "output_type": "stream",
     "text": [
      "\r",
      " 27%|██████████▏                          | 6740/24526 [01:55<05:05, 58.31it/s]"
     ]
    },
    {
     "name": "stdout",
     "output_type": "stream",
     "text": [
      "test_6740.txt\n",
      "test_6741.txt\n",
      "test_6742.txt\n",
      "test_6743.txt\n",
      "test_6744.txt\n",
      "test_6745.txt\n",
      "test_6746.txt\n"
     ]
    },
    {
     "name": "stderr",
     "output_type": "stream",
     "text": [
      "\r",
      " 28%|██████████▏                          | 6747/24526 [01:55<05:04, 58.30it/s]"
     ]
    },
    {
     "name": "stdout",
     "output_type": "stream",
     "text": [
      "test_6747.txt\n",
      "test_6748.txt\n",
      "test_6749.txt\n",
      "test_6750.txt\n",
      "test_6751.txt\n",
      "test_6752.txt\n"
     ]
    },
    {
     "name": "stderr",
     "output_type": "stream",
     "text": [
      "\r",
      " 28%|██████████▏                          | 6753/24526 [01:55<05:04, 58.30it/s]"
     ]
    },
    {
     "name": "stdout",
     "output_type": "stream",
     "text": [
      "test_6753.txt\n",
      "test_6754.txt\n",
      "test_6755.txt\n",
      "test_6756.txt\n",
      "test_6757.txt\n",
      "test_6758.txt\n"
     ]
    },
    {
     "name": "stderr",
     "output_type": "stream",
     "text": [
      "\r",
      " 28%|██████████▏                          | 6759/24526 [01:55<05:04, 58.29it/s]"
     ]
    },
    {
     "name": "stdout",
     "output_type": "stream",
     "text": [
      "test_6759.txt\n",
      "test_6760.txt\n",
      "test_6761.txt\n",
      "test_6762.txt\n",
      "test_6763.txt\n",
      "test_6764.txt\n"
     ]
    },
    {
     "name": "stderr",
     "output_type": "stream",
     "text": [
      "\r",
      " 28%|██████████▏                          | 6765/24526 [01:56<05:04, 58.29it/s]"
     ]
    },
    {
     "name": "stdout",
     "output_type": "stream",
     "text": [
      "test_6765.txt\n",
      "test_6766.txt\n",
      "test_6767.txt\n",
      "test_6768.txt\n",
      "test_6769.txt\n",
      "test_6770.txt\n"
     ]
    },
    {
     "name": "stderr",
     "output_type": "stream",
     "text": [
      "\r",
      " 28%|██████████▏                          | 6771/24526 [01:56<05:04, 58.28it/s]"
     ]
    },
    {
     "name": "stdout",
     "output_type": "stream",
     "text": [
      "test_6771.txt\n",
      "test_6772.txt\n",
      "test_6773.txt\n",
      "test_6774.txt\n",
      "test_6775.txt\n",
      "test_6776.txt\n"
     ]
    },
    {
     "name": "stderr",
     "output_type": "stream",
     "text": [
      "\r",
      " 28%|██████████▏                          | 6777/24526 [01:56<05:04, 58.28it/s]"
     ]
    },
    {
     "name": "stdout",
     "output_type": "stream",
     "text": [
      "test_6777.txt\n",
      "test_6778.txt\n",
      "test_6779.txt\n",
      "test_6780.txt\n",
      "test_6781.txt\n",
      "test_6782.txt\n"
     ]
    },
    {
     "name": "stderr",
     "output_type": "stream",
     "text": [
      "\r",
      " 28%|██████████▏                          | 6783/24526 [01:56<05:04, 58.26it/s]"
     ]
    },
    {
     "name": "stdout",
     "output_type": "stream",
     "text": [
      "test_6783.txt\n",
      "test_6784.txt\n",
      "test_6785.txt\n",
      "test_6786.txt\n",
      "test_6787.txt\n",
      "test_6788.txt\n"
     ]
    },
    {
     "name": "stderr",
     "output_type": "stream",
     "text": [
      "\r",
      " 28%|██████████▏                          | 6789/24526 [01:56<05:04, 58.26it/s]"
     ]
    },
    {
     "name": "stdout",
     "output_type": "stream",
     "text": [
      "test_6789.txt\n",
      "test_6790.txt\n",
      "test_6791.txt\n",
      "test_6792.txt\n",
      "test_6793.txt\n",
      "test_6794.txt\n",
      "test_6795.txt\n"
     ]
    },
    {
     "name": "stderr",
     "output_type": "stream",
     "text": [
      "\r",
      " 28%|██████████▎                          | 6796/24526 [01:56<05:04, 58.26it/s]"
     ]
    },
    {
     "name": "stdout",
     "output_type": "stream",
     "text": [
      "test_6796.txt\n",
      "test_6797.txt\n",
      "test_6798.txt\n",
      "test_6799.txt\n",
      "test_6800.txt\n",
      "test_6801.txt\n"
     ]
    },
    {
     "name": "stderr",
     "output_type": "stream",
     "text": [
      "\r",
      " 28%|██████████▎                          | 6802/24526 [01:56<05:04, 58.25it/s]"
     ]
    },
    {
     "name": "stdout",
     "output_type": "stream",
     "text": [
      "test_6802.txt\n",
      "test_6803.txt\n",
      "test_6804.txt\n",
      "test_6805.txt\n",
      "test_6806.txt\n",
      "test_6807.txt\n",
      "test_6808.txt\n"
     ]
    },
    {
     "name": "stderr",
     "output_type": "stream",
     "text": [
      "\r",
      " 28%|██████████▎                          | 6809/24526 [01:56<05:04, 58.26it/s]"
     ]
    },
    {
     "name": "stdout",
     "output_type": "stream",
     "text": [
      "test_6809.txt\n",
      "test_6810.txt\n",
      "test_6811.txt\n",
      "test_6812.txt\n",
      "test_6813.txt\n",
      "test_6814.txt\n"
     ]
    },
    {
     "name": "stderr",
     "output_type": "stream",
     "text": [
      "\r",
      " 28%|██████████▎                          | 6815/24526 [01:56<05:04, 58.25it/s]"
     ]
    },
    {
     "name": "stdout",
     "output_type": "stream",
     "text": [
      "test_6815.txt\n",
      "test_6816.txt\n",
      "test_6817.txt\n",
      "test_6818.txt\n",
      "test_6819.txt\n",
      "test_6820.txt\n"
     ]
    },
    {
     "name": "stderr",
     "output_type": "stream",
     "text": [
      "\r",
      " 28%|██████████▎                          | 6821/24526 [01:57<05:04, 58.24it/s]"
     ]
    },
    {
     "name": "stdout",
     "output_type": "stream",
     "text": [
      "test_6821.txt\n",
      "test_6822.txt\n",
      "test_6823.txt\n",
      "test_6824.txt\n",
      "test_6825.txt\n",
      "test_6826.txt\n",
      "test_6827.txt\n",
      "test_6828.txt\n"
     ]
    },
    {
     "name": "stderr",
     "output_type": "stream",
     "text": [
      "\r",
      " 28%|██████████▎                          | 6829/24526 [01:57<05:03, 58.24it/s]"
     ]
    },
    {
     "name": "stdout",
     "output_type": "stream",
     "text": [
      "test_6829.txt\n",
      "test_6830.txt\n",
      "test_6831.txt\n",
      "test_6832.txt\n",
      "test_6833.txt\n",
      "test_6834.txt\n"
     ]
    },
    {
     "name": "stderr",
     "output_type": "stream",
     "text": [
      "\r",
      " 28%|██████████▎                          | 6835/24526 [01:57<05:03, 58.24it/s]"
     ]
    },
    {
     "name": "stdout",
     "output_type": "stream",
     "text": [
      "test_6835.txt\n",
      "test_6836.txt\n",
      "test_6837.txt\n",
      "test_6838.txt\n",
      "test_6839.txt\n",
      "test_6840.txt\n"
     ]
    },
    {
     "name": "stderr",
     "output_type": "stream",
     "text": [
      "\r",
      " 28%|██████████▎                          | 6841/24526 [01:57<05:03, 58.23it/s]"
     ]
    },
    {
     "name": "stdout",
     "output_type": "stream",
     "text": [
      "test_6841.txt\n",
      "test_6842.txt\n",
      "test_6843.txt\n",
      "test_6844.txt\n",
      "test_6845.txt\n",
      "test_6846.txt\n"
     ]
    },
    {
     "name": "stderr",
     "output_type": "stream",
     "text": [
      "\r",
      " 28%|██████████▎                          | 6847/24526 [01:57<05:03, 58.23it/s]"
     ]
    },
    {
     "name": "stdout",
     "output_type": "stream",
     "text": [
      "test_6847.txt\n",
      "test_6848.txt\n",
      "test_6849.txt\n",
      "test_6850.txt\n",
      "test_6851.txt\n",
      "test_6852.txt\n",
      "test_6853.txt\n",
      "test_6854.txt\n"
     ]
    },
    {
     "name": "stderr",
     "output_type": "stream",
     "text": [
      "\r",
      " 28%|██████████▎                          | 6855/24526 [01:57<05:03, 58.24it/s]"
     ]
    },
    {
     "name": "stdout",
     "output_type": "stream",
     "text": [
      "test_6855.txt\n",
      "test_6856.txt\n",
      "test_6857.txt\n",
      "test_6858.txt\n",
      "test_6859.txt\n",
      "test_6860.txt\n"
     ]
    },
    {
     "name": "stderr",
     "output_type": "stream",
     "text": [
      "\r",
      " 28%|██████████▎                          | 6861/24526 [01:57<05:03, 58.25it/s]"
     ]
    },
    {
     "name": "stdout",
     "output_type": "stream",
     "text": [
      "test_6861.txt\n",
      "test_6862.txt\n",
      "test_6863.txt\n",
      "test_6864.txt\n",
      "test_6865.txt\n",
      "test_6866.txt\n"
     ]
    },
    {
     "name": "stderr",
     "output_type": "stream",
     "text": [
      "\r",
      " 28%|██████████▎                          | 6867/24526 [01:57<05:03, 58.24it/s]"
     ]
    },
    {
     "name": "stdout",
     "output_type": "stream",
     "text": [
      "test_6867.txt\n",
      "test_6868.txt\n",
      "test_6869.txt\n",
      "test_6870.txt\n",
      "test_6871.txt\n",
      "test_6872.txt\n",
      "test_6873.txt\n",
      "test_6874.txt\n",
      "test_6875.txt\n"
     ]
    },
    {
     "name": "stderr",
     "output_type": "stream",
     "text": [
      "\r",
      " 28%|██████████▎                          | 6876/24526 [01:58<05:02, 58.26it/s]"
     ]
    },
    {
     "name": "stdout",
     "output_type": "stream",
     "text": [
      "test_6876.txt\n",
      "test_6877.txt\n",
      "test_6878.txt\n",
      "test_6879.txt\n",
      "test_6880.txt\n",
      "test_6881.txt\n",
      "test_6882.txt\n"
     ]
    },
    {
     "name": "stderr",
     "output_type": "stream",
     "text": [
      "\r",
      " 28%|██████████▍                          | 6883/24526 [01:58<05:02, 58.26it/s]"
     ]
    },
    {
     "name": "stdout",
     "output_type": "stream",
     "text": [
      "test_6883.txt\n",
      "test_6884.txt\n",
      "test_6885.txt\n",
      "test_6886.txt\n",
      "test_6887.txt\n",
      "test_6888.txt\n",
      "test_6889.txt\n",
      "test_6890.txt\n"
     ]
    },
    {
     "name": "stderr",
     "output_type": "stream",
     "text": [
      "\r",
      " 28%|██████████▍                          | 6891/24526 [01:58<05:02, 58.28it/s]"
     ]
    },
    {
     "name": "stdout",
     "output_type": "stream",
     "text": [
      "test_6891.txt\n",
      "test_6892.txt\n",
      "test_6893.txt\n",
      "test_6894.txt\n",
      "test_6895.txt\n",
      "test_6896.txt\n",
      "test_6897.txt\n",
      "test_6898.txt\n",
      "test_6899.txt\n"
     ]
    },
    {
     "name": "stderr",
     "output_type": "stream",
     "text": [
      "\r",
      " 28%|██████████▍                          | 6900/24526 [01:58<05:02, 58.30it/s]"
     ]
    },
    {
     "name": "stdout",
     "output_type": "stream",
     "text": [
      "test_6900.txt\n",
      "test_6901.txt\n",
      "test_6902.txt\n",
      "test_6903.txt\n",
      "test_6904.txt\n",
      "test_6905.txt\n",
      "test_6906.txt\n",
      "test_6907.txt\n"
     ]
    },
    {
     "name": "stderr",
     "output_type": "stream",
     "text": [
      "\r",
      " 28%|██████████▍                          | 6908/24526 [01:58<05:02, 58.29it/s]"
     ]
    },
    {
     "name": "stdout",
     "output_type": "stream",
     "text": [
      "test_6908.txt\n",
      "test_6909.txt\n",
      "test_6910.txt\n",
      "test_6911.txt\n",
      "test_6912.txt\n",
      "test_6913.txt\n",
      "test_6914.txt\n"
     ]
    },
    {
     "name": "stderr",
     "output_type": "stream",
     "text": [
      "\r",
      " 28%|██████████▍                          | 6915/24526 [01:58<05:02, 58.30it/s]"
     ]
    },
    {
     "name": "stdout",
     "output_type": "stream",
     "text": [
      "test_6915.txt\n",
      "test_6916.txt\n",
      "test_6917.txt\n",
      "test_6918.txt\n",
      "test_6919.txt\n",
      "test_6920.txt\n",
      "test_6921.txt\n"
     ]
    },
    {
     "name": "stderr",
     "output_type": "stream",
     "text": [
      "\r",
      " 28%|██████████▍                          | 6922/24526 [01:58<05:02, 58.29it/s]"
     ]
    },
    {
     "name": "stdout",
     "output_type": "stream",
     "text": [
      "test_6922.txt\n",
      "test_6923.txt\n",
      "test_6924.txt\n",
      "test_6925.txt\n",
      "test_6926.txt\n",
      "test_6927.txt\n",
      "test_6928.txt\n"
     ]
    },
    {
     "name": "stderr",
     "output_type": "stream",
     "text": [
      "\r",
      " 28%|██████████▍                          | 6929/24526 [01:58<05:01, 58.30it/s]"
     ]
    },
    {
     "name": "stdout",
     "output_type": "stream",
     "text": [
      "test_6929.txt\n",
      "test_6930.txt\n",
      "test_6931.txt\n",
      "test_6932.txt\n",
      "test_6933.txt\n",
      "test_6934.txt\n",
      "test_6935.txt\n"
     ]
    },
    {
     "name": "stderr",
     "output_type": "stream",
     "text": [
      "\r",
      " 28%|██████████▍                          | 6936/24526 [01:58<05:01, 58.30it/s]"
     ]
    },
    {
     "name": "stdout",
     "output_type": "stream",
     "text": [
      "test_6936.txt\n",
      "test_6937.txt\n",
      "test_6938.txt\n",
      "test_6939.txt\n",
      "test_6940.txt\n",
      "test_6941.txt\n",
      "test_6942.txt\n"
     ]
    },
    {
     "name": "stderr",
     "output_type": "stream",
     "text": [
      "\r",
      " 28%|██████████▍                          | 6943/24526 [01:59<05:01, 58.30it/s]"
     ]
    },
    {
     "name": "stdout",
     "output_type": "stream",
     "text": [
      "test_6943.txt\n",
      "test_6944.txt\n",
      "test_6945.txt\n",
      "test_6946.txt\n",
      "test_6947.txt\n",
      "test_6948.txt\n",
      "test_6949.txt\n"
     ]
    },
    {
     "name": "stderr",
     "output_type": "stream",
     "text": [
      "\r",
      " 28%|██████████▍                          | 6950/24526 [01:59<05:01, 58.30it/s]"
     ]
    },
    {
     "name": "stdout",
     "output_type": "stream",
     "text": [
      "test_6950.txt\n",
      "test_6951.txt\n",
      "test_6952.txt\n",
      "test_6953.txt\n",
      "test_6954.txt\n",
      "test_6955.txt\n",
      "test_6956.txt\n"
     ]
    },
    {
     "name": "stderr",
     "output_type": "stream",
     "text": [
      "\r",
      " 28%|██████████▍                          | 6957/24526 [01:59<05:01, 58.31it/s]"
     ]
    },
    {
     "name": "stdout",
     "output_type": "stream",
     "text": [
      "test_6957.txt\n",
      "test_6958.txt\n",
      "test_6959.txt\n",
      "test_6960.txt\n",
      "test_6961.txt\n",
      "test_6962.txt\n",
      "test_6963.txt\n"
     ]
    },
    {
     "name": "stderr",
     "output_type": "stream",
     "text": [
      "\r",
      " 28%|██████████▌                          | 6964/24526 [01:59<05:01, 58.32it/s]"
     ]
    },
    {
     "name": "stdout",
     "output_type": "stream",
     "text": [
      "test_6964.txt\n",
      "test_6965.txt\n",
      "test_6966.txt\n",
      "test_6967.txt\n",
      "test_6968.txt\n",
      "test_6969.txt\n",
      "test_6970.txt\n"
     ]
    },
    {
     "name": "stderr",
     "output_type": "stream",
     "text": [
      "\r",
      " 28%|██████████▌                          | 6971/24526 [01:59<05:01, 58.30it/s]"
     ]
    },
    {
     "name": "stdout",
     "output_type": "stream",
     "text": [
      "test_6971.txt\n",
      "test_6972.txt\n",
      "test_6973.txt\n",
      "test_6974.txt\n",
      "test_6975.txt\n",
      "test_6976.txt\n"
     ]
    },
    {
     "name": "stderr",
     "output_type": "stream",
     "text": [
      "\r",
      " 28%|██████████▌                          | 6977/24526 [01:59<05:01, 58.29it/s]"
     ]
    },
    {
     "name": "stdout",
     "output_type": "stream",
     "text": [
      "test_6977.txt\n",
      "test_6978.txt\n",
      "test_6979.txt\n",
      "test_6980.txt\n",
      "test_6981.txt\n",
      "test_6982.txt\n"
     ]
    },
    {
     "name": "stderr",
     "output_type": "stream",
     "text": [
      "\r",
      " 28%|██████████▌                          | 6983/24526 [01:59<05:00, 58.29it/s]"
     ]
    },
    {
     "name": "stdout",
     "output_type": "stream",
     "text": [
      "test_6983.txt\n",
      "test_6984.txt\n",
      "test_6985.txt\n",
      "test_6986.txt\n",
      "test_6987.txt\n",
      "test_6988.txt\n",
      "test_6989.txt\n",
      "test_6990.txt\n"
     ]
    },
    {
     "name": "stderr",
     "output_type": "stream",
     "text": [
      "\r",
      " 29%|██████████▌                          | 6991/24526 [01:59<05:00, 58.31it/s]"
     ]
    },
    {
     "name": "stdout",
     "output_type": "stream",
     "text": [
      "test_6991.txt\n",
      "test_6992.txt\n",
      "test_6993.txt\n",
      "test_6994.txt\n",
      "test_6995.txt\n",
      "test_6996.txt\n",
      "test_6997.txt\n"
     ]
    },
    {
     "name": "stderr",
     "output_type": "stream",
     "text": [
      "\r",
      " 29%|██████████▌                          | 6998/24526 [02:00<05:00, 58.30it/s]"
     ]
    },
    {
     "name": "stdout",
     "output_type": "stream",
     "text": [
      "test_6998.txt\n",
      "test_6999.txt\n",
      "test_7000.txt\n",
      "test_7001.txt\n",
      "test_7002.txt\n",
      "test_7003.txt\n"
     ]
    },
    {
     "name": "stderr",
     "output_type": "stream",
     "text": [
      "\r",
      " 29%|██████████▌                          | 7004/24526 [02:00<05:00, 58.30it/s]"
     ]
    },
    {
     "name": "stdout",
     "output_type": "stream",
     "text": [
      "test_7004.txt\n",
      "test_7005.txt\n",
      "test_7006.txt\n",
      "test_7007.txt\n",
      "test_7008.txt\n",
      "test_7009.txt\n"
     ]
    },
    {
     "name": "stderr",
     "output_type": "stream",
     "text": [
      "\r",
      " 29%|██████████▌                          | 7010/24526 [02:00<05:00, 58.30it/s]"
     ]
    },
    {
     "name": "stdout",
     "output_type": "stream",
     "text": [
      "test_7010.txt\n",
      "test_7011.txt\n",
      "test_7012.txt\n",
      "test_7013.txt\n",
      "test_7014.txt\n",
      "test_7015.txt\n"
     ]
    },
    {
     "name": "stderr",
     "output_type": "stream",
     "text": [
      "\r",
      " 29%|██████████▌                          | 7016/24526 [02:00<05:00, 58.29it/s]"
     ]
    },
    {
     "name": "stdout",
     "output_type": "stream",
     "text": [
      "test_7016.txt\n",
      "test_7017.txt\n",
      "test_7018.txt\n",
      "test_7019.txt\n",
      "test_7020.txt\n",
      "test_7021.txt\n"
     ]
    },
    {
     "name": "stderr",
     "output_type": "stream",
     "text": [
      "\r",
      " 29%|██████████▌                          | 7022/24526 [02:00<05:00, 58.29it/s]"
     ]
    },
    {
     "name": "stdout",
     "output_type": "stream",
     "text": [
      "test_7022.txt\n",
      "test_7023.txt\n",
      "test_7024.txt\n",
      "test_7025.txt\n",
      "test_7026.txt\n",
      "test_7027.txt\n",
      "test_7028.txt\n"
     ]
    },
    {
     "name": "stderr",
     "output_type": "stream",
     "text": [
      "\r",
      " 29%|██████████▌                          | 7029/24526 [02:00<05:00, 58.29it/s]"
     ]
    },
    {
     "name": "stdout",
     "output_type": "stream",
     "text": [
      "test_7029.txt\n",
      "test_7030.txt\n",
      "test_7031.txt\n",
      "test_7032.txt\n",
      "test_7033.txt\n",
      "test_7034.txt\n",
      "test_7035.txt\n"
     ]
    },
    {
     "name": "stderr",
     "output_type": "stream",
     "text": [
      "\r",
      " 29%|██████████▌                          | 7036/24526 [02:00<05:00, 58.30it/s]"
     ]
    },
    {
     "name": "stdout",
     "output_type": "stream",
     "text": [
      "test_7036.txt\n",
      "test_7037.txt\n",
      "test_7038.txt\n",
      "test_7039.txt\n",
      "test_7040.txt\n",
      "test_7041.txt\n",
      "test_7042.txt\n"
     ]
    },
    {
     "name": "stderr",
     "output_type": "stream",
     "text": [
      "\r",
      " 29%|██████████▋                          | 7043/24526 [02:00<04:59, 58.29it/s]"
     ]
    },
    {
     "name": "stdout",
     "output_type": "stream",
     "text": [
      "test_7043.txt\n",
      "test_7044.txt\n",
      "test_7045.txt\n",
      "test_7046.txt\n",
      "test_7047.txt\n",
      "test_7048.txt\n"
     ]
    },
    {
     "name": "stderr",
     "output_type": "stream",
     "text": [
      "\r",
      " 29%|██████████▋                          | 7049/24526 [02:00<04:59, 58.28it/s]"
     ]
    },
    {
     "name": "stdout",
     "output_type": "stream",
     "text": [
      "test_7049.txt\n",
      "test_7050.txt\n",
      "test_7051.txt\n",
      "test_7052.txt\n",
      "test_7053.txt\n",
      "test_7054.txt\n"
     ]
    },
    {
     "name": "stderr",
     "output_type": "stream",
     "text": [
      "\r",
      " 29%|██████████▋                          | 7055/24526 [02:01<04:59, 58.27it/s]"
     ]
    },
    {
     "name": "stdout",
     "output_type": "stream",
     "text": [
      "test_7055.txt\n",
      "test_7056.txt\n",
      "test_7057.txt\n",
      "test_7058.txt\n",
      "test_7059.txt\n",
      "test_7060.txt\n"
     ]
    },
    {
     "name": "stderr",
     "output_type": "stream",
     "text": [
      "\r",
      " 29%|██████████▋                          | 7061/24526 [02:01<04:59, 58.27it/s]"
     ]
    },
    {
     "name": "stdout",
     "output_type": "stream",
     "text": [
      "test_7061.txt\n",
      "test_7062.txt\n",
      "test_7063.txt\n",
      "test_7064.txt\n",
      "test_7065.txt\n",
      "test_7066.txt\n",
      "test_7067.txt\n"
     ]
    },
    {
     "name": "stderr",
     "output_type": "stream",
     "text": [
      "\r",
      " 29%|██████████▋                          | 7068/24526 [02:01<04:59, 58.27it/s]"
     ]
    },
    {
     "name": "stdout",
     "output_type": "stream",
     "text": [
      "test_7068.txt\n",
      "test_7069.txt\n",
      "test_7070.txt\n",
      "test_7071.txt\n",
      "test_7072.txt\n",
      "test_7073.txt\n",
      "test_7074.txt\n",
      "test_7075.txt\n",
      "test_7076.txt\n"
     ]
    },
    {
     "name": "stderr",
     "output_type": "stream",
     "text": [
      "\r",
      " 29%|██████████▋                          | 7077/24526 [02:01<04:59, 58.30it/s]"
     ]
    },
    {
     "name": "stdout",
     "output_type": "stream",
     "text": [
      "test_7077.txt\n",
      "test_7078.txt\n",
      "test_7079.txt\n",
      "test_7080.txt\n",
      "test_7081.txt\n",
      "test_7082.txt\n",
      "test_7083.txt\n"
     ]
    },
    {
     "name": "stderr",
     "output_type": "stream",
     "text": [
      "\r",
      " 29%|██████████▋                          | 7084/24526 [02:01<04:59, 58.30it/s]"
     ]
    },
    {
     "name": "stdout",
     "output_type": "stream",
     "text": [
      "test_7084.txt\n",
      "test_7085.txt\n",
      "test_7086.txt\n",
      "test_7087.txt\n",
      "test_7088.txt\n",
      "test_7089.txt\n",
      "test_7090.txt\n"
     ]
    },
    {
     "name": "stderr",
     "output_type": "stream",
     "text": [
      "\r",
      " 29%|██████████▋                          | 7091/24526 [02:01<04:59, 58.30it/s]"
     ]
    },
    {
     "name": "stdout",
     "output_type": "stream",
     "text": [
      "test_7091.txt\n",
      "test_7092.txt\n",
      "test_7093.txt\n",
      "test_7094.txt\n",
      "test_7095.txt\n",
      "test_7096.txt\n",
      "test_7097.txt\n"
     ]
    },
    {
     "name": "stderr",
     "output_type": "stream",
     "text": [
      "\r",
      " 29%|██████████▋                          | 7098/24526 [02:01<04:58, 58.30it/s]"
     ]
    },
    {
     "name": "stdout",
     "output_type": "stream",
     "text": [
      "test_7098.txt\n",
      "test_7099.txt\n",
      "test_7100.txt\n",
      "test_7101.txt\n",
      "test_7102.txt\n",
      "test_7103.txt\n",
      "test_7104.txt\n"
     ]
    },
    {
     "name": "stderr",
     "output_type": "stream",
     "text": [
      "\r",
      " 29%|██████████▋                          | 7105/24526 [02:01<04:58, 58.30it/s]"
     ]
    },
    {
     "name": "stdout",
     "output_type": "stream",
     "text": [
      "test_7105.txt\n",
      "test_7106.txt\n",
      "test_7107.txt\n",
      "test_7108.txt\n",
      "test_7109.txt\n",
      "test_7110.txt\n",
      "test_7111.txt\n"
     ]
    },
    {
     "name": "stderr",
     "output_type": "stream",
     "text": [
      "\r",
      " 29%|██████████▋                          | 7112/24526 [02:01<04:58, 58.30it/s]"
     ]
    },
    {
     "name": "stdout",
     "output_type": "stream",
     "text": [
      "test_7112.txt\n",
      "test_7113.txt\n",
      "test_7114.txt\n",
      "test_7115.txt\n",
      "test_7116.txt\n",
      "test_7117.txt\n",
      "test_7118.txt\n"
     ]
    },
    {
     "name": "stderr",
     "output_type": "stream",
     "text": [
      "\r",
      " 29%|██████████▋                          | 7119/24526 [02:02<04:58, 58.30it/s]"
     ]
    },
    {
     "name": "stdout",
     "output_type": "stream",
     "text": [
      "test_7119.txt\n",
      "test_7120.txt\n",
      "test_7121.txt\n",
      "test_7122.txt\n",
      "test_7123.txt\n",
      "test_7124.txt\n",
      "test_7125.txt\n",
      "test_7126.txt\n"
     ]
    },
    {
     "name": "stderr",
     "output_type": "stream",
     "text": [
      "\r",
      " 29%|██████████▊                          | 7127/24526 [02:02<04:58, 58.31it/s]"
     ]
    },
    {
     "name": "stdout",
     "output_type": "stream",
     "text": [
      "test_7127.txt\n",
      "test_7128.txt\n",
      "test_7129.txt\n",
      "test_7130.txt\n",
      "test_7131.txt\n",
      "test_7132.txt\n",
      "test_7133.txt\n"
     ]
    },
    {
     "name": "stderr",
     "output_type": "stream",
     "text": [
      "\r",
      " 29%|██████████▊                          | 7134/24526 [02:02<04:58, 58.31it/s]"
     ]
    },
    {
     "name": "stdout",
     "output_type": "stream",
     "text": [
      "test_7134.txt\n",
      "test_7135.txt\n",
      "test_7136.txt\n",
      "test_7137.txt\n",
      "test_7138.txt\n",
      "test_7139.txt\n",
      "test_7140.txt\n",
      "test_7141.txt\n"
     ]
    },
    {
     "name": "stderr",
     "output_type": "stream",
     "text": [
      "\r",
      " 29%|██████████▊                          | 7142/24526 [02:02<04:58, 58.32it/s]"
     ]
    },
    {
     "name": "stdout",
     "output_type": "stream",
     "text": [
      "test_7142.txt\n",
      "test_7143.txt\n",
      "test_7144.txt\n",
      "test_7145.txt\n",
      "test_7146.txt\n",
      "test_7147.txt\n",
      "test_7148.txt\n"
     ]
    },
    {
     "name": "stderr",
     "output_type": "stream",
     "text": [
      "\r",
      " 29%|██████████▊                          | 7149/24526 [02:02<04:58, 58.30it/s]"
     ]
    },
    {
     "name": "stdout",
     "output_type": "stream",
     "text": [
      "test_7149.txt\n",
      "test_7150.txt\n",
      "test_7151.txt\n",
      "test_7152.txt\n",
      "test_7153.txt\n",
      "test_7154.txt\n"
     ]
    },
    {
     "name": "stderr",
     "output_type": "stream",
     "text": [
      "\r",
      " 29%|██████████▊                          | 7155/24526 [02:02<04:58, 58.29it/s]"
     ]
    },
    {
     "name": "stdout",
     "output_type": "stream",
     "text": [
      "test_7155.txt\n",
      "test_7156.txt\n",
      "test_7157.txt\n",
      "test_7158.txt\n",
      "test_7159.txt\n",
      "test_7160.txt\n"
     ]
    },
    {
     "name": "stderr",
     "output_type": "stream",
     "text": [
      "\r",
      " 29%|██████████▊                          | 7161/24526 [02:02<04:57, 58.28it/s]"
     ]
    },
    {
     "name": "stdout",
     "output_type": "stream",
     "text": [
      "test_7161.txt\n",
      "test_7162.txt\n",
      "test_7163.txt\n",
      "test_7164.txt\n",
      "test_7165.txt\n",
      "test_7166.txt\n"
     ]
    },
    {
     "name": "stderr",
     "output_type": "stream",
     "text": [
      "\r",
      " 29%|██████████▊                          | 7167/24526 [02:02<04:57, 58.27it/s]"
     ]
    },
    {
     "name": "stdout",
     "output_type": "stream",
     "text": [
      "test_7167.txt\n",
      "test_7168.txt\n",
      "test_7169.txt\n",
      "test_7170.txt\n",
      "test_7171.txt\n",
      "test_7172.txt\n",
      "test_7173.txt\n",
      "test_7174.txt\n",
      "test_7175.txt\n"
     ]
    },
    {
     "name": "stderr",
     "output_type": "stream",
     "text": [
      "\r",
      " 29%|██████████▊                          | 7176/24526 [02:03<04:57, 58.29it/s]"
     ]
    },
    {
     "name": "stdout",
     "output_type": "stream",
     "text": [
      "test_7176.txt\n",
      "test_7177.txt\n",
      "test_7178.txt\n",
      "test_7179.txt\n",
      "test_7180.txt\n",
      "test_7181.txt\n",
      "test_7182.txt\n"
     ]
    },
    {
     "name": "stderr",
     "output_type": "stream",
     "text": [
      "\r",
      " 29%|██████████▊                          | 7183/24526 [02:03<04:57, 58.30it/s]"
     ]
    },
    {
     "name": "stdout",
     "output_type": "stream",
     "text": [
      "test_7183.txt\n",
      "test_7184.txt\n",
      "test_7185.txt\n",
      "test_7186.txt\n",
      "test_7187.txt\n",
      "test_7188.txt\n",
      "test_7189.txt\n"
     ]
    },
    {
     "name": "stderr",
     "output_type": "stream",
     "text": [
      "\r",
      " 29%|██████████▊                          | 7190/24526 [02:03<04:57, 58.30it/s]"
     ]
    },
    {
     "name": "stdout",
     "output_type": "stream",
     "text": [
      "test_7190.txt\n",
      "test_7191.txt\n",
      "test_7192.txt\n",
      "test_7193.txt\n",
      "test_7194.txt\n",
      "test_7195.txt\n",
      "test_7196.txt\n"
     ]
    },
    {
     "name": "stderr",
     "output_type": "stream",
     "text": [
      "\r",
      " 29%|██████████▊                          | 7197/24526 [02:03<04:57, 58.30it/s]"
     ]
    },
    {
     "name": "stdout",
     "output_type": "stream",
     "text": [
      "test_7197.txt\n",
      "test_7198.txt\n",
      "test_7199.txt\n",
      "test_7200.txt\n",
      "test_7201.txt\n",
      "test_7202.txt\n",
      "test_7203.txt\n"
     ]
    },
    {
     "name": "stderr",
     "output_type": "stream",
     "text": [
      "\r",
      " 29%|██████████▊                          | 7204/24526 [02:03<04:57, 58.29it/s]"
     ]
    },
    {
     "name": "stdout",
     "output_type": "stream",
     "text": [
      "test_7204.txt\n",
      "test_7205.txt\n",
      "test_7206.txt\n",
      "test_7207.txt\n",
      "test_7208.txt\n",
      "test_7209.txt\n"
     ]
    },
    {
     "name": "stderr",
     "output_type": "stream",
     "text": [
      "\r",
      " 29%|██████████▉                          | 7210/24526 [02:03<04:57, 58.28it/s]"
     ]
    },
    {
     "name": "stdout",
     "output_type": "stream",
     "text": [
      "test_7210.txt\n",
      "test_7211.txt\n",
      "test_7212.txt\n",
      "test_7213.txt\n",
      "test_7214.txt\n",
      "test_7215.txt\n",
      "test_7216.txt\n",
      "test_7217.txt\n"
     ]
    },
    {
     "name": "stderr",
     "output_type": "stream",
     "text": [
      "\r",
      " 29%|██████████▉                          | 7218/24526 [02:03<04:56, 58.29it/s]"
     ]
    },
    {
     "name": "stdout",
     "output_type": "stream",
     "text": [
      "test_7218.txt\n",
      "test_7219.txt\n",
      "test_7220.txt\n",
      "test_7221.txt\n",
      "test_7222.txt\n",
      "test_7223.txt\n",
      "test_7224.txt\n"
     ]
    },
    {
     "name": "stderr",
     "output_type": "stream",
     "text": [
      "\r",
      " 29%|██████████▉                          | 7225/24526 [02:03<04:56, 58.29it/s]"
     ]
    },
    {
     "name": "stdout",
     "output_type": "stream",
     "text": [
      "test_7225.txt\n",
      "test_7226.txt\n",
      "test_7227.txt\n",
      "test_7228.txt\n",
      "test_7229.txt\n",
      "test_7230.txt\n"
     ]
    },
    {
     "name": "stderr",
     "output_type": "stream",
     "text": [
      "\r",
      " 29%|██████████▉                          | 7231/24526 [02:04<04:56, 58.30it/s]"
     ]
    },
    {
     "name": "stdout",
     "output_type": "stream",
     "text": [
      "test_7231.txt\n",
      "test_7232.txt\n",
      "test_7233.txt\n",
      "test_7234.txt\n",
      "test_7235.txt\n",
      "test_7236.txt\n"
     ]
    },
    {
     "name": "stderr",
     "output_type": "stream",
     "text": [
      "\r",
      " 30%|██████████▉                          | 7237/24526 [02:04<04:56, 58.30it/s]"
     ]
    },
    {
     "name": "stdout",
     "output_type": "stream",
     "text": [
      "test_7237.txt\n",
      "test_7238.txt\n",
      "test_7239.txt\n",
      "test_7240.txt\n",
      "test_7241.txt\n",
      "test_7242.txt\n"
     ]
    },
    {
     "name": "stderr",
     "output_type": "stream",
     "text": [
      "\r",
      " 30%|██████████▉                          | 7243/24526 [02:04<04:56, 58.29it/s]"
     ]
    },
    {
     "name": "stdout",
     "output_type": "stream",
     "text": [
      "test_7243.txt\n",
      "test_7244.txt\n",
      "test_7245.txt\n",
      "test_7246.txt\n",
      "test_7247.txt\n",
      "test_7248.txt\n"
     ]
    },
    {
     "name": "stderr",
     "output_type": "stream",
     "text": [
      "\r",
      " 30%|██████████▉                          | 7249/24526 [02:04<04:56, 58.28it/s]"
     ]
    },
    {
     "name": "stdout",
     "output_type": "stream",
     "text": [
      "test_7249.txt\n",
      "test_7250.txt\n",
      "test_7251.txt\n",
      "test_7252.txt\n",
      "test_7253.txt\n",
      "test_7254.txt\n",
      "test_7255.txt\n"
     ]
    },
    {
     "name": "stderr",
     "output_type": "stream",
     "text": [
      "\r",
      " 30%|██████████▉                          | 7256/24526 [02:04<04:56, 58.29it/s]"
     ]
    },
    {
     "name": "stdout",
     "output_type": "stream",
     "text": [
      "test_7256.txt\n",
      "test_7257.txt\n",
      "test_7258.txt\n",
      "test_7259.txt\n",
      "test_7260.txt\n",
      "test_7261.txt\n"
     ]
    },
    {
     "name": "stderr",
     "output_type": "stream",
     "text": [
      "\r",
      " 30%|██████████▉                          | 7262/24526 [02:04<04:56, 58.29it/s]"
     ]
    },
    {
     "name": "stdout",
     "output_type": "stream",
     "text": [
      "test_7262.txt\n",
      "test_7263.txt\n",
      "test_7264.txt\n",
      "test_7265.txt\n",
      "test_7266.txt\n",
      "test_7267.txt\n"
     ]
    },
    {
     "name": "stderr",
     "output_type": "stream",
     "text": [
      "\r",
      " 30%|██████████▉                          | 7268/24526 [02:04<04:56, 58.29it/s]"
     ]
    },
    {
     "name": "stdout",
     "output_type": "stream",
     "text": [
      "test_7268.txt\n",
      "test_7269.txt\n",
      "test_7270.txt\n",
      "test_7271.txt\n",
      "test_7272.txt\n",
      "test_7273.txt\n"
     ]
    },
    {
     "name": "stderr",
     "output_type": "stream",
     "text": [
      "\r",
      " 30%|██████████▉                          | 7274/24526 [02:04<04:55, 58.29it/s]"
     ]
    },
    {
     "name": "stdout",
     "output_type": "stream",
     "text": [
      "test_7274.txt\n",
      "test_7275.txt\n",
      "test_7276.txt\n",
      "test_7277.txt\n",
      "test_7278.txt\n",
      "test_7279.txt\n"
     ]
    },
    {
     "name": "stderr",
     "output_type": "stream",
     "text": [
      "\r",
      " 30%|██████████▉                          | 7280/24526 [02:04<04:55, 58.28it/s]"
     ]
    },
    {
     "name": "stdout",
     "output_type": "stream",
     "text": [
      "test_7280.txt\n",
      "test_7281.txt\n",
      "test_7282.txt\n",
      "test_7283.txt\n",
      "test_7284.txt\n",
      "test_7285.txt\n"
     ]
    },
    {
     "name": "stderr",
     "output_type": "stream",
     "text": [
      "\r",
      " 30%|██████████▉                          | 7286/24526 [02:05<04:55, 58.28it/s]"
     ]
    },
    {
     "name": "stdout",
     "output_type": "stream",
     "text": [
      "test_7286.txt\n",
      "test_7287.txt\n",
      "test_7288.txt\n",
      "test_7289.txt\n",
      "test_7290.txt\n",
      "test_7291.txt\n"
     ]
    },
    {
     "name": "stderr",
     "output_type": "stream",
     "text": [
      "\r",
      " 30%|███████████                          | 7292/24526 [02:05<04:55, 58.27it/s]"
     ]
    },
    {
     "name": "stdout",
     "output_type": "stream",
     "text": [
      "test_7292.txt\n",
      "test_7293.txt\n",
      "test_7294.txt\n",
      "test_7295.txt\n",
      "test_7296.txt\n",
      "test_7297.txt\n",
      "test_7298.txt\n"
     ]
    },
    {
     "name": "stderr",
     "output_type": "stream",
     "text": [
      "\r",
      " 30%|███████████                          | 7299/24526 [02:05<04:55, 58.27it/s]"
     ]
    },
    {
     "name": "stdout",
     "output_type": "stream",
     "text": [
      "test_7299.txt\n",
      "test_7300.txt\n",
      "test_7301.txt\n",
      "test_7302.txt\n",
      "test_7303.txt\n",
      "test_7304.txt\n",
      "test_7305.txt\n"
     ]
    },
    {
     "name": "stderr",
     "output_type": "stream",
     "text": [
      "\r",
      " 30%|███████████                          | 7306/24526 [02:05<04:55, 58.27it/s]"
     ]
    },
    {
     "name": "stdout",
     "output_type": "stream",
     "text": [
      "test_7306.txt\n",
      "test_7307.txt\n",
      "test_7308.txt\n",
      "test_7309.txt\n",
      "test_7310.txt\n",
      "test_7311.txt\n"
     ]
    },
    {
     "name": "stderr",
     "output_type": "stream",
     "text": [
      "\r",
      " 30%|███████████                          | 7312/24526 [02:05<04:55, 58.26it/s]"
     ]
    },
    {
     "name": "stdout",
     "output_type": "stream",
     "text": [
      "test_7312.txt\n",
      "test_7313.txt\n",
      "test_7314.txt\n",
      "test_7315.txt\n",
      "test_7316.txt\n",
      "test_7317.txt\n"
     ]
    },
    {
     "name": "stderr",
     "output_type": "stream",
     "text": [
      "\r",
      " 30%|███████████                          | 7318/24526 [02:05<04:55, 58.26it/s]"
     ]
    },
    {
     "name": "stdout",
     "output_type": "stream",
     "text": [
      "test_7318.txt\n",
      "test_7319.txt\n",
      "test_7320.txt\n",
      "test_7321.txt\n",
      "test_7322.txt\n",
      "test_7323.txt\n"
     ]
    },
    {
     "name": "stderr",
     "output_type": "stream",
     "text": [
      "\r",
      " 30%|███████████                          | 7324/24526 [02:05<04:55, 58.26it/s]"
     ]
    },
    {
     "name": "stdout",
     "output_type": "stream",
     "text": [
      "test_7324.txt\n",
      "test_7325.txt\n",
      "test_7326.txt\n",
      "test_7327.txt\n",
      "test_7328.txt\n",
      "test_7329.txt\n"
     ]
    },
    {
     "name": "stderr",
     "output_type": "stream",
     "text": [
      "\r",
      " 30%|███████████                          | 7330/24526 [02:05<04:55, 58.25it/s]"
     ]
    },
    {
     "name": "stdout",
     "output_type": "stream",
     "text": [
      "test_7330.txt\n",
      "test_7331.txt\n",
      "test_7332.txt\n",
      "test_7333.txt\n",
      "test_7334.txt\n",
      "test_7335.txt\n",
      "test_7336.txt\n"
     ]
    },
    {
     "name": "stderr",
     "output_type": "stream",
     "text": [
      "\r",
      " 30%|███████████                          | 7337/24526 [02:05<04:55, 58.24it/s]"
     ]
    },
    {
     "name": "stdout",
     "output_type": "stream",
     "text": [
      "test_7337.txt\n",
      "test_7338.txt\n",
      "test_7339.txt\n",
      "test_7340.txt\n",
      "test_7341.txt\n",
      "test_7342.txt\n"
     ]
    },
    {
     "name": "stderr",
     "output_type": "stream",
     "text": [
      "\r",
      " 30%|███████████                          | 7343/24526 [02:06<04:55, 58.24it/s]"
     ]
    },
    {
     "name": "stdout",
     "output_type": "stream",
     "text": [
      "test_7343.txt\n",
      "test_7344.txt\n",
      "test_7345.txt\n",
      "test_7346.txt\n",
      "test_7347.txt\n",
      "test_7348.txt\n",
      "test_7349.txt\n"
     ]
    },
    {
     "name": "stderr",
     "output_type": "stream",
     "text": [
      "\r",
      " 30%|███████████                          | 7350/24526 [02:06<04:54, 58.24it/s]"
     ]
    },
    {
     "name": "stdout",
     "output_type": "stream",
     "text": [
      "test_7350.txt\n",
      "test_7351.txt\n",
      "test_7352.txt\n",
      "test_7353.txt\n",
      "test_7354.txt\n",
      "test_7355.txt\n"
     ]
    },
    {
     "name": "stderr",
     "output_type": "stream",
     "text": [
      "\r",
      " 30%|███████████                          | 7356/24526 [02:06<04:54, 58.23it/s]"
     ]
    },
    {
     "name": "stdout",
     "output_type": "stream",
     "text": [
      "test_7356.txt\n",
      "test_7357.txt\n",
      "test_7358.txt\n",
      "test_7359.txt\n",
      "test_7360.txt\n",
      "test_7361.txt\n"
     ]
    },
    {
     "name": "stderr",
     "output_type": "stream",
     "text": [
      "\r",
      " 30%|███████████                          | 7362/24526 [02:06<04:54, 58.24it/s]"
     ]
    },
    {
     "name": "stdout",
     "output_type": "stream",
     "text": [
      "test_7362.txt\n",
      "test_7363.txt\n",
      "test_7364.txt\n",
      "test_7365.txt\n",
      "test_7366.txt\n",
      "test_7367.txt\n"
     ]
    },
    {
     "name": "stderr",
     "output_type": "stream",
     "text": [
      "\r",
      " 30%|███████████                          | 7368/24526 [02:06<04:54, 58.23it/s]"
     ]
    },
    {
     "name": "stdout",
     "output_type": "stream",
     "text": [
      "test_7368.txt\n",
      "test_7369.txt\n",
      "test_7370.txt\n",
      "test_7371.txt\n",
      "test_7372.txt\n",
      "test_7373.txt\n",
      "test_7374.txt\n"
     ]
    },
    {
     "name": "stderr",
     "output_type": "stream",
     "text": [
      "\r",
      " 30%|███████████▏                         | 7375/24526 [02:06<04:54, 58.24it/s]"
     ]
    },
    {
     "name": "stdout",
     "output_type": "stream",
     "text": [
      "test_7375.txt\n",
      "test_7376.txt\n",
      "test_7377.txt\n",
      "test_7378.txt\n",
      "test_7379.txt\n",
      "test_7380.txt\n"
     ]
    },
    {
     "name": "stderr",
     "output_type": "stream",
     "text": [
      "\r",
      " 30%|███████████▏                         | 7381/24526 [02:06<04:54, 58.24it/s]"
     ]
    },
    {
     "name": "stdout",
     "output_type": "stream",
     "text": [
      "test_7381.txt\n",
      "test_7382.txt\n",
      "test_7383.txt\n",
      "test_7384.txt\n",
      "test_7385.txt\n",
      "test_7386.txt\n",
      "test_7387.txt\n"
     ]
    },
    {
     "name": "stderr",
     "output_type": "stream",
     "text": [
      "\r",
      " 30%|███████████▏                         | 7388/24526 [02:06<04:54, 58.25it/s]"
     ]
    },
    {
     "name": "stdout",
     "output_type": "stream",
     "text": [
      "test_7388.txt\n",
      "test_7389.txt\n",
      "test_7390.txt\n",
      "test_7391.txt\n",
      "test_7392.txt\n",
      "test_7393.txt\n",
      "test_7394.txt\n"
     ]
    },
    {
     "name": "stderr",
     "output_type": "stream",
     "text": [
      "\r",
      " 30%|███████████▏                         | 7395/24526 [02:06<04:54, 58.24it/s]"
     ]
    },
    {
     "name": "stdout",
     "output_type": "stream",
     "text": [
      "test_7395.txt\n",
      "test_7396.txt\n",
      "test_7397.txt\n",
      "test_7398.txt\n",
      "test_7399.txt\n",
      "test_7400.txt\n",
      "test_7401.txt\n",
      "test_7402.txt\n"
     ]
    },
    {
     "name": "stderr",
     "output_type": "stream",
     "text": [
      "\r",
      " 30%|███████████▏                         | 7403/24526 [02:07<04:54, 58.24it/s]"
     ]
    },
    {
     "name": "stdout",
     "output_type": "stream",
     "text": [
      "test_7403.txt\n",
      "test_7404.txt\n",
      "test_7405.txt\n",
      "test_7406.txt\n",
      "test_7407.txt\n",
      "test_7408.txt\n"
     ]
    },
    {
     "name": "stderr",
     "output_type": "stream",
     "text": [
      "\r",
      " 30%|███████████▏                         | 7409/24526 [02:07<04:53, 58.24it/s]"
     ]
    },
    {
     "name": "stdout",
     "output_type": "stream",
     "text": [
      "test_7409.txt\n",
      "test_7410.txt\n",
      "test_7411.txt\n",
      "test_7412.txt\n",
      "test_7413.txt\n",
      "test_7414.txt\n"
     ]
    },
    {
     "name": "stderr",
     "output_type": "stream",
     "text": [
      "\r",
      " 30%|███████████▏                         | 7415/24526 [02:07<04:53, 58.23it/s]"
     ]
    },
    {
     "name": "stdout",
     "output_type": "stream",
     "text": [
      "test_7415.txt\n",
      "test_7416.txt\n",
      "test_7417.txt\n",
      "test_7418.txt\n",
      "test_7419.txt\n",
      "test_7420.txt\n",
      "test_7421.txt\n",
      "test_7422.txt\n"
     ]
    },
    {
     "name": "stderr",
     "output_type": "stream",
     "text": [
      "\r",
      " 30%|███████████▏                         | 7423/24526 [02:07<04:53, 58.24it/s]"
     ]
    },
    {
     "name": "stdout",
     "output_type": "stream",
     "text": [
      "test_7423.txt\n",
      "test_7424.txt\n",
      "test_7425.txt\n",
      "test_7426.txt\n",
      "test_7427.txt\n",
      "test_7428.txt\n",
      "test_7429.txt\n"
     ]
    },
    {
     "name": "stderr",
     "output_type": "stream",
     "text": [
      "\r",
      " 30%|███████████▏                         | 7430/24526 [02:07<04:53, 58.24it/s]"
     ]
    },
    {
     "name": "stdout",
     "output_type": "stream",
     "text": [
      "test_7430.txt\n",
      "test_7431.txt\n",
      "test_7432.txt\n",
      "test_7433.txt\n",
      "test_7434.txt\n",
      "test_7435.txt\n",
      "test_7436.txt\n"
     ]
    },
    {
     "name": "stderr",
     "output_type": "stream",
     "text": [
      "\r",
      " 30%|███████████▏                         | 7437/24526 [02:07<04:53, 58.24it/s]"
     ]
    },
    {
     "name": "stdout",
     "output_type": "stream",
     "text": [
      "test_7437.txt\n",
      "test_7438.txt\n",
      "test_7439.txt\n",
      "test_7440.txt\n",
      "test_7441.txt\n",
      "test_7442.txt\n",
      "test_7443.txt\n"
     ]
    },
    {
     "name": "stderr",
     "output_type": "stream",
     "text": [
      "\r",
      " 30%|███████████▏                         | 7444/24526 [02:07<04:53, 58.24it/s]"
     ]
    },
    {
     "name": "stdout",
     "output_type": "stream",
     "text": [
      "test_7444.txt\n",
      "test_7445.txt\n",
      "test_7446.txt\n",
      "test_7447.txt\n",
      "test_7448.txt\n",
      "test_7449.txt\n",
      "test_7450.txt\n"
     ]
    },
    {
     "name": "stderr",
     "output_type": "stream",
     "text": [
      "\r",
      " 30%|███████████▏                         | 7451/24526 [02:07<04:53, 58.25it/s]"
     ]
    },
    {
     "name": "stdout",
     "output_type": "stream",
     "text": [
      "test_7451.txt\n",
      "test_7452.txt\n",
      "test_7453.txt\n",
      "test_7454.txt\n",
      "test_7455.txt\n",
      "test_7456.txt\n",
      "test_7457.txt\n"
     ]
    },
    {
     "name": "stderr",
     "output_type": "stream",
     "text": [
      "\r",
      " 30%|███████████▎                         | 7458/24526 [02:08<04:53, 58.25it/s]"
     ]
    },
    {
     "name": "stdout",
     "output_type": "stream",
     "text": [
      "test_7458.txt\n",
      "test_7459.txt\n",
      "test_7460.txt\n",
      "test_7461.txt\n",
      "test_7462.txt\n",
      "test_7463.txt\n",
      "test_7464.txt\n"
     ]
    },
    {
     "name": "stderr",
     "output_type": "stream",
     "text": [
      "\r",
      " 30%|███████████▎                         | 7465/24526 [02:08<04:52, 58.25it/s]"
     ]
    },
    {
     "name": "stdout",
     "output_type": "stream",
     "text": [
      "test_7465.txt\n",
      "test_7466.txt\n",
      "test_7467.txt\n",
      "test_7468.txt\n",
      "test_7469.txt\n",
      "test_7470.txt\n",
      "test_7471.txt\n"
     ]
    },
    {
     "name": "stderr",
     "output_type": "stream",
     "text": [
      "\r",
      " 30%|███████████▎                         | 7472/24526 [02:08<04:52, 58.25it/s]"
     ]
    },
    {
     "name": "stdout",
     "output_type": "stream",
     "text": [
      "test_7472.txt\n",
      "test_7473.txt\n",
      "test_7474.txt\n",
      "test_7475.txt\n",
      "test_7476.txt\n",
      "test_7477.txt\n"
     ]
    },
    {
     "name": "stderr",
     "output_type": "stream",
     "text": [
      "\r",
      " 30%|███████████▎                         | 7478/24526 [02:08<04:52, 58.25it/s]"
     ]
    },
    {
     "name": "stdout",
     "output_type": "stream",
     "text": [
      "test_7478.txt\n",
      "test_7479.txt\n",
      "test_7480.txt\n",
      "test_7481.txt\n",
      "test_7482.txt\n",
      "test_7483.txt\n",
      "test_7484.txt\n"
     ]
    },
    {
     "name": "stderr",
     "output_type": "stream",
     "text": [
      "\r",
      " 31%|███████████▎                         | 7485/24526 [02:08<04:52, 58.25it/s]"
     ]
    },
    {
     "name": "stdout",
     "output_type": "stream",
     "text": [
      "test_7485.txt\n",
      "test_7486.txt\n",
      "test_7487.txt\n",
      "test_7488.txt\n",
      "test_7489.txt\n",
      "test_7490.txt\n",
      "test_7491.txt\n"
     ]
    },
    {
     "name": "stderr",
     "output_type": "stream",
     "text": [
      "\r",
      " 31%|███████████▎                         | 7492/24526 [02:08<04:52, 58.26it/s]"
     ]
    },
    {
     "name": "stdout",
     "output_type": "stream",
     "text": [
      "test_7492.txt\n",
      "test_7493.txt\n",
      "test_7494.txt\n",
      "test_7495.txt\n",
      "test_7496.txt\n",
      "test_7497.txt\n",
      "test_7498.txt\n"
     ]
    },
    {
     "name": "stderr",
     "output_type": "stream",
     "text": [
      "\r",
      " 31%|███████████▎                         | 7499/24526 [02:08<04:52, 58.26it/s]"
     ]
    },
    {
     "name": "stdout",
     "output_type": "stream",
     "text": [
      "test_7499.txt\n",
      "test_7500.txt\n",
      "test_7501.txt\n",
      "test_7502.txt\n",
      "test_7503.txt\n",
      "test_7504.txt\n",
      "test_7505.txt\n"
     ]
    },
    {
     "name": "stderr",
     "output_type": "stream",
     "text": [
      "\r",
      " 31%|███████████▎                         | 7506/24526 [02:08<04:52, 58.26it/s]"
     ]
    },
    {
     "name": "stdout",
     "output_type": "stream",
     "text": [
      "test_7506.txt\n",
      "test_7507.txt\n",
      "test_7508.txt\n",
      "test_7509.txt\n",
      "test_7510.txt\n",
      "test_7511.txt\n"
     ]
    },
    {
     "name": "stderr",
     "output_type": "stream",
     "text": [
      "\r",
      " 31%|███████████▎                         | 7512/24526 [02:08<04:52, 58.25it/s]"
     ]
    },
    {
     "name": "stdout",
     "output_type": "stream",
     "text": [
      "test_7512.txt\n",
      "test_7513.txt\n",
      "test_7514.txt\n",
      "test_7515.txt\n",
      "test_7516.txt\n",
      "test_7517.txt\n",
      "test_7518.txt\n",
      "test_7519.txt\n"
     ]
    },
    {
     "name": "stderr",
     "output_type": "stream",
     "text": [
      "\r",
      " 31%|███████████▎                         | 7520/24526 [02:09<04:51, 58.26it/s]"
     ]
    },
    {
     "name": "stdout",
     "output_type": "stream",
     "text": [
      "test_7520.txt\n",
      "test_7521.txt\n",
      "test_7522.txt\n",
      "test_7523.txt\n",
      "test_7524.txt\n",
      "test_7525.txt\n",
      "test_7526.txt\n"
     ]
    },
    {
     "name": "stderr",
     "output_type": "stream",
     "text": [
      "\r",
      " 31%|███████████▎                         | 7527/24526 [02:09<04:51, 58.25it/s]"
     ]
    },
    {
     "name": "stdout",
     "output_type": "stream",
     "text": [
      "test_7527.txt\n",
      "test_7528.txt\n",
      "test_7529.txt\n",
      "test_7530.txt\n",
      "test_7531.txt\n",
      "test_7532.txt\n"
     ]
    },
    {
     "name": "stderr",
     "output_type": "stream",
     "text": [
      "\r",
      " 31%|███████████▎                         | 7533/24526 [02:09<04:51, 58.25it/s]"
     ]
    },
    {
     "name": "stdout",
     "output_type": "stream",
     "text": [
      "test_7533.txt\n",
      "test_7534.txt\n",
      "test_7535.txt\n",
      "test_7536.txt\n",
      "test_7537.txt\n",
      "test_7538.txt\n"
     ]
    },
    {
     "name": "stderr",
     "output_type": "stream",
     "text": [
      "\r",
      " 31%|███████████▎                         | 7539/24526 [02:09<04:51, 58.25it/s]"
     ]
    },
    {
     "name": "stdout",
     "output_type": "stream",
     "text": [
      "test_7539.txt\n",
      "test_7540.txt\n",
      "test_7541.txt\n",
      "test_7542.txt\n",
      "test_7543.txt\n",
      "test_7544.txt\n"
     ]
    },
    {
     "name": "stderr",
     "output_type": "stream",
     "text": [
      "\r",
      " 31%|███████████▍                         | 7545/24526 [02:09<04:51, 58.24it/s]"
     ]
    },
    {
     "name": "stdout",
     "output_type": "stream",
     "text": [
      "test_7545.txt\n",
      "test_7546.txt\n",
      "test_7547.txt\n",
      "test_7548.txt\n",
      "test_7549.txt\n",
      "test_7550.txt\n",
      "test_7551.txt\n"
     ]
    },
    {
     "name": "stderr",
     "output_type": "stream",
     "text": [
      "\r",
      " 31%|███████████▍                         | 7552/24526 [02:09<04:51, 58.25it/s]"
     ]
    },
    {
     "name": "stdout",
     "output_type": "stream",
     "text": [
      "test_7552.txt\n",
      "test_7553.txt\n",
      "test_7554.txt\n",
      "test_7555.txt\n",
      "test_7556.txt\n",
      "test_7557.txt\n",
      "test_7558.txt\n"
     ]
    },
    {
     "name": "stderr",
     "output_type": "stream",
     "text": [
      "\r",
      " 31%|███████████▍                         | 7559/24526 [02:09<04:51, 58.25it/s]"
     ]
    },
    {
     "name": "stdout",
     "output_type": "stream",
     "text": [
      "test_7559.txt\n",
      "test_7560.txt\n",
      "test_7561.txt\n",
      "test_7562.txt\n",
      "test_7563.txt\n",
      "test_7564.txt\n"
     ]
    },
    {
     "name": "stderr",
     "output_type": "stream",
     "text": [
      "\r",
      " 31%|███████████▍                         | 7565/24526 [02:09<04:51, 58.25it/s]"
     ]
    },
    {
     "name": "stdout",
     "output_type": "stream",
     "text": [
      "test_7565.txt\n",
      "test_7566.txt\n",
      "test_7567.txt\n",
      "test_7568.txt\n",
      "test_7569.txt\n",
      "test_7570.txt\n"
     ]
    },
    {
     "name": "stderr",
     "output_type": "stream",
     "text": [
      "\r",
      " 31%|███████████▍                         | 7571/24526 [02:09<04:51, 58.24it/s]"
     ]
    },
    {
     "name": "stdout",
     "output_type": "stream",
     "text": [
      "test_7571.txt\n",
      "test_7572.txt\n",
      "test_7573.txt\n",
      "test_7574.txt\n",
      "test_7575.txt\n",
      "test_7576.txt\n",
      "test_7577.txt\n"
     ]
    },
    {
     "name": "stderr",
     "output_type": "stream",
     "text": [
      "\r",
      " 31%|███████████▍                         | 7578/24526 [02:10<04:50, 58.25it/s]"
     ]
    },
    {
     "name": "stdout",
     "output_type": "stream",
     "text": [
      "test_7578.txt\n",
      "test_7579.txt\n",
      "test_7580.txt\n",
      "test_7581.txt\n",
      "test_7582.txt\n",
      "test_7583.txt\n",
      "test_7584.txt\n"
     ]
    },
    {
     "name": "stderr",
     "output_type": "stream",
     "text": [
      "\r",
      " 31%|███████████▍                         | 7585/24526 [02:10<04:50, 58.25it/s]"
     ]
    },
    {
     "name": "stdout",
     "output_type": "stream",
     "text": [
      "test_7585.txt\n",
      "test_7586.txt\n",
      "test_7587.txt\n",
      "test_7588.txt\n",
      "test_7589.txt\n",
      "test_7590.txt\n",
      "test_7591.txt\n"
     ]
    },
    {
     "name": "stderr",
     "output_type": "stream",
     "text": [
      "\r",
      " 31%|███████████▍                         | 7592/24526 [02:10<04:50, 58.25it/s]"
     ]
    },
    {
     "name": "stdout",
     "output_type": "stream",
     "text": [
      "test_7592.txt\n",
      "test_7593.txt\n",
      "test_7594.txt\n",
      "test_7595.txt\n",
      "test_7596.txt\n",
      "test_7597.txt\n"
     ]
    },
    {
     "name": "stderr",
     "output_type": "stream",
     "text": [
      "\r",
      " 31%|███████████▍                         | 7598/24526 [02:10<04:50, 58.23it/s]"
     ]
    },
    {
     "name": "stdout",
     "output_type": "stream",
     "text": [
      "test_7598.txt\n",
      "test_7599.txt\n",
      "test_7600.txt\n",
      "test_7601.txt\n",
      "test_7602.txt\n",
      "test_7603.txt\n"
     ]
    },
    {
     "name": "stderr",
     "output_type": "stream",
     "text": [
      "\r",
      " 31%|███████████▍                         | 7604/24526 [02:10<04:50, 58.22it/s]"
     ]
    },
    {
     "name": "stdout",
     "output_type": "stream",
     "text": [
      "test_7604.txt\n",
      "test_7605.txt\n",
      "test_7606.txt\n",
      "test_7607.txt\n",
      "test_7608.txt\n",
      "test_7609.txt\n",
      "test_7610.txt\n"
     ]
    },
    {
     "name": "stderr",
     "output_type": "stream",
     "text": [
      "\r",
      " 31%|███████████▍                         | 7611/24526 [02:10<04:50, 58.22it/s]"
     ]
    },
    {
     "name": "stdout",
     "output_type": "stream",
     "text": [
      "test_7611.txt\n",
      "test_7612.txt\n",
      "test_7613.txt\n",
      "test_7614.txt\n",
      "test_7615.txt\n",
      "test_7616.txt\n"
     ]
    },
    {
     "name": "stderr",
     "output_type": "stream",
     "text": [
      "\r",
      " 31%|███████████▍                         | 7617/24526 [02:10<04:50, 58.21it/s]"
     ]
    },
    {
     "name": "stdout",
     "output_type": "stream",
     "text": [
      "test_7617.txt\n",
      "test_7618.txt\n",
      "test_7619.txt\n",
      "test_7620.txt\n",
      "test_7621.txt\n",
      "test_7622.txt\n"
     ]
    },
    {
     "name": "stderr",
     "output_type": "stream",
     "text": [
      "\r",
      " 31%|███████████▌                         | 7623/24526 [02:10<04:50, 58.19it/s]"
     ]
    },
    {
     "name": "stdout",
     "output_type": "stream",
     "text": [
      "test_7623.txt\n",
      "test_7624.txt\n",
      "test_7625.txt\n",
      "test_7626.txt\n",
      "test_7627.txt\n",
      "test_7628.txt\n",
      "test_7629.txt\n",
      "test_7630.txt\n",
      "test_7631.txt\n"
     ]
    },
    {
     "name": "stderr",
     "output_type": "stream",
     "text": [
      "\r",
      " 31%|███████████▌                         | 7632/24526 [02:11<04:50, 58.21it/s]"
     ]
    },
    {
     "name": "stdout",
     "output_type": "stream",
     "text": [
      "test_7632.txt\n",
      "test_7633.txt\n",
      "test_7634.txt\n",
      "test_7635.txt\n",
      "test_7636.txt\n",
      "test_7637.txt\n",
      "test_7638.txt\n"
     ]
    },
    {
     "name": "stderr",
     "output_type": "stream",
     "text": [
      "\r",
      " 31%|███████████▌                         | 7639/24526 [02:11<04:50, 58.22it/s]"
     ]
    },
    {
     "name": "stdout",
     "output_type": "stream",
     "text": [
      "test_7639.txt\n",
      "test_7640.txt\n",
      "test_7641.txt\n",
      "test_7642.txt\n",
      "test_7643.txt\n",
      "test_7644.txt\n",
      "test_7645.txt\n",
      "test_7646.txt\n"
     ]
    },
    {
     "name": "stderr",
     "output_type": "stream",
     "text": [
      "\r",
      " 31%|███████████▌                         | 7647/24526 [02:11<04:49, 58.23it/s]"
     ]
    },
    {
     "name": "stdout",
     "output_type": "stream",
     "text": [
      "test_7647.txt\n",
      "test_7648.txt\n",
      "test_7649.txt\n",
      "test_7650.txt\n",
      "test_7651.txt\n",
      "test_7652.txt\n",
      "test_7653.txt\n"
     ]
    },
    {
     "name": "stderr",
     "output_type": "stream",
     "text": [
      "\r",
      " 31%|███████████▌                         | 7654/24526 [02:11<04:49, 58.22it/s]"
     ]
    },
    {
     "name": "stdout",
     "output_type": "stream",
     "text": [
      "test_7654.txt\n",
      "test_7655.txt\n",
      "test_7656.txt\n",
      "test_7657.txt\n",
      "test_7658.txt\n",
      "test_7659.txt\n",
      "test_7660.txt\n"
     ]
    },
    {
     "name": "stderr",
     "output_type": "stream",
     "text": [
      "\r",
      " 31%|███████████▌                         | 7661/24526 [02:11<04:49, 58.23it/s]"
     ]
    },
    {
     "name": "stdout",
     "output_type": "stream",
     "text": [
      "test_7661.txt\n",
      "test_7662.txt\n",
      "test_7663.txt\n",
      "test_7664.txt\n",
      "test_7665.txt\n",
      "test_7666.txt\n",
      "test_7667.txt\n"
     ]
    },
    {
     "name": "stderr",
     "output_type": "stream",
     "text": [
      "\r",
      " 31%|███████████▌                         | 7668/24526 [02:11<04:49, 58.23it/s]"
     ]
    },
    {
     "name": "stdout",
     "output_type": "stream",
     "text": [
      "test_7668.txt\n",
      "test_7669.txt\n",
      "test_7670.txt\n",
      "test_7671.txt\n",
      "test_7672.txt\n",
      "test_7673.txt\n",
      "test_7674.txt\n"
     ]
    },
    {
     "name": "stderr",
     "output_type": "stream",
     "text": [
      "\r",
      " 31%|███████████▌                         | 7675/24526 [02:11<04:49, 58.22it/s]"
     ]
    },
    {
     "name": "stdout",
     "output_type": "stream",
     "text": [
      "test_7675.txt\n",
      "test_7676.txt\n",
      "test_7677.txt\n",
      "test_7678.txt\n",
      "test_7679.txt\n",
      "test_7680.txt\n"
     ]
    },
    {
     "name": "stderr",
     "output_type": "stream",
     "text": [
      "\r",
      " 31%|███████████▌                         | 7681/24526 [02:11<04:49, 58.22it/s]"
     ]
    },
    {
     "name": "stdout",
     "output_type": "stream",
     "text": [
      "test_7681.txt\n",
      "test_7682.txt\n",
      "test_7683.txt\n",
      "test_7684.txt\n",
      "test_7685.txt\n",
      "test_7686.txt\n",
      "test_7687.txt\n",
      "test_7688.txt\n",
      "test_7689.txt\n"
     ]
    },
    {
     "name": "stderr",
     "output_type": "stream",
     "text": [
      "\r",
      " 31%|███████████▌                         | 7690/24526 [02:12<04:49, 58.24it/s]"
     ]
    },
    {
     "name": "stdout",
     "output_type": "stream",
     "text": [
      "test_7690.txt\n",
      "test_7691.txt\n",
      "test_7692.txt\n",
      "test_7693.txt\n",
      "test_7694.txt\n",
      "test_7695.txt\n",
      "test_7696.txt\n"
     ]
    },
    {
     "name": "stderr",
     "output_type": "stream",
     "text": [
      "\r",
      " 31%|███████████▌                         | 7697/24526 [02:12<04:48, 58.24it/s]"
     ]
    },
    {
     "name": "stdout",
     "output_type": "stream",
     "text": [
      "test_7697.txt\n",
      "test_7698.txt\n",
      "test_7699.txt\n",
      "test_7700.txt\n",
      "test_7701.txt\n",
      "test_7702.txt\n",
      "test_7703.txt\n"
     ]
    },
    {
     "name": "stderr",
     "output_type": "stream",
     "text": [
      "\r",
      " 31%|███████████▌                         | 7704/24526 [02:12<04:48, 58.24it/s]"
     ]
    },
    {
     "name": "stdout",
     "output_type": "stream",
     "text": [
      "test_7704.txt\n",
      "test_7705.txt\n",
      "test_7706.txt\n",
      "test_7707.txt\n",
      "test_7708.txt\n",
      "test_7709.txt\n",
      "test_7710.txt\n"
     ]
    },
    {
     "name": "stderr",
     "output_type": "stream",
     "text": [
      "\r",
      " 31%|███████████▋                         | 7711/24526 [02:12<04:48, 58.24it/s]"
     ]
    },
    {
     "name": "stdout",
     "output_type": "stream",
     "text": [
      "test_7711.txt\n",
      "test_7712.txt\n",
      "test_7713.txt\n",
      "test_7714.txt\n",
      "test_7715.txt\n",
      "test_7716.txt\n",
      "test_7717.txt\n"
     ]
    },
    {
     "name": "stderr",
     "output_type": "stream",
     "text": [
      "\r",
      " 31%|███████████▋                         | 7718/24526 [02:12<04:48, 58.24it/s]"
     ]
    },
    {
     "name": "stdout",
     "output_type": "stream",
     "text": [
      "test_7718.txt\n",
      "test_7719.txt\n",
      "test_7720.txt\n",
      "test_7721.txt\n",
      "test_7722.txt\n",
      "test_7723.txt\n"
     ]
    },
    {
     "name": "stderr",
     "output_type": "stream",
     "text": [
      "\r",
      " 31%|███████████▋                         | 7724/24526 [02:12<04:48, 58.24it/s]"
     ]
    },
    {
     "name": "stdout",
     "output_type": "stream",
     "text": [
      "test_7724.txt\n",
      "test_7725.txt\n",
      "test_7726.txt\n",
      "test_7727.txt\n",
      "test_7728.txt\n",
      "test_7729.txt\n"
     ]
    },
    {
     "name": "stderr",
     "output_type": "stream",
     "text": [
      "\r",
      " 32%|███████████▋                         | 7730/24526 [02:12<04:48, 58.23it/s]"
     ]
    },
    {
     "name": "stdout",
     "output_type": "stream",
     "text": [
      "test_7730.txt\n",
      "test_7731.txt\n",
      "test_7732.txt\n",
      "test_7733.txt\n",
      "test_7734.txt\n",
      "test_7735.txt\n"
     ]
    },
    {
     "name": "stderr",
     "output_type": "stream",
     "text": [
      "\r",
      " 32%|███████████▋                         | 7736/24526 [02:12<04:48, 58.23it/s]"
     ]
    },
    {
     "name": "stdout",
     "output_type": "stream",
     "text": [
      "test_7736.txt\n",
      "test_7737.txt\n",
      "test_7738.txt\n",
      "test_7739.txt\n",
      "test_7740.txt\n",
      "test_7741.txt\n"
     ]
    },
    {
     "name": "stderr",
     "output_type": "stream",
     "text": [
      "\r",
      " 32%|███████████▋                         | 7742/24526 [02:12<04:48, 58.23it/s]"
     ]
    },
    {
     "name": "stdout",
     "output_type": "stream",
     "text": [
      "test_7742.txt\n",
      "test_7743.txt\n",
      "test_7744.txt\n",
      "test_7745.txt\n",
      "test_7746.txt\n",
      "test_7747.txt\n"
     ]
    },
    {
     "name": "stderr",
     "output_type": "stream",
     "text": [
      "\r",
      " 32%|███████████▋                         | 7748/24526 [02:13<04:48, 58.23it/s]"
     ]
    },
    {
     "name": "stdout",
     "output_type": "stream",
     "text": [
      "test_7748.txt\n",
      "test_7749.txt\n",
      "test_7750.txt\n",
      "test_7751.txt\n",
      "test_7752.txt\n",
      "test_7753.txt\n"
     ]
    },
    {
     "name": "stderr",
     "output_type": "stream",
     "text": [
      "\r",
      " 32%|███████████▋                         | 7754/24526 [02:13<04:48, 58.22it/s]"
     ]
    },
    {
     "name": "stdout",
     "output_type": "stream",
     "text": [
      "test_7754.txt\n",
      "test_7755.txt\n",
      "test_7756.txt\n",
      "test_7757.txt\n",
      "test_7758.txt\n",
      "test_7759.txt\n"
     ]
    },
    {
     "name": "stderr",
     "output_type": "stream",
     "text": [
      "\r",
      " 32%|███████████▋                         | 7760/24526 [02:13<04:48, 58.21it/s]"
     ]
    },
    {
     "name": "stdout",
     "output_type": "stream",
     "text": [
      "test_7760.txt\n",
      "test_7761.txt\n",
      "test_7762.txt\n",
      "test_7763.txt\n",
      "test_7764.txt\n",
      "test_7765.txt\n"
     ]
    },
    {
     "name": "stderr",
     "output_type": "stream",
     "text": [
      "\r",
      " 32%|███████████▋                         | 7766/24526 [02:13<04:47, 58.21it/s]"
     ]
    },
    {
     "name": "stdout",
     "output_type": "stream",
     "text": [
      "test_7766.txt\n",
      "test_7767.txt\n",
      "test_7768.txt\n",
      "test_7769.txt\n",
      "test_7770.txt\n",
      "test_7771.txt\n"
     ]
    },
    {
     "name": "stderr",
     "output_type": "stream",
     "text": [
      "\r",
      " 32%|███████████▋                         | 7772/24526 [02:13<04:47, 58.20it/s]"
     ]
    },
    {
     "name": "stdout",
     "output_type": "stream",
     "text": [
      "test_7772.txt\n",
      "test_7773.txt\n",
      "test_7774.txt\n",
      "test_7775.txt\n",
      "test_7776.txt\n",
      "test_7777.txt\n"
     ]
    },
    {
     "name": "stderr",
     "output_type": "stream",
     "text": [
      "\r",
      " 32%|███████████▋                         | 7778/24526 [02:13<04:47, 58.20it/s]"
     ]
    },
    {
     "name": "stdout",
     "output_type": "stream",
     "text": [
      "test_7778.txt\n",
      "test_7779.txt\n",
      "test_7780.txt\n",
      "test_7781.txt\n",
      "test_7782.txt\n",
      "test_7783.txt\n"
     ]
    },
    {
     "name": "stderr",
     "output_type": "stream",
     "text": [
      "\r",
      " 32%|███████████▋                         | 7784/24526 [02:13<04:47, 58.19it/s]"
     ]
    },
    {
     "name": "stdout",
     "output_type": "stream",
     "text": [
      "test_7784.txt\n",
      "test_7785.txt\n",
      "test_7786.txt\n",
      "test_7787.txt\n",
      "test_7788.txt\n",
      "test_7789.txt\n"
     ]
    },
    {
     "name": "stderr",
     "output_type": "stream",
     "text": [
      "\r",
      " 32%|███████████▊                         | 7790/24526 [02:13<04:47, 58.19it/s]"
     ]
    },
    {
     "name": "stdout",
     "output_type": "stream",
     "text": [
      "test_7790.txt\n",
      "test_7791.txt\n",
      "test_7792.txt\n",
      "test_7793.txt\n",
      "test_7794.txt\n",
      "test_7795.txt\n",
      "test_7796.txt\n",
      "test_7797.txt\n"
     ]
    },
    {
     "name": "stderr",
     "output_type": "stream",
     "text": [
      "\r",
      " 32%|███████████▊                         | 7798/24526 [02:13<04:47, 58.20it/s]"
     ]
    },
    {
     "name": "stdout",
     "output_type": "stream",
     "text": [
      "test_7798.txt\n",
      "test_7799.txt\n",
      "test_7800.txt\n",
      "test_7801.txt\n",
      "test_7802.txt\n",
      "test_7803.txt\n"
     ]
    },
    {
     "name": "stderr",
     "output_type": "stream",
     "text": [
      "\r",
      " 32%|███████████▊                         | 7804/24526 [02:14<04:47, 58.20it/s]"
     ]
    },
    {
     "name": "stdout",
     "output_type": "stream",
     "text": [
      "test_7804.txt\n",
      "test_7805.txt\n",
      "test_7806.txt\n",
      "test_7807.txt\n",
      "test_7808.txt\n",
      "test_7809.txt\n",
      "test_7810.txt\n"
     ]
    },
    {
     "name": "stderr",
     "output_type": "stream",
     "text": [
      "\r",
      " 32%|███████████▊                         | 7811/24526 [02:14<04:47, 58.20it/s]"
     ]
    },
    {
     "name": "stdout",
     "output_type": "stream",
     "text": [
      "test_7811.txt\n",
      "test_7812.txt\n",
      "test_7813.txt\n",
      "test_7814.txt\n",
      "test_7815.txt\n",
      "test_7816.txt\n",
      "test_7817.txt\n"
     ]
    },
    {
     "name": "stderr",
     "output_type": "stream",
     "text": [
      "\r",
      " 32%|███████████▊                         | 7818/24526 [02:14<04:47, 58.21it/s]"
     ]
    },
    {
     "name": "stdout",
     "output_type": "stream",
     "text": [
      "test_7818.txt\n",
      "test_7819.txt\n",
      "test_7820.txt\n",
      "test_7821.txt\n",
      "test_7822.txt\n",
      "test_7823.txt\n",
      "test_7824.txt\n"
     ]
    },
    {
     "name": "stderr",
     "output_type": "stream",
     "text": [
      "\r",
      " 32%|███████████▊                         | 7825/24526 [02:14<04:46, 58.21it/s]"
     ]
    },
    {
     "name": "stdout",
     "output_type": "stream",
     "text": [
      "test_7825.txt\n",
      "test_7826.txt\n",
      "test_7827.txt\n",
      "test_7828.txt\n",
      "test_7829.txt\n",
      "test_7830.txt\n",
      "test_7831.txt\n"
     ]
    },
    {
     "name": "stderr",
     "output_type": "stream",
     "text": [
      "\r",
      " 32%|███████████▊                         | 7832/24526 [02:14<04:46, 58.20it/s]"
     ]
    },
    {
     "name": "stdout",
     "output_type": "stream",
     "text": [
      "test_7832.txt\n",
      "test_7833.txt\n",
      "test_7834.txt\n",
      "test_7835.txt\n",
      "test_7836.txt\n",
      "test_7837.txt\n"
     ]
    },
    {
     "name": "stderr",
     "output_type": "stream",
     "text": [
      "\r",
      " 32%|███████████▊                         | 7838/24526 [02:14<04:46, 58.20it/s]"
     ]
    },
    {
     "name": "stdout",
     "output_type": "stream",
     "text": [
      "test_7838.txt\n",
      "test_7839.txt\n",
      "test_7840.txt\n",
      "test_7841.txt\n",
      "test_7842.txt\n",
      "test_7843.txt\n"
     ]
    },
    {
     "name": "stderr",
     "output_type": "stream",
     "text": [
      "\r",
      " 32%|███████████▊                         | 7844/24526 [02:14<04:46, 58.19it/s]"
     ]
    },
    {
     "name": "stdout",
     "output_type": "stream",
     "text": [
      "test_7844.txt\n",
      "test_7845.txt\n",
      "test_7846.txt\n",
      "test_7847.txt\n",
      "test_7848.txt\n",
      "test_7849.txt\n",
      "test_7850.txt\n"
     ]
    },
    {
     "name": "stderr",
     "output_type": "stream",
     "text": [
      "\r",
      " 32%|███████████▊                         | 7851/24526 [02:14<04:46, 58.20it/s]"
     ]
    },
    {
     "name": "stdout",
     "output_type": "stream",
     "text": [
      "test_7851.txt\n",
      "test_7852.txt\n",
      "test_7853.txt\n",
      "test_7854.txt\n",
      "test_7855.txt\n",
      "test_7856.txt\n"
     ]
    },
    {
     "name": "stderr",
     "output_type": "stream",
     "text": [
      "\r",
      " 32%|███████████▊                         | 7857/24526 [02:15<04:46, 58.19it/s]"
     ]
    },
    {
     "name": "stdout",
     "output_type": "stream",
     "text": [
      "test_7857.txt\n",
      "test_7858.txt\n",
      "test_7859.txt\n",
      "test_7860.txt\n",
      "test_7861.txt\n",
      "test_7862.txt\n"
     ]
    },
    {
     "name": "stderr",
     "output_type": "stream",
     "text": [
      "\r",
      " 32%|███████████▊                         | 7863/24526 [02:15<04:46, 58.18it/s]"
     ]
    },
    {
     "name": "stdout",
     "output_type": "stream",
     "text": [
      "test_7863.txt\n",
      "test_7864.txt\n",
      "test_7865.txt\n",
      "test_7866.txt\n",
      "test_7867.txt\n",
      "test_7868.txt\n",
      "test_7869.txt\n"
     ]
    },
    {
     "name": "stderr",
     "output_type": "stream",
     "text": [
      "\r",
      " 32%|███████████▊                         | 7870/24526 [02:15<04:46, 58.18it/s]"
     ]
    },
    {
     "name": "stdout",
     "output_type": "stream",
     "text": [
      "test_7870.txt\n",
      "test_7871.txt\n",
      "test_7872.txt\n",
      "test_7873.txt\n",
      "test_7874.txt\n",
      "test_7875.txt\n"
     ]
    },
    {
     "name": "stderr",
     "output_type": "stream",
     "text": [
      "\r",
      " 32%|███████████▉                         | 7876/24526 [02:15<04:46, 58.18it/s]"
     ]
    },
    {
     "name": "stdout",
     "output_type": "stream",
     "text": [
      "test_7876.txt\n",
      "test_7877.txt\n",
      "test_7878.txt\n",
      "test_7879.txt\n",
      "test_7880.txt\n",
      "test_7881.txt\n"
     ]
    },
    {
     "name": "stderr",
     "output_type": "stream",
     "text": [
      "\r",
      " 32%|███████████▉                         | 7882/24526 [02:15<04:46, 58.17it/s]"
     ]
    },
    {
     "name": "stdout",
     "output_type": "stream",
     "text": [
      "test_7882.txt\n",
      "test_7883.txt\n",
      "test_7884.txt\n",
      "test_7885.txt\n",
      "test_7886.txt\n",
      "test_7887.txt\n"
     ]
    },
    {
     "name": "stderr",
     "output_type": "stream",
     "text": [
      "\r",
      " 32%|███████████▉                         | 7888/24526 [02:15<04:46, 58.17it/s]"
     ]
    },
    {
     "name": "stdout",
     "output_type": "stream",
     "text": [
      "test_7888.txt\n",
      "test_7889.txt\n",
      "test_7890.txt\n",
      "test_7891.txt\n",
      "test_7892.txt\n",
      "test_7893.txt\n",
      "test_7894.txt\n"
     ]
    },
    {
     "name": "stderr",
     "output_type": "stream",
     "text": [
      "\r",
      " 32%|███████████▉                         | 7895/24526 [02:15<04:45, 58.17it/s]"
     ]
    },
    {
     "name": "stdout",
     "output_type": "stream",
     "text": [
      "test_7895.txt\n",
      "test_7896.txt\n",
      "test_7897.txt\n",
      "test_7898.txt\n",
      "test_7899.txt\n",
      "test_7900.txt\n",
      "test_7901.txt\n"
     ]
    },
    {
     "name": "stderr",
     "output_type": "stream",
     "text": [
      "\r",
      " 32%|███████████▉                         | 7902/24526 [02:15<04:45, 58.18it/s]"
     ]
    },
    {
     "name": "stdout",
     "output_type": "stream",
     "text": [
      "test_7902.txt\n",
      "test_7903.txt\n",
      "test_7904.txt\n",
      "test_7905.txt\n",
      "test_7906.txt\n",
      "test_7907.txt\n"
     ]
    },
    {
     "name": "stderr",
     "output_type": "stream",
     "text": [
      "\r",
      " 32%|███████████▉                         | 7908/24526 [02:15<04:45, 58.17it/s]"
     ]
    },
    {
     "name": "stdout",
     "output_type": "stream",
     "text": [
      "test_7908.txt\n",
      "test_7909.txt\n",
      "test_7910.txt\n",
      "test_7911.txt\n",
      "test_7912.txt\n",
      "test_7913.txt\n",
      "test_7914.txt\n",
      "test_7915.txt\n"
     ]
    },
    {
     "name": "stderr",
     "output_type": "stream",
     "text": [
      "\r",
      " 32%|███████████▉                         | 7916/24526 [02:16<04:45, 58.18it/s]"
     ]
    },
    {
     "name": "stdout",
     "output_type": "stream",
     "text": [
      "test_7916.txt\n",
      "test_7917.txt\n",
      "test_7918.txt\n",
      "test_7919.txt\n",
      "test_7920.txt\n",
      "test_7921.txt\n",
      "test_7922.txt\n"
     ]
    },
    {
     "name": "stderr",
     "output_type": "stream",
     "text": [
      "\r",
      " 32%|███████████▉                         | 7923/24526 [02:16<04:45, 58.19it/s]"
     ]
    },
    {
     "name": "stdout",
     "output_type": "stream",
     "text": [
      "test_7923.txt\n",
      "test_7924.txt\n",
      "test_7925.txt\n",
      "test_7926.txt\n",
      "test_7927.txt\n",
      "test_7928.txt\n",
      "test_7929.txt\n"
     ]
    },
    {
     "name": "stderr",
     "output_type": "stream",
     "text": [
      "\r",
      " 32%|███████████▉                         | 7930/24526 [02:16<04:45, 58.19it/s]"
     ]
    },
    {
     "name": "stdout",
     "output_type": "stream",
     "text": [
      "test_7930.txt\n",
      "test_7931.txt\n",
      "test_7932.txt\n",
      "test_7933.txt\n",
      "test_7934.txt\n",
      "test_7935.txt\n",
      "test_7936.txt\n"
     ]
    },
    {
     "name": "stderr",
     "output_type": "stream",
     "text": [
      "\r",
      " 32%|███████████▉                         | 7937/24526 [02:16<04:45, 58.18it/s]"
     ]
    },
    {
     "name": "stdout",
     "output_type": "stream",
     "text": [
      "test_7937.txt\n",
      "test_7938.txt\n",
      "test_7939.txt\n",
      "test_7940.txt\n",
      "test_7941.txt\n",
      "test_7942.txt\n"
     ]
    },
    {
     "name": "stderr",
     "output_type": "stream",
     "text": [
      "\r",
      " 32%|███████████▉                         | 7943/24526 [02:16<04:45, 58.17it/s]"
     ]
    },
    {
     "name": "stdout",
     "output_type": "stream",
     "text": [
      "test_7943.txt\n",
      "test_7944.txt\n",
      "test_7945.txt\n",
      "test_7946.txt\n",
      "test_7947.txt\n",
      "test_7948.txt\n"
     ]
    },
    {
     "name": "stderr",
     "output_type": "stream",
     "text": [
      "\r",
      " 32%|███████████▉                         | 7949/24526 [02:16<04:45, 58.16it/s]"
     ]
    },
    {
     "name": "stdout",
     "output_type": "stream",
     "text": [
      "test_7949.txt\n",
      "test_7950.txt\n",
      "test_7951.txt\n",
      "test_7952.txt\n",
      "test_7953.txt\n",
      "test_7954.txt\n",
      "test_7955.txt\n"
     ]
    },
    {
     "name": "stderr",
     "output_type": "stream",
     "text": [
      "\r",
      " 32%|████████████                         | 7956/24526 [02:16<04:44, 58.16it/s]"
     ]
    },
    {
     "name": "stdout",
     "output_type": "stream",
     "text": [
      "test_7956.txt\n",
      "test_7957.txt\n",
      "test_7958.txt\n",
      "test_7959.txt\n",
      "test_7960.txt\n",
      "test_7961.txt\n",
      "test_7962.txt\n"
     ]
    },
    {
     "name": "stderr",
     "output_type": "stream",
     "text": [
      "\r",
      " 32%|████████████                         | 7963/24526 [02:16<04:44, 58.17it/s]"
     ]
    },
    {
     "name": "stdout",
     "output_type": "stream",
     "text": [
      "test_7963.txt\n",
      "test_7964.txt\n",
      "test_7965.txt\n",
      "test_7966.txt\n",
      "test_7967.txt\n",
      "test_7968.txt\n"
     ]
    },
    {
     "name": "stderr",
     "output_type": "stream",
     "text": [
      "\r",
      " 32%|████████████                         | 7969/24526 [02:17<04:44, 58.16it/s]"
     ]
    },
    {
     "name": "stdout",
     "output_type": "stream",
     "text": [
      "test_7969.txt\n",
      "test_7970.txt\n",
      "test_7971.txt\n",
      "test_7972.txt\n",
      "test_7973.txt\n",
      "test_7974.txt\n"
     ]
    },
    {
     "name": "stderr",
     "output_type": "stream",
     "text": [
      "\r",
      " 33%|████████████                         | 7975/24526 [02:17<04:44, 58.15it/s]"
     ]
    },
    {
     "name": "stdout",
     "output_type": "stream",
     "text": [
      "test_7975.txt\n",
      "test_7976.txt\n",
      "test_7977.txt\n",
      "test_7978.txt\n",
      "test_7979.txt\n",
      "test_7980.txt\n",
      "test_7981.txt\n"
     ]
    },
    {
     "name": "stderr",
     "output_type": "stream",
     "text": [
      "\r",
      " 33%|████████████                         | 7982/24526 [02:17<04:44, 58.16it/s]"
     ]
    },
    {
     "name": "stdout",
     "output_type": "stream",
     "text": [
      "test_7982.txt\n",
      "test_7983.txt\n",
      "test_7984.txt\n",
      "test_7985.txt\n",
      "test_7986.txt\n",
      "test_7987.txt\n",
      "test_7988.txt\n",
      "test_7989.txt\n"
     ]
    },
    {
     "name": "stderr",
     "output_type": "stream",
     "text": [
      "\r",
      " 33%|████████████                         | 7990/24526 [02:17<04:44, 58.17it/s]"
     ]
    },
    {
     "name": "stdout",
     "output_type": "stream",
     "text": [
      "test_7990.txt\n",
      "test_7991.txt\n",
      "test_7992.txt\n",
      "test_7993.txt\n",
      "test_7994.txt\n",
      "test_7995.txt\n",
      "test_7996.txt\n"
     ]
    },
    {
     "name": "stderr",
     "output_type": "stream",
     "text": [
      "\r",
      " 33%|████████████                         | 7997/24526 [02:17<04:44, 58.17it/s]"
     ]
    },
    {
     "name": "stdout",
     "output_type": "stream",
     "text": [
      "test_7997.txt\n",
      "test_7998.txt\n",
      "test_7999.txt\n",
      "test_8000.txt\n",
      "test_8001.txt\n",
      "test_8002.txt\n"
     ]
    },
    {
     "name": "stderr",
     "output_type": "stream",
     "text": [
      "\r",
      " 33%|████████████                         | 8003/24526 [02:17<04:44, 58.16it/s]"
     ]
    },
    {
     "name": "stdout",
     "output_type": "stream",
     "text": [
      "test_8003.txt\n",
      "test_8004.txt\n",
      "test_8005.txt\n",
      "test_8006.txt\n",
      "test_8007.txt\n",
      "test_8008.txt\n",
      "test_8009.txt\n"
     ]
    },
    {
     "name": "stderr",
     "output_type": "stream",
     "text": [
      "\r",
      " 33%|████████████                         | 8010/24526 [02:17<04:43, 58.16it/s]"
     ]
    },
    {
     "name": "stdout",
     "output_type": "stream",
     "text": [
      "test_8010.txt\n",
      "test_8011.txt\n",
      "test_8012.txt\n",
      "test_8013.txt\n",
      "test_8014.txt\n",
      "test_8015.txt\n",
      "test_8016.txt\n"
     ]
    },
    {
     "name": "stderr",
     "output_type": "stream",
     "text": [
      "\r",
      " 33%|████████████                         | 8017/24526 [02:17<04:43, 58.16it/s]"
     ]
    },
    {
     "name": "stdout",
     "output_type": "stream",
     "text": [
      "test_8017.txt\n",
      "test_8018.txt\n",
      "test_8019.txt\n",
      "test_8020.txt\n",
      "test_8021.txt\n",
      "test_8022.txt\n"
     ]
    },
    {
     "name": "stderr",
     "output_type": "stream",
     "text": [
      "\r",
      " 33%|████████████                         | 8023/24526 [02:17<04:43, 58.16it/s]"
     ]
    },
    {
     "name": "stdout",
     "output_type": "stream",
     "text": [
      "test_8023.txt\n",
      "test_8024.txt\n",
      "test_8025.txt\n",
      "test_8026.txt\n",
      "test_8027.txt\n",
      "test_8028.txt\n"
     ]
    },
    {
     "name": "stderr",
     "output_type": "stream",
     "text": [
      "\r",
      " 33%|████████████                         | 8029/24526 [02:18<04:43, 58.16it/s]"
     ]
    },
    {
     "name": "stdout",
     "output_type": "stream",
     "text": [
      "test_8029.txt\n",
      "test_8030.txt\n",
      "test_8031.txt\n",
      "test_8032.txt\n",
      "test_8033.txt\n",
      "test_8034.txt\n",
      "test_8035.txt\n"
     ]
    },
    {
     "name": "stderr",
     "output_type": "stream",
     "text": [
      "\r",
      " 33%|████████████                         | 8036/24526 [02:18<04:43, 58.16it/s]"
     ]
    },
    {
     "name": "stdout",
     "output_type": "stream",
     "text": [
      "test_8036.txt\n",
      "test_8037.txt\n",
      "test_8038.txt\n",
      "test_8039.txt\n",
      "test_8040.txt\n",
      "test_8041.txt\n"
     ]
    },
    {
     "name": "stderr",
     "output_type": "stream",
     "text": [
      "\r",
      " 33%|████████████▏                        | 8042/24526 [02:18<04:43, 58.16it/s]"
     ]
    },
    {
     "name": "stdout",
     "output_type": "stream",
     "text": [
      "test_8042.txt\n",
      "test_8043.txt\n",
      "test_8044.txt\n",
      "test_8045.txt\n",
      "test_8046.txt\n",
      "test_8047.txt\n",
      "test_8048.txt\n",
      "test_8049.txt\n"
     ]
    },
    {
     "name": "stderr",
     "output_type": "stream",
     "text": [
      "\r",
      " 33%|████████████▏                        | 8050/24526 [02:18<04:43, 58.17it/s]"
     ]
    },
    {
     "name": "stdout",
     "output_type": "stream",
     "text": [
      "test_8050.txt\n",
      "test_8051.txt\n",
      "test_8052.txt\n",
      "test_8053.txt\n",
      "test_8054.txt\n",
      "test_8055.txt\n",
      "test_8056.txt\n"
     ]
    },
    {
     "name": "stderr",
     "output_type": "stream",
     "text": [
      "\r",
      " 33%|████████████▏                        | 8057/24526 [02:18<04:43, 58.15it/s]"
     ]
    },
    {
     "name": "stdout",
     "output_type": "stream",
     "text": [
      "test_8057.txt\n",
      "test_8058.txt\n",
      "test_8059.txt\n",
      "test_8060.txt\n",
      "test_8061.txt\n",
      "test_8062.txt\n"
     ]
    },
    {
     "name": "stderr",
     "output_type": "stream",
     "text": [
      "\r",
      " 33%|████████████▏                        | 8063/24526 [02:18<04:43, 58.15it/s]"
     ]
    },
    {
     "name": "stdout",
     "output_type": "stream",
     "text": [
      "test_8063.txt\n",
      "test_8064.txt\n",
      "test_8065.txt\n",
      "test_8066.txt\n",
      "test_8067.txt\n",
      "test_8068.txt\n",
      "test_8069.txt\n",
      "test_8070.txt\n"
     ]
    },
    {
     "name": "stderr",
     "output_type": "stream",
     "text": [
      "\r",
      " 33%|████████████▏                        | 8071/24526 [02:18<04:42, 58.16it/s]"
     ]
    },
    {
     "name": "stdout",
     "output_type": "stream",
     "text": [
      "test_8071.txt\n",
      "test_8072.txt\n",
      "test_8073.txt\n",
      "test_8074.txt\n",
      "test_8075.txt\n",
      "test_8076.txt\n",
      "test_8077.txt\n"
     ]
    },
    {
     "name": "stderr",
     "output_type": "stream",
     "text": [
      "\r",
      " 33%|████████████▏                        | 8078/24526 [02:18<04:42, 58.16it/s]"
     ]
    },
    {
     "name": "stdout",
     "output_type": "stream",
     "text": [
      "test_8078.txt\n",
      "test_8079.txt\n",
      "test_8080.txt\n",
      "test_8081.txt\n",
      "test_8082.txt\n",
      "test_8083.txt\n",
      "test_8084.txt\n"
     ]
    },
    {
     "name": "stderr",
     "output_type": "stream",
     "text": [
      "\r",
      " 33%|████████████▏                        | 8085/24526 [02:18<04:42, 58.17it/s]"
     ]
    },
    {
     "name": "stdout",
     "output_type": "stream",
     "text": [
      "test_8085.txt\n",
      "test_8086.txt\n",
      "test_8087.txt\n",
      "test_8088.txt\n",
      "test_8089.txt\n",
      "test_8090.txt\n",
      "test_8091.txt\n"
     ]
    },
    {
     "name": "stderr",
     "output_type": "stream",
     "text": [
      "\r",
      " 33%|████████████▏                        | 8092/24526 [02:19<04:42, 58.15it/s]"
     ]
    },
    {
     "name": "stdout",
     "output_type": "stream",
     "text": [
      "test_8092.txt\n",
      "test_8093.txt\n",
      "test_8094.txt\n",
      "test_8095.txt\n",
      "test_8096.txt\n",
      "test_8097.txt\n"
     ]
    },
    {
     "name": "stderr",
     "output_type": "stream",
     "text": [
      "\r",
      " 33%|████████████▏                        | 8098/24526 [02:19<04:42, 58.14it/s]"
     ]
    },
    {
     "name": "stdout",
     "output_type": "stream",
     "text": [
      "test_8098.txt\n",
      "test_8099.txt\n",
      "test_8100.txt\n",
      "test_8101.txt\n",
      "test_8102.txt\n",
      "test_8103.txt\n",
      "test_8104.txt\n"
     ]
    },
    {
     "name": "stderr",
     "output_type": "stream",
     "text": [
      "\r",
      " 33%|████████████▏                        | 8105/24526 [02:19<04:42, 58.15it/s]"
     ]
    },
    {
     "name": "stdout",
     "output_type": "stream",
     "text": [
      "test_8105.txt\n",
      "test_8106.txt\n",
      "test_8107.txt\n",
      "test_8108.txt\n",
      "test_8109.txt\n",
      "test_8110.txt\n"
     ]
    },
    {
     "name": "stderr",
     "output_type": "stream",
     "text": [
      "\r",
      " 33%|████████████▏                        | 8111/24526 [02:19<04:42, 58.14it/s]"
     ]
    },
    {
     "name": "stdout",
     "output_type": "stream",
     "text": [
      "test_8111.txt\n",
      "test_8112.txt\n",
      "test_8113.txt\n",
      "test_8114.txt\n",
      "test_8115.txt\n",
      "test_8116.txt\n"
     ]
    },
    {
     "name": "stderr",
     "output_type": "stream",
     "text": [
      "\r",
      " 33%|████████████▏                        | 8117/24526 [02:19<04:42, 58.12it/s]"
     ]
    },
    {
     "name": "stdout",
     "output_type": "stream",
     "text": [
      "test_8117.txt\n",
      "test_8118.txt\n",
      "test_8119.txt\n",
      "test_8120.txt\n",
      "test_8121.txt\n",
      "test_8122.txt\n"
     ]
    },
    {
     "name": "stderr",
     "output_type": "stream",
     "text": [
      "\r",
      " 33%|████████████▎                        | 8123/24526 [02:19<04:42, 58.11it/s]"
     ]
    },
    {
     "name": "stdout",
     "output_type": "stream",
     "text": [
      "test_8123.txt\n",
      "test_8124.txt\n",
      "test_8125.txt\n",
      "test_8126.txt\n",
      "test_8127.txt\n",
      "test_8128.txt\n",
      "test_8129.txt\n"
     ]
    },
    {
     "name": "stderr",
     "output_type": "stream",
     "text": [
      "\r",
      " 33%|████████████▎                        | 8130/24526 [02:19<04:42, 58.12it/s]"
     ]
    },
    {
     "name": "stdout",
     "output_type": "stream",
     "text": [
      "test_8130.txt\n",
      "test_8131.txt\n",
      "test_8132.txt\n",
      "test_8133.txt\n",
      "test_8134.txt\n",
      "test_8135.txt\n",
      "test_8136.txt\n",
      "test_8137.txt\n"
     ]
    },
    {
     "name": "stderr",
     "output_type": "stream",
     "text": [
      "\r",
      " 33%|████████████▎                        | 8138/24526 [02:19<04:41, 58.13it/s]"
     ]
    },
    {
     "name": "stdout",
     "output_type": "stream",
     "text": [
      "test_8138.txt\n",
      "test_8139.txt\n",
      "test_8140.txt\n",
      "test_8141.txt\n",
      "test_8142.txt\n",
      "test_8143.txt\n",
      "test_8144.txt\n"
     ]
    },
    {
     "name": "stderr",
     "output_type": "stream",
     "text": [
      "\r",
      " 33%|████████████▎                        | 8145/24526 [02:20<04:41, 58.14it/s]"
     ]
    },
    {
     "name": "stdout",
     "output_type": "stream",
     "text": [
      "test_8145.txt\n",
      "test_8146.txt\n",
      "test_8147.txt\n",
      "test_8148.txt\n",
      "test_8149.txt\n",
      "test_8150.txt\n",
      "test_8151.txt\n",
      "test_8152.txt\n"
     ]
    },
    {
     "name": "stderr",
     "output_type": "stream",
     "text": [
      "\r",
      " 33%|████████████▎                        | 8153/24526 [02:20<04:41, 58.15it/s]"
     ]
    },
    {
     "name": "stdout",
     "output_type": "stream",
     "text": [
      "test_8153.txt\n",
      "test_8154.txt\n",
      "test_8155.txt\n",
      "test_8156.txt\n",
      "test_8157.txt\n",
      "test_8158.txt\n",
      "test_8159.txt\n",
      "test_8160.txt\n"
     ]
    },
    {
     "name": "stderr",
     "output_type": "stream",
     "text": [
      "\r",
      " 33%|████████████▎                        | 8161/24526 [02:20<04:41, 58.16it/s]"
     ]
    },
    {
     "name": "stdout",
     "output_type": "stream",
     "text": [
      "test_8161.txt\n",
      "test_8162.txt\n",
      "test_8163.txt\n",
      "test_8164.txt\n",
      "test_8165.txt\n",
      "test_8166.txt\n",
      "test_8167.txt\n"
     ]
    },
    {
     "name": "stderr",
     "output_type": "stream",
     "text": [
      "\r",
      " 33%|████████████▎                        | 8168/24526 [02:20<04:41, 58.17it/s]"
     ]
    },
    {
     "name": "stdout",
     "output_type": "stream",
     "text": [
      "test_8168.txt\n",
      "test_8169.txt\n",
      "test_8170.txt\n",
      "test_8171.txt\n",
      "test_8172.txt\n",
      "test_8173.txt\n",
      "test_8174.txt\n"
     ]
    },
    {
     "name": "stderr",
     "output_type": "stream",
     "text": [
      "\r",
      " 33%|████████████▎                        | 8175/24526 [02:20<04:41, 58.17it/s]"
     ]
    },
    {
     "name": "stdout",
     "output_type": "stream",
     "text": [
      "test_8175.txt\n",
      "test_8176.txt\n",
      "test_8177.txt\n",
      "test_8178.txt\n",
      "test_8179.txt\n",
      "test_8180.txt\n",
      "test_8181.txt\n",
      "test_8182.txt\n"
     ]
    },
    {
     "name": "stderr",
     "output_type": "stream",
     "text": [
      "\r",
      " 33%|████████████▎                        | 8183/24526 [02:20<04:40, 58.18it/s]"
     ]
    },
    {
     "name": "stdout",
     "output_type": "stream",
     "text": [
      "test_8183.txt\n",
      "test_8184.txt\n",
      "test_8185.txt\n",
      "test_8186.txt\n",
      "test_8187.txt\n",
      "test_8188.txt\n",
      "test_8189.txt\n"
     ]
    },
    {
     "name": "stderr",
     "output_type": "stream",
     "text": [
      "\r",
      " 33%|████████████▎                        | 8190/24526 [02:20<04:40, 58.17it/s]"
     ]
    },
    {
     "name": "stdout",
     "output_type": "stream",
     "text": [
      "test_8190.txt\n",
      "test_8191.txt\n",
      "test_8192.txt\n",
      "test_8193.txt\n",
      "test_8194.txt\n",
      "test_8195.txt\n",
      "test_8196.txt\n"
     ]
    },
    {
     "name": "stderr",
     "output_type": "stream",
     "text": [
      "\r",
      " 33%|████████████▎                        | 8197/24526 [02:20<04:40, 58.18it/s]"
     ]
    },
    {
     "name": "stdout",
     "output_type": "stream",
     "text": [
      "test_8197.txt\n",
      "test_8198.txt\n",
      "test_8199.txt\n",
      "test_8200.txt\n",
      "test_8201.txt\n",
      "test_8202.txt\n",
      "test_8203.txt\n"
     ]
    },
    {
     "name": "stderr",
     "output_type": "stream",
     "text": [
      "\r",
      " 33%|████████████▍                        | 8204/24526 [02:21<04:40, 58.16it/s]"
     ]
    },
    {
     "name": "stdout",
     "output_type": "stream",
     "text": [
      "test_8204.txt\n",
      "test_8205.txt\n",
      "test_8206.txt\n",
      "test_8207.txt\n",
      "test_8208.txt\n",
      "test_8209.txt\n",
      "test_8210.txt\n"
     ]
    },
    {
     "name": "stderr",
     "output_type": "stream",
     "text": [
      "\r",
      " 33%|████████████▍                        | 8211/24526 [02:21<04:40, 58.16it/s]"
     ]
    },
    {
     "name": "stdout",
     "output_type": "stream",
     "text": [
      "test_8211.txt\n",
      "test_8212.txt\n",
      "test_8213.txt\n",
      "test_8214.txt\n",
      "test_8215.txt\n",
      "test_8216.txt\n",
      "test_8217.txt\n"
     ]
    },
    {
     "name": "stderr",
     "output_type": "stream",
     "text": [
      "\r",
      " 34%|████████████▍                        | 8218/24526 [02:21<04:40, 58.17it/s]"
     ]
    },
    {
     "name": "stdout",
     "output_type": "stream",
     "text": [
      "test_8218.txt\n",
      "test_8219.txt\n",
      "test_8220.txt\n",
      "test_8221.txt\n",
      "test_8222.txt\n",
      "test_8223.txt\n",
      "test_8224.txt\n",
      "test_8225.txt\n",
      "test_8226.txt\n"
     ]
    },
    {
     "name": "stderr",
     "output_type": "stream",
     "text": [
      "\r",
      " 34%|████████████▍                        | 8227/24526 [02:21<04:40, 58.18it/s]"
     ]
    },
    {
     "name": "stdout",
     "output_type": "stream",
     "text": [
      "test_8227.txt\n",
      "test_8228.txt\n",
      "test_8229.txt\n",
      "test_8230.txt\n",
      "test_8231.txt\n",
      "test_8232.txt\n",
      "test_8233.txt\n"
     ]
    },
    {
     "name": "stderr",
     "output_type": "stream",
     "text": [
      "\r",
      " 34%|████████████▍                        | 8234/24526 [02:21<04:40, 58.18it/s]"
     ]
    },
    {
     "name": "stdout",
     "output_type": "stream",
     "text": [
      "test_8234.txt\n",
      "test_8235.txt\n",
      "test_8236.txt\n",
      "test_8237.txt\n",
      "test_8238.txt\n",
      "test_8239.txt\n",
      "test_8240.txt\n"
     ]
    },
    {
     "name": "stderr",
     "output_type": "stream",
     "text": [
      "\r",
      " 34%|████████████▍                        | 8241/24526 [02:21<04:39, 58.19it/s]"
     ]
    },
    {
     "name": "stdout",
     "output_type": "stream",
     "text": [
      "test_8241.txt\n",
      "test_8242.txt\n",
      "test_8243.txt\n",
      "test_8244.txt\n",
      "test_8245.txt\n",
      "test_8246.txt\n",
      "test_8247.txt\n"
     ]
    },
    {
     "name": "stderr",
     "output_type": "stream",
     "text": [
      "\r",
      " 34%|████████████▍                        | 8248/24526 [02:21<04:39, 58.18it/s]"
     ]
    },
    {
     "name": "stdout",
     "output_type": "stream",
     "text": [
      "test_8248.txt\n",
      "test_8249.txt\n",
      "test_8250.txt\n",
      "test_8251.txt\n",
      "test_8252.txt\n",
      "test_8253.txt\n",
      "test_8254.txt\n"
     ]
    },
    {
     "name": "stderr",
     "output_type": "stream",
     "text": [
      "\r",
      " 34%|████████████▍                        | 8255/24526 [02:21<04:39, 58.18it/s]"
     ]
    },
    {
     "name": "stdout",
     "output_type": "stream",
     "text": [
      "test_8255.txt\n",
      "test_8256.txt\n",
      "test_8257.txt\n",
      "test_8258.txt\n",
      "test_8259.txt\n",
      "test_8260.txt\n",
      "test_8261.txt\n"
     ]
    },
    {
     "name": "stderr",
     "output_type": "stream",
     "text": [
      "\r",
      " 34%|████████████▍                        | 8262/24526 [02:21<04:39, 58.19it/s]"
     ]
    },
    {
     "name": "stdout",
     "output_type": "stream",
     "text": [
      "test_8262.txt\n",
      "test_8263.txt\n",
      "test_8264.txt\n",
      "test_8265.txt\n",
      "test_8266.txt\n",
      "test_8267.txt\n",
      "test_8268.txt\n"
     ]
    },
    {
     "name": "stderr",
     "output_type": "stream",
     "text": [
      "\r",
      " 34%|████████████▍                        | 8269/24526 [02:22<04:39, 58.19it/s]"
     ]
    },
    {
     "name": "stdout",
     "output_type": "stream",
     "text": [
      "test_8269.txt\n",
      "test_8270.txt\n",
      "test_8271.txt\n",
      "test_8272.txt\n",
      "test_8273.txt\n",
      "test_8274.txt\n",
      "test_8275.txt\n"
     ]
    },
    {
     "name": "stderr",
     "output_type": "stream",
     "text": [
      "\r",
      " 34%|████████████▍                        | 8276/24526 [02:22<04:39, 58.19it/s]"
     ]
    },
    {
     "name": "stdout",
     "output_type": "stream",
     "text": [
      "test_8276.txt\n",
      "test_8277.txt\n",
      "test_8278.txt\n",
      "test_8279.txt\n",
      "test_8280.txt\n",
      "test_8281.txt\n",
      "test_8282.txt\n"
     ]
    },
    {
     "name": "stderr",
     "output_type": "stream",
     "text": [
      "\r",
      " 34%|████████████▍                        | 8283/24526 [02:22<04:39, 58.19it/s]"
     ]
    },
    {
     "name": "stdout",
     "output_type": "stream",
     "text": [
      "test_8283.txt\n",
      "test_8284.txt\n",
      "test_8285.txt\n",
      "test_8286.txt\n",
      "test_8287.txt\n",
      "test_8288.txt\n",
      "test_8289.txt\n"
     ]
    },
    {
     "name": "stderr",
     "output_type": "stream",
     "text": [
      "\r",
      " 34%|████████████▌                        | 8290/24526 [02:22<04:39, 58.19it/s]"
     ]
    },
    {
     "name": "stdout",
     "output_type": "stream",
     "text": [
      "test_8290.txt\n",
      "test_8291.txt\n",
      "test_8292.txt\n",
      "test_8293.txt\n",
      "test_8294.txt\n",
      "test_8295.txt\n"
     ]
    },
    {
     "name": "stderr",
     "output_type": "stream",
     "text": [
      "\r",
      " 34%|████████████▌                        | 8296/24526 [02:22<04:38, 58.19it/s]"
     ]
    },
    {
     "name": "stdout",
     "output_type": "stream",
     "text": [
      "test_8296.txt\n",
      "test_8297.txt\n",
      "test_8298.txt\n",
      "test_8299.txt\n",
      "test_8300.txt\n",
      "test_8301.txt\n"
     ]
    },
    {
     "name": "stderr",
     "output_type": "stream",
     "text": [
      "\r",
      " 34%|████████████▌                        | 8302/24526 [02:22<04:38, 58.18it/s]"
     ]
    },
    {
     "name": "stdout",
     "output_type": "stream",
     "text": [
      "test_8302.txt\n",
      "test_8303.txt\n",
      "test_8304.txt\n",
      "test_8305.txt\n",
      "test_8306.txt\n",
      "test_8307.txt\n"
     ]
    },
    {
     "name": "stderr",
     "output_type": "stream",
     "text": [
      "\r",
      " 34%|████████████▌                        | 8308/24526 [02:22<04:38, 58.18it/s]"
     ]
    },
    {
     "name": "stdout",
     "output_type": "stream",
     "text": [
      "test_8308.txt\n",
      "test_8309.txt\n",
      "test_8310.txt\n",
      "test_8311.txt\n",
      "test_8312.txt\n",
      "test_8313.txt\n"
     ]
    },
    {
     "name": "stderr",
     "output_type": "stream",
     "text": [
      "\r",
      " 34%|████████████▌                        | 8314/24526 [02:22<04:38, 58.18it/s]"
     ]
    },
    {
     "name": "stdout",
     "output_type": "stream",
     "text": [
      "test_8314.txt\n",
      "test_8315.txt\n",
      "test_8316.txt\n",
      "test_8317.txt\n",
      "test_8318.txt\n",
      "test_8319.txt\n",
      "test_8320.txt\n",
      "test_8321.txt\n",
      "test_8322.txt\n"
     ]
    },
    {
     "name": "stderr",
     "output_type": "stream",
     "text": [
      "\r",
      " 34%|████████████▌                        | 8323/24526 [02:23<04:38, 58.19it/s]"
     ]
    },
    {
     "name": "stdout",
     "output_type": "stream",
     "text": [
      "test_8323.txt\n",
      "test_8324.txt\n",
      "test_8325.txt\n",
      "test_8326.txt\n",
      "test_8327.txt\n",
      "test_8328.txt\n",
      "test_8329.txt\n"
     ]
    },
    {
     "name": "stderr",
     "output_type": "stream",
     "text": [
      "\r",
      " 34%|████████████▌                        | 8330/24526 [02:23<04:38, 58.20it/s]"
     ]
    },
    {
     "name": "stdout",
     "output_type": "stream",
     "text": [
      "test_8330.txt\n",
      "test_8331.txt\n",
      "test_8332.txt\n",
      "test_8333.txt\n",
      "test_8334.txt\n",
      "test_8335.txt\n",
      "test_8336.txt\n"
     ]
    },
    {
     "name": "stderr",
     "output_type": "stream",
     "text": [
      "\r",
      " 34%|████████████▌                        | 8337/24526 [02:23<04:38, 58.20it/s]"
     ]
    },
    {
     "name": "stdout",
     "output_type": "stream",
     "text": [
      "test_8337.txt\n",
      "test_8338.txt\n",
      "test_8339.txt\n",
      "test_8340.txt\n",
      "test_8341.txt\n",
      "test_8342.txt\n",
      "test_8343.txt\n"
     ]
    },
    {
     "name": "stderr",
     "output_type": "stream",
     "text": [
      "\r",
      " 34%|████████████▌                        | 8344/24526 [02:23<04:38, 58.20it/s]"
     ]
    },
    {
     "name": "stdout",
     "output_type": "stream",
     "text": [
      "test_8344.txt\n",
      "test_8345.txt\n",
      "test_8346.txt\n",
      "test_8347.txt\n",
      "test_8348.txt\n",
      "test_8349.txt\n",
      "test_8350.txt\n"
     ]
    },
    {
     "name": "stderr",
     "output_type": "stream",
     "text": [
      "\r",
      " 34%|████████████▌                        | 8351/24526 [02:23<04:37, 58.20it/s]"
     ]
    },
    {
     "name": "stdout",
     "output_type": "stream",
     "text": [
      "test_8351.txt\n",
      "test_8352.txt\n",
      "test_8353.txt\n",
      "test_8354.txt\n",
      "test_8355.txt\n",
      "test_8356.txt\n",
      "test_8357.txt\n",
      "test_8358.txt\n"
     ]
    },
    {
     "name": "stderr",
     "output_type": "stream",
     "text": [
      "\r",
      " 34%|████████████▌                        | 8359/24526 [02:23<04:37, 58.21it/s]"
     ]
    },
    {
     "name": "stdout",
     "output_type": "stream",
     "text": [
      "test_8359.txt\n",
      "test_8360.txt\n",
      "test_8361.txt\n",
      "test_8362.txt\n",
      "test_8363.txt\n",
      "test_8364.txt\n",
      "test_8365.txt\n"
     ]
    },
    {
     "name": "stderr",
     "output_type": "stream",
     "text": [
      "\r",
      " 34%|████████████▌                        | 8366/24526 [02:23<04:37, 58.20it/s]"
     ]
    },
    {
     "name": "stdout",
     "output_type": "stream",
     "text": [
      "test_8366.txt\n",
      "test_8367.txt\n",
      "test_8368.txt\n",
      "test_8369.txt\n",
      "test_8370.txt\n",
      "test_8371.txt\n",
      "test_8372.txt\n"
     ]
    },
    {
     "name": "stderr",
     "output_type": "stream",
     "text": [
      "\r",
      " 34%|████████████▋                        | 8373/24526 [02:23<04:37, 58.21it/s]"
     ]
    },
    {
     "name": "stdout",
     "output_type": "stream",
     "text": [
      "test_8373.txt\n",
      "test_8374.txt\n",
      "test_8375.txt\n",
      "test_8376.txt\n",
      "test_8377.txt\n",
      "test_8378.txt\n",
      "test_8379.txt\n"
     ]
    },
    {
     "name": "stderr",
     "output_type": "stream",
     "text": [
      "\r",
      " 34%|████████████▋                        | 8380/24526 [02:24<04:37, 58.19it/s]"
     ]
    },
    {
     "name": "stdout",
     "output_type": "stream",
     "text": [
      "test_8380.txt\n",
      "test_8381.txt\n",
      "test_8382.txt\n",
      "test_8383.txt\n",
      "test_8384.txt\n",
      "test_8385.txt\n",
      "test_8386.txt\n"
     ]
    },
    {
     "name": "stderr",
     "output_type": "stream",
     "text": [
      "\r",
      " 34%|████████████▋                        | 8387/24526 [02:24<04:37, 58.20it/s]"
     ]
    },
    {
     "name": "stdout",
     "output_type": "stream",
     "text": [
      "test_8387.txt\n",
      "test_8388.txt\n",
      "test_8389.txt\n",
      "test_8390.txt\n",
      "test_8391.txt\n",
      "test_8392.txt\n"
     ]
    },
    {
     "name": "stderr",
     "output_type": "stream",
     "text": [
      "\r",
      " 34%|████████████▋                        | 8393/24526 [02:24<04:37, 58.20it/s]"
     ]
    },
    {
     "name": "stdout",
     "output_type": "stream",
     "text": [
      "test_8393.txt\n",
      "test_8394.txt\n",
      "test_8395.txt\n",
      "test_8396.txt\n",
      "test_8397.txt\n",
      "test_8398.txt\n"
     ]
    },
    {
     "name": "stderr",
     "output_type": "stream",
     "text": [
      "\r",
      " 34%|████████████▋                        | 8399/24526 [02:24<04:37, 58.20it/s]"
     ]
    },
    {
     "name": "stdout",
     "output_type": "stream",
     "text": [
      "test_8399.txt\n",
      "test_8400.txt\n",
      "test_8401.txt\n",
      "test_8402.txt\n",
      "test_8403.txt\n",
      "test_8404.txt\n"
     ]
    },
    {
     "name": "stderr",
     "output_type": "stream",
     "text": [
      "\r",
      " 34%|████████████▋                        | 8405/24526 [02:24<04:37, 58.19it/s]"
     ]
    },
    {
     "name": "stdout",
     "output_type": "stream",
     "text": [
      "test_8405.txt\n",
      "test_8406.txt\n",
      "test_8407.txt\n",
      "test_8408.txt\n",
      "test_8409.txt\n",
      "test_8410.txt\n",
      "test_8411.txt\n",
      "test_8412.txt\n"
     ]
    },
    {
     "name": "stderr",
     "output_type": "stream",
     "text": [
      "\r",
      " 34%|████████████▋                        | 8413/24526 [02:24<04:36, 58.20it/s]"
     ]
    },
    {
     "name": "stdout",
     "output_type": "stream",
     "text": [
      "test_8413.txt\n",
      "test_8414.txt\n",
      "test_8415.txt\n",
      "test_8416.txt\n",
      "test_8417.txt\n",
      "test_8418.txt\n",
      "test_8419.txt\n"
     ]
    },
    {
     "name": "stderr",
     "output_type": "stream",
     "text": [
      "\r",
      " 34%|████████████▋                        | 8420/24526 [02:24<04:36, 58.20it/s]"
     ]
    },
    {
     "name": "stdout",
     "output_type": "stream",
     "text": [
      "test_8420.txt\n",
      "test_8421.txt\n",
      "test_8422.txt\n",
      "test_8423.txt\n",
      "test_8424.txt\n",
      "test_8425.txt\n"
     ]
    },
    {
     "name": "stderr",
     "output_type": "stream",
     "text": [
      "\r",
      " 34%|████████████▋                        | 8426/24526 [02:24<04:36, 58.20it/s]"
     ]
    },
    {
     "name": "stdout",
     "output_type": "stream",
     "text": [
      "test_8426.txt\n",
      "test_8427.txt\n",
      "test_8428.txt\n",
      "test_8429.txt\n",
      "test_8430.txt\n",
      "test_8431.txt\n",
      "test_8432.txt\n"
     ]
    },
    {
     "name": "stderr",
     "output_type": "stream",
     "text": [
      "\r",
      " 34%|████████████▋                        | 8433/24526 [02:24<04:36, 58.20it/s]"
     ]
    },
    {
     "name": "stdout",
     "output_type": "stream",
     "text": [
      "test_8433.txt\n",
      "test_8434.txt\n",
      "test_8435.txt\n",
      "test_8436.txt\n",
      "test_8437.txt\n",
      "test_8438.txt\n",
      "test_8439.txt\n"
     ]
    },
    {
     "name": "stderr",
     "output_type": "stream",
     "text": [
      "\r",
      " 34%|████████████▋                        | 8440/24526 [02:25<04:36, 58.21it/s]"
     ]
    },
    {
     "name": "stdout",
     "output_type": "stream",
     "text": [
      "test_8440.txt\n",
      "test_8441.txt\n",
      "test_8442.txt\n",
      "test_8443.txt\n",
      "test_8444.txt\n",
      "test_8445.txt\n",
      "test_8446.txt\n",
      "test_8447.txt\n"
     ]
    },
    {
     "name": "stderr",
     "output_type": "stream",
     "text": [
      "\r",
      " 34%|████████████▋                        | 8448/24526 [02:25<04:36, 58.21it/s]"
     ]
    },
    {
     "name": "stdout",
     "output_type": "stream",
     "text": [
      "test_8448.txt\n",
      "test_8449.txt\n",
      "test_8450.txt\n",
      "test_8451.txt\n",
      "test_8452.txt\n",
      "test_8453.txt\n",
      "test_8454.txt\n"
     ]
    },
    {
     "name": "stderr",
     "output_type": "stream",
     "text": [
      "\r",
      " 34%|████████████▊                        | 8455/24526 [02:25<04:36, 58.22it/s]"
     ]
    },
    {
     "name": "stdout",
     "output_type": "stream",
     "text": [
      "test_8455.txt\n",
      "test_8456.txt\n",
      "test_8457.txt\n",
      "test_8458.txt\n",
      "test_8459.txt\n",
      "test_8460.txt\n",
      "test_8461.txt\n"
     ]
    },
    {
     "name": "stderr",
     "output_type": "stream",
     "text": [
      "\r",
      " 35%|████████████▊                        | 8462/24526 [02:25<04:35, 58.21it/s]"
     ]
    },
    {
     "name": "stdout",
     "output_type": "stream",
     "text": [
      "test_8462.txt\n",
      "test_8463.txt\n",
      "test_8464.txt\n",
      "test_8465.txt\n",
      "test_8466.txt\n",
      "test_8467.txt\n",
      "test_8468.txt\n"
     ]
    },
    {
     "name": "stderr",
     "output_type": "stream",
     "text": [
      "\r",
      " 35%|████████████▊                        | 8469/24526 [02:25<04:35, 58.21it/s]"
     ]
    },
    {
     "name": "stdout",
     "output_type": "stream",
     "text": [
      "test_8469.txt\n",
      "test_8470.txt\n",
      "test_8471.txt\n",
      "test_8472.txt\n",
      "test_8473.txt\n",
      "test_8474.txt\n"
     ]
    },
    {
     "name": "stderr",
     "output_type": "stream",
     "text": [
      "\r",
      " 35%|████████████▊                        | 8475/24526 [02:25<04:35, 58.20it/s]"
     ]
    },
    {
     "name": "stdout",
     "output_type": "stream",
     "text": [
      "test_8475.txt\n",
      "test_8476.txt\n",
      "test_8477.txt\n",
      "test_8478.txt\n",
      "test_8479.txt\n",
      "test_8480.txt\n"
     ]
    },
    {
     "name": "stderr",
     "output_type": "stream",
     "text": [
      "\r",
      " 35%|████████████▊                        | 8481/24526 [02:25<04:35, 58.19it/s]"
     ]
    },
    {
     "name": "stdout",
     "output_type": "stream",
     "text": [
      "test_8481.txt\n",
      "test_8482.txt\n",
      "test_8483.txt\n",
      "test_8484.txt\n",
      "test_8485.txt\n",
      "test_8486.txt\n"
     ]
    },
    {
     "name": "stderr",
     "output_type": "stream",
     "text": [
      "\r",
      " 35%|████████████▊                        | 8487/24526 [02:25<04:35, 58.18it/s]"
     ]
    },
    {
     "name": "stdout",
     "output_type": "stream",
     "text": [
      "test_8487.txt\n",
      "test_8488.txt\n",
      "test_8489.txt\n",
      "test_8490.txt\n",
      "test_8491.txt\n",
      "test_8492.txt\n"
     ]
    },
    {
     "name": "stderr",
     "output_type": "stream",
     "text": [
      "\r",
      " 35%|████████████▊                        | 8493/24526 [02:25<04:35, 58.17it/s]"
     ]
    },
    {
     "name": "stdout",
     "output_type": "stream",
     "text": [
      "test_8493.txt\n",
      "test_8494.txt\n",
      "test_8495.txt\n",
      "test_8496.txt\n",
      "test_8497.txt\n",
      "test_8498.txt\n"
     ]
    },
    {
     "name": "stderr",
     "output_type": "stream",
     "text": [
      "\r",
      " 35%|████████████▊                        | 8499/24526 [02:26<04:35, 58.16it/s]"
     ]
    },
    {
     "name": "stdout",
     "output_type": "stream",
     "text": [
      "test_8499.txt\n",
      "test_8500.txt\n",
      "test_8501.txt\n",
      "test_8502.txt\n",
      "test_8503.txt\n",
      "test_8504.txt\n",
      "test_8505.txt\n"
     ]
    },
    {
     "name": "stderr",
     "output_type": "stream",
     "text": [
      "\r",
      " 35%|████████████▊                        | 8506/24526 [02:26<04:35, 58.17it/s]"
     ]
    },
    {
     "name": "stdout",
     "output_type": "stream",
     "text": [
      "test_8506.txt\n",
      "test_8507.txt\n",
      "test_8508.txt\n",
      "test_8509.txt\n",
      "test_8510.txt\n",
      "test_8511.txt\n"
     ]
    },
    {
     "name": "stderr",
     "output_type": "stream",
     "text": [
      "\r",
      " 35%|████████████▊                        | 8512/24526 [02:26<04:35, 58.15it/s]"
     ]
    },
    {
     "name": "stdout",
     "output_type": "stream",
     "text": [
      "test_8512.txt\n",
      "test_8513.txt\n",
      "test_8514.txt\n",
      "test_8515.txt\n",
      "test_8516.txt\n"
     ]
    },
    {
     "name": "stderr",
     "output_type": "stream",
     "text": [
      "\r",
      " 35%|████████████▊                        | 8517/24526 [02:26<04:35, 58.13it/s]"
     ]
    },
    {
     "name": "stdout",
     "output_type": "stream",
     "text": [
      "test_8517.txt\n",
      "test_8518.txt\n",
      "test_8519.txt\n",
      "test_8520.txt\n",
      "test_8521.txt\n",
      "test_8522.txt\n",
      "test_8523.txt\n"
     ]
    },
    {
     "name": "stderr",
     "output_type": "stream",
     "text": [
      "\r",
      " 35%|████████████▊                        | 8524/24526 [02:26<04:35, 58.14it/s]"
     ]
    },
    {
     "name": "stdout",
     "output_type": "stream",
     "text": [
      "test_8524.txt\n",
      "test_8525.txt\n",
      "test_8526.txt\n",
      "test_8527.txt\n",
      "test_8528.txt\n",
      "test_8529.txt\n",
      "test_8530.txt\n",
      "test_8531.txt\n"
     ]
    },
    {
     "name": "stderr",
     "output_type": "stream",
     "text": [
      "\r",
      " 35%|████████████▊                        | 8532/24526 [02:26<04:35, 58.15it/s]"
     ]
    },
    {
     "name": "stdout",
     "output_type": "stream",
     "text": [
      "test_8532.txt\n",
      "test_8533.txt\n",
      "test_8534.txt\n",
      "test_8535.txt\n",
      "test_8536.txt\n",
      "test_8537.txt\n"
     ]
    },
    {
     "name": "stderr",
     "output_type": "stream",
     "text": [
      "\r",
      " 35%|████████████▉                        | 8538/24526 [02:26<04:34, 58.15it/s]"
     ]
    },
    {
     "name": "stdout",
     "output_type": "stream",
     "text": [
      "test_8538.txt\n",
      "test_8539.txt\n",
      "test_8540.txt\n",
      "test_8541.txt\n",
      "test_8542.txt\n",
      "test_8543.txt\n",
      "test_8544.txt\n"
     ]
    },
    {
     "name": "stderr",
     "output_type": "stream",
     "text": [
      "\r",
      " 35%|████████████▉                        | 8545/24526 [02:26<04:34, 58.16it/s]"
     ]
    },
    {
     "name": "stdout",
     "output_type": "stream",
     "text": [
      "test_8545.txt\n",
      "test_8546.txt\n",
      "test_8547.txt\n",
      "test_8548.txt\n",
      "test_8549.txt\n",
      "test_8550.txt\n",
      "test_8551.txt\n"
     ]
    },
    {
     "name": "stderr",
     "output_type": "stream",
     "text": [
      "\r",
      " 35%|████████████▉                        | 8552/24526 [02:27<04:34, 58.15it/s]"
     ]
    },
    {
     "name": "stdout",
     "output_type": "stream",
     "text": [
      "test_8552.txt\n",
      "test_8553.txt\n",
      "test_8554.txt\n",
      "test_8555.txt\n",
      "test_8556.txt\n",
      "test_8557.txt\n",
      "test_8558.txt\n"
     ]
    },
    {
     "name": "stderr",
     "output_type": "stream",
     "text": [
      "\r",
      " 35%|████████████▉                        | 8559/24526 [02:27<04:34, 58.15it/s]"
     ]
    },
    {
     "name": "stdout",
     "output_type": "stream",
     "text": [
      "test_8559.txt\n",
      "test_8560.txt\n",
      "test_8561.txt\n",
      "test_8562.txt\n",
      "test_8563.txt\n",
      "test_8564.txt\n"
     ]
    },
    {
     "name": "stderr",
     "output_type": "stream",
     "text": [
      "\r",
      " 35%|████████████▉                        | 8565/24526 [02:27<04:34, 58.15it/s]"
     ]
    },
    {
     "name": "stdout",
     "output_type": "stream",
     "text": [
      "test_8565.txt\n",
      "test_8566.txt\n",
      "test_8567.txt\n",
      "test_8568.txt\n",
      "test_8569.txt\n",
      "test_8570.txt\n",
      "test_8571.txt\n"
     ]
    },
    {
     "name": "stderr",
     "output_type": "stream",
     "text": [
      "\r",
      " 35%|████████████▉                        | 8572/24526 [02:27<04:34, 58.15it/s]"
     ]
    },
    {
     "name": "stdout",
     "output_type": "stream",
     "text": [
      "test_8572.txt\n",
      "test_8573.txt\n",
      "test_8574.txt\n",
      "test_8575.txt\n",
      "test_8576.txt\n",
      "test_8577.txt\n",
      "test_8578.txt\n"
     ]
    },
    {
     "name": "stderr",
     "output_type": "stream",
     "text": [
      "\r",
      " 35%|████████████▉                        | 8579/24526 [02:27<04:34, 58.16it/s]"
     ]
    },
    {
     "name": "stdout",
     "output_type": "stream",
     "text": [
      "test_8579.txt\n",
      "test_8580.txt\n",
      "test_8581.txt\n",
      "test_8582.txt\n",
      "test_8583.txt\n",
      "test_8584.txt\n",
      "test_8585.txt\n"
     ]
    },
    {
     "name": "stderr",
     "output_type": "stream",
     "text": [
      "\r",
      " 35%|████████████▉                        | 8586/24526 [02:27<04:34, 58.16it/s]"
     ]
    },
    {
     "name": "stdout",
     "output_type": "stream",
     "text": [
      "test_8586.txt\n",
      "test_8587.txt\n",
      "test_8588.txt\n",
      "test_8589.txt\n",
      "test_8590.txt\n",
      "test_8591.txt\n"
     ]
    },
    {
     "name": "stderr",
     "output_type": "stream",
     "text": [
      "\r",
      " 35%|████████████▉                        | 8592/24526 [02:27<04:34, 58.15it/s]"
     ]
    },
    {
     "name": "stdout",
     "output_type": "stream",
     "text": [
      "test_8592.txt\n",
      "test_8593.txt\n",
      "test_8594.txt\n",
      "test_8595.txt\n",
      "test_8596.txt\n",
      "test_8597.txt\n",
      "test_8598.txt\n"
     ]
    },
    {
     "name": "stderr",
     "output_type": "stream",
     "text": [
      "\r",
      " 35%|████████████▉                        | 8599/24526 [02:27<04:33, 58.16it/s]"
     ]
    },
    {
     "name": "stdout",
     "output_type": "stream",
     "text": [
      "test_8599.txt\n",
      "test_8600.txt\n",
      "test_8601.txt\n",
      "test_8602.txt\n",
      "test_8603.txt\n",
      "test_8604.txt\n",
      "test_8605.txt\n"
     ]
    },
    {
     "name": "stderr",
     "output_type": "stream",
     "text": [
      "\r",
      " 35%|████████████▉                        | 8606/24526 [02:27<04:33, 58.16it/s]"
     ]
    },
    {
     "name": "stdout",
     "output_type": "stream",
     "text": [
      "test_8606.txt\n",
      "test_8607.txt\n",
      "test_8608.txt\n",
      "test_8609.txt\n",
      "test_8610.txt\n",
      "test_8611.txt\n",
      "test_8612.txt\n"
     ]
    },
    {
     "name": "stderr",
     "output_type": "stream",
     "text": [
      "\r",
      " 35%|████████████▉                        | 8613/24526 [02:28<04:33, 58.16it/s]"
     ]
    },
    {
     "name": "stdout",
     "output_type": "stream",
     "text": [
      "test_8613.txt\n",
      "test_8614.txt\n",
      "test_8615.txt\n",
      "test_8616.txt\n",
      "test_8617.txt\n",
      "test_8618.txt\n"
     ]
    },
    {
     "name": "stderr",
     "output_type": "stream",
     "text": [
      "\r",
      " 35%|█████████████                        | 8619/24526 [02:28<04:33, 58.16it/s]"
     ]
    },
    {
     "name": "stdout",
     "output_type": "stream",
     "text": [
      "test_8619.txt\n",
      "test_8620.txt\n",
      "test_8621.txt\n",
      "test_8622.txt\n",
      "test_8623.txt\n",
      "test_8624.txt\n"
     ]
    },
    {
     "name": "stderr",
     "output_type": "stream",
     "text": [
      "\r",
      " 35%|█████████████                        | 8625/24526 [02:28<04:33, 58.15it/s]"
     ]
    },
    {
     "name": "stdout",
     "output_type": "stream",
     "text": [
      "test_8625.txt\n",
      "test_8626.txt\n",
      "test_8627.txt\n",
      "test_8628.txt\n",
      "test_8629.txt\n",
      "test_8630.txt\n"
     ]
    },
    {
     "name": "stderr",
     "output_type": "stream",
     "text": [
      "\r",
      " 35%|█████████████                        | 8631/24526 [02:28<04:33, 58.14it/s]"
     ]
    },
    {
     "name": "stdout",
     "output_type": "stream",
     "text": [
      "test_8631.txt\n",
      "test_8632.txt\n",
      "test_8633.txt\n",
      "test_8634.txt\n",
      "test_8635.txt\n",
      "test_8636.txt\n",
      "test_8637.txt\n"
     ]
    },
    {
     "name": "stderr",
     "output_type": "stream",
     "text": [
      "\r",
      " 35%|█████████████                        | 8638/24526 [02:28<04:33, 58.15it/s]"
     ]
    },
    {
     "name": "stdout",
     "output_type": "stream",
     "text": [
      "test_8638.txt\n",
      "test_8639.txt\n",
      "test_8640.txt\n",
      "test_8641.txt\n",
      "test_8642.txt\n",
      "test_8643.txt\n"
     ]
    },
    {
     "name": "stderr",
     "output_type": "stream",
     "text": [
      "\r",
      " 35%|█████████████                        | 8644/24526 [02:28<04:33, 58.14it/s]"
     ]
    },
    {
     "name": "stdout",
     "output_type": "stream",
     "text": [
      "test_8644.txt\n",
      "test_8645.txt\n",
      "test_8646.txt\n",
      "test_8647.txt\n",
      "test_8648.txt\n",
      "test_8649.txt\n"
     ]
    },
    {
     "name": "stderr",
     "output_type": "stream",
     "text": [
      "\r",
      " 35%|█████████████                        | 8650/24526 [02:28<04:33, 58.14it/s]"
     ]
    },
    {
     "name": "stdout",
     "output_type": "stream",
     "text": [
      "test_8650.txt\n",
      "test_8651.txt\n",
      "test_8652.txt\n",
      "test_8653.txt\n",
      "test_8654.txt\n",
      "test_8655.txt\n"
     ]
    },
    {
     "name": "stderr",
     "output_type": "stream",
     "text": [
      "\r",
      " 35%|█████████████                        | 8656/24526 [02:28<04:32, 58.13it/s]"
     ]
    },
    {
     "name": "stdout",
     "output_type": "stream",
     "text": [
      "test_8656.txt\n",
      "test_8657.txt\n",
      "test_8658.txt\n",
      "test_8659.txt\n",
      "test_8660.txt\n",
      "test_8661.txt\n",
      "test_8662.txt\n"
     ]
    },
    {
     "name": "stderr",
     "output_type": "stream",
     "text": [
      "\r",
      " 35%|█████████████                        | 8663/24526 [02:29<04:32, 58.13it/s]"
     ]
    },
    {
     "name": "stdout",
     "output_type": "stream",
     "text": [
      "test_8663.txt\n",
      "test_8664.txt\n",
      "test_8665.txt\n",
      "test_8666.txt\n",
      "test_8667.txt\n",
      "test_8668.txt\n"
     ]
    },
    {
     "name": "stderr",
     "output_type": "stream",
     "text": [
      "\r",
      " 35%|█████████████                        | 8669/24526 [02:29<04:32, 58.13it/s]"
     ]
    },
    {
     "name": "stdout",
     "output_type": "stream",
     "text": [
      "test_8669.txt\n",
      "test_8670.txt\n",
      "test_8671.txt\n",
      "test_8672.txt\n",
      "test_8673.txt\n",
      "test_8674.txt\n",
      "test_8675.txt\n"
     ]
    },
    {
     "name": "stderr",
     "output_type": "stream",
     "text": [
      "\r",
      " 35%|█████████████                        | 8676/24526 [02:29<04:32, 58.13it/s]"
     ]
    },
    {
     "name": "stdout",
     "output_type": "stream",
     "text": [
      "test_8676.txt\n",
      "test_8677.txt\n",
      "test_8678.txt\n",
      "test_8679.txt\n",
      "test_8680.txt\n",
      "test_8681.txt\n",
      "test_8682.txt\n"
     ]
    },
    {
     "name": "stderr",
     "output_type": "stream",
     "text": [
      "\r",
      " 35%|█████████████                        | 8683/24526 [02:29<04:32, 58.14it/s]"
     ]
    },
    {
     "name": "stdout",
     "output_type": "stream",
     "text": [
      "test_8683.txt\n",
      "test_8684.txt\n",
      "test_8685.txt\n",
      "test_8686.txt\n",
      "test_8687.txt\n",
      "test_8688.txt\n"
     ]
    },
    {
     "name": "stderr",
     "output_type": "stream",
     "text": [
      "\r",
      " 35%|█████████████                        | 8689/24526 [02:29<04:32, 58.13it/s]"
     ]
    },
    {
     "name": "stdout",
     "output_type": "stream",
     "text": [
      "test_8689.txt\n",
      "test_8690.txt\n",
      "test_8691.txt\n",
      "test_8692.txt\n",
      "test_8693.txt\n",
      "test_8694.txt\n"
     ]
    },
    {
     "name": "stderr",
     "output_type": "stream",
     "text": [
      "\r",
      " 35%|█████████████                        | 8695/24526 [02:29<04:32, 58.13it/s]"
     ]
    },
    {
     "name": "stdout",
     "output_type": "stream",
     "text": [
      "test_8695.txt\n",
      "test_8696.txt\n",
      "test_8697.txt\n",
      "test_8698.txt\n",
      "test_8699.txt\n",
      "test_8700.txt\n",
      "test_8701.txt\n",
      "test_8702.txt\n"
     ]
    },
    {
     "name": "stderr",
     "output_type": "stream",
     "text": [
      "\r",
      " 35%|█████████████▏                       | 8703/24526 [02:29<04:32, 58.14it/s]"
     ]
    },
    {
     "name": "stdout",
     "output_type": "stream",
     "text": [
      "test_8703.txt\n",
      "test_8704.txt\n",
      "test_8705.txt\n",
      "test_8706.txt\n",
      "test_8707.txt\n",
      "test_8708.txt\n",
      "test_8709.txt\n"
     ]
    },
    {
     "name": "stderr",
     "output_type": "stream",
     "text": [
      "\r",
      " 36%|█████████████▏                       | 8710/24526 [02:29<04:32, 58.15it/s]"
     ]
    },
    {
     "name": "stdout",
     "output_type": "stream",
     "text": [
      "test_8710.txt\n",
      "test_8711.txt\n",
      "test_8712.txt\n",
      "test_8713.txt\n",
      "test_8714.txt\n",
      "test_8715.txt\n",
      "test_8716.txt\n"
     ]
    },
    {
     "name": "stderr",
     "output_type": "stream",
     "text": [
      "\r",
      " 36%|█████████████▏                       | 8717/24526 [02:29<04:31, 58.14it/s]"
     ]
    },
    {
     "name": "stdout",
     "output_type": "stream",
     "text": [
      "test_8717.txt\n",
      "test_8718.txt\n",
      "test_8719.txt\n",
      "test_8720.txt\n",
      "test_8721.txt\n",
      "test_8722.txt\n",
      "test_8723.txt\n"
     ]
    },
    {
     "name": "stderr",
     "output_type": "stream",
     "text": [
      "\r",
      " 36%|█████████████▏                       | 8724/24526 [02:30<04:31, 58.13it/s]"
     ]
    },
    {
     "name": "stdout",
     "output_type": "stream",
     "text": [
      "test_8724.txt\n",
      "test_8725.txt\n",
      "test_8726.txt\n",
      "test_8727.txt\n",
      "test_8728.txt\n",
      "test_8729.txt\n"
     ]
    },
    {
     "name": "stderr",
     "output_type": "stream",
     "text": [
      "\r",
      " 36%|█████████████▏                       | 8730/24526 [02:30<04:31, 58.13it/s]"
     ]
    },
    {
     "name": "stdout",
     "output_type": "stream",
     "text": [
      "test_8730.txt\n",
      "test_8731.txt\n",
      "test_8732.txt\n",
      "test_8733.txt\n",
      "test_8734.txt\n",
      "test_8735.txt\n"
     ]
    },
    {
     "name": "stderr",
     "output_type": "stream",
     "text": [
      "\r",
      " 36%|█████████████▏                       | 8736/24526 [02:30<04:31, 58.13it/s]"
     ]
    },
    {
     "name": "stdout",
     "output_type": "stream",
     "text": [
      "test_8736.txt\n",
      "test_8737.txt\n",
      "test_8738.txt\n",
      "test_8739.txt\n",
      "test_8740.txt\n",
      "test_8741.txt\n",
      "test_8742.txt\n",
      "test_8743.txt\n",
      "test_8744.txt\n"
     ]
    },
    {
     "name": "stderr",
     "output_type": "stream",
     "text": [
      "\r",
      " 36%|█████████████▏                       | 8745/24526 [02:30<04:31, 58.15it/s]"
     ]
    },
    {
     "name": "stdout",
     "output_type": "stream",
     "text": [
      "test_8745.txt\n",
      "test_8746.txt\n",
      "test_8747.txt\n",
      "test_8748.txt\n",
      "test_8749.txt\n",
      "test_8750.txt\n",
      "test_8751.txt\n"
     ]
    },
    {
     "name": "stderr",
     "output_type": "stream",
     "text": [
      "\r",
      " 36%|█████████████▏                       | 8752/24526 [02:30<04:31, 58.15it/s]"
     ]
    },
    {
     "name": "stdout",
     "output_type": "stream",
     "text": [
      "test_8752.txt\n",
      "test_8753.txt\n",
      "test_8754.txt\n",
      "test_8755.txt\n",
      "test_8756.txt\n",
      "test_8757.txt\n",
      "test_8758.txt\n"
     ]
    },
    {
     "name": "stderr",
     "output_type": "stream",
     "text": [
      "\r",
      " 36%|█████████████▏                       | 8759/24526 [02:30<04:31, 58.15it/s]"
     ]
    },
    {
     "name": "stdout",
     "output_type": "stream",
     "text": [
      "test_8759.txt\n",
      "test_8760.txt\n",
      "test_8761.txt\n",
      "test_8762.txt\n",
      "test_8763.txt\n",
      "test_8764.txt\n",
      "test_8765.txt\n"
     ]
    },
    {
     "name": "stderr",
     "output_type": "stream",
     "text": [
      "\r",
      " 36%|█████████████▏                       | 8766/24526 [02:30<04:31, 58.14it/s]"
     ]
    },
    {
     "name": "stdout",
     "output_type": "stream",
     "text": [
      "test_8766.txt\n",
      "test_8767.txt\n",
      "test_8768.txt\n",
      "test_8769.txt\n",
      "test_8770.txt\n",
      "test_8771.txt\n",
      "test_8772.txt\n",
      "test_8773.txt\n"
     ]
    },
    {
     "name": "stderr",
     "output_type": "stream",
     "text": [
      "\r",
      " 36%|█████████████▏                       | 8774/24526 [02:30<04:30, 58.15it/s]"
     ]
    },
    {
     "name": "stdout",
     "output_type": "stream",
     "text": [
      "test_8774.txt\n",
      "test_8775.txt\n",
      "test_8776.txt\n",
      "test_8777.txt\n",
      "test_8778.txt\n",
      "test_8779.txt\n",
      "test_8780.txt\n"
     ]
    },
    {
     "name": "stderr",
     "output_type": "stream",
     "text": [
      "\r",
      " 36%|█████████████▏                       | 8781/24526 [02:30<04:30, 58.15it/s]"
     ]
    },
    {
     "name": "stdout",
     "output_type": "stream",
     "text": [
      "test_8781.txt\n",
      "test_8782.txt\n",
      "test_8783.txt\n",
      "test_8784.txt\n",
      "test_8785.txt\n",
      "test_8786.txt\n",
      "test_8787.txt\n"
     ]
    },
    {
     "name": "stderr",
     "output_type": "stream",
     "text": [
      "\r",
      " 36%|█████████████▎                       | 8788/24526 [02:31<04:30, 58.15it/s]"
     ]
    },
    {
     "name": "stdout",
     "output_type": "stream",
     "text": [
      "test_8788.txt\n",
      "test_8789.txt\n",
      "test_8790.txt\n",
      "test_8791.txt\n",
      "test_8792.txt\n",
      "test_8793.txt\n",
      "test_8794.txt\n",
      "test_8795.txt\n",
      "test_8796.txt\n"
     ]
    },
    {
     "name": "stderr",
     "output_type": "stream",
     "text": [
      "\r",
      " 36%|█████████████▎                       | 8797/24526 [02:31<04:30, 58.17it/s]"
     ]
    },
    {
     "name": "stdout",
     "output_type": "stream",
     "text": [
      "test_8797.txt\n",
      "test_8798.txt\n",
      "test_8799.txt\n",
      "test_8800.txt\n",
      "test_8801.txt\n",
      "test_8802.txt\n",
      "test_8803.txt\n"
     ]
    },
    {
     "name": "stderr",
     "output_type": "stream",
     "text": [
      "\r",
      " 36%|█████████████▎                       | 8804/24526 [02:31<04:30, 58.17it/s]"
     ]
    },
    {
     "name": "stdout",
     "output_type": "stream",
     "text": [
      "test_8804.txt\n",
      "test_8805.txt\n",
      "test_8806.txt\n",
      "test_8807.txt\n",
      "test_8808.txt\n",
      "test_8809.txt\n",
      "test_8810.txt\n"
     ]
    },
    {
     "name": "stderr",
     "output_type": "stream",
     "text": [
      "\r",
      " 36%|█████████████▎                       | 8811/24526 [02:31<04:30, 58.17it/s]"
     ]
    },
    {
     "name": "stdout",
     "output_type": "stream",
     "text": [
      "test_8811.txt\n",
      "test_8812.txt\n",
      "test_8813.txt\n",
      "test_8814.txt\n",
      "test_8815.txt\n",
      "test_8816.txt\n",
      "test_8817.txt\n"
     ]
    },
    {
     "name": "stderr",
     "output_type": "stream",
     "text": [
      "\r",
      " 36%|█████████████▎                       | 8818/24526 [02:31<04:30, 58.17it/s]"
     ]
    },
    {
     "name": "stdout",
     "output_type": "stream",
     "text": [
      "test_8818.txt\n",
      "test_8819.txt\n",
      "test_8820.txt\n",
      "test_8821.txt\n",
      "test_8822.txt\n",
      "test_8823.txt\n"
     ]
    },
    {
     "name": "stderr",
     "output_type": "stream",
     "text": [
      "\r",
      " 36%|█████████████▎                       | 8824/24526 [02:31<04:29, 58.16it/s]"
     ]
    },
    {
     "name": "stdout",
     "output_type": "stream",
     "text": [
      "test_8824.txt\n",
      "test_8825.txt\n",
      "test_8826.txt\n",
      "test_8827.txt\n",
      "test_8828.txt\n",
      "test_8829.txt\n"
     ]
    },
    {
     "name": "stderr",
     "output_type": "stream",
     "text": [
      "\r",
      " 36%|█████████████▎                       | 8830/24526 [02:31<04:29, 58.16it/s]"
     ]
    },
    {
     "name": "stdout",
     "output_type": "stream",
     "text": [
      "test_8830.txt\n",
      "test_8831.txt\n",
      "test_8832.txt\n",
      "test_8833.txt\n",
      "test_8834.txt\n",
      "test_8835.txt\n"
     ]
    },
    {
     "name": "stderr",
     "output_type": "stream",
     "text": [
      "\r",
      " 36%|█████████████▎                       | 8836/24526 [02:31<04:29, 58.16it/s]"
     ]
    },
    {
     "name": "stdout",
     "output_type": "stream",
     "text": [
      "test_8836.txt\n",
      "test_8837.txt\n",
      "test_8838.txt\n",
      "test_8839.txt\n",
      "test_8840.txt\n",
      "test_8841.txt\n",
      "test_8842.txt\n"
     ]
    },
    {
     "name": "stderr",
     "output_type": "stream",
     "text": [
      "\r",
      " 36%|█████████████▎                       | 8843/24526 [02:32<04:29, 58.16it/s]"
     ]
    },
    {
     "name": "stdout",
     "output_type": "stream",
     "text": [
      "test_8843.txt\n",
      "test_8844.txt\n",
      "test_8845.txt\n",
      "test_8846.txt\n",
      "test_8847.txt\n",
      "test_8848.txt\n"
     ]
    },
    {
     "name": "stderr",
     "output_type": "stream",
     "text": [
      "\r",
      " 36%|█████████████▎                       | 8849/24526 [02:32<04:29, 58.15it/s]"
     ]
    },
    {
     "name": "stdout",
     "output_type": "stream",
     "text": [
      "test_8849.txt\n",
      "test_8850.txt\n",
      "test_8851.txt\n",
      "test_8852.txt\n",
      "test_8853.txt\n",
      "test_8854.txt\n"
     ]
    },
    {
     "name": "stderr",
     "output_type": "stream",
     "text": [
      "\r",
      " 36%|█████████████▎                       | 8855/24526 [02:32<04:29, 58.15it/s]"
     ]
    },
    {
     "name": "stdout",
     "output_type": "stream",
     "text": [
      "test_8855.txt\n",
      "test_8856.txt\n",
      "test_8857.txt\n",
      "test_8858.txt\n",
      "test_8859.txt\n",
      "test_8860.txt\n"
     ]
    },
    {
     "name": "stderr",
     "output_type": "stream",
     "text": [
      "\r",
      " 36%|█████████████▎                       | 8861/24526 [02:32<04:29, 58.15it/s]"
     ]
    },
    {
     "name": "stdout",
     "output_type": "stream",
     "text": [
      "test_8861.txt\n",
      "test_8862.txt\n",
      "test_8863.txt\n",
      "test_8864.txt\n",
      "test_8865.txt\n",
      "test_8866.txt\n"
     ]
    },
    {
     "name": "stderr",
     "output_type": "stream",
     "text": [
      "\r",
      " 36%|█████████████▍                       | 8867/24526 [02:32<04:29, 58.14it/s]"
     ]
    },
    {
     "name": "stdout",
     "output_type": "stream",
     "text": [
      "test_8867.txt\n",
      "test_8868.txt\n",
      "test_8869.txt\n",
      "test_8870.txt\n",
      "test_8871.txt\n",
      "test_8872.txt\n",
      "test_8873.txt\n"
     ]
    },
    {
     "name": "stderr",
     "output_type": "stream",
     "text": [
      "\r",
      " 36%|█████████████▍                       | 8874/24526 [02:32<04:29, 58.14it/s]"
     ]
    },
    {
     "name": "stdout",
     "output_type": "stream",
     "text": [
      "test_8874.txt\n",
      "test_8875.txt\n",
      "test_8876.txt\n",
      "test_8877.txt\n",
      "test_8878.txt\n",
      "test_8879.txt\n",
      "test_8880.txt\n"
     ]
    },
    {
     "name": "stderr",
     "output_type": "stream",
     "text": [
      "\r",
      " 36%|█████████████▍                       | 8881/24526 [02:32<04:29, 58.14it/s]"
     ]
    },
    {
     "name": "stdout",
     "output_type": "stream",
     "text": [
      "test_8881.txt\n",
      "test_8882.txt\n",
      "test_8883.txt\n",
      "test_8884.txt\n",
      "test_8885.txt\n",
      "test_8886.txt\n",
      "test_8887.txt\n"
     ]
    },
    {
     "name": "stderr",
     "output_type": "stream",
     "text": [
      "\r",
      " 36%|█████████████▍                       | 8888/24526 [02:32<04:28, 58.15it/s]"
     ]
    },
    {
     "name": "stdout",
     "output_type": "stream",
     "text": [
      "test_8888.txt\n",
      "test_8889.txt\n",
      "test_8890.txt\n",
      "test_8891.txt\n",
      "test_8892.txt\n",
      "test_8893.txt\n"
     ]
    },
    {
     "name": "stderr",
     "output_type": "stream",
     "text": [
      "\r",
      " 36%|█████████████▍                       | 8894/24526 [02:32<04:28, 58.14it/s]"
     ]
    },
    {
     "name": "stdout",
     "output_type": "stream",
     "text": [
      "test_8894.txt\n",
      "test_8895.txt\n",
      "test_8896.txt\n",
      "test_8897.txt\n",
      "test_8898.txt\n",
      "test_8899.txt\n"
     ]
    },
    {
     "name": "stderr",
     "output_type": "stream",
     "text": [
      "\r",
      " 36%|█████████████▍                       | 8900/24526 [02:33<04:28, 58.14it/s]"
     ]
    },
    {
     "name": "stdout",
     "output_type": "stream",
     "text": [
      "test_8900.txt\n",
      "test_8901.txt\n",
      "test_8902.txt\n",
      "test_8903.txt\n",
      "test_8904.txt\n",
      "test_8905.txt\n",
      "test_8906.txt\n",
      "test_8907.txt\n"
     ]
    },
    {
     "name": "stderr",
     "output_type": "stream",
     "text": [
      "\r",
      " 36%|█████████████▍                       | 8908/24526 [02:33<04:28, 58.15it/s]"
     ]
    },
    {
     "name": "stdout",
     "output_type": "stream",
     "text": [
      "test_8908.txt\n",
      "test_8909.txt\n",
      "test_8910.txt\n",
      "test_8911.txt\n",
      "test_8912.txt\n",
      "test_8913.txt\n"
     ]
    },
    {
     "name": "stderr",
     "output_type": "stream",
     "text": [
      "\r",
      " 36%|█████████████▍                       | 8914/24526 [02:33<04:28, 58.14it/s]"
     ]
    },
    {
     "name": "stdout",
     "output_type": "stream",
     "text": [
      "test_8914.txt\n",
      "test_8915.txt\n",
      "test_8916.txt\n",
      "test_8917.txt\n",
      "test_8918.txt\n",
      "test_8919.txt\n",
      "test_8920.txt\n"
     ]
    },
    {
     "name": "stderr",
     "output_type": "stream",
     "text": [
      "\r",
      " 36%|█████████████▍                       | 8921/24526 [02:33<04:28, 58.14it/s]"
     ]
    },
    {
     "name": "stdout",
     "output_type": "stream",
     "text": [
      "test_8921.txt\n",
      "test_8922.txt\n",
      "test_8923.txt\n",
      "test_8924.txt\n",
      "test_8925.txt\n",
      "test_8926.txt\n"
     ]
    },
    {
     "name": "stderr",
     "output_type": "stream",
     "text": [
      "\r",
      " 36%|█████████████▍                       | 8927/24526 [02:33<04:28, 58.14it/s]"
     ]
    },
    {
     "name": "stdout",
     "output_type": "stream",
     "text": [
      "test_8927.txt\n",
      "test_8928.txt\n",
      "test_8929.txt\n",
      "test_8930.txt\n",
      "test_8931.txt\n",
      "test_8932.txt\n"
     ]
    },
    {
     "name": "stderr",
     "output_type": "stream",
     "text": [
      "\r",
      " 36%|█████████████▍                       | 8933/24526 [02:33<04:28, 58.14it/s]"
     ]
    },
    {
     "name": "stdout",
     "output_type": "stream",
     "text": [
      "test_8933.txt\n",
      "test_8934.txt\n",
      "test_8935.txt\n",
      "test_8936.txt\n",
      "test_8937.txt\n",
      "test_8938.txt\n",
      "test_8939.txt\n"
     ]
    },
    {
     "name": "stderr",
     "output_type": "stream",
     "text": [
      "\r",
      " 36%|█████████████▍                       | 8940/24526 [02:33<04:28, 58.14it/s]"
     ]
    },
    {
     "name": "stdout",
     "output_type": "stream",
     "text": [
      "test_8940.txt\n",
      "test_8941.txt\n",
      "test_8942.txt\n",
      "test_8943.txt\n",
      "test_8944.txt\n",
      "test_8945.txt\n",
      "test_8946.txt\n"
     ]
    },
    {
     "name": "stderr",
     "output_type": "stream",
     "text": [
      "\r",
      " 36%|█████████████▍                       | 8947/24526 [02:33<04:27, 58.14it/s]"
     ]
    },
    {
     "name": "stdout",
     "output_type": "stream",
     "text": [
      "test_8947.txt\n",
      "test_8948.txt\n",
      "test_8949.txt\n",
      "test_8950.txt\n",
      "test_8951.txt\n",
      "test_8952.txt\n"
     ]
    },
    {
     "name": "stderr",
     "output_type": "stream",
     "text": [
      "\r",
      " 37%|█████████████▌                       | 8953/24526 [02:33<04:27, 58.14it/s]"
     ]
    },
    {
     "name": "stdout",
     "output_type": "stream",
     "text": [
      "test_8953.txt\n",
      "test_8954.txt\n",
      "test_8955.txt\n",
      "test_8956.txt\n",
      "test_8957.txt\n",
      "test_8958.txt\n",
      "test_8959.txt\n"
     ]
    },
    {
     "name": "stderr",
     "output_type": "stream",
     "text": [
      "\r",
      " 37%|█████████████▌                       | 8960/24526 [02:34<04:27, 58.15it/s]"
     ]
    },
    {
     "name": "stdout",
     "output_type": "stream",
     "text": [
      "test_8960.txt\n",
      "test_8961.txt\n",
      "test_8962.txt\n",
      "test_8963.txt\n",
      "test_8964.txt\n",
      "test_8965.txt\n",
      "test_8966.txt\n",
      "test_8967.txt\n"
     ]
    },
    {
     "name": "stderr",
     "output_type": "stream",
     "text": [
      "\r",
      " 37%|█████████████▌                       | 8968/24526 [02:34<04:27, 58.15it/s]"
     ]
    },
    {
     "name": "stdout",
     "output_type": "stream",
     "text": [
      "test_8968.txt\n",
      "test_8969.txt\n",
      "test_8970.txt\n",
      "test_8971.txt\n",
      "test_8972.txt\n",
      "test_8973.txt\n",
      "test_8974.txt\n"
     ]
    },
    {
     "name": "stderr",
     "output_type": "stream",
     "text": [
      "\r",
      " 37%|█████████████▌                       | 8975/24526 [02:34<04:27, 58.15it/s]"
     ]
    },
    {
     "name": "stdout",
     "output_type": "stream",
     "text": [
      "test_8975.txt\n",
      "test_8976.txt\n",
      "test_8977.txt\n",
      "test_8978.txt\n",
      "test_8979.txt\n",
      "test_8980.txt\n",
      "test_8981.txt\n"
     ]
    },
    {
     "name": "stderr",
     "output_type": "stream",
     "text": [
      "\r",
      " 37%|█████████████▌                       | 8982/24526 [02:34<04:27, 58.15it/s]"
     ]
    },
    {
     "name": "stdout",
     "output_type": "stream",
     "text": [
      "test_8982.txt\n",
      "test_8983.txt\n",
      "test_8984.txt\n",
      "test_8985.txt\n",
      "test_8986.txt\n",
      "test_8987.txt\n",
      "test_8988.txt\n"
     ]
    },
    {
     "name": "stderr",
     "output_type": "stream",
     "text": [
      "\r",
      " 37%|█████████████▌                       | 8989/24526 [02:34<04:27, 58.15it/s]"
     ]
    },
    {
     "name": "stdout",
     "output_type": "stream",
     "text": [
      "test_8989.txt\n",
      "test_8990.txt\n",
      "test_8991.txt\n",
      "test_8992.txt\n",
      "test_8993.txt\n",
      "test_8994.txt\n"
     ]
    },
    {
     "name": "stderr",
     "output_type": "stream",
     "text": [
      "\r",
      " 37%|█████████████▌                       | 8995/24526 [02:34<04:27, 58.14it/s]"
     ]
    },
    {
     "name": "stdout",
     "output_type": "stream",
     "text": [
      "test_8995.txt\n",
      "test_8996.txt\n",
      "test_8997.txt\n",
      "test_8998.txt\n",
      "test_8999.txt\n",
      "test_9000.txt\n"
     ]
    },
    {
     "name": "stderr",
     "output_type": "stream",
     "text": [
      "\r",
      " 37%|█████████████▌                       | 9001/24526 [02:34<04:27, 58.13it/s]"
     ]
    },
    {
     "name": "stdout",
     "output_type": "stream",
     "text": [
      "test_9001.txt\n",
      "test_9002.txt\n",
      "test_9003.txt\n",
      "test_9004.txt\n",
      "test_9005.txt\n",
      "test_9006.txt\n"
     ]
    },
    {
     "name": "stderr",
     "output_type": "stream",
     "text": [
      "\r",
      " 37%|█████████████▌                       | 9007/24526 [02:34<04:26, 58.13it/s]"
     ]
    },
    {
     "name": "stdout",
     "output_type": "stream",
     "text": [
      "test_9007.txt\n",
      "test_9008.txt\n",
      "test_9009.txt\n",
      "test_9010.txt\n",
      "test_9011.txt\n",
      "test_9012.txt\n"
     ]
    },
    {
     "name": "stderr",
     "output_type": "stream",
     "text": [
      "\r",
      " 37%|█████████████▌                       | 9013/24526 [02:35<04:26, 58.13it/s]"
     ]
    },
    {
     "name": "stdout",
     "output_type": "stream",
     "text": [
      "test_9013.txt\n",
      "test_9014.txt\n",
      "test_9015.txt\n",
      "test_9016.txt\n",
      "test_9017.txt\n",
      "test_9018.txt\n"
     ]
    },
    {
     "name": "stderr",
     "output_type": "stream",
     "text": [
      "\r",
      " 37%|█████████████▌                       | 9019/24526 [02:35<04:26, 58.13it/s]"
     ]
    },
    {
     "name": "stdout",
     "output_type": "stream",
     "text": [
      "test_9019.txt\n",
      "test_9020.txt\n",
      "test_9021.txt\n",
      "test_9022.txt\n",
      "test_9023.txt\n",
      "test_9024.txt\n"
     ]
    },
    {
     "name": "stderr",
     "output_type": "stream",
     "text": [
      "\r",
      " 37%|█████████████▌                       | 9025/24526 [02:35<04:26, 58.13it/s]"
     ]
    },
    {
     "name": "stdout",
     "output_type": "stream",
     "text": [
      "test_9025.txt\n",
      "test_9026.txt\n",
      "test_9027.txt\n",
      "test_9028.txt\n",
      "test_9029.txt\n",
      "test_9030.txt\n",
      "test_9031.txt\n"
     ]
    },
    {
     "name": "stderr",
     "output_type": "stream",
     "text": [
      "\r",
      " 37%|█████████████▋                       | 9032/24526 [02:35<04:26, 58.13it/s]"
     ]
    },
    {
     "name": "stdout",
     "output_type": "stream",
     "text": [
      "test_9032.txt\n",
      "test_9033.txt\n",
      "test_9034.txt\n",
      "test_9035.txt\n",
      "test_9036.txt\n",
      "test_9037.txt\n"
     ]
    },
    {
     "name": "stderr",
     "output_type": "stream",
     "text": [
      "\r",
      " 37%|█████████████▋                       | 9038/24526 [02:35<04:26, 58.13it/s]"
     ]
    },
    {
     "name": "stdout",
     "output_type": "stream",
     "text": [
      "test_9038.txt\n",
      "test_9039.txt\n",
      "test_9040.txt\n",
      "test_9041.txt\n",
      "test_9042.txt\n",
      "test_9043.txt\n"
     ]
    },
    {
     "name": "stderr",
     "output_type": "stream",
     "text": [
      "\r",
      " 37%|█████████████▋                       | 9044/24526 [02:35<04:26, 58.12it/s]"
     ]
    },
    {
     "name": "stdout",
     "output_type": "stream",
     "text": [
      "test_9044.txt\n",
      "test_9045.txt\n",
      "test_9046.txt\n",
      "test_9047.txt\n",
      "test_9048.txt\n",
      "test_9049.txt\n",
      "test_9050.txt\n"
     ]
    },
    {
     "name": "stderr",
     "output_type": "stream",
     "text": [
      "\r",
      " 37%|█████████████▋                       | 9051/24526 [02:35<04:26, 58.13it/s]"
     ]
    },
    {
     "name": "stdout",
     "output_type": "stream",
     "text": [
      "test_9051.txt\n",
      "test_9052.txt\n",
      "test_9053.txt\n",
      "test_9054.txt\n",
      "test_9055.txt\n",
      "test_9056.txt\n"
     ]
    },
    {
     "name": "stderr",
     "output_type": "stream",
     "text": [
      "\r",
      " 37%|█████████████▋                       | 9057/24526 [02:35<04:26, 58.12it/s]"
     ]
    },
    {
     "name": "stdout",
     "output_type": "stream",
     "text": [
      "test_9057.txt\n",
      "test_9058.txt\n",
      "test_9059.txt\n",
      "test_9060.txt\n",
      "test_9061.txt\n",
      "test_9062.txt\n"
     ]
    },
    {
     "name": "stderr",
     "output_type": "stream",
     "text": [
      "\r",
      " 37%|█████████████▋                       | 9063/24526 [02:35<04:26, 58.11it/s]"
     ]
    },
    {
     "name": "stdout",
     "output_type": "stream",
     "text": [
      "test_9063.txt\n",
      "test_9064.txt\n",
      "test_9065.txt\n",
      "test_9066.txt\n",
      "test_9067.txt\n",
      "test_9068.txt\n"
     ]
    },
    {
     "name": "stderr",
     "output_type": "stream",
     "text": [
      "\r",
      " 37%|█████████████▋                       | 9069/24526 [02:36<04:26, 58.10it/s]"
     ]
    },
    {
     "name": "stdout",
     "output_type": "stream",
     "text": [
      "test_9069.txt\n",
      "test_9070.txt\n",
      "test_9071.txt\n",
      "test_9072.txt\n",
      "test_9073.txt\n",
      "test_9074.txt\n",
      "test_9075.txt\n",
      "test_9076.txt\n"
     ]
    },
    {
     "name": "stderr",
     "output_type": "stream",
     "text": [
      "\r",
      " 37%|█████████████▋                       | 9077/24526 [02:36<04:25, 58.12it/s]"
     ]
    },
    {
     "name": "stdout",
     "output_type": "stream",
     "text": [
      "test_9077.txt\n",
      "test_9078.txt\n",
      "test_9079.txt\n",
      "test_9080.txt\n",
      "test_9081.txt\n",
      "test_9082.txt\n"
     ]
    },
    {
     "name": "stderr",
     "output_type": "stream",
     "text": [
      "\r",
      " 37%|█████████████▋                       | 9083/24526 [02:36<04:25, 58.11it/s]"
     ]
    },
    {
     "name": "stdout",
     "output_type": "stream",
     "text": [
      "test_9083.txt\n",
      "test_9084.txt\n",
      "test_9085.txt\n",
      "test_9086.txt\n",
      "test_9087.txt\n",
      "test_9088.txt\n"
     ]
    },
    {
     "name": "stderr",
     "output_type": "stream",
     "text": [
      "\r",
      " 37%|█████████████▋                       | 9089/24526 [02:36<04:25, 58.11it/s]"
     ]
    },
    {
     "name": "stdout",
     "output_type": "stream",
     "text": [
      "test_9089.txt\n",
      "test_9090.txt\n",
      "test_9091.txt\n",
      "test_9092.txt\n",
      "test_9093.txt\n",
      "test_9094.txt\n"
     ]
    },
    {
     "name": "stderr",
     "output_type": "stream",
     "text": [
      "\r",
      " 37%|█████████████▋                       | 9095/24526 [02:36<04:25, 58.11it/s]"
     ]
    },
    {
     "name": "stdout",
     "output_type": "stream",
     "text": [
      "test_9095.txt\n",
      "test_9096.txt\n",
      "test_9097.txt\n",
      "test_9098.txt\n",
      "test_9099.txt\n",
      "test_9100.txt\n"
     ]
    },
    {
     "name": "stderr",
     "output_type": "stream",
     "text": [
      "\r",
      " 37%|█████████████▋                       | 9101/24526 [02:36<04:25, 58.11it/s]"
     ]
    },
    {
     "name": "stdout",
     "output_type": "stream",
     "text": [
      "test_9101.txt\n",
      "test_9102.txt\n",
      "test_9103.txt\n",
      "test_9104.txt\n",
      "test_9105.txt\n",
      "test_9106.txt\n"
     ]
    },
    {
     "name": "stderr",
     "output_type": "stream",
     "text": [
      "\r",
      " 37%|█████████████▋                       | 9107/24526 [02:36<04:25, 58.10it/s]"
     ]
    },
    {
     "name": "stdout",
     "output_type": "stream",
     "text": [
      "test_9107.txt\n",
      "test_9108.txt\n",
      "test_9109.txt\n",
      "test_9110.txt\n",
      "test_9111.txt\n",
      "test_9112.txt\n",
      "test_9113.txt\n"
     ]
    },
    {
     "name": "stderr",
     "output_type": "stream",
     "text": [
      "\r",
      " 37%|█████████████▋                       | 9114/24526 [02:36<04:25, 58.10it/s]"
     ]
    },
    {
     "name": "stdout",
     "output_type": "stream",
     "text": [
      "test_9114.txt\n",
      "test_9115.txt\n",
      "test_9116.txt\n",
      "test_9117.txt\n",
      "test_9118.txt\n",
      "test_9119.txt\n",
      "test_9120.txt\n"
     ]
    },
    {
     "name": "stderr",
     "output_type": "stream",
     "text": [
      "\r",
      " 37%|█████████████▊                       | 9121/24526 [02:36<04:25, 58.11it/s]"
     ]
    },
    {
     "name": "stdout",
     "output_type": "stream",
     "text": [
      "test_9121.txt\n",
      "test_9122.txt\n",
      "test_9123.txt\n",
      "test_9124.txt\n",
      "test_9125.txt\n",
      "test_9126.txt\n"
     ]
    },
    {
     "name": "stderr",
     "output_type": "stream",
     "text": [
      "\r",
      " 37%|█████████████▊                       | 9127/24526 [02:37<04:25, 58.11it/s]"
     ]
    },
    {
     "name": "stdout",
     "output_type": "stream",
     "text": [
      "test_9127.txt\n",
      "test_9128.txt\n",
      "test_9129.txt\n",
      "test_9130.txt\n",
      "test_9131.txt\n",
      "test_9132.txt\n",
      "test_9133.txt\n",
      "test_9134.txt\n"
     ]
    },
    {
     "name": "stderr",
     "output_type": "stream",
     "text": [
      "\r",
      " 37%|█████████████▊                       | 9135/24526 [02:37<04:24, 58.11it/s]"
     ]
    },
    {
     "name": "stdout",
     "output_type": "stream",
     "text": [
      "test_9135.txt\n",
      "test_9136.txt\n",
      "test_9137.txt\n",
      "test_9138.txt\n",
      "test_9139.txt\n",
      "test_9140.txt\n",
      "test_9141.txt\n"
     ]
    },
    {
     "name": "stderr",
     "output_type": "stream",
     "text": [
      "\r",
      " 37%|█████████████▊                       | 9142/24526 [02:37<04:24, 58.11it/s]"
     ]
    },
    {
     "name": "stdout",
     "output_type": "stream",
     "text": [
      "test_9142.txt\n",
      "test_9143.txt\n",
      "test_9144.txt\n",
      "test_9145.txt\n",
      "test_9146.txt\n",
      "test_9147.txt\n",
      "test_9148.txt\n"
     ]
    },
    {
     "name": "stderr",
     "output_type": "stream",
     "text": [
      "\r",
      " 37%|█████████████▊                       | 9149/24526 [02:37<04:24, 58.12it/s]"
     ]
    },
    {
     "name": "stdout",
     "output_type": "stream",
     "text": [
      "test_9149.txt\n",
      "test_9150.txt\n",
      "test_9151.txt\n",
      "test_9152.txt\n",
      "test_9153.txt\n",
      "test_9154.txt\n",
      "test_9155.txt\n",
      "test_9156.txt\n"
     ]
    },
    {
     "name": "stderr",
     "output_type": "stream",
     "text": [
      "\r",
      " 37%|█████████████▊                       | 9157/24526 [02:37<04:24, 58.12it/s]"
     ]
    },
    {
     "name": "stdout",
     "output_type": "stream",
     "text": [
      "test_9157.txt\n",
      "test_9158.txt\n",
      "test_9159.txt\n",
      "test_9160.txt\n",
      "test_9161.txt\n",
      "test_9162.txt\n",
      "test_9163.txt\n",
      "test_9164.txt\n"
     ]
    },
    {
     "name": "stderr",
     "output_type": "stream",
     "text": [
      "\r",
      " 37%|█████████████▊                       | 9165/24526 [02:37<04:24, 58.13it/s]"
     ]
    },
    {
     "name": "stdout",
     "output_type": "stream",
     "text": [
      "test_9165.txt\n",
      "test_9166.txt\n",
      "test_9167.txt\n",
      "test_9168.txt\n",
      "test_9169.txt\n",
      "test_9170.txt\n",
      "test_9171.txt\n"
     ]
    },
    {
     "name": "stderr",
     "output_type": "stream",
     "text": [
      "\r",
      " 37%|█████████████▊                       | 9172/24526 [02:37<04:24, 58.13it/s]"
     ]
    },
    {
     "name": "stdout",
     "output_type": "stream",
     "text": [
      "test_9172.txt\n",
      "test_9173.txt\n",
      "test_9174.txt\n",
      "test_9175.txt\n",
      "test_9176.txt\n",
      "test_9177.txt\n",
      "test_9178.txt\n"
     ]
    },
    {
     "name": "stderr",
     "output_type": "stream",
     "text": [
      "\r",
      " 37%|█████████████▊                       | 9179/24526 [02:37<04:24, 58.13it/s]"
     ]
    },
    {
     "name": "stdout",
     "output_type": "stream",
     "text": [
      "test_9179.txt\n",
      "test_9180.txt\n",
      "test_9181.txt\n",
      "test_9182.txt\n",
      "test_9183.txt\n",
      "test_9184.txt\n"
     ]
    },
    {
     "name": "stderr",
     "output_type": "stream",
     "text": [
      "\r",
      " 37%|█████████████▊                       | 9185/24526 [02:38<04:23, 58.13it/s]"
     ]
    },
    {
     "name": "stdout",
     "output_type": "stream",
     "text": [
      "test_9185.txt\n",
      "test_9186.txt\n",
      "test_9187.txt\n",
      "test_9188.txt\n",
      "test_9189.txt\n",
      "test_9190.txt\n",
      "test_9191.txt\n",
      "test_9192.txt\n"
     ]
    },
    {
     "name": "stderr",
     "output_type": "stream",
     "text": [
      "\r",
      " 37%|█████████████▊                       | 9193/24526 [02:38<04:23, 58.14it/s]"
     ]
    },
    {
     "name": "stdout",
     "output_type": "stream",
     "text": [
      "test_9193.txt\n",
      "test_9194.txt\n",
      "test_9195.txt\n",
      "test_9196.txt\n",
      "test_9197.txt\n",
      "test_9198.txt\n",
      "test_9199.txt\n"
     ]
    },
    {
     "name": "stderr",
     "output_type": "stream",
     "text": [
      "\r",
      " 38%|█████████████▉                       | 9200/24526 [02:38<04:23, 58.14it/s]"
     ]
    },
    {
     "name": "stdout",
     "output_type": "stream",
     "text": [
      "test_9200.txt\n",
      "test_9201.txt\n",
      "test_9202.txt\n",
      "test_9203.txt\n",
      "test_9204.txt\n",
      "test_9205.txt\n",
      "test_9206.txt\n"
     ]
    },
    {
     "name": "stderr",
     "output_type": "stream",
     "text": [
      "\r",
      " 38%|█████████████▉                       | 9207/24526 [02:38<04:23, 58.14it/s]"
     ]
    },
    {
     "name": "stdout",
     "output_type": "stream",
     "text": [
      "test_9207.txt\n",
      "test_9208.txt\n",
      "test_9209.txt\n",
      "test_9210.txt\n",
      "test_9211.txt\n",
      "test_9212.txt\n",
      "test_9213.txt\n"
     ]
    },
    {
     "name": "stderr",
     "output_type": "stream",
     "text": [
      "\r",
      " 38%|█████████████▉                       | 9214/24526 [02:38<04:23, 58.14it/s]"
     ]
    },
    {
     "name": "stdout",
     "output_type": "stream",
     "text": [
      "test_9214.txt\n",
      "test_9215.txt\n",
      "test_9216.txt\n",
      "test_9217.txt\n",
      "test_9218.txt\n",
      "test_9219.txt\n",
      "test_9220.txt\n",
      "test_9221.txt\n"
     ]
    },
    {
     "name": "stderr",
     "output_type": "stream",
     "text": [
      "\r",
      " 38%|█████████████▉                       | 9222/24526 [02:38<04:23, 58.15it/s]"
     ]
    },
    {
     "name": "stdout",
     "output_type": "stream",
     "text": [
      "test_9222.txt\n",
      "test_9223.txt\n",
      "test_9224.txt\n",
      "test_9225.txt\n",
      "test_9226.txt\n",
      "test_9227.txt\n",
      "test_9228.txt\n"
     ]
    },
    {
     "name": "stderr",
     "output_type": "stream",
     "text": [
      "\r",
      " 38%|█████████████▉                       | 9229/24526 [02:38<04:23, 58.15it/s]"
     ]
    },
    {
     "name": "stdout",
     "output_type": "stream",
     "text": [
      "test_9229.txt\n",
      "test_9230.txt\n",
      "test_9231.txt\n",
      "test_9232.txt\n",
      "test_9233.txt\n",
      "test_9234.txt\n",
      "test_9235.txt\n"
     ]
    },
    {
     "name": "stderr",
     "output_type": "stream",
     "text": [
      "\r",
      " 38%|█████████████▉                       | 9236/24526 [02:38<04:22, 58.15it/s]"
     ]
    },
    {
     "name": "stdout",
     "output_type": "stream",
     "text": [
      "test_9236.txt\n",
      "test_9237.txt\n",
      "test_9238.txt\n",
      "test_9239.txt\n",
      "test_9240.txt\n",
      "test_9241.txt\n",
      "test_9242.txt\n"
     ]
    },
    {
     "name": "stderr",
     "output_type": "stream",
     "text": [
      "\r",
      " 38%|█████████████▉                       | 9243/24526 [02:38<04:22, 58.15it/s]"
     ]
    },
    {
     "name": "stdout",
     "output_type": "stream",
     "text": [
      "test_9243.txt\n",
      "test_9244.txt\n",
      "test_9245.txt\n",
      "test_9246.txt\n",
      "test_9247.txt\n",
      "test_9248.txt\n",
      "test_9249.txt\n"
     ]
    },
    {
     "name": "stderr",
     "output_type": "stream",
     "text": [
      "\r",
      " 38%|█████████████▉                       | 9250/24526 [02:39<04:22, 58.14it/s]"
     ]
    },
    {
     "name": "stdout",
     "output_type": "stream",
     "text": [
      "test_9250.txt\n",
      "test_9251.txt\n",
      "test_9252.txt\n",
      "test_9253.txt\n",
      "test_9254.txt\n",
      "test_9255.txt\n"
     ]
    },
    {
     "name": "stderr",
     "output_type": "stream",
     "text": [
      "\r",
      " 38%|█████████████▉                       | 9256/24526 [02:39<04:22, 58.14it/s]"
     ]
    },
    {
     "name": "stdout",
     "output_type": "stream",
     "text": [
      "test_9256.txt\n",
      "test_9257.txt\n",
      "test_9258.txt\n",
      "test_9259.txt\n",
      "test_9260.txt\n",
      "test_9261.txt\n"
     ]
    },
    {
     "name": "stderr",
     "output_type": "stream",
     "text": [
      "\r",
      " 38%|█████████████▉                       | 9262/24526 [02:39<04:22, 58.14it/s]"
     ]
    },
    {
     "name": "stdout",
     "output_type": "stream",
     "text": [
      "test_9262.txt\n",
      "test_9263.txt\n",
      "test_9264.txt\n",
      "test_9265.txt\n",
      "test_9266.txt\n",
      "test_9267.txt\n",
      "test_9268.txt\n",
      "test_9269.txt\n"
     ]
    },
    {
     "name": "stderr",
     "output_type": "stream",
     "text": [
      "\r",
      " 38%|█████████████▉                       | 9270/24526 [02:39<04:22, 58.15it/s]"
     ]
    },
    {
     "name": "stdout",
     "output_type": "stream",
     "text": [
      "test_9270.txt\n",
      "test_9271.txt\n",
      "test_9272.txt\n",
      "test_9273.txt\n",
      "test_9274.txt\n",
      "test_9275.txt\n",
      "test_9276.txt\n"
     ]
    },
    {
     "name": "stderr",
     "output_type": "stream",
     "text": [
      "\r",
      " 38%|█████████████▉                       | 9277/24526 [02:39<04:22, 58.14it/s]"
     ]
    },
    {
     "name": "stdout",
     "output_type": "stream",
     "text": [
      "test_9277.txt\n",
      "test_9278.txt\n",
      "test_9279.txt\n",
      "test_9280.txt\n",
      "test_9281.txt\n",
      "test_9282.txt\n",
      "test_9283.txt\n",
      "test_9284.txt\n",
      "test_9285.txt\n"
     ]
    },
    {
     "name": "stderr",
     "output_type": "stream",
     "text": [
      "\r",
      " 38%|██████████████                       | 9286/24526 [02:39<04:22, 58.16it/s]"
     ]
    },
    {
     "name": "stdout",
     "output_type": "stream",
     "text": [
      "test_9286.txt\n",
      "test_9287.txt\n",
      "test_9288.txt\n",
      "test_9289.txt\n",
      "test_9290.txt\n",
      "test_9291.txt\n",
      "test_9292.txt\n"
     ]
    },
    {
     "name": "stderr",
     "output_type": "stream",
     "text": [
      "\r",
      " 38%|██████████████                       | 9293/24526 [02:39<04:21, 58.16it/s]"
     ]
    },
    {
     "name": "stdout",
     "output_type": "stream",
     "text": [
      "test_9293.txt\n",
      "test_9294.txt\n",
      "test_9295.txt\n",
      "test_9296.txt\n",
      "test_9297.txt\n",
      "test_9298.txt\n",
      "test_9299.txt\n"
     ]
    },
    {
     "name": "stderr",
     "output_type": "stream",
     "text": [
      "\r",
      " 38%|██████████████                       | 9300/24526 [02:39<04:21, 58.16it/s]"
     ]
    },
    {
     "name": "stdout",
     "output_type": "stream",
     "text": [
      "test_9300.txt\n",
      "test_9301.txt\n",
      "test_9302.txt\n",
      "test_9303.txt\n",
      "test_9304.txt\n",
      "test_9305.txt\n",
      "test_9306.txt\n"
     ]
    },
    {
     "name": "stderr",
     "output_type": "stream",
     "text": [
      "\r",
      " 38%|██████████████                       | 9307/24526 [02:40<04:21, 58.16it/s]"
     ]
    },
    {
     "name": "stdout",
     "output_type": "stream",
     "text": [
      "test_9307.txt\n",
      "test_9308.txt\n",
      "test_9309.txt\n",
      "test_9310.txt\n",
      "test_9311.txt\n",
      "test_9312.txt\n",
      "test_9313.txt\n"
     ]
    },
    {
     "name": "stderr",
     "output_type": "stream",
     "text": [
      "\r",
      " 38%|██████████████                       | 9314/24526 [02:40<04:21, 58.15it/s]"
     ]
    },
    {
     "name": "stdout",
     "output_type": "stream",
     "text": [
      "test_9314.txt\n",
      "test_9315.txt\n",
      "test_9316.txt\n",
      "test_9317.txt\n",
      "test_9318.txt\n",
      "test_9319.txt\n",
      "test_9320.txt\n"
     ]
    },
    {
     "name": "stderr",
     "output_type": "stream",
     "text": [
      "\r",
      " 38%|██████████████                       | 9321/24526 [02:40<04:21, 58.15it/s]"
     ]
    },
    {
     "name": "stdout",
     "output_type": "stream",
     "text": [
      "test_9321.txt\n",
      "test_9322.txt\n",
      "test_9323.txt\n",
      "test_9324.txt\n",
      "test_9325.txt\n",
      "test_9326.txt\n",
      "test_9327.txt\n"
     ]
    },
    {
     "name": "stderr",
     "output_type": "stream",
     "text": [
      "\r",
      " 38%|██████████████                       | 9328/24526 [02:40<04:21, 58.16it/s]"
     ]
    },
    {
     "name": "stdout",
     "output_type": "stream",
     "text": [
      "test_9328.txt\n",
      "test_9329.txt\n",
      "test_9330.txt\n",
      "test_9331.txt\n",
      "test_9332.txt\n",
      "test_9333.txt\n",
      "test_9334.txt\n"
     ]
    },
    {
     "name": "stderr",
     "output_type": "stream",
     "text": [
      "\r",
      " 38%|██████████████                       | 9335/24526 [02:40<04:21, 58.15it/s]"
     ]
    },
    {
     "name": "stdout",
     "output_type": "stream",
     "text": [
      "test_9335.txt\n",
      "test_9336.txt\n",
      "test_9337.txt\n",
      "test_9338.txt\n",
      "test_9339.txt\n",
      "test_9340.txt\n"
     ]
    },
    {
     "name": "stderr",
     "output_type": "stream",
     "text": [
      "\r",
      " 38%|██████████████                       | 9341/24526 [02:40<04:21, 58.15it/s]"
     ]
    },
    {
     "name": "stdout",
     "output_type": "stream",
     "text": [
      "test_9341.txt\n",
      "test_9342.txt\n",
      "test_9343.txt\n",
      "test_9344.txt\n",
      "test_9345.txt\n",
      "test_9346.txt\n"
     ]
    },
    {
     "name": "stderr",
     "output_type": "stream",
     "text": [
      "\r",
      " 38%|██████████████                       | 9347/24526 [02:40<04:21, 58.13it/s]"
     ]
    },
    {
     "name": "stdout",
     "output_type": "stream",
     "text": [
      "test_9347.txt\n",
      "test_9348.txt\n",
      "test_9349.txt\n",
      "test_9350.txt\n",
      "test_9351.txt\n",
      "test_9352.txt\n"
     ]
    },
    {
     "name": "stderr",
     "output_type": "stream",
     "text": [
      "\r",
      " 38%|██████████████                       | 9353/24526 [02:40<04:21, 58.13it/s]"
     ]
    },
    {
     "name": "stdout",
     "output_type": "stream",
     "text": [
      "test_9353.txt\n",
      "test_9354.txt\n",
      "test_9355.txt\n",
      "test_9356.txt\n",
      "test_9357.txt\n",
      "test_9358.txt\n"
     ]
    },
    {
     "name": "stderr",
     "output_type": "stream",
     "text": [
      "\r",
      " 38%|██████████████                       | 9359/24526 [02:41<04:20, 58.13it/s]"
     ]
    },
    {
     "name": "stdout",
     "output_type": "stream",
     "text": [
      "test_9359.txt\n",
      "test_9360.txt\n",
      "test_9361.txt\n",
      "test_9362.txt\n",
      "test_9363.txt\n",
      "test_9364.txt\n"
     ]
    },
    {
     "name": "stderr",
     "output_type": "stream",
     "text": [
      "\r",
      " 38%|██████████████▏                      | 9365/24526 [02:41<04:20, 58.12it/s]"
     ]
    },
    {
     "name": "stdout",
     "output_type": "stream",
     "text": [
      "test_9365.txt\n",
      "test_9366.txt\n",
      "test_9367.txt\n",
      "test_9368.txt\n",
      "test_9369.txt\n",
      "test_9370.txt\n",
      "test_9371.txt\n"
     ]
    },
    {
     "name": "stderr",
     "output_type": "stream",
     "text": [
      "\r",
      " 38%|██████████████▏                      | 9372/24526 [02:41<04:20, 58.12it/s]"
     ]
    },
    {
     "name": "stdout",
     "output_type": "stream",
     "text": [
      "test_9372.txt\n",
      "test_9373.txt\n",
      "test_9374.txt\n",
      "test_9375.txt\n",
      "test_9376.txt\n",
      "test_9377.txt\n",
      "test_9378.txt\n",
      "test_9379.txt\n"
     ]
    },
    {
     "name": "stderr",
     "output_type": "stream",
     "text": [
      "\r",
      " 38%|██████████████▏                      | 9380/24526 [02:41<04:20, 58.13it/s]"
     ]
    },
    {
     "name": "stdout",
     "output_type": "stream",
     "text": [
      "test_9380.txt\n",
      "test_9381.txt\n",
      "test_9382.txt\n",
      "test_9383.txt\n",
      "test_9384.txt\n",
      "test_9385.txt\n",
      "test_9386.txt\n"
     ]
    },
    {
     "name": "stderr",
     "output_type": "stream",
     "text": [
      "\r",
      " 38%|██████████████▏                      | 9387/24526 [02:41<04:20, 58.14it/s]"
     ]
    },
    {
     "name": "stdout",
     "output_type": "stream",
     "text": [
      "test_9387.txt\n",
      "test_9388.txt\n",
      "test_9389.txt\n",
      "test_9390.txt\n",
      "test_9391.txt\n",
      "test_9392.txt\n",
      "test_9393.txt\n"
     ]
    },
    {
     "name": "stderr",
     "output_type": "stream",
     "text": [
      "\r",
      " 38%|██████████████▏                      | 9394/24526 [02:41<04:20, 58.14it/s]"
     ]
    },
    {
     "name": "stdout",
     "output_type": "stream",
     "text": [
      "test_9394.txt\n",
      "test_9395.txt\n",
      "test_9396.txt\n",
      "test_9397.txt\n",
      "test_9398.txt\n",
      "test_9399.txt\n",
      "test_9400.txt\n"
     ]
    },
    {
     "name": "stderr",
     "output_type": "stream",
     "text": [
      "\r",
      " 38%|██████████████▏                      | 9401/24526 [02:41<04:20, 58.14it/s]"
     ]
    },
    {
     "name": "stdout",
     "output_type": "stream",
     "text": [
      "test_9401.txt\n",
      "test_9402.txt\n",
      "test_9403.txt\n",
      "test_9404.txt\n",
      "test_9405.txt\n",
      "test_9406.txt\n",
      "test_9407.txt\n"
     ]
    },
    {
     "name": "stderr",
     "output_type": "stream",
     "text": [
      "\r",
      " 38%|██████████████▏                      | 9408/24526 [02:41<04:20, 58.13it/s]"
     ]
    },
    {
     "name": "stdout",
     "output_type": "stream",
     "text": [
      "test_9408.txt\n",
      "test_9409.txt\n",
      "test_9410.txt\n",
      "test_9411.txt\n",
      "test_9412.txt\n",
      "test_9413.txt\n",
      "test_9414.txt\n"
     ]
    },
    {
     "name": "stderr",
     "output_type": "stream",
     "text": [
      "\r",
      " 38%|██████████████▏                      | 9415/24526 [02:41<04:19, 58.13it/s]"
     ]
    },
    {
     "name": "stdout",
     "output_type": "stream",
     "text": [
      "test_9415.txt\n",
      "test_9416.txt\n",
      "test_9417.txt\n",
      "test_9418.txt\n",
      "test_9419.txt\n",
      "test_9420.txt\n",
      "test_9421.txt\n",
      "test_9422.txt\n"
     ]
    },
    {
     "name": "stderr",
     "output_type": "stream",
     "text": [
      "\r",
      " 38%|██████████████▏                      | 9423/24526 [02:42<04:19, 58.14it/s]"
     ]
    },
    {
     "name": "stdout",
     "output_type": "stream",
     "text": [
      "test_9423.txt\n",
      "test_9424.txt\n",
      "test_9425.txt\n",
      "test_9426.txt\n",
      "test_9427.txt\n",
      "test_9428.txt\n",
      "test_9429.txt\n"
     ]
    },
    {
     "name": "stderr",
     "output_type": "stream",
     "text": [
      "\r",
      " 38%|██████████████▏                      | 9430/24526 [02:42<04:19, 58.14it/s]"
     ]
    },
    {
     "name": "stdout",
     "output_type": "stream",
     "text": [
      "test_9430.txt\n",
      "test_9431.txt\n",
      "test_9432.txt\n",
      "test_9433.txt\n",
      "test_9434.txt\n",
      "test_9435.txt\n"
     ]
    },
    {
     "name": "stderr",
     "output_type": "stream",
     "text": [
      "\r",
      " 38%|██████████████▏                      | 9436/24526 [02:42<04:19, 58.14it/s]"
     ]
    },
    {
     "name": "stdout",
     "output_type": "stream",
     "text": [
      "test_9436.txt\n",
      "test_9437.txt\n",
      "test_9438.txt\n",
      "test_9439.txt\n",
      "test_9440.txt\n",
      "test_9441.txt\n",
      "test_9442.txt\n",
      "test_9443.txt\n"
     ]
    },
    {
     "name": "stderr",
     "output_type": "stream",
     "text": [
      "\r",
      " 39%|██████████████▏                      | 9444/24526 [02:42<04:19, 58.15it/s]"
     ]
    },
    {
     "name": "stdout",
     "output_type": "stream",
     "text": [
      "test_9444.txt\n",
      "test_9445.txt\n",
      "test_9446.txt\n",
      "test_9447.txt\n",
      "test_9448.txt\n",
      "test_9449.txt\n",
      "test_9450.txt\n"
     ]
    },
    {
     "name": "stderr",
     "output_type": "stream",
     "text": [
      "\r",
      " 39%|██████████████▎                      | 9451/24526 [02:42<04:19, 58.15it/s]"
     ]
    },
    {
     "name": "stdout",
     "output_type": "stream",
     "text": [
      "test_9451.txt\n",
      "test_9452.txt\n",
      "test_9453.txt\n",
      "test_9454.txt\n",
      "test_9455.txt\n",
      "test_9456.txt\n",
      "test_9457.txt\n"
     ]
    },
    {
     "name": "stderr",
     "output_type": "stream",
     "text": [
      "\r",
      " 39%|██████████████▎                      | 9458/24526 [02:42<04:19, 58.15it/s]"
     ]
    },
    {
     "name": "stdout",
     "output_type": "stream",
     "text": [
      "test_9458.txt\n",
      "test_9459.txt\n",
      "test_9460.txt\n",
      "test_9461.txt\n",
      "test_9462.txt\n",
      "test_9463.txt\n",
      "test_9464.txt\n"
     ]
    },
    {
     "name": "stderr",
     "output_type": "stream",
     "text": [
      "\r",
      " 39%|██████████████▎                      | 9465/24526 [02:42<04:19, 58.14it/s]"
     ]
    },
    {
     "name": "stdout",
     "output_type": "stream",
     "text": [
      "test_9465.txt\n",
      "test_9466.txt\n",
      "test_9467.txt\n",
      "test_9468.txt\n",
      "test_9469.txt\n",
      "test_9470.txt\n",
      "test_9471.txt\n"
     ]
    },
    {
     "name": "stderr",
     "output_type": "stream",
     "text": [
      "\r",
      " 39%|██████████████▎                      | 9472/24526 [02:42<04:18, 58.14it/s]"
     ]
    },
    {
     "name": "stdout",
     "output_type": "stream",
     "text": [
      "test_9472.txt\n",
      "test_9473.txt\n",
      "test_9474.txt\n",
      "test_9475.txt\n",
      "test_9476.txt\n",
      "test_9477.txt\n",
      "test_9478.txt\n",
      "test_9479.txt\n"
     ]
    },
    {
     "name": "stderr",
     "output_type": "stream",
     "text": [
      "\r",
      " 39%|██████████████▎                      | 9480/24526 [02:43<04:18, 58.15it/s]"
     ]
    },
    {
     "name": "stdout",
     "output_type": "stream",
     "text": [
      "test_9480.txt\n",
      "test_9481.txt\n",
      "test_9482.txt\n",
      "test_9483.txt\n",
      "test_9484.txt\n",
      "test_9485.txt\n",
      "test_9486.txt\n"
     ]
    },
    {
     "name": "stderr",
     "output_type": "stream",
     "text": [
      "\r",
      " 39%|██████████████▎                      | 9487/24526 [02:43<04:18, 58.14it/s]"
     ]
    },
    {
     "name": "stdout",
     "output_type": "stream",
     "text": [
      "test_9487.txt\n",
      "test_9488.txt\n",
      "test_9489.txt\n",
      "test_9490.txt\n",
      "test_9491.txt\n",
      "test_9492.txt\n"
     ]
    },
    {
     "name": "stderr",
     "output_type": "stream",
     "text": [
      "\r",
      " 39%|██████████████▎                      | 9493/24526 [02:43<04:18, 58.14it/s]"
     ]
    },
    {
     "name": "stdout",
     "output_type": "stream",
     "text": [
      "test_9493.txt\n",
      "test_9494.txt\n",
      "test_9495.txt\n",
      "test_9496.txt\n",
      "test_9497.txt\n",
      "test_9498.txt\n"
     ]
    },
    {
     "name": "stderr",
     "output_type": "stream",
     "text": [
      "\r",
      " 39%|██████████████▎                      | 9499/24526 [02:43<04:18, 58.14it/s]"
     ]
    },
    {
     "name": "stdout",
     "output_type": "stream",
     "text": [
      "test_9499.txt\n",
      "test_9500.txt\n",
      "test_9501.txt\n",
      "test_9502.txt\n",
      "test_9503.txt\n",
      "test_9504.txt\n",
      "test_9505.txt\n",
      "test_9506.txt\n",
      "test_9507.txt\n"
     ]
    },
    {
     "name": "stderr",
     "output_type": "stream",
     "text": [
      "\r",
      " 39%|██████████████▎                      | 9508/24526 [02:43<04:18, 58.15it/s]"
     ]
    },
    {
     "name": "stdout",
     "output_type": "stream",
     "text": [
      "test_9508.txt\n",
      "test_9509.txt\n",
      "test_9510.txt\n",
      "test_9511.txt\n",
      "test_9512.txt\n",
      "test_9513.txt\n",
      "test_9514.txt\n"
     ]
    },
    {
     "name": "stderr",
     "output_type": "stream",
     "text": [
      "\r",
      " 39%|██████████████▎                      | 9515/24526 [02:43<04:18, 58.15it/s]"
     ]
    },
    {
     "name": "stdout",
     "output_type": "stream",
     "text": [
      "test_9515.txt\n",
      "test_9516.txt\n",
      "test_9517.txt\n",
      "test_9518.txt\n",
      "test_9519.txt\n",
      "test_9520.txt\n",
      "test_9521.txt\n"
     ]
    },
    {
     "name": "stderr",
     "output_type": "stream",
     "text": [
      "\r",
      " 39%|██████████████▎                      | 9522/24526 [02:43<04:17, 58.16it/s]"
     ]
    },
    {
     "name": "stdout",
     "output_type": "stream",
     "text": [
      "test_9522.txt\n",
      "test_9523.txt\n",
      "test_9524.txt\n",
      "test_9525.txt\n",
      "test_9526.txt\n",
      "test_9527.txt\n",
      "test_9528.txt\n"
     ]
    },
    {
     "name": "stderr",
     "output_type": "stream",
     "text": [
      "\r",
      " 39%|██████████████▍                      | 9529/24526 [02:43<04:17, 58.16it/s]"
     ]
    },
    {
     "name": "stdout",
     "output_type": "stream",
     "text": [
      "test_9529.txt\n",
      "test_9530.txt\n",
      "test_9531.txt\n",
      "test_9532.txt\n",
      "test_9533.txt\n",
      "test_9534.txt\n",
      "test_9535.txt\n"
     ]
    },
    {
     "name": "stderr",
     "output_type": "stream",
     "text": [
      "\r",
      " 39%|██████████████▍                      | 9536/24526 [02:43<04:17, 58.16it/s]"
     ]
    },
    {
     "name": "stdout",
     "output_type": "stream",
     "text": [
      "test_9536.txt\n",
      "test_9537.txt\n",
      "test_9538.txt\n",
      "test_9539.txt\n",
      "test_9540.txt\n",
      "test_9541.txt\n",
      "test_9542.txt\n"
     ]
    },
    {
     "name": "stderr",
     "output_type": "stream",
     "text": [
      "\r",
      " 39%|██████████████▍                      | 9543/24526 [02:44<04:17, 58.15it/s]"
     ]
    },
    {
     "name": "stdout",
     "output_type": "stream",
     "text": [
      "test_9543.txt\n",
      "test_9544.txt\n",
      "test_9545.txt\n",
      "test_9546.txt\n",
      "test_9547.txt\n",
      "test_9548.txt\n",
      "test_9549.txt\n",
      "test_9550.txt\n",
      "test_9551.txt\n",
      "test_9552.txt\n"
     ]
    },
    {
     "name": "stderr",
     "output_type": "stream",
     "text": [
      "\r",
      " 39%|██████████████▍                      | 9553/24526 [02:44<04:17, 58.17it/s]"
     ]
    },
    {
     "name": "stdout",
     "output_type": "stream",
     "text": [
      "test_9553.txt\n",
      "test_9554.txt\n",
      "test_9555.txt\n",
      "test_9556.txt\n",
      "test_9557.txt\n",
      "test_9558.txt\n",
      "test_9559.txt\n",
      "test_9560.txt\n"
     ]
    },
    {
     "name": "stderr",
     "output_type": "stream",
     "text": [
      "\r",
      " 39%|██████████████▍                      | 9561/24526 [02:44<04:17, 58.18it/s]"
     ]
    },
    {
     "name": "stdout",
     "output_type": "stream",
     "text": [
      "test_9561.txt\n",
      "test_9562.txt\n",
      "test_9563.txt\n",
      "test_9564.txt\n",
      "test_9565.txt\n",
      "test_9566.txt\n",
      "test_9567.txt\n"
     ]
    },
    {
     "name": "stderr",
     "output_type": "stream",
     "text": [
      "\r",
      " 39%|██████████████▍                      | 9568/24526 [02:44<04:17, 58.18it/s]"
     ]
    },
    {
     "name": "stdout",
     "output_type": "stream",
     "text": [
      "test_9568.txt\n",
      "test_9569.txt\n",
      "test_9570.txt\n",
      "test_9571.txt\n",
      "test_9572.txt\n",
      "test_9573.txt\n",
      "test_9574.txt\n"
     ]
    },
    {
     "name": "stderr",
     "output_type": "stream",
     "text": [
      "\r",
      " 39%|██████████████▍                      | 9575/24526 [02:44<04:16, 58.18it/s]"
     ]
    },
    {
     "name": "stdout",
     "output_type": "stream",
     "text": [
      "test_9575.txt\n",
      "test_9576.txt\n",
      "test_9577.txt\n",
      "test_9578.txt\n",
      "test_9579.txt\n",
      "test_9580.txt\n",
      "test_9581.txt\n"
     ]
    },
    {
     "name": "stderr",
     "output_type": "stream",
     "text": [
      "\r",
      " 39%|██████████████▍                      | 9582/24526 [02:44<04:16, 58.18it/s]"
     ]
    },
    {
     "name": "stdout",
     "output_type": "stream",
     "text": [
      "test_9582.txt\n",
      "test_9583.txt\n",
      "test_9584.txt\n",
      "test_9585.txt\n",
      "test_9586.txt\n",
      "test_9587.txt\n",
      "test_9588.txt\n"
     ]
    },
    {
     "name": "stderr",
     "output_type": "stream",
     "text": [
      "\r",
      " 39%|██████████████▍                      | 9589/24526 [02:44<04:16, 58.18it/s]"
     ]
    },
    {
     "name": "stdout",
     "output_type": "stream",
     "text": [
      "test_9589.txt\n",
      "test_9590.txt\n",
      "test_9591.txt\n",
      "test_9592.txt\n",
      "test_9593.txt\n",
      "test_9594.txt\n",
      "test_9595.txt\n"
     ]
    },
    {
     "name": "stderr",
     "output_type": "stream",
     "text": [
      "\r",
      " 39%|██████████████▍                      | 9596/24526 [02:44<04:16, 58.18it/s]"
     ]
    },
    {
     "name": "stdout",
     "output_type": "stream",
     "text": [
      "test_9596.txt\n",
      "test_9597.txt\n",
      "test_9598.txt\n",
      "test_9599.txt\n",
      "test_9600.txt\n",
      "test_9601.txt\n"
     ]
    },
    {
     "name": "stderr",
     "output_type": "stream",
     "text": [
      "\r",
      " 39%|██████████████▍                      | 9602/24526 [02:45<04:16, 58.18it/s]"
     ]
    },
    {
     "name": "stdout",
     "output_type": "stream",
     "text": [
      "test_9602.txt\n",
      "test_9603.txt\n",
      "test_9604.txt\n",
      "test_9605.txt\n",
      "test_9606.txt\n",
      "test_9607.txt\n",
      "test_9608.txt\n"
     ]
    },
    {
     "name": "stderr",
     "output_type": "stream",
     "text": [
      "\r",
      " 39%|██████████████▍                      | 9609/24526 [02:45<04:16, 58.18it/s]"
     ]
    },
    {
     "name": "stdout",
     "output_type": "stream",
     "text": [
      "test_9609.txt\n",
      "test_9610.txt\n",
      "test_9611.txt\n",
      "test_9612.txt\n",
      "test_9613.txt\n",
      "test_9614.txt\n",
      "test_9615.txt\n"
     ]
    },
    {
     "name": "stderr",
     "output_type": "stream",
     "text": [
      "\r",
      " 39%|██████████████▌                      | 9616/24526 [02:45<04:16, 58.18it/s]"
     ]
    },
    {
     "name": "stdout",
     "output_type": "stream",
     "text": [
      "test_9616.txt\n",
      "test_9617.txt\n",
      "test_9618.txt\n",
      "test_9619.txt\n",
      "test_9620.txt\n",
      "test_9621.txt\n"
     ]
    },
    {
     "name": "stderr",
     "output_type": "stream",
     "text": [
      "\r",
      " 39%|██████████████▌                      | 9622/24526 [02:45<04:16, 58.18it/s]"
     ]
    },
    {
     "name": "stdout",
     "output_type": "stream",
     "text": [
      "test_9622.txt\n",
      "test_9623.txt\n",
      "test_9624.txt\n",
      "test_9625.txt\n",
      "test_9626.txt\n",
      "test_9627.txt\n"
     ]
    },
    {
     "name": "stderr",
     "output_type": "stream",
     "text": [
      "\r",
      " 39%|██████████████▌                      | 9628/24526 [02:45<04:16, 58.16it/s]"
     ]
    },
    {
     "name": "stdout",
     "output_type": "stream",
     "text": [
      "test_9628.txt\n",
      "test_9629.txt\n",
      "test_9630.txt\n",
      "test_9631.txt\n",
      "test_9632.txt\n",
      "test_9633.txt\n",
      "test_9634.txt\n"
     ]
    },
    {
     "name": "stderr",
     "output_type": "stream",
     "text": [
      "\r",
      " 39%|██████████████▌                      | 9635/24526 [02:45<04:16, 58.17it/s]"
     ]
    },
    {
     "name": "stdout",
     "output_type": "stream",
     "text": [
      "test_9635.txt\n",
      "test_9636.txt\n",
      "test_9637.txt\n",
      "test_9638.txt\n",
      "test_9639.txt\n",
      "test_9640.txt\n"
     ]
    },
    {
     "name": "stderr",
     "output_type": "stream",
     "text": [
      "\r",
      " 39%|██████████████▌                      | 9641/24526 [02:45<04:15, 58.16it/s]"
     ]
    },
    {
     "name": "stdout",
     "output_type": "stream",
     "text": [
      "test_9641.txt\n",
      "test_9642.txt\n",
      "test_9643.txt\n",
      "test_9644.txt\n",
      "test_9645.txt\n",
      "test_9646.txt\n"
     ]
    },
    {
     "name": "stderr",
     "output_type": "stream",
     "text": [
      "\r",
      " 39%|██████████████▌                      | 9647/24526 [02:45<04:15, 58.16it/s]"
     ]
    },
    {
     "name": "stdout",
     "output_type": "stream",
     "text": [
      "test_9647.txt\n",
      "test_9648.txt\n",
      "test_9649.txt\n",
      "test_9650.txt\n",
      "test_9651.txt\n",
      "test_9652.txt\n"
     ]
    },
    {
     "name": "stderr",
     "output_type": "stream",
     "text": [
      "\r",
      " 39%|██████████████▌                      | 9653/24526 [02:46<04:15, 58.15it/s]"
     ]
    },
    {
     "name": "stdout",
     "output_type": "stream",
     "text": [
      "test_9653.txt\n",
      "test_9654.txt\n",
      "test_9655.txt\n",
      "test_9656.txt\n",
      "test_9657.txt\n",
      "test_9658.txt\n"
     ]
    },
    {
     "name": "stderr",
     "output_type": "stream",
     "text": [
      "\r",
      " 39%|██████████████▌                      | 9659/24526 [02:46<04:15, 58.14it/s]"
     ]
    },
    {
     "name": "stdout",
     "output_type": "stream",
     "text": [
      "test_9659.txt\n",
      "test_9660.txt\n",
      "test_9661.txt\n",
      "test_9662.txt\n",
      "test_9663.txt\n",
      "test_9664.txt\n"
     ]
    },
    {
     "name": "stderr",
     "output_type": "stream",
     "text": [
      "\r",
      " 39%|██████████████▌                      | 9665/24526 [02:46<04:15, 58.14it/s]"
     ]
    },
    {
     "name": "stdout",
     "output_type": "stream",
     "text": [
      "test_9665.txt\n",
      "test_9666.txt\n",
      "test_9667.txt\n",
      "test_9668.txt\n",
      "test_9669.txt\n",
      "test_9670.txt\n"
     ]
    },
    {
     "name": "stderr",
     "output_type": "stream",
     "text": [
      "\r",
      " 39%|██████████████▌                      | 9671/24526 [02:46<04:15, 58.13it/s]"
     ]
    },
    {
     "name": "stdout",
     "output_type": "stream",
     "text": [
      "test_9671.txt\n",
      "test_9672.txt\n",
      "test_9673.txt\n",
      "test_9674.txt\n",
      "test_9675.txt\n",
      "test_9676.txt\n"
     ]
    },
    {
     "name": "stderr",
     "output_type": "stream",
     "text": [
      "\r",
      " 39%|██████████████▌                      | 9677/24526 [02:46<04:15, 58.13it/s]"
     ]
    },
    {
     "name": "stdout",
     "output_type": "stream",
     "text": [
      "test_9677.txt\n",
      "test_9678.txt\n",
      "test_9679.txt\n",
      "test_9680.txt\n",
      "test_9681.txt\n",
      "test_9682.txt\n",
      "test_9683.txt\n"
     ]
    },
    {
     "name": "stderr",
     "output_type": "stream",
     "text": [
      "\r",
      " 39%|██████████████▌                      | 9684/24526 [02:46<04:15, 58.13it/s]"
     ]
    },
    {
     "name": "stdout",
     "output_type": "stream",
     "text": [
      "test_9684.txt\n",
      "test_9685.txt\n",
      "test_9686.txt\n",
      "test_9687.txt\n",
      "test_9688.txt\n",
      "test_9689.txt\n"
     ]
    },
    {
     "name": "stderr",
     "output_type": "stream",
     "text": [
      "\r",
      " 40%|██████████████▌                      | 9690/24526 [02:46<04:15, 58.13it/s]"
     ]
    },
    {
     "name": "stdout",
     "output_type": "stream",
     "text": [
      "test_9690.txt\n",
      "test_9691.txt\n",
      "test_9692.txt\n",
      "test_9693.txt\n",
      "test_9694.txt\n",
      "test_9695.txt\n"
     ]
    },
    {
     "name": "stderr",
     "output_type": "stream",
     "text": [
      "\r",
      " 40%|██████████████▋                      | 9696/24526 [02:46<04:15, 58.12it/s]"
     ]
    },
    {
     "name": "stdout",
     "output_type": "stream",
     "text": [
      "test_9696.txt\n",
      "test_9697.txt\n",
      "test_9698.txt\n",
      "test_9699.txt\n",
      "test_9700.txt\n",
      "test_9701.txt\n"
     ]
    },
    {
     "name": "stderr",
     "output_type": "stream",
     "text": [
      "\r",
      " 40%|██████████████▋                      | 9702/24526 [02:46<04:15, 58.12it/s]"
     ]
    },
    {
     "name": "stdout",
     "output_type": "stream",
     "text": [
      "test_9702.txt\n",
      "test_9703.txt\n",
      "test_9704.txt\n",
      "test_9705.txt\n",
      "test_9706.txt\n",
      "test_9707.txt\n",
      "test_9708.txt\n"
     ]
    },
    {
     "name": "stderr",
     "output_type": "stream",
     "text": [
      "\r",
      " 40%|██████████████▋                      | 9709/24526 [02:47<04:14, 58.12it/s]"
     ]
    },
    {
     "name": "stdout",
     "output_type": "stream",
     "text": [
      "test_9709.txt\n",
      "test_9710.txt\n",
      "test_9711.txt\n",
      "test_9712.txt\n",
      "test_9713.txt\n",
      "test_9714.txt\n"
     ]
    },
    {
     "name": "stderr",
     "output_type": "stream",
     "text": [
      "\r",
      " 40%|██████████████▋                      | 9715/24526 [02:47<04:14, 58.10it/s]"
     ]
    },
    {
     "name": "stdout",
     "output_type": "stream",
     "text": [
      "test_9715.txt\n",
      "test_9716.txt\n",
      "test_9717.txt\n",
      "test_9718.txt\n",
      "test_9719.txt\n",
      "test_9720.txt\n"
     ]
    },
    {
     "name": "stderr",
     "output_type": "stream",
     "text": [
      "\r",
      " 40%|██████████████▋                      | 9721/24526 [02:47<04:14, 58.08it/s]"
     ]
    },
    {
     "name": "stdout",
     "output_type": "stream",
     "text": [
      "test_9721.txt\n",
      "test_9722.txt\n",
      "test_9723.txt\n",
      "test_9724.txt\n",
      "test_9725.txt\n"
     ]
    },
    {
     "name": "stderr",
     "output_type": "stream",
     "text": [
      "\r",
      " 40%|██████████████▋                      | 9726/24526 [02:47<04:14, 58.06it/s]"
     ]
    },
    {
     "name": "stdout",
     "output_type": "stream",
     "text": [
      "test_9726.txt\n",
      "test_9727.txt\n",
      "test_9728.txt\n",
      "test_9729.txt\n",
      "test_9730.txt\n",
      "test_9731.txt\n"
     ]
    },
    {
     "name": "stderr",
     "output_type": "stream",
     "text": [
      "\r",
      " 40%|██████████████▋                      | 9732/24526 [02:47<04:14, 58.06it/s]"
     ]
    },
    {
     "name": "stdout",
     "output_type": "stream",
     "text": [
      "test_9732.txt\n",
      "test_9733.txt\n",
      "test_9734.txt\n",
      "test_9735.txt\n",
      "test_9736.txt\n"
     ]
    },
    {
     "name": "stderr",
     "output_type": "stream",
     "text": [
      "\r",
      " 40%|██████████████▋                      | 9737/24526 [02:47<04:14, 58.06it/s]"
     ]
    },
    {
     "name": "stdout",
     "output_type": "stream",
     "text": [
      "test_9737.txt\n",
      "test_9738.txt\n",
      "test_9739.txt\n",
      "test_9740.txt\n",
      "test_9741.txt\n",
      "test_9742.txt\n",
      "test_9743.txt\n",
      "test_9744.txt\n"
     ]
    },
    {
     "name": "stderr",
     "output_type": "stream",
     "text": [
      "\r",
      " 40%|██████████████▋                      | 9745/24526 [02:47<04:14, 58.07it/s]"
     ]
    },
    {
     "name": "stdout",
     "output_type": "stream",
     "text": [
      "test_9745.txt\n",
      "test_9746.txt\n",
      "test_9747.txt\n",
      "test_9748.txt\n",
      "test_9749.txt\n",
      "test_9750.txt\n",
      "test_9751.txt\n"
     ]
    },
    {
     "name": "stderr",
     "output_type": "stream",
     "text": [
      "\r",
      " 40%|██████████████▋                      | 9752/24526 [02:47<04:14, 58.07it/s]"
     ]
    },
    {
     "name": "stdout",
     "output_type": "stream",
     "text": [
      "test_9752.txt\n",
      "test_9753.txt\n",
      "test_9754.txt\n",
      "test_9755.txt\n",
      "test_9756.txt\n",
      "test_9757.txt\n"
     ]
    },
    {
     "name": "stderr",
     "output_type": "stream",
     "text": [
      "\r",
      " 40%|██████████████▋                      | 9758/24526 [02:48<04:14, 58.06it/s]"
     ]
    },
    {
     "name": "stdout",
     "output_type": "stream",
     "text": [
      "test_9758.txt\n",
      "test_9759.txt\n",
      "test_9760.txt\n",
      "test_9761.txt\n",
      "test_9762.txt\n",
      "test_9763.txt\n",
      "test_9764.txt\n"
     ]
    },
    {
     "name": "stderr",
     "output_type": "stream",
     "text": [
      "\r",
      " 40%|██████████████▋                      | 9765/24526 [02:48<04:14, 58.07it/s]"
     ]
    },
    {
     "name": "stdout",
     "output_type": "stream",
     "text": [
      "test_9765.txt\n",
      "test_9766.txt\n",
      "test_9767.txt\n",
      "test_9768.txt\n",
      "test_9769.txt\n",
      "test_9770.txt\n"
     ]
    },
    {
     "name": "stderr",
     "output_type": "stream",
     "text": [
      "\r",
      " 40%|██████████████▋                      | 9771/24526 [02:48<04:14, 58.06it/s]"
     ]
    },
    {
     "name": "stdout",
     "output_type": "stream",
     "text": [
      "test_9771.txt\n",
      "test_9772.txt\n",
      "test_9773.txt\n",
      "test_9774.txt\n",
      "test_9775.txt\n",
      "test_9776.txt\n"
     ]
    },
    {
     "name": "stderr",
     "output_type": "stream",
     "text": [
      "\r",
      " 40%|██████████████▋                      | 9777/24526 [02:48<04:14, 58.05it/s]"
     ]
    },
    {
     "name": "stdout",
     "output_type": "stream",
     "text": [
      "test_9777.txt\n",
      "test_9778.txt\n",
      "test_9779.txt\n",
      "test_9780.txt\n",
      "test_9781.txt\n",
      "test_9782.txt\n"
     ]
    },
    {
     "name": "stderr",
     "output_type": "stream",
     "text": [
      "\r",
      " 40%|██████████████▊                      | 9783/24526 [02:48<04:13, 58.05it/s]"
     ]
    },
    {
     "name": "stdout",
     "output_type": "stream",
     "text": [
      "test_9783.txt\n",
      "test_9784.txt\n",
      "test_9785.txt\n",
      "test_9786.txt\n",
      "test_9787.txt\n",
      "test_9788.txt\n",
      "test_9789.txt\n"
     ]
    },
    {
     "name": "stderr",
     "output_type": "stream",
     "text": [
      "\r",
      " 40%|██████████████▊                      | 9790/24526 [02:48<04:13, 58.06it/s]"
     ]
    },
    {
     "name": "stdout",
     "output_type": "stream",
     "text": [
      "test_9790.txt\n",
      "test_9791.txt\n",
      "test_9792.txt\n",
      "test_9793.txt\n",
      "test_9794.txt\n",
      "test_9795.txt\n",
      "test_9796.txt\n",
      "test_9797.txt\n"
     ]
    },
    {
     "name": "stderr",
     "output_type": "stream",
     "text": [
      "\r",
      " 40%|██████████████▊                      | 9798/24526 [02:48<04:13, 58.07it/s]"
     ]
    },
    {
     "name": "stdout",
     "output_type": "stream",
     "text": [
      "test_9798.txt\n",
      "test_9799.txt\n",
      "test_9800.txt\n",
      "test_9801.txt\n",
      "test_9802.txt\n",
      "test_9803.txt\n",
      "test_9804.txt\n",
      "test_9805.txt\n"
     ]
    },
    {
     "name": "stderr",
     "output_type": "stream",
     "text": [
      "\r",
      " 40%|██████████████▊                      | 9806/24526 [02:48<04:13, 58.07it/s]"
     ]
    },
    {
     "name": "stdout",
     "output_type": "stream",
     "text": [
      "test_9806.txt\n",
      "test_9807.txt\n",
      "test_9808.txt\n",
      "test_9809.txt\n",
      "test_9810.txt\n",
      "test_9811.txt\n",
      "test_9812.txt\n"
     ]
    },
    {
     "name": "stderr",
     "output_type": "stream",
     "text": [
      "\r",
      " 40%|██████████████▊                      | 9813/24526 [02:48<04:13, 58.07it/s]"
     ]
    },
    {
     "name": "stdout",
     "output_type": "stream",
     "text": [
      "test_9813.txt\n",
      "test_9814.txt\n",
      "test_9815.txt\n",
      "test_9816.txt\n",
      "test_9817.txt\n",
      "test_9818.txt\n",
      "test_9819.txt\n"
     ]
    },
    {
     "name": "stderr",
     "output_type": "stream",
     "text": [
      "\r",
      " 40%|██████████████▊                      | 9820/24526 [02:49<04:13, 58.07it/s]"
     ]
    },
    {
     "name": "stdout",
     "output_type": "stream",
     "text": [
      "test_9820.txt\n",
      "test_9821.txt\n",
      "test_9822.txt\n",
      "test_9823.txt\n",
      "test_9824.txt\n",
      "test_9825.txt\n",
      "test_9826.txt\n"
     ]
    },
    {
     "name": "stderr",
     "output_type": "stream",
     "text": [
      "\r",
      " 40%|██████████████▊                      | 9827/24526 [02:49<04:13, 58.06it/s]"
     ]
    },
    {
     "name": "stdout",
     "output_type": "stream",
     "text": [
      "test_9827.txt\n",
      "test_9828.txt\n",
      "test_9829.txt\n",
      "test_9830.txt\n",
      "test_9831.txt\n",
      "test_9832.txt\n",
      "test_9833.txt\n"
     ]
    },
    {
     "name": "stderr",
     "output_type": "stream",
     "text": [
      "\r",
      " 40%|██████████████▊                      | 9834/24526 [02:49<04:13, 58.07it/s]"
     ]
    },
    {
     "name": "stdout",
     "output_type": "stream",
     "text": [
      "test_9834.txt\n",
      "test_9835.txt\n",
      "test_9836.txt\n",
      "test_9837.txt\n",
      "test_9838.txt\n",
      "test_9839.txt\n"
     ]
    },
    {
     "name": "stderr",
     "output_type": "stream",
     "text": [
      "\r",
      " 40%|██████████████▊                      | 9840/24526 [02:49<04:12, 58.07it/s]"
     ]
    },
    {
     "name": "stdout",
     "output_type": "stream",
     "text": [
      "test_9840.txt\n",
      "test_9841.txt\n",
      "test_9842.txt\n",
      "test_9843.txt\n",
      "test_9844.txt\n",
      "test_9845.txt\n"
     ]
    },
    {
     "name": "stderr",
     "output_type": "stream",
     "text": [
      "\r",
      " 40%|██████████████▊                      | 9846/24526 [02:49<04:12, 58.06it/s]"
     ]
    },
    {
     "name": "stdout",
     "output_type": "stream",
     "text": [
      "test_9846.txt\n",
      "test_9847.txt\n",
      "test_9848.txt\n",
      "test_9849.txt\n",
      "test_9850.txt\n",
      "test_9851.txt\n"
     ]
    },
    {
     "name": "stderr",
     "output_type": "stream",
     "text": [
      "\r",
      " 40%|██████████████▊                      | 9852/24526 [02:49<04:12, 58.06it/s]"
     ]
    },
    {
     "name": "stdout",
     "output_type": "stream",
     "text": [
      "test_9852.txt\n",
      "test_9853.txt\n",
      "test_9854.txt\n",
      "test_9855.txt\n",
      "test_9856.txt\n",
      "test_9857.txt\n",
      "test_9858.txt\n"
     ]
    },
    {
     "name": "stderr",
     "output_type": "stream",
     "text": [
      "\r",
      " 40%|██████████████▊                      | 9859/24526 [02:49<04:12, 58.06it/s]"
     ]
    },
    {
     "name": "stdout",
     "output_type": "stream",
     "text": [
      "test_9859.txt\n",
      "test_9860.txt\n",
      "test_9861.txt\n",
      "test_9862.txt\n",
      "test_9863.txt\n",
      "test_9864.txt\n"
     ]
    },
    {
     "name": "stderr",
     "output_type": "stream",
     "text": [
      "\r",
      " 40%|██████████████▉                      | 9865/24526 [02:49<04:12, 58.06it/s]"
     ]
    },
    {
     "name": "stdout",
     "output_type": "stream",
     "text": [
      "test_9865.txt\n",
      "test_9866.txt\n",
      "test_9867.txt\n",
      "test_9868.txt\n",
      "test_9869.txt\n",
      "test_9870.txt\n",
      "test_9871.txt\n"
     ]
    },
    {
     "name": "stderr",
     "output_type": "stream",
     "text": [
      "\r",
      " 40%|██████████████▉                      | 9872/24526 [02:50<04:12, 58.06it/s]"
     ]
    },
    {
     "name": "stdout",
     "output_type": "stream",
     "text": [
      "test_9872.txt\n",
      "test_9873.txt\n",
      "test_9874.txt\n",
      "test_9875.txt\n",
      "test_9876.txt\n",
      "test_9877.txt\n",
      "test_9878.txt\n"
     ]
    },
    {
     "name": "stderr",
     "output_type": "stream",
     "text": [
      "\r",
      " 40%|██████████████▉                      | 9879/24526 [02:50<04:12, 58.07it/s]"
     ]
    },
    {
     "name": "stdout",
     "output_type": "stream",
     "text": [
      "test_9879.txt\n",
      "test_9880.txt\n",
      "test_9881.txt\n",
      "test_9882.txt\n",
      "test_9883.txt\n",
      "test_9884.txt\n",
      "test_9885.txt\n"
     ]
    },
    {
     "name": "stderr",
     "output_type": "stream",
     "text": [
      "\r",
      " 40%|██████████████▉                      | 9886/24526 [02:50<04:12, 58.07it/s]"
     ]
    },
    {
     "name": "stdout",
     "output_type": "stream",
     "text": [
      "test_9886.txt\n",
      "test_9887.txt\n",
      "test_9888.txt\n",
      "test_9889.txt\n",
      "test_9890.txt\n",
      "test_9891.txt\n"
     ]
    },
    {
     "name": "stderr",
     "output_type": "stream",
     "text": [
      "\r",
      " 40%|██████████████▉                      | 9892/24526 [02:50<04:12, 58.06it/s]"
     ]
    },
    {
     "name": "stdout",
     "output_type": "stream",
     "text": [
      "test_9892.txt\n",
      "test_9893.txt\n",
      "test_9894.txt\n",
      "test_9895.txt\n",
      "test_9896.txt\n",
      "test_9897.txt\n"
     ]
    },
    {
     "name": "stderr",
     "output_type": "stream",
     "text": [
      "\r",
      " 40%|██████████████▉                      | 9898/24526 [02:50<04:11, 58.06it/s]"
     ]
    },
    {
     "name": "stdout",
     "output_type": "stream",
     "text": [
      "test_9898.txt\n",
      "test_9899.txt\n",
      "test_9900.txt\n",
      "test_9901.txt\n",
      "test_9902.txt\n",
      "test_9903.txt\n",
      "test_9904.txt\n"
     ]
    },
    {
     "name": "stderr",
     "output_type": "stream",
     "text": [
      "\r",
      " 40%|██████████████▉                      | 9905/24526 [02:50<04:11, 58.06it/s]"
     ]
    },
    {
     "name": "stdout",
     "output_type": "stream",
     "text": [
      "test_9905.txt\n",
      "test_9906.txt\n",
      "test_9907.txt\n",
      "test_9908.txt\n",
      "test_9909.txt\n",
      "test_9910.txt\n",
      "test_9911.txt\n",
      "test_9912.txt\n"
     ]
    },
    {
     "name": "stderr",
     "output_type": "stream",
     "text": [
      "\r",
      " 40%|██████████████▉                      | 9913/24526 [02:50<04:11, 58.08it/s]"
     ]
    },
    {
     "name": "stdout",
     "output_type": "stream",
     "text": [
      "test_9913.txt\n",
      "test_9914.txt\n",
      "test_9915.txt\n",
      "test_9916.txt\n",
      "test_9917.txt\n",
      "test_9918.txt\n",
      "test_9919.txt\n"
     ]
    },
    {
     "name": "stderr",
     "output_type": "stream",
     "text": [
      "\r",
      " 40%|██████████████▉                      | 9920/24526 [02:50<04:11, 58.08it/s]"
     ]
    },
    {
     "name": "stdout",
     "output_type": "stream",
     "text": [
      "test_9920.txt\n",
      "test_9921.txt\n",
      "test_9922.txt\n",
      "test_9923.txt\n",
      "test_9924.txt\n",
      "test_9925.txt\n",
      "test_9926.txt\n"
     ]
    },
    {
     "name": "stderr",
     "output_type": "stream",
     "text": [
      "\r",
      " 40%|██████████████▉                      | 9927/24526 [02:50<04:11, 58.08it/s]"
     ]
    },
    {
     "name": "stdout",
     "output_type": "stream",
     "text": [
      "test_9927.txt\n",
      "test_9928.txt\n",
      "test_9929.txt\n",
      "test_9930.txt\n",
      "test_9931.txt\n",
      "test_9932.txt\n",
      "test_9933.txt\n",
      "test_9934.txt\n"
     ]
    },
    {
     "name": "stderr",
     "output_type": "stream",
     "text": [
      "\r",
      " 41%|██████████████▉                      | 9935/24526 [02:51<04:11, 58.09it/s]"
     ]
    },
    {
     "name": "stdout",
     "output_type": "stream",
     "text": [
      "test_9935.txt\n",
      "test_9936.txt\n",
      "test_9937.txt\n",
      "test_9938.txt\n",
      "test_9939.txt\n",
      "test_9940.txt\n",
      "test_9941.txt\n"
     ]
    },
    {
     "name": "stderr",
     "output_type": "stream",
     "text": [
      "\r",
      " 41%|██████████████▉                      | 9942/24526 [02:51<04:11, 58.09it/s]"
     ]
    },
    {
     "name": "stdout",
     "output_type": "stream",
     "text": [
      "test_9942.txt\n",
      "test_9943.txt\n",
      "test_9944.txt\n",
      "test_9945.txt\n",
      "test_9946.txt\n",
      "test_9947.txt\n",
      "test_9948.txt\n"
     ]
    },
    {
     "name": "stderr",
     "output_type": "stream",
     "text": [
      "\r",
      " 41%|███████████████                      | 9949/24526 [02:51<04:10, 58.09it/s]"
     ]
    },
    {
     "name": "stdout",
     "output_type": "stream",
     "text": [
      "test_9949.txt\n",
      "test_9950.txt\n",
      "test_9951.txt\n",
      "test_9952.txt\n",
      "test_9953.txt\n",
      "test_9954.txt\n",
      "test_9955.txt\n"
     ]
    },
    {
     "name": "stderr",
     "output_type": "stream",
     "text": [
      "\r",
      " 41%|███████████████                      | 9956/24526 [02:51<04:10, 58.10it/s]"
     ]
    },
    {
     "name": "stdout",
     "output_type": "stream",
     "text": [
      "test_9956.txt\n",
      "test_9957.txt\n",
      "test_9958.txt\n",
      "test_9959.txt\n",
      "test_9960.txt\n",
      "test_9961.txt\n",
      "test_9962.txt\n"
     ]
    },
    {
     "name": "stderr",
     "output_type": "stream",
     "text": [
      "\r",
      " 41%|███████████████                      | 9963/24526 [02:51<04:10, 58.09it/s]"
     ]
    },
    {
     "name": "stdout",
     "output_type": "stream",
     "text": [
      "test_9963.txt\n",
      "test_9964.txt\n",
      "test_9965.txt\n",
      "test_9966.txt\n",
      "test_9967.txt\n",
      "test_9968.txt\n",
      "test_9969.txt\n"
     ]
    },
    {
     "name": "stderr",
     "output_type": "stream",
     "text": [
      "\r",
      " 41%|███████████████                      | 9970/24526 [02:51<04:10, 58.09it/s]"
     ]
    },
    {
     "name": "stdout",
     "output_type": "stream",
     "text": [
      "test_9970.txt\n",
      "test_9971.txt\n",
      "test_9972.txt\n",
      "test_9973.txt\n",
      "test_9974.txt\n",
      "test_9975.txt\n"
     ]
    },
    {
     "name": "stderr",
     "output_type": "stream",
     "text": [
      "\r",
      " 41%|███████████████                      | 9976/24526 [02:51<04:10, 58.08it/s]"
     ]
    },
    {
     "name": "stdout",
     "output_type": "stream",
     "text": [
      "test_9976.txt\n",
      "test_9977.txt\n",
      "test_9978.txt\n",
      "test_9979.txt\n",
      "test_9980.txt\n",
      "test_9981.txt\n"
     ]
    },
    {
     "name": "stderr",
     "output_type": "stream",
     "text": [
      "\r",
      " 41%|███████████████                      | 9982/24526 [02:51<04:10, 58.08it/s]"
     ]
    },
    {
     "name": "stdout",
     "output_type": "stream",
     "text": [
      "test_9982.txt\n",
      "test_9983.txt\n",
      "test_9984.txt\n",
      "test_9985.txt\n",
      "test_9986.txt\n",
      "test_9987.txt\n"
     ]
    },
    {
     "name": "stderr",
     "output_type": "stream",
     "text": [
      "\r",
      " 41%|███████████████                      | 9988/24526 [02:51<04:10, 58.07it/s]"
     ]
    },
    {
     "name": "stdout",
     "output_type": "stream",
     "text": [
      "test_9988.txt\n",
      "test_9989.txt\n",
      "test_9990.txt\n",
      "test_9991.txt\n",
      "test_9992.txt\n",
      "test_9993.txt\n"
     ]
    },
    {
     "name": "stderr",
     "output_type": "stream",
     "text": [
      "\r",
      " 41%|███████████████                      | 9994/24526 [02:52<04:10, 58.07it/s]"
     ]
    },
    {
     "name": "stdout",
     "output_type": "stream",
     "text": [
      "test_9994.txt\n",
      "test_9995.txt\n",
      "test_9996.txt\n",
      "test_9997.txt\n",
      "test_9998.txt\n",
      "test_9999.txt\n"
     ]
    },
    {
     "name": "stderr",
     "output_type": "stream",
     "text": [
      "\r",
      " 41%|██████████████▋                     | 10000/24526 [02:52<04:10, 58.07it/s]"
     ]
    },
    {
     "name": "stdout",
     "output_type": "stream",
     "text": [
      "test_10000.txt\n",
      "test_10001.txt\n",
      "test_10002.txt\n",
      "test_10003.txt\n",
      "test_10004.txt\n",
      "test_10005.txt\n"
     ]
    },
    {
     "name": "stderr",
     "output_type": "stream",
     "text": [
      "\r",
      " 41%|██████████████▋                     | 10006/24526 [02:52<04:10, 58.06it/s]"
     ]
    },
    {
     "name": "stdout",
     "output_type": "stream",
     "text": [
      "test_10006.txt\n",
      "test_10007.txt\n",
      "test_10008.txt\n",
      "test_10009.txt\n",
      "test_10010.txt\n",
      "test_10011.txt\n",
      "test_10012.txt\n"
     ]
    },
    {
     "name": "stderr",
     "output_type": "stream",
     "text": [
      "\r",
      " 41%|██████████████▋                     | 10013/24526 [02:52<04:09, 58.07it/s]"
     ]
    },
    {
     "name": "stdout",
     "output_type": "stream",
     "text": [
      "test_10013.txt\n",
      "test_10014.txt\n",
      "test_10015.txt\n",
      "test_10016.txt\n",
      "test_10017.txt\n",
      "test_10018.txt\n",
      "test_10019.txt\n",
      "test_10020.txt\n"
     ]
    },
    {
     "name": "stderr",
     "output_type": "stream",
     "text": [
      "\r",
      " 41%|██████████████▋                     | 10021/24526 [02:52<04:09, 58.08it/s]"
     ]
    },
    {
     "name": "stdout",
     "output_type": "stream",
     "text": [
      "test_10021.txt\n",
      "test_10022.txt\n",
      "test_10023.txt\n",
      "test_10024.txt\n",
      "test_10025.txt\n",
      "test_10026.txt\n",
      "test_10027.txt\n"
     ]
    },
    {
     "name": "stderr",
     "output_type": "stream",
     "text": [
      "\r",
      " 41%|██████████████▋                     | 10028/24526 [02:52<04:09, 58.08it/s]"
     ]
    },
    {
     "name": "stdout",
     "output_type": "stream",
     "text": [
      "test_10028.txt\n",
      "test_10029.txt\n",
      "test_10030.txt\n",
      "test_10031.txt\n",
      "test_10032.txt\n",
      "test_10033.txt\n",
      "test_10034.txt\n"
     ]
    },
    {
     "name": "stderr",
     "output_type": "stream",
     "text": [
      "\r",
      " 41%|██████████████▋                     | 10035/24526 [02:52<04:09, 58.08it/s]"
     ]
    },
    {
     "name": "stdout",
     "output_type": "stream",
     "text": [
      "test_10035.txt\n",
      "test_10036.txt\n",
      "test_10037.txt\n",
      "test_10038.txt\n",
      "test_10039.txt\n",
      "test_10040.txt\n",
      "test_10041.txt\n"
     ]
    },
    {
     "name": "stderr",
     "output_type": "stream",
     "text": [
      "\r",
      " 41%|██████████████▋                     | 10042/24526 [02:52<04:09, 58.08it/s]"
     ]
    },
    {
     "name": "stdout",
     "output_type": "stream",
     "text": [
      "test_10042.txt\n",
      "test_10043.txt\n",
      "test_10044.txt\n",
      "test_10045.txt\n",
      "test_10046.txt\n",
      "test_10047.txt\n",
      "test_10048.txt\n"
     ]
    },
    {
     "name": "stderr",
     "output_type": "stream",
     "text": [
      "\r",
      " 41%|██████████████▊                     | 10049/24526 [02:53<04:09, 58.08it/s]"
     ]
    },
    {
     "name": "stdout",
     "output_type": "stream",
     "text": [
      "test_10049.txt\n",
      "test_10050.txt\n",
      "test_10051.txt\n",
      "test_10052.txt\n",
      "test_10053.txt\n",
      "test_10054.txt\n",
      "test_10055.txt\n"
     ]
    },
    {
     "name": "stderr",
     "output_type": "stream",
     "text": [
      "\r",
      " 41%|██████████████▊                     | 10056/24526 [02:53<04:09, 58.08it/s]"
     ]
    },
    {
     "name": "stdout",
     "output_type": "stream",
     "text": [
      "test_10056.txt\n",
      "test_10057.txt\n",
      "test_10058.txt\n",
      "test_10059.txt\n",
      "test_10060.txt\n",
      "test_10061.txt\n",
      "test_10062.txt\n"
     ]
    },
    {
     "name": "stderr",
     "output_type": "stream",
     "text": [
      "\r",
      " 41%|██████████████▊                     | 10063/24526 [02:53<04:09, 58.07it/s]"
     ]
    },
    {
     "name": "stdout",
     "output_type": "stream",
     "text": [
      "test_10063.txt\n",
      "test_10064.txt\n",
      "test_10065.txt\n",
      "test_10066.txt\n",
      "test_10067.txt\n",
      "test_10068.txt\n"
     ]
    },
    {
     "name": "stderr",
     "output_type": "stream",
     "text": [
      "\r",
      " 41%|██████████████▊                     | 10069/24526 [02:53<04:08, 58.07it/s]"
     ]
    },
    {
     "name": "stdout",
     "output_type": "stream",
     "text": [
      "test_10069.txt\n",
      "test_10070.txt\n",
      "test_10071.txt\n",
      "test_10072.txt\n",
      "test_10073.txt\n",
      "test_10074.txt\n"
     ]
    },
    {
     "name": "stderr",
     "output_type": "stream",
     "text": [
      "\r",
      " 41%|██████████████▊                     | 10075/24526 [02:53<04:08, 58.06it/s]"
     ]
    },
    {
     "name": "stdout",
     "output_type": "stream",
     "text": [
      "test_10075.txt\n",
      "test_10076.txt\n",
      "test_10077.txt\n",
      "test_10078.txt\n",
      "test_10079.txt\n",
      "test_10080.txt\n",
      "test_10081.txt\n"
     ]
    },
    {
     "name": "stderr",
     "output_type": "stream",
     "text": [
      "\r",
      " 41%|██████████████▊                     | 10082/24526 [02:53<04:08, 58.06it/s]"
     ]
    },
    {
     "name": "stdout",
     "output_type": "stream",
     "text": [
      "test_10082.txt\n",
      "test_10083.txt\n",
      "test_10084.txt\n",
      "test_10085.txt\n",
      "test_10086.txt\n",
      "test_10087.txt\n"
     ]
    },
    {
     "name": "stderr",
     "output_type": "stream",
     "text": [
      "\r",
      " 41%|██████████████▊                     | 10088/24526 [02:53<04:08, 58.05it/s]"
     ]
    },
    {
     "name": "stdout",
     "output_type": "stream",
     "text": [
      "test_10088.txt\n",
      "test_10089.txt\n",
      "test_10090.txt\n",
      "test_10091.txt\n",
      "test_10092.txt\n",
      "test_10093.txt\n"
     ]
    },
    {
     "name": "stderr",
     "output_type": "stream",
     "text": [
      "\r",
      " 41%|██████████████▊                     | 10094/24526 [02:54<04:09, 57.95it/s]"
     ]
    },
    {
     "name": "stdout",
     "output_type": "stream",
     "text": [
      "test_10094.txt\n",
      "test_10095.txt\n",
      "test_10096.txt\n",
      "test_10097.txt\n",
      "test_10098.txt\n",
      "test_10099.txt\n",
      "test_10100.txt\n",
      "test_10101.txt\n"
     ]
    },
    {
     "name": "stderr",
     "output_type": "stream",
     "text": [
      "\r",
      " 41%|██████████████▊                     | 10102/24526 [02:54<04:08, 57.96it/s]"
     ]
    },
    {
     "name": "stdout",
     "output_type": "stream",
     "text": [
      "test_10102.txt\n",
      "test_10103.txt\n",
      "test_10104.txt\n",
      "test_10105.txt\n",
      "test_10106.txt\n",
      "test_10107.txt\n",
      "test_10108.txt\n"
     ]
    },
    {
     "name": "stderr",
     "output_type": "stream",
     "text": [
      "\r",
      " 41%|██████████████▊                     | 10109/24526 [02:54<04:08, 57.97it/s]"
     ]
    },
    {
     "name": "stdout",
     "output_type": "stream",
     "text": [
      "test_10109.txt\n",
      "test_10110.txt\n",
      "test_10111.txt\n",
      "test_10112.txt\n",
      "test_10113.txt\n",
      "test_10114.txt\n"
     ]
    },
    {
     "name": "stderr",
     "output_type": "stream",
     "text": [
      "\r",
      " 41%|██████████████▊                     | 10115/24526 [02:54<04:08, 57.96it/s]"
     ]
    },
    {
     "name": "stdout",
     "output_type": "stream",
     "text": [
      "test_10115.txt\n",
      "test_10116.txt\n",
      "test_10117.txt\n",
      "test_10118.txt\n",
      "test_10119.txt\n",
      "test_10120.txt\n"
     ]
    },
    {
     "name": "stderr",
     "output_type": "stream",
     "text": [
      "\r",
      " 41%|██████████████▊                     | 10121/24526 [02:54<04:08, 57.96it/s]"
     ]
    },
    {
     "name": "stdout",
     "output_type": "stream",
     "text": [
      "test_10121.txt\n",
      "test_10122.txt\n",
      "test_10123.txt\n",
      "test_10124.txt\n",
      "test_10125.txt\n",
      "test_10126.txt\n",
      "test_10127.txt\n"
     ]
    },
    {
     "name": "stderr",
     "output_type": "stream",
     "text": [
      "\r",
      " 41%|██████████████▊                     | 10128/24526 [02:54<04:08, 57.96it/s]"
     ]
    },
    {
     "name": "stdout",
     "output_type": "stream",
     "text": [
      "test_10128.txt\n",
      "test_10129.txt\n",
      "test_10130.txt\n",
      "test_10131.txt\n",
      "test_10132.txt\n",
      "test_10133.txt\n"
     ]
    },
    {
     "name": "stderr",
     "output_type": "stream",
     "text": [
      "\r",
      " 41%|██████████████▊                     | 10134/24526 [02:54<04:08, 57.96it/s]"
     ]
    },
    {
     "name": "stdout",
     "output_type": "stream",
     "text": [
      "test_10134.txt\n",
      "test_10135.txt\n",
      "test_10136.txt\n",
      "test_10137.txt\n",
      "test_10138.txt\n",
      "test_10139.txt\n"
     ]
    },
    {
     "name": "stderr",
     "output_type": "stream",
     "text": [
      "\r",
      " 41%|██████████████▉                     | 10140/24526 [02:54<04:08, 57.96it/s]"
     ]
    },
    {
     "name": "stdout",
     "output_type": "stream",
     "text": [
      "test_10140.txt\n",
      "test_10141.txt\n",
      "test_10142.txt\n",
      "test_10143.txt\n",
      "test_10144.txt\n",
      "test_10145.txt\n",
      "test_10146.txt\n"
     ]
    },
    {
     "name": "stderr",
     "output_type": "stream",
     "text": [
      "\r",
      " 41%|██████████████▉                     | 10147/24526 [02:55<04:08, 57.96it/s]"
     ]
    },
    {
     "name": "stdout",
     "output_type": "stream",
     "text": [
      "test_10147.txt\n",
      "test_10148.txt\n",
      "test_10149.txt\n",
      "test_10150.txt\n",
      "test_10151.txt\n",
      "test_10152.txt\n"
     ]
    },
    {
     "name": "stderr",
     "output_type": "stream",
     "text": [
      "\r",
      " 41%|██████████████▉                     | 10153/24526 [02:55<04:07, 57.96it/s]"
     ]
    },
    {
     "name": "stdout",
     "output_type": "stream",
     "text": [
      "test_10153.txt\n",
      "test_10154.txt\n",
      "test_10155.txt\n",
      "test_10156.txt\n",
      "test_10157.txt\n",
      "test_10158.txt\n"
     ]
    },
    {
     "name": "stderr",
     "output_type": "stream",
     "text": [
      "\r",
      " 41%|██████████████▉                     | 10159/24526 [02:55<04:07, 57.96it/s]"
     ]
    },
    {
     "name": "stdout",
     "output_type": "stream",
     "text": [
      "test_10159.txt\n",
      "test_10160.txt\n",
      "test_10161.txt\n",
      "test_10162.txt\n",
      "test_10163.txt\n",
      "test_10164.txt\n"
     ]
    },
    {
     "name": "stderr",
     "output_type": "stream",
     "text": [
      "\r",
      " 41%|██████████████▉                     | 10165/24526 [02:55<04:07, 57.95it/s]"
     ]
    },
    {
     "name": "stdout",
     "output_type": "stream",
     "text": [
      "test_10165.txt\n",
      "test_10166.txt\n",
      "test_10167.txt\n",
      "test_10168.txt\n",
      "test_10169.txt\n",
      "test_10170.txt\n",
      "test_10171.txt\n"
     ]
    },
    {
     "name": "stderr",
     "output_type": "stream",
     "text": [
      "\r",
      " 41%|██████████████▉                     | 10172/24526 [02:55<04:07, 57.95it/s]"
     ]
    },
    {
     "name": "stdout",
     "output_type": "stream",
     "text": [
      "test_10172.txt\n",
      "test_10173.txt\n",
      "test_10174.txt\n",
      "test_10175.txt\n",
      "test_10176.txt\n",
      "test_10177.txt\n",
      "test_10178.txt\n"
     ]
    },
    {
     "name": "stderr",
     "output_type": "stream",
     "text": [
      "\r",
      " 42%|██████████████▉                     | 10179/24526 [02:55<04:07, 57.96it/s]"
     ]
    },
    {
     "name": "stdout",
     "output_type": "stream",
     "text": [
      "test_10179.txt\n",
      "test_10180.txt\n",
      "test_10181.txt\n",
      "test_10182.txt\n",
      "test_10183.txt\n",
      "test_10184.txt\n"
     ]
    },
    {
     "name": "stderr",
     "output_type": "stream",
     "text": [
      "\r",
      " 42%|██████████████▉                     | 10185/24526 [02:55<04:07, 57.95it/s]"
     ]
    },
    {
     "name": "stdout",
     "output_type": "stream",
     "text": [
      "test_10185.txt\n",
      "test_10186.txt\n",
      "test_10187.txt\n",
      "test_10188.txt\n",
      "test_10189.txt\n",
      "test_10190.txt\n"
     ]
    },
    {
     "name": "stderr",
     "output_type": "stream",
     "text": [
      "\r",
      " 42%|██████████████▉                     | 10191/24526 [02:55<04:07, 57.95it/s]"
     ]
    },
    {
     "name": "stdout",
     "output_type": "stream",
     "text": [
      "test_10191.txt\n",
      "test_10192.txt\n",
      "test_10193.txt\n",
      "test_10194.txt\n",
      "test_10195.txt\n",
      "test_10196.txt\n"
     ]
    },
    {
     "name": "stderr",
     "output_type": "stream",
     "text": [
      "\r",
      " 42%|██████████████▉                     | 10197/24526 [02:56<04:07, 57.93it/s]"
     ]
    },
    {
     "name": "stdout",
     "output_type": "stream",
     "text": [
      "test_10197.txt\n",
      "test_10198.txt\n",
      "test_10199.txt\n",
      "test_10200.txt\n",
      "test_10201.txt\n",
      "test_10202.txt\n",
      "test_10203.txt\n"
     ]
    },
    {
     "name": "stderr",
     "output_type": "stream",
     "text": [
      "\r",
      " 42%|██████████████▉                     | 10204/24526 [02:56<04:07, 57.93it/s]"
     ]
    },
    {
     "name": "stdout",
     "output_type": "stream",
     "text": [
      "test_10204.txt\n",
      "test_10205.txt\n",
      "test_10206.txt\n",
      "test_10207.txt\n",
      "test_10208.txt\n",
      "test_10209.txt\n"
     ]
    },
    {
     "name": "stderr",
     "output_type": "stream",
     "text": [
      "\r",
      " 42%|██████████████▉                     | 10210/24526 [02:56<04:07, 57.93it/s]"
     ]
    },
    {
     "name": "stdout",
     "output_type": "stream",
     "text": [
      "test_10210.txt\n",
      "test_10211.txt\n",
      "test_10212.txt\n",
      "test_10213.txt\n",
      "test_10214.txt\n",
      "test_10215.txt\n"
     ]
    },
    {
     "name": "stderr",
     "output_type": "stream",
     "text": [
      "\r",
      " 42%|██████████████▉                     | 10216/24526 [02:56<04:07, 57.92it/s]"
     ]
    },
    {
     "name": "stdout",
     "output_type": "stream",
     "text": [
      "test_10216.txt\n",
      "test_10217.txt\n",
      "test_10218.txt\n",
      "test_10219.txt\n",
      "test_10220.txt\n",
      "test_10221.txt\n",
      "test_10222.txt\n"
     ]
    },
    {
     "name": "stderr",
     "output_type": "stream",
     "text": [
      "\r",
      " 42%|███████████████                     | 10223/24526 [02:56<04:06, 57.93it/s]"
     ]
    },
    {
     "name": "stdout",
     "output_type": "stream",
     "text": [
      "test_10223.txt\n",
      "test_10224.txt\n",
      "test_10225.txt\n",
      "test_10226.txt\n",
      "test_10227.txt\n",
      "test_10228.txt\n",
      "test_10229.txt\n"
     ]
    },
    {
     "name": "stderr",
     "output_type": "stream",
     "text": [
      "\r",
      " 42%|███████████████                     | 10230/24526 [02:56<04:06, 57.93it/s]"
     ]
    },
    {
     "name": "stdout",
     "output_type": "stream",
     "text": [
      "test_10230.txt\n",
      "test_10231.txt\n",
      "test_10232.txt\n",
      "test_10233.txt\n",
      "test_10234.txt\n",
      "test_10235.txt\n"
     ]
    },
    {
     "name": "stderr",
     "output_type": "stream",
     "text": [
      "\r",
      " 42%|███████████████                     | 10236/24526 [02:56<04:06, 57.93it/s]"
     ]
    },
    {
     "name": "stdout",
     "output_type": "stream",
     "text": [
      "test_10236.txt\n",
      "test_10237.txt\n",
      "test_10238.txt\n",
      "test_10239.txt\n",
      "test_10240.txt\n",
      "test_10241.txt\n",
      "test_10242.txt\n"
     ]
    },
    {
     "name": "stderr",
     "output_type": "stream",
     "text": [
      "\r",
      " 42%|███████████████                     | 10243/24526 [02:56<04:06, 57.93it/s]"
     ]
    },
    {
     "name": "stdout",
     "output_type": "stream",
     "text": [
      "test_10243.txt\n",
      "test_10244.txt\n",
      "test_10245.txt\n",
      "test_10246.txt\n",
      "test_10247.txt\n",
      "test_10248.txt\n",
      "test_10249.txt\n"
     ]
    },
    {
     "name": "stderr",
     "output_type": "stream",
     "text": [
      "\r",
      " 42%|███████████████                     | 10250/24526 [02:56<04:06, 57.94it/s]"
     ]
    },
    {
     "name": "stdout",
     "output_type": "stream",
     "text": [
      "test_10250.txt\n",
      "test_10251.txt\n",
      "test_10252.txt\n",
      "test_10253.txt\n",
      "test_10254.txt\n",
      "test_10255.txt\n",
      "test_10256.txt\n"
     ]
    },
    {
     "name": "stderr",
     "output_type": "stream",
     "text": [
      "\r",
      " 42%|███████████████                     | 10257/24526 [02:57<04:06, 57.94it/s]"
     ]
    },
    {
     "name": "stdout",
     "output_type": "stream",
     "text": [
      "test_10257.txt\n",
      "test_10258.txt\n",
      "test_10259.txt\n",
      "test_10260.txt\n",
      "test_10261.txt\n",
      "test_10262.txt\n",
      "test_10263.txt\n"
     ]
    },
    {
     "name": "stderr",
     "output_type": "stream",
     "text": [
      "\r",
      " 42%|███████████████                     | 10264/24526 [02:57<04:06, 57.95it/s]"
     ]
    },
    {
     "name": "stdout",
     "output_type": "stream",
     "text": [
      "test_10264.txt\n",
      "test_10265.txt\n",
      "test_10266.txt\n",
      "test_10267.txt\n",
      "test_10268.txt\n",
      "test_10269.txt\n",
      "test_10270.txt\n"
     ]
    },
    {
     "name": "stderr",
     "output_type": "stream",
     "text": [
      "\r",
      " 42%|███████████████                     | 10271/24526 [02:57<04:05, 57.95it/s]"
     ]
    },
    {
     "name": "stdout",
     "output_type": "stream",
     "text": [
      "test_10271.txt\n",
      "test_10272.txt\n",
      "test_10273.txt\n",
      "test_10274.txt\n",
      "test_10275.txt\n",
      "test_10276.txt\n",
      "test_10277.txt\n"
     ]
    },
    {
     "name": "stderr",
     "output_type": "stream",
     "text": [
      "\r",
      " 42%|███████████████                     | 10278/24526 [02:57<04:05, 57.95it/s]"
     ]
    },
    {
     "name": "stdout",
     "output_type": "stream",
     "text": [
      "test_10278.txt\n",
      "test_10279.txt\n",
      "test_10280.txt\n",
      "test_10281.txt\n",
      "test_10282.txt\n",
      "test_10283.txt\n",
      "test_10284.txt\n"
     ]
    },
    {
     "name": "stderr",
     "output_type": "stream",
     "text": [
      "\r",
      " 42%|███████████████                     | 10285/24526 [02:57<04:05, 57.95it/s]"
     ]
    },
    {
     "name": "stdout",
     "output_type": "stream",
     "text": [
      "test_10285.txt\n",
      "test_10286.txt\n",
      "test_10287.txt\n",
      "test_10288.txt\n",
      "test_10289.txt\n",
      "test_10290.txt\n",
      "test_10291.txt\n"
     ]
    },
    {
     "name": "stderr",
     "output_type": "stream",
     "text": [
      "\r",
      " 42%|███████████████                     | 10292/24526 [02:57<04:05, 57.94it/s]"
     ]
    },
    {
     "name": "stdout",
     "output_type": "stream",
     "text": [
      "test_10292.txt\n",
      "test_10293.txt\n",
      "test_10294.txt\n",
      "test_10295.txt\n",
      "test_10296.txt\n",
      "test_10297.txt\n"
     ]
    },
    {
     "name": "stderr",
     "output_type": "stream",
     "text": [
      "\r",
      " 42%|███████████████                     | 10298/24526 [02:57<04:05, 57.94it/s]"
     ]
    },
    {
     "name": "stdout",
     "output_type": "stream",
     "text": [
      "test_10298.txt\n",
      "test_10299.txt\n",
      "test_10300.txt\n",
      "test_10301.txt\n",
      "test_10302.txt\n",
      "test_10303.txt\n",
      "test_10304.txt\n"
     ]
    },
    {
     "name": "stderr",
     "output_type": "stream",
     "text": [
      "\r",
      " 42%|███████████████▏                    | 10305/24526 [02:57<04:05, 57.94it/s]"
     ]
    },
    {
     "name": "stdout",
     "output_type": "stream",
     "text": [
      "test_10305.txt\n",
      "test_10306.txt\n",
      "test_10307.txt\n",
      "test_10308.txt\n",
      "test_10309.txt\n",
      "test_10310.txt\n",
      "test_10311.txt\n"
     ]
    },
    {
     "name": "stderr",
     "output_type": "stream",
     "text": [
      "\r",
      " 42%|███████████████▏                    | 10312/24526 [02:57<04:05, 57.95it/s]"
     ]
    },
    {
     "name": "stdout",
     "output_type": "stream",
     "text": [
      "test_10312.txt\n",
      "test_10313.txt\n",
      "test_10314.txt\n",
      "test_10315.txt\n",
      "test_10316.txt\n",
      "test_10317.txt\n",
      "test_10318.txt\n"
     ]
    },
    {
     "name": "stderr",
     "output_type": "stream",
     "text": [
      "\r",
      " 42%|███████████████▏                    | 10319/24526 [02:58<04:05, 57.95it/s]"
     ]
    },
    {
     "name": "stdout",
     "output_type": "stream",
     "text": [
      "test_10319.txt\n",
      "test_10320.txt\n",
      "test_10321.txt\n",
      "test_10322.txt\n",
      "test_10323.txt\n",
      "test_10324.txt\n",
      "test_10325.txt\n"
     ]
    },
    {
     "name": "stderr",
     "output_type": "stream",
     "text": [
      "\r",
      " 42%|███████████████▏                    | 10326/24526 [02:58<04:05, 57.95it/s]"
     ]
    },
    {
     "name": "stdout",
     "output_type": "stream",
     "text": [
      "test_10326.txt\n",
      "test_10327.txt\n",
      "test_10328.txt\n",
      "test_10329.txt\n",
      "test_10330.txt\n",
      "test_10331.txt\n"
     ]
    },
    {
     "name": "stderr",
     "output_type": "stream",
     "text": [
      "\r",
      " 42%|███████████████▏                    | 10332/24526 [02:58<04:04, 57.95it/s]"
     ]
    },
    {
     "name": "stdout",
     "output_type": "stream",
     "text": [
      "test_10332.txt\n",
      "test_10333.txt\n",
      "test_10334.txt\n",
      "test_10335.txt\n",
      "test_10336.txt\n",
      "test_10337.txt\n"
     ]
    },
    {
     "name": "stderr",
     "output_type": "stream",
     "text": [
      "\r",
      " 42%|███████████████▏                    | 10338/24526 [02:58<04:04, 57.95it/s]"
     ]
    },
    {
     "name": "stdout",
     "output_type": "stream",
     "text": [
      "test_10338.txt\n",
      "test_10339.txt\n",
      "test_10340.txt\n",
      "test_10341.txt\n",
      "test_10342.txt\n",
      "test_10343.txt\n"
     ]
    },
    {
     "name": "stderr",
     "output_type": "stream",
     "text": [
      "\r",
      " 42%|███████████████▏                    | 10344/24526 [02:58<04:04, 57.95it/s]"
     ]
    },
    {
     "name": "stdout",
     "output_type": "stream",
     "text": [
      "test_10344.txt\n",
      "test_10345.txt\n",
      "test_10346.txt\n",
      "test_10347.txt\n",
      "test_10348.txt\n",
      "test_10349.txt\n"
     ]
    },
    {
     "name": "stderr",
     "output_type": "stream",
     "text": [
      "\r",
      " 42%|███████████████▏                    | 10350/24526 [02:58<04:04, 57.95it/s]"
     ]
    },
    {
     "name": "stdout",
     "output_type": "stream",
     "text": [
      "test_10350.txt\n",
      "test_10351.txt\n",
      "test_10352.txt\n",
      "test_10353.txt\n",
      "test_10354.txt\n",
      "test_10355.txt\n"
     ]
    },
    {
     "name": "stderr",
     "output_type": "stream",
     "text": [
      "\r",
      " 42%|███████████████▏                    | 10356/24526 [02:58<04:04, 57.94it/s]"
     ]
    },
    {
     "name": "stdout",
     "output_type": "stream",
     "text": [
      "test_10356.txt\n",
      "test_10357.txt\n",
      "test_10358.txt\n",
      "test_10359.txt\n",
      "test_10360.txt\n",
      "test_10361.txt\n"
     ]
    },
    {
     "name": "stderr",
     "output_type": "stream",
     "text": [
      "\r",
      " 42%|███████████████▏                    | 10362/24526 [02:58<04:04, 57.94it/s]"
     ]
    },
    {
     "name": "stdout",
     "output_type": "stream",
     "text": [
      "test_10362.txt\n",
      "test_10363.txt\n",
      "test_10364.txt\n",
      "test_10365.txt\n",
      "test_10366.txt\n",
      "test_10367.txt\n",
      "test_10368.txt\n"
     ]
    },
    {
     "name": "stderr",
     "output_type": "stream",
     "text": [
      "\r",
      " 42%|███████████████▏                    | 10369/24526 [02:58<04:04, 57.94it/s]"
     ]
    },
    {
     "name": "stdout",
     "output_type": "stream",
     "text": [
      "test_10369.txt\n",
      "test_10370.txt\n",
      "test_10371.txt\n",
      "test_10372.txt\n",
      "test_10373.txt\n",
      "test_10374.txt\n"
     ]
    },
    {
     "name": "stderr",
     "output_type": "stream",
     "text": [
      "\r",
      " 42%|███████████████▏                    | 10375/24526 [02:59<04:04, 57.93it/s]"
     ]
    },
    {
     "name": "stdout",
     "output_type": "stream",
     "text": [
      "test_10375.txt\n",
      "test_10376.txt\n",
      "test_10377.txt\n",
      "test_10378.txt\n",
      "test_10379.txt\n",
      "test_10380.txt\n"
     ]
    },
    {
     "name": "stderr",
     "output_type": "stream",
     "text": [
      "\r",
      " 42%|███████████████▏                    | 10381/24526 [02:59<04:04, 57.93it/s]"
     ]
    },
    {
     "name": "stdout",
     "output_type": "stream",
     "text": [
      "test_10381.txt\n",
      "test_10382.txt\n",
      "test_10383.txt\n",
      "test_10384.txt\n",
      "test_10385.txt\n",
      "test_10386.txt\n"
     ]
    },
    {
     "name": "stderr",
     "output_type": "stream",
     "text": [
      "\r",
      " 42%|███████████████▏                    | 10387/24526 [02:59<04:04, 57.93it/s]"
     ]
    },
    {
     "name": "stdout",
     "output_type": "stream",
     "text": [
      "test_10387.txt\n",
      "test_10388.txt\n",
      "test_10389.txt\n",
      "test_10390.txt\n",
      "test_10391.txt\n",
      "test_10392.txt\n"
     ]
    },
    {
     "name": "stderr",
     "output_type": "stream",
     "text": [
      "\r",
      " 42%|███████████████▎                    | 10393/24526 [02:59<04:03, 57.93it/s]"
     ]
    },
    {
     "name": "stdout",
     "output_type": "stream",
     "text": [
      "test_10393.txt\n",
      "test_10394.txt\n",
      "test_10395.txt\n",
      "test_10396.txt\n",
      "test_10397.txt\n",
      "test_10398.txt\n",
      "test_10399.txt\n",
      "test_10400.txt\n"
     ]
    },
    {
     "name": "stderr",
     "output_type": "stream",
     "text": [
      "\r",
      " 42%|███████████████▎                    | 10401/24526 [02:59<04:03, 57.94it/s]"
     ]
    },
    {
     "name": "stdout",
     "output_type": "stream",
     "text": [
      "test_10401.txt\n",
      "test_10402.txt\n",
      "test_10403.txt\n",
      "test_10404.txt\n",
      "test_10405.txt\n",
      "test_10406.txt\n",
      "test_10407.txt\n",
      "test_10408.txt\n"
     ]
    },
    {
     "name": "stderr",
     "output_type": "stream",
     "text": [
      "\r",
      " 42%|███████████████▎                    | 10409/24526 [02:59<04:03, 57.95it/s]"
     ]
    },
    {
     "name": "stdout",
     "output_type": "stream",
     "text": [
      "test_10409.txt\n",
      "test_10410.txt\n",
      "test_10411.txt\n",
      "test_10412.txt\n",
      "test_10413.txt\n",
      "test_10414.txt\n",
      "test_10415.txt\n"
     ]
    },
    {
     "name": "stderr",
     "output_type": "stream",
     "text": [
      "\r",
      " 42%|███████████████▎                    | 10416/24526 [02:59<04:03, 57.94it/s]"
     ]
    },
    {
     "name": "stdout",
     "output_type": "stream",
     "text": [
      "test_10416.txt\n",
      "test_10417.txt\n",
      "test_10418.txt\n",
      "test_10419.txt\n",
      "test_10420.txt\n",
      "test_10421.txt\n",
      "test_10422.txt\n"
     ]
    },
    {
     "name": "stderr",
     "output_type": "stream",
     "text": [
      "\r",
      " 42%|███████████████▎                    | 10423/24526 [02:59<04:03, 57.94it/s]"
     ]
    },
    {
     "name": "stdout",
     "output_type": "stream",
     "text": [
      "test_10423.txt\n",
      "test_10424.txt\n",
      "test_10425.txt\n",
      "test_10426.txt\n",
      "test_10427.txt\n",
      "test_10428.txt\n",
      "test_10429.txt\n"
     ]
    },
    {
     "name": "stderr",
     "output_type": "stream",
     "text": [
      "\r",
      " 43%|███████████████▎                    | 10430/24526 [02:59<04:03, 57.95it/s]"
     ]
    },
    {
     "name": "stdout",
     "output_type": "stream",
     "text": [
      "test_10430.txt\n",
      "test_10431.txt\n",
      "test_10432.txt\n",
      "test_10433.txt\n",
      "test_10434.txt\n",
      "test_10435.txt\n",
      "test_10436.txt\n"
     ]
    },
    {
     "name": "stderr",
     "output_type": "stream",
     "text": [
      "\r",
      " 43%|███████████████▎                    | 10437/24526 [03:00<04:03, 57.95it/s]"
     ]
    },
    {
     "name": "stdout",
     "output_type": "stream",
     "text": [
      "test_10437.txt\n",
      "test_10438.txt\n",
      "test_10439.txt\n",
      "test_10440.txt\n",
      "test_10441.txt\n",
      "test_10442.txt\n",
      "test_10443.txt\n"
     ]
    },
    {
     "name": "stderr",
     "output_type": "stream",
     "text": [
      "\r",
      " 43%|███████████████▎                    | 10444/24526 [03:00<04:03, 57.95it/s]"
     ]
    },
    {
     "name": "stdout",
     "output_type": "stream",
     "text": [
      "test_10444.txt\n",
      "test_10445.txt\n",
      "test_10446.txt\n",
      "test_10447.txt\n",
      "test_10448.txt\n",
      "test_10449.txt\n",
      "test_10450.txt\n"
     ]
    },
    {
     "name": "stderr",
     "output_type": "stream",
     "text": [
      "\r",
      " 43%|███████████████▎                    | 10451/24526 [03:00<04:02, 57.95it/s]"
     ]
    },
    {
     "name": "stdout",
     "output_type": "stream",
     "text": [
      "test_10451.txt\n",
      "test_10452.txt\n",
      "test_10453.txt\n",
      "test_10454.txt\n",
      "test_10455.txt\n",
      "test_10456.txt\n",
      "test_10457.txt\n",
      "test_10458.txt\n"
     ]
    },
    {
     "name": "stderr",
     "output_type": "stream",
     "text": [
      "\r",
      " 43%|███████████████▎                    | 10459/24526 [03:00<04:02, 57.96it/s]"
     ]
    },
    {
     "name": "stdout",
     "output_type": "stream",
     "text": [
      "test_10459.txt\n",
      "test_10460.txt\n",
      "test_10461.txt\n",
      "test_10462.txt\n",
      "test_10463.txt\n",
      "test_10464.txt\n",
      "test_10465.txt\n"
     ]
    },
    {
     "name": "stderr",
     "output_type": "stream",
     "text": [
      "\r",
      " 43%|███████████████▎                    | 10466/24526 [03:00<04:02, 57.95it/s]"
     ]
    },
    {
     "name": "stdout",
     "output_type": "stream",
     "text": [
      "test_10466.txt\n",
      "test_10467.txt\n",
      "test_10468.txt\n",
      "test_10469.txt\n",
      "test_10470.txt\n",
      "test_10471.txt\n",
      "test_10472.txt\n"
     ]
    },
    {
     "name": "stderr",
     "output_type": "stream",
     "text": [
      "\r",
      " 43%|███████████████▎                    | 10473/24526 [03:00<04:02, 57.93it/s]"
     ]
    },
    {
     "name": "stdout",
     "output_type": "stream",
     "text": [
      "test_10473.txt\n",
      "test_10474.txt\n",
      "test_10475.txt\n",
      "test_10476.txt\n",
      "test_10477.txt\n",
      "test_10478.txt\n",
      "test_10479.txt\n",
      "test_10480.txt\n",
      "test_10481.txt\n"
     ]
    },
    {
     "name": "stderr",
     "output_type": "stream",
     "text": [
      "\r",
      " 43%|███████████████▍                    | 10482/24526 [03:00<04:02, 57.94it/s]"
     ]
    },
    {
     "name": "stdout",
     "output_type": "stream",
     "text": [
      "test_10482.txt\n",
      "test_10483.txt\n",
      "test_10484.txt\n",
      "test_10485.txt\n",
      "test_10486.txt\n",
      "test_10487.txt\n",
      "test_10488.txt\n"
     ]
    },
    {
     "name": "stderr",
     "output_type": "stream",
     "text": [
      "\r",
      " 43%|███████████████▍                    | 10489/24526 [03:01<04:02, 57.94it/s]"
     ]
    },
    {
     "name": "stdout",
     "output_type": "stream",
     "text": [
      "test_10489.txt\n",
      "test_10490.txt\n",
      "test_10491.txt\n",
      "test_10492.txt\n",
      "test_10493.txt\n",
      "test_10494.txt\n"
     ]
    },
    {
     "name": "stderr",
     "output_type": "stream",
     "text": [
      "\r",
      " 43%|███████████████▍                    | 10495/24526 [03:01<04:02, 57.94it/s]"
     ]
    },
    {
     "name": "stdout",
     "output_type": "stream",
     "text": [
      "test_10495.txt\n",
      "test_10496.txt\n",
      "test_10497.txt\n",
      "test_10498.txt\n",
      "test_10499.txt\n",
      "test_10500.txt\n",
      "test_10501.txt\n"
     ]
    },
    {
     "name": "stderr",
     "output_type": "stream",
     "text": [
      "\r",
      " 43%|███████████████▍                    | 10502/24526 [03:01<04:02, 57.94it/s]"
     ]
    },
    {
     "name": "stdout",
     "output_type": "stream",
     "text": [
      "test_10502.txt\n",
      "test_10503.txt\n",
      "test_10504.txt\n",
      "test_10505.txt\n",
      "test_10506.txt\n",
      "test_10507.txt\n",
      "test_10508.txt\n"
     ]
    },
    {
     "name": "stderr",
     "output_type": "stream",
     "text": [
      "\r",
      " 43%|███████████████▍                    | 10509/24526 [03:01<04:01, 57.94it/s]"
     ]
    },
    {
     "name": "stdout",
     "output_type": "stream",
     "text": [
      "test_10509.txt\n",
      "test_10510.txt\n",
      "test_10511.txt\n",
      "test_10512.txt\n",
      "test_10513.txt\n",
      "test_10514.txt\n",
      "test_10515.txt\n",
      "test_10516.txt\n"
     ]
    },
    {
     "name": "stderr",
     "output_type": "stream",
     "text": [
      "\r",
      " 43%|███████████████▍                    | 10517/24526 [03:01<04:01, 57.95it/s]"
     ]
    },
    {
     "name": "stdout",
     "output_type": "stream",
     "text": [
      "test_10517.txt\n",
      "test_10518.txt\n",
      "test_10519.txt\n",
      "test_10520.txt\n",
      "test_10521.txt\n",
      "test_10522.txt\n",
      "test_10523.txt\n"
     ]
    },
    {
     "name": "stderr",
     "output_type": "stream",
     "text": [
      "\r",
      " 43%|███████████████▍                    | 10524/24526 [03:01<04:01, 57.95it/s]"
     ]
    },
    {
     "name": "stdout",
     "output_type": "stream",
     "text": [
      "test_10524.txt\n",
      "test_10525.txt\n",
      "test_10526.txt\n",
      "test_10527.txt\n",
      "test_10528.txt\n",
      "test_10529.txt\n",
      "test_10530.txt\n"
     ]
    },
    {
     "name": "stderr",
     "output_type": "stream",
     "text": [
      "\r",
      " 43%|███████████████▍                    | 10531/24526 [03:01<04:01, 57.95it/s]"
     ]
    },
    {
     "name": "stdout",
     "output_type": "stream",
     "text": [
      "test_10531.txt\n",
      "test_10532.txt\n",
      "test_10533.txt\n",
      "test_10534.txt\n",
      "test_10535.txt\n",
      "test_10536.txt\n",
      "test_10537.txt\n",
      "test_10538.txt\n",
      "test_10539.txt\n"
     ]
    },
    {
     "name": "stderr",
     "output_type": "stream",
     "text": [
      "\r",
      " 43%|███████████████▍                    | 10540/24526 [03:01<04:01, 57.96it/s]"
     ]
    },
    {
     "name": "stdout",
     "output_type": "stream",
     "text": [
      "test_10540.txt\n",
      "test_10541.txt\n",
      "test_10542.txt\n",
      "test_10543.txt\n",
      "test_10544.txt\n",
      "test_10545.txt\n",
      "test_10546.txt\n"
     ]
    },
    {
     "name": "stderr",
     "output_type": "stream",
     "text": [
      "\r",
      " 43%|███████████████▍                    | 10547/24526 [03:01<04:01, 57.96it/s]"
     ]
    },
    {
     "name": "stdout",
     "output_type": "stream",
     "text": [
      "test_10547.txt\n",
      "test_10548.txt\n",
      "test_10549.txt\n",
      "test_10550.txt\n",
      "test_10551.txt\n",
      "test_10552.txt\n",
      "test_10553.txt\n"
     ]
    },
    {
     "name": "stderr",
     "output_type": "stream",
     "text": [
      "\r",
      " 43%|███████████████▍                    | 10554/24526 [03:02<04:01, 57.96it/s]"
     ]
    },
    {
     "name": "stdout",
     "output_type": "stream",
     "text": [
      "test_10554.txt\n",
      "test_10555.txt\n",
      "test_10556.txt\n",
      "test_10557.txt\n",
      "test_10558.txt\n",
      "test_10559.txt\n",
      "test_10560.txt\n"
     ]
    },
    {
     "name": "stderr",
     "output_type": "stream",
     "text": [
      "\r",
      " 43%|███████████████▌                    | 10561/24526 [03:02<04:00, 57.95it/s]"
     ]
    },
    {
     "name": "stdout",
     "output_type": "stream",
     "text": [
      "test_10561.txt\n",
      "test_10562.txt\n",
      "test_10563.txt\n",
      "test_10564.txt\n",
      "test_10565.txt\n",
      "test_10566.txt\n"
     ]
    },
    {
     "name": "stderr",
     "output_type": "stream",
     "text": [
      "\r",
      " 43%|███████████████▌                    | 10567/24526 [03:02<04:00, 57.94it/s]"
     ]
    },
    {
     "name": "stdout",
     "output_type": "stream",
     "text": [
      "test_10567.txt\n",
      "test_10568.txt\n",
      "test_10569.txt\n",
      "test_10570.txt\n",
      "test_10571.txt\n",
      "test_10572.txt\n",
      "test_10573.txt\n"
     ]
    },
    {
     "name": "stderr",
     "output_type": "stream",
     "text": [
      "\r",
      " 43%|███████████████▌                    | 10574/24526 [03:02<04:00, 57.95it/s]"
     ]
    },
    {
     "name": "stdout",
     "output_type": "stream",
     "text": [
      "test_10574.txt\n",
      "test_10575.txt\n",
      "test_10576.txt\n",
      "test_10577.txt\n",
      "test_10578.txt\n",
      "test_10579.txt\n",
      "test_10580.txt\n",
      "test_10581.txt\n",
      "test_10582.txt\n",
      "test_10583.txt\n"
     ]
    },
    {
     "name": "stderr",
     "output_type": "stream",
     "text": [
      "\r",
      " 43%|███████████████▌                    | 10584/24526 [03:02<04:00, 57.96it/s]"
     ]
    },
    {
     "name": "stdout",
     "output_type": "stream",
     "text": [
      "test_10584.txt\n",
      "test_10585.txt\n",
      "test_10586.txt\n",
      "test_10587.txt\n",
      "test_10588.txt\n",
      "test_10589.txt\n",
      "test_10590.txt\n"
     ]
    },
    {
     "name": "stderr",
     "output_type": "stream",
     "text": [
      "\r",
      " 43%|███████████████▌                    | 10591/24526 [03:02<04:00, 57.96it/s]"
     ]
    },
    {
     "name": "stdout",
     "output_type": "stream",
     "text": [
      "test_10591.txt\n",
      "test_10592.txt\n",
      "test_10593.txt\n",
      "test_10594.txt\n",
      "test_10595.txt\n",
      "test_10596.txt\n",
      "test_10597.txt\n"
     ]
    },
    {
     "name": "stderr",
     "output_type": "stream",
     "text": [
      "\r",
      " 43%|███████████████▌                    | 10598/24526 [03:02<04:00, 57.96it/s]"
     ]
    },
    {
     "name": "stdout",
     "output_type": "stream",
     "text": [
      "test_10598.txt\n",
      "test_10599.txt\n",
      "test_10600.txt\n",
      "test_10601.txt\n",
      "test_10602.txt\n",
      "test_10603.txt\n",
      "test_10604.txt\n"
     ]
    },
    {
     "name": "stderr",
     "output_type": "stream",
     "text": [
      "\r",
      " 43%|███████████████▌                    | 10605/24526 [03:02<04:00, 57.96it/s]"
     ]
    },
    {
     "name": "stdout",
     "output_type": "stream",
     "text": [
      "test_10605.txt\n",
      "test_10606.txt\n",
      "test_10607.txt\n",
      "test_10608.txt\n",
      "test_10609.txt\n",
      "test_10610.txt\n",
      "test_10611.txt\n"
     ]
    },
    {
     "name": "stderr",
     "output_type": "stream",
     "text": [
      "\r",
      " 43%|███████████████▌                    | 10612/24526 [03:03<04:00, 57.96it/s]"
     ]
    },
    {
     "name": "stdout",
     "output_type": "stream",
     "text": [
      "test_10612.txt\n",
      "test_10613.txt\n",
      "test_10614.txt\n",
      "test_10615.txt\n",
      "test_10616.txt\n",
      "test_10617.txt\n"
     ]
    },
    {
     "name": "stderr",
     "output_type": "stream",
     "text": [
      "\r",
      " 43%|███████████████▌                    | 10618/24526 [03:03<03:59, 57.95it/s]"
     ]
    },
    {
     "name": "stdout",
     "output_type": "stream",
     "text": [
      "test_10618.txt\n",
      "test_10619.txt\n",
      "test_10620.txt\n",
      "test_10621.txt\n",
      "test_10622.txt\n",
      "test_10623.txt\n"
     ]
    },
    {
     "name": "stderr",
     "output_type": "stream",
     "text": [
      "\r",
      " 43%|███████████████▌                    | 10624/24526 [03:03<03:59, 57.96it/s]"
     ]
    },
    {
     "name": "stdout",
     "output_type": "stream",
     "text": [
      "test_10624.txt\n",
      "test_10625.txt\n",
      "test_10626.txt\n",
      "test_10627.txt\n",
      "test_10628.txt\n",
      "test_10629.txt\n"
     ]
    },
    {
     "name": "stderr",
     "output_type": "stream",
     "text": [
      "\r",
      " 43%|███████████████▌                    | 10630/24526 [03:03<03:59, 57.95it/s]"
     ]
    },
    {
     "name": "stdout",
     "output_type": "stream",
     "text": [
      "test_10630.txt\n",
      "test_10631.txt\n",
      "test_10632.txt\n",
      "test_10633.txt\n",
      "test_10634.txt\n",
      "test_10635.txt\n",
      "test_10636.txt\n"
     ]
    },
    {
     "name": "stderr",
     "output_type": "stream",
     "text": [
      "\r",
      " 43%|███████████████▌                    | 10637/24526 [03:03<03:59, 57.96it/s]"
     ]
    },
    {
     "name": "stdout",
     "output_type": "stream",
     "text": [
      "test_10637.txt\n",
      "test_10638.txt\n",
      "test_10639.txt\n",
      "test_10640.txt\n",
      "test_10641.txt\n",
      "test_10642.txt\n"
     ]
    },
    {
     "name": "stderr",
     "output_type": "stream",
     "text": [
      "\r",
      " 43%|███████████████▌                    | 10643/24526 [03:03<03:59, 57.96it/s]"
     ]
    },
    {
     "name": "stdout",
     "output_type": "stream",
     "text": [
      "test_10643.txt\n",
      "test_10644.txt\n",
      "test_10645.txt\n",
      "test_10646.txt\n",
      "test_10647.txt\n",
      "test_10648.txt\n",
      "test_10649.txt\n"
     ]
    },
    {
     "name": "stderr",
     "output_type": "stream",
     "text": [
      "\r",
      " 43%|███████████████▋                    | 10650/24526 [03:03<03:59, 57.96it/s]"
     ]
    },
    {
     "name": "stdout",
     "output_type": "stream",
     "text": [
      "test_10650.txt\n",
      "test_10651.txt\n",
      "test_10652.txt\n",
      "test_10653.txt\n",
      "test_10654.txt\n",
      "test_10655.txt\n"
     ]
    },
    {
     "name": "stderr",
     "output_type": "stream",
     "text": [
      "\r",
      " 43%|███████████████▋                    | 10656/24526 [03:03<03:59, 57.96it/s]"
     ]
    },
    {
     "name": "stdout",
     "output_type": "stream",
     "text": [
      "test_10656.txt\n",
      "test_10657.txt\n",
      "test_10658.txt\n",
      "test_10659.txt\n",
      "test_10660.txt\n",
      "test_10661.txt\n",
      "test_10662.txt\n",
      "test_10663.txt\n"
     ]
    },
    {
     "name": "stderr",
     "output_type": "stream",
     "text": [
      "\r",
      " 43%|███████████████▋                    | 10664/24526 [03:03<03:59, 57.97it/s]"
     ]
    },
    {
     "name": "stdout",
     "output_type": "stream",
     "text": [
      "test_10664.txt\n",
      "test_10665.txt\n",
      "test_10666.txt\n",
      "test_10667.txt\n",
      "test_10668.txt\n",
      "test_10669.txt\n",
      "test_10670.txt\n"
     ]
    },
    {
     "name": "stderr",
     "output_type": "stream",
     "text": [
      "\r",
      " 44%|███████████████▋                    | 10671/24526 [03:04<03:58, 57.97it/s]"
     ]
    },
    {
     "name": "stdout",
     "output_type": "stream",
     "text": [
      "test_10671.txt\n",
      "test_10672.txt\n",
      "test_10673.txt\n",
      "test_10674.txt\n",
      "test_10675.txt\n",
      "test_10676.txt\n",
      "test_10677.txt\n"
     ]
    },
    {
     "name": "stderr",
     "output_type": "stream",
     "text": [
      "\r",
      " 44%|███████████████▋                    | 10678/24526 [03:04<03:58, 57.97it/s]"
     ]
    },
    {
     "name": "stdout",
     "output_type": "stream",
     "text": [
      "test_10678.txt\n",
      "test_10679.txt\n",
      "test_10680.txt\n",
      "test_10681.txt\n",
      "test_10682.txt\n",
      "test_10683.txt\n",
      "test_10684.txt\n"
     ]
    },
    {
     "name": "stderr",
     "output_type": "stream",
     "text": [
      "\r",
      " 44%|███████████████▋                    | 10685/24526 [03:04<03:58, 57.97it/s]"
     ]
    },
    {
     "name": "stdout",
     "output_type": "stream",
     "text": [
      "test_10685.txt\n",
      "test_10686.txt\n",
      "test_10687.txt\n",
      "test_10688.txt\n",
      "test_10689.txt\n",
      "test_10690.txt\n",
      "test_10691.txt\n"
     ]
    },
    {
     "name": "stderr",
     "output_type": "stream",
     "text": [
      "\r",
      " 44%|███████████████▋                    | 10692/24526 [03:04<03:58, 57.97it/s]"
     ]
    },
    {
     "name": "stdout",
     "output_type": "stream",
     "text": [
      "test_10692.txt\n",
      "test_10693.txt\n",
      "test_10694.txt\n",
      "test_10695.txt\n",
      "test_10696.txt\n",
      "test_10697.txt\n",
      "test_10698.txt\n"
     ]
    },
    {
     "name": "stderr",
     "output_type": "stream",
     "text": [
      "\r",
      " 44%|███████████████▋                    | 10699/24526 [03:04<03:58, 57.98it/s]"
     ]
    },
    {
     "name": "stdout",
     "output_type": "stream",
     "text": [
      "test_10699.txt\n",
      "test_10700.txt\n",
      "test_10701.txt\n",
      "test_10702.txt\n",
      "test_10703.txt\n",
      "test_10704.txt\n",
      "test_10705.txt\n"
     ]
    },
    {
     "name": "stderr",
     "output_type": "stream",
     "text": [
      "\r",
      " 44%|███████████████▋                    | 10706/24526 [03:04<03:58, 57.97it/s]"
     ]
    },
    {
     "name": "stdout",
     "output_type": "stream",
     "text": [
      "test_10706.txt\n",
      "test_10707.txt\n",
      "test_10708.txt\n",
      "test_10709.txt\n",
      "test_10710.txt\n",
      "test_10711.txt\n"
     ]
    },
    {
     "name": "stderr",
     "output_type": "stream",
     "text": [
      "\r",
      " 44%|███████████████▋                    | 10712/24526 [03:04<03:58, 57.96it/s]"
     ]
    },
    {
     "name": "stdout",
     "output_type": "stream",
     "text": [
      "test_10712.txt\n",
      "test_10713.txt\n",
      "test_10714.txt\n",
      "test_10715.txt\n",
      "test_10716.txt\n",
      "test_10717.txt\n"
     ]
    },
    {
     "name": "stderr",
     "output_type": "stream",
     "text": [
      "\r",
      " 44%|███████████████▋                    | 10718/24526 [03:05<03:58, 57.93it/s]"
     ]
    },
    {
     "name": "stdout",
     "output_type": "stream",
     "text": [
      "test_10718.txt\n",
      "test_10719.txt\n",
      "test_10720.txt\n",
      "test_10721.txt\n",
      "test_10722.txt\n",
      "test_10723.txt\n"
     ]
    },
    {
     "name": "stderr",
     "output_type": "stream",
     "text": [
      "\r",
      " 44%|███████████████▋                    | 10724/24526 [03:05<03:58, 57.93it/s]"
     ]
    },
    {
     "name": "stdout",
     "output_type": "stream",
     "text": [
      "test_10724.txt\n",
      "test_10725.txt\n",
      "test_10726.txt\n",
      "test_10727.txt\n",
      "test_10728.txt\n",
      "test_10729.txt\n"
     ]
    },
    {
     "name": "stderr",
     "output_type": "stream",
     "text": [
      "\r",
      " 44%|███████████████▋                    | 10730/24526 [03:05<03:58, 57.93it/s]"
     ]
    },
    {
     "name": "stdout",
     "output_type": "stream",
     "text": [
      "test_10730.txt\n",
      "test_10731.txt\n",
      "test_10732.txt\n",
      "test_10733.txt\n",
      "test_10734.txt\n",
      "test_10735.txt\n",
      "test_10736.txt\n"
     ]
    },
    {
     "name": "stderr",
     "output_type": "stream",
     "text": [
      "\r",
      " 44%|███████████████▊                    | 10737/24526 [03:05<03:58, 57.93it/s]"
     ]
    },
    {
     "name": "stdout",
     "output_type": "stream",
     "text": [
      "test_10737.txt\n",
      "test_10738.txt\n",
      "test_10739.txt\n",
      "test_10740.txt\n",
      "test_10741.txt\n",
      "test_10742.txt\n"
     ]
    },
    {
     "name": "stderr",
     "output_type": "stream",
     "text": [
      "\r",
      " 44%|███████████████▊                    | 10743/24526 [03:05<03:57, 57.93it/s]"
     ]
    },
    {
     "name": "stdout",
     "output_type": "stream",
     "text": [
      "test_10743.txt\n",
      "test_10744.txt\n",
      "test_10745.txt\n",
      "test_10746.txt\n",
      "test_10747.txt\n",
      "test_10748.txt\n",
      "test_10749.txt\n",
      "test_10750.txt\n"
     ]
    },
    {
     "name": "stderr",
     "output_type": "stream",
     "text": [
      "\r",
      " 44%|███████████████▊                    | 10751/24526 [03:05<03:57, 57.93it/s]"
     ]
    },
    {
     "name": "stdout",
     "output_type": "stream",
     "text": [
      "test_10751.txt\n",
      "test_10752.txt\n",
      "test_10753.txt\n",
      "test_10754.txt\n",
      "test_10755.txt\n",
      "test_10756.txt\n"
     ]
    },
    {
     "name": "stderr",
     "output_type": "stream",
     "text": [
      "\r",
      " 44%|███████████████▊                    | 10757/24526 [03:05<03:57, 57.93it/s]"
     ]
    },
    {
     "name": "stdout",
     "output_type": "stream",
     "text": [
      "test_10757.txt\n",
      "test_10758.txt\n",
      "test_10759.txt\n",
      "test_10760.txt\n",
      "test_10761.txt\n",
      "test_10762.txt\n",
      "test_10763.txt\n"
     ]
    },
    {
     "name": "stderr",
     "output_type": "stream",
     "text": [
      "\r",
      " 44%|███████████████▊                    | 10764/24526 [03:05<03:57, 57.94it/s]"
     ]
    },
    {
     "name": "stdout",
     "output_type": "stream",
     "text": [
      "test_10764.txt\n",
      "test_10765.txt\n",
      "test_10766.txt\n",
      "test_10767.txt\n",
      "test_10768.txt\n",
      "test_10769.txt\n",
      "test_10770.txt\n"
     ]
    },
    {
     "name": "stderr",
     "output_type": "stream",
     "text": [
      "\r",
      " 44%|███████████████▊                    | 10771/24526 [03:05<03:57, 57.93it/s]"
     ]
    },
    {
     "name": "stdout",
     "output_type": "stream",
     "text": [
      "test_10771.txt\n",
      "test_10772.txt\n",
      "test_10773.txt\n",
      "test_10774.txt\n",
      "test_10775.txt\n",
      "test_10776.txt\n"
     ]
    },
    {
     "name": "stderr",
     "output_type": "stream",
     "text": [
      "\r",
      " 44%|███████████████▊                    | 10777/24526 [03:06<03:57, 57.92it/s]"
     ]
    },
    {
     "name": "stdout",
     "output_type": "stream",
     "text": [
      "test_10777.txt\n",
      "test_10778.txt\n",
      "test_10779.txt\n",
      "test_10780.txt\n",
      "test_10781.txt\n",
      "test_10782.txt\n",
      "test_10783.txt\n"
     ]
    },
    {
     "name": "stderr",
     "output_type": "stream",
     "text": [
      "\r",
      " 44%|███████████████▊                    | 10784/24526 [03:06<03:57, 57.93it/s]"
     ]
    },
    {
     "name": "stdout",
     "output_type": "stream",
     "text": [
      "test_10784.txt\n",
      "test_10785.txt\n",
      "test_10786.txt\n",
      "test_10787.txt\n",
      "test_10788.txt\n",
      "test_10789.txt\n"
     ]
    },
    {
     "name": "stderr",
     "output_type": "stream",
     "text": [
      "\r",
      " 44%|███████████████▊                    | 10790/24526 [03:06<03:57, 57.91it/s]"
     ]
    },
    {
     "name": "stdout",
     "output_type": "stream",
     "text": [
      "test_10790.txt\n",
      "test_10791.txt\n",
      "test_10792.txt\n",
      "test_10793.txt\n",
      "test_10794.txt\n",
      "test_10795.txt\n"
     ]
    },
    {
     "name": "stderr",
     "output_type": "stream",
     "text": [
      "\r",
      " 44%|███████████████▊                    | 10796/24526 [03:06<03:57, 57.91it/s]"
     ]
    },
    {
     "name": "stdout",
     "output_type": "stream",
     "text": [
      "test_10796.txt\n",
      "test_10797.txt\n",
      "test_10798.txt\n",
      "test_10799.txt\n",
      "test_10800.txt\n",
      "test_10801.txt\n"
     ]
    },
    {
     "name": "stderr",
     "output_type": "stream",
     "text": [
      "\r",
      " 44%|███████████████▊                    | 10802/24526 [03:06<03:56, 57.91it/s]"
     ]
    },
    {
     "name": "stdout",
     "output_type": "stream",
     "text": [
      "test_10802.txt\n",
      "test_10803.txt\n",
      "test_10804.txt\n",
      "test_10805.txt\n",
      "test_10806.txt\n",
      "test_10807.txt\n"
     ]
    },
    {
     "name": "stderr",
     "output_type": "stream",
     "text": [
      "\r",
      " 44%|███████████████▊                    | 10808/24526 [03:06<03:56, 57.90it/s]"
     ]
    },
    {
     "name": "stdout",
     "output_type": "stream",
     "text": [
      "test_10808.txt\n",
      "test_10809.txt\n",
      "test_10810.txt\n",
      "test_10811.txt\n",
      "test_10812.txt\n",
      "test_10813.txt\n",
      "test_10814.txt\n",
      "test_10815.txt\n"
     ]
    },
    {
     "name": "stderr",
     "output_type": "stream",
     "text": [
      "\r",
      " 44%|███████████████▉                    | 10816/24526 [03:06<03:56, 57.91it/s]"
     ]
    },
    {
     "name": "stdout",
     "output_type": "stream",
     "text": [
      "test_10816.txt\n",
      "test_10817.txt\n",
      "test_10818.txt\n",
      "test_10819.txt\n",
      "test_10820.txt\n",
      "test_10821.txt\n",
      "test_10822.txt\n"
     ]
    },
    {
     "name": "stderr",
     "output_type": "stream",
     "text": [
      "\r",
      " 44%|███████████████▉                    | 10823/24526 [03:06<03:56, 57.92it/s]"
     ]
    },
    {
     "name": "stdout",
     "output_type": "stream",
     "text": [
      "test_10823.txt\n",
      "test_10824.txt\n",
      "test_10825.txt\n",
      "test_10826.txt\n",
      "test_10827.txt\n",
      "test_10828.txt\n",
      "test_10829.txt\n"
     ]
    },
    {
     "name": "stderr",
     "output_type": "stream",
     "text": [
      "\r",
      " 44%|███████████████▉                    | 10830/24526 [03:07<03:56, 57.91it/s]"
     ]
    },
    {
     "name": "stdout",
     "output_type": "stream",
     "text": [
      "test_10830.txt\n",
      "test_10831.txt\n",
      "test_10832.txt\n",
      "test_10833.txt\n",
      "test_10834.txt\n",
      "test_10835.txt\n"
     ]
    },
    {
     "name": "stderr",
     "output_type": "stream",
     "text": [
      "\r",
      " 44%|███████████████▉                    | 10836/24526 [03:07<03:56, 57.91it/s]"
     ]
    },
    {
     "name": "stdout",
     "output_type": "stream",
     "text": [
      "test_10836.txt\n",
      "test_10837.txt\n",
      "test_10838.txt\n",
      "test_10839.txt\n",
      "test_10840.txt\n",
      "test_10841.txt\n",
      "test_10842.txt\n"
     ]
    },
    {
     "name": "stderr",
     "output_type": "stream",
     "text": [
      "\r",
      " 44%|███████████████▉                    | 10843/24526 [03:07<03:56, 57.91it/s]"
     ]
    },
    {
     "name": "stdout",
     "output_type": "stream",
     "text": [
      "test_10843.txt\n",
      "test_10844.txt\n",
      "test_10845.txt\n",
      "test_10846.txt\n",
      "test_10847.txt\n",
      "test_10848.txt\n",
      "test_10849.txt\n"
     ]
    },
    {
     "name": "stderr",
     "output_type": "stream",
     "text": [
      "\r",
      " 44%|███████████████▉                    | 10850/24526 [03:07<03:56, 57.91it/s]"
     ]
    },
    {
     "name": "stdout",
     "output_type": "stream",
     "text": [
      "test_10850.txt\n",
      "test_10851.txt\n",
      "test_10852.txt\n",
      "test_10853.txt\n",
      "test_10854.txt\n",
      "test_10855.txt\n",
      "test_10856.txt\n",
      "test_10857.txt\n"
     ]
    },
    {
     "name": "stderr",
     "output_type": "stream",
     "text": [
      "\r",
      " 44%|███████████████▉                    | 10858/24526 [03:07<03:55, 57.92it/s]"
     ]
    },
    {
     "name": "stdout",
     "output_type": "stream",
     "text": [
      "test_10858.txt\n",
      "test_10859.txt\n",
      "test_10860.txt\n",
      "test_10861.txt\n",
      "test_10862.txt\n",
      "test_10863.txt\n",
      "test_10864.txt\n"
     ]
    },
    {
     "name": "stderr",
     "output_type": "stream",
     "text": [
      "\r",
      " 44%|███████████████▉                    | 10865/24526 [03:07<03:55, 57.92it/s]"
     ]
    },
    {
     "name": "stdout",
     "output_type": "stream",
     "text": [
      "test_10865.txt\n",
      "test_10866.txt\n",
      "test_10867.txt\n",
      "test_10868.txt\n",
      "test_10869.txt\n",
      "test_10870.txt\n",
      "test_10871.txt\n"
     ]
    },
    {
     "name": "stderr",
     "output_type": "stream",
     "text": [
      "\r",
      " 44%|███████████████▉                    | 10872/24526 [03:07<03:55, 57.92it/s]"
     ]
    },
    {
     "name": "stdout",
     "output_type": "stream",
     "text": [
      "test_10872.txt\n",
      "test_10873.txt\n",
      "test_10874.txt\n",
      "test_10875.txt\n",
      "test_10876.txt\n",
      "test_10877.txt\n",
      "test_10878.txt\n"
     ]
    },
    {
     "name": "stderr",
     "output_type": "stream",
     "text": [
      "\r",
      " 44%|███████████████▉                    | 10879/24526 [03:07<03:55, 57.92it/s]"
     ]
    },
    {
     "name": "stdout",
     "output_type": "stream",
     "text": [
      "test_10879.txt\n",
      "test_10880.txt\n",
      "test_10881.txt\n",
      "test_10882.txt\n",
      "test_10883.txt\n",
      "test_10884.txt\n",
      "test_10885.txt\n"
     ]
    },
    {
     "name": "stderr",
     "output_type": "stream",
     "text": [
      "\r",
      " 44%|███████████████▉                    | 10886/24526 [03:07<03:55, 57.92it/s]"
     ]
    },
    {
     "name": "stdout",
     "output_type": "stream",
     "text": [
      "test_10886.txt\n",
      "test_10887.txt\n",
      "test_10888.txt\n",
      "test_10889.txt\n",
      "test_10890.txt\n",
      "test_10891.txt\n"
     ]
    },
    {
     "name": "stderr",
     "output_type": "stream",
     "text": [
      "\r",
      " 44%|███████████████▉                    | 10892/24526 [03:08<03:55, 57.92it/s]"
     ]
    },
    {
     "name": "stdout",
     "output_type": "stream",
     "text": [
      "test_10892.txt\n",
      "test_10893.txt\n",
      "test_10894.txt\n",
      "test_10895.txt\n",
      "test_10896.txt\n",
      "test_10897.txt\n"
     ]
    },
    {
     "name": "stderr",
     "output_type": "stream",
     "text": [
      "\r",
      " 44%|███████████████▉                    | 10898/24526 [03:08<03:55, 57.92it/s]"
     ]
    },
    {
     "name": "stdout",
     "output_type": "stream",
     "text": [
      "test_10898.txt\n",
      "test_10899.txt\n",
      "test_10900.txt\n",
      "test_10901.txt\n",
      "test_10902.txt\n",
      "test_10903.txt\n"
     ]
    },
    {
     "name": "stderr",
     "output_type": "stream",
     "text": [
      "\r",
      " 44%|████████████████                    | 10904/24526 [03:08<03:55, 57.91it/s]"
     ]
    },
    {
     "name": "stdout",
     "output_type": "stream",
     "text": [
      "test_10904.txt\n",
      "test_10905.txt\n",
      "test_10906.txt\n",
      "test_10907.txt\n",
      "test_10908.txt\n",
      "test_10909.txt\n",
      "test_10910.txt\n",
      "test_10911.txt\n"
     ]
    },
    {
     "name": "stderr",
     "output_type": "stream",
     "text": [
      "\r",
      " 44%|████████████████                    | 10912/24526 [03:08<03:55, 57.92it/s]"
     ]
    },
    {
     "name": "stdout",
     "output_type": "stream",
     "text": [
      "test_10912.txt\n",
      "test_10913.txt\n",
      "test_10914.txt\n",
      "test_10915.txt\n",
      "test_10916.txt\n",
      "test_10917.txt\n",
      "test_10918.txt\n"
     ]
    },
    {
     "name": "stderr",
     "output_type": "stream",
     "text": [
      "\r",
      " 45%|████████████████                    | 10919/24526 [03:08<03:54, 57.92it/s]"
     ]
    },
    {
     "name": "stdout",
     "output_type": "stream",
     "text": [
      "test_10919.txt\n",
      "test_10920.txt\n",
      "test_10921.txt\n",
      "test_10922.txt\n",
      "test_10923.txt\n",
      "test_10924.txt\n",
      "test_10925.txt\n"
     ]
    },
    {
     "name": "stderr",
     "output_type": "stream",
     "text": [
      "\r",
      " 45%|████████████████                    | 10926/24526 [03:08<03:54, 57.91it/s]"
     ]
    },
    {
     "name": "stdout",
     "output_type": "stream",
     "text": [
      "test_10926.txt\n",
      "test_10927.txt\n",
      "test_10928.txt\n",
      "test_10929.txt\n",
      "test_10930.txt\n",
      "test_10931.txt\n"
     ]
    },
    {
     "name": "stderr",
     "output_type": "stream",
     "text": [
      "\r",
      " 45%|████████████████                    | 10932/24526 [03:09<03:56, 57.59it/s]"
     ]
    },
    {
     "name": "stdout",
     "output_type": "stream",
     "text": [
      "test_10932.txt\n",
      "test_10933.txt\n",
      "test_10934.txt\n",
      "test_10935.txt\n",
      "test_10936.txt\n",
      "test_10937.txt\n",
      "test_10938.txt\n"
     ]
    },
    {
     "name": "stderr",
     "output_type": "stream",
     "text": [
      "\r",
      " 45%|████████████████                    | 10939/24526 [03:09<03:55, 57.59it/s]"
     ]
    },
    {
     "name": "stdout",
     "output_type": "stream",
     "text": [
      "test_10939.txt\n",
      "test_10940.txt\n",
      "test_10941.txt\n",
      "test_10942.txt\n",
      "test_10943.txt\n",
      "test_10944.txt\n",
      "test_10945.txt\n"
     ]
    },
    {
     "name": "stderr",
     "output_type": "stream",
     "text": [
      "\r",
      " 45%|████████████████                    | 10946/24526 [03:10<03:55, 57.59it/s]"
     ]
    },
    {
     "name": "stdout",
     "output_type": "stream",
     "text": [
      "test_10946.txt\n",
      "test_10947.txt\n",
      "test_10948.txt\n",
      "test_10949.txt\n",
      "test_10950.txt\n",
      "test_10951.txt\n"
     ]
    },
    {
     "name": "stderr",
     "output_type": "stream",
     "text": [
      "\r",
      " 45%|████████████████                    | 10952/24526 [03:10<03:55, 57.57it/s]"
     ]
    },
    {
     "name": "stdout",
     "output_type": "stream",
     "text": [
      "test_10952.txt\n",
      "test_10953.txt\n",
      "test_10954.txt\n",
      "test_10955.txt\n",
      "test_10956.txt\n",
      "test_10957.txt\n"
     ]
    },
    {
     "name": "stderr",
     "output_type": "stream",
     "text": [
      "\r",
      " 45%|████████████████                    | 10958/24526 [03:10<03:55, 57.56it/s]"
     ]
    },
    {
     "name": "stdout",
     "output_type": "stream",
     "text": [
      "test_10958.txt\n",
      "test_10959.txt\n",
      "test_10960.txt\n",
      "test_10961.txt\n",
      "test_10962.txt\n"
     ]
    },
    {
     "name": "stderr",
     "output_type": "stream",
     "text": [
      "\r",
      " 45%|████████████████                    | 10963/24526 [03:10<03:55, 57.52it/s]"
     ]
    },
    {
     "name": "stdout",
     "output_type": "stream",
     "text": [
      "test_10963.txt\n",
      "test_10964.txt\n",
      "test_10965.txt\n",
      "test_10966.txt\n"
     ]
    },
    {
     "name": "stderr",
     "output_type": "stream",
     "text": [
      "\r",
      " 45%|████████████████                    | 10967/24526 [03:10<03:55, 57.51it/s]"
     ]
    },
    {
     "name": "stdout",
     "output_type": "stream",
     "text": [
      "test_10967.txt\n",
      "test_10968.txt\n",
      "test_10969.txt\n",
      "test_10970.txt\n"
     ]
    },
    {
     "name": "stderr",
     "output_type": "stream",
     "text": [
      "\r",
      " 45%|████████████████                    | 10971/24526 [03:10<03:55, 57.50it/s]"
     ]
    },
    {
     "name": "stdout",
     "output_type": "stream",
     "text": [
      "test_10971.txt\n",
      "test_10972.txt\n",
      "test_10973.txt\n",
      "test_10974.txt\n"
     ]
    },
    {
     "name": "stderr",
     "output_type": "stream",
     "text": [
      "\r",
      " 45%|████████████████                    | 10975/24526 [03:10<03:55, 57.49it/s]"
     ]
    },
    {
     "name": "stdout",
     "output_type": "stream",
     "text": [
      "test_10975.txt\n",
      "test_10976.txt\n",
      "test_10977.txt\n",
      "test_10978.txt\n"
     ]
    },
    {
     "name": "stderr",
     "output_type": "stream",
     "text": [
      "\r",
      " 45%|████████████████                    | 10979/24526 [03:11<03:55, 57.47it/s]"
     ]
    },
    {
     "name": "stdout",
     "output_type": "stream",
     "text": [
      "test_10979.txt\n",
      "test_10980.txt\n",
      "test_10981.txt\n",
      "test_10982.txt\n"
     ]
    },
    {
     "name": "stderr",
     "output_type": "stream",
     "text": [
      "\r",
      " 45%|████████████████                    | 10983/24526 [03:11<03:55, 57.45it/s]"
     ]
    },
    {
     "name": "stdout",
     "output_type": "stream",
     "text": [
      "test_10983.txt\n",
      "test_10984.txt\n",
      "test_10985.txt\n",
      "test_10986.txt\n"
     ]
    },
    {
     "name": "stderr",
     "output_type": "stream",
     "text": [
      "\r",
      " 45%|████████████████▏                   | 10987/24526 [03:11<03:55, 57.43it/s]"
     ]
    },
    {
     "name": "stdout",
     "output_type": "stream",
     "text": [
      "test_10987.txt\n",
      "test_10988.txt\n",
      "test_10989.txt\n",
      "test_10990.txt\n"
     ]
    },
    {
     "name": "stderr",
     "output_type": "stream",
     "text": [
      "\r",
      " 45%|████████████████▏                   | 10991/24526 [03:11<03:55, 57.41it/s]"
     ]
    },
    {
     "name": "stdout",
     "output_type": "stream",
     "text": [
      "test_10991.txt\n",
      "test_10992.txt\n",
      "test_10993.txt\n",
      "test_10994.txt\n"
     ]
    },
    {
     "name": "stderr",
     "output_type": "stream",
     "text": [
      "\r",
      " 45%|████████████████▏                   | 10995/24526 [03:12<03:56, 57.14it/s]"
     ]
    },
    {
     "name": "stdout",
     "output_type": "stream",
     "text": [
      "test_10995.txt\n",
      "test_10996.txt\n",
      "test_10997.txt\n",
      "test_10998.txt\n",
      "test_10999.txt\n"
     ]
    },
    {
     "name": "stderr",
     "output_type": "stream",
     "text": [
      "\r",
      " 45%|████████████████▏                   | 11000/24526 [03:12<03:56, 57.11it/s]"
     ]
    },
    {
     "name": "stdout",
     "output_type": "stream",
     "text": [
      "test_11000.txt\n",
      "test_11001.txt\n",
      "test_11002.txt\n"
     ]
    },
    {
     "name": "stderr",
     "output_type": "stream",
     "text": [
      "\r",
      " 45%|████████████████▏                   | 11003/24526 [03:13<03:57, 56.99it/s]"
     ]
    },
    {
     "name": "stdout",
     "output_type": "stream",
     "text": [
      "test_11003.txt\n",
      "test_11004.txt\n"
     ]
    },
    {
     "name": "stderr",
     "output_type": "stream",
     "text": [
      "\r",
      " 45%|████████████████▏                   | 11005/24526 [03:13<03:57, 56.97it/s]"
     ]
    },
    {
     "name": "stdout",
     "output_type": "stream",
     "text": [
      "test_11005.txt\n",
      "test_11006.txt\n",
      "test_11007.txt\n",
      "test_11008.txt\n"
     ]
    },
    {
     "name": "stderr",
     "output_type": "stream",
     "text": [
      "\r",
      " 45%|████████████████▏                   | 11009/24526 [03:13<03:57, 56.96it/s]"
     ]
    },
    {
     "name": "stdout",
     "output_type": "stream",
     "text": [
      "test_11009.txt\n",
      "test_11010.txt\n",
      "test_11011.txt\n"
     ]
    },
    {
     "name": "stderr",
     "output_type": "stream",
     "text": [
      "\r",
      " 45%|████████████████▏                   | 11012/24526 [03:13<03:58, 56.77it/s]"
     ]
    },
    {
     "name": "stdout",
     "output_type": "stream",
     "text": [
      "test_11012.txt\n",
      "test_11013.txt\n",
      "test_11014.txt\n"
     ]
    },
    {
     "name": "stderr",
     "output_type": "stream",
     "text": [
      "\r",
      " 45%|████████████████▏                   | 11015/24526 [03:14<03:58, 56.73it/s]"
     ]
    },
    {
     "name": "stdout",
     "output_type": "stream",
     "text": [
      "test_11015.txt\n",
      "test_11016.txt\n",
      "test_11017.txt\n",
      "test_11018.txt\n"
     ]
    },
    {
     "name": "stderr",
     "output_type": "stream",
     "text": [
      "\r",
      " 45%|████████████████▏                   | 11019/24526 [03:14<03:58, 56.72it/s]"
     ]
    },
    {
     "name": "stdout",
     "output_type": "stream",
     "text": [
      "test_11019.txt\n",
      "test_11020.txt\n",
      "test_11021.txt\n",
      "test_11022.txt\n"
     ]
    },
    {
     "name": "stderr",
     "output_type": "stream",
     "text": [
      "\r",
      " 45%|████████████████▏                   | 11023/24526 [03:14<03:58, 56.71it/s]"
     ]
    },
    {
     "name": "stdout",
     "output_type": "stream",
     "text": [
      "test_11023.txt\n",
      "test_11024.txt\n",
      "test_11025.txt\n",
      "test_11026.txt\n"
     ]
    },
    {
     "name": "stderr",
     "output_type": "stream",
     "text": [
      "\r",
      " 45%|████████████████▏                   | 11027/24526 [03:14<03:58, 56.70it/s]"
     ]
    },
    {
     "name": "stdout",
     "output_type": "stream",
     "text": [
      "test_11027.txt\n",
      "test_11028.txt\n",
      "test_11029.txt\n",
      "test_11030.txt\n",
      "test_11031.txt\n",
      "test_11032.txt\n"
     ]
    },
    {
     "name": "stderr",
     "output_type": "stream",
     "text": [
      "\r",
      " 45%|████████████████▏                   | 11033/24526 [03:14<03:57, 56.70it/s]"
     ]
    },
    {
     "name": "stdout",
     "output_type": "stream",
     "text": [
      "test_11033.txt\n",
      "test_11034.txt\n",
      "test_11035.txt\n",
      "test_11036.txt\n",
      "test_11037.txt\n",
      "test_11038.txt\n",
      "test_11039.txt\n",
      "test_11040.txt\n"
     ]
    },
    {
     "name": "stderr",
     "output_type": "stream",
     "text": [
      "\r",
      " 45%|████████████████▏                   | 11041/24526 [03:14<03:57, 56.71it/s]"
     ]
    },
    {
     "name": "stdout",
     "output_type": "stream",
     "text": [
      "test_11041.txt\n",
      "test_11042.txt\n",
      "test_11043.txt\n",
      "test_11044.txt\n",
      "test_11045.txt\n"
     ]
    },
    {
     "name": "stderr",
     "output_type": "stream",
     "text": [
      "\r",
      " 45%|████████████████▏                   | 11046/24526 [03:14<03:57, 56.71it/s]"
     ]
    },
    {
     "name": "stdout",
     "output_type": "stream",
     "text": [
      "test_11046.txt\n",
      "test_11047.txt\n",
      "test_11048.txt\n",
      "test_11049.txt\n",
      "test_11050.txt\n"
     ]
    },
    {
     "name": "stderr",
     "output_type": "stream",
     "text": [
      "\r",
      " 45%|████████████████▏                   | 11051/24526 [03:14<03:57, 56.70it/s]"
     ]
    },
    {
     "name": "stdout",
     "output_type": "stream",
     "text": [
      "test_11051.txt\n",
      "test_11052.txt\n",
      "test_11053.txt\n",
      "test_11054.txt\n",
      "test_11055.txt\n",
      "test_11056.txt\n",
      "test_11057.txt\n"
     ]
    },
    {
     "name": "stderr",
     "output_type": "stream",
     "text": [
      "\r",
      " 45%|████████████████▏                   | 11058/24526 [03:15<03:57, 56.70it/s]"
     ]
    },
    {
     "name": "stdout",
     "output_type": "stream",
     "text": [
      "test_11058.txt\n",
      "test_11059.txt\n",
      "test_11060.txt\n",
      "test_11061.txt\n",
      "test_11062.txt\n",
      "test_11063.txt\n"
     ]
    },
    {
     "name": "stderr",
     "output_type": "stream",
     "text": [
      "\r",
      " 45%|████████████████▏                   | 11064/24526 [03:15<03:57, 56.70it/s]"
     ]
    },
    {
     "name": "stdout",
     "output_type": "stream",
     "text": [
      "test_11064.txt\n",
      "test_11065.txt\n",
      "test_11066.txt\n",
      "test_11067.txt\n",
      "test_11068.txt\n",
      "test_11069.txt\n"
     ]
    },
    {
     "name": "stderr",
     "output_type": "stream",
     "text": [
      "\r",
      " 45%|████████████████▏                   | 11070/24526 [03:15<03:57, 56.70it/s]"
     ]
    },
    {
     "name": "stdout",
     "output_type": "stream",
     "text": [
      "test_11070.txt\n",
      "test_11071.txt\n",
      "test_11072.txt\n",
      "test_11073.txt\n",
      "test_11074.txt\n",
      "test_11075.txt\n"
     ]
    },
    {
     "name": "stderr",
     "output_type": "stream",
     "text": [
      "\r",
      " 45%|████████████████▎                   | 11076/24526 [03:15<03:57, 56.69it/s]"
     ]
    },
    {
     "name": "stdout",
     "output_type": "stream",
     "text": [
      "test_11076.txt\n",
      "test_11077.txt\n",
      "test_11078.txt\n",
      "test_11079.txt\n",
      "test_11080.txt\n",
      "test_11081.txt\n",
      "test_11082.txt\n"
     ]
    },
    {
     "name": "stderr",
     "output_type": "stream",
     "text": [
      "\r",
      " 45%|████████████████▎                   | 11083/24526 [03:15<03:57, 56.69it/s]"
     ]
    },
    {
     "name": "stdout",
     "output_type": "stream",
     "text": [
      "test_11083.txt\n",
      "test_11084.txt\n",
      "test_11085.txt\n",
      "test_11086.txt\n",
      "test_11087.txt\n",
      "test_11088.txt\n"
     ]
    },
    {
     "name": "stderr",
     "output_type": "stream",
     "text": [
      "\r",
      " 45%|████████████████▎                   | 11089/24526 [03:15<03:57, 56.69it/s]"
     ]
    },
    {
     "name": "stdout",
     "output_type": "stream",
     "text": [
      "test_11089.txt\n",
      "test_11090.txt\n",
      "test_11091.txt\n",
      "test_11092.txt\n",
      "test_11093.txt\n",
      "test_11094.txt\n",
      "test_11095.txt\n"
     ]
    },
    {
     "name": "stderr",
     "output_type": "stream",
     "text": [
      "\r",
      " 45%|████████████████▎                   | 11096/24526 [03:15<03:56, 56.69it/s]"
     ]
    },
    {
     "name": "stdout",
     "output_type": "stream",
     "text": [
      "test_11096.txt\n",
      "test_11097.txt\n",
      "test_11098.txt\n",
      "test_11099.txt\n",
      "test_11100.txt\n",
      "test_11101.txt\n",
      "test_11102.txt\n"
     ]
    },
    {
     "name": "stderr",
     "output_type": "stream",
     "text": [
      "\r",
      " 45%|████████████████▎                   | 11103/24526 [03:15<03:56, 56.69it/s]"
     ]
    },
    {
     "name": "stdout",
     "output_type": "stream",
     "text": [
      "test_11103.txt\n",
      "test_11104.txt\n",
      "test_11105.txt\n",
      "test_11106.txt\n",
      "test_11107.txt\n",
      "test_11108.txt\n",
      "test_11109.txt\n"
     ]
    },
    {
     "name": "stderr",
     "output_type": "stream",
     "text": [
      "\r",
      " 45%|████████████████▎                   | 11110/24526 [03:15<03:56, 56.70it/s]"
     ]
    },
    {
     "name": "stdout",
     "output_type": "stream",
     "text": [
      "test_11110.txt\n",
      "test_11111.txt\n",
      "test_11112.txt\n",
      "test_11113.txt\n",
      "test_11114.txt\n",
      "test_11115.txt\n",
      "test_11116.txt\n"
     ]
    },
    {
     "name": "stderr",
     "output_type": "stream",
     "text": [
      "\r",
      " 45%|████████████████▎                   | 11117/24526 [03:16<03:56, 56.70it/s]"
     ]
    },
    {
     "name": "stdout",
     "output_type": "stream",
     "text": [
      "test_11117.txt\n",
      "test_11118.txt\n",
      "test_11119.txt\n",
      "test_11120.txt\n",
      "test_11121.txt\n",
      "test_11122.txt\n",
      "test_11123.txt\n"
     ]
    },
    {
     "name": "stderr",
     "output_type": "stream",
     "text": [
      "\r",
      " 45%|████████████████▎                   | 11124/24526 [03:16<03:56, 56.71it/s]"
     ]
    },
    {
     "name": "stdout",
     "output_type": "stream",
     "text": [
      "test_11124.txt\n",
      "test_11125.txt\n",
      "test_11126.txt\n",
      "test_11127.txt\n",
      "test_11128.txt\n",
      "test_11129.txt\n",
      "test_11130.txt\n"
     ]
    },
    {
     "name": "stderr",
     "output_type": "stream",
     "text": [
      "\r",
      " 45%|████████████████▎                   | 11131/24526 [03:16<03:56, 56.70it/s]"
     ]
    },
    {
     "name": "stdout",
     "output_type": "stream",
     "text": [
      "test_11131.txt\n",
      "test_11132.txt\n",
      "test_11133.txt\n",
      "test_11134.txt\n",
      "test_11135.txt\n",
      "test_11136.txt\n"
     ]
    },
    {
     "name": "stderr",
     "output_type": "stream",
     "text": [
      "\r",
      " 45%|████████████████▎                   | 11137/24526 [03:16<03:56, 56.70it/s]"
     ]
    },
    {
     "name": "stdout",
     "output_type": "stream",
     "text": [
      "test_11137.txt\n",
      "test_11138.txt\n",
      "test_11139.txt\n",
      "test_11140.txt\n",
      "test_11141.txt\n",
      "test_11142.txt\n"
     ]
    },
    {
     "name": "stderr",
     "output_type": "stream",
     "text": [
      "\r",
      " 45%|████████████████▎                   | 11143/24526 [03:16<03:56, 56.70it/s]"
     ]
    },
    {
     "name": "stdout",
     "output_type": "stream",
     "text": [
      "test_11143.txt\n",
      "test_11144.txt\n",
      "test_11145.txt\n",
      "test_11146.txt\n",
      "test_11147.txt\n",
      "test_11148.txt\n"
     ]
    },
    {
     "name": "stderr",
     "output_type": "stream",
     "text": [
      "\r",
      " 45%|████████████████▎                   | 11149/24526 [03:16<03:55, 56.70it/s]"
     ]
    },
    {
     "name": "stdout",
     "output_type": "stream",
     "text": [
      "test_11149.txt\n",
      "test_11150.txt\n",
      "test_11151.txt\n",
      "test_11152.txt\n",
      "test_11153.txt\n",
      "test_11154.txt\n"
     ]
    },
    {
     "name": "stderr",
     "output_type": "stream",
     "text": [
      "\r",
      " 45%|████████████████▎                   | 11155/24526 [03:16<03:55, 56.70it/s]"
     ]
    },
    {
     "name": "stdout",
     "output_type": "stream",
     "text": [
      "test_11155.txt\n",
      "test_11156.txt\n",
      "test_11157.txt\n",
      "test_11158.txt\n",
      "test_11159.txt\n",
      "test_11160.txt\n",
      "test_11161.txt\n"
     ]
    },
    {
     "name": "stderr",
     "output_type": "stream",
     "text": [
      "\r",
      " 46%|████████████████▍                   | 11162/24526 [03:16<03:55, 56.70it/s]"
     ]
    },
    {
     "name": "stdout",
     "output_type": "stream",
     "text": [
      "test_11162.txt\n",
      "test_11163.txt\n",
      "test_11164.txt\n",
      "test_11165.txt\n",
      "test_11166.txt\n",
      "test_11167.txt\n",
      "test_11168.txt\n"
     ]
    },
    {
     "name": "stderr",
     "output_type": "stream",
     "text": [
      "\r",
      " 46%|████████████████▍                   | 11169/24526 [03:16<03:55, 56.70it/s]"
     ]
    },
    {
     "name": "stdout",
     "output_type": "stream",
     "text": [
      "test_11169.txt\n",
      "test_11170.txt\n",
      "test_11171.txt\n",
      "test_11172.txt\n",
      "test_11173.txt\n",
      "test_11174.txt\n",
      "test_11175.txt\n"
     ]
    },
    {
     "name": "stderr",
     "output_type": "stream",
     "text": [
      "\r",
      " 46%|████████████████▍                   | 11176/24526 [03:17<03:55, 56.70it/s]"
     ]
    },
    {
     "name": "stdout",
     "output_type": "stream",
     "text": [
      "test_11176.txt\n",
      "test_11177.txt\n",
      "test_11178.txt\n",
      "test_11179.txt\n",
      "test_11180.txt\n",
      "test_11181.txt\n",
      "test_11182.txt\n",
      "test_11183.txt\n"
     ]
    },
    {
     "name": "stderr",
     "output_type": "stream",
     "text": [
      "\r",
      " 46%|████████████████▍                   | 11184/24526 [03:17<03:55, 56.71it/s]"
     ]
    },
    {
     "name": "stdout",
     "output_type": "stream",
     "text": [
      "test_11184.txt\n",
      "test_11185.txt\n",
      "test_11186.txt\n",
      "test_11187.txt\n",
      "test_11188.txt\n",
      "test_11189.txt\n",
      "test_11190.txt\n"
     ]
    },
    {
     "name": "stderr",
     "output_type": "stream",
     "text": [
      "\r",
      " 46%|████████████████▍                   | 11191/24526 [03:17<03:55, 56.70it/s]"
     ]
    },
    {
     "name": "stdout",
     "output_type": "stream",
     "text": [
      "test_11191.txt\n",
      "test_11192.txt\n",
      "test_11193.txt\n",
      "test_11194.txt\n",
      "test_11195.txt\n",
      "test_11196.txt\n",
      "test_11197.txt\n",
      "test_11198.txt\n",
      "test_11199.txt\n"
     ]
    },
    {
     "name": "stderr",
     "output_type": "stream",
     "text": [
      "\r",
      " 46%|████████████████▍                   | 11200/24526 [03:17<03:54, 56.72it/s]"
     ]
    },
    {
     "name": "stdout",
     "output_type": "stream",
     "text": [
      "test_11200.txt\n",
      "test_11201.txt\n",
      "test_11202.txt\n",
      "test_11203.txt\n",
      "test_11204.txt\n",
      "test_11205.txt\n",
      "test_11206.txt\n"
     ]
    },
    {
     "name": "stderr",
     "output_type": "stream",
     "text": [
      "\r",
      " 46%|████████████████▍                   | 11207/24526 [03:17<03:54, 56.72it/s]"
     ]
    },
    {
     "name": "stdout",
     "output_type": "stream",
     "text": [
      "test_11207.txt\n",
      "test_11208.txt\n",
      "test_11209.txt\n",
      "test_11210.txt\n",
      "test_11211.txt\n",
      "test_11212.txt\n",
      "test_11213.txt\n"
     ]
    },
    {
     "name": "stderr",
     "output_type": "stream",
     "text": [
      "\r",
      " 46%|████████████████▍                   | 11214/24526 [03:17<03:54, 56.72it/s]"
     ]
    },
    {
     "name": "stdout",
     "output_type": "stream",
     "text": [
      "test_11214.txt\n",
      "test_11215.txt\n",
      "test_11216.txt\n",
      "test_11217.txt\n",
      "test_11218.txt\n",
      "test_11219.txt\n",
      "test_11220.txt\n"
     ]
    },
    {
     "name": "stderr",
     "output_type": "stream",
     "text": [
      "\r",
      " 46%|████████████████▍                   | 11221/24526 [03:17<03:54, 56.72it/s]"
     ]
    },
    {
     "name": "stdout",
     "output_type": "stream",
     "text": [
      "test_11221.txt\n",
      "test_11222.txt\n",
      "test_11223.txt\n",
      "test_11224.txt\n",
      "test_11225.txt\n",
      "test_11226.txt\n",
      "test_11227.txt\n"
     ]
    },
    {
     "name": "stderr",
     "output_type": "stream",
     "text": [
      "\r",
      " 46%|████████████████▍                   | 11228/24526 [03:17<03:54, 56.72it/s]"
     ]
    },
    {
     "name": "stdout",
     "output_type": "stream",
     "text": [
      "test_11228.txt\n",
      "test_11229.txt\n",
      "test_11230.txt\n",
      "test_11231.txt\n",
      "test_11232.txt\n",
      "test_11233.txt\n"
     ]
    },
    {
     "name": "stderr",
     "output_type": "stream",
     "text": [
      "\r",
      " 46%|████████████████▍                   | 11234/24526 [03:18<03:54, 56.71it/s]"
     ]
    },
    {
     "name": "stdout",
     "output_type": "stream",
     "text": [
      "test_11234.txt\n",
      "test_11235.txt\n",
      "test_11236.txt\n",
      "test_11237.txt\n",
      "test_11238.txt\n",
      "test_11239.txt\n"
     ]
    },
    {
     "name": "stderr",
     "output_type": "stream",
     "text": [
      "\r",
      " 46%|████████████████▍                   | 11240/24526 [03:18<03:54, 56.70it/s]"
     ]
    },
    {
     "name": "stdout",
     "output_type": "stream",
     "text": [
      "test_11240.txt\n",
      "test_11241.txt\n",
      "test_11242.txt\n",
      "test_11243.txt\n",
      "test_11244.txt\n",
      "test_11245.txt\n"
     ]
    },
    {
     "name": "stderr",
     "output_type": "stream",
     "text": [
      "\r",
      " 46%|████████████████▌                   | 11246/24526 [03:18<03:54, 56.70it/s]"
     ]
    },
    {
     "name": "stdout",
     "output_type": "stream",
     "text": [
      "test_11246.txt\n",
      "test_11247.txt\n",
      "test_11248.txt\n",
      "test_11249.txt\n",
      "test_11250.txt\n",
      "test_11251.txt\n"
     ]
    },
    {
     "name": "stderr",
     "output_type": "stream",
     "text": [
      "\r",
      " 46%|████████████████▌                   | 11252/24526 [03:18<03:54, 56.70it/s]"
     ]
    },
    {
     "name": "stdout",
     "output_type": "stream",
     "text": [
      "test_11252.txt\n",
      "test_11253.txt\n",
      "test_11254.txt\n",
      "test_11255.txt\n",
      "test_11256.txt\n",
      "test_11257.txt\n"
     ]
    },
    {
     "name": "stderr",
     "output_type": "stream",
     "text": [
      "\r",
      " 46%|████████████████▌                   | 11258/24526 [03:18<03:53, 56.70it/s]"
     ]
    },
    {
     "name": "stdout",
     "output_type": "stream",
     "text": [
      "test_11258.txt\n",
      "test_11259.txt\n",
      "test_11260.txt\n",
      "test_11261.txt\n",
      "test_11262.txt\n",
      "test_11263.txt\n"
     ]
    },
    {
     "name": "stderr",
     "output_type": "stream",
     "text": [
      "\r",
      " 46%|████████████████▌                   | 11264/24526 [03:18<03:53, 56.70it/s]"
     ]
    },
    {
     "name": "stdout",
     "output_type": "stream",
     "text": [
      "test_11264.txt\n",
      "test_11265.txt\n",
      "test_11266.txt\n",
      "test_11267.txt\n",
      "test_11268.txt\n",
      "test_11269.txt\n",
      "test_11270.txt\n"
     ]
    },
    {
     "name": "stderr",
     "output_type": "stream",
     "text": [
      "\r",
      " 46%|████████████████▌                   | 11271/24526 [03:18<03:53, 56.70it/s]"
     ]
    },
    {
     "name": "stdout",
     "output_type": "stream",
     "text": [
      "test_11271.txt\n",
      "test_11272.txt\n",
      "test_11273.txt\n",
      "test_11274.txt\n",
      "test_11275.txt\n",
      "test_11276.txt\n",
      "test_11277.txt\n"
     ]
    },
    {
     "name": "stderr",
     "output_type": "stream",
     "text": [
      "\r",
      " 46%|████████████████▌                   | 11278/24526 [03:18<03:53, 56.71it/s]"
     ]
    },
    {
     "name": "stdout",
     "output_type": "stream",
     "text": [
      "test_11278.txt\n",
      "test_11279.txt\n",
      "test_11280.txt\n",
      "test_11281.txt\n",
      "test_11282.txt\n",
      "test_11283.txt\n"
     ]
    },
    {
     "name": "stderr",
     "output_type": "stream",
     "text": [
      "\r",
      " 46%|████████████████▌                   | 11284/24526 [03:18<03:53, 56.71it/s]"
     ]
    },
    {
     "name": "stdout",
     "output_type": "stream",
     "text": [
      "test_11284.txt\n",
      "test_11285.txt\n",
      "test_11286.txt\n",
      "test_11287.txt\n",
      "test_11288.txt\n",
      "test_11289.txt\n",
      "test_11290.txt\n",
      "test_11291.txt\n"
     ]
    },
    {
     "name": "stderr",
     "output_type": "stream",
     "text": [
      "\r",
      " 46%|████████████████▌                   | 11292/24526 [03:19<03:53, 56.72it/s]"
     ]
    },
    {
     "name": "stdout",
     "output_type": "stream",
     "text": [
      "test_11292.txt\n",
      "test_11293.txt\n",
      "test_11294.txt\n",
      "test_11295.txt\n",
      "test_11296.txt\n",
      "test_11297.txt\n",
      "test_11298.txt\n"
     ]
    },
    {
     "name": "stderr",
     "output_type": "stream",
     "text": [
      "\r",
      " 46%|████████████████▌                   | 11299/24526 [03:19<03:53, 56.72it/s]"
     ]
    },
    {
     "name": "stdout",
     "output_type": "stream",
     "text": [
      "test_11299.txt\n",
      "test_11300.txt\n",
      "test_11301.txt\n",
      "test_11302.txt\n",
      "test_11303.txt\n",
      "test_11304.txt\n",
      "test_11305.txt\n"
     ]
    },
    {
     "name": "stderr",
     "output_type": "stream",
     "text": [
      "\r",
      " 46%|████████████████▌                   | 11306/24526 [03:19<03:53, 56.72it/s]"
     ]
    },
    {
     "name": "stdout",
     "output_type": "stream",
     "text": [
      "test_11306.txt\n",
      "test_11307.txt\n",
      "test_11308.txt\n",
      "test_11309.txt\n",
      "test_11310.txt\n",
      "test_11311.txt\n",
      "test_11312.txt\n"
     ]
    },
    {
     "name": "stderr",
     "output_type": "stream",
     "text": [
      "\r",
      " 46%|████████████████▌                   | 11313/24526 [03:19<03:52, 56.72it/s]"
     ]
    },
    {
     "name": "stdout",
     "output_type": "stream",
     "text": [
      "test_11313.txt\n",
      "test_11314.txt\n",
      "test_11315.txt\n",
      "test_11316.txt\n",
      "test_11317.txt\n",
      "test_11318.txt\n",
      "test_11319.txt\n"
     ]
    },
    {
     "name": "stderr",
     "output_type": "stream",
     "text": [
      "\r",
      " 46%|████████████████▌                   | 11320/24526 [03:19<03:52, 56.72it/s]"
     ]
    },
    {
     "name": "stdout",
     "output_type": "stream",
     "text": [
      "test_11320.txt\n",
      "test_11321.txt\n",
      "test_11322.txt\n",
      "test_11323.txt\n",
      "test_11324.txt\n",
      "test_11325.txt\n",
      "test_11326.txt\n"
     ]
    },
    {
     "name": "stderr",
     "output_type": "stream",
     "text": [
      "\r",
      " 46%|████████████████▋                   | 11327/24526 [03:19<03:52, 56.72it/s]"
     ]
    },
    {
     "name": "stdout",
     "output_type": "stream",
     "text": [
      "test_11327.txt\n",
      "test_11328.txt\n",
      "test_11329.txt\n",
      "test_11330.txt\n",
      "test_11331.txt\n",
      "test_11332.txt\n"
     ]
    },
    {
     "name": "stderr",
     "output_type": "stream",
     "text": [
      "\r",
      " 46%|████████████████▋                   | 11333/24526 [03:19<03:52, 56.72it/s]"
     ]
    },
    {
     "name": "stdout",
     "output_type": "stream",
     "text": [
      "test_11333.txt\n",
      "test_11334.txt\n",
      "test_11335.txt\n",
      "test_11336.txt\n",
      "test_11337.txt\n",
      "test_11338.txt\n"
     ]
    },
    {
     "name": "stderr",
     "output_type": "stream",
     "text": [
      "\r",
      " 46%|████████████████▋                   | 11339/24526 [03:19<03:52, 56.72it/s]"
     ]
    },
    {
     "name": "stdout",
     "output_type": "stream",
     "text": [
      "test_11339.txt\n",
      "test_11340.txt\n",
      "test_11341.txt\n",
      "test_11342.txt\n",
      "test_11343.txt\n",
      "test_11344.txt\n"
     ]
    },
    {
     "name": "stderr",
     "output_type": "stream",
     "text": [
      "\r",
      " 46%|████████████████▋                   | 11345/24526 [03:20<03:52, 56.71it/s]"
     ]
    },
    {
     "name": "stdout",
     "output_type": "stream",
     "text": [
      "test_11345.txt\n",
      "test_11346.txt\n",
      "test_11347.txt\n",
      "test_11348.txt\n",
      "test_11349.txt\n",
      "test_11350.txt\n",
      "test_11351.txt\n"
     ]
    },
    {
     "name": "stderr",
     "output_type": "stream",
     "text": [
      "\r",
      " 46%|████████████████▋                   | 11352/24526 [03:20<03:52, 56.71it/s]"
     ]
    },
    {
     "name": "stdout",
     "output_type": "stream",
     "text": [
      "test_11352.txt\n",
      "test_11353.txt\n",
      "test_11354.txt\n",
      "test_11355.txt\n",
      "test_11356.txt\n",
      "test_11357.txt\n"
     ]
    },
    {
     "name": "stderr",
     "output_type": "stream",
     "text": [
      "\r",
      " 46%|████████████████▋                   | 11358/24526 [03:20<03:52, 56.71it/s]"
     ]
    },
    {
     "name": "stdout",
     "output_type": "stream",
     "text": [
      "test_11358.txt\n",
      "test_11359.txt\n",
      "test_11360.txt\n",
      "test_11361.txt\n",
      "test_11362.txt\n",
      "test_11363.txt\n"
     ]
    },
    {
     "name": "stderr",
     "output_type": "stream",
     "text": [
      "\r",
      " 46%|████████████████▋                   | 11364/24526 [03:20<03:52, 56.71it/s]"
     ]
    },
    {
     "name": "stdout",
     "output_type": "stream",
     "text": [
      "test_11364.txt\n",
      "test_11365.txt\n",
      "test_11366.txt\n",
      "test_11367.txt\n",
      "test_11368.txt\n",
      "test_11369.txt\n",
      "test_11370.txt\n",
      "test_11371.txt\n"
     ]
    },
    {
     "name": "stderr",
     "output_type": "stream",
     "text": [
      "\r",
      " 46%|████████████████▋                   | 11372/24526 [03:20<03:51, 56.72it/s]"
     ]
    },
    {
     "name": "stdout",
     "output_type": "stream",
     "text": [
      "test_11372.txt\n",
      "test_11373.txt\n",
      "test_11374.txt\n",
      "test_11375.txt\n",
      "test_11376.txt\n",
      "test_11377.txt\n",
      "test_11378.txt\n"
     ]
    },
    {
     "name": "stderr",
     "output_type": "stream",
     "text": [
      "\r",
      " 46%|████████████████▋                   | 11379/24526 [03:20<03:51, 56.73it/s]"
     ]
    },
    {
     "name": "stdout",
     "output_type": "stream",
     "text": [
      "test_11379.txt\n",
      "test_11380.txt\n",
      "test_11381.txt\n",
      "test_11382.txt\n",
      "test_11383.txt\n",
      "test_11384.txt\n",
      "test_11385.txt\n"
     ]
    },
    {
     "name": "stderr",
     "output_type": "stream",
     "text": [
      "\r",
      " 46%|████████████████▋                   | 11386/24526 [03:20<03:51, 56.72it/s]"
     ]
    },
    {
     "name": "stdout",
     "output_type": "stream",
     "text": [
      "test_11386.txt\n",
      "test_11387.txt\n",
      "test_11388.txt\n",
      "test_11389.txt\n",
      "test_11390.txt\n",
      "test_11391.txt\n"
     ]
    },
    {
     "name": "stderr",
     "output_type": "stream",
     "text": [
      "\r",
      " 46%|████████████████▋                   | 11392/24526 [03:20<03:51, 56.72it/s]"
     ]
    },
    {
     "name": "stdout",
     "output_type": "stream",
     "text": [
      "test_11392.txt\n",
      "test_11393.txt\n",
      "test_11394.txt\n",
      "test_11395.txt\n",
      "test_11396.txt\n",
      "test_11397.txt\n"
     ]
    },
    {
     "name": "stderr",
     "output_type": "stream",
     "text": [
      "\r",
      " 46%|████████████████▋                   | 11398/24526 [03:20<03:51, 56.71it/s]"
     ]
    },
    {
     "name": "stdout",
     "output_type": "stream",
     "text": [
      "test_11398.txt\n",
      "test_11399.txt\n",
      "test_11400.txt\n",
      "test_11401.txt\n",
      "test_11402.txt\n",
      "test_11403.txt\n",
      "test_11404.txt\n"
     ]
    },
    {
     "name": "stderr",
     "output_type": "stream",
     "text": [
      "\r",
      " 47%|████████████████▋                   | 11405/24526 [03:21<03:51, 56.72it/s]"
     ]
    },
    {
     "name": "stdout",
     "output_type": "stream",
     "text": [
      "test_11405.txt\n",
      "test_11406.txt\n",
      "test_11407.txt\n",
      "test_11408.txt\n",
      "test_11409.txt\n",
      "test_11410.txt\n",
      "test_11411.txt\n"
     ]
    },
    {
     "name": "stderr",
     "output_type": "stream",
     "text": [
      "\r",
      " 47%|████████████████▊                   | 11412/24526 [03:21<03:51, 56.72it/s]"
     ]
    },
    {
     "name": "stdout",
     "output_type": "stream",
     "text": [
      "test_11412.txt\n",
      "test_11413.txt\n",
      "test_11414.txt\n",
      "test_11415.txt\n",
      "test_11416.txt\n",
      "test_11417.txt\n"
     ]
    },
    {
     "name": "stderr",
     "output_type": "stream",
     "text": [
      "\r",
      " 47%|████████████████▊                   | 11418/24526 [03:21<03:51, 56.72it/s]"
     ]
    },
    {
     "name": "stdout",
     "output_type": "stream",
     "text": [
      "test_11418.txt\n",
      "test_11419.txt\n",
      "test_11420.txt\n",
      "test_11421.txt\n",
      "test_11422.txt\n",
      "test_11423.txt\n",
      "test_11424.txt\n"
     ]
    },
    {
     "name": "stderr",
     "output_type": "stream",
     "text": [
      "\r",
      " 47%|████████████████▊                   | 11425/24526 [03:21<03:50, 56.72it/s]"
     ]
    },
    {
     "name": "stdout",
     "output_type": "stream",
     "text": [
      "test_11425.txt\n",
      "test_11426.txt\n",
      "test_11427.txt\n",
      "test_11428.txt\n",
      "test_11429.txt\n",
      "test_11430.txt\n",
      "test_11431.txt\n"
     ]
    },
    {
     "name": "stderr",
     "output_type": "stream",
     "text": [
      "\r",
      " 47%|████████████████▊                   | 11432/24526 [03:21<03:50, 56.72it/s]"
     ]
    },
    {
     "name": "stdout",
     "output_type": "stream",
     "text": [
      "test_11432.txt\n",
      "test_11433.txt\n",
      "test_11434.txt\n",
      "test_11435.txt\n",
      "test_11436.txt\n",
      "test_11437.txt\n",
      "test_11438.txt\n",
      "test_11439.txt\n"
     ]
    },
    {
     "name": "stderr",
     "output_type": "stream",
     "text": [
      "\r",
      " 47%|████████████████▊                   | 11440/24526 [03:21<03:50, 56.73it/s]"
     ]
    },
    {
     "name": "stdout",
     "output_type": "stream",
     "text": [
      "test_11440.txt\n",
      "test_11441.txt\n",
      "test_11442.txt\n",
      "test_11443.txt\n",
      "test_11444.txt\n",
      "test_11445.txt\n",
      "test_11446.txt\n"
     ]
    },
    {
     "name": "stderr",
     "output_type": "stream",
     "text": [
      "\r",
      " 47%|████████████████▊                   | 11447/24526 [03:21<03:50, 56.73it/s]"
     ]
    },
    {
     "name": "stdout",
     "output_type": "stream",
     "text": [
      "test_11447.txt\n",
      "test_11448.txt\n",
      "test_11449.txt\n",
      "test_11450.txt\n",
      "test_11451.txt\n",
      "test_11452.txt\n",
      "test_11453.txt\n"
     ]
    },
    {
     "name": "stderr",
     "output_type": "stream",
     "text": [
      "\r",
      " 47%|████████████████▊                   | 11454/24526 [03:21<03:50, 56.73it/s]"
     ]
    },
    {
     "name": "stdout",
     "output_type": "stream",
     "text": [
      "test_11454.txt\n",
      "test_11455.txt\n",
      "test_11456.txt\n",
      "test_11457.txt\n",
      "test_11458.txt\n",
      "test_11459.txt\n",
      "test_11460.txt\n"
     ]
    },
    {
     "name": "stderr",
     "output_type": "stream",
     "text": [
      "\r",
      " 47%|████████████████▊                   | 11461/24526 [03:22<03:50, 56.73it/s]"
     ]
    },
    {
     "name": "stdout",
     "output_type": "stream",
     "text": [
      "test_11461.txt\n",
      "test_11462.txt\n",
      "test_11463.txt\n",
      "test_11464.txt\n",
      "test_11465.txt\n",
      "test_11466.txt\n",
      "test_11467.txt\n"
     ]
    },
    {
     "name": "stderr",
     "output_type": "stream",
     "text": [
      "\r",
      " 47%|████████████████▊                   | 11468/24526 [03:22<03:50, 56.73it/s]"
     ]
    },
    {
     "name": "stdout",
     "output_type": "stream",
     "text": [
      "test_11468.txt\n",
      "test_11469.txt\n",
      "test_11470.txt\n",
      "test_11471.txt\n",
      "test_11472.txt\n",
      "test_11473.txt\n"
     ]
    },
    {
     "name": "stderr",
     "output_type": "stream",
     "text": [
      "\r",
      " 47%|████████████████▊                   | 11474/24526 [03:22<03:50, 56.73it/s]"
     ]
    },
    {
     "name": "stdout",
     "output_type": "stream",
     "text": [
      "test_11474.txt\n",
      "test_11475.txt\n",
      "test_11476.txt\n",
      "test_11477.txt\n",
      "test_11478.txt\n",
      "test_11479.txt\n",
      "test_11480.txt\n"
     ]
    },
    {
     "name": "stderr",
     "output_type": "stream",
     "text": [
      "\r",
      " 47%|████████████████▊                   | 11481/24526 [03:22<03:49, 56.74it/s]"
     ]
    },
    {
     "name": "stdout",
     "output_type": "stream",
     "text": [
      "test_11481.txt\n",
      "test_11482.txt\n",
      "test_11483.txt\n",
      "test_11484.txt\n",
      "test_11485.txt\n",
      "test_11486.txt\n",
      "test_11487.txt\n",
      "test_11488.txt\n"
     ]
    },
    {
     "name": "stderr",
     "output_type": "stream",
     "text": [
      "\r",
      " 47%|████████████████▊                   | 11489/24526 [03:22<03:49, 56.75it/s]"
     ]
    },
    {
     "name": "stdout",
     "output_type": "stream",
     "text": [
      "test_11489.txt\n",
      "test_11490.txt\n",
      "test_11491.txt\n",
      "test_11492.txt\n",
      "test_11493.txt\n",
      "test_11494.txt\n",
      "test_11495.txt\n"
     ]
    },
    {
     "name": "stderr",
     "output_type": "stream",
     "text": [
      "\r",
      " 47%|████████████████▊                   | 11496/24526 [03:22<03:49, 56.75it/s]"
     ]
    },
    {
     "name": "stdout",
     "output_type": "stream",
     "text": [
      "test_11496.txt\n",
      "test_11497.txt\n",
      "test_11498.txt\n",
      "test_11499.txt\n",
      "test_11500.txt\n",
      "test_11501.txt\n",
      "test_11502.txt\n"
     ]
    },
    {
     "name": "stderr",
     "output_type": "stream",
     "text": [
      "\r",
      " 47%|████████████████▉                   | 11503/24526 [03:22<03:49, 56.74it/s]"
     ]
    },
    {
     "name": "stdout",
     "output_type": "stream",
     "text": [
      "test_11503.txt\n",
      "test_11504.txt\n",
      "test_11505.txt\n",
      "test_11506.txt\n",
      "test_11507.txt\n",
      "test_11508.txt\n"
     ]
    },
    {
     "name": "stderr",
     "output_type": "stream",
     "text": [
      "\r",
      " 47%|████████████████▉                   | 11509/24526 [03:22<03:49, 56.73it/s]"
     ]
    },
    {
     "name": "stdout",
     "output_type": "stream",
     "text": [
      "test_11509.txt\n",
      "test_11510.txt\n",
      "test_11511.txt\n",
      "test_11512.txt\n",
      "test_11513.txt\n",
      "test_11514.txt\n"
     ]
    },
    {
     "name": "stderr",
     "output_type": "stream",
     "text": [
      "\r",
      " 47%|████████████████▉                   | 11515/24526 [03:22<03:49, 56.73it/s]"
     ]
    },
    {
     "name": "stdout",
     "output_type": "stream",
     "text": [
      "test_11515.txt\n",
      "test_11516.txt\n",
      "test_11517.txt\n",
      "test_11518.txt\n",
      "test_11519.txt\n",
      "test_11520.txt\n",
      "test_11521.txt\n",
      "test_11522.txt\n",
      "test_11523.txt\n"
     ]
    },
    {
     "name": "stderr",
     "output_type": "stream",
     "text": [
      "\r",
      " 47%|████████████████▉                   | 11524/24526 [03:23<03:49, 56.74it/s]"
     ]
    },
    {
     "name": "stdout",
     "output_type": "stream",
     "text": [
      "test_11524.txt\n",
      "test_11525.txt\n",
      "test_11526.txt\n",
      "test_11527.txt\n",
      "test_11528.txt\n",
      "test_11529.txt\n",
      "test_11530.txt\n",
      "test_11531.txt\n"
     ]
    },
    {
     "name": "stderr",
     "output_type": "stream",
     "text": [
      "\r",
      " 47%|████████████████▉                   | 11532/24526 [03:23<03:48, 56.75it/s]"
     ]
    },
    {
     "name": "stdout",
     "output_type": "stream",
     "text": [
      "test_11532.txt\n",
      "test_11533.txt\n",
      "test_11534.txt\n",
      "test_11535.txt\n",
      "test_11536.txt\n",
      "test_11537.txt\n",
      "test_11538.txt\n"
     ]
    },
    {
     "name": "stderr",
     "output_type": "stream",
     "text": [
      "\r",
      " 47%|████████████████▉                   | 11539/24526 [03:23<03:48, 56.75it/s]"
     ]
    },
    {
     "name": "stdout",
     "output_type": "stream",
     "text": [
      "test_11539.txt\n",
      "test_11540.txt\n",
      "test_11541.txt\n",
      "test_11542.txt\n",
      "test_11543.txt\n",
      "test_11544.txt\n",
      "test_11545.txt\n"
     ]
    },
    {
     "name": "stderr",
     "output_type": "stream",
     "text": [
      "\r",
      " 47%|████████████████▉                   | 11546/24526 [03:23<03:48, 56.75it/s]"
     ]
    },
    {
     "name": "stdout",
     "output_type": "stream",
     "text": [
      "test_11546.txt\n",
      "test_11547.txt\n",
      "test_11548.txt\n",
      "test_11549.txt\n",
      "test_11550.txt\n",
      "test_11551.txt\n",
      "test_11552.txt\n"
     ]
    },
    {
     "name": "stderr",
     "output_type": "stream",
     "text": [
      "\r",
      " 47%|████████████████▉                   | 11553/24526 [03:23<03:48, 56.75it/s]"
     ]
    },
    {
     "name": "stdout",
     "output_type": "stream",
     "text": [
      "test_11553.txt\n",
      "test_11554.txt\n",
      "test_11555.txt\n",
      "test_11556.txt\n",
      "test_11557.txt\n",
      "test_11558.txt\n",
      "test_11559.txt\n"
     ]
    },
    {
     "name": "stderr",
     "output_type": "stream",
     "text": [
      "\r",
      " 47%|████████████████▉                   | 11560/24526 [03:23<03:48, 56.75it/s]"
     ]
    },
    {
     "name": "stdout",
     "output_type": "stream",
     "text": [
      "test_11560.txt\n",
      "test_11561.txt\n",
      "test_11562.txt\n",
      "test_11563.txt\n",
      "test_11564.txt\n",
      "test_11565.txt\n",
      "test_11566.txt\n",
      "test_11567.txt\n"
     ]
    },
    {
     "name": "stderr",
     "output_type": "stream",
     "text": [
      "\r",
      " 47%|████████████████▉                   | 11568/24526 [03:23<03:48, 56.76it/s]"
     ]
    },
    {
     "name": "stdout",
     "output_type": "stream",
     "text": [
      "test_11568.txt\n",
      "test_11569.txt\n",
      "test_11570.txt\n",
      "test_11571.txt\n",
      "test_11572.txt\n",
      "test_11573.txt\n",
      "test_11574.txt\n"
     ]
    },
    {
     "name": "stderr",
     "output_type": "stream",
     "text": [
      "\r",
      " 47%|████████████████▉                   | 11575/24526 [03:23<03:48, 56.75it/s]"
     ]
    },
    {
     "name": "stdout",
     "output_type": "stream",
     "text": [
      "test_11575.txt\n",
      "test_11576.txt\n",
      "test_11577.txt\n",
      "test_11578.txt\n",
      "test_11579.txt\n",
      "test_11580.txt\n"
     ]
    },
    {
     "name": "stderr",
     "output_type": "stream",
     "text": [
      "\r",
      " 47%|████████████████▉                   | 11581/24526 [03:24<03:48, 56.75it/s]"
     ]
    },
    {
     "name": "stdout",
     "output_type": "stream",
     "text": [
      "test_11581.txt\n",
      "test_11582.txt\n",
      "test_11583.txt\n",
      "test_11584.txt\n",
      "test_11585.txt\n",
      "test_11586.txt\n",
      "test_11587.txt\n",
      "test_11588.txt\n"
     ]
    },
    {
     "name": "stderr",
     "output_type": "stream",
     "text": [
      "\r",
      " 47%|█████████████████                   | 11589/24526 [03:24<03:47, 56.76it/s]"
     ]
    },
    {
     "name": "stdout",
     "output_type": "stream",
     "text": [
      "test_11589.txt\n",
      "test_11590.txt\n",
      "test_11591.txt\n",
      "test_11592.txt\n",
      "test_11593.txt\n",
      "test_11594.txt\n",
      "test_11595.txt\n"
     ]
    },
    {
     "name": "stderr",
     "output_type": "stream",
     "text": [
      "\r",
      " 47%|█████████████████                   | 11596/24526 [03:24<03:47, 56.76it/s]"
     ]
    },
    {
     "name": "stdout",
     "output_type": "stream",
     "text": [
      "test_11596.txt\n",
      "test_11597.txt\n",
      "test_11598.txt\n",
      "test_11599.txt\n",
      "test_11600.txt\n",
      "test_11601.txt\n",
      "test_11602.txt\n"
     ]
    },
    {
     "name": "stderr",
     "output_type": "stream",
     "text": [
      "\r",
      " 47%|█████████████████                   | 11603/24526 [03:24<03:47, 56.77it/s]"
     ]
    },
    {
     "name": "stdout",
     "output_type": "stream",
     "text": [
      "test_11603.txt\n",
      "test_11604.txt\n",
      "test_11605.txt\n",
      "test_11606.txt\n",
      "test_11607.txt\n",
      "test_11608.txt\n",
      "test_11609.txt\n"
     ]
    },
    {
     "name": "stderr",
     "output_type": "stream",
     "text": [
      "\r",
      " 47%|█████████████████                   | 11610/24526 [03:24<03:47, 56.77it/s]"
     ]
    },
    {
     "name": "stdout",
     "output_type": "stream",
     "text": [
      "test_11610.txt\n",
      "test_11611.txt\n",
      "test_11612.txt\n",
      "test_11613.txt\n",
      "test_11614.txt\n",
      "test_11615.txt\n",
      "test_11616.txt\n"
     ]
    },
    {
     "name": "stderr",
     "output_type": "stream",
     "text": [
      "\r",
      " 47%|█████████████████                   | 11617/24526 [03:24<03:47, 56.78it/s]"
     ]
    },
    {
     "name": "stdout",
     "output_type": "stream",
     "text": [
      "test_11617.txt\n",
      "test_11618.txt\n",
      "test_11619.txt\n",
      "test_11620.txt\n",
      "test_11621.txt\n",
      "test_11622.txt\n",
      "test_11623.txt\n"
     ]
    },
    {
     "name": "stderr",
     "output_type": "stream",
     "text": [
      "\r",
      " 47%|█████████████████                   | 11624/24526 [03:24<03:47, 56.78it/s]"
     ]
    },
    {
     "name": "stdout",
     "output_type": "stream",
     "text": [
      "test_11624.txt\n",
      "test_11625.txt\n",
      "test_11626.txt\n",
      "test_11627.txt\n",
      "test_11628.txt\n",
      "test_11629.txt\n",
      "test_11630.txt\n"
     ]
    },
    {
     "name": "stderr",
     "output_type": "stream",
     "text": [
      "\r",
      " 47%|█████████████████                   | 11631/24526 [03:24<03:47, 56.78it/s]"
     ]
    },
    {
     "name": "stdout",
     "output_type": "stream",
     "text": [
      "test_11631.txt\n",
      "test_11632.txt\n",
      "test_11633.txt\n",
      "test_11634.txt\n",
      "test_11635.txt\n",
      "test_11636.txt\n",
      "test_11637.txt\n"
     ]
    },
    {
     "name": "stderr",
     "output_type": "stream",
     "text": [
      "\r",
      " 47%|█████████████████                   | 11638/24526 [03:24<03:46, 56.78it/s]"
     ]
    },
    {
     "name": "stdout",
     "output_type": "stream",
     "text": [
      "test_11638.txt\n",
      "test_11639.txt\n",
      "test_11640.txt\n",
      "test_11641.txt\n",
      "test_11642.txt\n",
      "test_11643.txt\n"
     ]
    },
    {
     "name": "stderr",
     "output_type": "stream",
     "text": [
      "\r",
      " 47%|█████████████████                   | 11644/24526 [03:25<03:46, 56.78it/s]"
     ]
    },
    {
     "name": "stdout",
     "output_type": "stream",
     "text": [
      "test_11644.txt\n",
      "test_11645.txt\n",
      "test_11646.txt\n",
      "test_11647.txt\n",
      "test_11648.txt\n",
      "test_11649.txt\n",
      "test_11650.txt\n"
     ]
    },
    {
     "name": "stderr",
     "output_type": "stream",
     "text": [
      "\r",
      " 48%|█████████████████                   | 11651/24526 [03:25<03:46, 56.78it/s]"
     ]
    },
    {
     "name": "stdout",
     "output_type": "stream",
     "text": [
      "test_11651.txt\n",
      "test_11652.txt\n",
      "test_11653.txt\n",
      "test_11654.txt\n",
      "test_11655.txt\n",
      "test_11656.txt\n"
     ]
    },
    {
     "name": "stderr",
     "output_type": "stream",
     "text": [
      "\r",
      " 48%|█████████████████                   | 11657/24526 [03:25<03:46, 56.78it/s]"
     ]
    },
    {
     "name": "stdout",
     "output_type": "stream",
     "text": [
      "test_11657.txt\n",
      "test_11658.txt\n",
      "test_11659.txt\n",
      "test_11660.txt\n",
      "test_11661.txt\n",
      "test_11662.txt\n"
     ]
    },
    {
     "name": "stderr",
     "output_type": "stream",
     "text": [
      "\r",
      " 48%|█████████████████                   | 11663/24526 [03:25<03:46, 56.78it/s]"
     ]
    },
    {
     "name": "stdout",
     "output_type": "stream",
     "text": [
      "test_11663.txt\n",
      "test_11664.txt\n",
      "test_11665.txt\n",
      "test_11666.txt\n",
      "test_11667.txt\n",
      "test_11668.txt\n"
     ]
    },
    {
     "name": "stderr",
     "output_type": "stream",
     "text": [
      "\r",
      " 48%|█████████████████▏                  | 11669/24526 [03:25<03:46, 56.78it/s]"
     ]
    },
    {
     "name": "stdout",
     "output_type": "stream",
     "text": [
      "test_11669.txt\n",
      "test_11670.txt\n",
      "test_11671.txt\n",
      "test_11672.txt\n",
      "test_11673.txt\n",
      "test_11674.txt\n"
     ]
    },
    {
     "name": "stderr",
     "output_type": "stream",
     "text": [
      "\r",
      " 48%|█████████████████▏                  | 11675/24526 [03:25<03:46, 56.78it/s]"
     ]
    },
    {
     "name": "stdout",
     "output_type": "stream",
     "text": [
      "test_11675.txt\n",
      "test_11676.txt\n",
      "test_11677.txt\n",
      "test_11678.txt\n",
      "test_11679.txt\n",
      "test_11680.txt\n"
     ]
    },
    {
     "name": "stderr",
     "output_type": "stream",
     "text": [
      "\r",
      " 48%|█████████████████▏                  | 11681/24526 [03:25<03:46, 56.78it/s]"
     ]
    },
    {
     "name": "stdout",
     "output_type": "stream",
     "text": [
      "test_11681.txt\n",
      "test_11682.txt\n",
      "test_11683.txt\n",
      "test_11684.txt\n",
      "test_11685.txt\n",
      "test_11686.txt\n",
      "test_11687.txt\n"
     ]
    },
    {
     "name": "stderr",
     "output_type": "stream",
     "text": [
      "\r",
      " 48%|█████████████████▏                  | 11688/24526 [03:25<03:46, 56.79it/s]"
     ]
    },
    {
     "name": "stdout",
     "output_type": "stream",
     "text": [
      "test_11688.txt\n",
      "test_11689.txt\n",
      "test_11690.txt\n",
      "test_11691.txt\n",
      "test_11692.txt\n",
      "test_11693.txt\n",
      "test_11694.txt\n"
     ]
    },
    {
     "name": "stderr",
     "output_type": "stream",
     "text": [
      "\r",
      " 48%|█████████████████▏                  | 11695/24526 [03:25<03:45, 56.79it/s]"
     ]
    },
    {
     "name": "stdout",
     "output_type": "stream",
     "text": [
      "test_11695.txt\n",
      "test_11696.txt\n",
      "test_11697.txt\n",
      "test_11698.txt\n",
      "test_11699.txt\n",
      "test_11700.txt\n",
      "test_11701.txt\n"
     ]
    },
    {
     "name": "stderr",
     "output_type": "stream",
     "text": [
      "\r",
      " 48%|█████████████████▏                  | 11702/24526 [03:26<03:45, 56.79it/s]"
     ]
    },
    {
     "name": "stdout",
     "output_type": "stream",
     "text": [
      "test_11702.txt\n",
      "test_11703.txt\n",
      "test_11704.txt\n",
      "test_11705.txt\n",
      "test_11706.txt\n",
      "test_11707.txt\n"
     ]
    },
    {
     "name": "stderr",
     "output_type": "stream",
     "text": [
      "\r",
      " 48%|█████████████████▏                  | 11708/24526 [03:26<03:45, 56.79it/s]"
     ]
    },
    {
     "name": "stdout",
     "output_type": "stream",
     "text": [
      "test_11708.txt\n",
      "test_11709.txt\n",
      "test_11710.txt\n",
      "test_11711.txt\n",
      "test_11712.txt\n",
      "test_11713.txt\n"
     ]
    },
    {
     "name": "stderr",
     "output_type": "stream",
     "text": [
      "\r",
      " 48%|█████████████████▏                  | 11714/24526 [03:27<03:46, 56.58it/s]"
     ]
    },
    {
     "name": "stdout",
     "output_type": "stream",
     "text": [
      "test_11714.txt\n",
      "test_11715.txt\n",
      "test_11716.txt\n",
      "test_11717.txt\n",
      "test_11718.txt\n",
      "test_11719.txt\n",
      "test_11720.txt\n",
      "test_11721.txt\n"
     ]
    },
    {
     "name": "stderr",
     "output_type": "stream",
     "text": [
      "\r",
      " 48%|█████████████████▏                  | 11722/24526 [03:27<03:46, 56.58it/s]"
     ]
    },
    {
     "name": "stdout",
     "output_type": "stream",
     "text": [
      "test_11722.txt\n",
      "test_11723.txt\n",
      "test_11724.txt\n",
      "test_11725.txt\n",
      "test_11726.txt\n",
      "test_11727.txt\n"
     ]
    },
    {
     "name": "stderr",
     "output_type": "stream",
     "text": [
      "\r",
      " 48%|█████████████████▏                  | 11728/24526 [03:27<03:46, 56.58it/s]"
     ]
    },
    {
     "name": "stdout",
     "output_type": "stream",
     "text": [
      "test_11728.txt\n",
      "test_11729.txt\n",
      "test_11730.txt\n",
      "test_11731.txt\n",
      "test_11732.txt\n",
      "test_11733.txt\n"
     ]
    },
    {
     "name": "stderr",
     "output_type": "stream",
     "text": [
      "\r",
      " 48%|█████████████████▏                  | 11734/24526 [03:27<03:46, 56.58it/s]"
     ]
    },
    {
     "name": "stdout",
     "output_type": "stream",
     "text": [
      "test_11734.txt\n",
      "test_11735.txt\n",
      "test_11736.txt\n",
      "test_11737.txt\n",
      "test_11738.txt\n",
      "test_11739.txt\n",
      "test_11740.txt\n"
     ]
    },
    {
     "name": "stderr",
     "output_type": "stream",
     "text": [
      "\r",
      " 48%|█████████████████▏                  | 11741/24526 [03:27<03:45, 56.58it/s]"
     ]
    },
    {
     "name": "stdout",
     "output_type": "stream",
     "text": [
      "test_11741.txt\n",
      "test_11742.txt\n",
      "test_11743.txt\n",
      "test_11744.txt\n",
      "test_11745.txt\n",
      "test_11746.txt\n"
     ]
    },
    {
     "name": "stderr",
     "output_type": "stream",
     "text": [
      "\r",
      " 48%|█████████████████▏                  | 11747/24526 [03:27<03:45, 56.58it/s]"
     ]
    },
    {
     "name": "stdout",
     "output_type": "stream",
     "text": [
      "test_11747.txt\n",
      "test_11748.txt\n",
      "test_11749.txt\n",
      "test_11750.txt\n",
      "test_11751.txt\n",
      "test_11752.txt\n"
     ]
    },
    {
     "name": "stderr",
     "output_type": "stream",
     "text": [
      "\r",
      " 48%|█████████████████▎                  | 11753/24526 [03:27<03:45, 56.57it/s]"
     ]
    },
    {
     "name": "stdout",
     "output_type": "stream",
     "text": [
      "test_11753.txt\n",
      "test_11754.txt\n",
      "test_11755.txt\n",
      "test_11756.txt\n",
      "test_11757.txt\n",
      "test_11758.txt\n",
      "test_11759.txt\n"
     ]
    },
    {
     "name": "stderr",
     "output_type": "stream",
     "text": [
      "\r",
      " 48%|█████████████████▎                  | 11760/24526 [03:27<03:45, 56.58it/s]"
     ]
    },
    {
     "name": "stdout",
     "output_type": "stream",
     "text": [
      "test_11760.txt\n",
      "test_11761.txt\n",
      "test_11762.txt\n",
      "test_11763.txt\n",
      "test_11764.txt\n",
      "test_11765.txt\n",
      "test_11766.txt\n",
      "test_11767.txt\n",
      "test_11768.txt\n"
     ]
    },
    {
     "name": "stderr",
     "output_type": "stream",
     "text": [
      "\r",
      " 48%|█████████████████▎                  | 11769/24526 [03:27<03:45, 56.59it/s]"
     ]
    },
    {
     "name": "stdout",
     "output_type": "stream",
     "text": [
      "test_11769.txt\n",
      "test_11770.txt\n",
      "test_11771.txt\n",
      "test_11772.txt\n",
      "test_11773.txt\n",
      "test_11774.txt\n",
      "test_11775.txt\n"
     ]
    },
    {
     "name": "stderr",
     "output_type": "stream",
     "text": [
      "\r",
      " 48%|█████████████████▎                  | 11776/24526 [03:28<03:45, 56.59it/s]"
     ]
    },
    {
     "name": "stdout",
     "output_type": "stream",
     "text": [
      "test_11776.txt\n",
      "test_11777.txt\n",
      "test_11778.txt\n",
      "test_11779.txt\n",
      "test_11780.txt\n",
      "test_11781.txt\n",
      "test_11782.txt\n"
     ]
    },
    {
     "name": "stderr",
     "output_type": "stream",
     "text": [
      "\r",
      " 48%|█████████████████▎                  | 11783/24526 [03:28<03:45, 56.60it/s]"
     ]
    },
    {
     "name": "stdout",
     "output_type": "stream",
     "text": [
      "test_11783.txt\n",
      "test_11784.txt\n",
      "test_11785.txt\n",
      "test_11786.txt\n",
      "test_11787.txt\n",
      "test_11788.txt\n",
      "test_11789.txt\n"
     ]
    },
    {
     "name": "stderr",
     "output_type": "stream",
     "text": [
      "\r",
      " 48%|█████████████████▎                  | 11790/24526 [03:28<03:45, 56.60it/s]"
     ]
    },
    {
     "name": "stdout",
     "output_type": "stream",
     "text": [
      "test_11790.txt\n",
      "test_11791.txt\n",
      "test_11792.txt\n",
      "test_11793.txt\n",
      "test_11794.txt\n",
      "test_11795.txt\n",
      "test_11796.txt\n"
     ]
    },
    {
     "name": "stderr",
     "output_type": "stream",
     "text": [
      "\r",
      " 48%|█████████████████▎                  | 11797/24526 [03:28<03:44, 56.60it/s]"
     ]
    },
    {
     "name": "stdout",
     "output_type": "stream",
     "text": [
      "test_11797.txt\n",
      "test_11798.txt\n",
      "test_11799.txt\n",
      "test_11800.txt\n",
      "test_11801.txt\n",
      "test_11802.txt\n",
      "test_11803.txt\n",
      "test_11804.txt\n"
     ]
    },
    {
     "name": "stderr",
     "output_type": "stream",
     "text": [
      "\r",
      " 48%|█████████████████▎                  | 11805/24526 [03:28<03:44, 56.60it/s]"
     ]
    },
    {
     "name": "stdout",
     "output_type": "stream",
     "text": [
      "test_11805.txt\n",
      "test_11806.txt\n",
      "test_11807.txt\n",
      "test_11808.txt\n",
      "test_11809.txt\n",
      "test_11810.txt\n",
      "test_11811.txt\n"
     ]
    },
    {
     "name": "stderr",
     "output_type": "stream",
     "text": [
      "\r",
      " 48%|█████████████████▎                  | 11812/24526 [03:28<03:44, 56.60it/s]"
     ]
    },
    {
     "name": "stdout",
     "output_type": "stream",
     "text": [
      "test_11812.txt\n",
      "test_11813.txt\n",
      "test_11814.txt\n",
      "test_11815.txt\n",
      "test_11816.txt\n",
      "test_11817.txt\n"
     ]
    },
    {
     "name": "stderr",
     "output_type": "stream",
     "text": [
      "\r",
      " 48%|█████████████████▎                  | 11818/24526 [03:28<03:44, 56.60it/s]"
     ]
    },
    {
     "name": "stdout",
     "output_type": "stream",
     "text": [
      "test_11818.txt\n",
      "test_11819.txt\n",
      "test_11820.txt\n",
      "test_11821.txt\n",
      "test_11822.txt\n",
      "test_11823.txt\n"
     ]
    },
    {
     "name": "stderr",
     "output_type": "stream",
     "text": [
      "\r",
      " 48%|█████████████████▎                  | 11824/24526 [03:28<03:44, 56.60it/s]"
     ]
    },
    {
     "name": "stdout",
     "output_type": "stream",
     "text": [
      "test_11824.txt\n",
      "test_11825.txt\n",
      "test_11826.txt\n",
      "test_11827.txt\n",
      "test_11828.txt\n",
      "test_11829.txt\n"
     ]
    },
    {
     "name": "stderr",
     "output_type": "stream",
     "text": [
      "\r",
      " 48%|█████████████████▎                  | 11830/24526 [03:29<03:44, 56.59it/s]"
     ]
    },
    {
     "name": "stdout",
     "output_type": "stream",
     "text": [
      "test_11830.txt\n",
      "test_11831.txt\n",
      "test_11832.txt\n",
      "test_11833.txt\n",
      "test_11834.txt\n",
      "test_11835.txt\n",
      "test_11836.txt\n"
     ]
    },
    {
     "name": "stderr",
     "output_type": "stream",
     "text": [
      "\r",
      " 48%|█████████████████▎                  | 11837/24526 [03:29<03:44, 56.60it/s]"
     ]
    },
    {
     "name": "stdout",
     "output_type": "stream",
     "text": [
      "test_11837.txt\n",
      "test_11838.txt\n",
      "test_11839.txt\n",
      "test_11840.txt\n",
      "test_11841.txt\n",
      "test_11842.txt\n"
     ]
    },
    {
     "name": "stderr",
     "output_type": "stream",
     "text": [
      "\r",
      " 48%|█████████████████▍                  | 11843/24526 [03:29<03:44, 56.60it/s]"
     ]
    },
    {
     "name": "stdout",
     "output_type": "stream",
     "text": [
      "test_11843.txt\n",
      "test_11844.txt\n",
      "test_11845.txt\n",
      "test_11846.txt\n",
      "test_11847.txt\n",
      "test_11848.txt\n"
     ]
    },
    {
     "name": "stderr",
     "output_type": "stream",
     "text": [
      "\r",
      " 48%|█████████████████▍                  | 11849/24526 [03:29<03:43, 56.60it/s]"
     ]
    },
    {
     "name": "stdout",
     "output_type": "stream",
     "text": [
      "test_11849.txt\n",
      "test_11850.txt\n",
      "test_11851.txt\n",
      "test_11852.txt\n",
      "test_11853.txt\n",
      "test_11854.txt\n"
     ]
    },
    {
     "name": "stderr",
     "output_type": "stream",
     "text": [
      "\r",
      " 48%|█████████████████▍                  | 11855/24526 [03:29<03:43, 56.60it/s]"
     ]
    },
    {
     "name": "stdout",
     "output_type": "stream",
     "text": [
      "test_11855.txt\n",
      "test_11856.txt\n",
      "test_11857.txt\n",
      "test_11858.txt\n",
      "test_11859.txt\n",
      "test_11860.txt\n"
     ]
    },
    {
     "name": "stderr",
     "output_type": "stream",
     "text": [
      "\r",
      " 48%|█████████████████▍                  | 11861/24526 [03:29<03:43, 56.59it/s]"
     ]
    },
    {
     "name": "stdout",
     "output_type": "stream",
     "text": [
      "test_11861.txt\n",
      "test_11862.txt\n",
      "test_11863.txt\n",
      "test_11864.txt\n",
      "test_11865.txt\n",
      "test_11866.txt\n",
      "test_11867.txt\n"
     ]
    },
    {
     "name": "stderr",
     "output_type": "stream",
     "text": [
      "\r",
      " 48%|█████████████████▍                  | 11868/24526 [03:29<03:43, 56.58it/s]"
     ]
    },
    {
     "name": "stdout",
     "output_type": "stream",
     "text": [
      "test_11868.txt\n",
      "test_11869.txt\n",
      "test_11870.txt\n",
      "test_11871.txt\n",
      "test_11872.txt\n",
      "test_11873.txt\n"
     ]
    },
    {
     "name": "stderr",
     "output_type": "stream",
     "text": [
      "\r",
      " 48%|█████████████████▍                  | 11874/24526 [03:29<03:43, 56.58it/s]"
     ]
    },
    {
     "name": "stdout",
     "output_type": "stream",
     "text": [
      "test_11874.txt\n",
      "test_11875.txt\n",
      "test_11876.txt\n",
      "test_11877.txt\n",
      "test_11878.txt\n",
      "test_11879.txt\n",
      "test_11880.txt\n"
     ]
    },
    {
     "name": "stderr",
     "output_type": "stream",
     "text": [
      "\r",
      " 48%|█████████████████▍                  | 11881/24526 [03:29<03:43, 56.59it/s]"
     ]
    },
    {
     "name": "stdout",
     "output_type": "stream",
     "text": [
      "test_11881.txt\n",
      "test_11882.txt\n",
      "test_11883.txt\n",
      "test_11884.txt\n",
      "test_11885.txt\n",
      "test_11886.txt\n"
     ]
    },
    {
     "name": "stderr",
     "output_type": "stream",
     "text": [
      "\r",
      " 48%|█████████████████▍                  | 11887/24526 [03:30<03:43, 56.59it/s]"
     ]
    },
    {
     "name": "stdout",
     "output_type": "stream",
     "text": [
      "test_11887.txt\n",
      "test_11888.txt\n",
      "test_11889.txt\n",
      "test_11890.txt\n",
      "test_11891.txt\n",
      "test_11892.txt\n"
     ]
    },
    {
     "name": "stderr",
     "output_type": "stream",
     "text": [
      "\r",
      " 48%|█████████████████▍                  | 11893/24526 [03:30<03:43, 56.58it/s]"
     ]
    },
    {
     "name": "stdout",
     "output_type": "stream",
     "text": [
      "test_11893.txt\n",
      "test_11894.txt\n",
      "test_11895.txt\n",
      "test_11896.txt\n",
      "test_11897.txt\n",
      "test_11898.txt\n"
     ]
    },
    {
     "name": "stderr",
     "output_type": "stream",
     "text": [
      "\r",
      " 49%|█████████████████▍                  | 11899/24526 [03:30<03:43, 56.58it/s]"
     ]
    },
    {
     "name": "stdout",
     "output_type": "stream",
     "text": [
      "test_11899.txt\n",
      "test_11900.txt\n",
      "test_11901.txt\n",
      "test_11902.txt\n",
      "test_11903.txt\n",
      "test_11904.txt\n",
      "test_11905.txt\n",
      "test_11906.txt\n"
     ]
    },
    {
     "name": "stderr",
     "output_type": "stream",
     "text": [
      "\r",
      " 49%|█████████████████▍                  | 11907/24526 [03:30<03:43, 56.58it/s]"
     ]
    },
    {
     "name": "stdout",
     "output_type": "stream",
     "text": [
      "test_11907.txt\n",
      "test_11908.txt\n",
      "test_11909.txt\n",
      "test_11910.txt\n",
      "test_11911.txt\n",
      "test_11912.txt\n",
      "test_11913.txt\n"
     ]
    },
    {
     "name": "stderr",
     "output_type": "stream",
     "text": [
      "\r",
      " 49%|█████████████████▍                  | 11914/24526 [03:30<03:42, 56.58it/s]"
     ]
    },
    {
     "name": "stdout",
     "output_type": "stream",
     "text": [
      "test_11914.txt\n",
      "test_11915.txt\n",
      "test_11916.txt\n",
      "test_11917.txt\n",
      "test_11918.txt\n",
      "test_11919.txt\n",
      "test_11920.txt\n"
     ]
    },
    {
     "name": "stderr",
     "output_type": "stream",
     "text": [
      "\r",
      " 49%|█████████████████▍                  | 11921/24526 [03:30<03:42, 56.59it/s]"
     ]
    },
    {
     "name": "stdout",
     "output_type": "stream",
     "text": [
      "test_11921.txt\n",
      "test_11922.txt\n",
      "test_11923.txt\n",
      "test_11924.txt\n",
      "test_11925.txt\n",
      "test_11926.txt\n",
      "test_11927.txt\n"
     ]
    },
    {
     "name": "stderr",
     "output_type": "stream",
     "text": [
      "\r",
      " 49%|█████████████████▌                  | 11928/24526 [03:30<03:42, 56.59it/s]"
     ]
    },
    {
     "name": "stdout",
     "output_type": "stream",
     "text": [
      "test_11928.txt\n",
      "test_11929.txt\n",
      "test_11930.txt\n",
      "test_11931.txt\n",
      "test_11932.txt\n",
      "test_11933.txt\n",
      "test_11934.txt\n",
      "test_11935.txt\n"
     ]
    },
    {
     "name": "stderr",
     "output_type": "stream",
     "text": [
      "\r",
      " 49%|█████████████████▌                  | 11936/24526 [03:30<03:42, 56.60it/s]"
     ]
    },
    {
     "name": "stdout",
     "output_type": "stream",
     "text": [
      "test_11936.txt\n",
      "test_11937.txt\n",
      "test_11938.txt\n",
      "test_11939.txt\n",
      "test_11940.txt\n",
      "test_11941.txt\n",
      "test_11942.txt\n"
     ]
    },
    {
     "name": "stderr",
     "output_type": "stream",
     "text": [
      "\r",
      " 49%|█████████████████▌                  | 11943/24526 [03:31<03:42, 56.60it/s]"
     ]
    },
    {
     "name": "stdout",
     "output_type": "stream",
     "text": [
      "test_11943.txt\n",
      "test_11944.txt\n",
      "test_11945.txt\n",
      "test_11946.txt\n",
      "test_11947.txt\n",
      "test_11948.txt\n",
      "test_11949.txt\n"
     ]
    },
    {
     "name": "stderr",
     "output_type": "stream",
     "text": [
      "\r",
      " 49%|█████████████████▌                  | 11950/24526 [03:31<03:42, 56.59it/s]"
     ]
    },
    {
     "name": "stdout",
     "output_type": "stream",
     "text": [
      "test_11950.txt\n",
      "test_11951.txt\n",
      "test_11952.txt\n",
      "test_11953.txt\n",
      "test_11954.txt\n",
      "test_11955.txt\n",
      "test_11956.txt\n"
     ]
    },
    {
     "name": "stderr",
     "output_type": "stream",
     "text": [
      "\r",
      " 49%|█████████████████▌                  | 11957/24526 [03:31<03:42, 56.59it/s]"
     ]
    },
    {
     "name": "stdout",
     "output_type": "stream",
     "text": [
      "test_11957.txt\n",
      "test_11958.txt\n",
      "test_11959.txt\n",
      "test_11960.txt\n",
      "test_11961.txt\n",
      "test_11962.txt\n",
      "test_11963.txt\n"
     ]
    },
    {
     "name": "stderr",
     "output_type": "stream",
     "text": [
      "\r",
      " 49%|█████████████████▌                  | 11964/24526 [03:31<03:41, 56.59it/s]"
     ]
    },
    {
     "name": "stdout",
     "output_type": "stream",
     "text": [
      "test_11964.txt\n",
      "test_11965.txt\n",
      "test_11966.txt\n",
      "test_11967.txt\n",
      "test_11968.txt\n",
      "test_11969.txt\n",
      "test_11970.txt\n"
     ]
    },
    {
     "name": "stderr",
     "output_type": "stream",
     "text": [
      "\r",
      " 49%|█████████████████▌                  | 11971/24526 [03:31<03:41, 56.60it/s]"
     ]
    },
    {
     "name": "stdout",
     "output_type": "stream",
     "text": [
      "test_11971.txt\n",
      "test_11972.txt\n",
      "test_11973.txt\n",
      "test_11974.txt\n",
      "test_11975.txt\n",
      "test_11976.txt\n",
      "test_11977.txt\n"
     ]
    },
    {
     "name": "stderr",
     "output_type": "stream",
     "text": [
      "\r",
      " 49%|█████████████████▌                  | 11978/24526 [03:31<03:41, 56.60it/s]"
     ]
    },
    {
     "name": "stdout",
     "output_type": "stream",
     "text": [
      "test_11978.txt\n",
      "test_11979.txt\n",
      "test_11980.txt\n",
      "test_11981.txt\n",
      "test_11982.txt\n",
      "test_11983.txt\n",
      "test_11984.txt\n"
     ]
    },
    {
     "name": "stderr",
     "output_type": "stream",
     "text": [
      "\r",
      " 49%|█████████████████▌                  | 11985/24526 [03:31<03:41, 56.60it/s]"
     ]
    },
    {
     "name": "stdout",
     "output_type": "stream",
     "text": [
      "test_11985.txt\n",
      "test_11986.txt\n",
      "test_11987.txt\n",
      "test_11988.txt\n",
      "test_11989.txt\n",
      "test_11990.txt\n",
      "test_11991.txt\n"
     ]
    },
    {
     "name": "stderr",
     "output_type": "stream",
     "text": [
      "\r",
      " 49%|█████████████████▌                  | 11992/24526 [03:31<03:41, 56.60it/s]"
     ]
    },
    {
     "name": "stdout",
     "output_type": "stream",
     "text": [
      "test_11992.txt\n",
      "test_11993.txt\n",
      "test_11994.txt\n",
      "test_11995.txt\n",
      "test_11996.txt\n",
      "test_11997.txt\n",
      "test_11998.txt\n"
     ]
    },
    {
     "name": "stderr",
     "output_type": "stream",
     "text": [
      "\r",
      " 49%|█████████████████▌                  | 11999/24526 [03:31<03:41, 56.60it/s]"
     ]
    },
    {
     "name": "stdout",
     "output_type": "stream",
     "text": [
      "test_11999.txt\n",
      "test_12000.txt\n",
      "test_12001.txt\n",
      "test_12002.txt\n",
      "test_12003.txt\n",
      "test_12004.txt\n",
      "test_12005.txt\n"
     ]
    },
    {
     "name": "stderr",
     "output_type": "stream",
     "text": [
      "\r",
      " 49%|█████████████████▌                  | 12006/24526 [03:32<03:41, 56.61it/s]"
     ]
    },
    {
     "name": "stdout",
     "output_type": "stream",
     "text": [
      "test_12006.txt\n",
      "test_12007.txt\n",
      "test_12008.txt\n",
      "test_12009.txt\n",
      "test_12010.txt\n",
      "test_12011.txt\n",
      "test_12012.txt\n"
     ]
    },
    {
     "name": "stderr",
     "output_type": "stream",
     "text": [
      "\r",
      " 49%|█████████████████▋                  | 12013/24526 [03:32<03:41, 56.60it/s]"
     ]
    },
    {
     "name": "stdout",
     "output_type": "stream",
     "text": [
      "test_12013.txt\n",
      "test_12014.txt\n",
      "test_12015.txt\n",
      "test_12016.txt\n",
      "test_12017.txt\n",
      "test_12018.txt\n",
      "test_12019.txt\n",
      "test_12020.txt\n"
     ]
    },
    {
     "name": "stderr",
     "output_type": "stream",
     "text": [
      "\r",
      " 49%|█████████████████▋                  | 12021/24526 [03:32<03:40, 56.61it/s]"
     ]
    },
    {
     "name": "stdout",
     "output_type": "stream",
     "text": [
      "test_12021.txt\n",
      "test_12022.txt\n",
      "test_12023.txt\n",
      "test_12024.txt\n",
      "test_12025.txt\n",
      "test_12026.txt\n",
      "test_12027.txt\n"
     ]
    },
    {
     "name": "stderr",
     "output_type": "stream",
     "text": [
      "\r",
      " 49%|█████████████████▋                  | 12028/24526 [03:32<03:40, 56.61it/s]"
     ]
    },
    {
     "name": "stdout",
     "output_type": "stream",
     "text": [
      "test_12028.txt\n",
      "test_12029.txt\n",
      "test_12030.txt\n",
      "test_12031.txt\n",
      "test_12032.txt\n",
      "test_12033.txt\n",
      "test_12034.txt\n"
     ]
    },
    {
     "name": "stderr",
     "output_type": "stream",
     "text": [
      "\r",
      " 49%|█████████████████▋                  | 12035/24526 [03:32<03:40, 56.61it/s]"
     ]
    },
    {
     "name": "stdout",
     "output_type": "stream",
     "text": [
      "test_12035.txt\n",
      "test_12036.txt\n",
      "test_12037.txt\n",
      "test_12038.txt\n",
      "test_12039.txt\n",
      "test_12040.txt\n",
      "test_12041.txt\n"
     ]
    },
    {
     "name": "stderr",
     "output_type": "stream",
     "text": [
      "\r",
      " 49%|█████████████████▋                  | 12042/24526 [03:32<03:40, 56.61it/s]"
     ]
    },
    {
     "name": "stdout",
     "output_type": "stream",
     "text": [
      "test_12042.txt\n",
      "test_12043.txt\n",
      "test_12044.txt\n",
      "test_12045.txt\n",
      "test_12046.txt\n",
      "test_12047.txt\n",
      "test_12048.txt\n"
     ]
    },
    {
     "name": "stderr",
     "output_type": "stream",
     "text": [
      "\r",
      " 49%|█████████████████▋                  | 12049/24526 [03:32<03:40, 56.61it/s]"
     ]
    },
    {
     "name": "stdout",
     "output_type": "stream",
     "text": [
      "test_12049.txt\n",
      "test_12050.txt\n",
      "test_12051.txt\n",
      "test_12052.txt\n",
      "test_12053.txt\n",
      "test_12054.txt\n"
     ]
    },
    {
     "name": "stderr",
     "output_type": "stream",
     "text": [
      "\r",
      " 49%|█████████████████▋                  | 12055/24526 [03:32<03:40, 56.61it/s]"
     ]
    },
    {
     "name": "stdout",
     "output_type": "stream",
     "text": [
      "test_12055.txt\n",
      "test_12056.txt\n",
      "test_12057.txt\n",
      "test_12058.txt\n",
      "test_12059.txt\n",
      "test_12060.txt\n",
      "test_12061.txt\n"
     ]
    },
    {
     "name": "stderr",
     "output_type": "stream",
     "text": [
      "\r",
      " 49%|█████████████████▋                  | 12062/24526 [03:33<03:40, 56.61it/s]"
     ]
    },
    {
     "name": "stdout",
     "output_type": "stream",
     "text": [
      "test_12062.txt\n",
      "test_12063.txt\n",
      "test_12064.txt\n",
      "test_12065.txt\n",
      "test_12066.txt\n",
      "test_12067.txt\n"
     ]
    },
    {
     "name": "stderr",
     "output_type": "stream",
     "text": [
      "\r",
      " 49%|█████████████████▋                  | 12068/24526 [03:33<03:40, 56.60it/s]"
     ]
    },
    {
     "name": "stdout",
     "output_type": "stream",
     "text": [
      "test_12068.txt\n",
      "test_12069.txt\n",
      "test_12070.txt\n",
      "test_12071.txt\n",
      "test_12072.txt\n",
      "test_12073.txt\n",
      "test_12074.txt\n"
     ]
    },
    {
     "name": "stderr",
     "output_type": "stream",
     "text": [
      "\r",
      " 49%|█████████████████▋                  | 12075/24526 [03:33<03:39, 56.60it/s]"
     ]
    },
    {
     "name": "stdout",
     "output_type": "stream",
     "text": [
      "test_12075.txt\n",
      "test_12076.txt\n",
      "test_12077.txt\n",
      "test_12078.txt\n",
      "test_12079.txt\n",
      "test_12080.txt\n"
     ]
    },
    {
     "name": "stderr",
     "output_type": "stream",
     "text": [
      "\r",
      " 49%|█████████████████▋                  | 12081/24526 [03:33<03:39, 56.60it/s]"
     ]
    },
    {
     "name": "stdout",
     "output_type": "stream",
     "text": [
      "test_12081.txt\n",
      "test_12082.txt\n",
      "test_12083.txt\n",
      "test_12084.txt\n",
      "test_12085.txt\n",
      "test_12086.txt\n",
      "test_12087.txt\n"
     ]
    },
    {
     "name": "stderr",
     "output_type": "stream",
     "text": [
      "\r",
      " 49%|█████████████████▋                  | 12088/24526 [03:33<03:39, 56.61it/s]"
     ]
    },
    {
     "name": "stdout",
     "output_type": "stream",
     "text": [
      "test_12088.txt\n",
      "test_12089.txt\n",
      "test_12090.txt\n",
      "test_12091.txt\n",
      "test_12092.txt\n",
      "test_12093.txt\n",
      "test_12094.txt\n"
     ]
    },
    {
     "name": "stderr",
     "output_type": "stream",
     "text": [
      "\r",
      " 49%|█████████████████▊                  | 12095/24526 [03:33<03:39, 56.61it/s]"
     ]
    },
    {
     "name": "stdout",
     "output_type": "stream",
     "text": [
      "test_12095.txt\n",
      "test_12096.txt\n",
      "test_12097.txt\n",
      "test_12098.txt\n",
      "test_12099.txt\n",
      "test_12100.txt\n"
     ]
    },
    {
     "name": "stderr",
     "output_type": "stream",
     "text": [
      "\r",
      " 49%|█████████████████▊                  | 12101/24526 [03:33<03:39, 56.61it/s]"
     ]
    },
    {
     "name": "stdout",
     "output_type": "stream",
     "text": [
      "test_12101.txt\n",
      "test_12102.txt\n",
      "test_12103.txt\n",
      "test_12104.txt\n",
      "test_12105.txt\n",
      "test_12106.txt\n",
      "test_12107.txt\n",
      "test_12108.txt\n"
     ]
    },
    {
     "name": "stderr",
     "output_type": "stream",
     "text": [
      "\r",
      " 49%|█████████████████▊                  | 12109/24526 [03:33<03:39, 56.61it/s]"
     ]
    },
    {
     "name": "stdout",
     "output_type": "stream",
     "text": [
      "test_12109.txt\n",
      "test_12110.txt\n",
      "test_12111.txt\n",
      "test_12112.txt\n",
      "test_12113.txt\n",
      "test_12114.txt\n",
      "test_12115.txt\n"
     ]
    },
    {
     "name": "stderr",
     "output_type": "stream",
     "text": [
      "\r",
      " 49%|█████████████████▊                  | 12116/24526 [03:34<03:39, 56.61it/s]"
     ]
    },
    {
     "name": "stdout",
     "output_type": "stream",
     "text": [
      "test_12116.txt\n",
      "test_12117.txt\n",
      "test_12118.txt\n",
      "test_12119.txt\n",
      "test_12120.txt\n",
      "test_12121.txt\n"
     ]
    },
    {
     "name": "stderr",
     "output_type": "stream",
     "text": [
      "\r",
      " 49%|█████████████████▊                  | 12122/24526 [03:34<03:39, 56.61it/s]"
     ]
    },
    {
     "name": "stdout",
     "output_type": "stream",
     "text": [
      "test_12122.txt\n",
      "test_12123.txt\n",
      "test_12124.txt\n",
      "test_12125.txt\n",
      "test_12126.txt\n",
      "test_12127.txt\n",
      "test_12128.txt\n"
     ]
    },
    {
     "name": "stderr",
     "output_type": "stream",
     "text": [
      "\r",
      " 49%|█████████████████▊                  | 12129/24526 [03:34<03:38, 56.61it/s]"
     ]
    },
    {
     "name": "stdout",
     "output_type": "stream",
     "text": [
      "test_12129.txt\n",
      "test_12130.txt\n",
      "test_12131.txt\n",
      "test_12132.txt\n",
      "test_12133.txt\n",
      "test_12134.txt\n",
      "test_12135.txt\n",
      "test_12136.txt\n"
     ]
    },
    {
     "name": "stderr",
     "output_type": "stream",
     "text": [
      "\r",
      " 49%|█████████████████▊                  | 12137/24526 [03:34<03:38, 56.62it/s]"
     ]
    },
    {
     "name": "stdout",
     "output_type": "stream",
     "text": [
      "test_12137.txt\n",
      "test_12138.txt\n",
      "test_12139.txt\n",
      "test_12140.txt\n",
      "test_12141.txt\n",
      "test_12142.txt\n",
      "test_12143.txt\n"
     ]
    },
    {
     "name": "stderr",
     "output_type": "stream",
     "text": [
      "\r",
      " 50%|█████████████████▊                  | 12144/24526 [03:34<03:38, 56.62it/s]"
     ]
    },
    {
     "name": "stdout",
     "output_type": "stream",
     "text": [
      "test_12144.txt\n",
      "test_12145.txt\n",
      "test_12146.txt\n",
      "test_12147.txt\n",
      "test_12148.txt\n",
      "test_12149.txt\n",
      "test_12150.txt\n"
     ]
    },
    {
     "name": "stderr",
     "output_type": "stream",
     "text": [
      "\r",
      " 50%|█████████████████▊                  | 12151/24526 [03:34<03:38, 56.62it/s]"
     ]
    },
    {
     "name": "stdout",
     "output_type": "stream",
     "text": [
      "test_12151.txt\n",
      "test_12152.txt\n",
      "test_12153.txt\n",
      "test_12154.txt\n",
      "test_12155.txt\n",
      "test_12156.txt\n",
      "test_12157.txt\n"
     ]
    },
    {
     "name": "stderr",
     "output_type": "stream",
     "text": [
      "\r",
      " 50%|█████████████████▊                  | 12158/24526 [03:34<03:38, 56.63it/s]"
     ]
    },
    {
     "name": "stdout",
     "output_type": "stream",
     "text": [
      "test_12158.txt\n",
      "test_12159.txt\n",
      "test_12160.txt\n",
      "test_12161.txt\n",
      "test_12162.txt\n",
      "test_12163.txt\n",
      "test_12164.txt\n"
     ]
    },
    {
     "name": "stderr",
     "output_type": "stream",
     "text": [
      "\r",
      " 50%|█████████████████▊                  | 12165/24526 [03:34<03:38, 56.63it/s]"
     ]
    },
    {
     "name": "stdout",
     "output_type": "stream",
     "text": [
      "test_12165.txt\n",
      "test_12166.txt\n",
      "test_12167.txt\n",
      "test_12168.txt\n",
      "test_12169.txt\n",
      "test_12170.txt\n",
      "test_12171.txt\n",
      "test_12172.txt\n"
     ]
    },
    {
     "name": "stderr",
     "output_type": "stream",
     "text": [
      "\r",
      " 50%|█████████████████▊                  | 12173/24526 [03:34<03:38, 56.64it/s]"
     ]
    },
    {
     "name": "stdout",
     "output_type": "stream",
     "text": [
      "test_12173.txt\n",
      "test_12174.txt\n",
      "test_12175.txt\n",
      "test_12176.txt\n",
      "test_12177.txt\n",
      "test_12178.txt\n",
      "test_12179.txt\n"
     ]
    },
    {
     "name": "stderr",
     "output_type": "stream",
     "text": [
      "\r",
      " 50%|█████████████████▉                  | 12180/24526 [03:35<03:37, 56.64it/s]"
     ]
    },
    {
     "name": "stdout",
     "output_type": "stream",
     "text": [
      "test_12180.txt\n",
      "test_12181.txt\n",
      "test_12182.txt\n",
      "test_12183.txt\n",
      "test_12184.txt\n",
      "test_12185.txt\n",
      "test_12186.txt\n"
     ]
    },
    {
     "name": "stderr",
     "output_type": "stream",
     "text": [
      "\r",
      " 50%|█████████████████▉                  | 12187/24526 [03:35<03:37, 56.64it/s]"
     ]
    },
    {
     "name": "stdout",
     "output_type": "stream",
     "text": [
      "test_12187.txt\n",
      "test_12188.txt\n",
      "test_12189.txt\n",
      "test_12190.txt\n",
      "test_12191.txt\n",
      "test_12192.txt\n",
      "test_12193.txt\n"
     ]
    },
    {
     "name": "stderr",
     "output_type": "stream",
     "text": [
      "\r",
      " 50%|█████████████████▉                  | 12194/24526 [03:35<03:37, 56.64it/s]"
     ]
    },
    {
     "name": "stdout",
     "output_type": "stream",
     "text": [
      "test_12194.txt\n",
      "test_12195.txt\n",
      "test_12196.txt\n",
      "test_12197.txt\n",
      "test_12198.txt\n",
      "test_12199.txt\n",
      "test_12200.txt\n"
     ]
    },
    {
     "name": "stderr",
     "output_type": "stream",
     "text": [
      "\r",
      " 50%|█████████████████▉                  | 12201/24526 [03:35<03:37, 56.64it/s]"
     ]
    },
    {
     "name": "stdout",
     "output_type": "stream",
     "text": [
      "test_12201.txt\n",
      "test_12202.txt\n",
      "test_12203.txt\n",
      "test_12204.txt\n",
      "test_12205.txt\n",
      "test_12206.txt\n",
      "test_12207.txt\n"
     ]
    },
    {
     "name": "stderr",
     "output_type": "stream",
     "text": [
      "\r",
      " 50%|█████████████████▉                  | 12208/24526 [03:35<03:37, 56.64it/s]"
     ]
    },
    {
     "name": "stdout",
     "output_type": "stream",
     "text": [
      "test_12208.txt\n",
      "test_12209.txt\n",
      "test_12210.txt\n",
      "test_12211.txt\n",
      "test_12212.txt\n",
      "test_12213.txt\n",
      "test_12214.txt\n"
     ]
    },
    {
     "name": "stderr",
     "output_type": "stream",
     "text": [
      "\r",
      " 50%|█████████████████▉                  | 12215/24526 [03:35<03:37, 56.64it/s]"
     ]
    },
    {
     "name": "stdout",
     "output_type": "stream",
     "text": [
      "test_12215.txt\n",
      "test_12216.txt\n",
      "test_12217.txt\n",
      "test_12218.txt\n",
      "test_12219.txt\n",
      "test_12220.txt\n",
      "test_12221.txt\n"
     ]
    },
    {
     "name": "stderr",
     "output_type": "stream",
     "text": [
      "\r",
      " 50%|█████████████████▉                  | 12222/24526 [03:35<03:37, 56.65it/s]"
     ]
    },
    {
     "name": "stdout",
     "output_type": "stream",
     "text": [
      "test_12222.txt\n",
      "test_12223.txt\n",
      "test_12224.txt\n",
      "test_12225.txt\n",
      "test_12226.txt\n",
      "test_12227.txt\n",
      "test_12228.txt\n"
     ]
    },
    {
     "name": "stderr",
     "output_type": "stream",
     "text": [
      "\r",
      " 50%|█████████████████▉                  | 12229/24526 [03:35<03:37, 56.65it/s]"
     ]
    },
    {
     "name": "stdout",
     "output_type": "stream",
     "text": [
      "test_12229.txt\n",
      "test_12230.txt\n",
      "test_12231.txt\n",
      "test_12232.txt\n",
      "test_12233.txt\n",
      "test_12234.txt\n",
      "test_12235.txt\n"
     ]
    },
    {
     "name": "stderr",
     "output_type": "stream",
     "text": [
      "\r",
      " 50%|█████████████████▉                  | 12236/24526 [03:36<03:36, 56.65it/s]"
     ]
    },
    {
     "name": "stdout",
     "output_type": "stream",
     "text": [
      "test_12236.txt\n",
      "test_12237.txt\n",
      "test_12238.txt\n",
      "test_12239.txt\n",
      "test_12240.txt\n",
      "test_12241.txt\n"
     ]
    },
    {
     "name": "stderr",
     "output_type": "stream",
     "text": [
      "\r",
      " 50%|█████████████████▉                  | 12242/24526 [03:36<03:36, 56.64it/s]"
     ]
    },
    {
     "name": "stdout",
     "output_type": "stream",
     "text": [
      "test_12242.txt\n",
      "test_12243.txt\n",
      "test_12244.txt\n",
      "test_12245.txt\n",
      "test_12246.txt\n",
      "test_12247.txt\n",
      "test_12248.txt\n",
      "test_12249.txt\n"
     ]
    },
    {
     "name": "stderr",
     "output_type": "stream",
     "text": [
      "\r",
      " 50%|█████████████████▉                  | 12250/24526 [03:36<03:36, 56.65it/s]"
     ]
    },
    {
     "name": "stdout",
     "output_type": "stream",
     "text": [
      "test_12250.txt\n",
      "test_12251.txt\n",
      "test_12252.txt\n",
      "test_12253.txt\n",
      "test_12254.txt\n",
      "test_12255.txt\n",
      "test_12256.txt\n",
      "test_12257.txt\n"
     ]
    },
    {
     "name": "stderr",
     "output_type": "stream",
     "text": [
      "\r",
      " 50%|█████████████████▉                  | 12258/24526 [03:36<03:36, 56.66it/s]"
     ]
    },
    {
     "name": "stdout",
     "output_type": "stream",
     "text": [
      "test_12258.txt\n",
      "test_12259.txt\n",
      "test_12260.txt\n",
      "test_12261.txt\n",
      "test_12262.txt\n",
      "test_12263.txt\n",
      "test_12264.txt\n"
     ]
    },
    {
     "name": "stderr",
     "output_type": "stream",
     "text": [
      "\r",
      " 50%|██████████████████                  | 12265/24526 [03:36<03:36, 56.67it/s]"
     ]
    },
    {
     "name": "stdout",
     "output_type": "stream",
     "text": [
      "test_12265.txt\n",
      "test_12266.txt\n",
      "test_12267.txt\n",
      "test_12268.txt\n",
      "test_12269.txt\n",
      "test_12270.txt\n",
      "test_12271.txt\n"
     ]
    },
    {
     "name": "stderr",
     "output_type": "stream",
     "text": [
      "\r",
      " 50%|██████████████████                  | 12272/24526 [03:36<03:36, 56.65it/s]"
     ]
    },
    {
     "name": "stdout",
     "output_type": "stream",
     "text": [
      "test_12272.txt\n",
      "test_12273.txt\n",
      "test_12274.txt\n",
      "test_12275.txt\n",
      "test_12276.txt\n",
      "test_12277.txt\n"
     ]
    },
    {
     "name": "stderr",
     "output_type": "stream",
     "text": [
      "\r",
      " 50%|██████████████████                  | 12278/24526 [03:36<03:36, 56.65it/s]"
     ]
    },
    {
     "name": "stdout",
     "output_type": "stream",
     "text": [
      "test_12278.txt\n",
      "test_12279.txt\n",
      "test_12280.txt\n",
      "test_12281.txt\n",
      "test_12282.txt\n",
      "test_12283.txt\n",
      "test_12284.txt\n"
     ]
    },
    {
     "name": "stderr",
     "output_type": "stream",
     "text": [
      "\r",
      " 50%|██████████████████                  | 12285/24526 [03:36<03:36, 56.66it/s]"
     ]
    },
    {
     "name": "stdout",
     "output_type": "stream",
     "text": [
      "test_12285.txt\n",
      "test_12286.txt\n",
      "test_12287.txt\n",
      "test_12288.txt\n",
      "test_12289.txt\n",
      "test_12290.txt\n",
      "test_12291.txt\n"
     ]
    },
    {
     "name": "stderr",
     "output_type": "stream",
     "text": [
      "\r",
      " 50%|██████████████████                  | 12292/24526 [03:36<03:35, 56.66it/s]"
     ]
    },
    {
     "name": "stdout",
     "output_type": "stream",
     "text": [
      "test_12292.txt\n",
      "test_12293.txt\n",
      "test_12294.txt\n",
      "test_12295.txt\n",
      "test_12296.txt\n",
      "test_12297.txt\n"
     ]
    },
    {
     "name": "stderr",
     "output_type": "stream",
     "text": [
      "\r",
      " 50%|██████████████████                  | 12298/24526 [03:37<03:35, 56.66it/s]"
     ]
    },
    {
     "name": "stdout",
     "output_type": "stream",
     "text": [
      "test_12298.txt\n",
      "test_12299.txt\n",
      "test_12300.txt\n",
      "test_12301.txt\n",
      "test_12302.txt\n",
      "test_12303.txt\n"
     ]
    },
    {
     "name": "stderr",
     "output_type": "stream",
     "text": [
      "\r",
      " 50%|██████████████████                  | 12304/24526 [03:37<03:35, 56.65it/s]"
     ]
    },
    {
     "name": "stdout",
     "output_type": "stream",
     "text": [
      "test_12304.txt\n",
      "test_12305.txt\n",
      "test_12306.txt\n",
      "test_12307.txt\n",
      "test_12308.txt\n",
      "test_12309.txt\n",
      "test_12310.txt\n",
      "test_12311.txt\n"
     ]
    },
    {
     "name": "stderr",
     "output_type": "stream",
     "text": [
      "\r",
      " 50%|██████████████████                  | 12312/24526 [03:37<03:35, 56.66it/s]"
     ]
    },
    {
     "name": "stdout",
     "output_type": "stream",
     "text": [
      "test_12312.txt\n",
      "test_12313.txt\n",
      "test_12314.txt\n",
      "test_12315.txt\n",
      "test_12316.txt\n",
      "test_12317.txt\n",
      "test_12318.txt\n",
      "test_12319.txt\n",
      "test_12320.txt\n"
     ]
    },
    {
     "name": "stderr",
     "output_type": "stream",
     "text": [
      "\r",
      " 50%|██████████████████                  | 12321/24526 [03:37<03:35, 56.67it/s]"
     ]
    },
    {
     "name": "stdout",
     "output_type": "stream",
     "text": [
      "test_12321.txt\n",
      "test_12322.txt\n",
      "test_12323.txt\n",
      "test_12324.txt\n",
      "test_12325.txt\n",
      "test_12326.txt\n",
      "test_12327.txt\n"
     ]
    },
    {
     "name": "stderr",
     "output_type": "stream",
     "text": [
      "\r",
      " 50%|██████████████████                  | 12328/24526 [03:37<03:35, 56.67it/s]"
     ]
    },
    {
     "name": "stdout",
     "output_type": "stream",
     "text": [
      "test_12328.txt\n",
      "test_12329.txt\n",
      "test_12330.txt\n",
      "test_12331.txt\n",
      "test_12332.txt\n",
      "test_12333.txt\n",
      "test_12334.txt\n"
     ]
    },
    {
     "name": "stderr",
     "output_type": "stream",
     "text": [
      "\r",
      " 50%|██████████████████                  | 12335/24526 [03:37<03:35, 56.67it/s]"
     ]
    },
    {
     "name": "stdout",
     "output_type": "stream",
     "text": [
      "test_12335.txt\n",
      "test_12336.txt\n",
      "test_12337.txt\n",
      "test_12338.txt\n",
      "test_12339.txt\n",
      "test_12340.txt\n",
      "test_12341.txt\n"
     ]
    },
    {
     "name": "stderr",
     "output_type": "stream",
     "text": [
      "\r",
      " 50%|██████████████████                  | 12342/24526 [03:37<03:34, 56.68it/s]"
     ]
    },
    {
     "name": "stdout",
     "output_type": "stream",
     "text": [
      "test_12342.txt\n",
      "test_12343.txt\n",
      "test_12344.txt\n",
      "test_12345.txt\n",
      "test_12346.txt\n",
      "test_12347.txt\n",
      "test_12348.txt\n"
     ]
    },
    {
     "name": "stderr",
     "output_type": "stream",
     "text": [
      "\r",
      " 50%|██████████████████▏                 | 12349/24526 [03:37<03:34, 56.68it/s]"
     ]
    },
    {
     "name": "stdout",
     "output_type": "stream",
     "text": [
      "test_12349.txt\n",
      "test_12350.txt\n",
      "test_12351.txt\n",
      "test_12352.txt\n",
      "test_12353.txt\n",
      "test_12354.txt\n",
      "test_12355.txt\n",
      "test_12356.txt\n"
     ]
    },
    {
     "name": "stderr",
     "output_type": "stream",
     "text": [
      "\r",
      " 50%|██████████████████▏                 | 12357/24526 [03:37<03:34, 56.69it/s]"
     ]
    },
    {
     "name": "stdout",
     "output_type": "stream",
     "text": [
      "test_12357.txt\n",
      "test_12358.txt\n",
      "test_12359.txt\n",
      "test_12360.txt\n",
      "test_12361.txt\n",
      "test_12362.txt\n",
      "test_12363.txt\n"
     ]
    },
    {
     "name": "stderr",
     "output_type": "stream",
     "text": [
      "\r",
      " 50%|██████████████████▏                 | 12364/24526 [03:38<03:34, 56.69it/s]"
     ]
    },
    {
     "name": "stdout",
     "output_type": "stream",
     "text": [
      "test_12364.txt\n",
      "test_12365.txt\n",
      "test_12366.txt\n",
      "test_12367.txt\n",
      "test_12368.txt\n",
      "test_12369.txt\n",
      "test_12370.txt\n"
     ]
    },
    {
     "name": "stderr",
     "output_type": "stream",
     "text": [
      "\r",
      " 50%|██████████████████▏                 | 12371/24526 [03:38<03:34, 56.68it/s]"
     ]
    },
    {
     "name": "stdout",
     "output_type": "stream",
     "text": [
      "test_12371.txt\n",
      "test_12372.txt\n",
      "test_12373.txt\n",
      "test_12374.txt\n",
      "test_12375.txt\n",
      "test_12376.txt\n",
      "test_12377.txt\n"
     ]
    },
    {
     "name": "stderr",
     "output_type": "stream",
     "text": [
      "\r",
      " 50%|██████████████████▏                 | 12378/24526 [03:38<03:34, 56.69it/s]"
     ]
    },
    {
     "name": "stdout",
     "output_type": "stream",
     "text": [
      "test_12378.txt\n",
      "test_12379.txt\n",
      "test_12380.txt\n",
      "test_12381.txt\n",
      "test_12382.txt\n",
      "test_12383.txt\n",
      "test_12384.txt\n",
      "test_12385.txt\n"
     ]
    },
    {
     "name": "stderr",
     "output_type": "stream",
     "text": [
      "\r",
      " 51%|██████████████████▏                 | 12386/24526 [03:38<03:34, 56.70it/s]"
     ]
    },
    {
     "name": "stdout",
     "output_type": "stream",
     "text": [
      "test_12386.txt\n",
      "test_12387.txt\n",
      "test_12388.txt\n",
      "test_12389.txt\n",
      "test_12390.txt\n",
      "test_12391.txt\n",
      "test_12392.txt\n"
     ]
    },
    {
     "name": "stderr",
     "output_type": "stream",
     "text": [
      "\r",
      " 51%|██████████████████▏                 | 12393/24526 [03:38<03:33, 56.70it/s]"
     ]
    },
    {
     "name": "stdout",
     "output_type": "stream",
     "text": [
      "test_12393.txt\n",
      "test_12394.txt\n",
      "test_12395.txt\n",
      "test_12396.txt\n",
      "test_12397.txt\n",
      "test_12398.txt\n",
      "test_12399.txt\n"
     ]
    },
    {
     "name": "stderr",
     "output_type": "stream",
     "text": [
      "\r",
      " 51%|██████████████████▏                 | 12400/24526 [03:38<03:33, 56.70it/s]"
     ]
    },
    {
     "name": "stdout",
     "output_type": "stream",
     "text": [
      "test_12400.txt\n",
      "test_12401.txt\n",
      "test_12402.txt\n",
      "test_12403.txt\n",
      "test_12404.txt\n",
      "test_12405.txt\n",
      "test_12406.txt\n"
     ]
    },
    {
     "name": "stderr",
     "output_type": "stream",
     "text": [
      "\r",
      " 51%|██████████████████▏                 | 12407/24526 [03:38<03:33, 56.71it/s]"
     ]
    },
    {
     "name": "stdout",
     "output_type": "stream",
     "text": [
      "test_12407.txt\n",
      "test_12408.txt\n",
      "test_12409.txt\n",
      "test_12410.txt\n",
      "test_12411.txt\n",
      "test_12412.txt\n",
      "test_12413.txt\n",
      "test_12414.txt\n",
      "test_12415.txt\n"
     ]
    },
    {
     "name": "stderr",
     "output_type": "stream",
     "text": [
      "\r",
      " 51%|██████████████████▏                 | 12416/24526 [03:38<03:33, 56.72it/s]"
     ]
    },
    {
     "name": "stdout",
     "output_type": "stream",
     "text": [
      "test_12416.txt\n",
      "test_12417.txt\n",
      "test_12418.txt\n",
      "test_12419.txt\n",
      "test_12420.txt\n",
      "test_12421.txt\n",
      "test_12422.txt\n",
      "test_12423.txt\n"
     ]
    },
    {
     "name": "stderr",
     "output_type": "stream",
     "text": [
      "\r",
      " 51%|██████████████████▏                 | 12424/24526 [03:39<03:33, 56.71it/s]"
     ]
    },
    {
     "name": "stdout",
     "output_type": "stream",
     "text": [
      "test_12424.txt\n",
      "test_12425.txt\n",
      "test_12426.txt\n",
      "test_12427.txt\n",
      "test_12428.txt\n",
      "test_12429.txt\n",
      "test_12430.txt\n"
     ]
    },
    {
     "name": "stderr",
     "output_type": "stream",
     "text": [
      "\r",
      " 51%|██████████████████▏                 | 12431/24526 [03:39<03:33, 56.72it/s]"
     ]
    },
    {
     "name": "stdout",
     "output_type": "stream",
     "text": [
      "test_12431.txt\n",
      "test_12432.txt\n",
      "test_12433.txt\n",
      "test_12434.txt\n",
      "test_12435.txt\n",
      "test_12436.txt\n",
      "test_12437.txt\n"
     ]
    },
    {
     "name": "stderr",
     "output_type": "stream",
     "text": [
      "\r",
      " 51%|██████████████████▎                 | 12438/24526 [03:39<03:33, 56.71it/s]"
     ]
    },
    {
     "name": "stdout",
     "output_type": "stream",
     "text": [
      "test_12438.txt\n",
      "test_12439.txt\n",
      "test_12440.txt\n",
      "test_12441.txt\n",
      "test_12442.txt\n",
      "test_12443.txt\n",
      "test_12444.txt\n",
      "test_12445.txt\n",
      "test_12446.txt\n"
     ]
    },
    {
     "name": "stderr",
     "output_type": "stream",
     "text": [
      "\r",
      " 51%|██████████████████▎                 | 12447/24526 [03:39<03:32, 56.73it/s]"
     ]
    },
    {
     "name": "stdout",
     "output_type": "stream",
     "text": [
      "test_12447.txt\n",
      "test_12448.txt\n",
      "test_12449.txt\n",
      "test_12450.txt\n",
      "test_12451.txt\n",
      "test_12452.txt\n",
      "test_12453.txt\n"
     ]
    },
    {
     "name": "stderr",
     "output_type": "stream",
     "text": [
      "\r",
      " 51%|██████████████████▎                 | 12454/24526 [03:39<03:32, 56.73it/s]"
     ]
    },
    {
     "name": "stdout",
     "output_type": "stream",
     "text": [
      "test_12454.txt\n",
      "test_12455.txt\n",
      "test_12456.txt\n",
      "test_12457.txt\n",
      "test_12458.txt\n",
      "test_12459.txt\n",
      "test_12460.txt\n"
     ]
    },
    {
     "name": "stderr",
     "output_type": "stream",
     "text": [
      "\r",
      " 51%|██████████████████▎                 | 12461/24526 [03:39<03:32, 56.73it/s]"
     ]
    },
    {
     "name": "stdout",
     "output_type": "stream",
     "text": [
      "test_12461.txt\n",
      "test_12462.txt\n",
      "test_12463.txt\n",
      "test_12464.txt\n",
      "test_12465.txt\n",
      "test_12466.txt\n",
      "test_12467.txt\n"
     ]
    },
    {
     "name": "stderr",
     "output_type": "stream",
     "text": [
      "\r",
      " 51%|██████████████████▎                 | 12468/24526 [03:39<03:32, 56.73it/s]"
     ]
    },
    {
     "name": "stdout",
     "output_type": "stream",
     "text": [
      "test_12468.txt\n",
      "test_12469.txt\n",
      "test_12470.txt\n",
      "test_12471.txt\n",
      "test_12472.txt\n",
      "test_12473.txt\n",
      "test_12474.txt\n"
     ]
    },
    {
     "name": "stderr",
     "output_type": "stream",
     "text": [
      "\r",
      " 51%|██████████████████▎                 | 12475/24526 [03:39<03:32, 56.73it/s]"
     ]
    },
    {
     "name": "stdout",
     "output_type": "stream",
     "text": [
      "test_12475.txt\n",
      "test_12476.txt\n",
      "test_12477.txt\n",
      "test_12478.txt\n",
      "test_12479.txt\n",
      "test_12480.txt\n",
      "test_12481.txt\n"
     ]
    },
    {
     "name": "stderr",
     "output_type": "stream",
     "text": [
      "\r",
      " 51%|██████████████████▎                 | 12482/24526 [03:40<03:32, 56.73it/s]"
     ]
    },
    {
     "name": "stdout",
     "output_type": "stream",
     "text": [
      "test_12482.txt\n",
      "test_12483.txt\n",
      "test_12484.txt\n",
      "test_12485.txt\n",
      "test_12486.txt\n",
      "test_12487.txt\n",
      "test_12488.txt\n"
     ]
    },
    {
     "name": "stderr",
     "output_type": "stream",
     "text": [
      "\r",
      " 51%|██████████████████▎                 | 12489/24526 [03:40<03:32, 56.73it/s]"
     ]
    },
    {
     "name": "stdout",
     "output_type": "stream",
     "text": [
      "test_12489.txt\n",
      "test_12490.txt\n",
      "test_12491.txt\n",
      "test_12492.txt\n",
      "test_12493.txt\n",
      "test_12494.txt\n",
      "test_12495.txt\n"
     ]
    },
    {
     "name": "stderr",
     "output_type": "stream",
     "text": [
      "\r",
      " 51%|██████████████████▎                 | 12496/24526 [03:40<03:32, 56.73it/s]"
     ]
    },
    {
     "name": "stdout",
     "output_type": "stream",
     "text": [
      "test_12496.txt\n",
      "test_12497.txt\n",
      "test_12498.txt\n",
      "test_12499.txt\n",
      "test_12500.txt\n",
      "test_12501.txt\n",
      "test_12502.txt\n"
     ]
    },
    {
     "name": "stderr",
     "output_type": "stream",
     "text": [
      "\r",
      " 51%|██████████████████▎                 | 12503/24526 [03:40<03:31, 56.73it/s]"
     ]
    },
    {
     "name": "stdout",
     "output_type": "stream",
     "text": [
      "test_12503.txt\n",
      "test_12504.txt\n",
      "test_12505.txt\n",
      "test_12506.txt\n",
      "test_12507.txt\n",
      "test_12508.txt\n",
      "test_12509.txt\n",
      "test_12510.txt\n"
     ]
    },
    {
     "name": "stderr",
     "output_type": "stream",
     "text": [
      "\r",
      " 51%|██████████████████▎                 | 12511/24526 [03:40<03:31, 56.74it/s]"
     ]
    },
    {
     "name": "stdout",
     "output_type": "stream",
     "text": [
      "test_12511.txt\n",
      "test_12512.txt\n",
      "test_12513.txt\n",
      "test_12514.txt\n",
      "test_12515.txt\n",
      "test_12516.txt\n",
      "test_12517.txt\n",
      "test_12518.txt\n"
     ]
    },
    {
     "name": "stderr",
     "output_type": "stream",
     "text": [
      "\r",
      " 51%|██████████████████▍                 | 12519/24526 [03:40<03:31, 56.75it/s]"
     ]
    },
    {
     "name": "stdout",
     "output_type": "stream",
     "text": [
      "test_12519.txt\n",
      "test_12520.txt\n",
      "test_12521.txt\n",
      "test_12522.txt\n",
      "test_12523.txt\n",
      "test_12524.txt\n",
      "test_12525.txt\n"
     ]
    },
    {
     "name": "stderr",
     "output_type": "stream",
     "text": [
      "\r",
      " 51%|██████████████████▍                 | 12526/24526 [03:40<03:31, 56.75it/s]"
     ]
    },
    {
     "name": "stdout",
     "output_type": "stream",
     "text": [
      "test_12526.txt\n",
      "test_12527.txt\n",
      "test_12528.txt\n",
      "test_12529.txt\n",
      "test_12530.txt\n",
      "test_12531.txt\n",
      "test_12532.txt\n",
      "test_12533.txt\n",
      "test_12534.txt\n"
     ]
    },
    {
     "name": "stderr",
     "output_type": "stream",
     "text": [
      "\r",
      " 51%|██████████████████▍                 | 12535/24526 [03:40<03:31, 56.76it/s]"
     ]
    },
    {
     "name": "stdout",
     "output_type": "stream",
     "text": [
      "test_12535.txt\n",
      "test_12536.txt\n",
      "test_12537.txt\n",
      "test_12538.txt\n",
      "test_12539.txt\n",
      "test_12540.txt\n",
      "test_12541.txt\n",
      "test_12542.txt\n"
     ]
    },
    {
     "name": "stderr",
     "output_type": "stream",
     "text": [
      "\r",
      " 51%|██████████████████▍                 | 12543/24526 [03:40<03:31, 56.76it/s]"
     ]
    },
    {
     "name": "stdout",
     "output_type": "stream",
     "text": [
      "test_12543.txt\n",
      "test_12544.txt\n",
      "test_12545.txt\n",
      "test_12546.txt\n",
      "test_12547.txt\n",
      "test_12548.txt\n",
      "test_12549.txt\n"
     ]
    },
    {
     "name": "stderr",
     "output_type": "stream",
     "text": [
      "\r",
      " 51%|██████████████████▍                 | 12550/24526 [03:41<03:30, 56.77it/s]"
     ]
    },
    {
     "name": "stdout",
     "output_type": "stream",
     "text": [
      "test_12550.txt\n",
      "test_12551.txt\n",
      "test_12552.txt\n",
      "test_12553.txt\n",
      "test_12554.txt\n",
      "test_12555.txt\n",
      "test_12556.txt\n",
      "test_12557.txt\n"
     ]
    },
    {
     "name": "stderr",
     "output_type": "stream",
     "text": [
      "\r",
      " 51%|██████████████████▍                 | 12558/24526 [03:41<03:30, 56.77it/s]"
     ]
    },
    {
     "name": "stdout",
     "output_type": "stream",
     "text": [
      "test_12558.txt\n",
      "test_12559.txt\n",
      "test_12560.txt\n",
      "test_12561.txt\n",
      "test_12562.txt\n",
      "test_12563.txt\n",
      "test_12564.txt\n",
      "test_12565.txt\n"
     ]
    },
    {
     "name": "stderr",
     "output_type": "stream",
     "text": [
      "\r",
      " 51%|██████████████████▍                 | 12566/24526 [03:41<03:30, 56.78it/s]"
     ]
    },
    {
     "name": "stdout",
     "output_type": "stream",
     "text": [
      "test_12566.txt\n",
      "test_12567.txt\n",
      "test_12568.txt\n",
      "test_12569.txt\n",
      "test_12570.txt\n",
      "test_12571.txt\n",
      "test_12572.txt\n"
     ]
    },
    {
     "name": "stderr",
     "output_type": "stream",
     "text": [
      "\r",
      " 51%|██████████████████▍                 | 12573/24526 [03:41<03:30, 56.78it/s]"
     ]
    },
    {
     "name": "stdout",
     "output_type": "stream",
     "text": [
      "test_12573.txt\n",
      "test_12574.txt\n",
      "test_12575.txt\n",
      "test_12576.txt\n",
      "test_12577.txt\n",
      "test_12578.txt\n",
      "test_12579.txt\n"
     ]
    },
    {
     "name": "stderr",
     "output_type": "stream",
     "text": [
      "\r",
      " 51%|██████████████████▍                 | 12580/24526 [03:41<03:30, 56.79it/s]"
     ]
    },
    {
     "name": "stdout",
     "output_type": "stream",
     "text": [
      "test_12580.txt\n",
      "test_12581.txt\n",
      "test_12582.txt\n",
      "test_12583.txt\n",
      "test_12584.txt\n",
      "test_12585.txt\n",
      "test_12586.txt\n"
     ]
    },
    {
     "name": "stderr",
     "output_type": "stream",
     "text": [
      "\r",
      " 51%|██████████████████▍                 | 12587/24526 [03:41<03:30, 56.78it/s]"
     ]
    },
    {
     "name": "stdout",
     "output_type": "stream",
     "text": [
      "test_12587.txt\n",
      "test_12588.txt\n",
      "test_12589.txt\n",
      "test_12590.txt\n",
      "test_12591.txt\n",
      "test_12592.txt\n",
      "test_12593.txt\n"
     ]
    },
    {
     "name": "stderr",
     "output_type": "stream",
     "text": [
      "\r",
      " 51%|██████████████████▍                 | 12594/24526 [03:41<03:30, 56.78it/s]"
     ]
    },
    {
     "name": "stdout",
     "output_type": "stream",
     "text": [
      "test_12594.txt\n",
      "test_12595.txt\n",
      "test_12596.txt\n",
      "test_12597.txt\n",
      "test_12598.txt\n",
      "test_12599.txt\n"
     ]
    },
    {
     "name": "stderr",
     "output_type": "stream",
     "text": [
      "\r",
      " 51%|██████████████████▍                 | 12600/24526 [03:41<03:30, 56.78it/s]"
     ]
    },
    {
     "name": "stdout",
     "output_type": "stream",
     "text": [
      "test_12600.txt\n",
      "test_12601.txt\n",
      "test_12602.txt\n",
      "test_12603.txt\n",
      "test_12604.txt\n",
      "test_12605.txt\n"
     ]
    },
    {
     "name": "stderr",
     "output_type": "stream",
     "text": [
      "\r",
      " 51%|██████████████████▌                 | 12606/24526 [03:42<03:29, 56.77it/s]"
     ]
    },
    {
     "name": "stdout",
     "output_type": "stream",
     "text": [
      "test_12606.txt\n",
      "test_12607.txt\n",
      "test_12608.txt\n",
      "test_12609.txt\n",
      "test_12610.txt\n",
      "test_12611.txt\n"
     ]
    },
    {
     "name": "stderr",
     "output_type": "stream",
     "text": [
      "\r",
      " 51%|██████████████████▌                 | 12612/24526 [03:42<03:29, 56.77it/s]"
     ]
    },
    {
     "name": "stdout",
     "output_type": "stream",
     "text": [
      "test_12612.txt\n",
      "test_12613.txt\n",
      "test_12614.txt\n",
      "test_12615.txt\n",
      "test_12616.txt\n",
      "test_12617.txt\n",
      "test_12618.txt\n"
     ]
    },
    {
     "name": "stderr",
     "output_type": "stream",
     "text": [
      "\r",
      " 51%|██████████████████▌                 | 12619/24526 [03:42<03:29, 56.78it/s]"
     ]
    },
    {
     "name": "stdout",
     "output_type": "stream",
     "text": [
      "test_12619.txt\n",
      "test_12620.txt\n",
      "test_12621.txt\n",
      "test_12622.txt\n",
      "test_12623.txt\n",
      "test_12624.txt\n"
     ]
    },
    {
     "name": "stderr",
     "output_type": "stream",
     "text": [
      "\r",
      " 51%|██████████████████▌                 | 12625/24526 [03:42<03:29, 56.78it/s]"
     ]
    },
    {
     "name": "stdout",
     "output_type": "stream",
     "text": [
      "test_12625.txt\n",
      "test_12626.txt\n",
      "test_12627.txt\n",
      "test_12628.txt\n",
      "test_12629.txt\n",
      "test_12630.txt\n",
      "test_12631.txt\n"
     ]
    },
    {
     "name": "stderr",
     "output_type": "stream",
     "text": [
      "\r",
      " 52%|██████████████████▌                 | 12632/24526 [03:42<03:29, 56.78it/s]"
     ]
    },
    {
     "name": "stdout",
     "output_type": "stream",
     "text": [
      "test_12632.txt\n",
      "test_12633.txt\n",
      "test_12634.txt\n",
      "test_12635.txt\n",
      "test_12636.txt\n",
      "test_12637.txt\n",
      "test_12638.txt\n"
     ]
    },
    {
     "name": "stderr",
     "output_type": "stream",
     "text": [
      "\r",
      " 52%|██████████████████▌                 | 12639/24526 [03:42<03:29, 56.79it/s]"
     ]
    },
    {
     "name": "stdout",
     "output_type": "stream",
     "text": [
      "test_12639.txt\n",
      "test_12640.txt\n",
      "test_12641.txt\n",
      "test_12642.txt\n",
      "test_12643.txt\n",
      "test_12644.txt\n",
      "test_12645.txt\n"
     ]
    },
    {
     "name": "stderr",
     "output_type": "stream",
     "text": [
      "\r",
      " 52%|██████████████████▌                 | 12646/24526 [03:42<03:29, 56.79it/s]"
     ]
    },
    {
     "name": "stdout",
     "output_type": "stream",
     "text": [
      "test_12646.txt\n",
      "test_12647.txt\n",
      "test_12648.txt\n",
      "test_12649.txt\n",
      "test_12650.txt\n",
      "test_12651.txt\n",
      "test_12652.txt\n"
     ]
    },
    {
     "name": "stderr",
     "output_type": "stream",
     "text": [
      "\r",
      " 52%|██████████████████▌                 | 12653/24526 [03:42<03:29, 56.79it/s]"
     ]
    },
    {
     "name": "stdout",
     "output_type": "stream",
     "text": [
      "test_12653.txt\n",
      "test_12654.txt\n",
      "test_12655.txt\n",
      "test_12656.txt\n",
      "test_12657.txt\n",
      "test_12658.txt\n"
     ]
    },
    {
     "name": "stderr",
     "output_type": "stream",
     "text": [
      "\r",
      " 52%|██████████████████▌                 | 12659/24526 [03:42<03:28, 56.78it/s]"
     ]
    },
    {
     "name": "stdout",
     "output_type": "stream",
     "text": [
      "test_12659.txt\n",
      "test_12660.txt\n",
      "test_12661.txt\n",
      "test_12662.txt\n",
      "test_12663.txt\n",
      "test_12664.txt\n",
      "test_12665.txt\n",
      "test_12666.txt\n",
      "test_12667.txt\n"
     ]
    },
    {
     "name": "stderr",
     "output_type": "stream",
     "text": [
      "\r",
      " 52%|██████████████████▌                 | 12668/24526 [03:43<03:28, 56.79it/s]"
     ]
    },
    {
     "name": "stdout",
     "output_type": "stream",
     "text": [
      "test_12668.txt\n",
      "test_12669.txt\n",
      "test_12670.txt\n",
      "test_12671.txt\n",
      "test_12672.txt\n",
      "test_12673.txt\n",
      "test_12674.txt\n",
      "test_12675.txt\n",
      "test_12676.txt\n"
     ]
    },
    {
     "name": "stderr",
     "output_type": "stream",
     "text": [
      "\r",
      " 52%|██████████████████▌                 | 12677/24526 [03:43<03:28, 56.80it/s]"
     ]
    },
    {
     "name": "stdout",
     "output_type": "stream",
     "text": [
      "test_12677.txt\n",
      "test_12678.txt\n",
      "test_12679.txt\n",
      "test_12680.txt\n",
      "test_12681.txt\n",
      "test_12682.txt\n",
      "test_12683.txt\n"
     ]
    },
    {
     "name": "stderr",
     "output_type": "stream",
     "text": [
      "\r",
      " 52%|██████████████████▌                 | 12684/24526 [03:43<03:28, 56.79it/s]"
     ]
    },
    {
     "name": "stdout",
     "output_type": "stream",
     "text": [
      "test_12684.txt\n",
      "test_12685.txt\n",
      "test_12686.txt\n",
      "test_12687.txt\n",
      "test_12688.txt\n",
      "test_12689.txt\n"
     ]
    },
    {
     "name": "stderr",
     "output_type": "stream",
     "text": [
      "\r",
      " 52%|██████████████████▋                 | 12690/24526 [03:43<03:28, 56.79it/s]"
     ]
    },
    {
     "name": "stdout",
     "output_type": "stream",
     "text": [
      "test_12690.txt\n",
      "test_12691.txt\n",
      "test_12692.txt\n",
      "test_12693.txt\n",
      "test_12694.txt\n",
      "test_12695.txt\n",
      "test_12696.txt\n"
     ]
    },
    {
     "name": "stderr",
     "output_type": "stream",
     "text": [
      "\r",
      " 52%|██████████████████▋                 | 12697/24526 [03:43<03:28, 56.80it/s]"
     ]
    },
    {
     "name": "stdout",
     "output_type": "stream",
     "text": [
      "test_12697.txt\n",
      "test_12698.txt\n",
      "test_12699.txt\n",
      "test_12700.txt\n",
      "test_12701.txt\n",
      "test_12702.txt\n",
      "test_12703.txt\n"
     ]
    },
    {
     "name": "stderr",
     "output_type": "stream",
     "text": [
      "\r",
      " 52%|██████████████████▋                 | 12704/24526 [03:43<03:28, 56.80it/s]"
     ]
    },
    {
     "name": "stdout",
     "output_type": "stream",
     "text": [
      "test_12704.txt\n",
      "test_12705.txt\n",
      "test_12706.txt\n",
      "test_12707.txt\n",
      "test_12708.txt\n",
      "test_12709.txt\n",
      "test_12710.txt\n"
     ]
    },
    {
     "name": "stderr",
     "output_type": "stream",
     "text": [
      "\r",
      " 52%|██████████████████▋                 | 12711/24526 [03:43<03:28, 56.80it/s]"
     ]
    },
    {
     "name": "stdout",
     "output_type": "stream",
     "text": [
      "test_12711.txt\n",
      "test_12712.txt\n",
      "test_12713.txt\n",
      "test_12714.txt\n",
      "test_12715.txt\n",
      "test_12716.txt\n",
      "test_12717.txt\n"
     ]
    },
    {
     "name": "stderr",
     "output_type": "stream",
     "text": [
      "\r",
      " 52%|██████████████████▋                 | 12718/24526 [03:43<03:27, 56.80it/s]"
     ]
    },
    {
     "name": "stdout",
     "output_type": "stream",
     "text": [
      "test_12718.txt\n",
      "test_12719.txt\n",
      "test_12720.txt\n",
      "test_12721.txt\n",
      "test_12722.txt\n",
      "test_12723.txt\n"
     ]
    },
    {
     "name": "stderr",
     "output_type": "stream",
     "text": [
      "\r",
      " 52%|██████████████████▋                 | 12724/24526 [03:44<03:27, 56.79it/s]"
     ]
    },
    {
     "name": "stdout",
     "output_type": "stream",
     "text": [
      "test_12724.txt\n",
      "test_12725.txt\n",
      "test_12726.txt\n",
      "test_12727.txt\n",
      "test_12728.txt\n",
      "test_12729.txt\n"
     ]
    },
    {
     "name": "stderr",
     "output_type": "stream",
     "text": [
      "\r",
      " 52%|██████████████████▋                 | 12730/24526 [03:44<03:27, 56.79it/s]"
     ]
    },
    {
     "name": "stdout",
     "output_type": "stream",
     "text": [
      "test_12730.txt\n",
      "test_12731.txt\n",
      "test_12732.txt\n",
      "test_12733.txt\n",
      "test_12734.txt\n",
      "test_12735.txt\n"
     ]
    },
    {
     "name": "stderr",
     "output_type": "stream",
     "text": [
      "\r",
      " 52%|██████████████████▋                 | 12736/24526 [03:44<03:27, 56.79it/s]"
     ]
    },
    {
     "name": "stdout",
     "output_type": "stream",
     "text": [
      "test_12736.txt\n",
      "test_12737.txt\n",
      "test_12738.txt\n",
      "test_12739.txt\n",
      "test_12740.txt\n",
      "test_12741.txt\n"
     ]
    },
    {
     "name": "stderr",
     "output_type": "stream",
     "text": [
      "\r",
      " 52%|██████████████████▋                 | 12742/24526 [03:44<03:27, 56.79it/s]"
     ]
    },
    {
     "name": "stdout",
     "output_type": "stream",
     "text": [
      "test_12742.txt\n",
      "test_12743.txt\n",
      "test_12744.txt\n",
      "test_12745.txt\n",
      "test_12746.txt\n",
      "test_12747.txt\n"
     ]
    },
    {
     "name": "stderr",
     "output_type": "stream",
     "text": [
      "\r",
      " 52%|██████████████████▋                 | 12748/24526 [03:44<03:27, 56.79it/s]"
     ]
    },
    {
     "name": "stdout",
     "output_type": "stream",
     "text": [
      "test_12748.txt\n",
      "test_12749.txt\n",
      "test_12750.txt\n",
      "test_12751.txt\n",
      "test_12752.txt\n",
      "test_12753.txt\n"
     ]
    },
    {
     "name": "stderr",
     "output_type": "stream",
     "text": [
      "\r",
      " 52%|██████████████████▋                 | 12754/24526 [03:44<03:27, 56.79it/s]"
     ]
    },
    {
     "name": "stdout",
     "output_type": "stream",
     "text": [
      "test_12754.txt\n",
      "test_12755.txt\n",
      "test_12756.txt\n",
      "test_12757.txt\n",
      "test_12758.txt\n",
      "test_12759.txt\n"
     ]
    },
    {
     "name": "stderr",
     "output_type": "stream",
     "text": [
      "\r",
      " 52%|██████████████████▋                 | 12760/24526 [03:44<03:27, 56.79it/s]"
     ]
    },
    {
     "name": "stdout",
     "output_type": "stream",
     "text": [
      "test_12760.txt\n",
      "test_12761.txt\n",
      "test_12762.txt\n",
      "test_12763.txt\n",
      "test_12764.txt\n",
      "test_12765.txt\n"
     ]
    },
    {
     "name": "stderr",
     "output_type": "stream",
     "text": [
      "\r",
      " 52%|██████████████████▋                 | 12766/24526 [03:44<03:27, 56.78it/s]"
     ]
    },
    {
     "name": "stdout",
     "output_type": "stream",
     "text": [
      "test_12766.txt\n",
      "test_12767.txt\n",
      "test_12768.txt\n",
      "test_12769.txt\n",
      "test_12770.txt\n",
      "test_12771.txt\n"
     ]
    },
    {
     "name": "stderr",
     "output_type": "stream",
     "text": [
      "\r",
      " 52%|██████████████████▋                 | 12772/24526 [03:44<03:27, 56.78it/s]"
     ]
    },
    {
     "name": "stdout",
     "output_type": "stream",
     "text": [
      "test_12772.txt\n",
      "test_12773.txt\n",
      "test_12774.txt\n",
      "test_12775.txt\n",
      "test_12776.txt\n",
      "test_12777.txt\n"
     ]
    },
    {
     "name": "stderr",
     "output_type": "stream",
     "text": [
      "\r",
      " 52%|██████████████████▊                 | 12778/24526 [03:45<03:26, 56.78it/s]"
     ]
    },
    {
     "name": "stdout",
     "output_type": "stream",
     "text": [
      "test_12778.txt\n",
      "test_12779.txt\n",
      "test_12780.txt\n",
      "test_12781.txt\n",
      "test_12782.txt\n",
      "test_12783.txt\n"
     ]
    },
    {
     "name": "stderr",
     "output_type": "stream",
     "text": [
      "\r",
      " 52%|██████████████████▊                 | 12784/24526 [03:45<03:26, 56.78it/s]"
     ]
    },
    {
     "name": "stdout",
     "output_type": "stream",
     "text": [
      "test_12784.txt\n",
      "test_12785.txt\n",
      "test_12786.txt\n",
      "test_12787.txt\n",
      "test_12788.txt\n",
      "test_12789.txt\n"
     ]
    },
    {
     "name": "stderr",
     "output_type": "stream",
     "text": [
      "\r",
      " 52%|██████████████████▊                 | 12790/24526 [03:45<03:26, 56.78it/s]"
     ]
    },
    {
     "name": "stdout",
     "output_type": "stream",
     "text": [
      "test_12790.txt\n",
      "test_12791.txt\n",
      "test_12792.txt\n",
      "test_12793.txt\n",
      "test_12794.txt\n",
      "test_12795.txt\n",
      "test_12796.txt\n"
     ]
    },
    {
     "name": "stderr",
     "output_type": "stream",
     "text": [
      "\r",
      " 52%|██████████████████▊                 | 12797/24526 [03:45<03:26, 56.78it/s]"
     ]
    },
    {
     "name": "stdout",
     "output_type": "stream",
     "text": [
      "test_12797.txt\n",
      "test_12798.txt\n",
      "test_12799.txt\n",
      "test_12800.txt\n",
      "test_12801.txt\n",
      "test_12802.txt\n"
     ]
    },
    {
     "name": "stderr",
     "output_type": "stream",
     "text": [
      "\r",
      " 52%|██████████████████▊                 | 12803/24526 [03:45<03:26, 56.78it/s]"
     ]
    },
    {
     "name": "stdout",
     "output_type": "stream",
     "text": [
      "test_12803.txt\n",
      "test_12804.txt\n",
      "test_12805.txt\n",
      "test_12806.txt\n",
      "test_12807.txt\n",
      "test_12808.txt\n",
      "test_12809.txt\n",
      "test_12810.txt\n",
      "test_12811.txt\n"
     ]
    },
    {
     "name": "stderr",
     "output_type": "stream",
     "text": [
      "\r",
      " 52%|██████████████████▊                 | 12812/24526 [03:45<03:26, 56.79it/s]"
     ]
    },
    {
     "name": "stdout",
     "output_type": "stream",
     "text": [
      "test_12812.txt\n",
      "test_12813.txt\n",
      "test_12814.txt\n",
      "test_12815.txt\n",
      "test_12816.txt\n",
      "test_12817.txt\n",
      "test_12818.txt\n"
     ]
    },
    {
     "name": "stderr",
     "output_type": "stream",
     "text": [
      "\r",
      " 52%|██████████████████▊                 | 12819/24526 [03:45<03:26, 56.79it/s]"
     ]
    },
    {
     "name": "stdout",
     "output_type": "stream",
     "text": [
      "test_12819.txt\n",
      "test_12820.txt\n",
      "test_12821.txt\n",
      "test_12822.txt\n",
      "test_12823.txt\n",
      "test_12824.txt\n",
      "test_12825.txt\n"
     ]
    },
    {
     "name": "stderr",
     "output_type": "stream",
     "text": [
      "\r",
      " 52%|██████████████████▊                 | 12826/24526 [03:45<03:26, 56.79it/s]"
     ]
    },
    {
     "name": "stdout",
     "output_type": "stream",
     "text": [
      "test_12826.txt\n",
      "test_12827.txt\n",
      "test_12828.txt\n",
      "test_12829.txt\n",
      "test_12830.txt\n",
      "test_12831.txt\n",
      "test_12832.txt\n"
     ]
    },
    {
     "name": "stderr",
     "output_type": "stream",
     "text": [
      "\r",
      " 52%|██████████████████▊                 | 12833/24526 [03:45<03:25, 56.79it/s]"
     ]
    },
    {
     "name": "stdout",
     "output_type": "stream",
     "text": [
      "test_12833.txt\n",
      "test_12834.txt\n",
      "test_12835.txt\n",
      "test_12836.txt\n",
      "test_12837.txt\n",
      "test_12838.txt\n",
      "test_12839.txt\n"
     ]
    },
    {
     "name": "stderr",
     "output_type": "stream",
     "text": [
      "\r",
      " 52%|██████████████████▊                 | 12840/24526 [03:46<03:25, 56.79it/s]"
     ]
    },
    {
     "name": "stdout",
     "output_type": "stream",
     "text": [
      "test_12840.txt\n",
      "test_12841.txt\n",
      "test_12842.txt\n",
      "test_12843.txt\n",
      "test_12844.txt\n",
      "test_12845.txt\n",
      "test_12846.txt\n"
     ]
    },
    {
     "name": "stderr",
     "output_type": "stream",
     "text": [
      "\r",
      " 52%|██████████████████▊                 | 12847/24526 [03:46<03:25, 56.79it/s]"
     ]
    },
    {
     "name": "stdout",
     "output_type": "stream",
     "text": [
      "test_12847.txt\n",
      "test_12848.txt\n",
      "test_12849.txt\n",
      "test_12850.txt\n",
      "test_12851.txt\n",
      "test_12852.txt\n",
      "test_12853.txt\n"
     ]
    },
    {
     "name": "stderr",
     "output_type": "stream",
     "text": [
      "\r",
      " 52%|██████████████████▊                 | 12854/24526 [03:46<03:25, 56.80it/s]"
     ]
    },
    {
     "name": "stdout",
     "output_type": "stream",
     "text": [
      "test_12854.txt\n",
      "test_12855.txt\n",
      "test_12856.txt\n",
      "test_12857.txt\n",
      "test_12858.txt\n",
      "test_12859.txt\n",
      "test_12860.txt\n"
     ]
    },
    {
     "name": "stderr",
     "output_type": "stream",
     "text": [
      "\r",
      " 52%|██████████████████▉                 | 12861/24526 [03:46<03:25, 56.79it/s]"
     ]
    },
    {
     "name": "stdout",
     "output_type": "stream",
     "text": [
      "test_12861.txt\n",
      "test_12862.txt\n",
      "test_12863.txt\n",
      "test_12864.txt\n",
      "test_12865.txt\n",
      "test_12866.txt\n",
      "test_12867.txt\n"
     ]
    },
    {
     "name": "stderr",
     "output_type": "stream",
     "text": [
      "\r",
      " 52%|██████████████████▉                 | 12868/24526 [03:46<03:25, 56.80it/s]"
     ]
    },
    {
     "name": "stdout",
     "output_type": "stream",
     "text": [
      "test_12868.txt\n",
      "test_12869.txt\n",
      "test_12870.txt\n",
      "test_12871.txt\n",
      "test_12872.txt\n",
      "test_12873.txt\n"
     ]
    },
    {
     "name": "stderr",
     "output_type": "stream",
     "text": [
      "\r",
      " 52%|██████████████████▉                 | 12874/24526 [03:46<03:25, 56.79it/s]"
     ]
    },
    {
     "name": "stdout",
     "output_type": "stream",
     "text": [
      "test_12874.txt\n",
      "test_12875.txt\n",
      "test_12876.txt\n",
      "test_12877.txt\n",
      "test_12878.txt\n",
      "test_12879.txt\n"
     ]
    },
    {
     "name": "stderr",
     "output_type": "stream",
     "text": [
      "\r",
      " 53%|██████████████████▉                 | 12880/24526 [03:46<03:25, 56.79it/s]"
     ]
    },
    {
     "name": "stdout",
     "output_type": "stream",
     "text": [
      "test_12880.txt\n",
      "test_12881.txt\n",
      "test_12882.txt\n",
      "test_12883.txt\n",
      "test_12884.txt\n",
      "test_12885.txt\n"
     ]
    },
    {
     "name": "stderr",
     "output_type": "stream",
     "text": [
      "\r",
      " 53%|██████████████████▉                 | 12886/24526 [03:46<03:24, 56.78it/s]"
     ]
    },
    {
     "name": "stdout",
     "output_type": "stream",
     "text": [
      "test_12886.txt\n",
      "test_12887.txt\n",
      "test_12888.txt\n",
      "test_12889.txt\n",
      "test_12890.txt\n",
      "test_12891.txt\n",
      "test_12892.txt\n"
     ]
    },
    {
     "name": "stderr",
     "output_type": "stream",
     "text": [
      "\r",
      " 53%|██████████████████▉                 | 12893/24526 [03:47<03:24, 56.79it/s]"
     ]
    },
    {
     "name": "stdout",
     "output_type": "stream",
     "text": [
      "test_12893.txt\n",
      "test_12894.txt\n",
      "test_12895.txt\n",
      "test_12896.txt\n",
      "test_12897.txt\n",
      "test_12898.txt\n"
     ]
    },
    {
     "name": "stderr",
     "output_type": "stream",
     "text": [
      "\r",
      " 53%|██████████████████▉                 | 12899/24526 [03:47<03:24, 56.78it/s]"
     ]
    },
    {
     "name": "stdout",
     "output_type": "stream",
     "text": [
      "test_12899.txt\n",
      "test_12900.txt\n",
      "test_12901.txt\n",
      "test_12902.txt\n",
      "test_12903.txt\n",
      "test_12904.txt\n"
     ]
    },
    {
     "name": "stderr",
     "output_type": "stream",
     "text": [
      "\r",
      " 53%|██████████████████▉                 | 12905/24526 [03:47<03:24, 56.78it/s]"
     ]
    },
    {
     "name": "stdout",
     "output_type": "stream",
     "text": [
      "test_12905.txt\n",
      "test_12906.txt\n",
      "test_12907.txt\n",
      "test_12908.txt\n",
      "test_12909.txt\n",
      "test_12910.txt\n"
     ]
    },
    {
     "name": "stderr",
     "output_type": "stream",
     "text": [
      "\r",
      " 53%|██████████████████▉                 | 12911/24526 [03:47<03:24, 56.78it/s]"
     ]
    },
    {
     "name": "stdout",
     "output_type": "stream",
     "text": [
      "test_12911.txt\n",
      "test_12912.txt\n",
      "test_12913.txt\n",
      "test_12914.txt\n",
      "test_12915.txt\n",
      "test_12916.txt\n"
     ]
    },
    {
     "name": "stderr",
     "output_type": "stream",
     "text": [
      "\r",
      " 53%|██████████████████▉                 | 12917/24526 [03:47<03:24, 56.78it/s]"
     ]
    },
    {
     "name": "stdout",
     "output_type": "stream",
     "text": [
      "test_12917.txt\n",
      "test_12918.txt\n",
      "test_12919.txt\n",
      "test_12920.txt\n",
      "test_12921.txt\n",
      "test_12922.txt\n"
     ]
    },
    {
     "name": "stderr",
     "output_type": "stream",
     "text": [
      "\r",
      " 53%|██████████████████▉                 | 12923/24526 [03:47<03:24, 56.78it/s]"
     ]
    },
    {
     "name": "stdout",
     "output_type": "stream",
     "text": [
      "test_12923.txt\n",
      "test_12924.txt\n",
      "test_12925.txt\n",
      "test_12926.txt\n",
      "test_12927.txt\n",
      "test_12928.txt\n"
     ]
    },
    {
     "name": "stderr",
     "output_type": "stream",
     "text": [
      "\r",
      " 53%|██████████████████▉                 | 12929/24526 [03:47<03:24, 56.78it/s]"
     ]
    },
    {
     "name": "stdout",
     "output_type": "stream",
     "text": [
      "test_12929.txt\n",
      "test_12930.txt\n",
      "test_12931.txt\n",
      "test_12932.txt\n",
      "test_12933.txt\n",
      "test_12934.txt\n",
      "test_12935.txt\n",
      "test_12936.txt\n",
      "test_12937.txt\n"
     ]
    },
    {
     "name": "stderr",
     "output_type": "stream",
     "text": [
      "\r",
      " 53%|██████████████████▉                 | 12938/24526 [03:47<03:24, 56.78it/s]"
     ]
    },
    {
     "name": "stdout",
     "output_type": "stream",
     "text": [
      "test_12938.txt\n",
      "test_12939.txt\n",
      "test_12940.txt\n",
      "test_12941.txt\n",
      "test_12942.txt\n",
      "test_12943.txt\n",
      "test_12944.txt\n"
     ]
    },
    {
     "name": "stderr",
     "output_type": "stream",
     "text": [
      "\r",
      " 53%|███████████████████                 | 12945/24526 [03:47<03:23, 56.79it/s]"
     ]
    },
    {
     "name": "stdout",
     "output_type": "stream",
     "text": [
      "test_12945.txt\n",
      "test_12946.txt\n",
      "test_12947.txt\n",
      "test_12948.txt\n",
      "test_12949.txt\n",
      "test_12950.txt\n",
      "test_12951.txt\n"
     ]
    },
    {
     "name": "stderr",
     "output_type": "stream",
     "text": [
      "\r",
      " 53%|███████████████████                 | 12952/24526 [03:48<03:23, 56.78it/s]"
     ]
    },
    {
     "name": "stdout",
     "output_type": "stream",
     "text": [
      "test_12952.txt\n",
      "test_12953.txt\n",
      "test_12954.txt\n",
      "test_12955.txt\n",
      "test_12956.txt\n",
      "test_12957.txt\n",
      "test_12958.txt\n"
     ]
    },
    {
     "name": "stderr",
     "output_type": "stream",
     "text": [
      "\r",
      " 53%|███████████████████                 | 12959/24526 [03:48<03:23, 56.78it/s]"
     ]
    },
    {
     "name": "stdout",
     "output_type": "stream",
     "text": [
      "test_12959.txt\n",
      "test_12960.txt\n",
      "test_12961.txt\n",
      "test_12962.txt\n",
      "test_12963.txt\n",
      "test_12964.txt\n",
      "test_12965.txt\n",
      "test_12966.txt\n"
     ]
    },
    {
     "name": "stderr",
     "output_type": "stream",
     "text": [
      "\r",
      " 53%|███████████████████                 | 12967/24526 [03:48<03:23, 56.79it/s]"
     ]
    },
    {
     "name": "stdout",
     "output_type": "stream",
     "text": [
      "test_12967.txt\n",
      "test_12968.txt\n",
      "test_12969.txt\n",
      "test_12970.txt\n",
      "test_12971.txt\n",
      "test_12972.txt\n",
      "test_12973.txt\n",
      "test_12974.txt\n"
     ]
    },
    {
     "name": "stderr",
     "output_type": "stream",
     "text": [
      "\r",
      " 53%|███████████████████                 | 12975/24526 [03:48<03:23, 56.79it/s]"
     ]
    },
    {
     "name": "stdout",
     "output_type": "stream",
     "text": [
      "test_12975.txt\n",
      "test_12976.txt\n",
      "test_12977.txt\n",
      "test_12978.txt\n",
      "test_12979.txt\n",
      "test_12980.txt\n",
      "test_12981.txt\n"
     ]
    },
    {
     "name": "stderr",
     "output_type": "stream",
     "text": [
      "\r",
      " 53%|███████████████████                 | 12982/24526 [03:48<03:23, 56.80it/s]"
     ]
    },
    {
     "name": "stdout",
     "output_type": "stream",
     "text": [
      "test_12982.txt\n",
      "test_12983.txt\n",
      "test_12984.txt\n",
      "test_12985.txt\n",
      "test_12986.txt\n",
      "test_12987.txt\n",
      "test_12988.txt\n"
     ]
    },
    {
     "name": "stderr",
     "output_type": "stream",
     "text": [
      "\r",
      " 53%|███████████████████                 | 12989/24526 [03:48<03:23, 56.81it/s]"
     ]
    },
    {
     "name": "stdout",
     "output_type": "stream",
     "text": [
      "test_12989.txt\n",
      "test_12990.txt\n",
      "test_12991.txt\n",
      "test_12992.txt\n",
      "test_12993.txt\n",
      "test_12994.txt\n",
      "test_12995.txt\n"
     ]
    },
    {
     "name": "stderr",
     "output_type": "stream",
     "text": [
      "\r",
      " 53%|███████████████████                 | 12996/24526 [03:48<03:22, 56.81it/s]"
     ]
    },
    {
     "name": "stdout",
     "output_type": "stream",
     "text": [
      "test_12996.txt\n",
      "test_12997.txt\n",
      "test_12998.txt\n",
      "test_12999.txt\n",
      "test_13000.txt\n",
      "test_13001.txt\n",
      "test_13002.txt\n"
     ]
    },
    {
     "name": "stderr",
     "output_type": "stream",
     "text": [
      "\r",
      " 53%|███████████████████                 | 13003/24526 [03:48<03:22, 56.81it/s]"
     ]
    },
    {
     "name": "stdout",
     "output_type": "stream",
     "text": [
      "test_13003.txt\n",
      "test_13004.txt\n",
      "test_13005.txt\n",
      "test_13006.txt\n",
      "test_13007.txt\n",
      "test_13008.txt\n",
      "test_13009.txt\n"
     ]
    },
    {
     "name": "stderr",
     "output_type": "stream",
     "text": [
      "\r",
      " 53%|███████████████████                 | 13010/24526 [03:49<03:22, 56.81it/s]"
     ]
    },
    {
     "name": "stdout",
     "output_type": "stream",
     "text": [
      "test_13010.txt\n",
      "test_13011.txt\n",
      "test_13012.txt\n",
      "test_13013.txt\n",
      "test_13014.txt\n",
      "test_13015.txt\n",
      "test_13016.txt\n"
     ]
    },
    {
     "name": "stderr",
     "output_type": "stream",
     "text": [
      "\r",
      " 53%|███████████████████                 | 13017/24526 [03:49<03:22, 56.81it/s]"
     ]
    },
    {
     "name": "stdout",
     "output_type": "stream",
     "text": [
      "test_13017.txt\n",
      "test_13018.txt\n",
      "test_13019.txt\n",
      "test_13020.txt\n",
      "test_13021.txt\n",
      "test_13022.txt\n",
      "test_13023.txt\n"
     ]
    },
    {
     "name": "stderr",
     "output_type": "stream",
     "text": [
      "\r",
      " 53%|███████████████████                 | 13024/24526 [03:49<03:22, 56.80it/s]"
     ]
    },
    {
     "name": "stdout",
     "output_type": "stream",
     "text": [
      "test_13024.txt\n",
      "test_13025.txt\n",
      "test_13026.txt\n",
      "test_13027.txt\n",
      "test_13028.txt\n",
      "test_13029.txt\n"
     ]
    },
    {
     "name": "stderr",
     "output_type": "stream",
     "text": [
      "\r",
      " 53%|███████████████████▏                | 13030/24526 [03:49<03:22, 56.80it/s]"
     ]
    },
    {
     "name": "stdout",
     "output_type": "stream",
     "text": [
      "test_13030.txt\n",
      "test_13031.txt\n",
      "test_13032.txt\n",
      "test_13033.txt\n",
      "test_13034.txt\n",
      "test_13035.txt\n",
      "test_13036.txt\n"
     ]
    },
    {
     "name": "stderr",
     "output_type": "stream",
     "text": [
      "\r",
      " 53%|███████████████████▏                | 13037/24526 [03:49<03:22, 56.80it/s]"
     ]
    },
    {
     "name": "stdout",
     "output_type": "stream",
     "text": [
      "test_13037.txt\n",
      "test_13038.txt\n",
      "test_13039.txt\n",
      "test_13040.txt\n",
      "test_13041.txt\n",
      "test_13042.txt\n"
     ]
    },
    {
     "name": "stderr",
     "output_type": "stream",
     "text": [
      "\r",
      " 53%|███████████████████▏                | 13043/24526 [03:49<03:22, 56.80it/s]"
     ]
    },
    {
     "name": "stdout",
     "output_type": "stream",
     "text": [
      "test_13043.txt\n",
      "test_13044.txt\n",
      "test_13045.txt\n",
      "test_13046.txt\n",
      "test_13047.txt\n",
      "test_13048.txt\n"
     ]
    },
    {
     "name": "stderr",
     "output_type": "stream",
     "text": [
      "\r",
      " 53%|███████████████████▏                | 13049/24526 [03:49<03:22, 56.80it/s]"
     ]
    },
    {
     "name": "stdout",
     "output_type": "stream",
     "text": [
      "test_13049.txt\n",
      "test_13050.txt\n",
      "test_13051.txt\n",
      "test_13052.txt\n",
      "test_13053.txt\n",
      "test_13054.txt\n",
      "test_13055.txt\n",
      "test_13056.txt\n"
     ]
    },
    {
     "name": "stderr",
     "output_type": "stream",
     "text": [
      "\r",
      " 53%|███████████████████▏                | 13057/24526 [03:49<03:21, 56.81it/s]"
     ]
    },
    {
     "name": "stdout",
     "output_type": "stream",
     "text": [
      "test_13057.txt\n",
      "test_13058.txt\n",
      "test_13059.txt\n",
      "test_13060.txt\n",
      "test_13061.txt\n",
      "test_13062.txt\n"
     ]
    },
    {
     "name": "stderr",
     "output_type": "stream",
     "text": [
      "\r",
      " 53%|███████████████████▏                | 13063/24526 [03:49<03:21, 56.80it/s]"
     ]
    },
    {
     "name": "stdout",
     "output_type": "stream",
     "text": [
      "test_13063.txt\n",
      "test_13064.txt\n",
      "test_13065.txt\n",
      "test_13066.txt\n",
      "test_13067.txt\n",
      "test_13068.txt\n",
      "test_13069.txt\n"
     ]
    },
    {
     "name": "stderr",
     "output_type": "stream",
     "text": [
      "\r",
      " 53%|███████████████████▏                | 13070/24526 [03:50<03:21, 56.81it/s]"
     ]
    },
    {
     "name": "stdout",
     "output_type": "stream",
     "text": [
      "test_13070.txt\n",
      "test_13071.txt\n",
      "test_13072.txt\n",
      "test_13073.txt\n",
      "test_13074.txt\n",
      "test_13075.txt\n"
     ]
    },
    {
     "name": "stderr",
     "output_type": "stream",
     "text": [
      "\r",
      " 53%|███████████████████▏                | 13076/24526 [03:50<03:21, 56.80it/s]"
     ]
    },
    {
     "name": "stdout",
     "output_type": "stream",
     "text": [
      "test_13076.txt\n",
      "test_13077.txt\n",
      "test_13078.txt\n",
      "test_13079.txt\n",
      "test_13080.txt\n",
      "test_13081.txt\n",
      "test_13082.txt\n"
     ]
    },
    {
     "name": "stderr",
     "output_type": "stream",
     "text": [
      "\r",
      " 53%|███████████████████▏                | 13083/24526 [03:50<03:21, 56.80it/s]"
     ]
    },
    {
     "name": "stdout",
     "output_type": "stream",
     "text": [
      "test_13083.txt\n",
      "test_13084.txt\n",
      "test_13085.txt\n",
      "test_13086.txt\n",
      "test_13087.txt\n",
      "test_13088.txt\n",
      "test_13089.txt\n",
      "test_13090.txt\n"
     ]
    },
    {
     "name": "stderr",
     "output_type": "stream",
     "text": [
      "\r",
      " 53%|███████████████████▏                | 13091/24526 [03:50<03:21, 56.81it/s]"
     ]
    },
    {
     "name": "stdout",
     "output_type": "stream",
     "text": [
      "test_13091.txt\n",
      "test_13092.txt\n",
      "test_13093.txt\n",
      "test_13094.txt\n",
      "test_13095.txt\n",
      "test_13096.txt\n"
     ]
    },
    {
     "name": "stderr",
     "output_type": "stream",
     "text": [
      "\r",
      " 53%|███████████████████▏                | 13097/24526 [03:50<03:21, 56.80it/s]"
     ]
    },
    {
     "name": "stdout",
     "output_type": "stream",
     "text": [
      "test_13097.txt\n",
      "test_13098.txt\n",
      "test_13099.txt\n",
      "test_13100.txt\n",
      "test_13101.txt\n",
      "test_13102.txt\n"
     ]
    },
    {
     "name": "stderr",
     "output_type": "stream",
     "text": [
      "\r",
      " 53%|███████████████████▏                | 13103/24526 [03:50<03:21, 56.80it/s]"
     ]
    },
    {
     "name": "stdout",
     "output_type": "stream",
     "text": [
      "test_13103.txt\n",
      "test_13104.txt\n",
      "test_13105.txt\n",
      "test_13106.txt\n",
      "test_13107.txt\n",
      "test_13108.txt\n"
     ]
    },
    {
     "name": "stderr",
     "output_type": "stream",
     "text": [
      "\r",
      " 53%|███████████████████▏                | 13109/24526 [03:50<03:20, 56.80it/s]"
     ]
    },
    {
     "name": "stdout",
     "output_type": "stream",
     "text": [
      "test_13109.txt\n",
      "test_13110.txt\n",
      "test_13111.txt\n",
      "test_13112.txt\n",
      "test_13113.txt\n",
      "test_13114.txt\n"
     ]
    },
    {
     "name": "stderr",
     "output_type": "stream",
     "text": [
      "\r",
      " 53%|███████████████████▎                | 13115/24526 [03:50<03:20, 56.80it/s]"
     ]
    },
    {
     "name": "stdout",
     "output_type": "stream",
     "text": [
      "test_13115.txt\n",
      "test_13116.txt\n",
      "test_13117.txt\n",
      "test_13118.txt\n",
      "test_13119.txt\n",
      "test_13120.txt\n",
      "test_13121.txt\n"
     ]
    },
    {
     "name": "stderr",
     "output_type": "stream",
     "text": [
      "\r",
      " 54%|███████████████████▎                | 13122/24526 [03:51<03:20, 56.81it/s]"
     ]
    },
    {
     "name": "stdout",
     "output_type": "stream",
     "text": [
      "test_13122.txt\n",
      "test_13123.txt\n",
      "test_13124.txt\n",
      "test_13125.txt\n",
      "test_13126.txt\n",
      "test_13127.txt\n",
      "test_13128.txt\n",
      "test_13129.txt\n"
     ]
    },
    {
     "name": "stderr",
     "output_type": "stream",
     "text": [
      "\r",
      " 54%|███████████████████▎                | 13130/24526 [03:51<03:20, 56.81it/s]"
     ]
    },
    {
     "name": "stdout",
     "output_type": "stream",
     "text": [
      "test_13130.txt\n",
      "test_13131.txt\n",
      "test_13132.txt\n",
      "test_13133.txt\n",
      "test_13134.txt\n",
      "test_13135.txt\n",
      "test_13136.txt\n"
     ]
    },
    {
     "name": "stderr",
     "output_type": "stream",
     "text": [
      "\r",
      " 54%|███████████████████▎                | 13137/24526 [03:51<03:20, 56.81it/s]"
     ]
    },
    {
     "name": "stdout",
     "output_type": "stream",
     "text": [
      "test_13137.txt\n",
      "test_13138.txt\n",
      "test_13139.txt\n",
      "test_13140.txt\n",
      "test_13141.txt\n",
      "test_13142.txt\n",
      "test_13143.txt\n"
     ]
    },
    {
     "name": "stderr",
     "output_type": "stream",
     "text": [
      "\r",
      " 54%|███████████████████▎                | 13144/24526 [03:51<03:20, 56.81it/s]"
     ]
    },
    {
     "name": "stdout",
     "output_type": "stream",
     "text": [
      "test_13144.txt\n",
      "test_13145.txt\n",
      "test_13146.txt\n",
      "test_13147.txt\n",
      "test_13148.txt\n",
      "test_13149.txt\n",
      "test_13150.txt\n"
     ]
    },
    {
     "name": "stderr",
     "output_type": "stream",
     "text": [
      "\r",
      " 54%|███████████████████▎                | 13151/24526 [03:51<03:20, 56.81it/s]"
     ]
    },
    {
     "name": "stdout",
     "output_type": "stream",
     "text": [
      "test_13151.txt\n",
      "test_13152.txt\n",
      "test_13153.txt\n",
      "test_13154.txt\n",
      "test_13155.txt\n",
      "test_13156.txt\n",
      "test_13157.txt\n",
      "test_13158.txt\n",
      "test_13159.txt\n"
     ]
    },
    {
     "name": "stderr",
     "output_type": "stream",
     "text": [
      "\r",
      " 54%|███████████████████▎                | 13160/24526 [03:51<03:20, 56.82it/s]"
     ]
    },
    {
     "name": "stdout",
     "output_type": "stream",
     "text": [
      "test_13160.txt\n",
      "test_13161.txt\n",
      "test_13162.txt\n",
      "test_13163.txt\n",
      "test_13164.txt\n",
      "test_13165.txt\n",
      "test_13166.txt\n",
      "test_13167.txt\n",
      "test_13168.txt\n"
     ]
    },
    {
     "name": "stderr",
     "output_type": "stream",
     "text": [
      "\r",
      " 54%|███████████████████▎                | 13169/24526 [03:51<03:19, 56.83it/s]"
     ]
    },
    {
     "name": "stdout",
     "output_type": "stream",
     "text": [
      "test_13169.txt\n",
      "test_13170.txt\n",
      "test_13171.txt\n",
      "test_13172.txt\n",
      "test_13173.txt\n",
      "test_13174.txt\n",
      "test_13175.txt\n"
     ]
    },
    {
     "name": "stderr",
     "output_type": "stream",
     "text": [
      "\r",
      " 54%|███████████████████▎                | 13176/24526 [03:51<03:19, 56.83it/s]"
     ]
    },
    {
     "name": "stdout",
     "output_type": "stream",
     "text": [
      "test_13176.txt\n",
      "test_13177.txt\n",
      "test_13178.txt\n",
      "test_13179.txt\n",
      "test_13180.txt\n",
      "test_13181.txt\n",
      "test_13182.txt\n"
     ]
    },
    {
     "name": "stderr",
     "output_type": "stream",
     "text": [
      "\r",
      " 54%|███████████████████▎                | 13183/24526 [03:51<03:19, 56.83it/s]"
     ]
    },
    {
     "name": "stdout",
     "output_type": "stream",
     "text": [
      "test_13183.txt\n",
      "test_13184.txt\n",
      "test_13185.txt\n",
      "test_13186.txt\n",
      "test_13187.txt\n",
      "test_13188.txt\n",
      "test_13189.txt\n"
     ]
    },
    {
     "name": "stderr",
     "output_type": "stream",
     "text": [
      "\r",
      " 54%|███████████████████▎                | 13190/24526 [03:52<03:19, 56.83it/s]"
     ]
    },
    {
     "name": "stdout",
     "output_type": "stream",
     "text": [
      "test_13190.txt\n",
      "test_13191.txt\n",
      "test_13192.txt\n",
      "test_13193.txt\n",
      "test_13194.txt\n",
      "test_13195.txt\n",
      "test_13196.txt\n"
     ]
    },
    {
     "name": "stderr",
     "output_type": "stream",
     "text": [
      "\r",
      " 54%|███████████████████▎                | 13197/24526 [03:52<03:19, 56.83it/s]"
     ]
    },
    {
     "name": "stdout",
     "output_type": "stream",
     "text": [
      "test_13197.txt\n",
      "test_13198.txt\n",
      "test_13199.txt\n",
      "test_13200.txt\n",
      "test_13201.txt\n",
      "test_13202.txt\n",
      "test_13203.txt\n"
     ]
    },
    {
     "name": "stderr",
     "output_type": "stream",
     "text": [
      "\r",
      " 54%|███████████████████▍                | 13204/24526 [03:52<03:19, 56.83it/s]"
     ]
    },
    {
     "name": "stdout",
     "output_type": "stream",
     "text": [
      "test_13204.txt\n",
      "test_13205.txt\n",
      "test_13206.txt\n",
      "test_13207.txt\n",
      "test_13208.txt\n",
      "test_13209.txt\n",
      "test_13210.txt\n",
      "test_13211.txt\n"
     ]
    },
    {
     "name": "stderr",
     "output_type": "stream",
     "text": [
      "\r",
      " 54%|███████████████████▍                | 13212/24526 [03:52<03:19, 56.84it/s]"
     ]
    },
    {
     "name": "stdout",
     "output_type": "stream",
     "text": [
      "test_13212.txt\n",
      "test_13213.txt\n",
      "test_13214.txt\n",
      "test_13215.txt\n",
      "test_13216.txt\n",
      "test_13217.txt\n",
      "test_13218.txt\n"
     ]
    },
    {
     "name": "stderr",
     "output_type": "stream",
     "text": [
      "\r",
      " 54%|███████████████████▍                | 13219/24526 [03:52<03:18, 56.84it/s]"
     ]
    },
    {
     "name": "stdout",
     "output_type": "stream",
     "text": [
      "test_13219.txt\n",
      "test_13220.txt\n",
      "test_13221.txt\n",
      "test_13222.txt\n",
      "test_13223.txt\n",
      "test_13224.txt\n",
      "test_13225.txt\n"
     ]
    },
    {
     "name": "stderr",
     "output_type": "stream",
     "text": [
      "\r",
      " 54%|███████████████████▍                | 13226/24526 [03:52<03:18, 56.84it/s]"
     ]
    },
    {
     "name": "stdout",
     "output_type": "stream",
     "text": [
      "test_13226.txt\n",
      "test_13227.txt\n",
      "test_13228.txt\n",
      "test_13229.txt\n",
      "test_13230.txt\n",
      "test_13231.txt\n",
      "test_13232.txt\n"
     ]
    },
    {
     "name": "stderr",
     "output_type": "stream",
     "text": [
      "\r",
      " 54%|███████████████████▍                | 13233/24526 [03:52<03:18, 56.84it/s]"
     ]
    },
    {
     "name": "stdout",
     "output_type": "stream",
     "text": [
      "test_13233.txt\n",
      "test_13234.txt\n",
      "test_13235.txt\n",
      "test_13236.txt\n",
      "test_13237.txt\n",
      "test_13238.txt\n"
     ]
    },
    {
     "name": "stderr",
     "output_type": "stream",
     "text": [
      "\r",
      " 54%|███████████████████▍                | 13239/24526 [03:52<03:18, 56.83it/s]"
     ]
    },
    {
     "name": "stdout",
     "output_type": "stream",
     "text": [
      "test_13239.txt\n",
      "test_13240.txt\n",
      "test_13241.txt\n",
      "test_13242.txt\n",
      "test_13243.txt\n",
      "test_13244.txt\n",
      "test_13245.txt\n"
     ]
    },
    {
     "name": "stderr",
     "output_type": "stream",
     "text": [
      "\r",
      " 54%|███████████████████▍                | 13246/24526 [03:53<03:18, 56.84it/s]"
     ]
    },
    {
     "name": "stdout",
     "output_type": "stream",
     "text": [
      "test_13246.txt\n",
      "test_13247.txt\n",
      "test_13248.txt\n",
      "test_13249.txt\n",
      "test_13250.txt\n",
      "test_13251.txt\n"
     ]
    },
    {
     "name": "stderr",
     "output_type": "stream",
     "text": [
      "\r",
      " 54%|███████████████████▍                | 13252/24526 [03:53<03:18, 56.83it/s]"
     ]
    },
    {
     "name": "stdout",
     "output_type": "stream",
     "text": [
      "test_13252.txt\n",
      "test_13253.txt\n",
      "test_13254.txt\n",
      "test_13255.txt\n",
      "test_13256.txt\n",
      "test_13257.txt\n",
      "test_13258.txt\n"
     ]
    },
    {
     "name": "stderr",
     "output_type": "stream",
     "text": [
      "\r",
      " 54%|███████████████████▍                | 13259/24526 [03:53<03:18, 56.84it/s]"
     ]
    },
    {
     "name": "stdout",
     "output_type": "stream",
     "text": [
      "test_13259.txt\n",
      "test_13260.txt\n",
      "test_13261.txt\n",
      "test_13262.txt\n",
      "test_13263.txt\n",
      "test_13264.txt\n",
      "test_13265.txt\n"
     ]
    },
    {
     "name": "stderr",
     "output_type": "stream",
     "text": [
      "\r",
      " 54%|███████████████████▍                | 13266/24526 [03:53<03:18, 56.84it/s]"
     ]
    },
    {
     "name": "stdout",
     "output_type": "stream",
     "text": [
      "test_13266.txt\n",
      "test_13267.txt\n",
      "test_13268.txt\n",
      "test_13269.txt\n",
      "test_13270.txt\n",
      "test_13271.txt\n"
     ]
    },
    {
     "name": "stderr",
     "output_type": "stream",
     "text": [
      "\r",
      " 54%|███████████████████▍                | 13272/24526 [03:53<03:18, 56.84it/s]"
     ]
    },
    {
     "name": "stdout",
     "output_type": "stream",
     "text": [
      "test_13272.txt\n",
      "test_13273.txt\n",
      "test_13274.txt\n",
      "test_13275.txt\n",
      "test_13276.txt\n",
      "test_13277.txt\n",
      "test_13278.txt\n"
     ]
    },
    {
     "name": "stderr",
     "output_type": "stream",
     "text": [
      "\r",
      " 54%|███████████████████▍                | 13279/24526 [03:53<03:17, 56.84it/s]"
     ]
    },
    {
     "name": "stdout",
     "output_type": "stream",
     "text": [
      "test_13279.txt\n",
      "test_13280.txt\n",
      "test_13281.txt\n",
      "test_13282.txt\n",
      "test_13283.txt\n",
      "test_13284.txt\n"
     ]
    },
    {
     "name": "stderr",
     "output_type": "stream",
     "text": [
      "\r",
      " 54%|███████████████████▌                | 13285/24526 [03:53<03:17, 56.84it/s]"
     ]
    },
    {
     "name": "stdout",
     "output_type": "stream",
     "text": [
      "test_13285.txt\n",
      "test_13286.txt\n",
      "test_13287.txt\n",
      "test_13288.txt\n",
      "test_13289.txt\n",
      "test_13290.txt\n",
      "test_13291.txt\n"
     ]
    },
    {
     "name": "stderr",
     "output_type": "stream",
     "text": [
      "\r",
      " 54%|███████████████████▌                | 13292/24526 [03:53<03:17, 56.84it/s]"
     ]
    },
    {
     "name": "stdout",
     "output_type": "stream",
     "text": [
      "test_13292.txt\n",
      "test_13293.txt\n",
      "test_13294.txt\n",
      "test_13295.txt\n",
      "test_13296.txt\n",
      "test_13297.txt\n",
      "test_13298.txt\n"
     ]
    },
    {
     "name": "stderr",
     "output_type": "stream",
     "text": [
      "\r",
      " 54%|███████████████████▌                | 13299/24526 [03:53<03:17, 56.84it/s]"
     ]
    },
    {
     "name": "stdout",
     "output_type": "stream",
     "text": [
      "test_13299.txt\n",
      "test_13300.txt\n",
      "test_13301.txt\n",
      "test_13302.txt\n",
      "test_13303.txt\n",
      "test_13304.txt\n",
      "test_13305.txt\n",
      "test_13306.txt\n"
     ]
    },
    {
     "name": "stderr",
     "output_type": "stream",
     "text": [
      "\r",
      " 54%|███████████████████▌                | 13307/24526 [03:54<03:17, 56.85it/s]"
     ]
    },
    {
     "name": "stdout",
     "output_type": "stream",
     "text": [
      "test_13307.txt\n",
      "test_13308.txt\n",
      "test_13309.txt\n",
      "test_13310.txt\n",
      "test_13311.txt\n",
      "test_13312.txt\n",
      "test_13313.txt\n"
     ]
    },
    {
     "name": "stderr",
     "output_type": "stream",
     "text": [
      "\r",
      " 54%|███████████████████▌                | 13314/24526 [03:54<03:17, 56.85it/s]"
     ]
    },
    {
     "name": "stdout",
     "output_type": "stream",
     "text": [
      "test_13314.txt\n",
      "test_13315.txt\n",
      "test_13316.txt\n",
      "test_13317.txt\n",
      "test_13318.txt\n",
      "test_13319.txt\n"
     ]
    },
    {
     "name": "stderr",
     "output_type": "stream",
     "text": [
      "\r",
      " 54%|███████████████████▌                | 13320/24526 [03:54<03:17, 56.84it/s]"
     ]
    },
    {
     "name": "stdout",
     "output_type": "stream",
     "text": [
      "test_13320.txt\n",
      "test_13321.txt\n",
      "test_13322.txt\n",
      "test_13323.txt\n",
      "test_13324.txt\n",
      "test_13325.txt\n"
     ]
    },
    {
     "name": "stderr",
     "output_type": "stream",
     "text": [
      "\r",
      " 54%|███████████████████▌                | 13326/24526 [03:54<03:17, 56.84it/s]"
     ]
    },
    {
     "name": "stdout",
     "output_type": "stream",
     "text": [
      "test_13326.txt\n",
      "test_13327.txt\n",
      "test_13328.txt\n",
      "test_13329.txt\n",
      "test_13330.txt\n",
      "test_13331.txt\n"
     ]
    },
    {
     "name": "stderr",
     "output_type": "stream",
     "text": [
      "\r",
      " 54%|███████████████████▌                | 13332/24526 [03:54<03:16, 56.85it/s]"
     ]
    },
    {
     "name": "stdout",
     "output_type": "stream",
     "text": [
      "test_13332.txt\n",
      "test_13333.txt\n",
      "test_13334.txt\n",
      "test_13335.txt\n",
      "test_13336.txt\n",
      "test_13337.txt\n"
     ]
    },
    {
     "name": "stderr",
     "output_type": "stream",
     "text": [
      "\r",
      " 54%|███████████████████▌                | 13338/24526 [03:54<03:16, 56.84it/s]"
     ]
    },
    {
     "name": "stdout",
     "output_type": "stream",
     "text": [
      "test_13338.txt\n",
      "test_13339.txt\n",
      "test_13340.txt\n",
      "test_13341.txt\n",
      "test_13342.txt\n",
      "test_13343.txt\n"
     ]
    },
    {
     "name": "stderr",
     "output_type": "stream",
     "text": [
      "\r",
      " 54%|███████████████████▌                | 13344/24526 [03:54<03:16, 56.84it/s]"
     ]
    },
    {
     "name": "stdout",
     "output_type": "stream",
     "text": [
      "test_13344.txt\n",
      "test_13345.txt\n",
      "test_13346.txt\n",
      "test_13347.txt\n",
      "test_13348.txt\n",
      "test_13349.txt\n"
     ]
    },
    {
     "name": "stderr",
     "output_type": "stream",
     "text": [
      "\r",
      " 54%|███████████████████▌                | 13350/24526 [03:54<03:16, 56.84it/s]"
     ]
    },
    {
     "name": "stdout",
     "output_type": "stream",
     "text": [
      "test_13350.txt\n",
      "test_13351.txt\n",
      "test_13352.txt\n",
      "test_13353.txt\n",
      "test_13354.txt\n",
      "test_13355.txt\n"
     ]
    },
    {
     "name": "stderr",
     "output_type": "stream",
     "text": [
      "\r",
      " 54%|███████████████████▌                | 13356/24526 [03:55<03:16, 56.83it/s]"
     ]
    },
    {
     "name": "stdout",
     "output_type": "stream",
     "text": [
      "test_13356.txt\n",
      "test_13357.txt\n",
      "test_13358.txt\n",
      "test_13359.txt\n",
      "test_13360.txt\n",
      "test_13361.txt\n"
     ]
    },
    {
     "name": "stderr",
     "output_type": "stream",
     "text": [
      "\r",
      " 54%|███████████████████▌                | 13362/24526 [03:55<03:16, 56.83it/s]"
     ]
    },
    {
     "name": "stdout",
     "output_type": "stream",
     "text": [
      "test_13362.txt\n",
      "test_13363.txt\n",
      "test_13364.txt\n",
      "test_13365.txt\n",
      "test_13366.txt\n",
      "test_13367.txt\n",
      "test_13368.txt\n",
      "test_13369.txt\n"
     ]
    },
    {
     "name": "stderr",
     "output_type": "stream",
     "text": [
      "\r",
      " 55%|███████████████████▌                | 13370/24526 [03:55<03:16, 56.84it/s]"
     ]
    },
    {
     "name": "stdout",
     "output_type": "stream",
     "text": [
      "test_13370.txt\n",
      "test_13371.txt\n",
      "test_13372.txt\n",
      "test_13373.txt\n",
      "test_13374.txt\n",
      "test_13375.txt\n"
     ]
    },
    {
     "name": "stderr",
     "output_type": "stream",
     "text": [
      "\r",
      " 55%|███████████████████▋                | 13376/24526 [03:55<03:16, 56.83it/s]"
     ]
    },
    {
     "name": "stdout",
     "output_type": "stream",
     "text": [
      "test_13376.txt\n",
      "test_13377.txt\n",
      "test_13378.txt\n",
      "test_13379.txt\n",
      "test_13380.txt\n",
      "test_13381.txt\n",
      "test_13382.txt\n"
     ]
    },
    {
     "name": "stderr",
     "output_type": "stream",
     "text": [
      "\r",
      " 55%|███████████████████▋                | 13383/24526 [03:55<03:16, 56.83it/s]"
     ]
    },
    {
     "name": "stdout",
     "output_type": "stream",
     "text": [
      "test_13383.txt\n",
      "test_13384.txt\n",
      "test_13385.txt\n",
      "test_13386.txt\n",
      "test_13387.txt\n",
      "test_13388.txt\n"
     ]
    },
    {
     "name": "stderr",
     "output_type": "stream",
     "text": [
      "\r",
      " 55%|███████████████████▋                | 13389/24526 [03:55<03:15, 56.83it/s]"
     ]
    },
    {
     "name": "stdout",
     "output_type": "stream",
     "text": [
      "test_13389.txt\n",
      "test_13390.txt\n",
      "test_13391.txt\n",
      "test_13392.txt\n",
      "test_13393.txt\n",
      "test_13394.txt\n"
     ]
    },
    {
     "name": "stderr",
     "output_type": "stream",
     "text": [
      "\r",
      " 55%|███████████████████▋                | 13395/24526 [03:55<03:15, 56.83it/s]"
     ]
    },
    {
     "name": "stdout",
     "output_type": "stream",
     "text": [
      "test_13395.txt\n",
      "test_13396.txt\n",
      "test_13397.txt\n",
      "test_13398.txt\n",
      "test_13399.txt\n",
      "test_13400.txt\n"
     ]
    },
    {
     "name": "stderr",
     "output_type": "stream",
     "text": [
      "\r",
      " 55%|███████████████████▋                | 13401/24526 [03:55<03:15, 56.83it/s]"
     ]
    },
    {
     "name": "stdout",
     "output_type": "stream",
     "text": [
      "test_13401.txt\n",
      "test_13402.txt\n",
      "test_13403.txt\n",
      "test_13404.txt\n",
      "test_13405.txt\n",
      "test_13406.txt\n"
     ]
    },
    {
     "name": "stderr",
     "output_type": "stream",
     "text": [
      "\r",
      " 55%|███████████████████▋                | 13407/24526 [03:55<03:15, 56.82it/s]"
     ]
    },
    {
     "name": "stdout",
     "output_type": "stream",
     "text": [
      "test_13407.txt\n",
      "test_13408.txt\n",
      "test_13409.txt\n",
      "test_13410.txt\n",
      "test_13411.txt\n",
      "test_13412.txt\n"
     ]
    },
    {
     "name": "stderr",
     "output_type": "stream",
     "text": [
      "\r",
      " 55%|███████████████████▋                | 13413/24526 [03:56<03:15, 56.82it/s]"
     ]
    },
    {
     "name": "stdout",
     "output_type": "stream",
     "text": [
      "test_13413.txt\n",
      "test_13414.txt\n",
      "test_13415.txt\n",
      "test_13416.txt\n",
      "test_13417.txt\n",
      "test_13418.txt\n",
      "test_13419.txt\n"
     ]
    },
    {
     "name": "stderr",
     "output_type": "stream",
     "text": [
      "\r",
      " 55%|███████████████████▋                | 13420/24526 [03:56<03:15, 56.83it/s]"
     ]
    },
    {
     "name": "stdout",
     "output_type": "stream",
     "text": [
      "test_13420.txt\n",
      "test_13421.txt\n",
      "test_13422.txt\n",
      "test_13423.txt\n",
      "test_13424.txt\n",
      "test_13425.txt\n"
     ]
    },
    {
     "name": "stderr",
     "output_type": "stream",
     "text": [
      "\r",
      " 55%|███████████████████▋                | 13426/24526 [03:56<03:15, 56.83it/s]"
     ]
    },
    {
     "name": "stdout",
     "output_type": "stream",
     "text": [
      "test_13426.txt\n",
      "test_13427.txt\n",
      "test_13428.txt\n",
      "test_13429.txt\n",
      "test_13430.txt\n",
      "test_13431.txt\n",
      "test_13432.txt\n",
      "test_13433.txt\n"
     ]
    },
    {
     "name": "stderr",
     "output_type": "stream",
     "text": [
      "\r",
      " 55%|███████████████████▋                | 13434/24526 [03:56<03:15, 56.83it/s]"
     ]
    },
    {
     "name": "stdout",
     "output_type": "stream",
     "text": [
      "test_13434.txt\n",
      "test_13435.txt\n",
      "test_13436.txt\n",
      "test_13437.txt\n",
      "test_13438.txt\n",
      "test_13439.txt\n",
      "test_13440.txt\n"
     ]
    },
    {
     "name": "stderr",
     "output_type": "stream",
     "text": [
      "\r",
      " 55%|███████████████████▋                | 13441/24526 [03:56<03:15, 56.83it/s]"
     ]
    },
    {
     "name": "stdout",
     "output_type": "stream",
     "text": [
      "test_13441.txt\n",
      "test_13442.txt\n",
      "test_13443.txt\n",
      "test_13444.txt\n",
      "test_13445.txt\n",
      "test_13446.txt\n",
      "test_13447.txt\n"
     ]
    },
    {
     "name": "stderr",
     "output_type": "stream",
     "text": [
      "\r",
      " 55%|███████████████████▋                | 13448/24526 [03:56<03:14, 56.83it/s]"
     ]
    },
    {
     "name": "stdout",
     "output_type": "stream",
     "text": [
      "test_13448.txt\n",
      "test_13449.txt\n",
      "test_13450.txt\n",
      "test_13451.txt\n",
      "test_13452.txt\n",
      "test_13453.txt\n"
     ]
    },
    {
     "name": "stderr",
     "output_type": "stream",
     "text": [
      "\r",
      " 55%|███████████████████▋                | 13454/24526 [03:56<03:14, 56.83it/s]"
     ]
    },
    {
     "name": "stdout",
     "output_type": "stream",
     "text": [
      "test_13454.txt\n",
      "test_13455.txt\n",
      "test_13456.txt\n",
      "test_13457.txt\n",
      "test_13458.txt\n",
      "test_13459.txt\n",
      "test_13460.txt\n"
     ]
    },
    {
     "name": "stderr",
     "output_type": "stream",
     "text": [
      "\r",
      " 55%|███████████████████▊                | 13461/24526 [03:56<03:14, 56.84it/s]"
     ]
    },
    {
     "name": "stdout",
     "output_type": "stream",
     "text": [
      "test_13461.txt\n",
      "test_13462.txt\n",
      "test_13463.txt\n",
      "test_13464.txt\n",
      "test_13465.txt\n",
      "test_13466.txt\n",
      "test_13467.txt\n"
     ]
    },
    {
     "name": "stderr",
     "output_type": "stream",
     "text": [
      "\r",
      " 55%|███████████████████▊                | 13468/24526 [03:56<03:14, 56.84it/s]"
     ]
    },
    {
     "name": "stdout",
     "output_type": "stream",
     "text": [
      "test_13468.txt\n",
      "test_13469.txt\n",
      "test_13470.txt\n",
      "test_13471.txt\n",
      "test_13472.txt\n",
      "test_13473.txt\n",
      "test_13474.txt\n"
     ]
    },
    {
     "name": "stderr",
     "output_type": "stream",
     "text": [
      "\r",
      " 55%|███████████████████▊                | 13475/24526 [03:57<03:14, 56.84it/s]"
     ]
    },
    {
     "name": "stdout",
     "output_type": "stream",
     "text": [
      "test_13475.txt\n",
      "test_13476.txt\n",
      "test_13477.txt\n",
      "test_13478.txt\n",
      "test_13479.txt\n",
      "test_13480.txt\n",
      "test_13481.txt\n",
      "test_13482.txt\n"
     ]
    },
    {
     "name": "stderr",
     "output_type": "stream",
     "text": [
      "\r",
      " 55%|███████████████████▊                | 13483/24526 [03:57<03:14, 56.85it/s]"
     ]
    },
    {
     "name": "stdout",
     "output_type": "stream",
     "text": [
      "test_13483.txt\n",
      "test_13484.txt\n",
      "test_13485.txt\n",
      "test_13486.txt\n",
      "test_13487.txt\n",
      "test_13488.txt\n",
      "test_13489.txt\n"
     ]
    },
    {
     "name": "stderr",
     "output_type": "stream",
     "text": [
      "\r",
      " 55%|███████████████████▊                | 13490/24526 [03:57<03:14, 56.84it/s]"
     ]
    },
    {
     "name": "stdout",
     "output_type": "stream",
     "text": [
      "test_13490.txt\n",
      "test_13491.txt\n",
      "test_13492.txt\n",
      "test_13493.txt\n",
      "test_13494.txt\n",
      "test_13495.txt\n",
      "test_13496.txt\n"
     ]
    },
    {
     "name": "stderr",
     "output_type": "stream",
     "text": [
      "\r",
      " 55%|███████████████████▊                | 13497/24526 [03:57<03:14, 56.84it/s]"
     ]
    },
    {
     "name": "stdout",
     "output_type": "stream",
     "text": [
      "test_13497.txt\n",
      "test_13498.txt\n",
      "test_13499.txt\n",
      "test_13500.txt\n",
      "test_13501.txt\n",
      "test_13502.txt\n",
      "test_13503.txt\n"
     ]
    },
    {
     "name": "stderr",
     "output_type": "stream",
     "text": [
      "\r",
      " 55%|███████████████████▊                | 13504/24526 [03:57<03:13, 56.85it/s]"
     ]
    },
    {
     "name": "stdout",
     "output_type": "stream",
     "text": [
      "test_13504.txt\n",
      "test_13505.txt\n",
      "test_13506.txt\n",
      "test_13507.txt\n",
      "test_13508.txt\n",
      "test_13509.txt\n"
     ]
    },
    {
     "name": "stderr",
     "output_type": "stream",
     "text": [
      "\r",
      " 55%|███████████████████▊                | 13510/24526 [03:57<03:13, 56.85it/s]"
     ]
    },
    {
     "name": "stdout",
     "output_type": "stream",
     "text": [
      "test_13510.txt\n",
      "test_13511.txt\n",
      "test_13512.txt\n",
      "test_13513.txt\n",
      "test_13514.txt\n",
      "test_13515.txt\n"
     ]
    },
    {
     "name": "stderr",
     "output_type": "stream",
     "text": [
      "\r",
      " 55%|███████████████████▊                | 13516/24526 [03:57<03:13, 56.85it/s]"
     ]
    },
    {
     "name": "stdout",
     "output_type": "stream",
     "text": [
      "test_13516.txt\n",
      "test_13517.txt\n",
      "test_13518.txt\n",
      "test_13519.txt\n",
      "test_13520.txt\n",
      "test_13521.txt\n"
     ]
    },
    {
     "name": "stderr",
     "output_type": "stream",
     "text": [
      "\r",
      " 55%|███████████████████▊                | 13522/24526 [03:57<03:13, 56.84it/s]"
     ]
    },
    {
     "name": "stdout",
     "output_type": "stream",
     "text": [
      "test_13522.txt\n",
      "test_13523.txt\n",
      "test_13524.txt\n",
      "test_13525.txt\n",
      "test_13526.txt\n",
      "test_13527.txt\n"
     ]
    },
    {
     "name": "stderr",
     "output_type": "stream",
     "text": [
      "\r",
      " 55%|███████████████████▊                | 13528/24526 [03:57<03:13, 56.84it/s]"
     ]
    },
    {
     "name": "stdout",
     "output_type": "stream",
     "text": [
      "test_13528.txt\n",
      "test_13529.txt\n",
      "test_13530.txt\n",
      "test_13531.txt\n",
      "test_13532.txt\n",
      "test_13533.txt\n"
     ]
    },
    {
     "name": "stderr",
     "output_type": "stream",
     "text": [
      "\r",
      " 55%|███████████████████▊                | 13534/24526 [03:58<03:13, 56.84it/s]"
     ]
    },
    {
     "name": "stdout",
     "output_type": "stream",
     "text": [
      "test_13534.txt\n",
      "test_13535.txt\n",
      "test_13536.txt\n",
      "test_13537.txt\n",
      "test_13538.txt\n",
      "test_13539.txt\n",
      "test_13540.txt\n"
     ]
    },
    {
     "name": "stderr",
     "output_type": "stream",
     "text": [
      "\r",
      " 55%|███████████████████▉                | 13541/24526 [03:58<03:13, 56.84it/s]"
     ]
    },
    {
     "name": "stdout",
     "output_type": "stream",
     "text": [
      "test_13541.txt\n",
      "test_13542.txt\n",
      "test_13543.txt\n",
      "test_13544.txt\n",
      "test_13545.txt\n",
      "test_13546.txt\n",
      "test_13547.txt\n"
     ]
    },
    {
     "name": "stderr",
     "output_type": "stream",
     "text": [
      "\r",
      " 55%|███████████████████▉                | 13548/24526 [03:58<03:13, 56.85it/s]"
     ]
    },
    {
     "name": "stdout",
     "output_type": "stream",
     "text": [
      "test_13548.txt\n",
      "test_13549.txt\n",
      "test_13550.txt\n",
      "test_13551.txt\n",
      "test_13552.txt\n",
      "test_13553.txt\n",
      "test_13554.txt\n"
     ]
    },
    {
     "name": "stderr",
     "output_type": "stream",
     "text": [
      "\r",
      " 55%|███████████████████▉                | 13555/24526 [03:58<03:12, 56.85it/s]"
     ]
    },
    {
     "name": "stdout",
     "output_type": "stream",
     "text": [
      "test_13555.txt\n",
      "test_13556.txt\n",
      "test_13557.txt\n",
      "test_13558.txt\n",
      "test_13559.txt\n",
      "test_13560.txt\n"
     ]
    },
    {
     "name": "stderr",
     "output_type": "stream",
     "text": [
      "\r",
      " 55%|███████████████████▉                | 13561/24526 [03:58<03:12, 56.84it/s]"
     ]
    },
    {
     "name": "stdout",
     "output_type": "stream",
     "text": [
      "test_13561.txt\n",
      "test_13562.txt\n",
      "test_13563.txt\n",
      "test_13564.txt\n",
      "test_13565.txt\n",
      "test_13566.txt\n"
     ]
    },
    {
     "name": "stderr",
     "output_type": "stream",
     "text": [
      "\r",
      " 55%|███████████████████▉                | 13567/24526 [03:58<03:12, 56.84it/s]"
     ]
    },
    {
     "name": "stdout",
     "output_type": "stream",
     "text": [
      "test_13567.txt\n",
      "test_13568.txt\n",
      "test_13569.txt\n",
      "test_13570.txt\n",
      "test_13571.txt\n",
      "test_13572.txt\n",
      "test_13573.txt\n"
     ]
    },
    {
     "name": "stderr",
     "output_type": "stream",
     "text": [
      "\r",
      " 55%|███████████████████▉                | 13574/24526 [03:58<03:12, 56.84it/s]"
     ]
    },
    {
     "name": "stdout",
     "output_type": "stream",
     "text": [
      "test_13574.txt\n",
      "test_13575.txt\n",
      "test_13576.txt\n",
      "test_13577.txt\n",
      "test_13578.txt\n",
      "test_13579.txt\n"
     ]
    },
    {
     "name": "stderr",
     "output_type": "stream",
     "text": [
      "\r",
      " 55%|███████████████████▉                | 13580/24526 [03:58<03:12, 56.84it/s]"
     ]
    },
    {
     "name": "stdout",
     "output_type": "stream",
     "text": [
      "test_13580.txt\n",
      "test_13581.txt\n",
      "test_13582.txt\n",
      "test_13583.txt\n",
      "test_13584.txt\n",
      "test_13585.txt\n"
     ]
    },
    {
     "name": "stderr",
     "output_type": "stream",
     "text": [
      "\r",
      " 55%|███████████████████▉                | 13586/24526 [03:59<03:12, 56.83it/s]"
     ]
    },
    {
     "name": "stdout",
     "output_type": "stream",
     "text": [
      "test_13586.txt\n",
      "test_13587.txt\n",
      "test_13588.txt\n",
      "test_13589.txt\n",
      "test_13590.txt\n",
      "test_13591.txt\n"
     ]
    },
    {
     "name": "stderr",
     "output_type": "stream",
     "text": [
      "\r",
      " 55%|███████████████████▉                | 13592/24526 [03:59<03:12, 56.83it/s]"
     ]
    },
    {
     "name": "stdout",
     "output_type": "stream",
     "text": [
      "test_13592.txt\n",
      "test_13593.txt\n",
      "test_13594.txt\n",
      "test_13595.txt\n",
      "test_13596.txt\n",
      "test_13597.txt\n"
     ]
    },
    {
     "name": "stderr",
     "output_type": "stream",
     "text": [
      "\r",
      " 55%|███████████████████▉                | 13598/24526 [03:59<03:12, 56.83it/s]"
     ]
    },
    {
     "name": "stdout",
     "output_type": "stream",
     "text": [
      "test_13598.txt\n",
      "test_13599.txt\n",
      "test_13600.txt\n",
      "test_13601.txt\n",
      "test_13602.txt\n",
      "test_13603.txt\n",
      "test_13604.txt\n"
     ]
    },
    {
     "name": "stderr",
     "output_type": "stream",
     "text": [
      "\r",
      " 55%|███████████████████▉                | 13605/24526 [03:59<03:12, 56.83it/s]"
     ]
    },
    {
     "name": "stdout",
     "output_type": "stream",
     "text": [
      "test_13605.txt\n",
      "test_13606.txt\n",
      "test_13607.txt\n",
      "test_13608.txt\n",
      "test_13609.txt\n",
      "test_13610.txt\n",
      "test_13611.txt\n"
     ]
    },
    {
     "name": "stderr",
     "output_type": "stream",
     "text": [
      "\r",
      " 56%|███████████████████▉                | 13612/24526 [03:59<03:12, 56.83it/s]"
     ]
    },
    {
     "name": "stdout",
     "output_type": "stream",
     "text": [
      "test_13612.txt\n",
      "test_13613.txt\n",
      "test_13614.txt\n",
      "test_13615.txt\n",
      "test_13616.txt\n",
      "test_13617.txt\n"
     ]
    },
    {
     "name": "stderr",
     "output_type": "stream",
     "text": [
      "\r",
      " 56%|███████████████████▉                | 13618/24526 [03:59<03:11, 56.83it/s]"
     ]
    },
    {
     "name": "stdout",
     "output_type": "stream",
     "text": [
      "test_13618.txt\n",
      "test_13619.txt\n",
      "test_13620.txt\n",
      "test_13621.txt\n",
      "test_13622.txt\n",
      "test_13623.txt\n"
     ]
    },
    {
     "name": "stderr",
     "output_type": "stream",
     "text": [
      "\r",
      " 56%|███████████████████▉                | 13624/24526 [03:59<03:11, 56.83it/s]"
     ]
    },
    {
     "name": "stdout",
     "output_type": "stream",
     "text": [
      "test_13624.txt\n",
      "test_13625.txt\n",
      "test_13626.txt\n",
      "test_13627.txt\n",
      "test_13628.txt\n",
      "test_13629.txt\n"
     ]
    },
    {
     "name": "stderr",
     "output_type": "stream",
     "text": [
      "\r",
      " 56%|████████████████████                | 13630/24526 [03:59<03:11, 56.83it/s]"
     ]
    },
    {
     "name": "stdout",
     "output_type": "stream",
     "text": [
      "test_13630.txt\n",
      "test_13631.txt\n",
      "test_13632.txt\n",
      "test_13633.txt\n",
      "test_13634.txt\n",
      "test_13635.txt\n",
      "test_13636.txt\n"
     ]
    },
    {
     "name": "stderr",
     "output_type": "stream",
     "text": [
      "\r",
      " 56%|████████████████████                | 13637/24526 [03:59<03:11, 56.83it/s]"
     ]
    },
    {
     "name": "stdout",
     "output_type": "stream",
     "text": [
      "test_13637.txt\n",
      "test_13638.txt\n",
      "test_13639.txt\n",
      "test_13640.txt\n",
      "test_13641.txt\n",
      "test_13642.txt\n",
      "test_13643.txt\n",
      "test_13644.txt\n",
      "test_13645.txt\n"
     ]
    },
    {
     "name": "stderr",
     "output_type": "stream",
     "text": [
      "\r",
      " 56%|████████████████████                | 13646/24526 [04:00<03:11, 56.84it/s]"
     ]
    },
    {
     "name": "stdout",
     "output_type": "stream",
     "text": [
      "test_13646.txt\n",
      "test_13647.txt\n",
      "test_13648.txt\n",
      "test_13649.txt\n",
      "test_13650.txt\n",
      "test_13651.txt\n",
      "test_13652.txt\n",
      "test_13653.txt\n"
     ]
    },
    {
     "name": "stderr",
     "output_type": "stream",
     "text": [
      "\r",
      " 56%|████████████████████                | 13654/24526 [04:00<03:11, 56.85it/s]"
     ]
    },
    {
     "name": "stdout",
     "output_type": "stream",
     "text": [
      "test_13654.txt\n",
      "test_13655.txt\n",
      "test_13656.txt\n",
      "test_13657.txt\n",
      "test_13658.txt\n",
      "test_13659.txt\n",
      "test_13660.txt\n"
     ]
    },
    {
     "name": "stderr",
     "output_type": "stream",
     "text": [
      "\r",
      " 56%|████████████████████                | 13661/24526 [04:00<03:11, 56.85it/s]"
     ]
    },
    {
     "name": "stdout",
     "output_type": "stream",
     "text": [
      "test_13661.txt\n",
      "test_13662.txt\n",
      "test_13663.txt\n",
      "test_13664.txt\n",
      "test_13665.txt\n",
      "test_13666.txt\n",
      "test_13667.txt\n"
     ]
    },
    {
     "name": "stderr",
     "output_type": "stream",
     "text": [
      "\r",
      " 56%|████████████████████                | 13668/24526 [04:00<03:10, 56.85it/s]"
     ]
    },
    {
     "name": "stdout",
     "output_type": "stream",
     "text": [
      "test_13668.txt\n",
      "test_13669.txt\n",
      "test_13670.txt\n",
      "test_13671.txt\n",
      "test_13672.txt\n",
      "test_13673.txt\n",
      "test_13674.txt\n"
     ]
    },
    {
     "name": "stderr",
     "output_type": "stream",
     "text": [
      "\r",
      " 56%|████████████████████                | 13675/24526 [04:00<03:10, 56.86it/s]"
     ]
    },
    {
     "name": "stdout",
     "output_type": "stream",
     "text": [
      "test_13675.txt\n",
      "test_13676.txt\n",
      "test_13677.txt\n",
      "test_13678.txt\n",
      "test_13679.txt\n",
      "test_13680.txt\n",
      "test_13681.txt\n"
     ]
    },
    {
     "name": "stderr",
     "output_type": "stream",
     "text": [
      "\r",
      " 56%|████████████████████                | 13682/24526 [04:00<03:10, 56.86it/s]"
     ]
    },
    {
     "name": "stdout",
     "output_type": "stream",
     "text": [
      "test_13682.txt\n",
      "test_13683.txt\n",
      "test_13684.txt\n",
      "test_13685.txt\n",
      "test_13686.txt\n",
      "test_13687.txt\n",
      "test_13688.txt\n"
     ]
    },
    {
     "name": "stderr",
     "output_type": "stream",
     "text": [
      "\r",
      " 56%|████████████████████                | 13689/24526 [04:00<03:10, 56.86it/s]"
     ]
    },
    {
     "name": "stdout",
     "output_type": "stream",
     "text": [
      "test_13689.txt\n",
      "test_13690.txt\n",
      "test_13691.txt\n",
      "test_13692.txt\n",
      "test_13693.txt\n",
      "test_13694.txt\n",
      "test_13695.txt\n"
     ]
    },
    {
     "name": "stderr",
     "output_type": "stream",
     "text": [
      "\r",
      " 56%|████████████████████                | 13696/24526 [04:00<03:10, 56.87it/s]"
     ]
    },
    {
     "name": "stdout",
     "output_type": "stream",
     "text": [
      "test_13696.txt\n",
      "test_13697.txt\n",
      "test_13698.txt\n",
      "test_13699.txt\n",
      "test_13700.txt\n",
      "test_13701.txt\n",
      "test_13702.txt\n"
     ]
    },
    {
     "name": "stderr",
     "output_type": "stream",
     "text": [
      "\r",
      " 56%|████████████████████                | 13703/24526 [04:00<03:10, 56.87it/s]"
     ]
    },
    {
     "name": "stdout",
     "output_type": "stream",
     "text": [
      "test_13703.txt\n",
      "test_13704.txt\n",
      "test_13705.txt\n",
      "test_13706.txt\n",
      "test_13707.txt\n",
      "test_13708.txt\n",
      "test_13709.txt\n"
     ]
    },
    {
     "name": "stderr",
     "output_type": "stream",
     "text": [
      "\r",
      " 56%|████████████████████                | 13710/24526 [04:01<03:10, 56.87it/s]"
     ]
    },
    {
     "name": "stdout",
     "output_type": "stream",
     "text": [
      "test_13710.txt\n",
      "test_13711.txt\n",
      "test_13712.txt\n",
      "test_13713.txt\n",
      "test_13714.txt\n",
      "test_13715.txt\n",
      "test_13716.txt\n"
     ]
    },
    {
     "name": "stderr",
     "output_type": "stream",
     "text": [
      "\r",
      " 56%|████████████████████▏               | 13717/24526 [04:01<03:10, 56.87it/s]"
     ]
    },
    {
     "name": "stdout",
     "output_type": "stream",
     "text": [
      "test_13717.txt\n",
      "test_13718.txt\n",
      "test_13719.txt\n",
      "test_13720.txt\n",
      "test_13721.txt\n",
      "test_13722.txt\n",
      "test_13723.txt\n"
     ]
    },
    {
     "name": "stderr",
     "output_type": "stream",
     "text": [
      "\r",
      " 56%|████████████████████▏               | 13724/24526 [04:01<03:09, 56.87it/s]"
     ]
    },
    {
     "name": "stdout",
     "output_type": "stream",
     "text": [
      "test_13724.txt\n",
      "test_13725.txt\n",
      "test_13726.txt\n",
      "test_13727.txt\n",
      "test_13728.txt\n",
      "test_13729.txt\n",
      "test_13730.txt\n"
     ]
    },
    {
     "name": "stderr",
     "output_type": "stream",
     "text": [
      "\r",
      " 56%|████████████████████▏               | 13731/24526 [04:01<03:09, 56.87it/s]"
     ]
    },
    {
     "name": "stdout",
     "output_type": "stream",
     "text": [
      "test_13731.txt\n",
      "test_13732.txt\n",
      "test_13733.txt\n",
      "test_13734.txt\n",
      "test_13735.txt\n",
      "test_13736.txt\n"
     ]
    },
    {
     "name": "stderr",
     "output_type": "stream",
     "text": [
      "\r",
      " 56%|████████████████████▏               | 13737/24526 [04:01<03:09, 56.87it/s]"
     ]
    },
    {
     "name": "stdout",
     "output_type": "stream",
     "text": [
      "test_13737.txt\n",
      "test_13738.txt\n",
      "test_13739.txt\n",
      "test_13740.txt\n",
      "test_13741.txt\n",
      "test_13742.txt\n"
     ]
    },
    {
     "name": "stderr",
     "output_type": "stream",
     "text": [
      "\r",
      " 56%|████████████████████▏               | 13743/24526 [04:01<03:09, 56.86it/s]"
     ]
    },
    {
     "name": "stdout",
     "output_type": "stream",
     "text": [
      "test_13743.txt\n",
      "test_13744.txt\n",
      "test_13745.txt\n",
      "test_13746.txt\n",
      "test_13747.txt\n",
      "test_13748.txt\n"
     ]
    },
    {
     "name": "stderr",
     "output_type": "stream",
     "text": [
      "\r",
      " 56%|████████████████████▏               | 13749/24526 [04:01<03:09, 56.86it/s]"
     ]
    },
    {
     "name": "stdout",
     "output_type": "stream",
     "text": [
      "test_13749.txt\n",
      "test_13750.txt\n",
      "test_13751.txt\n",
      "test_13752.txt\n",
      "test_13753.txt\n",
      "test_13754.txt\n",
      "test_13755.txt\n",
      "test_13756.txt\n"
     ]
    },
    {
     "name": "stderr",
     "output_type": "stream",
     "text": [
      "\r",
      " 56%|████████████████████▏               | 13757/24526 [04:01<03:09, 56.87it/s]"
     ]
    },
    {
     "name": "stdout",
     "output_type": "stream",
     "text": [
      "test_13757.txt\n",
      "test_13758.txt\n",
      "test_13759.txt\n",
      "test_13760.txt\n",
      "test_13761.txt\n",
      "test_13762.txt\n",
      "test_13763.txt\n"
     ]
    },
    {
     "name": "stderr",
     "output_type": "stream",
     "text": [
      "\r",
      " 56%|████████████████████▏               | 13764/24526 [04:02<03:09, 56.87it/s]"
     ]
    },
    {
     "name": "stdout",
     "output_type": "stream",
     "text": [
      "test_13764.txt\n",
      "test_13765.txt\n",
      "test_13766.txt\n",
      "test_13767.txt\n",
      "test_13768.txt\n",
      "test_13769.txt\n",
      "test_13770.txt\n"
     ]
    },
    {
     "name": "stderr",
     "output_type": "stream",
     "text": [
      "\r",
      " 56%|████████████████████▏               | 13771/24526 [04:02<03:09, 56.87it/s]"
     ]
    },
    {
     "name": "stdout",
     "output_type": "stream",
     "text": [
      "test_13771.txt\n",
      "test_13772.txt\n",
      "test_13773.txt\n",
      "test_13774.txt\n",
      "test_13775.txt\n",
      "test_13776.txt\n"
     ]
    },
    {
     "name": "stderr",
     "output_type": "stream",
     "text": [
      "\r",
      " 56%|████████████████████▏               | 13777/24526 [04:02<03:09, 56.86it/s]"
     ]
    },
    {
     "name": "stdout",
     "output_type": "stream",
     "text": [
      "test_13777.txt\n",
      "test_13778.txt\n",
      "test_13779.txt\n",
      "test_13780.txt\n",
      "test_13781.txt\n",
      "test_13782.txt\n",
      "test_13783.txt\n",
      "test_13784.txt\n"
     ]
    },
    {
     "name": "stderr",
     "output_type": "stream",
     "text": [
      "\r",
      " 56%|████████████████████▏               | 13785/24526 [04:02<03:08, 56.87it/s]"
     ]
    },
    {
     "name": "stdout",
     "output_type": "stream",
     "text": [
      "test_13785.txt\n",
      "test_13786.txt\n",
      "test_13787.txt\n",
      "test_13788.txt\n",
      "test_13789.txt\n",
      "test_13790.txt\n"
     ]
    },
    {
     "name": "stderr",
     "output_type": "stream",
     "text": [
      "\r",
      " 56%|████████████████████▏               | 13791/24526 [04:02<03:08, 56.86it/s]"
     ]
    },
    {
     "name": "stdout",
     "output_type": "stream",
     "text": [
      "test_13791.txt\n",
      "test_13792.txt\n",
      "test_13793.txt\n",
      "test_13794.txt\n",
      "test_13795.txt\n",
      "test_13796.txt\n"
     ]
    },
    {
     "name": "stderr",
     "output_type": "stream",
     "text": [
      "\r",
      " 56%|████████████████████▎               | 13797/24526 [04:02<03:08, 56.86it/s]"
     ]
    },
    {
     "name": "stdout",
     "output_type": "stream",
     "text": [
      "test_13797.txt\n",
      "test_13798.txt\n",
      "test_13799.txt\n",
      "test_13800.txt\n",
      "test_13801.txt\n",
      "test_13802.txt\n"
     ]
    },
    {
     "name": "stderr",
     "output_type": "stream",
     "text": [
      "\r",
      " 56%|████████████████████▎               | 13803/24526 [04:02<03:08, 56.86it/s]"
     ]
    },
    {
     "name": "stdout",
     "output_type": "stream",
     "text": [
      "test_13803.txt\n",
      "test_13804.txt\n",
      "test_13805.txt\n",
      "test_13806.txt\n",
      "test_13807.txt\n",
      "test_13808.txt\n"
     ]
    },
    {
     "name": "stderr",
     "output_type": "stream",
     "text": [
      "\r",
      " 56%|████████████████████▎               | 13809/24526 [04:02<03:08, 56.86it/s]"
     ]
    },
    {
     "name": "stdout",
     "output_type": "stream",
     "text": [
      "test_13809.txt\n",
      "test_13810.txt\n",
      "test_13811.txt\n",
      "test_13812.txt\n",
      "test_13813.txt\n",
      "test_13814.txt\n"
     ]
    },
    {
     "name": "stderr",
     "output_type": "stream",
     "text": [
      "\r",
      " 56%|████████████████████▎               | 13815/24526 [04:02<03:08, 56.86it/s]"
     ]
    },
    {
     "name": "stdout",
     "output_type": "stream",
     "text": [
      "test_13815.txt\n",
      "test_13816.txt\n",
      "test_13817.txt\n",
      "test_13818.txt\n",
      "test_13819.txt\n",
      "test_13820.txt\n"
     ]
    },
    {
     "name": "stderr",
     "output_type": "stream",
     "text": [
      "\r",
      " 56%|████████████████████▎               | 13821/24526 [04:03<03:08, 56.85it/s]"
     ]
    },
    {
     "name": "stdout",
     "output_type": "stream",
     "text": [
      "test_13821.txt\n",
      "test_13822.txt\n",
      "test_13823.txt\n",
      "test_13824.txt\n",
      "test_13825.txt\n",
      "test_13826.txt\n"
     ]
    },
    {
     "name": "stderr",
     "output_type": "stream",
     "text": [
      "\r",
      " 56%|████████████████████▎               | 13827/24526 [04:03<03:08, 56.85it/s]"
     ]
    },
    {
     "name": "stdout",
     "output_type": "stream",
     "text": [
      "test_13827.txt\n",
      "test_13828.txt\n",
      "test_13829.txt\n",
      "test_13830.txt\n",
      "test_13831.txt\n",
      "test_13832.txt\n",
      "test_13833.txt\n",
      "test_13834.txt\n",
      "test_13835.txt\n"
     ]
    },
    {
     "name": "stderr",
     "output_type": "stream",
     "text": [
      "\r",
      " 56%|████████████████████▎               | 13836/24526 [04:03<03:07, 56.86it/s]"
     ]
    },
    {
     "name": "stdout",
     "output_type": "stream",
     "text": [
      "test_13836.txt\n",
      "test_13837.txt\n",
      "test_13838.txt\n",
      "test_13839.txt\n",
      "test_13840.txt\n",
      "test_13841.txt\n",
      "test_13842.txt\n"
     ]
    },
    {
     "name": "stderr",
     "output_type": "stream",
     "text": [
      "\r",
      " 56%|████████████████████▎               | 13843/24526 [04:03<03:07, 56.86it/s]"
     ]
    },
    {
     "name": "stdout",
     "output_type": "stream",
     "text": [
      "test_13843.txt\n",
      "test_13844.txt\n",
      "test_13845.txt\n",
      "test_13846.txt\n",
      "test_13847.txt\n",
      "test_13848.txt\n"
     ]
    },
    {
     "name": "stderr",
     "output_type": "stream",
     "text": [
      "\r",
      " 56%|████████████████████▎               | 13849/24526 [04:03<03:07, 56.86it/s]"
     ]
    },
    {
     "name": "stdout",
     "output_type": "stream",
     "text": [
      "test_13849.txt\n",
      "test_13850.txt\n",
      "test_13851.txt\n",
      "test_13852.txt\n",
      "test_13853.txt\n",
      "test_13854.txt\n",
      "test_13855.txt\n",
      "test_13856.txt\n"
     ]
    },
    {
     "name": "stderr",
     "output_type": "stream",
     "text": [
      "\r",
      " 56%|████████████████████▎               | 13857/24526 [04:03<03:07, 56.87it/s]"
     ]
    },
    {
     "name": "stdout",
     "output_type": "stream",
     "text": [
      "test_13857.txt\n",
      "test_13858.txt\n",
      "test_13859.txt\n",
      "test_13860.txt\n",
      "test_13861.txt\n",
      "test_13862.txt\n",
      "test_13863.txt\n"
     ]
    },
    {
     "name": "stderr",
     "output_type": "stream",
     "text": [
      "\r",
      " 57%|████████████████████▎               | 13864/24526 [04:03<03:07, 56.87it/s]"
     ]
    },
    {
     "name": "stdout",
     "output_type": "stream",
     "text": [
      "test_13864.txt\n",
      "test_13865.txt\n",
      "test_13866.txt\n",
      "test_13867.txt\n",
      "test_13868.txt\n",
      "test_13869.txt\n",
      "test_13870.txt\n"
     ]
    },
    {
     "name": "stderr",
     "output_type": "stream",
     "text": [
      "\r",
      " 57%|████████████████████▎               | 13871/24526 [04:03<03:07, 56.87it/s]"
     ]
    },
    {
     "name": "stdout",
     "output_type": "stream",
     "text": [
      "test_13871.txt\n",
      "test_13872.txt\n",
      "test_13873.txt\n",
      "test_13874.txt\n",
      "test_13875.txt\n",
      "test_13876.txt\n",
      "test_13877.txt\n"
     ]
    },
    {
     "name": "stderr",
     "output_type": "stream",
     "text": [
      "\r",
      " 57%|████████████████████▎               | 13878/24526 [04:04<03:07, 56.87it/s]"
     ]
    },
    {
     "name": "stdout",
     "output_type": "stream",
     "text": [
      "test_13878.txt\n",
      "test_13879.txt\n",
      "test_13880.txt\n",
      "test_13881.txt\n",
      "test_13882.txt\n",
      "test_13883.txt\n"
     ]
    },
    {
     "name": "stderr",
     "output_type": "stream",
     "text": [
      "\r",
      " 57%|████████████████████▍               | 13884/24526 [04:04<03:07, 56.87it/s]"
     ]
    },
    {
     "name": "stdout",
     "output_type": "stream",
     "text": [
      "test_13884.txt\n",
      "test_13885.txt\n",
      "test_13886.txt\n",
      "test_13887.txt\n",
      "test_13888.txt\n",
      "test_13889.txt\n"
     ]
    },
    {
     "name": "stderr",
     "output_type": "stream",
     "text": [
      "\r",
      " 57%|████████████████████▍               | 13890/24526 [04:04<03:07, 56.86it/s]"
     ]
    },
    {
     "name": "stdout",
     "output_type": "stream",
     "text": [
      "test_13890.txt\n",
      "test_13891.txt\n",
      "test_13892.txt\n",
      "test_13893.txt\n",
      "test_13894.txt\n",
      "test_13895.txt\n",
      "test_13896.txt\n",
      "test_13897.txt\n",
      "test_13898.txt\n",
      "test_13899.txt\n"
     ]
    },
    {
     "name": "stderr",
     "output_type": "stream",
     "text": [
      "\r",
      " 57%|████████████████████▍               | 13900/24526 [04:04<03:06, 56.88it/s]"
     ]
    },
    {
     "name": "stdout",
     "output_type": "stream",
     "text": [
      "test_13900.txt\n",
      "test_13901.txt\n",
      "test_13902.txt\n",
      "test_13903.txt\n",
      "test_13904.txt\n",
      "test_13905.txt\n",
      "test_13906.txt\n"
     ]
    },
    {
     "name": "stderr",
     "output_type": "stream",
     "text": [
      "\r",
      " 57%|████████████████████▍               | 13907/24526 [04:04<03:06, 56.88it/s]"
     ]
    },
    {
     "name": "stdout",
     "output_type": "stream",
     "text": [
      "test_13907.txt\n",
      "test_13908.txt\n",
      "test_13909.txt\n",
      "test_13910.txt\n",
      "test_13911.txt\n",
      "test_13912.txt\n",
      "test_13913.txt\n",
      "test_13914.txt\n"
     ]
    },
    {
     "name": "stderr",
     "output_type": "stream",
     "text": [
      "\r",
      " 57%|████████████████████▍               | 13915/24526 [04:04<03:06, 56.89it/s]"
     ]
    },
    {
     "name": "stdout",
     "output_type": "stream",
     "text": [
      "test_13915.txt\n",
      "test_13916.txt\n",
      "test_13917.txt\n",
      "test_13918.txt\n",
      "test_13919.txt\n",
      "test_13920.txt\n",
      "test_13921.txt\n"
     ]
    },
    {
     "name": "stderr",
     "output_type": "stream",
     "text": [
      "\r",
      " 57%|████████████████████▍               | 13922/24526 [04:04<03:06, 56.88it/s]"
     ]
    },
    {
     "name": "stdout",
     "output_type": "stream",
     "text": [
      "test_13922.txt\n",
      "test_13923.txt\n",
      "test_13924.txt\n",
      "test_13925.txt\n",
      "test_13926.txt\n",
      "test_13927.txt\n",
      "test_13928.txt\n",
      "test_13929.txt\n"
     ]
    },
    {
     "name": "stderr",
     "output_type": "stream",
     "text": [
      "\r",
      " 57%|████████████████████▍               | 13930/24526 [04:04<03:06, 56.89it/s]"
     ]
    },
    {
     "name": "stdout",
     "output_type": "stream",
     "text": [
      "test_13930.txt\n",
      "test_13931.txt\n",
      "test_13932.txt\n",
      "test_13933.txt\n",
      "test_13934.txt\n",
      "test_13935.txt\n",
      "test_13936.txt\n"
     ]
    },
    {
     "name": "stderr",
     "output_type": "stream",
     "text": [
      "\r",
      " 57%|████████████████████▍               | 13937/24526 [04:04<03:06, 56.89it/s]"
     ]
    },
    {
     "name": "stdout",
     "output_type": "stream",
     "text": [
      "test_13937.txt\n",
      "test_13938.txt\n",
      "test_13939.txt\n",
      "test_13940.txt\n",
      "test_13941.txt\n",
      "test_13942.txt\n",
      "test_13943.txt\n"
     ]
    },
    {
     "name": "stderr",
     "output_type": "stream",
     "text": [
      "\r",
      " 57%|████████████████████▍               | 13944/24526 [04:05<03:06, 56.89it/s]"
     ]
    },
    {
     "name": "stdout",
     "output_type": "stream",
     "text": [
      "test_13944.txt\n",
      "test_13945.txt\n"
     ]
    }
   ],
   "source": [
    "TEST_DIR = 'dataset/DATA/TEST/'\n",
    "for i in tqdm.tqdm(range(len(os.listdir(TEST_DIR)))):\n",
    "    with open(TEST_DIR + 'test_' + str(i) + '.txt', 'r', encoding='utf8') as file:\n",
    "        print('test_' + str(i) + '.txt')\n",
    "        if i == 5:\n",
    "            print(file.readlines())\n",
    "        continue"
   ]
  },
  {
   "cell_type": "code",
   "execution_count": 15,
   "metadata": {},
   "outputs": [
    {
     "data": {
      "text/plain": [
       "['test_0.txt',\n",
       " 'test_1.txt',\n",
       " 'test_10.txt',\n",
       " 'test_100.txt',\n",
       " 'test_1000.txt',\n",
       " 'test_10000.txt',\n",
       " 'test_10001.txt',\n",
       " 'test_10002.txt',\n",
       " 'test_10003.txt',\n",
       " 'test_10004.txt',\n",
       " 'test_10005.txt',\n",
       " 'test_10006.txt',\n",
       " 'test_10007.txt',\n",
       " 'test_10008.txt',\n",
       " 'test_10009.txt',\n",
       " 'test_1001.txt',\n",
       " 'test_10010.txt',\n",
       " 'test_10011.txt',\n",
       " 'test_10012.txt',\n",
       " 'test_10013.txt',\n",
       " 'test_10014.txt',\n",
       " 'test_10015.txt',\n",
       " 'test_10016.txt',\n",
       " 'test_10017.txt',\n",
       " 'test_10018.txt',\n",
       " 'test_10019.txt',\n",
       " 'test_1002.txt',\n",
       " 'test_10020.txt',\n",
       " 'test_10021.txt',\n",
       " 'test_10022.txt',\n",
       " 'test_10023.txt',\n",
       " 'test_10024.txt',\n",
       " 'test_10025.txt',\n",
       " 'test_10026.txt',\n",
       " 'test_10027.txt',\n",
       " 'test_10028.txt',\n",
       " 'test_10029.txt',\n",
       " 'test_1003.txt',\n",
       " 'test_10030.txt',\n",
       " 'test_10031.txt',\n",
       " 'test_10032.txt',\n",
       " 'test_10033.txt',\n",
       " 'test_10034.txt',\n",
       " 'test_10035.txt',\n",
       " 'test_10036.txt',\n",
       " 'test_10037.txt',\n",
       " 'test_10038.txt',\n",
       " 'test_10039.txt',\n",
       " 'test_1004.txt',\n",
       " 'test_10040.txt',\n",
       " 'test_10041.txt',\n",
       " 'test_10042.txt',\n",
       " 'test_10043.txt',\n",
       " 'test_10044.txt',\n",
       " 'test_10045.txt',\n",
       " 'test_10046.txt',\n",
       " 'test_10047.txt',\n",
       " 'test_10048.txt',\n",
       " 'test_10049.txt',\n",
       " 'test_1005.txt',\n",
       " 'test_10050.txt',\n",
       " 'test_10051.txt',\n",
       " 'test_10052.txt',\n",
       " 'test_10053.txt',\n",
       " 'test_10054.txt',\n",
       " 'test_10055.txt',\n",
       " 'test_10056.txt',\n",
       " 'test_10057.txt',\n",
       " 'test_10058.txt',\n",
       " 'test_10059.txt',\n",
       " 'test_1006.txt',\n",
       " 'test_10060.txt',\n",
       " 'test_10061.txt',\n",
       " 'test_10062.txt',\n",
       " 'test_10063.txt',\n",
       " 'test_10064.txt',\n",
       " 'test_10065.txt',\n",
       " 'test_10066.txt',\n",
       " 'test_10067.txt',\n",
       " 'test_10068.txt',\n",
       " 'test_10069.txt',\n",
       " 'test_1007.txt',\n",
       " 'test_10070.txt',\n",
       " 'test_10071.txt',\n",
       " 'test_10072.txt',\n",
       " 'test_10073.txt',\n",
       " 'test_10074.txt',\n",
       " 'test_10075.txt',\n",
       " 'test_10076.txt',\n",
       " 'test_10077.txt',\n",
       " 'test_10078.txt',\n",
       " 'test_10079.txt',\n",
       " 'test_1008.txt',\n",
       " 'test_10080.txt',\n",
       " 'test_10081.txt',\n",
       " 'test_10082.txt',\n",
       " 'test_10083.txt',\n",
       " 'test_10084.txt',\n",
       " 'test_10085.txt',\n",
       " 'test_10086.txt',\n",
       " 'test_10087.txt',\n",
       " 'test_10088.txt',\n",
       " 'test_10089.txt',\n",
       " 'test_1009.txt',\n",
       " 'test_10090.txt',\n",
       " 'test_10091.txt',\n",
       " 'test_10092.txt',\n",
       " 'test_10093.txt',\n",
       " 'test_10094.txt',\n",
       " 'test_10095.txt',\n",
       " 'test_10096.txt',\n",
       " 'test_10097.txt',\n",
       " 'test_10098.txt',\n",
       " 'test_10099.txt',\n",
       " 'test_101.txt',\n",
       " 'test_1010.txt',\n",
       " 'test_10100.txt',\n",
       " 'test_10101.txt',\n",
       " 'test_10102.txt',\n",
       " 'test_10103.txt',\n",
       " 'test_10104.txt',\n",
       " 'test_10105.txt',\n",
       " 'test_10106.txt',\n",
       " 'test_10107.txt',\n",
       " 'test_10108.txt',\n",
       " 'test_10109.txt',\n",
       " 'test_1011.txt',\n",
       " 'test_10110.txt',\n",
       " 'test_10111.txt',\n",
       " 'test_10112.txt',\n",
       " 'test_10113.txt',\n",
       " 'test_10114.txt',\n",
       " 'test_10115.txt',\n",
       " 'test_10116.txt',\n",
       " 'test_10117.txt',\n",
       " 'test_10118.txt',\n",
       " 'test_10119.txt',\n",
       " 'test_1012.txt',\n",
       " 'test_10120.txt',\n",
       " 'test_10121.txt',\n",
       " 'test_10122.txt',\n",
       " 'test_10123.txt',\n",
       " 'test_10124.txt',\n",
       " 'test_10125.txt',\n",
       " 'test_10126.txt',\n",
       " 'test_10127.txt',\n",
       " 'test_10128.txt',\n",
       " 'test_10129.txt',\n",
       " 'test_1013.txt',\n",
       " 'test_10130.txt',\n",
       " 'test_10131.txt',\n",
       " 'test_10132.txt',\n",
       " 'test_10133.txt',\n",
       " 'test_10134.txt',\n",
       " 'test_10135.txt',\n",
       " 'test_10136.txt',\n",
       " 'test_10137.txt',\n",
       " 'test_10138.txt',\n",
       " 'test_10139.txt',\n",
       " 'test_1014.txt',\n",
       " 'test_10140.txt',\n",
       " 'test_10141.txt',\n",
       " 'test_10142.txt',\n",
       " 'test_10143.txt',\n",
       " 'test_10144.txt',\n",
       " 'test_10145.txt',\n",
       " 'test_10146.txt',\n",
       " 'test_10147.txt',\n",
       " 'test_10148.txt',\n",
       " 'test_10149.txt',\n",
       " 'test_1015.txt',\n",
       " 'test_10150.txt',\n",
       " 'test_10151.txt',\n",
       " 'test_10152.txt',\n",
       " 'test_10153.txt',\n",
       " 'test_10154.txt',\n",
       " 'test_10155.txt',\n",
       " 'test_10156.txt',\n",
       " 'test_10157.txt',\n",
       " 'test_10158.txt',\n",
       " 'test_10159.txt',\n",
       " 'test_1016.txt',\n",
       " 'test_10160.txt',\n",
       " 'test_10161.txt',\n",
       " 'test_10162.txt',\n",
       " 'test_10163.txt',\n",
       " 'test_10164.txt',\n",
       " 'test_10165.txt',\n",
       " 'test_10166.txt',\n",
       " 'test_10167.txt',\n",
       " 'test_10168.txt',\n",
       " 'test_10169.txt',\n",
       " 'test_1017.txt',\n",
       " 'test_10170.txt',\n",
       " 'test_10171.txt',\n",
       " 'test_10172.txt',\n",
       " 'test_10173.txt',\n",
       " 'test_10174.txt',\n",
       " 'test_10175.txt',\n",
       " 'test_10176.txt',\n",
       " 'test_10177.txt',\n",
       " 'test_10178.txt',\n",
       " 'test_10179.txt',\n",
       " 'test_1018.txt',\n",
       " 'test_10180.txt',\n",
       " 'test_10181.txt',\n",
       " 'test_10182.txt',\n",
       " 'test_10183.txt',\n",
       " 'test_10184.txt',\n",
       " 'test_10185.txt',\n",
       " 'test_10186.txt',\n",
       " 'test_10187.txt',\n",
       " 'test_10188.txt',\n",
       " 'test_10189.txt',\n",
       " 'test_1019.txt',\n",
       " 'test_10190.txt',\n",
       " 'test_10191.txt',\n",
       " 'test_10192.txt',\n",
       " 'test_10193.txt',\n",
       " 'test_10194.txt',\n",
       " 'test_10195.txt',\n",
       " 'test_10196.txt',\n",
       " 'test_10197.txt',\n",
       " 'test_10198.txt',\n",
       " 'test_10199.txt',\n",
       " 'test_102.txt',\n",
       " 'test_1020.txt',\n",
       " 'test_10200.txt',\n",
       " 'test_10201.txt',\n",
       " 'test_10202.txt',\n",
       " 'test_10203.txt',\n",
       " 'test_10204.txt',\n",
       " 'test_10205.txt',\n",
       " 'test_10206.txt',\n",
       " 'test_10207.txt',\n",
       " 'test_10208.txt',\n",
       " 'test_10209.txt',\n",
       " 'test_1021.txt',\n",
       " 'test_10210.txt',\n",
       " 'test_10211.txt',\n",
       " 'test_10212.txt',\n",
       " 'test_10213.txt',\n",
       " 'test_10214.txt',\n",
       " 'test_10215.txt',\n",
       " 'test_10216.txt',\n",
       " 'test_10217.txt',\n",
       " 'test_10218.txt',\n",
       " 'test_10219.txt',\n",
       " 'test_1022.txt',\n",
       " 'test_10220.txt',\n",
       " 'test_10221.txt',\n",
       " 'test_10222.txt',\n",
       " 'test_10223.txt',\n",
       " 'test_10224.txt',\n",
       " 'test_10225.txt',\n",
       " 'test_10226.txt',\n",
       " 'test_10227.txt',\n",
       " 'test_10228.txt',\n",
       " 'test_10229.txt',\n",
       " 'test_1023.txt',\n",
       " 'test_10230.txt',\n",
       " 'test_10231.txt',\n",
       " 'test_10232.txt',\n",
       " 'test_10233.txt',\n",
       " 'test_10234.txt',\n",
       " 'test_10235.txt',\n",
       " 'test_10236.txt',\n",
       " 'test_10237.txt',\n",
       " 'test_10238.txt',\n",
       " 'test_10239.txt',\n",
       " 'test_1024.txt',\n",
       " 'test_10240.txt',\n",
       " 'test_10241.txt',\n",
       " 'test_10242.txt',\n",
       " 'test_10243.txt',\n",
       " 'test_10244.txt',\n",
       " 'test_10245.txt',\n",
       " 'test_10246.txt',\n",
       " 'test_10247.txt',\n",
       " 'test_10248.txt',\n",
       " 'test_10249.txt',\n",
       " 'test_1025.txt',\n",
       " 'test_10250.txt',\n",
       " 'test_10251.txt',\n",
       " 'test_10252.txt',\n",
       " 'test_10253.txt',\n",
       " 'test_10254.txt',\n",
       " 'test_10255.txt',\n",
       " 'test_10256.txt',\n",
       " 'test_10257.txt',\n",
       " 'test_10258.txt',\n",
       " 'test_10259.txt',\n",
       " 'test_1026.txt',\n",
       " 'test_10260.txt',\n",
       " 'test_10261.txt',\n",
       " 'test_10262.txt',\n",
       " 'test_10263.txt',\n",
       " 'test_10264.txt',\n",
       " 'test_10265.txt',\n",
       " 'test_10266.txt',\n",
       " 'test_10267.txt',\n",
       " 'test_10268.txt',\n",
       " 'test_10269.txt',\n",
       " 'test_1027.txt',\n",
       " 'test_10270.txt',\n",
       " 'test_10271.txt',\n",
       " 'test_10272.txt',\n",
       " 'test_10273.txt',\n",
       " 'test_10274.txt',\n",
       " 'test_10275.txt',\n",
       " 'test_10276.txt',\n",
       " 'test_10277.txt',\n",
       " 'test_10278.txt',\n",
       " 'test_10279.txt',\n",
       " 'test_1028.txt',\n",
       " 'test_10280.txt',\n",
       " 'test_10281.txt',\n",
       " 'test_10282.txt',\n",
       " 'test_10283.txt',\n",
       " 'test_10284.txt',\n",
       " 'test_10285.txt',\n",
       " 'test_10286.txt',\n",
       " 'test_10287.txt',\n",
       " 'test_10288.txt',\n",
       " 'test_10289.txt',\n",
       " 'test_1029.txt',\n",
       " 'test_10290.txt',\n",
       " 'test_10291.txt',\n",
       " 'test_10292.txt',\n",
       " 'test_10293.txt',\n",
       " 'test_10294.txt',\n",
       " 'test_10295.txt',\n",
       " 'test_10296.txt',\n",
       " 'test_10297.txt',\n",
       " 'test_10298.txt',\n",
       " 'test_10299.txt',\n",
       " 'test_103.txt',\n",
       " 'test_1030.txt',\n",
       " 'test_10300.txt',\n",
       " 'test_10301.txt',\n",
       " 'test_10302.txt',\n",
       " 'test_10303.txt',\n",
       " 'test_10304.txt',\n",
       " 'test_10305.txt',\n",
       " 'test_10306.txt',\n",
       " 'test_10307.txt',\n",
       " 'test_10308.txt',\n",
       " 'test_10309.txt',\n",
       " 'test_1031.txt',\n",
       " 'test_10310.txt',\n",
       " 'test_10311.txt',\n",
       " 'test_10312.txt',\n",
       " 'test_10313.txt',\n",
       " 'test_10314.txt',\n",
       " 'test_10315.txt',\n",
       " 'test_10316.txt',\n",
       " 'test_10317.txt',\n",
       " 'test_10318.txt',\n",
       " 'test_10319.txt',\n",
       " 'test_1032.txt',\n",
       " 'test_10320.txt',\n",
       " 'test_10321.txt',\n",
       " 'test_10322.txt',\n",
       " 'test_10323.txt',\n",
       " 'test_10324.txt',\n",
       " 'test_10325.txt',\n",
       " 'test_10326.txt',\n",
       " 'test_10327.txt',\n",
       " 'test_10328.txt',\n",
       " 'test_10329.txt',\n",
       " 'test_1033.txt',\n",
       " 'test_10330.txt',\n",
       " 'test_10331.txt',\n",
       " 'test_10332.txt',\n",
       " 'test_10333.txt',\n",
       " 'test_10334.txt',\n",
       " 'test_10335.txt',\n",
       " 'test_10336.txt',\n",
       " 'test_10337.txt',\n",
       " 'test_10338.txt',\n",
       " 'test_10339.txt',\n",
       " 'test_1034.txt',\n",
       " 'test_10340.txt',\n",
       " 'test_10341.txt',\n",
       " 'test_10342.txt',\n",
       " 'test_10343.txt',\n",
       " 'test_10344.txt',\n",
       " 'test_10345.txt',\n",
       " 'test_10346.txt',\n",
       " 'test_10347.txt',\n",
       " 'test_10348.txt',\n",
       " 'test_10349.txt',\n",
       " 'test_1035.txt',\n",
       " 'test_10350.txt',\n",
       " 'test_10351.txt',\n",
       " 'test_10352.txt',\n",
       " 'test_10353.txt',\n",
       " 'test_10354.txt',\n",
       " 'test_10355.txt',\n",
       " 'test_10356.txt',\n",
       " 'test_10357.txt',\n",
       " 'test_10358.txt',\n",
       " 'test_10359.txt',\n",
       " 'test_1036.txt',\n",
       " 'test_10360.txt',\n",
       " 'test_10361.txt',\n",
       " 'test_10362.txt',\n",
       " 'test_10363.txt',\n",
       " 'test_10364.txt',\n",
       " 'test_10365.txt',\n",
       " 'test_10366.txt',\n",
       " 'test_10367.txt',\n",
       " 'test_10368.txt',\n",
       " 'test_10369.txt',\n",
       " 'test_1037.txt',\n",
       " 'test_10370.txt',\n",
       " 'test_10371.txt',\n",
       " 'test_10372.txt',\n",
       " 'test_10373.txt',\n",
       " 'test_10374.txt',\n",
       " 'test_10375.txt',\n",
       " 'test_10376.txt',\n",
       " 'test_10377.txt',\n",
       " 'test_10378.txt',\n",
       " 'test_10379.txt',\n",
       " 'test_1038.txt',\n",
       " 'test_10380.txt',\n",
       " 'test_10381.txt',\n",
       " 'test_10382.txt',\n",
       " 'test_10383.txt',\n",
       " 'test_10384.txt',\n",
       " 'test_10385.txt',\n",
       " 'test_10386.txt',\n",
       " 'test_10387.txt',\n",
       " 'test_10388.txt',\n",
       " 'test_10389.txt',\n",
       " 'test_1039.txt',\n",
       " 'test_10390.txt',\n",
       " 'test_10391.txt',\n",
       " 'test_10392.txt',\n",
       " 'test_10393.txt',\n",
       " 'test_10394.txt',\n",
       " 'test_10395.txt',\n",
       " 'test_10396.txt',\n",
       " 'test_10397.txt',\n",
       " 'test_10398.txt',\n",
       " 'test_10399.txt',\n",
       " 'test_104.txt',\n",
       " 'test_1040.txt',\n",
       " 'test_10400.txt',\n",
       " 'test_10401.txt',\n",
       " 'test_10402.txt',\n",
       " 'test_10403.txt',\n",
       " 'test_10404.txt',\n",
       " 'test_10405.txt',\n",
       " 'test_10406.txt',\n",
       " 'test_10407.txt',\n",
       " 'test_10408.txt',\n",
       " 'test_10409.txt',\n",
       " 'test_1041.txt',\n",
       " 'test_10410.txt',\n",
       " 'test_10411.txt',\n",
       " 'test_10412.txt',\n",
       " 'test_10413.txt',\n",
       " 'test_10414.txt',\n",
       " 'test_10415.txt',\n",
       " 'test_10416.txt',\n",
       " 'test_10417.txt',\n",
       " 'test_10418.txt',\n",
       " 'test_10419.txt',\n",
       " 'test_1042.txt',\n",
       " 'test_10420.txt',\n",
       " 'test_10421.txt',\n",
       " 'test_10422.txt',\n",
       " 'test_10423.txt',\n",
       " 'test_10424.txt',\n",
       " 'test_10425.txt',\n",
       " 'test_10426.txt',\n",
       " 'test_10427.txt',\n",
       " 'test_10428.txt',\n",
       " 'test_10429.txt',\n",
       " 'test_1043.txt',\n",
       " 'test_10430.txt',\n",
       " 'test_10431.txt',\n",
       " 'test_10432.txt',\n",
       " 'test_10433.txt',\n",
       " 'test_10434.txt',\n",
       " 'test_10435.txt',\n",
       " 'test_10436.txt',\n",
       " 'test_10437.txt',\n",
       " 'test_10438.txt',\n",
       " 'test_10439.txt',\n",
       " 'test_1044.txt',\n",
       " 'test_10440.txt',\n",
       " 'test_10441.txt',\n",
       " 'test_10442.txt',\n",
       " 'test_10443.txt',\n",
       " 'test_10444.txt',\n",
       " 'test_10445.txt',\n",
       " 'test_10446.txt',\n",
       " 'test_10447.txt',\n",
       " 'test_10448.txt',\n",
       " 'test_10449.txt',\n",
       " 'test_1045.txt',\n",
       " 'test_10450.txt',\n",
       " 'test_10451.txt',\n",
       " 'test_10452.txt',\n",
       " 'test_10453.txt',\n",
       " 'test_10454.txt',\n",
       " 'test_10455.txt',\n",
       " 'test_10456.txt',\n",
       " 'test_10457.txt',\n",
       " 'test_10458.txt',\n",
       " 'test_10459.txt',\n",
       " 'test_1046.txt',\n",
       " 'test_10460.txt',\n",
       " 'test_10461.txt',\n",
       " 'test_10462.txt',\n",
       " 'test_10463.txt',\n",
       " 'test_10464.txt',\n",
       " 'test_10465.txt',\n",
       " 'test_10466.txt',\n",
       " 'test_10467.txt',\n",
       " 'test_10468.txt',\n",
       " 'test_10469.txt',\n",
       " 'test_1047.txt',\n",
       " 'test_10470.txt',\n",
       " 'test_10471.txt',\n",
       " 'test_10472.txt',\n",
       " 'test_10473.txt',\n",
       " 'test_10474.txt',\n",
       " 'test_10475.txt',\n",
       " 'test_10476.txt',\n",
       " 'test_10477.txt',\n",
       " 'test_10478.txt',\n",
       " 'test_10479.txt',\n",
       " 'test_1048.txt',\n",
       " 'test_10480.txt',\n",
       " 'test_10481.txt',\n",
       " 'test_10482.txt',\n",
       " 'test_10483.txt',\n",
       " 'test_10484.txt',\n",
       " 'test_10485.txt',\n",
       " 'test_10486.txt',\n",
       " 'test_10487.txt',\n",
       " 'test_10488.txt',\n",
       " 'test_10489.txt',\n",
       " 'test_1049.txt',\n",
       " 'test_10490.txt',\n",
       " 'test_10491.txt',\n",
       " 'test_10492.txt',\n",
       " 'test_10493.txt',\n",
       " 'test_10494.txt',\n",
       " 'test_10495.txt',\n",
       " 'test_10496.txt',\n",
       " 'test_10497.txt',\n",
       " 'test_10498.txt',\n",
       " 'test_10499.txt',\n",
       " 'test_105.txt',\n",
       " 'test_1050.txt',\n",
       " 'test_10500.txt',\n",
       " 'test_10501.txt',\n",
       " 'test_10502.txt',\n",
       " 'test_10503.txt',\n",
       " 'test_10504.txt',\n",
       " 'test_10505.txt',\n",
       " 'test_10506.txt',\n",
       " 'test_10507.txt',\n",
       " 'test_10508.txt',\n",
       " 'test_10509.txt',\n",
       " 'test_1051.txt',\n",
       " 'test_10510.txt',\n",
       " 'test_10511.txt',\n",
       " 'test_10512.txt',\n",
       " 'test_10513.txt',\n",
       " 'test_10514.txt',\n",
       " 'test_10515.txt',\n",
       " 'test_10516.txt',\n",
       " 'test_10517.txt',\n",
       " 'test_10518.txt',\n",
       " 'test_10519.txt',\n",
       " 'test_1052.txt',\n",
       " 'test_10520.txt',\n",
       " 'test_10521.txt',\n",
       " 'test_10522.txt',\n",
       " 'test_10523.txt',\n",
       " 'test_10524.txt',\n",
       " 'test_10525.txt',\n",
       " 'test_10526.txt',\n",
       " 'test_10527.txt',\n",
       " 'test_10528.txt',\n",
       " 'test_10529.txt',\n",
       " 'test_1053.txt',\n",
       " 'test_10530.txt',\n",
       " 'test_10531.txt',\n",
       " 'test_10532.txt',\n",
       " 'test_10533.txt',\n",
       " 'test_10534.txt',\n",
       " 'test_10535.txt',\n",
       " 'test_10536.txt',\n",
       " 'test_10537.txt',\n",
       " 'test_10538.txt',\n",
       " 'test_10539.txt',\n",
       " 'test_1054.txt',\n",
       " 'test_10540.txt',\n",
       " 'test_10541.txt',\n",
       " 'test_10542.txt',\n",
       " 'test_10543.txt',\n",
       " 'test_10544.txt',\n",
       " 'test_10545.txt',\n",
       " 'test_10546.txt',\n",
       " 'test_10547.txt',\n",
       " 'test_10548.txt',\n",
       " 'test_10549.txt',\n",
       " 'test_1055.txt',\n",
       " 'test_10550.txt',\n",
       " 'test_10551.txt',\n",
       " 'test_10552.txt',\n",
       " 'test_10553.txt',\n",
       " 'test_10554.txt',\n",
       " 'test_10555.txt',\n",
       " 'test_10556.txt',\n",
       " 'test_10557.txt',\n",
       " 'test_10558.txt',\n",
       " 'test_10559.txt',\n",
       " 'test_1056.txt',\n",
       " 'test_10560.txt',\n",
       " 'test_10561.txt',\n",
       " 'test_10562.txt',\n",
       " 'test_10563.txt',\n",
       " 'test_10564.txt',\n",
       " 'test_10565.txt',\n",
       " 'test_10566.txt',\n",
       " 'test_10567.txt',\n",
       " 'test_10568.txt',\n",
       " 'test_10569.txt',\n",
       " 'test_1057.txt',\n",
       " 'test_10570.txt',\n",
       " 'test_10571.txt',\n",
       " 'test_10572.txt',\n",
       " 'test_10573.txt',\n",
       " 'test_10574.txt',\n",
       " 'test_10575.txt',\n",
       " 'test_10576.txt',\n",
       " 'test_10577.txt',\n",
       " 'test_10578.txt',\n",
       " 'test_10579.txt',\n",
       " 'test_1058.txt',\n",
       " 'test_10580.txt',\n",
       " 'test_10581.txt',\n",
       " 'test_10582.txt',\n",
       " 'test_10583.txt',\n",
       " 'test_10584.txt',\n",
       " 'test_10585.txt',\n",
       " 'test_10586.txt',\n",
       " 'test_10587.txt',\n",
       " 'test_10588.txt',\n",
       " 'test_10589.txt',\n",
       " 'test_1059.txt',\n",
       " 'test_10590.txt',\n",
       " 'test_10591.txt',\n",
       " 'test_10592.txt',\n",
       " 'test_10593.txt',\n",
       " 'test_10594.txt',\n",
       " 'test_10595.txt',\n",
       " 'test_10596.txt',\n",
       " 'test_10597.txt',\n",
       " 'test_10598.txt',\n",
       " 'test_10599.txt',\n",
       " 'test_106.txt',\n",
       " 'test_1060.txt',\n",
       " 'test_10600.txt',\n",
       " 'test_10601.txt',\n",
       " 'test_10602.txt',\n",
       " 'test_10603.txt',\n",
       " 'test_10604.txt',\n",
       " 'test_10605.txt',\n",
       " 'test_10606.txt',\n",
       " 'test_10607.txt',\n",
       " 'test_10608.txt',\n",
       " 'test_10609.txt',\n",
       " 'test_1061.txt',\n",
       " 'test_10610.txt',\n",
       " 'test_10611.txt',\n",
       " 'test_10612.txt',\n",
       " 'test_10613.txt',\n",
       " 'test_10614.txt',\n",
       " 'test_10615.txt',\n",
       " 'test_10616.txt',\n",
       " 'test_10617.txt',\n",
       " 'test_10618.txt',\n",
       " 'test_10619.txt',\n",
       " 'test_1062.txt',\n",
       " 'test_10620.txt',\n",
       " 'test_10621.txt',\n",
       " 'test_10622.txt',\n",
       " 'test_10623.txt',\n",
       " 'test_10624.txt',\n",
       " 'test_10625.txt',\n",
       " 'test_10626.txt',\n",
       " 'test_10627.txt',\n",
       " 'test_10628.txt',\n",
       " 'test_10629.txt',\n",
       " 'test_1063.txt',\n",
       " 'test_10630.txt',\n",
       " 'test_10631.txt',\n",
       " 'test_10632.txt',\n",
       " 'test_10633.txt',\n",
       " 'test_10634.txt',\n",
       " 'test_10635.txt',\n",
       " 'test_10636.txt',\n",
       " 'test_10637.txt',\n",
       " 'test_10638.txt',\n",
       " 'test_10639.txt',\n",
       " 'test_1064.txt',\n",
       " 'test_10640.txt',\n",
       " 'test_10641.txt',\n",
       " 'test_10642.txt',\n",
       " 'test_10643.txt',\n",
       " 'test_10644.txt',\n",
       " 'test_10645.txt',\n",
       " 'test_10646.txt',\n",
       " 'test_10647.txt',\n",
       " 'test_10648.txt',\n",
       " 'test_10649.txt',\n",
       " 'test_1065.txt',\n",
       " 'test_10650.txt',\n",
       " 'test_10651.txt',\n",
       " 'test_10652.txt',\n",
       " 'test_10653.txt',\n",
       " 'test_10654.txt',\n",
       " 'test_10655.txt',\n",
       " 'test_10656.txt',\n",
       " 'test_10657.txt',\n",
       " 'test_10658.txt',\n",
       " 'test_10659.txt',\n",
       " 'test_1066.txt',\n",
       " 'test_10660.txt',\n",
       " 'test_10661.txt',\n",
       " 'test_10662.txt',\n",
       " 'test_10663.txt',\n",
       " 'test_10664.txt',\n",
       " 'test_10665.txt',\n",
       " 'test_10666.txt',\n",
       " 'test_10667.txt',\n",
       " 'test_10668.txt',\n",
       " 'test_10669.txt',\n",
       " 'test_1067.txt',\n",
       " 'test_10670.txt',\n",
       " 'test_10671.txt',\n",
       " 'test_10672.txt',\n",
       " 'test_10673.txt',\n",
       " 'test_10674.txt',\n",
       " 'test_10675.txt',\n",
       " 'test_10676.txt',\n",
       " 'test_10677.txt',\n",
       " 'test_10678.txt',\n",
       " 'test_10679.txt',\n",
       " 'test_1068.txt',\n",
       " 'test_10680.txt',\n",
       " 'test_10681.txt',\n",
       " 'test_10682.txt',\n",
       " 'test_10683.txt',\n",
       " 'test_10684.txt',\n",
       " 'test_10685.txt',\n",
       " 'test_10686.txt',\n",
       " 'test_10687.txt',\n",
       " 'test_10688.txt',\n",
       " 'test_10689.txt',\n",
       " 'test_1069.txt',\n",
       " 'test_10690.txt',\n",
       " 'test_10691.txt',\n",
       " 'test_10692.txt',\n",
       " 'test_10693.txt',\n",
       " 'test_10694.txt',\n",
       " 'test_10695.txt',\n",
       " 'test_10696.txt',\n",
       " 'test_10697.txt',\n",
       " 'test_10698.txt',\n",
       " 'test_10699.txt',\n",
       " 'test_107.txt',\n",
       " 'test_1070.txt',\n",
       " 'test_10700.txt',\n",
       " 'test_10701.txt',\n",
       " 'test_10702.txt',\n",
       " 'test_10703.txt',\n",
       " 'test_10704.txt',\n",
       " 'test_10705.txt',\n",
       " 'test_10706.txt',\n",
       " 'test_10707.txt',\n",
       " 'test_10708.txt',\n",
       " 'test_10709.txt',\n",
       " 'test_1071.txt',\n",
       " 'test_10710.txt',\n",
       " 'test_10711.txt',\n",
       " 'test_10712.txt',\n",
       " 'test_10713.txt',\n",
       " 'test_10714.txt',\n",
       " 'test_10715.txt',\n",
       " 'test_10716.txt',\n",
       " 'test_10717.txt',\n",
       " 'test_10718.txt',\n",
       " 'test_10719.txt',\n",
       " 'test_1072.txt',\n",
       " 'test_10720.txt',\n",
       " 'test_10721.txt',\n",
       " 'test_10722.txt',\n",
       " 'test_10723.txt',\n",
       " 'test_10724.txt',\n",
       " 'test_10725.txt',\n",
       " 'test_10726.txt',\n",
       " 'test_10727.txt',\n",
       " 'test_10728.txt',\n",
       " 'test_10729.txt',\n",
       " 'test_1073.txt',\n",
       " 'test_10730.txt',\n",
       " 'test_10731.txt',\n",
       " 'test_10732.txt',\n",
       " 'test_10733.txt',\n",
       " 'test_10734.txt',\n",
       " 'test_10735.txt',\n",
       " 'test_10736.txt',\n",
       " 'test_10737.txt',\n",
       " 'test_10738.txt',\n",
       " 'test_10739.txt',\n",
       " 'test_1074.txt',\n",
       " 'test_10740.txt',\n",
       " 'test_10741.txt',\n",
       " 'test_10742.txt',\n",
       " 'test_10743.txt',\n",
       " 'test_10744.txt',\n",
       " 'test_10745.txt',\n",
       " 'test_10746.txt',\n",
       " 'test_10747.txt',\n",
       " 'test_10748.txt',\n",
       " 'test_10749.txt',\n",
       " 'test_1075.txt',\n",
       " 'test_10750.txt',\n",
       " 'test_10751.txt',\n",
       " 'test_10752.txt',\n",
       " 'test_10753.txt',\n",
       " 'test_10754.txt',\n",
       " 'test_10755.txt',\n",
       " 'test_10756.txt',\n",
       " 'test_10757.txt',\n",
       " 'test_10758.txt',\n",
       " 'test_10759.txt',\n",
       " 'test_1076.txt',\n",
       " 'test_10760.txt',\n",
       " 'test_10761.txt',\n",
       " 'test_10762.txt',\n",
       " 'test_10763.txt',\n",
       " 'test_10764.txt',\n",
       " 'test_10765.txt',\n",
       " 'test_10766.txt',\n",
       " 'test_10767.txt',\n",
       " 'test_10768.txt',\n",
       " 'test_10769.txt',\n",
       " 'test_1077.txt',\n",
       " 'test_10770.txt',\n",
       " 'test_10771.txt',\n",
       " 'test_10772.txt',\n",
       " 'test_10773.txt',\n",
       " 'test_10774.txt',\n",
       " 'test_10775.txt',\n",
       " 'test_10776.txt',\n",
       " 'test_10777.txt',\n",
       " 'test_10778.txt',\n",
       " 'test_10779.txt',\n",
       " 'test_1078.txt',\n",
       " 'test_10780.txt',\n",
       " 'test_10781.txt',\n",
       " 'test_10782.txt',\n",
       " 'test_10783.txt',\n",
       " 'test_10784.txt',\n",
       " 'test_10785.txt',\n",
       " 'test_10786.txt',\n",
       " 'test_10787.txt',\n",
       " 'test_10788.txt',\n",
       " 'test_10789.txt',\n",
       " 'test_1079.txt',\n",
       " 'test_10790.txt',\n",
       " 'test_10791.txt',\n",
       " 'test_10792.txt',\n",
       " 'test_10793.txt',\n",
       " 'test_10794.txt',\n",
       " 'test_10795.txt',\n",
       " 'test_10796.txt',\n",
       " 'test_10797.txt',\n",
       " 'test_10798.txt',\n",
       " 'test_10799.txt',\n",
       " 'test_108.txt',\n",
       " 'test_1080.txt',\n",
       " 'test_10800.txt',\n",
       " 'test_10801.txt',\n",
       " 'test_10802.txt',\n",
       " 'test_10803.txt',\n",
       " 'test_10804.txt',\n",
       " 'test_10805.txt',\n",
       " 'test_10806.txt',\n",
       " 'test_10807.txt',\n",
       " 'test_10808.txt',\n",
       " 'test_10809.txt',\n",
       " 'test_1081.txt',\n",
       " 'test_10810.txt',\n",
       " 'test_10811.txt',\n",
       " 'test_10812.txt',\n",
       " 'test_10813.txt',\n",
       " 'test_10814.txt',\n",
       " 'test_10815.txt',\n",
       " 'test_10816.txt',\n",
       " 'test_10817.txt',\n",
       " 'test_10818.txt',\n",
       " 'test_10819.txt',\n",
       " 'test_1082.txt',\n",
       " 'test_10820.txt',\n",
       " 'test_10821.txt',\n",
       " 'test_10822.txt',\n",
       " 'test_10823.txt',\n",
       " 'test_10824.txt',\n",
       " 'test_10825.txt',\n",
       " 'test_10826.txt',\n",
       " 'test_10827.txt',\n",
       " 'test_10828.txt',\n",
       " 'test_10829.txt',\n",
       " 'test_1083.txt',\n",
       " 'test_10830.txt',\n",
       " 'test_10831.txt',\n",
       " 'test_10832.txt',\n",
       " 'test_10833.txt',\n",
       " 'test_10834.txt',\n",
       " 'test_10835.txt',\n",
       " 'test_10836.txt',\n",
       " 'test_10837.txt',\n",
       " 'test_10838.txt',\n",
       " 'test_10839.txt',\n",
       " 'test_1084.txt',\n",
       " 'test_10840.txt',\n",
       " 'test_10841.txt',\n",
       " 'test_10842.txt',\n",
       " 'test_10843.txt',\n",
       " 'test_10844.txt',\n",
       " 'test_10845.txt',\n",
       " 'test_10846.txt',\n",
       " 'test_10847.txt',\n",
       " 'test_10848.txt',\n",
       " 'test_10849.txt',\n",
       " 'test_1085.txt',\n",
       " 'test_10850.txt',\n",
       " 'test_10851.txt',\n",
       " 'test_10852.txt',\n",
       " 'test_10853.txt',\n",
       " 'test_10854.txt',\n",
       " 'test_10855.txt',\n",
       " 'test_10856.txt',\n",
       " 'test_10857.txt',\n",
       " 'test_10858.txt',\n",
       " 'test_10859.txt',\n",
       " 'test_1086.txt',\n",
       " 'test_10860.txt',\n",
       " 'test_10861.txt',\n",
       " 'test_10862.txt',\n",
       " 'test_10863.txt',\n",
       " 'test_10864.txt',\n",
       " 'test_10865.txt',\n",
       " 'test_10866.txt',\n",
       " 'test_10867.txt',\n",
       " 'test_10868.txt',\n",
       " 'test_10869.txt',\n",
       " 'test_1087.txt',\n",
       " 'test_10870.txt',\n",
       " 'test_10871.txt',\n",
       " 'test_10872.txt',\n",
       " 'test_10873.txt',\n",
       " 'test_10874.txt',\n",
       " 'test_10875.txt',\n",
       " 'test_10876.txt',\n",
       " 'test_10877.txt',\n",
       " 'test_10878.txt',\n",
       " 'test_10879.txt',\n",
       " 'test_1088.txt',\n",
       " 'test_10880.txt',\n",
       " 'test_10881.txt',\n",
       " 'test_10882.txt',\n",
       " 'test_10883.txt',\n",
       " 'test_10884.txt',\n",
       " 'test_10885.txt',\n",
       " 'test_10886.txt',\n",
       " 'test_10887.txt',\n",
       " 'test_10888.txt',\n",
       " 'test_10889.txt',\n",
       " 'test_1089.txt',\n",
       " 'test_10890.txt',\n",
       " 'test_10891.txt',\n",
       " 'test_10892.txt',\n",
       " 'test_10893.txt',\n",
       " 'test_10894.txt',\n",
       " 'test_10895.txt',\n",
       " 'test_10896.txt',\n",
       " 'test_10897.txt',\n",
       " ...]"
      ]
     },
     "execution_count": 15,
     "metadata": {},
     "output_type": "execute_result"
    }
   ],
   "source": [
    "os.listdir('dataset/DATA/TEST/')"
   ]
  },
  {
   "cell_type": "code",
   "execution_count": null,
   "metadata": {},
   "outputs": [],
   "source": []
  }
 ],
 "metadata": {
  "kernelspec": {
   "display_name": "Python 3",
   "language": "python",
   "name": "python3"
  },
  "language_info": {
   "codemirror_mode": {
    "name": "ipython",
    "version": 3
   },
   "file_extension": ".py",
   "mimetype": "text/x-python",
   "name": "python",
   "nbconvert_exporter": "python",
   "pygments_lexer": "ipython3",
   "version": "3.6.5"
  }
 },
 "nbformat": 4,
 "nbformat_minor": 2
}
